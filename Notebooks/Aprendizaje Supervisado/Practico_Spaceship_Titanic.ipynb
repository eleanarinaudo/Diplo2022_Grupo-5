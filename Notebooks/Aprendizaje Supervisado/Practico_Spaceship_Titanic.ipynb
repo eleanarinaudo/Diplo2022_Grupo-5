{
 "cells": [
  {
   "cell_type": "markdown",
   "id": "bfed4464",
   "metadata": {
    "id": "bfed4464"
   },
   "source": [
    "<html>\n",
    "  <h1  align=\"center\";> Diplomatura en Ciencia de Datos, Aprendizaje Automático y sus Aplicaciones\n",
    "  </h1>\n",
    "<hr>\n",
    "  <h3 align=\"center\";>\n",
    "  Edición 2022\n",
    "  </h3>\n",
    "<hr>\n",
    "  <h1 align=\"center\";>\n",
    "  Aprendizaje Supervisado\n",
    "  </h1>\n",
    "  <h2 align=\"center\";>\n",
    "Spaceship Titanic 🚀\n",
    "  </h2>\n",
    "<hr>\n",
    "<div align=\"center\">\n",
    "    <img src='https://pic2.zhimg.com/v2-768b110090ef51c582c2f846adcb689a_r.jpg?source=172ae18b' style='height:100px;'>\n",
    "</div>\n",
    "</html>\n"
   ]
  },
  {
   "cell_type": "markdown",
   "id": "7d996e5b",
   "metadata": {
    "id": "7d996e5b"
   },
   "source": [
    "## Profesora del Práctico:\n",
    "- Fonseca, Rocio\n",
    "\n",
    "## Integrantes [ Grupo 5 ]:\n",
    "- Argüello, Leandro Ismael\n",
    "- Corral, Diego\n",
    "- Racciatti. Florencia \n",
    "- Rinaudo, Eleana\n",
    "- Romero, Ernest"
   ]
  },
  {
   "cell_type": "markdown",
   "id": "f6400a69",
   "metadata": {
    "id": "f6400a69"
   },
   "source": [
    "<html>\n",
    "<hr>\n",
    "  <h1  align=\"center\";>\n",
    "    Aprendizaje Supervisado\n",
    "  </h1>\n",
    "</html>\n",
    "\n",
    "Se busca realizar la prediccion de cuantos pasajeros fueron transportados a otra dimension cuando la nave accidentalmente ingreso a la anomalia espacio-temporal."
   ]
  },
  {
   "cell_type": "markdown",
   "id": "1ba8b119",
   "metadata": {
    "id": "1ba8b119"
   },
   "source": [
    "## Importación de librerías\n",
    "\n",
    "Importamos la librerías que vamos a utilizar en el práctico."
   ]
  },
  {
   "cell_type": "code",
   "execution_count": 1,
   "id": "69930f80",
   "metadata": {
    "id": "69930f80"
   },
   "outputs": [],
   "source": [
    "import numpy as np\n",
    "import pandas as pd\n",
    "import seaborn as sns\n",
    "import matplotlib.pyplot as plt\n",
    "\n",
    "sns.set_context(\"talk\")\n",
    "import warnings\n",
    "\n",
    "warnings.filterwarnings(\"ignore\")\n",
    "\n",
    "from sklearn.metrics import (\n",
    "    accuracy_score,\n",
    "    precision_score,\n",
    "    recall_score,\n",
    "    f1_score,\n",
    "    confusion_matrix,\n",
    "    plot_confusion_matrix,\n",
    "    classification_report,\n",
    ")\n",
    "from sklearn.model_selection import (\n",
    "    train_test_split,\n",
    "    ParameterSampler,\n",
    "    RandomizedSearchCV,\n",
    "    ParameterGrid,\n",
    "    GridSearchCV,\n",
    ")\n",
    "\n",
    "from curations import encoder_categorical_data_and_scaler_some_data"
   ]
  },
  {
   "cell_type": "markdown",
   "id": "ab450a05",
   "metadata": {
    "id": "ab450a05"
   },
   "source": [
    "## Conjuntos de datos\n",
    "\n",
    "Comenzamos adquiriendo los conjuntos de datos de entrenamiento y prueba del repositorio de GitHub del práctico."
   ]
  },
  {
   "cell_type": "code",
   "execution_count": 2,
   "id": "4fba64db",
   "metadata": {
    "colab": {
     "base_uri": "https://localhost:8080/",
     "height": 375
    },
    "id": "4fba64db",
    "outputId": "2d814953-ec6a-4aa6-a9d5-5ae3034ef323"
   },
   "outputs": [],
   "source": [
    "train = pd.read_csv(\"data/train.csv\")\n",
    "test = pd.read_csv(\"data/test.csv\")\n",
    "subm = pd.read_csv(\"data/submission.csv\")"
   ]
  },
  {
   "cell_type": "markdown",
   "id": "22264ef2",
   "metadata": {
    "id": "22264ef2"
   },
   "source": [
    "## Exploración de los datos\n",
    "\n",
    "Realizamos un vistazo de los primeros datos del `train`:\n",
    "\n",
    "\n"
   ]
  },
  {
   "cell_type": "code",
   "execution_count": 3,
   "id": "ace31a8c",
   "metadata": {
    "id": "ace31a8c",
    "scrolled": true
   },
   "outputs": [
    {
     "name": "stdout",
     "output_type": "stream",
     "text": [
      "(7823, 14)\n"
     ]
    },
    {
     "data": {
      "text/html": [
       "<div>\n",
       "<style scoped>\n",
       "    .dataframe tbody tr th:only-of-type {\n",
       "        vertical-align: middle;\n",
       "    }\n",
       "\n",
       "    .dataframe tbody tr th {\n",
       "        vertical-align: top;\n",
       "    }\n",
       "\n",
       "    .dataframe thead th {\n",
       "        text-align: right;\n",
       "    }\n",
       "</style>\n",
       "<table border=\"1\" class=\"dataframe\">\n",
       "  <thead>\n",
       "    <tr style=\"text-align: right;\">\n",
       "      <th></th>\n",
       "      <th>PassengerId</th>\n",
       "      <th>HomePlanet</th>\n",
       "      <th>CryoSleep</th>\n",
       "      <th>Cabin</th>\n",
       "      <th>Destination</th>\n",
       "      <th>Age</th>\n",
       "      <th>VIP</th>\n",
       "      <th>RoomService</th>\n",
       "      <th>FoodCourt</th>\n",
       "      <th>ShoppingMall</th>\n",
       "      <th>Spa</th>\n",
       "      <th>VRDeck</th>\n",
       "      <th>Name</th>\n",
       "      <th>Transported</th>\n",
       "    </tr>\n",
       "  </thead>\n",
       "  <tbody>\n",
       "    <tr>\n",
       "      <th>0</th>\n",
       "      <td>3430</td>\n",
       "      <td>Europa</td>\n",
       "      <td>False</td>\n",
       "      <td>C/123/P</td>\n",
       "      <td>TRAPPIST-1e</td>\n",
       "      <td>57.0</td>\n",
       "      <td>False</td>\n",
       "      <td>0.0</td>\n",
       "      <td>3859.0</td>\n",
       "      <td>13.0</td>\n",
       "      <td>195.0</td>\n",
       "      <td>3874.0</td>\n",
       "      <td>Azhah Tronsive</td>\n",
       "      <td>0</td>\n",
       "    </tr>\n",
       "    <tr>\n",
       "      <th>1</th>\n",
       "      <td>669</td>\n",
       "      <td>Mars</td>\n",
       "      <td>True</td>\n",
       "      <td>F/126/S</td>\n",
       "      <td>NaN</td>\n",
       "      <td>18.0</td>\n",
       "      <td>False</td>\n",
       "      <td>0.0</td>\n",
       "      <td>0.0</td>\n",
       "      <td>0.0</td>\n",
       "      <td>0.0</td>\n",
       "      <td>0.0</td>\n",
       "      <td>Roswal Sha</td>\n",
       "      <td>1</td>\n",
       "    </tr>\n",
       "    <tr>\n",
       "      <th>2</th>\n",
       "      <td>8430</td>\n",
       "      <td>Europa</td>\n",
       "      <td>True</td>\n",
       "      <td>B/343/S</td>\n",
       "      <td>TRAPPIST-1e</td>\n",
       "      <td>33.0</td>\n",
       "      <td>NaN</td>\n",
       "      <td>0.0</td>\n",
       "      <td>0.0</td>\n",
       "      <td>0.0</td>\n",
       "      <td>0.0</td>\n",
       "      <td>0.0</td>\n",
       "      <td>Shaiam Tinganking</td>\n",
       "      <td>1</td>\n",
       "    </tr>\n",
       "    <tr>\n",
       "      <th>3</th>\n",
       "      <td>6463</td>\n",
       "      <td>Earth</td>\n",
       "      <td>False</td>\n",
       "      <td>F/1420/P</td>\n",
       "      <td>TRAPPIST-1e</td>\n",
       "      <td>43.0</td>\n",
       "      <td>False</td>\n",
       "      <td>142.0</td>\n",
       "      <td>1208.0</td>\n",
       "      <td>0.0</td>\n",
       "      <td>0.0</td>\n",
       "      <td>204.0</td>\n",
       "      <td>Landa Grifford</td>\n",
       "      <td>0</td>\n",
       "    </tr>\n",
       "    <tr>\n",
       "      <th>4</th>\n",
       "      <td>85</td>\n",
       "      <td>Earth</td>\n",
       "      <td>False</td>\n",
       "      <td>G/9/P</td>\n",
       "      <td>TRAPPIST-1e</td>\n",
       "      <td>19.0</td>\n",
       "      <td>False</td>\n",
       "      <td>0.0</td>\n",
       "      <td>0.0</td>\n",
       "      <td>670.0</td>\n",
       "      <td>1.0</td>\n",
       "      <td>34.0</td>\n",
       "      <td>Gracy Dunnisey</td>\n",
       "      <td>0</td>\n",
       "    </tr>\n",
       "  </tbody>\n",
       "</table>\n",
       "</div>"
      ],
      "text/plain": [
       "   PassengerId HomePlanet CryoSleep     Cabin  Destination   Age    VIP  \\\n",
       "0         3430     Europa     False   C/123/P  TRAPPIST-1e  57.0  False   \n",
       "1          669       Mars      True   F/126/S          NaN  18.0  False   \n",
       "2         8430     Europa      True   B/343/S  TRAPPIST-1e  33.0    NaN   \n",
       "3         6463      Earth     False  F/1420/P  TRAPPIST-1e  43.0  False   \n",
       "4           85      Earth     False     G/9/P  TRAPPIST-1e  19.0  False   \n",
       "\n",
       "   RoomService  FoodCourt  ShoppingMall    Spa  VRDeck               Name  \\\n",
       "0          0.0     3859.0          13.0  195.0  3874.0     Azhah Tronsive   \n",
       "1          0.0        0.0           0.0    0.0     0.0         Roswal Sha   \n",
       "2          0.0        0.0           0.0    0.0     0.0  Shaiam Tinganking   \n",
       "3        142.0     1208.0           0.0    0.0   204.0     Landa Grifford   \n",
       "4          0.0        0.0         670.0    1.0    34.0     Gracy Dunnisey   \n",
       "\n",
       "   Transported  \n",
       "0            0  \n",
       "1            1  \n",
       "2            1  \n",
       "3            0  \n",
       "4            0  "
      ]
     },
     "execution_count": 3,
     "metadata": {},
     "output_type": "execute_result"
    }
   ],
   "source": [
    "print(train.shape)\n",
    "train.head()\n"
   ]
  },
  {
   "cell_type": "markdown",
   "id": "e2d17f17",
   "metadata": {
    "id": "e2d17f17"
   },
   "source": [
    "Realizamos un vistazo de los primeros datos del `test`:\n"
   ]
  },
  {
   "cell_type": "code",
   "execution_count": 4,
   "id": "15fc3855",
   "metadata": {
    "id": "15fc3855",
    "scrolled": true
   },
   "outputs": [
    {
     "name": "stdout",
     "output_type": "stream",
     "text": [
      "(870, 13)\n"
     ]
    },
    {
     "data": {
      "text/html": [
       "<div>\n",
       "<style scoped>\n",
       "    .dataframe tbody tr th:only-of-type {\n",
       "        vertical-align: middle;\n",
       "    }\n",
       "\n",
       "    .dataframe tbody tr th {\n",
       "        vertical-align: top;\n",
       "    }\n",
       "\n",
       "    .dataframe thead th {\n",
       "        text-align: right;\n",
       "    }\n",
       "</style>\n",
       "<table border=\"1\" class=\"dataframe\">\n",
       "  <thead>\n",
       "    <tr style=\"text-align: right;\">\n",
       "      <th></th>\n",
       "      <th>PassengerId</th>\n",
       "      <th>HomePlanet</th>\n",
       "      <th>CryoSleep</th>\n",
       "      <th>Cabin</th>\n",
       "      <th>Destination</th>\n",
       "      <th>Age</th>\n",
       "      <th>VIP</th>\n",
       "      <th>RoomService</th>\n",
       "      <th>FoodCourt</th>\n",
       "      <th>ShoppingMall</th>\n",
       "      <th>Spa</th>\n",
       "      <th>VRDeck</th>\n",
       "      <th>Name</th>\n",
       "    </tr>\n",
       "  </thead>\n",
       "  <tbody>\n",
       "    <tr>\n",
       "      <th>0</th>\n",
       "      <td>415</td>\n",
       "      <td>Europa</td>\n",
       "      <td>True</td>\n",
       "      <td>NaN</td>\n",
       "      <td>55 Cancri e</td>\n",
       "      <td>34.0</td>\n",
       "      <td>False</td>\n",
       "      <td>0.0</td>\n",
       "      <td>0.0</td>\n",
       "      <td>0.0</td>\n",
       "      <td>0.0</td>\n",
       "      <td>0.0</td>\n",
       "      <td>Minopus Taptiritty</td>\n",
       "    </tr>\n",
       "    <tr>\n",
       "      <th>1</th>\n",
       "      <td>8663</td>\n",
       "      <td>Earth</td>\n",
       "      <td>True</td>\n",
       "      <td>G/1489/S</td>\n",
       "      <td>PSO J318.5-22</td>\n",
       "      <td>13.0</td>\n",
       "      <td>False</td>\n",
       "      <td>0.0</td>\n",
       "      <td>0.0</td>\n",
       "      <td>0.0</td>\n",
       "      <td>0.0</td>\n",
       "      <td>0.0</td>\n",
       "      <td>Chrisa Francock</td>\n",
       "    </tr>\n",
       "    <tr>\n",
       "      <th>2</th>\n",
       "      <td>4524</td>\n",
       "      <td>Earth</td>\n",
       "      <td>False</td>\n",
       "      <td>G/776/P</td>\n",
       "      <td>TRAPPIST-1e</td>\n",
       "      <td>44.0</td>\n",
       "      <td>False</td>\n",
       "      <td>22.0</td>\n",
       "      <td>1.0</td>\n",
       "      <td>0.0</td>\n",
       "      <td>864.0</td>\n",
       "      <td>0.0</td>\n",
       "      <td>Elinda Miley</td>\n",
       "    </tr>\n",
       "    <tr>\n",
       "      <th>3</th>\n",
       "      <td>8246</td>\n",
       "      <td>Earth</td>\n",
       "      <td>False</td>\n",
       "      <td>E/577/S</td>\n",
       "      <td>PSO J318.5-22</td>\n",
       "      <td>63.0</td>\n",
       "      <td>False</td>\n",
       "      <td>0.0</td>\n",
       "      <td>0.0</td>\n",
       "      <td>80.0</td>\n",
       "      <td>0.0</td>\n",
       "      <td>2322.0</td>\n",
       "      <td>Karley Goods</td>\n",
       "    </tr>\n",
       "    <tr>\n",
       "      <th>4</th>\n",
       "      <td>2935</td>\n",
       "      <td>Europa</td>\n",
       "      <td>False</td>\n",
       "      <td>B/117/S</td>\n",
       "      <td>55 Cancri e</td>\n",
       "      <td>10.0</td>\n",
       "      <td>False</td>\n",
       "      <td>0.0</td>\n",
       "      <td>0.0</td>\n",
       "      <td>0.0</td>\n",
       "      <td>0.0</td>\n",
       "      <td>0.0</td>\n",
       "      <td>Arkard Sechausive</td>\n",
       "    </tr>\n",
       "  </tbody>\n",
       "</table>\n",
       "</div>"
      ],
      "text/plain": [
       "   PassengerId HomePlanet CryoSleep     Cabin    Destination   Age    VIP  \\\n",
       "0          415     Europa      True       NaN    55 Cancri e  34.0  False   \n",
       "1         8663      Earth      True  G/1489/S  PSO J318.5-22  13.0  False   \n",
       "2         4524      Earth     False   G/776/P    TRAPPIST-1e  44.0  False   \n",
       "3         8246      Earth     False   E/577/S  PSO J318.5-22  63.0  False   \n",
       "4         2935     Europa     False   B/117/S    55 Cancri e  10.0  False   \n",
       "\n",
       "   RoomService  FoodCourt  ShoppingMall    Spa  VRDeck                Name  \n",
       "0          0.0        0.0           0.0    0.0     0.0  Minopus Taptiritty  \n",
       "1          0.0        0.0           0.0    0.0     0.0     Chrisa Francock  \n",
       "2         22.0        1.0           0.0  864.0     0.0        Elinda Miley  \n",
       "3          0.0        0.0          80.0    0.0  2322.0        Karley Goods  \n",
       "4          0.0        0.0           0.0    0.0     0.0   Arkard Sechausive  "
      ]
     },
     "execution_count": 4,
     "metadata": {},
     "output_type": "execute_result"
    }
   ],
   "source": [
    "print(test.shape)\n",
    "test.head()\n"
   ]
  },
  {
   "cell_type": "markdown",
   "id": "c0d7667d",
   "metadata": {
    "id": "c0d7667d"
   },
   "source": [
    "Realizamos un vistazo de los primeros datos del `subm`:\n"
   ]
  },
  {
   "cell_type": "code",
   "execution_count": 5,
   "id": "bdef30db",
   "metadata": {
    "id": "bdef30db"
   },
   "outputs": [
    {
     "name": "stdout",
     "output_type": "stream",
     "text": [
      "(870, 2)\n"
     ]
    },
    {
     "data": {
      "text/html": [
       "<div>\n",
       "<style scoped>\n",
       "    .dataframe tbody tr th:only-of-type {\n",
       "        vertical-align: middle;\n",
       "    }\n",
       "\n",
       "    .dataframe tbody tr th {\n",
       "        vertical-align: top;\n",
       "    }\n",
       "\n",
       "    .dataframe thead th {\n",
       "        text-align: right;\n",
       "    }\n",
       "</style>\n",
       "<table border=\"1\" class=\"dataframe\">\n",
       "  <thead>\n",
       "    <tr style=\"text-align: right;\">\n",
       "      <th></th>\n",
       "      <th>PassengerId</th>\n",
       "      <th>Transported</th>\n",
       "    </tr>\n",
       "  </thead>\n",
       "  <tbody>\n",
       "    <tr>\n",
       "      <th>0</th>\n",
       "      <td>415</td>\n",
       "      <td>1</td>\n",
       "    </tr>\n",
       "    <tr>\n",
       "      <th>1</th>\n",
       "      <td>8663</td>\n",
       "      <td>1</td>\n",
       "    </tr>\n",
       "    <tr>\n",
       "      <th>2</th>\n",
       "      <td>4524</td>\n",
       "      <td>0</td>\n",
       "    </tr>\n",
       "    <tr>\n",
       "      <th>3</th>\n",
       "      <td>8246</td>\n",
       "      <td>0</td>\n",
       "    </tr>\n",
       "    <tr>\n",
       "      <th>4</th>\n",
       "      <td>2935</td>\n",
       "      <td>0</td>\n",
       "    </tr>\n",
       "  </tbody>\n",
       "</table>\n",
       "</div>"
      ],
      "text/plain": [
       "   PassengerId  Transported\n",
       "0          415            1\n",
       "1         8663            1\n",
       "2         4524            0\n",
       "3         8246            0\n",
       "4         2935            0"
      ]
     },
     "execution_count": 5,
     "metadata": {},
     "output_type": "execute_result"
    }
   ],
   "source": [
    "print(subm.shape)\n",
    "subm.head()"
   ]
  },
  {
   "cell_type": "markdown",
   "id": "0db61e0c",
   "metadata": {
    "id": "0db61e0c"
   },
   "source": [
    "## Verificamos si existen columnas nulas"
   ]
  },
  {
   "cell_type": "code",
   "execution_count": 6,
   "id": "546c093f",
   "metadata": {
    "id": "546c093f"
   },
   "outputs": [
    {
     "name": "stdout",
     "output_type": "stream",
     "text": [
      "TRAIN\n",
      "<class 'pandas.core.frame.DataFrame'>\n",
      "RangeIndex: 7823 entries, 0 to 7822\n",
      "Data columns (total 14 columns):\n",
      " #   Column        Non-Null Count  Dtype  \n",
      "---  ------        --------------  -----  \n",
      " 0   PassengerId   7823 non-null   int64  \n",
      " 1   HomePlanet    7644 non-null   object \n",
      " 2   CryoSleep     7627 non-null   object \n",
      " 3   Cabin         7639 non-null   object \n",
      " 4   Destination   7663 non-null   object \n",
      " 5   Age           7661 non-null   float64\n",
      " 6   VIP           7639 non-null   object \n",
      " 7   RoomService   7669 non-null   float64\n",
      " 8   FoodCourt     7668 non-null   float64\n",
      " 9   ShoppingMall  7635 non-null   float64\n",
      " 10  Spa           7665 non-null   float64\n",
      " 11  VRDeck        7654 non-null   float64\n",
      " 12  Name          7639 non-null   object \n",
      " 13  Transported   7823 non-null   int64  \n",
      "dtypes: float64(6), int64(2), object(6)\n",
      "memory usage: 855.8+ KB\n",
      "________________________________________\n",
      "TEST\n",
      "<class 'pandas.core.frame.DataFrame'>\n",
      "RangeIndex: 870 entries, 0 to 869\n",
      "Data columns (total 13 columns):\n",
      " #   Column        Non-Null Count  Dtype  \n",
      "---  ------        --------------  -----  \n",
      " 0   PassengerId   870 non-null    int64  \n",
      " 1   HomePlanet    848 non-null    object \n",
      " 2   CryoSleep     849 non-null    object \n",
      " 3   Cabin         855 non-null    object \n",
      " 4   Destination   848 non-null    object \n",
      " 5   Age           853 non-null    float64\n",
      " 6   VIP           851 non-null    object \n",
      " 7   RoomService   843 non-null    float64\n",
      " 8   FoodCourt     842 non-null    float64\n",
      " 9   ShoppingMall  850 non-null    float64\n",
      " 10  Spa           845 non-null    float64\n",
      " 11  VRDeck        851 non-null    float64\n",
      " 12  Name          854 non-null    object \n",
      "dtypes: float64(6), int64(1), object(6)\n",
      "memory usage: 88.5+ KB\n"
     ]
    }
   ],
   "source": [
    "print(\"TRAIN\")\n",
    "train.info()\n",
    "print(\"_\" * 40)\n",
    "print(\"TEST\")\n",
    "test.info()\n"
   ]
  },
  {
   "cell_type": "code",
   "execution_count": 7,
   "id": "4d25f183",
   "metadata": {
    "id": "4d25f183"
   },
   "outputs": [
    {
     "data": {
      "text/plain": [
       "0    460\n",
       "1    410\n",
       "Name: Transported, dtype: int64"
      ]
     },
     "execution_count": 7,
     "metadata": {},
     "output_type": "execute_result"
    }
   ],
   "source": [
    "subm.Transported.value_counts()"
   ]
  },
  {
   "cell_type": "code",
   "execution_count": 8,
   "id": "e04da629",
   "metadata": {
    "id": "e04da629"
   },
   "outputs": [
    {
     "data": {
      "text/plain": [
       "PassengerId    0\n",
       "Transported    0\n",
       "dtype: int64"
      ]
     },
     "execution_count": 8,
     "metadata": {},
     "output_type": "execute_result"
    }
   ],
   "source": [
    "subm.isnull().sum()"
   ]
  },
  {
   "cell_type": "markdown",
   "id": "c3f276fe",
   "metadata": {
    "id": "c3f276fe"
   },
   "source": [
    ">**Observación:**\n",
    ">\n",
    ">El `subm` esta balanceado y no presenta valores nulos."
   ]
  },
  {
   "cell_type": "markdown",
   "id": "e7151f5e",
   "metadata": {
    "id": "e7151f5e"
   },
   "source": [
    "------"
   ]
  },
  {
   "cell_type": "markdown",
   "id": "068a19ae",
   "metadata": {
    "id": "068a19ae"
   },
   "source": [
    "## Análisis de correlación de las variables de `train`."
   ]
  },
  {
   "cell_type": "code",
   "execution_count": 9,
   "id": "e62ec7d2",
   "metadata": {
    "id": "e62ec7d2"
   },
   "outputs": [
    {
     "data": {
      "image/png": "[encoded data removed]",
      "text/plain": [
       "<Figure size 720x504 with 2 Axes>"
      ]
     },
     "metadata": {
      "needs_background": "light"
     },
     "output_type": "display_data"
    }
   ],
   "source": [
    "plt.rcParams[\"figure.figsize\"] = (10, 7)\n",
    "sns.heatmap(train.corr(), annot=True, fmt=\".2f\", cmap=\"Purples\")\n",
    "plt.title(\"Heatmap for train\", fontsize=20)\n",
    "plt.show()\n"
   ]
  },
  {
   "cell_type": "markdown",
   "id": "4f9de3a3",
   "metadata": {
    "id": "4f9de3a3"
   },
   "source": [
    ">**Observación:**\n",
    ">\n",
    ">Se observan ciertas correlaciones aunque nada demasiado significativo, un máximo de -0.25."
   ]
  },
  {
   "cell_type": "markdown",
   "id": "acce35f5",
   "metadata": {
    "id": "acce35f5"
   },
   "source": [
    "### Observamos nulos y su porcentaje dentro de cada columna asi como en el total."
   ]
  },
  {
   "cell_type": "code",
   "execution_count": 10,
   "id": "55249faa",
   "metadata": {
    "id": "55249faa"
   },
   "outputs": [
    {
     "data": {
      "text/plain": [
       "PassengerId       0\n",
       "HomePlanet      179\n",
       "CryoSleep       196\n",
       "Cabin           184\n",
       "Destination     160\n",
       "Age             162\n",
       "VIP             184\n",
       "RoomService     154\n",
       "FoodCourt       155\n",
       "ShoppingMall    188\n",
       "Spa             158\n",
       "VRDeck          169\n",
       "Name            184\n",
       "Transported       0\n",
       "dtype: int64"
      ]
     },
     "execution_count": 10,
     "metadata": {},
     "output_type": "execute_result"
    }
   ],
   "source": [
    "missing_values = train.isna().sum()\n",
    "missing_values\n"
   ]
  },
  {
   "cell_type": "code",
   "execution_count": 11,
   "id": "0aaec4e9",
   "metadata": {
    "id": "0aaec4e9"
   },
   "outputs": [
    {
     "data": {
      "text/html": [
       "<style type=\"text/css\">\n",
       "#T_148f1_row0_col1 {\n",
       "  background-color: #023858;\n",
       "  color: #f1f1f1;\n",
       "}\n",
       "#T_148f1_row1_col1 {\n",
       "  background-color: #034369;\n",
       "  color: #f1f1f1;\n",
       "}\n",
       "#T_148f1_row2_col1, #T_148f1_row3_col1, #T_148f1_row4_col1 {\n",
       "  background-color: #034871;\n",
       "  color: #f1f1f1;\n",
       "}\n",
       "#T_148f1_row5_col1 {\n",
       "  background-color: #034f7d;\n",
       "  color: #f1f1f1;\n",
       "}\n",
       "#T_148f1_row6_col1 {\n",
       "  background-color: #045c90;\n",
       "  color: #f1f1f1;\n",
       "}\n",
       "#T_148f1_row7_col1 {\n",
       "  background-color: #04629a;\n",
       "  color: #f1f1f1;\n",
       "}\n",
       "#T_148f1_row8_col1 {\n",
       "  background-color: #04649e;\n",
       "  color: #f1f1f1;\n",
       "}\n",
       "#T_148f1_row9_col1 {\n",
       "  background-color: #0566a0;\n",
       "  color: #f1f1f1;\n",
       "}\n",
       "#T_148f1_row10_col1 {\n",
       "  background-color: #0569a4;\n",
       "  color: #f1f1f1;\n",
       "}\n",
       "#T_148f1_row11_col1 {\n",
       "  background-color: #0569a5;\n",
       "  color: #f1f1f1;\n",
       "}\n",
       "#T_148f1_row12_col1, #T_148f1_row13_col1 {\n",
       "  background-color: #fff7fb;\n",
       "  color: #000000;\n",
       "}\n",
       "</style>\n",
       "<table id=\"T_148f1\">\n",
       "  <thead>\n",
       "    <tr>\n",
       "      <th class=\"blank level0\" >&nbsp;</th>\n",
       "      <th id=\"T_148f1_level0_col0\" class=\"col_heading level0 col0\" >Total_nuls_train</th>\n",
       "      <th id=\"T_148f1_level0_col1\" class=\"col_heading level0 col1\" >Percent</th>\n",
       "    </tr>\n",
       "  </thead>\n",
       "  <tbody>\n",
       "    <tr>\n",
       "      <th id=\"T_148f1_level0_row0\" class=\"row_heading level0 row0\" >CryoSleep</th>\n",
       "      <td id=\"T_148f1_row0_col0\" class=\"data row0 col0\" >196</td>\n",
       "      <td id=\"T_148f1_row0_col1\" class=\"data row0 col1\" >2.505000</td>\n",
       "    </tr>\n",
       "    <tr>\n",
       "      <th id=\"T_148f1_level0_row1\" class=\"row_heading level0 row1\" >ShoppingMall</th>\n",
       "      <td id=\"T_148f1_row1_col0\" class=\"data row1 col0\" >188</td>\n",
       "      <td id=\"T_148f1_row1_col1\" class=\"data row1 col1\" >2.403000</td>\n",
       "    </tr>\n",
       "    <tr>\n",
       "      <th id=\"T_148f1_level0_row2\" class=\"row_heading level0 row2\" >Cabin</th>\n",
       "      <td id=\"T_148f1_row2_col0\" class=\"data row2 col0\" >184</td>\n",
       "      <td id=\"T_148f1_row2_col1\" class=\"data row2 col1\" >2.352000</td>\n",
       "    </tr>\n",
       "    <tr>\n",
       "      <th id=\"T_148f1_level0_row3\" class=\"row_heading level0 row3\" >VIP</th>\n",
       "      <td id=\"T_148f1_row3_col0\" class=\"data row3 col0\" >184</td>\n",
       "      <td id=\"T_148f1_row3_col1\" class=\"data row3 col1\" >2.352000</td>\n",
       "    </tr>\n",
       "    <tr>\n",
       "      <th id=\"T_148f1_level0_row4\" class=\"row_heading level0 row4\" >Name</th>\n",
       "      <td id=\"T_148f1_row4_col0\" class=\"data row4 col0\" >184</td>\n",
       "      <td id=\"T_148f1_row4_col1\" class=\"data row4 col1\" >2.352000</td>\n",
       "    </tr>\n",
       "    <tr>\n",
       "      <th id=\"T_148f1_level0_row5\" class=\"row_heading level0 row5\" >HomePlanet</th>\n",
       "      <td id=\"T_148f1_row5_col0\" class=\"data row5 col0\" >179</td>\n",
       "      <td id=\"T_148f1_row5_col1\" class=\"data row5 col1\" >2.288000</td>\n",
       "    </tr>\n",
       "    <tr>\n",
       "      <th id=\"T_148f1_level0_row6\" class=\"row_heading level0 row6\" >VRDeck</th>\n",
       "      <td id=\"T_148f1_row6_col0\" class=\"data row6 col0\" >169</td>\n",
       "      <td id=\"T_148f1_row6_col1\" class=\"data row6 col1\" >2.160000</td>\n",
       "    </tr>\n",
       "    <tr>\n",
       "      <th id=\"T_148f1_level0_row7\" class=\"row_heading level0 row7\" >Age</th>\n",
       "      <td id=\"T_148f1_row7_col0\" class=\"data row7 col0\" >162</td>\n",
       "      <td id=\"T_148f1_row7_col1\" class=\"data row7 col1\" >2.071000</td>\n",
       "    </tr>\n",
       "    <tr>\n",
       "      <th id=\"T_148f1_level0_row8\" class=\"row_heading level0 row8\" >Destination</th>\n",
       "      <td id=\"T_148f1_row8_col0\" class=\"data row8 col0\" >160</td>\n",
       "      <td id=\"T_148f1_row8_col1\" class=\"data row8 col1\" >2.045000</td>\n",
       "    </tr>\n",
       "    <tr>\n",
       "      <th id=\"T_148f1_level0_row9\" class=\"row_heading level0 row9\" >Spa</th>\n",
       "      <td id=\"T_148f1_row9_col0\" class=\"data row9 col0\" >158</td>\n",
       "      <td id=\"T_148f1_row9_col1\" class=\"data row9 col1\" >2.020000</td>\n",
       "    </tr>\n",
       "    <tr>\n",
       "      <th id=\"T_148f1_level0_row10\" class=\"row_heading level0 row10\" >FoodCourt</th>\n",
       "      <td id=\"T_148f1_row10_col0\" class=\"data row10 col0\" >155</td>\n",
       "      <td id=\"T_148f1_row10_col1\" class=\"data row10 col1\" >1.981000</td>\n",
       "    </tr>\n",
       "    <tr>\n",
       "      <th id=\"T_148f1_level0_row11\" class=\"row_heading level0 row11\" >RoomService</th>\n",
       "      <td id=\"T_148f1_row11_col0\" class=\"data row11 col0\" >154</td>\n",
       "      <td id=\"T_148f1_row11_col1\" class=\"data row11 col1\" >1.969000</td>\n",
       "    </tr>\n",
       "    <tr>\n",
       "      <th id=\"T_148f1_level0_row12\" class=\"row_heading level0 row12\" >PassengerId</th>\n",
       "      <td id=\"T_148f1_row12_col0\" class=\"data row12 col0\" >0</td>\n",
       "      <td id=\"T_148f1_row12_col1\" class=\"data row12 col1\" >0.000000</td>\n",
       "    </tr>\n",
       "    <tr>\n",
       "      <th id=\"T_148f1_level0_row13\" class=\"row_heading level0 row13\" >Transported</th>\n",
       "      <td id=\"T_148f1_row13_col0\" class=\"data row13 col0\" >0</td>\n",
       "      <td id=\"T_148f1_row13_col1\" class=\"data row13 col1\" >0.000000</td>\n",
       "    </tr>\n",
       "  </tbody>\n",
       "</table>\n"
      ],
      "text/plain": [
       "<pandas.io.formats.style.Styler at 0x1c70f0cda30>"
      ]
     },
     "execution_count": 11,
     "metadata": {},
     "output_type": "execute_result"
    }
   ],
   "source": [
    "total = train.isnull().sum().sort_values(ascending=False)\n",
    "percent = (\n",
    "    (train.isnull().sum() / train.isnull().count()).sort_values(ascending=False)\n",
    ") * 100\n",
    "missing_data = pd.concat(\n",
    "    [total, round(percent, 3)], axis=1, keys=[\"Total_nuls_train\", \"Percent\"]\n",
    ")\n",
    "missing_data.style.background_gradient(subset=[\"Percent\"])\n"
   ]
  },
  {
   "cell_type": "code",
   "execution_count": 12,
   "id": "fee4f726",
   "metadata": {
    "id": "fee4f726"
   },
   "outputs": [
    {
     "name": "stdout",
     "output_type": "stream",
     "text": [
      " Total de nulos en train:  2073 \n",
      " Porcentaje de nulos en train:  26.5\n"
     ]
    }
   ],
   "source": [
    "total_nuls = missing_data.Total_nuls_train.sum()\n",
    "perc_nuls = (total_nuls * 100) / len(train)\n",
    "print(\n",
    "    \" Total de nulos en train: \",\n",
    "    total_nuls,\n",
    "    \"\\n Porcentaje de nulos en train: \",\n",
    "    round(perc_nuls, 2),\n",
    ")\n"
   ]
  },
  {
   "cell_type": "markdown",
   "id": "3f6ebb0d",
   "metadata": {
    "id": "3f6ebb0d"
   },
   "source": [
    ">**Observación:**\n",
    ">\n",
    ">Basandonos en que el numero de datos nulos total representa un 26.5% del total d datos de `train`, es posible que tengamos que imputar datos. "
   ]
  },
  {
   "cell_type": "code",
   "execution_count": 13,
   "id": "2ea165f1",
   "metadata": {
    "id": "2ea165f1"
   },
   "outputs": [
    {
     "data": {
      "text/plain": [
       "PassengerId       int64\n",
       "HomePlanet       object\n",
       "CryoSleep        object\n",
       "Cabin            object\n",
       "Destination      object\n",
       "Age             float64\n",
       "VIP              object\n",
       "RoomService     float64\n",
       "FoodCourt       float64\n",
       "ShoppingMall    float64\n",
       "Spa             float64\n",
       "VRDeck          float64\n",
       "Name             object\n",
       "Transported       int64\n",
       "dtype: object"
      ]
     },
     "execution_count": 13,
     "metadata": {},
     "output_type": "execute_result"
    }
   ],
   "source": [
    "train.dtypes\n"
   ]
  },
  {
   "cell_type": "code",
   "execution_count": 14,
   "id": "fc0662af",
   "metadata": {
    "id": "fc0662af"
   },
   "outputs": [],
   "source": [
    "plt.rcParams[\"figure.figsize\"] = (7, 5)\n"
   ]
  },
  {
   "cell_type": "markdown",
   "id": "bad8cd25",
   "metadata": {
    "id": "bad8cd25"
   },
   "source": [
    "<html>\n",
    "  <h2  align=\"center\";>\n",
    "    HomePlanet\n",
    "  </h2>\n",
    "</html>"
   ]
  },
  {
   "cell_type": "code",
   "execution_count": 15,
   "id": "c7d30bc1",
   "metadata": {
    "id": "c7d30bc1",
    "scrolled": true
   },
   "outputs": [],
   "source": [
    "#sns.histplot(data=train, x=\"HomePlanet\", hue=\"Transported\", palette=\"ocean\")"
   ]
  },
  {
   "cell_type": "markdown",
   "id": "6e6d902d",
   "metadata": {
    "id": "6e6d902d"
   },
   "source": [
    "<html>\n",
    "  <h2  align=\"center\";>\n",
    "    Destination\n",
    "  </h2>\n",
    "</html>"
   ]
  },
  {
   "cell_type": "code",
   "execution_count": 16,
   "id": "c69b6761",
   "metadata": {
    "id": "c69b6761",
    "scrolled": true
   },
   "outputs": [],
   "source": [
    "#sns.histplot(data=train, x=\"Destination\", hue=\"Transported\", palette=\"ocean\")"
   ]
  },
  {
   "cell_type": "markdown",
   "id": "28b1efcd",
   "metadata": {
    "id": "28b1efcd"
   },
   "source": [
    "<html>\n",
    "  <h2  align=\"center\";>\n",
    "    Age\n",
    "  </h2>\n",
    "</html>"
   ]
  },
  {
   "cell_type": "code",
   "execution_count": 17,
   "id": "1925b293",
   "metadata": {
    "id": "1925b293",
    "scrolled": true
   },
   "outputs": [],
   "source": [
    "# Age\n",
    "#sns.histplot(data=train, x=\"Age\", hue=\"Transported\", palette=\"ocean\")"
   ]
  },
  {
   "cell_type": "markdown",
   "id": "31a85f8f",
   "metadata": {
    "id": "31a85f8f"
   },
   "source": [
    "<html>\n",
    "  <h2  align=\"center\";>\n",
    "    Cabin\n",
    "  </h2>\n",
    "</html>"
   ]
  },
  {
   "cell_type": "code",
   "execution_count": 18,
   "id": "8ca40d46",
   "metadata": {
    "id": "8ca40d46",
    "scrolled": true
   },
   "outputs": [
    {
     "data": {
      "text/plain": [
       "G/734/S     8\n",
       "B/201/P     7\n",
       "F/1194/P    7\n",
       "E/13/S      7\n",
       "G/117/S     6\n",
       "           ..\n",
       "B/120/P     1\n",
       "G/6/S       1\n",
       "G/80/S      1\n",
       "G/631/S     1\n",
       "E/253/P     1\n",
       "Name: Cabin, Length: 6009, dtype: int64"
      ]
     },
     "execution_count": 18,
     "metadata": {},
     "output_type": "execute_result"
    }
   ],
   "source": [
    "train.Cabin.value_counts()"
   ]
  },
  {
   "cell_type": "markdown",
   "id": "a205aba7",
   "metadata": {
    "id": "a205aba7"
   },
   "source": [
    "### Analisis descriptivo de variables que no seran graficadas.  \n",
    "- Las variables `CryoSleep` y `VIP` son de tipo booleano.  \n",
    "- La variable `Cabin` representa el numero de cabina con el detalle de si es en babor(P) o estribor(S).  \n",
    "- La variable `Name` representa el nombre completo del pasajero.  \n",
    "- La variable `PassengerId` representa el id del pasajero.  "
   ]
  },
  {
   "cell_type": "markdown",
   "id": "e0f4d095",
   "metadata": {
    "id": "e0f4d095"
   },
   "source": [
    "#### Análisis de variables referidas al monto que el pasajero ha facturado en cada uno de los muchos servicios de lujo del Spaceship Titanic."
   ]
  },
  {
   "cell_type": "markdown",
   "id": "4204b6a6",
   "metadata": {
    "id": "4204b6a6"
   },
   "source": [
    "<html>\n",
    "  <h2  align=\"center\";>\n",
    "    RoomService\n",
    "  </h2>\n",
    "</html>"
   ]
  },
  {
   "cell_type": "code",
   "execution_count": 19,
   "id": "386e3d3b",
   "metadata": {
    "id": "386e3d3b",
    "scrolled": true
   },
   "outputs": [
    {
     "data": {
      "image/png": "[encoded data removed]",
      "text/plain": [
       "<Figure size 504x360 with 1 Axes>"
      ]
     },
     "metadata": {
      "needs_background": "light"
     },
     "output_type": "display_data"
    }
   ],
   "source": [
    "sns.boxenplot(train.RoomService, showfliers=False);\n"
   ]
  },
  {
   "cell_type": "markdown",
   "id": "366013c6",
   "metadata": {
    "id": "366013c6"
   },
   "source": [
    "<html>\n",
    "  <h2  align=\"center\";>\n",
    "    FoodCourt\n",
    "  </h2>\n",
    "</html>"
   ]
  },
  {
   "cell_type": "code",
   "execution_count": 20,
   "id": "787028c5",
   "metadata": {
    "id": "787028c5",
    "scrolled": true
   },
   "outputs": [
    {
     "data": {
      "image/png": "[encoded data removed]",
      "text/plain": [
       "<Figure size 504x360 with 1 Axes>"
      ]
     },
     "metadata": {
      "needs_background": "light"
     },
     "output_type": "display_data"
    }
   ],
   "source": [
    "sns.boxenplot(train.FoodCourt, showfliers=False);\n"
   ]
  },
  {
   "cell_type": "markdown",
   "id": "6766acea",
   "metadata": {
    "id": "6766acea"
   },
   "source": [
    "<html>\n",
    "  <h2  align=\"center\";>\n",
    "    ShoppingMall\n",
    "  </h2>\n",
    "</html>"
   ]
  },
  {
   "cell_type": "code",
   "execution_count": 21,
   "id": "456df91a",
   "metadata": {
    "id": "456df91a",
    "scrolled": true
   },
   "outputs": [
    {
     "data": {
      "image/png": "[encoded data removed]",
      "text/plain": [
       "<Figure size 504x360 with 1 Axes>"
      ]
     },
     "metadata": {
      "needs_background": "light"
     },
     "output_type": "display_data"
    }
   ],
   "source": [
    "sns.boxenplot(train.ShoppingMall, showfliers=False);\n"
   ]
  },
  {
   "cell_type": "markdown",
   "id": "870ee77c",
   "metadata": {
    "id": "870ee77c"
   },
   "source": [
    "<html>\n",
    "  <h2  align=\"center\";>\n",
    "    Spa\n",
    "  </h2>\n",
    "</html>"
   ]
  },
  {
   "cell_type": "code",
   "execution_count": 22,
   "id": "r5zGNYeIPYp6",
   "metadata": {
    "id": "r5zGNYeIPYp6"
   },
   "outputs": [
    {
     "data": {
      "image/png": "[encoded data removed]",
      "text/plain": [
       "<Figure size 504x360 with 1 Axes>"
      ]
     },
     "metadata": {
      "needs_background": "light"
     },
     "output_type": "display_data"
    }
   ],
   "source": [
    "sns.boxenplot(train.Spa, showfliers=False);"
   ]
  },
  {
   "cell_type": "markdown",
   "id": "338d6a0d",
   "metadata": {
    "id": "338d6a0d"
   },
   "source": [
    "<html>\n",
    "  <h2  align=\"center\";>\n",
    "    VRDeck\n",
    "  </h2>\n",
    "</html>"
   ]
  },
  {
   "cell_type": "code",
   "execution_count": 23,
   "id": "c4fe1494",
   "metadata": {
    "id": "c4fe1494"
   },
   "outputs": [
    {
     "data": {
      "text/plain": [
       "<AxesSubplot:xlabel='VRDeck'>"
      ]
     },
     "execution_count": 23,
     "metadata": {},
     "output_type": "execute_result"
    },
    {
     "data": {
      "image/png": "[encoded data removed]",
      "text/plain": [
       "<Figure size 504x360 with 1 Axes>"
      ]
     },
     "metadata": {
      "needs_background": "light"
     },
     "output_type": "display_data"
    }
   ],
   "source": [
    "sns.boxenplot(train.VRDeck, showfliers=False)\n"
   ]
  },
  {
   "cell_type": "markdown",
   "id": "2f0e4a84",
   "metadata": {
    "id": "2f0e4a84"
   },
   "source": [
    ">**Observaciones:**\n",
    ">\n",
    ">- A partir de las observaciones realizadas sobre los datos, podemos decir que las variables correspondientes al grupo de Servicios de lujo del Spaceship Titanic, contiene datos un poco desbalanceados con Outliers.  \n",
    ">- A demas las variables `CryoSleep` y `VIP` son del tipo booleano, por lo cual probablemente deban descartarse o ser reemplazadas por valores numericos como 0 y 1.  \n",
    ">- Las columnas categoricas `Homeplanet` y `Destination` aportan una posible clasificación del `target`.  \n",
    ">- La columna `Cabin` puede ser usada para generar nuevas features.\n"
   ]
  },
  {
   "cell_type": "markdown",
   "id": "e5aece65",
   "metadata": {
    "id": "e5aece65"
   },
   "source": [
    "#### Posibles acciones\n",
    "\n",
    "- Usar metodo de imputacion de valores faltantes a los nulos de cada variable.  \n",
    "- Probar una limpieza de outliers de las columnas de montos en lujos.  \n",
    "- Codificar las variables categoricas.  \n",
    "- Con respecto a las dos variables tipo boolean, ver si combiene codificarlas o transformarlas en 0 y 1.  \n",
    "- Elegir columnas a excluir como por Name y PassengerId."
   ]
  },
  {
   "cell_type": "markdown",
   "id": "73db0017",
   "metadata": {
    "id": "73db0017"
   },
   "source": [
    "__________"
   ]
  },
  {
   "cell_type": "markdown",
   "id": "79795cb1",
   "metadata": {
    "id": "79795cb1"
   },
   "source": [
    "### Columnas elegidas para el análisis en `train`."
   ]
  },
  {
   "cell_type": "markdown",
   "id": "e4c32160",
   "metadata": {
    "id": "e4c32160"
   },
   "source": [
    "Creemos que las siguientes columnas aportan informacion útil para la clasificación y caracterización de los pasajeros en el analisis del problema.  \n",
    "**Columnas elegidas:**\n",
    "    "
   ]
  },
  {
   "cell_type": "code",
   "execution_count": 24,
   "id": "2ea4b18b",
   "metadata": {
    "id": "2ea4b18b",
    "scrolled": true
   },
   "outputs": [
    {
     "data": {
      "text/plain": [
       "['HomePlanet',\n",
       " 'CryoSleep',\n",
       " 'Destination',\n",
       " 'Age',\n",
       " 'VIP',\n",
       " 'RoomService',\n",
       " 'FoodCourt',\n",
       " 'ShoppingMall',\n",
       " 'Spa',\n",
       " 'VRDeck',\n",
       " 'Cabin']"
      ]
     },
     "execution_count": 24,
     "metadata": {},
     "output_type": "execute_result"
    }
   ],
   "source": [
    "colums = [\n",
    "    \"HomePlanet\",\n",
    "    \"CryoSleep\",\n",
    "    \"Destination\",\n",
    "    \"Age\",\n",
    "    \"VIP\",\n",
    "    \"RoomService\",\n",
    "    \"FoodCourt\",\n",
    "    \"ShoppingMall\",\n",
    "    \"Spa\",\n",
    "    \"VRDeck\",\n",
    "    \"Cabin\",\n",
    "]\n",
    "\n",
    "colums"
   ]
  },
  {
   "cell_type": "markdown",
   "id": "62c1f6f9",
   "metadata": {
    "id": "62c1f6f9"
   },
   "source": [
    "Eliminamos las columnas `Name` y `PassengerId` debido a que contienen datos que son únicos o keys."
   ]
  },
  {
   "cell_type": "code",
   "execution_count": 25,
   "id": "cccbb76b",
   "metadata": {
    "id": "cccbb76b"
   },
   "outputs": [],
   "source": [
    "train = train.drop(columns=[\"Name\", \"PassengerId\"])\n"
   ]
  },
  {
   "cell_type": "code",
   "execution_count": 26,
   "id": "28448b8d",
   "metadata": {
    "id": "28448b8d"
   },
   "outputs": [
    {
     "data": {
      "text/plain": [
       "(7823, 12)"
      ]
     },
     "execution_count": 26,
     "metadata": {},
     "output_type": "execute_result"
    }
   ],
   "source": [
    "train.shape\n"
   ]
  },
  {
   "cell_type": "markdown",
   "id": "3ddbfe76",
   "metadata": {
    "id": "3ddbfe76"
   },
   "source": [
    "### Tratamiento de la variable `Cabin` y generación de nuevas features en `train`."
   ]
  },
  {
   "cell_type": "code",
   "execution_count": 27,
   "id": "401f0ee9",
   "metadata": {
    "id": "401f0ee9"
   },
   "outputs": [
    {
     "data": {
      "text/plain": [
       "0        C/123/P\n",
       "1        F/126/S\n",
       "2        B/343/S\n",
       "3       F/1420/P\n",
       "4          G/9/P\n",
       "          ...   \n",
       "7818    F/1319/S\n",
       "7819     G/459/S\n",
       "7820    F/1772/P\n",
       "7821     E/253/P\n",
       "7822     B/270/P\n",
       "Name: Cabin, Length: 7823, dtype: object"
      ]
     },
     "execution_count": 27,
     "metadata": {},
     "output_type": "execute_result"
    }
   ],
   "source": [
    "train[\"Cabin\"]\n"
   ]
  },
  {
   "cell_type": "code",
   "execution_count": 28,
   "id": "d3188acb",
   "metadata": {
    "id": "d3188acb"
   },
   "outputs": [],
   "source": [
    "new_features = train[\"Cabin\"].str.split(pat=\"/\", expand=True)\n"
   ]
  },
  {
   "cell_type": "code",
   "execution_count": 29,
   "id": "df35b9b8",
   "metadata": {
    "id": "df35b9b8",
    "scrolled": true
   },
   "outputs": [
    {
     "data": {
      "text/html": [
       "<div>\n",
       "<style scoped>\n",
       "    .dataframe tbody tr th:only-of-type {\n",
       "        vertical-align: middle;\n",
       "    }\n",
       "\n",
       "    .dataframe tbody tr th {\n",
       "        vertical-align: top;\n",
       "    }\n",
       "\n",
       "    .dataframe thead th {\n",
       "        text-align: right;\n",
       "    }\n",
       "</style>\n",
       "<table border=\"1\" class=\"dataframe\">\n",
       "  <thead>\n",
       "    <tr style=\"text-align: right;\">\n",
       "      <th></th>\n",
       "      <th>Deck_of_spaceship</th>\n",
       "      <th>Number_of_cabin</th>\n",
       "      <th>Port_or_Starboard</th>\n",
       "    </tr>\n",
       "  </thead>\n",
       "  <tbody>\n",
       "    <tr>\n",
       "      <th>0</th>\n",
       "      <td>C</td>\n",
       "      <td>123</td>\n",
       "      <td>P</td>\n",
       "    </tr>\n",
       "    <tr>\n",
       "      <th>1</th>\n",
       "      <td>F</td>\n",
       "      <td>126</td>\n",
       "      <td>S</td>\n",
       "    </tr>\n",
       "    <tr>\n",
       "      <th>2</th>\n",
       "      <td>B</td>\n",
       "      <td>343</td>\n",
       "      <td>S</td>\n",
       "    </tr>\n",
       "    <tr>\n",
       "      <th>3</th>\n",
       "      <td>F</td>\n",
       "      <td>1420</td>\n",
       "      <td>P</td>\n",
       "    </tr>\n",
       "    <tr>\n",
       "      <th>4</th>\n",
       "      <td>G</td>\n",
       "      <td>9</td>\n",
       "      <td>P</td>\n",
       "    </tr>\n",
       "  </tbody>\n",
       "</table>\n",
       "</div>"
      ],
      "text/plain": [
       "  Deck_of_spaceship Number_of_cabin Port_or_Starboard\n",
       "0                 C             123                 P\n",
       "1                 F             126                 S\n",
       "2                 B             343                 S\n",
       "3                 F            1420                 P\n",
       "4                 G               9                 P"
      ]
     },
     "execution_count": 29,
     "metadata": {},
     "output_type": "execute_result"
    }
   ],
   "source": [
    "new_features = new_features.rename(\n",
    "    columns={0: \"Deck_of_spaceship\", 1: \"Number_of_cabin\", 2: \"Port_or_Starboard\"}\n",
    ")\n",
    "new_features.head()\n"
   ]
  },
  {
   "cell_type": "markdown",
   "id": "52f39363",
   "metadata": {
    "id": "52f39363"
   },
   "source": [
    "Eliminamos la columna `Cabin` ya que las nuevas features aportan información con mas peso.\n"
   ]
  },
  {
   "cell_type": "code",
   "execution_count": 30,
   "id": "e0197ab6",
   "metadata": {
    "id": "e0197ab6"
   },
   "outputs": [],
   "source": [
    "train = train.drop(columns=\"Cabin\")\n"
   ]
  },
  {
   "cell_type": "code",
   "execution_count": 31,
   "id": "3600917b",
   "metadata": {
    "id": "3600917b",
    "scrolled": true
   },
   "outputs": [
    {
     "data": {
      "text/html": [
       "<div>\n",
       "<style scoped>\n",
       "    .dataframe tbody tr th:only-of-type {\n",
       "        vertical-align: middle;\n",
       "    }\n",
       "\n",
       "    .dataframe tbody tr th {\n",
       "        vertical-align: top;\n",
       "    }\n",
       "\n",
       "    .dataframe thead th {\n",
       "        text-align: right;\n",
       "    }\n",
       "</style>\n",
       "<table border=\"1\" class=\"dataframe\">\n",
       "  <thead>\n",
       "    <tr style=\"text-align: right;\">\n",
       "      <th></th>\n",
       "      <th>HomePlanet</th>\n",
       "      <th>CryoSleep</th>\n",
       "      <th>Destination</th>\n",
       "      <th>Age</th>\n",
       "      <th>VIP</th>\n",
       "      <th>RoomService</th>\n",
       "      <th>FoodCourt</th>\n",
       "      <th>ShoppingMall</th>\n",
       "      <th>Spa</th>\n",
       "      <th>VRDeck</th>\n",
       "      <th>Transported</th>\n",
       "      <th>Deck_of_spaceship</th>\n",
       "      <th>Number_of_cabin</th>\n",
       "      <th>Port_or_Starboard</th>\n",
       "    </tr>\n",
       "  </thead>\n",
       "  <tbody>\n",
       "    <tr>\n",
       "      <th>0</th>\n",
       "      <td>Europa</td>\n",
       "      <td>False</td>\n",
       "      <td>TRAPPIST-1e</td>\n",
       "      <td>57.0</td>\n",
       "      <td>False</td>\n",
       "      <td>0.0</td>\n",
       "      <td>3859.0</td>\n",
       "      <td>13.0</td>\n",
       "      <td>195.0</td>\n",
       "      <td>3874.0</td>\n",
       "      <td>0</td>\n",
       "      <td>C</td>\n",
       "      <td>123</td>\n",
       "      <td>P</td>\n",
       "    </tr>\n",
       "    <tr>\n",
       "      <th>1</th>\n",
       "      <td>Mars</td>\n",
       "      <td>True</td>\n",
       "      <td>NaN</td>\n",
       "      <td>18.0</td>\n",
       "      <td>False</td>\n",
       "      <td>0.0</td>\n",
       "      <td>0.0</td>\n",
       "      <td>0.0</td>\n",
       "      <td>0.0</td>\n",
       "      <td>0.0</td>\n",
       "      <td>1</td>\n",
       "      <td>F</td>\n",
       "      <td>126</td>\n",
       "      <td>S</td>\n",
       "    </tr>\n",
       "    <tr>\n",
       "      <th>2</th>\n",
       "      <td>Europa</td>\n",
       "      <td>True</td>\n",
       "      <td>TRAPPIST-1e</td>\n",
       "      <td>33.0</td>\n",
       "      <td>NaN</td>\n",
       "      <td>0.0</td>\n",
       "      <td>0.0</td>\n",
       "      <td>0.0</td>\n",
       "      <td>0.0</td>\n",
       "      <td>0.0</td>\n",
       "      <td>1</td>\n",
       "      <td>B</td>\n",
       "      <td>343</td>\n",
       "      <td>S</td>\n",
       "    </tr>\n",
       "    <tr>\n",
       "      <th>3</th>\n",
       "      <td>Earth</td>\n",
       "      <td>False</td>\n",
       "      <td>TRAPPIST-1e</td>\n",
       "      <td>43.0</td>\n",
       "      <td>False</td>\n",
       "      <td>142.0</td>\n",
       "      <td>1208.0</td>\n",
       "      <td>0.0</td>\n",
       "      <td>0.0</td>\n",
       "      <td>204.0</td>\n",
       "      <td>0</td>\n",
       "      <td>F</td>\n",
       "      <td>1420</td>\n",
       "      <td>P</td>\n",
       "    </tr>\n",
       "    <tr>\n",
       "      <th>4</th>\n",
       "      <td>Earth</td>\n",
       "      <td>False</td>\n",
       "      <td>TRAPPIST-1e</td>\n",
       "      <td>19.0</td>\n",
       "      <td>False</td>\n",
       "      <td>0.0</td>\n",
       "      <td>0.0</td>\n",
       "      <td>670.0</td>\n",
       "      <td>1.0</td>\n",
       "      <td>34.0</td>\n",
       "      <td>0</td>\n",
       "      <td>G</td>\n",
       "      <td>9</td>\n",
       "      <td>P</td>\n",
       "    </tr>\n",
       "  </tbody>\n",
       "</table>\n",
       "</div>"
      ],
      "text/plain": [
       "  HomePlanet CryoSleep  Destination   Age    VIP  RoomService  FoodCourt  \\\n",
       "0     Europa     False  TRAPPIST-1e  57.0  False          0.0     3859.0   \n",
       "1       Mars      True          NaN  18.0  False          0.0        0.0   \n",
       "2     Europa      True  TRAPPIST-1e  33.0    NaN          0.0        0.0   \n",
       "3      Earth     False  TRAPPIST-1e  43.0  False        142.0     1208.0   \n",
       "4      Earth     False  TRAPPIST-1e  19.0  False          0.0        0.0   \n",
       "\n",
       "   ShoppingMall    Spa  VRDeck  Transported Deck_of_spaceship Number_of_cabin  \\\n",
       "0          13.0  195.0  3874.0            0                 C             123   \n",
       "1           0.0    0.0     0.0            1                 F             126   \n",
       "2           0.0    0.0     0.0            1                 B             343   \n",
       "3           0.0    0.0   204.0            0                 F            1420   \n",
       "4         670.0    1.0    34.0            0                 G               9   \n",
       "\n",
       "  Port_or_Starboard  \n",
       "0                 P  \n",
       "1                 S  \n",
       "2                 S  \n",
       "3                 P  \n",
       "4                 P  "
      ]
     },
     "execution_count": 31,
     "metadata": {},
     "output_type": "execute_result"
    }
   ],
   "source": [
    "train = train.join(new_features, lsuffix=\"_caller\", rsuffix=\"_other\")\n",
    "train.head()\n"
   ]
  },
  {
   "cell_type": "markdown",
   "id": "40c9431d",
   "metadata": {
    "id": "40c9431d"
   },
   "source": [
    "**Nuevas features Agregadas:**  \n",
    "- `Deck_of_spaceship`: Cubierta  \n",
    "- `Number_of_cabin`: Número de Cabina  \n",
    "- `Port_or_Starboard`:  S = Babor ó P = Estribor  \n"
   ]
  },
  {
   "cell_type": "markdown",
   "id": "c8ad6d64",
   "metadata": {
    "id": "c8ad6d64"
   },
   "source": [
    "__________________________________"
   ]
  },
  {
   "cell_type": "markdown",
   "id": "66107fa3",
   "metadata": {
    "id": "66107fa3"
   },
   "source": [
    "## Imputación de variables categoricas."
   ]
  },
  {
   "cell_type": "markdown",
   "id": "a19aa3fa",
   "metadata": {
    "id": "a19aa3fa"
   },
   "source": [
    "Las siguientes variables categóricas las imputamos por el dato de la **moda**."
   ]
  },
  {
   "cell_type": "markdown",
   "id": "927bda81",
   "metadata": {
    "id": "927bda81"
   },
   "source": [
    "<html>\n",
    "  <h2  align=\"center\";>\n",
    "    HomePlanet\n",
    "  </h2>\n",
    "</html>"
   ]
  },
  {
   "cell_type": "code",
   "execution_count": 32,
   "id": "09d349a9",
   "metadata": {
    "id": "09d349a9",
    "scrolled": true
   },
   "outputs": [
    {
     "data": {
      "text/plain": [
       "Earth     4114\n",
       "Europa    1935\n",
       "Mars      1595\n",
       "Name: HomePlanet, dtype: int64"
      ]
     },
     "execution_count": 32,
     "metadata": {},
     "output_type": "execute_result"
    }
   ],
   "source": [
    "train.HomePlanet.value_counts()\n"
   ]
  },
  {
   "cell_type": "code",
   "execution_count": 33,
   "id": "dbc0012e",
   "metadata": {
    "id": "dbc0012e"
   },
   "outputs": [
    {
     "data": {
      "text/plain": [
       "179"
      ]
     },
     "execution_count": 33,
     "metadata": {},
     "output_type": "execute_result"
    }
   ],
   "source": [
    "train.HomePlanet.isnull().sum()\n"
   ]
  },
  {
   "cell_type": "code",
   "execution_count": 34,
   "id": "c47718c5",
   "metadata": {
    "id": "c47718c5",
    "scrolled": true
   },
   "outputs": [
    {
     "data": {
      "text/plain": [
       "(7823, 14)"
      ]
     },
     "execution_count": 34,
     "metadata": {},
     "output_type": "execute_result"
    }
   ],
   "source": [
    "train.shape\n"
   ]
  },
  {
   "cell_type": "code",
   "execution_count": 35,
   "id": "535846d9",
   "metadata": {
    "id": "535846d9"
   },
   "outputs": [],
   "source": [
    "train[\"HomePlanet\"] = train[\"HomePlanet\"].replace(np.nan, \"Earth\")\n"
   ]
  },
  {
   "cell_type": "markdown",
   "id": "81accc82",
   "metadata": {
    "id": "81accc82"
   },
   "source": [
    "<html>\n",
    "  <h2  align=\"center\";>\n",
    "    CryoSleep\n",
    "  </h2>\n",
    "</html>"
   ]
  },
  {
   "cell_type": "code",
   "execution_count": 36,
   "id": "7d81e32b",
   "metadata": {
    "id": "7d81e32b",
    "scrolled": true
   },
   "outputs": [
    {
     "data": {
      "text/plain": [
       "False    4871\n",
       "True     2756\n",
       "Name: CryoSleep, dtype: int64"
      ]
     },
     "execution_count": 36,
     "metadata": {},
     "output_type": "execute_result"
    }
   ],
   "source": [
    "train.CryoSleep.value_counts()\n"
   ]
  },
  {
   "cell_type": "code",
   "execution_count": 37,
   "id": "6c6b0a02",
   "metadata": {
    "id": "6c6b0a02"
   },
   "outputs": [
    {
     "data": {
      "text/plain": [
       "196"
      ]
     },
     "execution_count": 37,
     "metadata": {},
     "output_type": "execute_result"
    }
   ],
   "source": [
    "train.CryoSleep.isnull().sum()\n"
   ]
  },
  {
   "cell_type": "code",
   "execution_count": 38,
   "id": "b16e34f5",
   "metadata": {
    "id": "b16e34f5"
   },
   "outputs": [],
   "source": [
    "train[\"CryoSleep\"] = train[\"CryoSleep\"].replace(np.nan, \"False\")\n"
   ]
  },
  {
   "cell_type": "code",
   "execution_count": 39,
   "id": "3a2df682",
   "metadata": {
    "id": "3a2df682"
   },
   "outputs": [],
   "source": [
    "train[\"CryoSleep\"] = train.CryoSleep.astype(str)\n"
   ]
  },
  {
   "cell_type": "code",
   "execution_count": 40,
   "id": "45d8e6f6",
   "metadata": {
    "id": "45d8e6f6"
   },
   "outputs": [],
   "source": [
    "train[\"CryoSleep\"] = train.CryoSleep.replace(\"False\", \"False\")\n"
   ]
  },
  {
   "cell_type": "markdown",
   "id": "8602ffe3",
   "metadata": {
    "id": "8602ffe3"
   },
   "source": [
    "<html>\n",
    "  <h2  align=\"center\";>\n",
    "    Destination\n",
    "  </h2>\n",
    "</html>"
   ]
  },
  {
   "cell_type": "code",
   "execution_count": 41,
   "id": "c554447e",
   "metadata": {
    "id": "c554447e",
    "scrolled": true
   },
   "outputs": [
    {
     "data": {
      "text/plain": [
       "TRAPPIST-1e      5316\n",
       "55 Cancri e      1625\n",
       "PSO J318.5-22     722\n",
       "Name: Destination, dtype: int64"
      ]
     },
     "execution_count": 41,
     "metadata": {},
     "output_type": "execute_result"
    }
   ],
   "source": [
    "train.Destination.value_counts()\n"
   ]
  },
  {
   "cell_type": "code",
   "execution_count": 42,
   "id": "9ee13f60",
   "metadata": {
    "id": "9ee13f60",
    "scrolled": true
   },
   "outputs": [
    {
     "data": {
      "text/plain": [
       "160"
      ]
     },
     "execution_count": 42,
     "metadata": {},
     "output_type": "execute_result"
    }
   ],
   "source": [
    "train.Destination.isnull().sum()\n"
   ]
  },
  {
   "cell_type": "code",
   "execution_count": 43,
   "id": "0b0b45a7",
   "metadata": {
    "id": "0b0b45a7"
   },
   "outputs": [],
   "source": [
    "train[\"Destination\"] = train[\"Destination\"].replace(np.nan, \"TRAPPIST-1e\")\n"
   ]
  },
  {
   "cell_type": "markdown",
   "id": "523ffee3",
   "metadata": {
    "id": "523ffee3"
   },
   "source": [
    "<html>\n",
    "  <h2  align=\"center\";>\n",
    "    VIP\n",
    "  </h2>\n",
    "</html>"
   ]
  },
  {
   "cell_type": "code",
   "execution_count": 44,
   "id": "698608e4",
   "metadata": {
    "id": "698608e4",
    "scrolled": true
   },
   "outputs": [
    {
     "data": {
      "text/plain": [
       "False    7456\n",
       "True      183\n",
       "Name: VIP, dtype: int64"
      ]
     },
     "execution_count": 44,
     "metadata": {},
     "output_type": "execute_result"
    }
   ],
   "source": [
    "train.VIP.value_counts()\n"
   ]
  },
  {
   "cell_type": "code",
   "execution_count": 45,
   "id": "ea375549",
   "metadata": {
    "id": "ea375549",
    "scrolled": true
   },
   "outputs": [
    {
     "data": {
      "text/plain": [
       "184"
      ]
     },
     "execution_count": 45,
     "metadata": {},
     "output_type": "execute_result"
    }
   ],
   "source": [
    "train.VIP.isnull().sum()\n"
   ]
  },
  {
   "cell_type": "code",
   "execution_count": 46,
   "id": "a165adcb",
   "metadata": {
    "id": "a165adcb"
   },
   "outputs": [],
   "source": [
    "train[\"VIP\"] = train[\"VIP\"].replace(np.nan, \"False\")\n"
   ]
  },
  {
   "cell_type": "code",
   "execution_count": 47,
   "id": "7dfa6615",
   "metadata": {
    "id": "7dfa6615"
   },
   "outputs": [],
   "source": [
    "train[\"VIP\"] = train.VIP.astype(str)\n"
   ]
  },
  {
   "cell_type": "code",
   "execution_count": 48,
   "id": "4e61f89a",
   "metadata": {
    "id": "4e61f89a"
   },
   "outputs": [],
   "source": [
    "train[\"VIP\"] = train.CryoSleep.replace(\"False\", \"False\")\n"
   ]
  },
  {
   "cell_type": "markdown",
   "id": "6e0cbe10",
   "metadata": {
    "id": "6e0cbe10"
   },
   "source": [
    "<html>\n",
    "  <h2  align=\"center\";>\n",
    "    Deck_of_spaceship\n",
    "  </h2>\n",
    "</html>"
   ]
  },
  {
   "cell_type": "code",
   "execution_count": 49,
   "id": "ea980de1",
   "metadata": {
    "id": "ea980de1"
   },
   "outputs": [
    {
     "data": {
      "text/plain": [
       "F    2499\n",
       "G    2294\n",
       "E     792\n",
       "B     698\n",
       "C     680\n",
       "D     435\n",
       "A     237\n",
       "T       4\n",
       "Name: Deck_of_spaceship, dtype: int64"
      ]
     },
     "execution_count": 49,
     "metadata": {},
     "output_type": "execute_result"
    }
   ],
   "source": [
    "train.Deck_of_spaceship.value_counts()\n"
   ]
  },
  {
   "cell_type": "code",
   "execution_count": 50,
   "id": "477e3de8",
   "metadata": {
    "id": "477e3de8"
   },
   "outputs": [
    {
     "data": {
      "text/plain": [
       "184"
      ]
     },
     "execution_count": 50,
     "metadata": {},
     "output_type": "execute_result"
    }
   ],
   "source": [
    "train.Deck_of_spaceship.isnull().sum()\n"
   ]
  },
  {
   "cell_type": "code",
   "execution_count": 51,
   "id": "f5f80ca7",
   "metadata": {
    "id": "f5f80ca7"
   },
   "outputs": [],
   "source": [
    "train[\"Deck_of_spaceship\"] = train[\"Deck_of_spaceship\"].replace(np.nan, \"F\")\n"
   ]
  },
  {
   "cell_type": "markdown",
   "id": "437e23ee",
   "metadata": {
    "id": "437e23ee"
   },
   "source": [
    "<html>\n",
    "  <h2  align=\"center\";>\n",
    "    Port_or_Starboard\n",
    "  </h2>\n",
    "</html>"
   ]
  },
  {
   "cell_type": "code",
   "execution_count": 52,
   "id": "a192a947",
   "metadata": {
    "id": "a192a947"
   },
   "outputs": [
    {
     "data": {
      "text/plain": [
       "S    3839\n",
       "P    3800\n",
       "Name: Port_or_Starboard, dtype: int64"
      ]
     },
     "execution_count": 52,
     "metadata": {},
     "output_type": "execute_result"
    }
   ],
   "source": [
    "train.Port_or_Starboard.value_counts()\n"
   ]
  },
  {
   "cell_type": "code",
   "execution_count": 53,
   "id": "026ff683",
   "metadata": {
    "id": "026ff683",
    "scrolled": true
   },
   "outputs": [
    {
     "data": {
      "text/plain": [
       "184"
      ]
     },
     "execution_count": 53,
     "metadata": {},
     "output_type": "execute_result"
    }
   ],
   "source": [
    "train.Port_or_Starboard.isnull().sum()\n"
   ]
  },
  {
   "cell_type": "code",
   "execution_count": 54,
   "id": "56750a8d",
   "metadata": {
    "id": "56750a8d"
   },
   "outputs": [],
   "source": [
    "train[\"Port_or_Starboard\"] = train[\"Port_or_Starboard\"].replace(np.nan, \"S\")\n"
   ]
  },
  {
   "cell_type": "markdown",
   "id": "65a451c5",
   "metadata": {
    "id": "65a451c5"
   },
   "source": [
    "_________"
   ]
  },
  {
   "cell_type": "markdown",
   "id": "8d05ac0e",
   "metadata": {
    "id": "8d05ac0e"
   },
   "source": [
    "## Imputación de valores nulos en `train` para las columnas numéricas."
   ]
  },
  {
   "cell_type": "code",
   "execution_count": 55,
   "id": "7fbade05",
   "metadata": {
    "id": "7fbade05"
   },
   "outputs": [
    {
     "data": {
      "text/html": [
       "<style type=\"text/css\">\n",
       "#T_22252_row0_col1, #T_22252_row1_col1 {\n",
       "  width: 10em;\n",
       "  background: linear-gradient(90deg, lightblue 100.0%, transparent 100.0%);\n",
       "}\n",
       "#T_22252_row2_col1 {\n",
       "  width: 10em;\n",
       "  background: linear-gradient(90deg, lightblue 91.7%, transparent 91.7%);\n",
       "}\n",
       "#T_22252_row3_col1 {\n",
       "  width: 10em;\n",
       "  background: linear-gradient(90deg, lightblue 87.5%, transparent 87.5%);\n",
       "}\n",
       "#T_22252_row4_col1, #T_22252_row5_col1, #T_22252_row6_col1 {\n",
       "  width: 10em;\n",
       "  background: linear-gradient(90deg, lightblue 83.3%, transparent 83.3%);\n",
       "}\n",
       "#T_22252_row7_col1, #T_22252_row8_col1, #T_22252_row9_col1, #T_22252_row10_col1, #T_22252_row11_col1, #T_22252_row12_col1, #T_22252_row13_col1 {\n",
       "  width: 10em;\n",
       "}\n",
       "</style>\n",
       "<table id=\"T_22252\">\n",
       "  <thead>\n",
       "    <tr>\n",
       "      <th class=\"blank level0\" >&nbsp;</th>\n",
       "      <th id=\"T_22252_level0_col0\" class=\"col_heading level0 col0\" >Total_nulls_test</th>\n",
       "      <th id=\"T_22252_level0_col1\" class=\"col_heading level0 col1\" >Percent</th>\n",
       "    </tr>\n",
       "  </thead>\n",
       "  <tbody>\n",
       "    <tr>\n",
       "      <th id=\"T_22252_level0_row0\" class=\"row_heading level0 row0\" >ShoppingMall</th>\n",
       "      <td id=\"T_22252_row0_col0\" class=\"data row0 col0\" >188</td>\n",
       "      <td id=\"T_22252_row0_col1\" class=\"data row0 col1\" >0.024000</td>\n",
       "    </tr>\n",
       "    <tr>\n",
       "      <th id=\"T_22252_level0_row1\" class=\"row_heading level0 row1\" >Number_of_cabin</th>\n",
       "      <td id=\"T_22252_row1_col0\" class=\"data row1 col0\" >184</td>\n",
       "      <td id=\"T_22252_row1_col1\" class=\"data row1 col1\" >0.024000</td>\n",
       "    </tr>\n",
       "    <tr>\n",
       "      <th id=\"T_22252_level0_row2\" class=\"row_heading level0 row2\" >VRDeck</th>\n",
       "      <td id=\"T_22252_row2_col0\" class=\"data row2 col0\" >169</td>\n",
       "      <td id=\"T_22252_row2_col1\" class=\"data row2 col1\" >0.022000</td>\n",
       "    </tr>\n",
       "    <tr>\n",
       "      <th id=\"T_22252_level0_row3\" class=\"row_heading level0 row3\" >Age</th>\n",
       "      <td id=\"T_22252_row3_col0\" class=\"data row3 col0\" >162</td>\n",
       "      <td id=\"T_22252_row3_col1\" class=\"data row3 col1\" >0.021000</td>\n",
       "    </tr>\n",
       "    <tr>\n",
       "      <th id=\"T_22252_level0_row4\" class=\"row_heading level0 row4\" >Spa</th>\n",
       "      <td id=\"T_22252_row4_col0\" class=\"data row4 col0\" >158</td>\n",
       "      <td id=\"T_22252_row4_col1\" class=\"data row4 col1\" >0.020000</td>\n",
       "    </tr>\n",
       "    <tr>\n",
       "      <th id=\"T_22252_level0_row5\" class=\"row_heading level0 row5\" >FoodCourt</th>\n",
       "      <td id=\"T_22252_row5_col0\" class=\"data row5 col0\" >155</td>\n",
       "      <td id=\"T_22252_row5_col1\" class=\"data row5 col1\" >0.020000</td>\n",
       "    </tr>\n",
       "    <tr>\n",
       "      <th id=\"T_22252_level0_row6\" class=\"row_heading level0 row6\" >RoomService</th>\n",
       "      <td id=\"T_22252_row6_col0\" class=\"data row6 col0\" >154</td>\n",
       "      <td id=\"T_22252_row6_col1\" class=\"data row6 col1\" >0.020000</td>\n",
       "    </tr>\n",
       "    <tr>\n",
       "      <th id=\"T_22252_level0_row7\" class=\"row_heading level0 row7\" >HomePlanet</th>\n",
       "      <td id=\"T_22252_row7_col0\" class=\"data row7 col0\" >0</td>\n",
       "      <td id=\"T_22252_row7_col1\" class=\"data row7 col1\" >0.000000</td>\n",
       "    </tr>\n",
       "    <tr>\n",
       "      <th id=\"T_22252_level0_row8\" class=\"row_heading level0 row8\" >CryoSleep</th>\n",
       "      <td id=\"T_22252_row8_col0\" class=\"data row8 col0\" >0</td>\n",
       "      <td id=\"T_22252_row8_col1\" class=\"data row8 col1\" >0.000000</td>\n",
       "    </tr>\n",
       "    <tr>\n",
       "      <th id=\"T_22252_level0_row9\" class=\"row_heading level0 row9\" >Destination</th>\n",
       "      <td id=\"T_22252_row9_col0\" class=\"data row9 col0\" >0</td>\n",
       "      <td id=\"T_22252_row9_col1\" class=\"data row9 col1\" >0.000000</td>\n",
       "    </tr>\n",
       "    <tr>\n",
       "      <th id=\"T_22252_level0_row10\" class=\"row_heading level0 row10\" >VIP</th>\n",
       "      <td id=\"T_22252_row10_col0\" class=\"data row10 col0\" >0</td>\n",
       "      <td id=\"T_22252_row10_col1\" class=\"data row10 col1\" >0.000000</td>\n",
       "    </tr>\n",
       "    <tr>\n",
       "      <th id=\"T_22252_level0_row11\" class=\"row_heading level0 row11\" >Transported</th>\n",
       "      <td id=\"T_22252_row11_col0\" class=\"data row11 col0\" >0</td>\n",
       "      <td id=\"T_22252_row11_col1\" class=\"data row11 col1\" >0.000000</td>\n",
       "    </tr>\n",
       "    <tr>\n",
       "      <th id=\"T_22252_level0_row12\" class=\"row_heading level0 row12\" >Deck_of_spaceship</th>\n",
       "      <td id=\"T_22252_row12_col0\" class=\"data row12 col0\" >0</td>\n",
       "      <td id=\"T_22252_row12_col1\" class=\"data row12 col1\" >0.000000</td>\n",
       "    </tr>\n",
       "    <tr>\n",
       "      <th id=\"T_22252_level0_row13\" class=\"row_heading level0 row13\" >Port_or_Starboard</th>\n",
       "      <td id=\"T_22252_row13_col0\" class=\"data row13 col0\" >0</td>\n",
       "      <td id=\"T_22252_row13_col1\" class=\"data row13 col1\" >0.000000</td>\n",
       "    </tr>\n",
       "  </tbody>\n",
       "</table>\n"
      ],
      "text/plain": [
       "<pandas.io.formats.style.Styler at 0x1c70ef78700>"
      ]
     },
     "execution_count": 55,
     "metadata": {},
     "output_type": "execute_result"
    }
   ],
   "source": [
    "total = train.isnull().sum().sort_values(ascending=False)\n",
    "percent = (train.isnull().sum() / train.isnull().count()).sort_values(ascending=False)\n",
    "missing_data = pd.concat(\n",
    "    [total, round(percent, 3)], axis=1, keys=[\"Total_nulls_test\", \"Percent\"]\n",
    ")\n",
    "missing_data.style.bar(subset=[\"Percent\"], color=\"lightblue\", vmin=0)\n"
   ]
  },
  {
   "cell_type": "code",
   "execution_count": 56,
   "id": "58d4939e",
   "metadata": {
    "id": "58d4939e"
   },
   "outputs": [
    {
     "data": {
      "text/plain": [
       "Total_nulls_test      int64\n",
       "Percent             float64\n",
       "dtype: object"
      ]
     },
     "execution_count": 56,
     "metadata": {},
     "output_type": "execute_result"
    }
   ],
   "source": [
    "missing_data.dtypes\n"
   ]
  },
  {
   "cell_type": "code",
   "execution_count": 57,
   "id": "57d9f374",
   "metadata": {
    "id": "57d9f374"
   },
   "outputs": [],
   "source": [
    "num_cols = [\n",
    "    \"Age\",\n",
    "    \"RoomService\",\n",
    "    \"FoodCourt\",\n",
    "    \"ShoppingMall\",\n",
    "    \"Spa\",\n",
    "    \"VRDeck\",\n",
    "    \"Number_of_cabin\",\n",
    "]\n"
   ]
  },
  {
   "cell_type": "markdown",
   "id": "961c79df",
   "metadata": {
    "id": "961c79df"
   },
   "source": [
    "### Utilizando `IterativeImputer`, imputamos valores faltantes de las columnas numéricas de `train`."
   ]
  },
  {
   "cell_type": "code",
   "execution_count": 58,
   "id": "5d5540db",
   "metadata": {
    "id": "5d5540db"
   },
   "outputs": [],
   "source": [
    "from sklearn.experimental import enable_iterative_imputer\n",
    "from sklearn.neighbors import KNeighborsRegressor\n",
    "from sklearn.impute import IterativeImputer\n",
    "from sklearn.preprocessing import StandardScaler\n"
   ]
  },
  {
   "cell_type": "code",
   "execution_count": 59,
   "id": "e319fe94",
   "metadata": {
    "id": "e319fe94"
   },
   "outputs": [],
   "source": [
    "mice_imputer = IterativeImputer(random_state=0, estimator=KNeighborsRegressor())\n",
    "\n",
    "train[\"Age\"] = StandardScaler().fit_transform(train[[\"Age\"]])\n",
    "train[\"FoodCourt\"] = StandardScaler().fit_transform(train[[\"FoodCourt\"]])\n",
    "train[\"RoomService\"] = StandardScaler().fit_transform(train[[\"RoomService\"]])\n",
    "train[\"ShoppingMall\"] = StandardScaler().fit_transform(train[[\"ShoppingMall\"]])\n",
    "train[\"Spa\"] = StandardScaler().fit_transform(train[[\"Spa\"]])\n",
    "train[\"VRDeck\"] = StandardScaler().fit_transform(train[[\"VRDeck\"]])\n",
    "train[\"Number_of_cabin\"] = StandardScaler().fit_transform(train[[\"Number_of_cabin\"]])\n",
    "\n",
    "train[\n",
    "    [\n",
    "        \"Age\",\n",
    "        \"FoodCourt\",\n",
    "        \"RoomService\",\n",
    "        \"ShoppingMall\",\n",
    "        \"Spa\",\n",
    "        \"VRDeck\",\n",
    "        \"Number_of_cabin\",\n",
    "    ]\n",
    "] = mice_imputer.fit_transform(\n",
    "    train[\n",
    "        [\n",
    "            \"Age\",\n",
    "            \"FoodCourt\",\n",
    "            \"RoomService\",\n",
    "            \"ShoppingMall\",\n",
    "            \"Spa\",\n",
    "            \"VRDeck\",\n",
    "            \"Number_of_cabin\",\n",
    "        ]\n",
    "    ]\n",
    ")\n"
   ]
  },
  {
   "cell_type": "code",
   "execution_count": 60,
   "id": "7e8c838e",
   "metadata": {
    "id": "7e8c838e"
   },
   "outputs": [
    {
     "data": {
      "text/html": [
       "<style type=\"text/css\">\n",
       "#T_87c05_row0_col1, #T_87c05_row1_col1, #T_87c05_row2_col1, #T_87c05_row3_col1, #T_87c05_row4_col1, #T_87c05_row5_col1, #T_87c05_row6_col1, #T_87c05_row7_col1, #T_87c05_row8_col1, #T_87c05_row9_col1, #T_87c05_row10_col1, #T_87c05_row11_col1, #T_87c05_row12_col1, #T_87c05_row13_col1 {\n",
       "  width: 10em;\n",
       "}\n",
       "</style>\n",
       "<table id=\"T_87c05\">\n",
       "  <thead>\n",
       "    <tr>\n",
       "      <th class=\"blank level0\" >&nbsp;</th>\n",
       "      <th id=\"T_87c05_level0_col0\" class=\"col_heading level0 col0\" >Total_nulls_train</th>\n",
       "      <th id=\"T_87c05_level0_col1\" class=\"col_heading level0 col1\" >Percent</th>\n",
       "    </tr>\n",
       "  </thead>\n",
       "  <tbody>\n",
       "    <tr>\n",
       "      <th id=\"T_87c05_level0_row0\" class=\"row_heading level0 row0\" >HomePlanet</th>\n",
       "      <td id=\"T_87c05_row0_col0\" class=\"data row0 col0\" >0</td>\n",
       "      <td id=\"T_87c05_row0_col1\" class=\"data row0 col1\" >0.000000</td>\n",
       "    </tr>\n",
       "    <tr>\n",
       "      <th id=\"T_87c05_level0_row1\" class=\"row_heading level0 row1\" >CryoSleep</th>\n",
       "      <td id=\"T_87c05_row1_col0\" class=\"data row1 col0\" >0</td>\n",
       "      <td id=\"T_87c05_row1_col1\" class=\"data row1 col1\" >0.000000</td>\n",
       "    </tr>\n",
       "    <tr>\n",
       "      <th id=\"T_87c05_level0_row2\" class=\"row_heading level0 row2\" >Destination</th>\n",
       "      <td id=\"T_87c05_row2_col0\" class=\"data row2 col0\" >0</td>\n",
       "      <td id=\"T_87c05_row2_col1\" class=\"data row2 col1\" >0.000000</td>\n",
       "    </tr>\n",
       "    <tr>\n",
       "      <th id=\"T_87c05_level0_row3\" class=\"row_heading level0 row3\" >Age</th>\n",
       "      <td id=\"T_87c05_row3_col0\" class=\"data row3 col0\" >0</td>\n",
       "      <td id=\"T_87c05_row3_col1\" class=\"data row3 col1\" >0.000000</td>\n",
       "    </tr>\n",
       "    <tr>\n",
       "      <th id=\"T_87c05_level0_row4\" class=\"row_heading level0 row4\" >VIP</th>\n",
       "      <td id=\"T_87c05_row4_col0\" class=\"data row4 col0\" >0</td>\n",
       "      <td id=\"T_87c05_row4_col1\" class=\"data row4 col1\" >0.000000</td>\n",
       "    </tr>\n",
       "    <tr>\n",
       "      <th id=\"T_87c05_level0_row5\" class=\"row_heading level0 row5\" >RoomService</th>\n",
       "      <td id=\"T_87c05_row5_col0\" class=\"data row5 col0\" >0</td>\n",
       "      <td id=\"T_87c05_row5_col1\" class=\"data row5 col1\" >0.000000</td>\n",
       "    </tr>\n",
       "    <tr>\n",
       "      <th id=\"T_87c05_level0_row6\" class=\"row_heading level0 row6\" >FoodCourt</th>\n",
       "      <td id=\"T_87c05_row6_col0\" class=\"data row6 col0\" >0</td>\n",
       "      <td id=\"T_87c05_row6_col1\" class=\"data row6 col1\" >0.000000</td>\n",
       "    </tr>\n",
       "    <tr>\n",
       "      <th id=\"T_87c05_level0_row7\" class=\"row_heading level0 row7\" >ShoppingMall</th>\n",
       "      <td id=\"T_87c05_row7_col0\" class=\"data row7 col0\" >0</td>\n",
       "      <td id=\"T_87c05_row7_col1\" class=\"data row7 col1\" >0.000000</td>\n",
       "    </tr>\n",
       "    <tr>\n",
       "      <th id=\"T_87c05_level0_row8\" class=\"row_heading level0 row8\" >Spa</th>\n",
       "      <td id=\"T_87c05_row8_col0\" class=\"data row8 col0\" >0</td>\n",
       "      <td id=\"T_87c05_row8_col1\" class=\"data row8 col1\" >0.000000</td>\n",
       "    </tr>\n",
       "    <tr>\n",
       "      <th id=\"T_87c05_level0_row9\" class=\"row_heading level0 row9\" >VRDeck</th>\n",
       "      <td id=\"T_87c05_row9_col0\" class=\"data row9 col0\" >0</td>\n",
       "      <td id=\"T_87c05_row9_col1\" class=\"data row9 col1\" >0.000000</td>\n",
       "    </tr>\n",
       "    <tr>\n",
       "      <th id=\"T_87c05_level0_row10\" class=\"row_heading level0 row10\" >Transported</th>\n",
       "      <td id=\"T_87c05_row10_col0\" class=\"data row10 col0\" >0</td>\n",
       "      <td id=\"T_87c05_row10_col1\" class=\"data row10 col1\" >0.000000</td>\n",
       "    </tr>\n",
       "    <tr>\n",
       "      <th id=\"T_87c05_level0_row11\" class=\"row_heading level0 row11\" >Deck_of_spaceship</th>\n",
       "      <td id=\"T_87c05_row11_col0\" class=\"data row11 col0\" >0</td>\n",
       "      <td id=\"T_87c05_row11_col1\" class=\"data row11 col1\" >0.000000</td>\n",
       "    </tr>\n",
       "    <tr>\n",
       "      <th id=\"T_87c05_level0_row12\" class=\"row_heading level0 row12\" >Number_of_cabin</th>\n",
       "      <td id=\"T_87c05_row12_col0\" class=\"data row12 col0\" >0</td>\n",
       "      <td id=\"T_87c05_row12_col1\" class=\"data row12 col1\" >0.000000</td>\n",
       "    </tr>\n",
       "    <tr>\n",
       "      <th id=\"T_87c05_level0_row13\" class=\"row_heading level0 row13\" >Port_or_Starboard</th>\n",
       "      <td id=\"T_87c05_row13_col0\" class=\"data row13 col0\" >0</td>\n",
       "      <td id=\"T_87c05_row13_col1\" class=\"data row13 col1\" >0.000000</td>\n",
       "    </tr>\n",
       "  </tbody>\n",
       "</table>\n"
      ],
      "text/plain": [
       "<pandas.io.formats.style.Styler at 0x1c70eb646d0>"
      ]
     },
     "execution_count": 60,
     "metadata": {},
     "output_type": "execute_result"
    }
   ],
   "source": [
    "total = train.isnull().sum().sort_values(ascending=False)\n",
    "percent = (train.isnull().sum() / train.isnull().count()).sort_values(ascending=False)\n",
    "missing_data = pd.concat(\n",
    "    [total, round(percent, 3)], axis=1, keys=[\"Total_nulls_train\", \"Percent\"]\n",
    ")\n",
    "missing_data.style.bar(subset=[\"Percent\"], color=\"lightgreen\", vmin=0)\n"
   ]
  },
  {
   "cell_type": "markdown",
   "id": "16657d6e",
   "metadata": {
    "id": "16657d6e"
   },
   "source": [
    ">**Observación:**\n",
    ">\n",
    ">`train` quedo sin valores nulos."
   ]
  },
  {
   "cell_type": "code",
   "execution_count": 61,
   "id": "28844fa5",
   "metadata": {
    "id": "28844fa5"
   },
   "outputs": [
    {
     "data": {
      "text/html": [
       "<div>\n",
       "<style scoped>\n",
       "    .dataframe tbody tr th:only-of-type {\n",
       "        vertical-align: middle;\n",
       "    }\n",
       "\n",
       "    .dataframe tbody tr th {\n",
       "        vertical-align: top;\n",
       "    }\n",
       "\n",
       "    .dataframe thead th {\n",
       "        text-align: right;\n",
       "    }\n",
       "</style>\n",
       "<table border=\"1\" class=\"dataframe\">\n",
       "  <thead>\n",
       "    <tr style=\"text-align: right;\">\n",
       "      <th></th>\n",
       "      <th>HomePlanet</th>\n",
       "      <th>CryoSleep</th>\n",
       "      <th>Destination</th>\n",
       "      <th>Age</th>\n",
       "      <th>VIP</th>\n",
       "      <th>RoomService</th>\n",
       "      <th>FoodCourt</th>\n",
       "      <th>ShoppingMall</th>\n",
       "      <th>Spa</th>\n",
       "      <th>VRDeck</th>\n",
       "      <th>Transported</th>\n",
       "      <th>Deck_of_spaceship</th>\n",
       "      <th>Number_of_cabin</th>\n",
       "      <th>Port_or_Starboard</th>\n",
       "    </tr>\n",
       "  </thead>\n",
       "  <tbody>\n",
       "    <tr>\n",
       "      <th>0</th>\n",
       "      <td>Europa</td>\n",
       "      <td>False</td>\n",
       "      <td>TRAPPIST-1e</td>\n",
       "      <td>1.944636</td>\n",
       "      <td>False</td>\n",
       "      <td>-0.332891</td>\n",
       "      <td>2.099303</td>\n",
       "      <td>-0.266942</td>\n",
       "      <td>-0.097078</td>\n",
       "      <td>3.272797</td>\n",
       "      <td>0</td>\n",
       "      <td>C</td>\n",
       "      <td>-0.929337</td>\n",
       "      <td>P</td>\n",
       "    </tr>\n",
       "    <tr>\n",
       "      <th>1</th>\n",
       "      <td>Mars</td>\n",
       "      <td>True</td>\n",
       "      <td>TRAPPIST-1e</td>\n",
       "      <td>-0.752347</td>\n",
       "      <td>True</td>\n",
       "      <td>-0.332891</td>\n",
       "      <td>-0.281056</td>\n",
       "      <td>-0.288685</td>\n",
       "      <td>-0.269134</td>\n",
       "      <td>-0.270233</td>\n",
       "      <td>1</td>\n",
       "      <td>F</td>\n",
       "      <td>-0.923471</td>\n",
       "      <td>S</td>\n",
       "    </tr>\n",
       "    <tr>\n",
       "      <th>2</th>\n",
       "      <td>Europa</td>\n",
       "      <td>True</td>\n",
       "      <td>TRAPPIST-1e</td>\n",
       "      <td>0.284954</td>\n",
       "      <td>True</td>\n",
       "      <td>-0.332891</td>\n",
       "      <td>-0.281056</td>\n",
       "      <td>-0.288685</td>\n",
       "      <td>-0.269134</td>\n",
       "      <td>-0.270233</td>\n",
       "      <td>1</td>\n",
       "      <td>B</td>\n",
       "      <td>-0.499119</td>\n",
       "      <td>S</td>\n",
       "    </tr>\n",
       "    <tr>\n",
       "      <th>3</th>\n",
       "      <td>Earth</td>\n",
       "      <td>False</td>\n",
       "      <td>TRAPPIST-1e</td>\n",
       "      <td>0.976488</td>\n",
       "      <td>False</td>\n",
       "      <td>-0.123802</td>\n",
       "      <td>0.464079</td>\n",
       "      <td>-0.288685</td>\n",
       "      <td>-0.269134</td>\n",
       "      <td>-0.083662</td>\n",
       "      <td>0</td>\n",
       "      <td>F</td>\n",
       "      <td>1.606993</td>\n",
       "      <td>P</td>\n",
       "    </tr>\n",
       "    <tr>\n",
       "      <th>4</th>\n",
       "      <td>Earth</td>\n",
       "      <td>False</td>\n",
       "      <td>TRAPPIST-1e</td>\n",
       "      <td>-0.683193</td>\n",
       "      <td>False</td>\n",
       "      <td>-0.332891</td>\n",
       "      <td>-0.281056</td>\n",
       "      <td>0.831932</td>\n",
       "      <td>-0.268252</td>\n",
       "      <td>-0.239138</td>\n",
       "      <td>0</td>\n",
       "      <td>G</td>\n",
       "      <td>-1.152268</td>\n",
       "      <td>P</td>\n",
       "    </tr>\n",
       "  </tbody>\n",
       "</table>\n",
       "</div>"
      ],
      "text/plain": [
       "  HomePlanet CryoSleep  Destination       Age    VIP  RoomService  FoodCourt  \\\n",
       "0     Europa     False  TRAPPIST-1e  1.944636  False    -0.332891   2.099303   \n",
       "1       Mars      True  TRAPPIST-1e -0.752347   True    -0.332891  -0.281056   \n",
       "2     Europa      True  TRAPPIST-1e  0.284954   True    -0.332891  -0.281056   \n",
       "3      Earth     False  TRAPPIST-1e  0.976488  False    -0.123802   0.464079   \n",
       "4      Earth     False  TRAPPIST-1e -0.683193  False    -0.332891  -0.281056   \n",
       "\n",
       "   ShoppingMall       Spa    VRDeck  Transported Deck_of_spaceship  \\\n",
       "0     -0.266942 -0.097078  3.272797            0                 C   \n",
       "1     -0.288685 -0.269134 -0.270233            1                 F   \n",
       "2     -0.288685 -0.269134 -0.270233            1                 B   \n",
       "3     -0.288685 -0.269134 -0.083662            0                 F   \n",
       "4      0.831932 -0.268252 -0.239138            0                 G   \n",
       "\n",
       "   Number_of_cabin Port_or_Starboard  \n",
       "0        -0.929337                 P  \n",
       "1        -0.923471                 S  \n",
       "2        -0.499119                 S  \n",
       "3         1.606993                 P  \n",
       "4        -1.152268                 P  "
      ]
     },
     "execution_count": 61,
     "metadata": {},
     "output_type": "execute_result"
    }
   ],
   "source": [
    "train.head()\n"
   ]
  },
  {
   "cell_type": "markdown",
   "id": "f23ae096",
   "metadata": {
    "id": "f23ae096"
   },
   "source": [
    "### Asignamos X e Y."
   ]
  },
  {
   "cell_type": "code",
   "execution_count": 62,
   "id": "d56d0aae",
   "metadata": {
    "id": "d56d0aae",
    "scrolled": true
   },
   "outputs": [
    {
     "data": {
      "text/html": [
       "<div>\n",
       "<style scoped>\n",
       "    .dataframe tbody tr th:only-of-type {\n",
       "        vertical-align: middle;\n",
       "    }\n",
       "\n",
       "    .dataframe tbody tr th {\n",
       "        vertical-align: top;\n",
       "    }\n",
       "\n",
       "    .dataframe thead th {\n",
       "        text-align: right;\n",
       "    }\n",
       "</style>\n",
       "<table border=\"1\" class=\"dataframe\">\n",
       "  <thead>\n",
       "    <tr style=\"text-align: right;\">\n",
       "      <th></th>\n",
       "      <th>HomePlanet</th>\n",
       "      <th>CryoSleep</th>\n",
       "      <th>Destination</th>\n",
       "      <th>Age</th>\n",
       "      <th>VIP</th>\n",
       "      <th>RoomService</th>\n",
       "      <th>FoodCourt</th>\n",
       "      <th>ShoppingMall</th>\n",
       "      <th>Spa</th>\n",
       "      <th>VRDeck</th>\n",
       "      <th>Deck_of_spaceship</th>\n",
       "      <th>Number_of_cabin</th>\n",
       "      <th>Port_or_Starboard</th>\n",
       "    </tr>\n",
       "  </thead>\n",
       "  <tbody>\n",
       "    <tr>\n",
       "      <th>0</th>\n",
       "      <td>Europa</td>\n",
       "      <td>False</td>\n",
       "      <td>TRAPPIST-1e</td>\n",
       "      <td>1.944636</td>\n",
       "      <td>False</td>\n",
       "      <td>-0.332891</td>\n",
       "      <td>2.099303</td>\n",
       "      <td>-0.266942</td>\n",
       "      <td>-0.097078</td>\n",
       "      <td>3.272797</td>\n",
       "      <td>C</td>\n",
       "      <td>-0.929337</td>\n",
       "      <td>P</td>\n",
       "    </tr>\n",
       "    <tr>\n",
       "      <th>1</th>\n",
       "      <td>Mars</td>\n",
       "      <td>True</td>\n",
       "      <td>TRAPPIST-1e</td>\n",
       "      <td>-0.752347</td>\n",
       "      <td>True</td>\n",
       "      <td>-0.332891</td>\n",
       "      <td>-0.281056</td>\n",
       "      <td>-0.288685</td>\n",
       "      <td>-0.269134</td>\n",
       "      <td>-0.270233</td>\n",
       "      <td>F</td>\n",
       "      <td>-0.923471</td>\n",
       "      <td>S</td>\n",
       "    </tr>\n",
       "    <tr>\n",
       "      <th>2</th>\n",
       "      <td>Europa</td>\n",
       "      <td>True</td>\n",
       "      <td>TRAPPIST-1e</td>\n",
       "      <td>0.284954</td>\n",
       "      <td>True</td>\n",
       "      <td>-0.332891</td>\n",
       "      <td>-0.281056</td>\n",
       "      <td>-0.288685</td>\n",
       "      <td>-0.269134</td>\n",
       "      <td>-0.270233</td>\n",
       "      <td>B</td>\n",
       "      <td>-0.499119</td>\n",
       "      <td>S</td>\n",
       "    </tr>\n",
       "  </tbody>\n",
       "</table>\n",
       "</div>"
      ],
      "text/plain": [
       "  HomePlanet CryoSleep  Destination       Age    VIP  RoomService  FoodCourt  \\\n",
       "0     Europa     False  TRAPPIST-1e  1.944636  False    -0.332891   2.099303   \n",
       "1       Mars      True  TRAPPIST-1e -0.752347   True    -0.332891  -0.281056   \n",
       "2     Europa      True  TRAPPIST-1e  0.284954   True    -0.332891  -0.281056   \n",
       "\n",
       "   ShoppingMall       Spa    VRDeck Deck_of_spaceship  Number_of_cabin  \\\n",
       "0     -0.266942 -0.097078  3.272797                 C        -0.929337   \n",
       "1     -0.288685 -0.269134 -0.270233                 F        -0.923471   \n",
       "2     -0.288685 -0.269134 -0.270233                 B        -0.499119   \n",
       "\n",
       "  Port_or_Starboard  \n",
       "0                 P  \n",
       "1                 S  \n",
       "2                 S  "
      ]
     },
     "execution_count": 62,
     "metadata": {},
     "output_type": "execute_result"
    }
   ],
   "source": [
    "y = train.Transported\n",
    "X = train.drop(\"Transported\", axis=1)\n",
    "X.head(3)"
   ]
  },
  {
   "cell_type": "markdown",
   "id": "92c8cf23-8519-4701-8db6-b83d624aec12",
   "metadata": {},
   "source": [
    "## Encoder & StandarScaler"
   ]
  },
  {
   "cell_type": "code",
   "execution_count": 63,
   "id": "d5f96f41-b607-45d9-8827-b228d6abb267",
   "metadata": {},
   "outputs": [],
   "source": [
    "cat_cols = [\n",
    "    \"HomePlanet\",\n",
    "    \"CryoSleep\",\n",
    "    \"Destination\",\n",
    "    \"VIP\",\n",
    "    \"Deck_of_spaceship\",\n",
    "    \"Port_or_Starboard\",\n",
    "]   "
   ]
  },
  {
   "cell_type": "code",
   "execution_count": 64,
   "id": "1b5d03f4-0317-42ec-b95a-961654e85cae",
   "metadata": {},
   "outputs": [],
   "source": [
    "# For XGBoost or Random Forest set the value \"general\". For Multlayer Perceptron set the value \"MLP\".\n",
    "model = \"general\" "
   ]
  },
  {
   "cell_type": "code",
   "execution_count": 65,
   "id": "b740d747-c014-42d5-80ad-41110b09efbf",
   "metadata": {},
   "outputs": [],
   "source": [
    "X = encoder_categorical_data_and_scaler_some_data(X, cat_cols=cat_cols, model=model)"
   ]
  },
  {
   "cell_type": "markdown",
   "id": "3518c39b",
   "metadata": {
    "id": "3518c39b"
   },
   "source": [
    "## Conjunto de Test"
   ]
  },
  {
   "cell_type": "code",
   "execution_count": 66,
   "id": "e5aae3c0",
   "metadata": {
    "id": "e5aae3c0"
   },
   "outputs": [
    {
     "data": {
      "text/plain": [
       "(870, 14)"
      ]
     },
     "execution_count": 66,
     "metadata": {},
     "output_type": "execute_result"
    }
   ],
   "source": [
    "newtest = test.merge(subm, on='PassengerId')\n",
    "newtest.shape"
   ]
  },
  {
   "cell_type": "code",
   "execution_count": 67,
   "id": "f6fbdab4",
   "metadata": {
    "id": "f6fbdab4"
   },
   "outputs": [],
   "source": [
    "newtest = newtest.drop(columns = ['Name','PassengerId'])"
   ]
  },
  {
   "cell_type": "code",
   "execution_count": 68,
   "id": "53a8110e",
   "metadata": {
    "id": "53a8110e"
   },
   "outputs": [],
   "source": [
    "new_featurestest = newtest['Cabin'].str.split(pat=\"/\",expand=True)"
   ]
  },
  {
   "cell_type": "code",
   "execution_count": 69,
   "id": "2904a34e",
   "metadata": {
    "id": "2904a34e"
   },
   "outputs": [
    {
     "data": {
      "text/html": [
       "<div>\n",
       "<style scoped>\n",
       "    .dataframe tbody tr th:only-of-type {\n",
       "        vertical-align: middle;\n",
       "    }\n",
       "\n",
       "    .dataframe tbody tr th {\n",
       "        vertical-align: top;\n",
       "    }\n",
       "\n",
       "    .dataframe thead th {\n",
       "        text-align: right;\n",
       "    }\n",
       "</style>\n",
       "<table border=\"1\" class=\"dataframe\">\n",
       "  <thead>\n",
       "    <tr style=\"text-align: right;\">\n",
       "      <th></th>\n",
       "      <th>Deck_of_spaceship</th>\n",
       "      <th>Number_of_cabin</th>\n",
       "      <th>Port_or_Starboard</th>\n",
       "    </tr>\n",
       "  </thead>\n",
       "  <tbody>\n",
       "    <tr>\n",
       "      <th>0</th>\n",
       "      <td>NaN</td>\n",
       "      <td>NaN</td>\n",
       "      <td>NaN</td>\n",
       "    </tr>\n",
       "    <tr>\n",
       "      <th>1</th>\n",
       "      <td>G</td>\n",
       "      <td>1489</td>\n",
       "      <td>S</td>\n",
       "    </tr>\n",
       "    <tr>\n",
       "      <th>2</th>\n",
       "      <td>G</td>\n",
       "      <td>776</td>\n",
       "      <td>P</td>\n",
       "    </tr>\n",
       "  </tbody>\n",
       "</table>\n",
       "</div>"
      ],
      "text/plain": [
       "  Deck_of_spaceship Number_of_cabin Port_or_Starboard\n",
       "0               NaN             NaN               NaN\n",
       "1                 G            1489                 S\n",
       "2                 G             776                 P"
      ]
     },
     "execution_count": 69,
     "metadata": {},
     "output_type": "execute_result"
    }
   ],
   "source": [
    "new_featurestest = new_featurestest.rename(columns={0:'Deck_of_spaceship',1:'Number_of_cabin',2:'Port_or_Starboard'})\n",
    "new_featurestest.head(3)"
   ]
  },
  {
   "cell_type": "code",
   "execution_count": 70,
   "id": "02a18f06",
   "metadata": {
    "id": "02a18f06"
   },
   "outputs": [],
   "source": [
    "newtest = newtest.drop(columns='Cabin')"
   ]
  },
  {
   "cell_type": "code",
   "execution_count": 71,
   "id": "db73c2d5",
   "metadata": {
    "id": "db73c2d5"
   },
   "outputs": [
    {
     "data": {
      "text/html": [
       "<div>\n",
       "<style scoped>\n",
       "    .dataframe tbody tr th:only-of-type {\n",
       "        vertical-align: middle;\n",
       "    }\n",
       "\n",
       "    .dataframe tbody tr th {\n",
       "        vertical-align: top;\n",
       "    }\n",
       "\n",
       "    .dataframe thead th {\n",
       "        text-align: right;\n",
       "    }\n",
       "</style>\n",
       "<table border=\"1\" class=\"dataframe\">\n",
       "  <thead>\n",
       "    <tr style=\"text-align: right;\">\n",
       "      <th></th>\n",
       "      <th>HomePlanet</th>\n",
       "      <th>CryoSleep</th>\n",
       "      <th>Destination</th>\n",
       "      <th>Age</th>\n",
       "      <th>VIP</th>\n",
       "      <th>RoomService</th>\n",
       "      <th>FoodCourt</th>\n",
       "      <th>ShoppingMall</th>\n",
       "      <th>Spa</th>\n",
       "      <th>VRDeck</th>\n",
       "      <th>Transported</th>\n",
       "      <th>Deck_of_spaceship</th>\n",
       "      <th>Number_of_cabin</th>\n",
       "      <th>Port_or_Starboard</th>\n",
       "    </tr>\n",
       "  </thead>\n",
       "  <tbody>\n",
       "    <tr>\n",
       "      <th>0</th>\n",
       "      <td>Europa</td>\n",
       "      <td>True</td>\n",
       "      <td>55 Cancri e</td>\n",
       "      <td>34.0</td>\n",
       "      <td>False</td>\n",
       "      <td>0.0</td>\n",
       "      <td>0.0</td>\n",
       "      <td>0.0</td>\n",
       "      <td>0.0</td>\n",
       "      <td>0.0</td>\n",
       "      <td>1</td>\n",
       "      <td>NaN</td>\n",
       "      <td>NaN</td>\n",
       "      <td>NaN</td>\n",
       "    </tr>\n",
       "    <tr>\n",
       "      <th>1</th>\n",
       "      <td>Earth</td>\n",
       "      <td>True</td>\n",
       "      <td>PSO J318.5-22</td>\n",
       "      <td>13.0</td>\n",
       "      <td>False</td>\n",
       "      <td>0.0</td>\n",
       "      <td>0.0</td>\n",
       "      <td>0.0</td>\n",
       "      <td>0.0</td>\n",
       "      <td>0.0</td>\n",
       "      <td>1</td>\n",
       "      <td>G</td>\n",
       "      <td>1489</td>\n",
       "      <td>S</td>\n",
       "    </tr>\n",
       "    <tr>\n",
       "      <th>2</th>\n",
       "      <td>Earth</td>\n",
       "      <td>False</td>\n",
       "      <td>TRAPPIST-1e</td>\n",
       "      <td>44.0</td>\n",
       "      <td>False</td>\n",
       "      <td>22.0</td>\n",
       "      <td>1.0</td>\n",
       "      <td>0.0</td>\n",
       "      <td>864.0</td>\n",
       "      <td>0.0</td>\n",
       "      <td>0</td>\n",
       "      <td>G</td>\n",
       "      <td>776</td>\n",
       "      <td>P</td>\n",
       "    </tr>\n",
       "    <tr>\n",
       "      <th>3</th>\n",
       "      <td>Earth</td>\n",
       "      <td>False</td>\n",
       "      <td>PSO J318.5-22</td>\n",
       "      <td>63.0</td>\n",
       "      <td>False</td>\n",
       "      <td>0.0</td>\n",
       "      <td>0.0</td>\n",
       "      <td>80.0</td>\n",
       "      <td>0.0</td>\n",
       "      <td>2322.0</td>\n",
       "      <td>0</td>\n",
       "      <td>E</td>\n",
       "      <td>577</td>\n",
       "      <td>S</td>\n",
       "    </tr>\n",
       "    <tr>\n",
       "      <th>4</th>\n",
       "      <td>Europa</td>\n",
       "      <td>False</td>\n",
       "      <td>55 Cancri e</td>\n",
       "      <td>10.0</td>\n",
       "      <td>False</td>\n",
       "      <td>0.0</td>\n",
       "      <td>0.0</td>\n",
       "      <td>0.0</td>\n",
       "      <td>0.0</td>\n",
       "      <td>0.0</td>\n",
       "      <td>0</td>\n",
       "      <td>B</td>\n",
       "      <td>117</td>\n",
       "      <td>S</td>\n",
       "    </tr>\n",
       "  </tbody>\n",
       "</table>\n",
       "</div>"
      ],
      "text/plain": [
       "  HomePlanet CryoSleep    Destination   Age    VIP  RoomService  FoodCourt  \\\n",
       "0     Europa      True    55 Cancri e  34.0  False          0.0        0.0   \n",
       "1      Earth      True  PSO J318.5-22  13.0  False          0.0        0.0   \n",
       "2      Earth     False    TRAPPIST-1e  44.0  False         22.0        1.0   \n",
       "3      Earth     False  PSO J318.5-22  63.0  False          0.0        0.0   \n",
       "4     Europa     False    55 Cancri e  10.0  False          0.0        0.0   \n",
       "\n",
       "   ShoppingMall    Spa  VRDeck  Transported Deck_of_spaceship Number_of_cabin  \\\n",
       "0           0.0    0.0     0.0            1               NaN             NaN   \n",
       "1           0.0    0.0     0.0            1                 G            1489   \n",
       "2           0.0  864.0     0.0            0                 G             776   \n",
       "3          80.0    0.0  2322.0            0                 E             577   \n",
       "4           0.0    0.0     0.0            0                 B             117   \n",
       "\n",
       "  Port_or_Starboard  \n",
       "0               NaN  \n",
       "1                 S  \n",
       "2                 P  \n",
       "3                 S  \n",
       "4                 S  "
      ]
     },
     "execution_count": 71,
     "metadata": {},
     "output_type": "execute_result"
    }
   ],
   "source": [
    "newtest = newtest.join(new_featurestest)\n",
    "newtest.head()"
   ]
  },
  {
   "cell_type": "code",
   "execution_count": 72,
   "id": "e237edb9",
   "metadata": {
    "id": "e237edb9"
   },
   "outputs": [],
   "source": [
    "mice_imputer = IterativeImputer(random_state=0, estimator=KNeighborsRegressor())\n",
    "\n",
    "newtest[\"Age\"] = StandardScaler().fit_transform(\n",
    "    newtest[[\"Age\"]]\n",
    ")\n",
    "newtest[\"FoodCourt\"] = StandardScaler().fit_transform(\n",
    "    newtest[[\"FoodCourt\"]]\n",
    ")\n",
    "newtest[\"RoomService\"] = StandardScaler().fit_transform(\n",
    "    newtest[[\"RoomService\"]]\n",
    ")\n",
    "newtest[\"ShoppingMall\"] = StandardScaler().fit_transform(\n",
    "    newtest[[\"ShoppingMall\"]]\n",
    ")\n",
    "newtest[\"Spa\"] = StandardScaler().fit_transform(\n",
    "    newtest[[\"Spa\"]]\n",
    ")\n",
    "newtest[\"VRDeck\"] = StandardScaler().fit_transform(\n",
    "    newtest[[\"VRDeck\"]]\n",
    ")\n",
    "newtest[\"Number_of_cabin\"] = StandardScaler().fit_transform(\n",
    "    newtest[[\"Number_of_cabin\"]]\n",
    ")\n",
    "newtest[\n",
    "    [\"Age\", \"FoodCourt\",\"RoomService\",\"ShoppingMall\",\"Spa\",\"VRDeck\",\"Number_of_cabin\"]\n",
    "] = mice_imputer.fit_transform(newtest[[\"Age\", \"FoodCourt\",\"RoomService\",\"ShoppingMall\",\"Spa\",\"VRDeck\",\n",
    "                                                   \"Number_of_cabin\"]])"
   ]
  },
  {
   "cell_type": "code",
   "execution_count": 73,
   "id": "0f811004",
   "metadata": {
    "id": "0f811004"
   },
   "outputs": [
    {
     "data": {
      "text/html": [
       "<div>\n",
       "<style scoped>\n",
       "    .dataframe tbody tr th:only-of-type {\n",
       "        vertical-align: middle;\n",
       "    }\n",
       "\n",
       "    .dataframe tbody tr th {\n",
       "        vertical-align: top;\n",
       "    }\n",
       "\n",
       "    .dataframe thead th {\n",
       "        text-align: right;\n",
       "    }\n",
       "</style>\n",
       "<table border=\"1\" class=\"dataframe\">\n",
       "  <thead>\n",
       "    <tr style=\"text-align: right;\">\n",
       "      <th></th>\n",
       "      <th>HomePlanet</th>\n",
       "      <th>CryoSleep</th>\n",
       "      <th>Destination</th>\n",
       "      <th>Age</th>\n",
       "      <th>VIP</th>\n",
       "      <th>RoomService</th>\n",
       "      <th>FoodCourt</th>\n",
       "      <th>ShoppingMall</th>\n",
       "      <th>Spa</th>\n",
       "      <th>VRDeck</th>\n",
       "      <th>Deck_of_spaceship</th>\n",
       "      <th>Number_of_cabin</th>\n",
       "      <th>Port_or_Starboard</th>\n",
       "    </tr>\n",
       "  </thead>\n",
       "  <tbody>\n",
       "    <tr>\n",
       "      <th>0</th>\n",
       "      <td>Europa</td>\n",
       "      <td>True</td>\n",
       "      <td>55 Cancri e</td>\n",
       "      <td>0.382620</td>\n",
       "      <td>False</td>\n",
       "      <td>-0.392550</td>\n",
       "      <td>-0.316125</td>\n",
       "      <td>-0.277604</td>\n",
       "      <td>-0.314802</td>\n",
       "      <td>-0.253534</td>\n",
       "      <td>NaN</td>\n",
       "      <td>-0.875138</td>\n",
       "      <td>NaN</td>\n",
       "    </tr>\n",
       "    <tr>\n",
       "      <th>1</th>\n",
       "      <td>Earth</td>\n",
       "      <td>True</td>\n",
       "      <td>PSO J318.5-22</td>\n",
       "      <td>-1.043489</td>\n",
       "      <td>False</td>\n",
       "      <td>-0.392550</td>\n",
       "      <td>-0.316125</td>\n",
       "      <td>-0.277604</td>\n",
       "      <td>-0.314802</td>\n",
       "      <td>-0.253534</td>\n",
       "      <td>G</td>\n",
       "      <td>1.686479</td>\n",
       "      <td>S</td>\n",
       "    </tr>\n",
       "    <tr>\n",
       "      <th>2</th>\n",
       "      <td>Earth</td>\n",
       "      <td>False</td>\n",
       "      <td>TRAPPIST-1e</td>\n",
       "      <td>1.061720</td>\n",
       "      <td>False</td>\n",
       "      <td>-0.351821</td>\n",
       "      <td>-0.315467</td>\n",
       "      <td>-0.277604</td>\n",
       "      <td>0.427094</td>\n",
       "      <td>-0.253534</td>\n",
       "      <td>G</td>\n",
       "      <td>0.303656</td>\n",
       "      <td>P</td>\n",
       "    </tr>\n",
       "  </tbody>\n",
       "</table>\n",
       "</div>"
      ],
      "text/plain": [
       "  HomePlanet CryoSleep    Destination       Age    VIP  RoomService  \\\n",
       "0     Europa      True    55 Cancri e  0.382620  False    -0.392550   \n",
       "1      Earth      True  PSO J318.5-22 -1.043489  False    -0.392550   \n",
       "2      Earth     False    TRAPPIST-1e  1.061720  False    -0.351821   \n",
       "\n",
       "   FoodCourt  ShoppingMall       Spa    VRDeck Deck_of_spaceship  \\\n",
       "0  -0.316125     -0.277604 -0.314802 -0.253534               NaN   \n",
       "1  -0.316125     -0.277604 -0.314802 -0.253534                 G   \n",
       "2  -0.315467     -0.277604  0.427094 -0.253534                 G   \n",
       "\n",
       "   Number_of_cabin Port_or_Starboard  \n",
       "0        -0.875138               NaN  \n",
       "1         1.686479                 S  \n",
       "2         0.303656                 P  "
      ]
     },
     "execution_count": 73,
     "metadata": {},
     "output_type": "execute_result"
    }
   ],
   "source": [
    "y_t = newtest.Transported\n",
    "X_t = newtest.drop('Transported',axis=1)\n",
    "X_t.head(3)"
   ]
  },
  {
   "cell_type": "code",
   "execution_count": 74,
   "id": "c704e4e3-1103-4c9d-9e59-2771e6e627f6",
   "metadata": {},
   "outputs": [],
   "source": [
    "X_t = encoder_categorical_data_and_scaler_some_data(X_t, cat_cols=cat_cols, model=model)"
   ]
  },
  {
   "cell_type": "markdown",
   "id": "86c052b9",
   "metadata": {
    "id": "86c052b9"
   },
   "source": [
    "#### Decidimos probar con todos los modelos con sus parámetros básicos para validar los efectos de la curación de datos y usarlo de referencia."
   ]
  },
  {
   "cell_type": "code",
   "execution_count": 75,
   "id": "55f36334",
   "metadata": {
    "id": "55f36334"
   },
   "outputs": [
    {
     "name": "stdout",
     "output_type": "stream",
     "text": [
      "Arbol de decisión\n",
      "Accuracy train Arbol de decisión: 99.94%\n",
      "Accuracy test Arbol de decisión: 71.26%\n",
      "Random Forest\n",
      "Accuracy train Random Forest: 99.92%\n",
      "Accuracy test Random Forest: 76.55%\n",
      "Regresión Logística\n",
      "Accuracy train Regresión Logística: 78.81%\n",
      "Accuracy test Regresión Logística: 83.45%\n",
      "Perceptrón multicapa\n",
      "Accuracy train Perceptrón multicapa: 82.70%\n",
      "Accuracy test Perceptrón multicapa: 83.91%\n",
      "XGBoost\n",
      "Accuracy train XGBoost: 92.46%\n",
      "Accuracy test XGBoost: 78.97%\n",
      "Naive Bayes\n",
      "Accuracy train Naive Bayes: 74.88%\n",
      "Accuracy test Naive Bayes: 75.52%\n",
      "SVM\n",
      "Accuracy train SVM: 78.79%\n",
      "Accuracy test SVM: 83.56%\n"
     ]
    }
   ],
   "source": [
    "from sklearn.model_selection import (\n",
    "    cross_val_score,\n",
    "    cross_validate,\n",
    "    KFold,\n",
    "    StratifiedKFold,\n",
    "    LeaveOneOut,\n",
    "    LeavePOut,\n",
    ")\n",
    "from sklearn.metrics import (\n",
    "    recall_score,\n",
    "    accuracy_score,\n",
    "    precision_score,\n",
    "    f1_score,\n",
    "    roc_auc_score,\n",
    "    mean_squared_error,\n",
    "    r2_score,\n",
    "    confusion_matrix,\n",
    "    classification_report,\n",
    "    ConfusionMatrixDisplay,\n",
    ")\n",
    "\n",
    "from sklearn.tree import DecisionTreeClassifier\n",
    "from sklearn.ensemble import RandomForestClassifier\n",
    "from sklearn.linear_model import LogisticRegression\n",
    "from sklearn.neural_network import MLPClassifier\n",
    "from sklearn.neural_network import MLPRegressor\n",
    "from xgboost import XGBClassifier\n",
    "from sklearn.naive_bayes import GaussianNB\n",
    "from sklearn.svm import LinearSVC\n",
    "\n",
    "\n",
    "clfs = [\n",
    "    DecisionTreeClassifier(),\n",
    "    RandomForestClassifier(),\n",
    "    LogisticRegression(),\n",
    "    MLPClassifier(),\n",
    "    XGBClassifier(),\n",
    "    GaussianNB(),\n",
    "    LinearSVC(),\n",
    "]\n",
    "\n",
    "names = [\n",
    "    \"Arbol de decisión\",\n",
    "    \"Random Forest\",\n",
    "    \"Regresión Logística\",\n",
    "    \"Perceptrón multicapa\",\n",
    "    \"XGBoost\",\n",
    "    \"Naive Bayes\",\n",
    "    \"SVM\",\n",
    "]\n",
    "\n",
    "trained_models = []\n",
    "accuracy_models = []\n",
    "for clf, name in zip(clfs, names):\n",
    "    print(name)\n",
    "    clf.fit(X, y)\n",
    "    train_predictions = clf.predict(X)\n",
    "    accuracy = accuracy_score(y, train_predictions)\n",
    "    print(f\"Accuracy train {name}: %.2f%%\" % (accuracy * 100.0))\n",
    "\n",
    "    test_predictions = clf.predict(X_t)\n",
    "    accuracy = accuracy_score(y_t, test_predictions)\n",
    "    print(f\"Accuracy test {name}: %.2f%%\" % (accuracy * 100.0))\n",
    "    trained_models.append(clf)\n",
    "    accuracy_models.append(accuracy)\n"
   ]
  },
  {
   "cell_type": "markdown",
   "id": "99d7677b",
   "metadata": {
    "id": "99d7677b"
   },
   "source": [
    "________________\n",
    "<html>\n",
    "  <h2  align=\"center\";>\n",
    "    XG BOOST\n",
    "  </h2>\n",
    "</html>"
   ]
  },
  {
   "cell_type": "code",
   "execution_count": 76,
   "id": "445588e3",
   "metadata": {
    "id": "445588e3"
   },
   "outputs": [],
   "source": [
    "import xgboost as xgb"
   ]
  },
  {
   "cell_type": "code",
   "execution_count": 77,
   "id": "44a28f75",
   "metadata": {
    "id": "44a28f75"
   },
   "outputs": [
    {
     "name": "stdout",
     "output_type": "stream",
     "text": [
      "Train Accuracy de XGBoost:  0.8281989006774895\n",
      "Test Accuracy de XGBoost:  0.8091954022988506\n"
     ]
    }
   ],
   "source": [
    "clf_xgb = xgb.XGBClassifier(objective= 'binary:hinge',\n",
    "                            n_estimators= 21,\n",
    "                            max_leaves= 60,\n",
    "                            max_depth= 6,\n",
    "                            random_state = 1,\n",
    "                            tree_method= 'approx'\n",
    "                           )\n",
    "clf_xgb.fit(X, y)\n",
    "\n",
    "preds_xgb_train = clf_xgb.predict(X)\n",
    "preds_xgb_test = clf_xgb.predict(X_t)\n",
    "\n",
    "accuracy_xgb_train = float(np.sum(preds_xgb_train == y))/y.shape[0]\n",
    "print('Train Accuracy de XGBoost: ', accuracy_xgb_train)\n",
    "\n",
    "accuracy_xgb_test = float(np.sum(preds_xgb_test == y_t))/y_t.shape[0]\n",
    "print('Test Accuracy de XGBoost: ', accuracy_xgb_test)"
   ]
  },
  {
   "cell_type": "code",
   "execution_count": 78,
   "id": "397d7066",
   "metadata": {
    "id": "397d7066"
   },
   "outputs": [
    {
     "data": {
      "image/png": "[encoded data removed]",
      "text/plain": [
       "<Figure size 504x360 with 2 Axes>"
      ]
     },
     "metadata": {
      "needs_background": "light"
     },
     "output_type": "display_data"
    }
   ],
   "source": [
    "plot_confusion_matrix(clf_xgb, X, y, cmap=\"magma\");"
   ]
  },
  {
   "cell_type": "markdown",
   "id": "da24ccd4",
   "metadata": {},
   "source": [
    "________________\n",
    "<html>\n",
    "  <h2  align=\"center\";>\n",
    "    Modelo de Redes Neuronales: Perceptrón multicapa\n",
    "  </h2>\n",
    "</html>"
   ]
  },
  {
   "cell_type": "code",
   "execution_count": 79,
   "id": "b6db5b26",
   "metadata": {
    "id": "b6db5b26"
   },
   "outputs": [],
   "source": [
    "from sklearn import neural_network\n"
   ]
  },
  {
   "cell_type": "code",
   "execution_count": 80,
   "id": "cc074b88",
   "metadata": {
    "id": "cc074b88"
   },
   "outputs": [],
   "source": [
    "clf = neural_network.MLPClassifier(\n",
    "    activation=\"tanh\",\n",
    "    solver=\"sgd\",\n",
    "    alpha=0.0001,\n",
    "    hidden_layer_sizes=(3),\n",
    "    learning_rate=\"constant\",\n",
    "    learning_rate_init=0.0027,\n",
    "    batch_size=20,\n",
    "    random_state=8,\n",
    "    max_iter=1000,\n",
    "    verbose=False,\n",
    "    tol=0.0001,\n",
    ")\n"
   ]
  },
  {
   "cell_type": "code",
   "execution_count": 81,
   "id": "315b5e6f",
   "metadata": {
    "id": "315b5e6f"
   },
   "outputs": [
    {
     "name": "stdout",
     "output_type": "stream",
     "text": [
      "Accuracy Train: 80.24\n",
      "Accuracy Test: 84.60\n"
     ]
    }
   ],
   "source": [
    "clf.fit(X, y.ravel())\n",
    "\n",
    "predictions = clf.predict(X)\n",
    "print(f\"Accuracy Train: {accuracy_score(y, predictions)*100:.2f}\")\n",
    "\n",
    "predictions = clf.predict(X_t)\n",
    "print(f\"Accuracy Test: {accuracy_score(y_t, predictions)*100:.2f}\")\n"
   ]
  },
  {
   "cell_type": "code",
   "execution_count": 82,
   "id": "92e92cf8",
   "metadata": {
    "id": "92e92cf8"
   },
   "outputs": [
    {
     "name": "stdout",
     "output_type": "stream",
     "text": [
      "True Negative: 359\n",
      "False Positive: 101\n",
      "False Negative: 33\n",
      "True Positive: 377\n"
     ]
    }
   ],
   "source": [
    "tn, fp, fn, tp = confusion_matrix(y_t, predictions, labels=[0, 1]).ravel()\n",
    "\n",
    "print(f\"True Negative: {tn}\")\n",
    "print(f\"False Positive: {fp}\")\n",
    "print(f\"False Negative: {fn}\")\n",
    "print(f\"True Positive: {tp}\")\n"
   ]
  },
  {
   "cell_type": "markdown",
   "id": "bf1146ab",
   "metadata": {
    "id": "bf1146ab"
   },
   "source": [
    "\n",
    "________________\n",
    "<html>\n",
    "  <h2  align=\"center\";>\n",
    "    Probamos con RandomForestClassifier de Sklearn.\n",
    "  </h2>\n",
    "</html>"
   ]
  },
  {
   "cell_type": "markdown",
   "id": "d635e988",
   "metadata": {
    "id": "d635e988"
   },
   "source": [
    "Primer modelo analizaremos con un clasificador RandomForestClassifier con parámetros por defecto."
   ]
  },
  {
   "cell_type": "code",
   "execution_count": 84,
   "id": "ffa4d46d",
   "metadata": {
    "id": "ffa4d46d"
   },
   "outputs": [],
   "source": [
    "from sklearn import ensemble\n",
    "from sklearn.ensemble import RandomForestClassifier\n",
    "from sklearn.metrics import classification_report\n",
    "\n",
    "clf = ensemble.RandomForestClassifier()\n",
    "clf.fit(X, y)\n",
    "\n",
    "y_train_pred = clf.predict(X)\n",
    "y_test_pred = clf.predict(X_t)\n"
   ]
  },
  {
   "cell_type": "markdown",
   "id": "8645fe2d",
   "metadata": {
    "id": "8645fe2d"
   },
   "source": [
    "Observamos un reporte con las métricas en la predicción del conjunto de testeo."
   ]
  },
  {
   "cell_type": "code",
   "execution_count": 85,
   "id": "a4a35ef6",
   "metadata": {
    "id": "a4a35ef6"
   },
   "outputs": [
    {
     "name": "stdout",
     "output_type": "stream",
     "text": [
      "              precision    recall  f1-score   support\n",
      "\n",
      "           0       0.77      0.87      0.82       460\n",
      "           1       0.83      0.71      0.77       410\n",
      "\n",
      "    accuracy                           0.80       870\n",
      "   macro avg       0.80      0.79      0.79       870\n",
      "weighted avg       0.80      0.80      0.79       870\n",
      "\n"
     ]
    }
   ],
   "source": [
    "print(classification_report(y_t, y_test_pred))"
   ]
  },
  {
   "cell_type": "markdown",
   "id": "a8a8982c",
   "metadata": {
    "id": "a8a8982c"
   },
   "source": [
    "A continuación observamos el puntaje de presición de la clasificación"
   ]
  },
  {
   "cell_type": "code",
   "execution_count": 86,
   "id": "25598486",
   "metadata": {
    "id": "25598486"
   },
   "outputs": [
    {
     "name": "stdout",
     "output_type": "stream",
     "text": [
      "Train accuracy: 1.0\n",
      "Test accuracy: 0.795\n"
     ]
    }
   ],
   "source": [
    "train_acc = accuracy_score(y, y_train_pred)\n",
    "test_acc = accuracy_score(y_t, y_test_pred)\n",
    "print(f\"Train accuracy: {train_acc:0.2}\")\n",
    "print(f\"Test accuracy: {test_acc:0.3}\")\n"
   ]
  },
  {
   "cell_type": "markdown",
   "id": "8b2e78d0",
   "metadata": {
    "id": "8b2e78d0"
   },
   "source": [
    "----\n",
    "### Exploramos algunos parámetros con RandomForestClassifier de Sklearn."
   ]
  },
  {
   "cell_type": "markdown",
   "id": "44fdcd32",
   "metadata": {
    "id": "44fdcd32"
   },
   "source": [
    "Ahora utilizamos Random Forest Classifier, probando con los mejores parámetros encontrados, para allar el mejor modelo."
   ]
  },
  {
   "cell_type": "code",
   "execution_count": 141,
   "id": "28ce6a8a",
   "metadata": {
    "id": "28ce6a8a"
   },
   "outputs": [],
   "source": [
    "from sklearn.ensemble import RandomForestClassifier\n",
    "from sklearn.model_selection import KFold\n",
    "\n",
    "param_grid = {\n",
    "    \"criterion\": [\"entropy\"],\n",
    "    'max_features': [5],\n",
    "    \"max_depth\": [10],\n",
    "    \"min_samples_leaf\": [2],\n",
    "    \"random_state\": [2],\n",
    "    \"n_estimators\": [142],\n",
    "}\n",
    "\n",
    "for params in ParameterGrid(param_grid):\n",
    "    \n",
    "    model = ensemble.RandomForestClassifier(\n",
    "                oob_score    = True,\n",
    "                n_jobs       = -1,\n",
    "                verbose = True,\n",
    "                ccp_alpha = 0.001242,\n",
    "                ** params\n",
    "             )"
   ]
  },
  {
   "cell_type": "code",
   "execution_count": 142,
   "id": "170ff413",
   "metadata": {
    "id": "170ff413"
   },
   "outputs": [
    {
     "name": "stderr",
     "output_type": "stream",
     "text": [
      "[Parallel(n_jobs=-1)]: Using backend LokyBackend with 8 concurrent workers.\n",
      "[Parallel(n_jobs=-1)]: Done  56 tasks      | elapsed:    0.1s\n",
      "[Parallel(n_jobs=-1)]: Done 127 out of 142 | elapsed:    0.3s remaining:    0.0s\n",
      "[Parallel(n_jobs=-1)]: Done 142 out of 142 | elapsed:    0.4s finished\n",
      "[Parallel(n_jobs=8)]: Using backend ThreadingBackend with 8 concurrent workers.\n",
      "[Parallel(n_jobs=8)]: Done  34 tasks      | elapsed:    0.0s\n",
      "[Parallel(n_jobs=8)]: Done 142 out of 142 | elapsed:    0.0s finished\n",
      "[Parallel(n_jobs=-1)]: Using backend LokyBackend with 8 concurrent workers.\n",
      "[Parallel(n_jobs=-1)]: Done  56 tasks      | elapsed:    0.1s\n",
      "[Parallel(n_jobs=-1)]: Done 142 out of 142 | elapsed:    0.3s finished\n",
      "[Parallel(n_jobs=8)]: Using backend ThreadingBackend with 8 concurrent workers.\n",
      "[Parallel(n_jobs=8)]: Done  34 tasks      | elapsed:    0.0s\n",
      "[Parallel(n_jobs=8)]: Done 142 out of 142 | elapsed:    0.0s finished\n",
      "[Parallel(n_jobs=-1)]: Using backend LokyBackend with 8 concurrent workers.\n",
      "[Parallel(n_jobs=-1)]: Done  56 tasks      | elapsed:    0.1s\n",
      "[Parallel(n_jobs=-1)]: Done 142 out of 142 | elapsed:    0.3s finished\n",
      "[Parallel(n_jobs=8)]: Using backend ThreadingBackend with 8 concurrent workers.\n",
      "[Parallel(n_jobs=8)]: Done  34 tasks      | elapsed:    0.0s\n",
      "[Parallel(n_jobs=8)]: Done 142 out of 142 | elapsed:    0.0s finished\n",
      "[Parallel(n_jobs=-1)]: Using backend LokyBackend with 8 concurrent workers.\n",
      "[Parallel(n_jobs=-1)]: Done  56 tasks      | elapsed:    0.1s\n",
      "[Parallel(n_jobs=-1)]: Done 142 out of 142 | elapsed:    0.3s finished\n",
      "[Parallel(n_jobs=8)]: Using backend ThreadingBackend with 8 concurrent workers.\n",
      "[Parallel(n_jobs=8)]: Done  34 tasks      | elapsed:    0.0s\n",
      "[Parallel(n_jobs=8)]: Done 142 out of 142 | elapsed:    0.0s finished\n",
      "[Parallel(n_jobs=-1)]: Using backend ThreadingBackend with 8 concurrent workers.\n",
      "[Parallel(n_jobs=-1)]: Done  34 tasks      | elapsed:    0.1s\n",
      "[Parallel(n_jobs=-1)]: Done 142 out of 142 | elapsed:    0.5s finished\n",
      "[Parallel(n_jobs=8)]: Using backend ThreadingBackend with 8 concurrent workers.\n",
      "[Parallel(n_jobs=8)]: Done  34 tasks      | elapsed:    0.0s\n",
      "[Parallel(n_jobs=8)]: Done 142 out of 142 | elapsed:    0.0s finished\n",
      "[Parallel(n_jobs=8)]: Using backend ThreadingBackend with 8 concurrent workers.\n",
      "[Parallel(n_jobs=8)]: Done  34 tasks      | elapsed:    0.0s\n",
      "[Parallel(n_jobs=8)]: Done 142 out of 142 | elapsed:    0.0s finished\n"
     ]
    }
   ],
   "source": [
    "cv = GridSearchCV(model, param_grid, scoring=\"accuracy\", cv=KFold(n_splits=4, shuffle=True, random_state=4))\n",
    "cv.fit(X, y)\n",
    "\n",
    "\n",
    "y_train_pred = cv.predict(X)\n",
    "y_test_pred = cv.predict(X_t)"
   ]
  },
  {
   "cell_type": "code",
   "execution_count": 143,
   "id": "ac902504",
   "metadata": {
    "id": "ac902504"
   },
   "outputs": [
    {
     "name": "stdout",
     "output_type": "stream",
     "text": [
      "              precision    recall  f1-score   support\n",
      "\n",
      "           0       0.85      0.78      0.81      3859\n",
      "           1       0.80      0.87      0.83      3964\n",
      "\n",
      "    accuracy                           0.82      7823\n",
      "   macro avg       0.83      0.82      0.82      7823\n",
      "weighted avg       0.83      0.82      0.82      7823\n",
      "\n"
     ]
    }
   ],
   "source": [
    "print(classification_report(y, y_train_pred))"
   ]
  },
  {
   "cell_type": "markdown",
   "id": "3298fd66",
   "metadata": {
    "id": "3298fd66"
   },
   "source": [
    "Reporte con las métricas en la predicción del conjunto de testeo."
   ]
  },
  {
   "cell_type": "code",
   "execution_count": 144,
   "id": "6540fe77",
   "metadata": {
    "id": "6540fe77"
   },
   "outputs": [
    {
     "name": "stdout",
     "output_type": "stream",
     "text": [
      "              precision    recall  f1-score   support\n",
      "\n",
      "           0       0.88      0.86      0.87       460\n",
      "           1       0.85      0.87      0.86       410\n",
      "\n",
      "    accuracy                           0.87       870\n",
      "   macro avg       0.87      0.87      0.87       870\n",
      "weighted avg       0.87      0.87      0.87       870\n",
      "\n"
     ]
    }
   ],
   "source": [
    "print(classification_report(y_t, y_test_pred))"
   ]
  },
  {
   "cell_type": "code",
   "execution_count": 145,
   "id": "9c766df9",
   "metadata": {
    "id": "9c766df9"
   },
   "outputs": [
    {
     "name": "stdout",
     "output_type": "stream",
     "text": [
      "Train accuracy with RandomForestClassifier: 0.82\n",
      "Test accuracy with RandomForestClassifier: 0.866\n"
     ]
    }
   ],
   "source": [
    "train_acc = accuracy_score(y, y_train_pred)\n",
    "test_acc = accuracy_score(y_t, y_test_pred)\n",
    "print(f\"Train accuracy with RandomForestClassifier: {train_acc:0.2}\")\n",
    "print(f\"Test accuracy with RandomForestClassifier: {test_acc:0.3}\")"
   ]
  },
  {
   "cell_type": "markdown",
   "id": "8672af41",
   "metadata": {
    "id": "8672af41"
   },
   "source": [
    "A continuación evaluamos la presición de la clasificación a través de la matriz de confusion."
   ]
  },
  {
   "cell_type": "code",
   "execution_count": 130,
   "id": "e2b1fe93",
   "metadata": {
    "id": "e2b1fe93"
   },
   "outputs": [
    {
     "name": "stdout",
     "output_type": "stream",
     "text": [
      "True Negative: 394\n",
      "False Positive: 66\n",
      "False Negative: 56\n",
      "True Positive: 354\n"
     ]
    },
    {
     "name": "stderr",
     "output_type": "stream",
     "text": [
      "[Parallel(n_jobs=8)]: Using backend ThreadingBackend with 8 concurrent workers.\n",
      "[Parallel(n_jobs=8)]: Done  34 tasks      | elapsed:    0.0s\n",
      "[Parallel(n_jobs=8)]: Done 140 out of 140 | elapsed:    0.0s finished\n"
     ]
    },
    {
     "data": {
      "image/png": "[encoded data removed]",
      "text/plain": [
       "<Figure size 504x360 with 2 Axes>"
      ]
     },
     "metadata": {
      "needs_background": "light"
     },
     "output_type": "display_data"
    }
   ],
   "source": [
    "tn, fp, fn, tp = confusion_matrix(y_t, y_test_pred, labels=[0, 1]).ravel()\n",
    "\n",
    "print(f\"True Negative: {tn}\")\n",
    "print(f\"False Positive: {fp}\")\n",
    "print(f\"False Negative: {fn}\")\n",
    "print(f\"True Positive: {tp}\")\n",
    "\n",
    "plot_confusion_matrix(cv, X_t, y_t, cmap=\"magma\");"
   ]
  },
  {
   "cell_type": "markdown",
   "id": "927a26b1",
   "metadata": {},
   "source": [
    "\n",
    "<html>\n",
    "  <hr>\n",
    "  <h2  align=\"center\";>\n",
    "    Conclusión\n",
    "  </h2>\n",
    "  <hr>\n",
    "</html>\n",
    "\n",
    "- Nos encontramos con un Dataset equilibrado casi artificialmente. Los nulos se encontraban distribuidos casi sistemáticamente en la posición de los registros así como en la cantidad porcentual de nulos por columna.\n",
    "\n",
    "- Teniendo en cuenta esto, realizamos imputaciones tanto para datos categóricos como numéricos, consiguiendo así no eliminar datos que pudieran ser útiles.\n",
    "\n",
    "- Los datos así también como las features generadas presentaban poca correlación de tipo lineal.\n",
    "\n",
    "- Variamos la curación de datos como primera instancia y con los parámetros por defecto del modelo.\n",
    "\n",
    "- Luego de encontrar la mejor versión de limpieza de datos para este modelo(la que presenta esta notebook), procedimos a tocar los hiperparametros teniendo en cuenta las funcionalidades que describe la documentación en la librería y llegamos al resultado acá demostrado.\n",
    "\n",
    "- Al ser un problema de clasificación binaria, la elección de **XGBClasifier** era una muy buena opción. Consideramos que es un modelo muy interesante y que tiene mucho potencial para este tipo de clasificación.\n",
    "\n",
    "- El modelo de Redes Neuronales, utilizamos perceptrón multicapa. En nuestro caso utilizamos 1 capa de 3 neuronas que fue la que nos dejó mejor resultado después de varias pruebas. No utilizamos una grilla de parámetros. Hicimos varias pruebas con valores extremos y centrales. Cuando se encontraba un valor alto de accuracy, con un determinado conjunto de valores hiperparámetros, se modifica de a poco ciertos parámetros deliberadamente con intención de obtener la mejor accuracy. Descubrimos que modificando ciertas variables categóricas, utilizando OneHotEncoder, en lugar de LabelEncoder, el modelo de la Red mejoraba mejor el accuracy y la métrica.\n",
    "\n",
    "- Se realizó un script llamado curations.py con el objetivo de poder modificar el modelo de curación. Uno de los modelos empleados fue el de OneHotEncoder y el otro el LabelEncoder. En esta notebook, esta por default el modelo de curación de LabelEncoder llamado **general** y el modelo de Redes Neuronales **MLP**.\n",
    "\n",
    "- En K\n",
    "\n",
    "- También creemos no tener la experiencia ni el conocimiento suficiente para retocar más profundamente los hiperparámetros del modelo, pero nos esforzamos en encontrar con las herramientas que tenemos, los más performantes para este conjunto de datos.\n",
    "\n",
    "\n"
   ]
  }
 ],
 "metadata": {
  "colab": {
   "collapsed_sections": [
    "068a19ae",
    "acce35f5",
    "a205aba7",
    "e0f4d095",
    "e5aece65",
    "79795cb1",
    "3ddbfe76",
    "66107fa3",
    "8d05ac0e",
    "961c79df",
    "f23ae096",
    "e68dcef0",
    "7fdcc0c7",
    "3518c39b",
    "86c052b9"
   ],
   "name": "Practico_Spaceship_Titanic.ipynb",
   "provenance": []
  },
  "kernelspec": {
   "display_name": "Python 3.9.12 ('base')",
   "language": "python",
   "name": "python3"
  },
  "language_info": {
   "codemirror_mode": {
    "name": "ipython",
    "version": 3
   },
   "file_extension": ".py",
   "mimetype": "text/x-python",
   "name": "python",
   "nbconvert_exporter": "python",
   "pygments_lexer": "ipython3",
   "version": "3.9.12"
  },
  "vscode": {
   "interpreter": {
    "hash": "878da1b279abf09d06b935ceb9f68f83f69da699836aa8598526eb33b08a8d28"
   }
  }
 },
 "nbformat": 4,
 "nbformat_minor": 5
}
