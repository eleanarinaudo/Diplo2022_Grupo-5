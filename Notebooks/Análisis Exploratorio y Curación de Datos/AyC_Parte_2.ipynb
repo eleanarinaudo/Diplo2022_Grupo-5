{
  "cells": [
    {
      "cell_type": "markdown",
      "metadata": {
        "id": "O3MiaydIAZbI"
      },
      "source": [
        "<html>\n",
        "  <h1  align=\"center\";> Diplomatura en Ciencia de Datos, Aprendizaje Automático y sus Aplicaciones\n",
        "  </h1>\n",
        "<hr>\n",
        "  <h3 align=\"center\";>\n",
        "  Edición 2022\n",
        "  </h3>\n",
        "<hr>\n",
        "  <h1 align=\"center\";>\n",
        "  Trabajo Práctico Entregable\n",
        "  </h1>\n",
        "  <h2 align=\"center\";>\n",
        "  Parte 2\n",
        "  </h2>\n",
        "</html>"
      ],
      "id": "O3MiaydIAZbI"
    },
    {
      "cell_type": "markdown",
      "metadata": {
        "id": "7zXvjv-eAkdm"
      },
      "source": [
        "## Profesora del Práctico:\n",
        "- Fonseca, Rocio\n",
        "\n",
        "## Integrantes [Grupo 5]:\n",
        "- Argüello, Leandro Ismael\n",
        "- Corral, Diego\n",
        "- Racciatti. Florencia\n",
        "- Rinaudo, Eleana\n",
        "- Romero, Ernest"
      ],
      "id": "7zXvjv-eAkdm"
    },
    {
      "cell_type": "markdown",
      "metadata": {
        "id": "jQpFGmkHAliW"
      },
      "source": [
        "<html>\n",
        "<hr>\n",
        "  <h1  align=\"center\";>\n",
        "    Análisis Exploratorio y Curación de Datos\n",
        "  </h1>\n",
        "</html>"
      ],
      "id": "jQpFGmkHAliW"
    },
    {
      "cell_type": "markdown",
      "metadata": {
        "id": "zymGPM29A5J-"
      },
      "source": [
        "# Importación de librerías"
      ],
      "id": "zymGPM29A5J-"
    },
    {
      "cell_type": "code",
      "execution_count": null,
      "metadata": {
        "id": "c7f744b6"
      },
      "outputs": [],
      "source": [
        "import pandas as pd\n",
        "import seaborn as sns\n",
        "from sklearn.preprocessing import OneHotEncoder\n",
        "import numpy as np\n",
        "import matplotlib.pyplot as plt\n",
        "sns.set_context('talk')\n",
        "\n",
        "import warnings\n",
        "warnings.filterwarnings(\"ignore\", category=DeprecationWarning)\n",
        "warnings.filterwarnings(\"ignore\", category=FutureWarning)\n",
        "warnings.filterwarnings(\"ignore\", category=UserWarning)\n",
        "%matplotlib inline"
      ],
      "id": "c7f744b6"
    },
    {
      "cell_type": "markdown",
      "metadata": {
        "id": "e0453642"
      },
      "source": [
        "### Ejercicio 1.1\n",
        "\n",
        "Seleccionar todas las filas y columnas del conjunto de datos obtenido en la parte 1 del entregable, excepto `BuildingArea` y `YearBuilt`, que volveremos a imputar más adelante."
      ],
      "id": "e0453642"
    },
    {
      "cell_type": "code",
      "execution_count": null,
      "metadata": {
        "colab": {
          "base_uri": "https://localhost:8080/",
          "height": 421
        },
        "id": "9c103073",
        "outputId": "bfd42006-70ff-4e7e-e6de-1f595e8332cb",
        "scrolled": false
      },
      "outputs": [
        {
          "output_type": "execute_result",
          "data": {
            "text/plain": [
              "       Suburb           Address  Rooms Type      Price Method SellerG  \\\n",
              "0  Abbotsford      85 Turner St      2    h  1480000.0      S  Biggin   \n",
              "1  Abbotsford   25 Bloomburg St      2    h  1035000.0      S  Biggin   \n",
              "2  Abbotsford      5 Charles St      3    h  1465000.0     SP  Biggin   \n",
              "3  Abbotsford  40 Federation La      3    h   850000.0     PI  Biggin   \n",
              "4  Abbotsford       55a Park St      4    h  1600000.0     VB  Nelson   \n",
              "\n",
              "        Date  Distance  Postcode  ...  CouncilArea  Lattitude  Longtitude  \\\n",
              "0  3/12/2016       2.0    3067.0  ...        Yarra      -38.0       145.0   \n",
              "1  4/02/2016       2.0    3067.0  ...        Yarra      -38.0       145.0   \n",
              "2  4/03/2017       2.0    3067.0  ...        Yarra      -38.0       145.0   \n",
              "3  4/03/2017       2.0    3067.0  ...        Yarra      -38.0       145.0   \n",
              "4  4/06/2016       2.0    3067.0  ...        Yarra      -38.0       145.0   \n",
              "\n",
              "              Regionname  Propertycount  zipcode airbnb_record_count  \\\n",
              "0  Northern Metropolitan         4019.0      NaN                 NaN   \n",
              "1  Northern Metropolitan         4019.0      NaN                 NaN   \n",
              "2  Northern Metropolitan         4019.0      NaN                 NaN   \n",
              "3  Northern Metropolitan         4019.0      NaN                 NaN   \n",
              "4  Northern Metropolitan         4019.0      NaN                 NaN   \n",
              "\n",
              "   airbnb_price_mean  airbnb_weekly_price_mean airbnb_monthly_price_mean  \n",
              "0                NaN                       NaN                       NaN  \n",
              "1                NaN                       NaN                       NaN  \n",
              "2                NaN                       NaN                       NaN  \n",
              "3                NaN                       NaN                       NaN  \n",
              "4                NaN                       NaN                       NaN  \n",
              "\n",
              "[5 rows x 26 columns]"
            ],
            "text/html": [
              "\n",
              "  <div id=\"df-6e1bcd04-66d5-463d-a527-4acce553d232\">\n",
              "    <div class=\"colab-df-container\">\n",
              "      <div>\n",
              "<style scoped>\n",
              "    .dataframe tbody tr th:only-of-type {\n",
              "        vertical-align: middle;\n",
              "    }\n",
              "\n",
              "    .dataframe tbody tr th {\n",
              "        vertical-align: top;\n",
              "    }\n",
              "\n",
              "    .dataframe thead th {\n",
              "        text-align: right;\n",
              "    }\n",
              "</style>\n",
              "<table border=\"1\" class=\"dataframe\">\n",
              "  <thead>\n",
              "    <tr style=\"text-align: right;\">\n",
              "      <th></th>\n",
              "      <th>Suburb</th>\n",
              "      <th>Address</th>\n",
              "      <th>Rooms</th>\n",
              "      <th>Type</th>\n",
              "      <th>Price</th>\n",
              "      <th>Method</th>\n",
              "      <th>SellerG</th>\n",
              "      <th>Date</th>\n",
              "      <th>Distance</th>\n",
              "      <th>Postcode</th>\n",
              "      <th>...</th>\n",
              "      <th>CouncilArea</th>\n",
              "      <th>Lattitude</th>\n",
              "      <th>Longtitude</th>\n",
              "      <th>Regionname</th>\n",
              "      <th>Propertycount</th>\n",
              "      <th>zipcode</th>\n",
              "      <th>airbnb_record_count</th>\n",
              "      <th>airbnb_price_mean</th>\n",
              "      <th>airbnb_weekly_price_mean</th>\n",
              "      <th>airbnb_monthly_price_mean</th>\n",
              "    </tr>\n",
              "  </thead>\n",
              "  <tbody>\n",
              "    <tr>\n",
              "      <th>0</th>\n",
              "      <td>Abbotsford</td>\n",
              "      <td>85 Turner St</td>\n",
              "      <td>2</td>\n",
              "      <td>h</td>\n",
              "      <td>1480000.0</td>\n",
              "      <td>S</td>\n",
              "      <td>Biggin</td>\n",
              "      <td>3/12/2016</td>\n",
              "      <td>2.0</td>\n",
              "      <td>3067.0</td>\n",
              "      <td>...</td>\n",
              "      <td>Yarra</td>\n",
              "      <td>-38.0</td>\n",
              "      <td>145.0</td>\n",
              "      <td>Northern Metropolitan</td>\n",
              "      <td>4019.0</td>\n",
              "      <td>NaN</td>\n",
              "      <td>NaN</td>\n",
              "      <td>NaN</td>\n",
              "      <td>NaN</td>\n",
              "      <td>NaN</td>\n",
              "    </tr>\n",
              "    <tr>\n",
              "      <th>1</th>\n",
              "      <td>Abbotsford</td>\n",
              "      <td>25 Bloomburg St</td>\n",
              "      <td>2</td>\n",
              "      <td>h</td>\n",
              "      <td>1035000.0</td>\n",
              "      <td>S</td>\n",
              "      <td>Biggin</td>\n",
              "      <td>4/02/2016</td>\n",
              "      <td>2.0</td>\n",
              "      <td>3067.0</td>\n",
              "      <td>...</td>\n",
              "      <td>Yarra</td>\n",
              "      <td>-38.0</td>\n",
              "      <td>145.0</td>\n",
              "      <td>Northern Metropolitan</td>\n",
              "      <td>4019.0</td>\n",
              "      <td>NaN</td>\n",
              "      <td>NaN</td>\n",
              "      <td>NaN</td>\n",
              "      <td>NaN</td>\n",
              "      <td>NaN</td>\n",
              "    </tr>\n",
              "    <tr>\n",
              "      <th>2</th>\n",
              "      <td>Abbotsford</td>\n",
              "      <td>5 Charles St</td>\n",
              "      <td>3</td>\n",
              "      <td>h</td>\n",
              "      <td>1465000.0</td>\n",
              "      <td>SP</td>\n",
              "      <td>Biggin</td>\n",
              "      <td>4/03/2017</td>\n",
              "      <td>2.0</td>\n",
              "      <td>3067.0</td>\n",
              "      <td>...</td>\n",
              "      <td>Yarra</td>\n",
              "      <td>-38.0</td>\n",
              "      <td>145.0</td>\n",
              "      <td>Northern Metropolitan</td>\n",
              "      <td>4019.0</td>\n",
              "      <td>NaN</td>\n",
              "      <td>NaN</td>\n",
              "      <td>NaN</td>\n",
              "      <td>NaN</td>\n",
              "      <td>NaN</td>\n",
              "    </tr>\n",
              "    <tr>\n",
              "      <th>3</th>\n",
              "      <td>Abbotsford</td>\n",
              "      <td>40 Federation La</td>\n",
              "      <td>3</td>\n",
              "      <td>h</td>\n",
              "      <td>850000.0</td>\n",
              "      <td>PI</td>\n",
              "      <td>Biggin</td>\n",
              "      <td>4/03/2017</td>\n",
              "      <td>2.0</td>\n",
              "      <td>3067.0</td>\n",
              "      <td>...</td>\n",
              "      <td>Yarra</td>\n",
              "      <td>-38.0</td>\n",
              "      <td>145.0</td>\n",
              "      <td>Northern Metropolitan</td>\n",
              "      <td>4019.0</td>\n",
              "      <td>NaN</td>\n",
              "      <td>NaN</td>\n",
              "      <td>NaN</td>\n",
              "      <td>NaN</td>\n",
              "      <td>NaN</td>\n",
              "    </tr>\n",
              "    <tr>\n",
              "      <th>4</th>\n",
              "      <td>Abbotsford</td>\n",
              "      <td>55a Park St</td>\n",
              "      <td>4</td>\n",
              "      <td>h</td>\n",
              "      <td>1600000.0</td>\n",
              "      <td>VB</td>\n",
              "      <td>Nelson</td>\n",
              "      <td>4/06/2016</td>\n",
              "      <td>2.0</td>\n",
              "      <td>3067.0</td>\n",
              "      <td>...</td>\n",
              "      <td>Yarra</td>\n",
              "      <td>-38.0</td>\n",
              "      <td>145.0</td>\n",
              "      <td>Northern Metropolitan</td>\n",
              "      <td>4019.0</td>\n",
              "      <td>NaN</td>\n",
              "      <td>NaN</td>\n",
              "      <td>NaN</td>\n",
              "      <td>NaN</td>\n",
              "      <td>NaN</td>\n",
              "    </tr>\n",
              "  </tbody>\n",
              "</table>\n",
              "<p>5 rows × 26 columns</p>\n",
              "</div>\n",
              "      <button class=\"colab-df-convert\" onclick=\"convertToInteractive('df-6e1bcd04-66d5-463d-a527-4acce553d232')\"\n",
              "              title=\"Convert this dataframe to an interactive table.\"\n",
              "              style=\"display:none;\">\n",
              "        \n",
              "  <svg xmlns=\"http://www.w3.org/2000/svg\" height=\"24px\"viewBox=\"0 0 24 24\"\n",
              "       width=\"24px\">\n",
              "    <path d=\"M0 0h24v24H0V0z\" fill=\"none\"/>\n",
              "    <path d=\"M18.56 5.44l.94 2.06.94-2.06 2.06-.94-2.06-.94-.94-2.06-.94 2.06-2.06.94zm-11 1L8.5 8.5l.94-2.06 2.06-.94-2.06-.94L8.5 2.5l-.94 2.06-2.06.94zm10 10l.94 2.06.94-2.06 2.06-.94-2.06-.94-.94-2.06-.94 2.06-2.06.94z\"/><path d=\"M17.41 7.96l-1.37-1.37c-.4-.4-.92-.59-1.43-.59-.52 0-1.04.2-1.43.59L10.3 9.45l-7.72 7.72c-.78.78-.78 2.05 0 2.83L4 21.41c.39.39.9.59 1.41.59.51 0 1.02-.2 1.41-.59l7.78-7.78 2.81-2.81c.8-.78.8-2.07 0-2.86zM5.41 20L4 18.59l7.72-7.72 1.47 1.35L5.41 20z\"/>\n",
              "  </svg>\n",
              "      </button>\n",
              "      \n",
              "  <style>\n",
              "    .colab-df-container {\n",
              "      display:flex;\n",
              "      flex-wrap:wrap;\n",
              "      gap: 12px;\n",
              "    }\n",
              "\n",
              "    .colab-df-convert {\n",
              "      background-color: #E8F0FE;\n",
              "      border: none;\n",
              "      border-radius: 50%;\n",
              "      cursor: pointer;\n",
              "      display: none;\n",
              "      fill: #1967D2;\n",
              "      height: 32px;\n",
              "      padding: 0 0 0 0;\n",
              "      width: 32px;\n",
              "    }\n",
              "\n",
              "    .colab-df-convert:hover {\n",
              "      background-color: #E2EBFA;\n",
              "      box-shadow: 0px 1px 2px rgba(60, 64, 67, 0.3), 0px 1px 3px 1px rgba(60, 64, 67, 0.15);\n",
              "      fill: #174EA6;\n",
              "    }\n",
              "\n",
              "    [theme=dark] .colab-df-convert {\n",
              "      background-color: #3B4455;\n",
              "      fill: #D2E3FC;\n",
              "    }\n",
              "\n",
              "    [theme=dark] .colab-df-convert:hover {\n",
              "      background-color: #434B5C;\n",
              "      box-shadow: 0px 1px 3px 1px rgba(0, 0, 0, 0.15);\n",
              "      filter: drop-shadow(0px 1px 2px rgba(0, 0, 0, 0.3));\n",
              "      fill: #FFFFFF;\n",
              "    }\n",
              "  </style>\n",
              "\n",
              "      <script>\n",
              "        const buttonEl =\n",
              "          document.querySelector('#df-6e1bcd04-66d5-463d-a527-4acce553d232 button.colab-df-convert');\n",
              "        buttonEl.style.display =\n",
              "          google.colab.kernel.accessAllowed ? 'block' : 'none';\n",
              "\n",
              "        async function convertToInteractive(key) {\n",
              "          const element = document.querySelector('#df-6e1bcd04-66d5-463d-a527-4acce553d232');\n",
              "          const dataTable =\n",
              "            await google.colab.kernel.invokeFunction('convertToInteractive',\n",
              "                                                     [key], {});\n",
              "          if (!dataTable) return;\n",
              "\n",
              "          const docLinkHtml = 'Like what you see? Visit the ' +\n",
              "            '<a target=\"_blank\" href=https://colab.research.google.com/notebooks/data_table.ipynb>data table notebook</a>'\n",
              "            + ' to learn more about interactive tables.';\n",
              "          element.innerHTML = '';\n",
              "          dataTable['output_type'] = 'display_data';\n",
              "          await google.colab.output.renderOutput(dataTable, element);\n",
              "          const docLink = document.createElement('div');\n",
              "          docLink.innerHTML = docLinkHtml;\n",
              "          element.appendChild(docLink);\n",
              "        }\n",
              "      </script>\n",
              "    </div>\n",
              "  </div>\n",
              "  "
            ]
          },
          "metadata": {},
          "execution_count": 3
        }
      ],
      "source": [
        "url = r\"https://raw.githubusercontent.com/eleanarinaudo/Diplo2022_Grupo-5/main/Notebooks/An%C3%A1lisis%20Exploratorio%20y%20Curaci%C3%B3n%20de%20Datos/csv/melb_data_extended.csv\"\n",
        "df_extend = pd.read_csv(url)\n",
        "df_extend_copy = df_extend.copy()\n",
        "df_extend_copy.columns.to_list()\n",
        "df_extend_copy.head()\n"
      ],
      "id": "9c103073"
    },
    {
      "cell_type": "code",
      "execution_count": null,
      "metadata": {
        "colab": {
          "base_uri": "https://localhost:8080/"
        },
        "id": "b8ed12fd",
        "outputId": "533728f7-addf-44a9-d7c3-8474881216e4",
        "scrolled": true
      },
      "outputs": [
        {
          "output_type": "execute_result",
          "data": {
            "text/plain": [
              "Suburb                          0\n",
              "Address                         0\n",
              "Rooms                           0\n",
              "Type                            0\n",
              "Price                           0\n",
              "Method                          0\n",
              "SellerG                         0\n",
              "Date                            0\n",
              "Distance                        0\n",
              "Postcode                        0\n",
              "Bedroom2                        0\n",
              "Bathroom                        0\n",
              "Car                             0\n",
              "Landsize                        0\n",
              "BuildingArea                 4217\n",
              "YearBuilt                    3564\n",
              "CouncilArea                   746\n",
              "Lattitude                       0\n",
              "Longtitude                      0\n",
              "Regionname                      0\n",
              "Propertycount                   0\n",
              "zipcode                      4126\n",
              "airbnb_record_count          4126\n",
              "airbnb_price_mean            4126\n",
              "airbnb_weekly_price_mean     4178\n",
              "airbnb_monthly_price_mean    4126\n",
              "dtype: int64"
            ]
          },
          "metadata": {},
          "execution_count": 4
        }
      ],
      "source": [
        "df_extend_copy.isnull().sum()\n"
      ],
      "id": "b8ed12fd"
    },
    {
      "cell_type": "markdown",
      "metadata": {
        "id": "1EO5kd-Y7lq_"
      },
      "source": [
        "Quitamos las columnas"
      ],
      "id": "1EO5kd-Y7lq_"
    },
    {
      "cell_type": "code",
      "execution_count": null,
      "metadata": {
        "colab": {
          "base_uri": "https://localhost:8080/",
          "height": 162
        },
        "id": "427365c6",
        "outputId": "b7eb505c-2442-4211-8689-8a64b3d0734a"
      },
      "outputs": [
        {
          "output_type": "execute_result",
          "data": {
            "text/plain": [
              "       Suburb  Rooms Type      Price       Date  Distance  Postcode  Bedroom2  \\\n",
              "0  Abbotsford      2    h  1480000.0  3/12/2016       2.0    3067.0       2.0   \n",
              "\n",
              "   Bathroom  Car  Landsize  Lattitude  Longtitude             Regionname  \\\n",
              "0       1.0  1.0     202.0      -38.0       145.0  Northern Metropolitan   \n",
              "\n",
              "   Propertycount  zipcode  airbnb_record_count  airbnb_price_mean  \\\n",
              "0         4019.0      NaN                  NaN                NaN   \n",
              "\n",
              "   airbnb_weekly_price_mean  airbnb_monthly_price_mean  \n",
              "0                       NaN                        NaN  "
            ],
            "text/html": [
              "\n",
              "  <div id=\"df-c5d5da2f-b037-42e7-bfec-73c1adb94023\">\n",
              "    <div class=\"colab-df-container\">\n",
              "      <div>\n",
              "<style scoped>\n",
              "    .dataframe tbody tr th:only-of-type {\n",
              "        vertical-align: middle;\n",
              "    }\n",
              "\n",
              "    .dataframe tbody tr th {\n",
              "        vertical-align: top;\n",
              "    }\n",
              "\n",
              "    .dataframe thead th {\n",
              "        text-align: right;\n",
              "    }\n",
              "</style>\n",
              "<table border=\"1\" class=\"dataframe\">\n",
              "  <thead>\n",
              "    <tr style=\"text-align: right;\">\n",
              "      <th></th>\n",
              "      <th>Suburb</th>\n",
              "      <th>Rooms</th>\n",
              "      <th>Type</th>\n",
              "      <th>Price</th>\n",
              "      <th>Date</th>\n",
              "      <th>Distance</th>\n",
              "      <th>Postcode</th>\n",
              "      <th>Bedroom2</th>\n",
              "      <th>Bathroom</th>\n",
              "      <th>Car</th>\n",
              "      <th>Landsize</th>\n",
              "      <th>Lattitude</th>\n",
              "      <th>Longtitude</th>\n",
              "      <th>Regionname</th>\n",
              "      <th>Propertycount</th>\n",
              "      <th>zipcode</th>\n",
              "      <th>airbnb_record_count</th>\n",
              "      <th>airbnb_price_mean</th>\n",
              "      <th>airbnb_weekly_price_mean</th>\n",
              "      <th>airbnb_monthly_price_mean</th>\n",
              "    </tr>\n",
              "  </thead>\n",
              "  <tbody>\n",
              "    <tr>\n",
              "      <th>0</th>\n",
              "      <td>Abbotsford</td>\n",
              "      <td>2</td>\n",
              "      <td>h</td>\n",
              "      <td>1480000.0</td>\n",
              "      <td>3/12/2016</td>\n",
              "      <td>2.0</td>\n",
              "      <td>3067.0</td>\n",
              "      <td>2.0</td>\n",
              "      <td>1.0</td>\n",
              "      <td>1.0</td>\n",
              "      <td>202.0</td>\n",
              "      <td>-38.0</td>\n",
              "      <td>145.0</td>\n",
              "      <td>Northern Metropolitan</td>\n",
              "      <td>4019.0</td>\n",
              "      <td>NaN</td>\n",
              "      <td>NaN</td>\n",
              "      <td>NaN</td>\n",
              "      <td>NaN</td>\n",
              "      <td>NaN</td>\n",
              "    </tr>\n",
              "  </tbody>\n",
              "</table>\n",
              "</div>\n",
              "      <button class=\"colab-df-convert\" onclick=\"convertToInteractive('df-c5d5da2f-b037-42e7-bfec-73c1adb94023')\"\n",
              "              title=\"Convert this dataframe to an interactive table.\"\n",
              "              style=\"display:none;\">\n",
              "        \n",
              "  <svg xmlns=\"http://www.w3.org/2000/svg\" height=\"24px\"viewBox=\"0 0 24 24\"\n",
              "       width=\"24px\">\n",
              "    <path d=\"M0 0h24v24H0V0z\" fill=\"none\"/>\n",
              "    <path d=\"M18.56 5.44l.94 2.06.94-2.06 2.06-.94-2.06-.94-.94-2.06-.94 2.06-2.06.94zm-11 1L8.5 8.5l.94-2.06 2.06-.94-2.06-.94L8.5 2.5l-.94 2.06-2.06.94zm10 10l.94 2.06.94-2.06 2.06-.94-2.06-.94-.94-2.06-.94 2.06-2.06.94z\"/><path d=\"M17.41 7.96l-1.37-1.37c-.4-.4-.92-.59-1.43-.59-.52 0-1.04.2-1.43.59L10.3 9.45l-7.72 7.72c-.78.78-.78 2.05 0 2.83L4 21.41c.39.39.9.59 1.41.59.51 0 1.02-.2 1.41-.59l7.78-7.78 2.81-2.81c.8-.78.8-2.07 0-2.86zM5.41 20L4 18.59l7.72-7.72 1.47 1.35L5.41 20z\"/>\n",
              "  </svg>\n",
              "      </button>\n",
              "      \n",
              "  <style>\n",
              "    .colab-df-container {\n",
              "      display:flex;\n",
              "      flex-wrap:wrap;\n",
              "      gap: 12px;\n",
              "    }\n",
              "\n",
              "    .colab-df-convert {\n",
              "      background-color: #E8F0FE;\n",
              "      border: none;\n",
              "      border-radius: 50%;\n",
              "      cursor: pointer;\n",
              "      display: none;\n",
              "      fill: #1967D2;\n",
              "      height: 32px;\n",
              "      padding: 0 0 0 0;\n",
              "      width: 32px;\n",
              "    }\n",
              "\n",
              "    .colab-df-convert:hover {\n",
              "      background-color: #E2EBFA;\n",
              "      box-shadow: 0px 1px 2px rgba(60, 64, 67, 0.3), 0px 1px 3px 1px rgba(60, 64, 67, 0.15);\n",
              "      fill: #174EA6;\n",
              "    }\n",
              "\n",
              "    [theme=dark] .colab-df-convert {\n",
              "      background-color: #3B4455;\n",
              "      fill: #D2E3FC;\n",
              "    }\n",
              "\n",
              "    [theme=dark] .colab-df-convert:hover {\n",
              "      background-color: #434B5C;\n",
              "      box-shadow: 0px 1px 3px 1px rgba(0, 0, 0, 0.15);\n",
              "      filter: drop-shadow(0px 1px 2px rgba(0, 0, 0, 0.3));\n",
              "      fill: #FFFFFF;\n",
              "    }\n",
              "  </style>\n",
              "\n",
              "      <script>\n",
              "        const buttonEl =\n",
              "          document.querySelector('#df-c5d5da2f-b037-42e7-bfec-73c1adb94023 button.colab-df-convert');\n",
              "        buttonEl.style.display =\n",
              "          google.colab.kernel.accessAllowed ? 'block' : 'none';\n",
              "\n",
              "        async function convertToInteractive(key) {\n",
              "          const element = document.querySelector('#df-c5d5da2f-b037-42e7-bfec-73c1adb94023');\n",
              "          const dataTable =\n",
              "            await google.colab.kernel.invokeFunction('convertToInteractive',\n",
              "                                                     [key], {});\n",
              "          if (!dataTable) return;\n",
              "\n",
              "          const docLinkHtml = 'Like what you see? Visit the ' +\n",
              "            '<a target=\"_blank\" href=https://colab.research.google.com/notebooks/data_table.ipynb>data table notebook</a>'\n",
              "            + ' to learn more about interactive tables.';\n",
              "          element.innerHTML = '';\n",
              "          dataTable['output_type'] = 'display_data';\n",
              "          await google.colab.output.renderOutput(dataTable, element);\n",
              "          const docLink = document.createElement('div');\n",
              "          docLink.innerHTML = docLinkHtml;\n",
              "          element.appendChild(docLink);\n",
              "        }\n",
              "      </script>\n",
              "    </div>\n",
              "  </div>\n",
              "  "
            ]
          },
          "metadata": {},
          "execution_count": 5
        }
      ],
      "source": [
        "df_extend_filtered = df_extend_copy.drop(\n",
        "    columns=[\n",
        "        \"Address\",\n",
        "        \"Method\",\n",
        "        \"CouncilArea\",\n",
        "        \"YearBuilt\",\n",
        "        \"BuildingArea\",\n",
        "        \"SellerG\",\n",
        "    ],\n",
        "    inplace=False,\n",
        ")\n",
        "df_extend_filtered.head(1)\n"
      ],
      "id": "427365c6"
    },
    {
      "cell_type": "markdown",
      "metadata": {
        "id": "f450467f"
      },
      "source": [
        "### Ejercicio 1.2 \n",
        "Aplicar una codificación **One-hot encoding** a cada fila, tanto para variables numéricas como categóricas.\n",
        "\n",
        "Si lo consideran necesario, pueden volver a reducir el número de categorías únicas."
      ],
      "id": "f450467f"
    },
    {
      "cell_type": "code",
      "execution_count": null,
      "metadata": {
        "colab": {
          "base_uri": "https://localhost:8080/"
        },
        "id": "1b56c43e",
        "outputId": "f637b954-f8cf-4ee1-f5ac-8a4c612e953c",
        "scrolled": true
      },
      "outputs": [
        {
          "output_type": "stream",
          "name": "stdout",
          "text": [
            "<class 'pandas.core.frame.DataFrame'>\n",
            "RangeIndex: 8759 entries, 0 to 8758\n",
            "Data columns (total 20 columns):\n",
            " #   Column                     Non-Null Count  Dtype  \n",
            "---  ------                     --------------  -----  \n",
            " 0   Suburb                     8759 non-null   object \n",
            " 1   Rooms                      8759 non-null   int64  \n",
            " 2   Type                       8759 non-null   object \n",
            " 3   Price                      8759 non-null   float64\n",
            " 4   Date                       8759 non-null   object \n",
            " 5   Distance                   8759 non-null   float64\n",
            " 6   Postcode                   8759 non-null   float64\n",
            " 7   Bedroom2                   8759 non-null   float64\n",
            " 8   Bathroom                   8759 non-null   float64\n",
            " 9   Car                        8759 non-null   float64\n",
            " 10  Landsize                   8759 non-null   float64\n",
            " 11  Lattitude                  8759 non-null   float64\n",
            " 12  Longtitude                 8759 non-null   float64\n",
            " 13  Regionname                 8759 non-null   object \n",
            " 14  Propertycount              8759 non-null   float64\n",
            " 15  zipcode                    4633 non-null   float64\n",
            " 16  airbnb_record_count        4633 non-null   float64\n",
            " 17  airbnb_price_mean          4633 non-null   float64\n",
            " 18  airbnb_weekly_price_mean   4581 non-null   float64\n",
            " 19  airbnb_monthly_price_mean  4633 non-null   float64\n",
            "dtypes: float64(15), int64(1), object(4)\n",
            "memory usage: 1.3+ MB\n"
          ]
        }
      ],
      "source": [
        "df_extend_filtered.info()\n"
      ],
      "id": "1b56c43e"
    },
    {
      "cell_type": "code",
      "execution_count": null,
      "metadata": {
        "id": "8d93e325"
      },
      "outputs": [],
      "source": [
        "cat_cols = [\"Suburb\", \"Type\", \"Regionname\", \"Date\"]\n",
        "num_cols = [\n",
        "  'Rooms',\n",
        "  'Price',\n",
        "  'Distance',\n",
        "  'Postcode',\n",
        "  'Bedroom2',\n",
        "  'Bathroom',\n",
        "  'Car',\n",
        "  'Landsize',\n",
        "  'Propertycount'\n",
        "] # No incluimos en el análisis las columnas de airbnb que contienen valores nulos y se genera un conflicto al aplicar el método PCA. \n",
        "new_columns = []"
      ],
      "id": "8d93e325"
    },
    {
      "cell_type": "code",
      "execution_count": null,
      "metadata": {
        "colab": {
          "base_uri": "https://localhost:8080/"
        },
        "id": "78af96e4",
        "outputId": "5f0e1aba-eb06-4e92-b590-43f789c01fee"
      },
      "outputs": [
        {
          "output_type": "execute_result",
          "data": {
            "text/plain": [
              "Suburb        222\n",
              "Type            3\n",
              "Regionname      5\n",
              "Date           58\n",
              "dtype: int64"
            ]
          },
          "metadata": {},
          "execution_count": 8
        }
      ],
      "source": [
        "df_extend_filtered[cat_cols].nunique()\n"
      ],
      "id": "78af96e4"
    },
    {
      "cell_type": "code",
      "execution_count": null,
      "metadata": {
        "colab": {
          "base_uri": "https://localhost:8080/"
        },
        "id": "57825397",
        "outputId": "43805715-c8fc-41f0-a709-ff2a1d67b013"
      },
      "outputs": [
        {
          "output_type": "execute_result",
          "data": {
            "text/plain": [
              "Suburb        0\n",
              "Type          0\n",
              "Regionname    0\n",
              "Date          0\n",
              "dtype: int64"
            ]
          },
          "metadata": {},
          "execution_count": 9
        }
      ],
      "source": [
        "df_extend_filtered[cat_cols].isna().sum()\n"
      ],
      "id": "57825397"
    },
    {
      "cell_type": "code",
      "execution_count": null,
      "metadata": {
        "colab": {
          "base_uri": "https://localhost:8080/"
        },
        "id": "543f4ee8",
        "outputId": "24c7c8d6-23c5-4e15-bcd9-a5fc2c82853d"
      },
      "outputs": [
        {
          "output_type": "execute_result",
          "data": {
            "text/plain": [
              "[array(['Bentleigh East', 'Reservoir', 'Preston', 'Richmond', 'Brunswick',\n",
              "        'Coburg', 'Essendon', 'Pascoe Vale', 'Yarraville', 'Northcote',\n",
              "        'Moonee Ponds', 'Newport', 'South Yarra', 'Thornbury',\n",
              "        'Ascot Vale', 'Port Melbourne', 'Glenroy', 'Bentleigh',\n",
              "        'Keilor East', 'Carnegie', 'Glen Iris', 'Prahran', 'Sunshine',\n",
              "        'Hawthorn', 'Brighton', 'Brighton East', 'Footscray', 'Kew',\n",
              "        'Fawkner', 'Elwood'], dtype=object),\n",
              " array(['h', 'u', 't'], dtype=object),\n",
              " array(['Northern Metropolitan', 'Southern Metropolitan',\n",
              "        'Western Metropolitan', 'Eastern Metropolitan',\n",
              "        'South-Eastern Metropolitan'], dtype=object),\n",
              " array(['27/05/2017', '27/11/2016', '3/06/2017', '4/03/2017', '10/12/2016',\n",
              "        '25/02/2017', '17/06/2017', '12/08/2017', '15/10/2016',\n",
              "        '12/11/2016', '18/03/2017', '24/06/2017', '29/07/2017',\n",
              "        '8/04/2017', '8/10/2016', '20/05/2017', '19/11/2016', '3/12/2016',\n",
              "        '24/09/2016', '17/09/2016', '22/07/2017', '8/07/2017',\n",
              "        '18/06/2016', '28/08/2016', '28/05/2016', '15/07/2017',\n",
              "        '13/05/2017', '16/04/2016', '29/04/2017', '3/09/2016'],\n",
              "       dtype=object)]"
            ]
          },
          "metadata": {},
          "execution_count": 10
        }
      ],
      "source": [
        "max_values = 30\n",
        "categories = [\n",
        "    df_extend_filtered[col].value_counts()[:max_values].index.values for col in cat_cols\n",
        "]\n",
        "categories\n"
      ],
      "id": "543f4ee8"
    },
    {
      "cell_type": "code",
      "execution_count": null,
      "metadata": {
        "colab": {
          "base_uri": "https://localhost:8080/"
        },
        "id": "a6a01162",
        "outputId": "834b7261-4d98-414e-ee31-7b40a343c8a8",
        "scrolled": true
      },
      "outputs": [
        {
          "output_type": "execute_result",
          "data": {
            "text/plain": [
              "(8759, 82)"
            ]
          },
          "metadata": {},
          "execution_count": 11
        }
      ],
      "source": [
        "from sklearn.preprocessing import OneHotEncoder\n",
        "\n",
        "encoder = OneHotEncoder(categories=categories, handle_unknown=\"ignore\")\n",
        "encoder.fit(df_extend_filtered[cat_cols])\n",
        "\n",
        "X_melb = encoder.transform(df_extend_filtered[cat_cols]).todense()\n",
        "X_melb = np.hstack([X_melb, df_extend_filtered[num_cols]])\n",
        "X_melb.shape\n"
      ],
      "id": "a6a01162"
    },
    {
      "cell_type": "code",
      "execution_count": null,
      "metadata": {
        "colab": {
          "base_uri": "https://localhost:8080/"
        },
        "id": "f388559e",
        "outputId": "92b9e301-ac68-499f-f955-8f974b760b39"
      },
      "outputs": [
        {
          "output_type": "execute_result",
          "data": {
            "text/plain": [
              "array(['x0_Bentleigh East', 'x0_Reservoir', 'x0_Preston', 'x0_Richmond',\n",
              "       'x0_Brunswick', 'x0_Coburg', 'x0_Essendon', 'x0_Pascoe Vale',\n",
              "       'x0_Yarraville', 'x0_Northcote', 'x0_Moonee Ponds', 'x0_Newport',\n",
              "       'x0_South Yarra', 'x0_Thornbury', 'x0_Ascot Vale',\n",
              "       'x0_Port Melbourne', 'x0_Glenroy', 'x0_Bentleigh',\n",
              "       'x0_Keilor East', 'x0_Carnegie', 'x0_Glen Iris', 'x0_Prahran',\n",
              "       'x0_Sunshine', 'x0_Hawthorn', 'x0_Brighton', 'x0_Brighton East',\n",
              "       'x0_Footscray', 'x0_Kew', 'x0_Fawkner', 'x0_Elwood', 'x1_h',\n",
              "       'x1_u', 'x1_t', 'x2_Northern Metropolitan',\n",
              "       'x2_Southern Metropolitan', 'x2_Western Metropolitan',\n",
              "       'x2_Eastern Metropolitan', 'x2_South-Eastern Metropolitan',\n",
              "       'x3_27/05/2017', 'x3_27/11/2016', 'x3_3/06/2017', 'x3_4/03/2017',\n",
              "       'x3_10/12/2016', 'x3_25/02/2017', 'x3_17/06/2017', 'x3_12/08/2017',\n",
              "       'x3_15/10/2016', 'x3_12/11/2016', 'x3_18/03/2017', 'x3_24/06/2017',\n",
              "       'x3_29/07/2017', 'x3_8/04/2017', 'x3_8/10/2016', 'x3_20/05/2017',\n",
              "       'x3_19/11/2016', 'x3_3/12/2016', 'x3_24/09/2016', 'x3_17/09/2016',\n",
              "       'x3_22/07/2017', 'x3_8/07/2017', 'x3_18/06/2016', 'x3_28/08/2016',\n",
              "       'x3_28/05/2016', 'x3_15/07/2017', 'x3_13/05/2017', 'x3_16/04/2016',\n",
              "       'x3_29/04/2017', 'x3_3/09/2016'], dtype=object)"
            ]
          },
          "metadata": {},
          "execution_count": 12
        }
      ],
      "source": [
        "encoder.get_feature_names()\n"
      ],
      "id": "f388559e"
    },
    {
      "cell_type": "code",
      "execution_count": null,
      "metadata": {
        "colab": {
          "base_uri": "https://localhost:8080/"
        },
        "id": "dd273a4a",
        "outputId": "ff1e282f-bb59-4067-db54-322fcc1b5fbd"
      },
      "outputs": [
        {
          "output_type": "execute_result",
          "data": {
            "text/plain": [
              "matrix([[   0.,    0.,    0., ...,   nan,   nan,   nan],\n",
              "        [   0.,    0.,    0., ...,   nan,   nan,   nan],\n",
              "        [   0.,    0.,    0., ...,   nan,   nan,   nan],\n",
              "        ...,\n",
              "        [   0.,    0.,    0., ...,  107.,  612., 2120.],\n",
              "        [   0.,    0.,    0., ...,  107.,  612., 2120.],\n",
              "        [   0.,    0.,    0., ...,   nan,   nan,   nan]])"
            ]
          },
          "metadata": {},
          "execution_count": 13
        }
      ],
      "source": [
        "X_melb\n"
      ],
      "id": "dd273a4a"
    },
    {
      "cell_type": "markdown",
      "metadata": {
        "id": "8f872d99"
      },
      "source": [
        "### Ejercicio 2.1\n",
        "Agregue a la matriz obtenida en el punto anterior las columnas `YearBuilt` y `BuildingArea`."
      ],
      "id": "8f872d99"
    },
    {
      "cell_type": "markdown",
      "metadata": {
        "id": "oYEX_d4c8SXH"
      },
      "source": [
        "Usamos el `df` sin codificar"
      ],
      "id": "oYEX_d4c8SXH"
    },
    {
      "cell_type": "code",
      "execution_count": null,
      "metadata": {
        "id": "fe27ac98"
      },
      "outputs": [],
      "source": [
        "melb_data_mice = df_extend_copy.copy(deep=True)\n"
      ],
      "id": "fe27ac98"
    },
    {
      "cell_type": "code",
      "execution_count": null,
      "metadata": {
        "colab": {
          "base_uri": "https://localhost:8080/"
        },
        "id": "52512f26",
        "outputId": "e28232f7-dad5-470c-e4ce-170693014e6e"
      },
      "outputs": [
        {
          "output_type": "execute_result",
          "data": {
            "text/plain": [
              "0          NaN\n",
              "1       1900.0\n",
              "2       1900.0\n",
              "3          NaN\n",
              "4       2014.0\n",
              "         ...  \n",
              "8754       NaN\n",
              "8755    1981.0\n",
              "8756    1995.0\n",
              "8757    1997.0\n",
              "8758    1920.0\n",
              "Name: YearBuilt, Length: 8759, dtype: float64"
            ]
          },
          "metadata": {},
          "execution_count": 15
        }
      ],
      "source": [
        "df_extend_copy.YearBuilt\n"
      ],
      "id": "52512f26"
    },
    {
      "cell_type": "code",
      "source": [
        "df_extend_copy.BuildingArea\n"
      ],
      "metadata": {
        "colab": {
          "base_uri": "https://localhost:8080/"
        },
        "id": "Xm8iigPbF7Kt",
        "outputId": "7ef81164-a3a8-49b5-c0bb-a6e235717491"
      },
      "id": "Xm8iigPbF7Kt",
      "execution_count": null,
      "outputs": [
        {
          "output_type": "execute_result",
          "data": {
            "text/plain": [
              "0         NaN\n",
              "1        79.0\n",
              "2       150.0\n",
              "3         NaN\n",
              "4       142.0\n",
              "        ...  \n",
              "8754      NaN\n",
              "8755      NaN\n",
              "8756    133.0\n",
              "8757      NaN\n",
              "8758    112.0\n",
              "Name: BuildingArea, Length: 8759, dtype: float64"
            ]
          },
          "metadata": {},
          "execution_count": 16
        }
      ]
    },
    {
      "cell_type": "markdown",
      "metadata": {
        "id": "RufKl10L8oQ7"
      },
      "source": [
        "### Ejercicio 2.2\n",
        "Aplique una instancia de IterativeImputer con un estimador KNeighborsRegressor para imputar los valores de las variables. ¿Es necesario estandarizar o escalar los datos previamente?"
      ],
      "id": "RufKl10L8oQ7"
    },
    {
      "cell_type": "code",
      "execution_count": null,
      "metadata": {
        "id": "7b35523f"
      },
      "outputs": [],
      "source": [
        "from sklearn.experimental import enable_iterative_imputer\n",
        "from sklearn.neighbors import KNeighborsRegressor\n",
        "from sklearn.impute import IterativeImputer\n",
        "from sklearn.preprocessing import StandardScaler"
      ],
      "id": "7b35523f"
    },
    {
      "cell_type": "markdown",
      "metadata": {
        "id": "nIPrqKyQ8Yy-"
      },
      "source": [
        "StandardScaler"
      ],
      "id": "nIPrqKyQ8Yy-"
    },
    {
      "cell_type": "code",
      "execution_count": null,
      "metadata": {
        "id": "d1c712b8"
      },
      "outputs": [],
      "source": [
        "mice_imputer = IterativeImputer(random_state=0, estimator=KNeighborsRegressor())\n",
        "\n",
        "melb_data_mice[\"yearB_scaled\"] = StandardScaler().fit_transform(\n",
        "    melb_data_mice[[\"YearBuilt\"]]\n",
        ")\n",
        "melb_data_mice[\"buildingA_scaled\"] = StandardScaler().fit_transform(\n",
        "    melb_data_mice[[\"BuildingArea\"]]\n",
        ")\n",
        "melb_data_mice[\n",
        "    [\"yearB_scaled_imputed\", \"building_area_scaled_imputed\"]\n",
        "] = mice_imputer.fit_transform(melb_data_mice[[\"yearB_scaled\", \"buildingA_scaled\"]])\n"
      ],
      "id": "d1c712b8"
    },
    {
      "cell_type": "code",
      "execution_count": null,
      "metadata": {
        "colab": {
          "base_uri": "https://localhost:8080/"
        },
        "id": "ace68274",
        "outputId": "b5c4fa67-d3f2-4f5b-c668-3af9465fb1ef",
        "scrolled": true
      },
      "outputs": [
        {
          "output_type": "execute_result",
          "data": {
            "text/plain": [
              "0          NaN\n",
              "1       1900.0\n",
              "2       1900.0\n",
              "3          NaN\n",
              "4       2014.0\n",
              "         ...  \n",
              "8754       NaN\n",
              "8755    1981.0\n",
              "8756    1995.0\n",
              "8757    1997.0\n",
              "8758    1920.0\n",
              "Name: YearBuilt, Length: 8759, dtype: float64"
            ]
          },
          "metadata": {},
          "execution_count": 19
        }
      ],
      "source": [
        "df_extend_copy.YearBuilt\n"
      ],
      "id": "ace68274"
    },
    {
      "cell_type": "markdown",
      "metadata": {
        "id": "Hi9byw949Z-r"
      },
      "source": [
        "#### Gráfico de `YearBuilt`"
      ],
      "id": "Hi9byw949Z-r"
    },
    {
      "cell_type": "code",
      "execution_count": null,
      "metadata": {
        "colab": {
          "base_uri": "https://localhost:8080/"
        },
        "id": "c9f60f1d",
        "outputId": "1d18d4a1-dec8-41f9-be9f-e7639e2ab8d0",
        "scrolled": false
      },
      "outputs": [
        {
          "output_type": "display_data",
          "data": {
            "text/plain": [
              "<Figure size 576x360 with 1 Axes>"
            ],
            "image/png": "[encoded data removed]"
          },
          "metadata": {
            "needs_background": "light"
          }
        }
      ],
      "source": [
        "mice_year_built = melb_data_mice.yearB_scaled_imputed.to_frame().rename(\n",
        "    columns={\"yearB_scaled_imputed\": \"yearB_scaled\"}\n",
        ")\n",
        "mice_year_built[\"Imputation\"] = \"KNN over YearBuilt\"\n",
        "\n",
        "melb_year_build = melb_data_mice.yearB_scaled.dropna().to_frame()\n",
        "melb_year_build[\"Imputation\"] = \"Original\"\n",
        "\n",
        "data = pd.concat([mice_year_built, melb_year_build], ignore_index=True)\n",
        "fig = plt.figure(figsize=(8, 5))\n",
        "g = sns.kdeplot(data=data, x=\"yearB_scaled\", hue=\"Imputation\")\n"
      ],
      "id": "c9f60f1d"
    },
    {
      "cell_type": "code",
      "execution_count": null,
      "metadata": {
        "colab": {
          "base_uri": "https://localhost:8080/"
        },
        "id": "fff1c7da",
        "outputId": "a64848d0-ef5f-474f-c720-c44de48f7f2c"
      },
      "outputs": [
        {
          "output_type": "execute_result",
          "data": {
            "text/plain": [
              "       yearB_scaled          Imputation\n",
              "0          0.089632  KNN over YearBuilt\n",
              "1         -1.715424  KNN over YearBuilt\n",
              "2         -1.715424  KNN over YearBuilt\n",
              "3          0.089632  KNN over YearBuilt\n",
              "4          1.365062  KNN over YearBuilt\n",
              "...             ...                 ...\n",
              "13949      0.446320            Original\n",
              "13950      0.473342            Original\n",
              "13951      0.851647            Original\n",
              "13952      0.905691            Original\n",
              "13953     -1.174988            Original\n",
              "\n",
              "[13954 rows x 2 columns]"
            ],
            "text/html": [
              "\n",
              "  <div id=\"df-8fe0c4f7-50da-4d76-a4f0-b6bc5d566d50\">\n",
              "    <div class=\"colab-df-container\">\n",
              "      <div>\n",
              "<style scoped>\n",
              "    .dataframe tbody tr th:only-of-type {\n",
              "        vertical-align: middle;\n",
              "    }\n",
              "\n",
              "    .dataframe tbody tr th {\n",
              "        vertical-align: top;\n",
              "    }\n",
              "\n",
              "    .dataframe thead th {\n",
              "        text-align: right;\n",
              "    }\n",
              "</style>\n",
              "<table border=\"1\" class=\"dataframe\">\n",
              "  <thead>\n",
              "    <tr style=\"text-align: right;\">\n",
              "      <th></th>\n",
              "      <th>yearB_scaled</th>\n",
              "      <th>Imputation</th>\n",
              "    </tr>\n",
              "  </thead>\n",
              "  <tbody>\n",
              "    <tr>\n",
              "      <th>0</th>\n",
              "      <td>0.089632</td>\n",
              "      <td>KNN over YearBuilt</td>\n",
              "    </tr>\n",
              "    <tr>\n",
              "      <th>1</th>\n",
              "      <td>-1.715424</td>\n",
              "      <td>KNN over YearBuilt</td>\n",
              "    </tr>\n",
              "    <tr>\n",
              "      <th>2</th>\n",
              "      <td>-1.715424</td>\n",
              "      <td>KNN over YearBuilt</td>\n",
              "    </tr>\n",
              "    <tr>\n",
              "      <th>3</th>\n",
              "      <td>0.089632</td>\n",
              "      <td>KNN over YearBuilt</td>\n",
              "    </tr>\n",
              "    <tr>\n",
              "      <th>4</th>\n",
              "      <td>1.365062</td>\n",
              "      <td>KNN over YearBuilt</td>\n",
              "    </tr>\n",
              "    <tr>\n",
              "      <th>...</th>\n",
              "      <td>...</td>\n",
              "      <td>...</td>\n",
              "    </tr>\n",
              "    <tr>\n",
              "      <th>13949</th>\n",
              "      <td>0.446320</td>\n",
              "      <td>Original</td>\n",
              "    </tr>\n",
              "    <tr>\n",
              "      <th>13950</th>\n",
              "      <td>0.473342</td>\n",
              "      <td>Original</td>\n",
              "    </tr>\n",
              "    <tr>\n",
              "      <th>13951</th>\n",
              "      <td>0.851647</td>\n",
              "      <td>Original</td>\n",
              "    </tr>\n",
              "    <tr>\n",
              "      <th>13952</th>\n",
              "      <td>0.905691</td>\n",
              "      <td>Original</td>\n",
              "    </tr>\n",
              "    <tr>\n",
              "      <th>13953</th>\n",
              "      <td>-1.174988</td>\n",
              "      <td>Original</td>\n",
              "    </tr>\n",
              "  </tbody>\n",
              "</table>\n",
              "<p>13954 rows × 2 columns</p>\n",
              "</div>\n",
              "      <button class=\"colab-df-convert\" onclick=\"convertToInteractive('df-8fe0c4f7-50da-4d76-a4f0-b6bc5d566d50')\"\n",
              "              title=\"Convert this dataframe to an interactive table.\"\n",
              "              style=\"display:none;\">\n",
              "        \n",
              "  <svg xmlns=\"http://www.w3.org/2000/svg\" height=\"24px\"viewBox=\"0 0 24 24\"\n",
              "       width=\"24px\">\n",
              "    <path d=\"M0 0h24v24H0V0z\" fill=\"none\"/>\n",
              "    <path d=\"M18.56 5.44l.94 2.06.94-2.06 2.06-.94-2.06-.94-.94-2.06-.94 2.06-2.06.94zm-11 1L8.5 8.5l.94-2.06 2.06-.94-2.06-.94L8.5 2.5l-.94 2.06-2.06.94zm10 10l.94 2.06.94-2.06 2.06-.94-2.06-.94-.94-2.06-.94 2.06-2.06.94z\"/><path d=\"M17.41 7.96l-1.37-1.37c-.4-.4-.92-.59-1.43-.59-.52 0-1.04.2-1.43.59L10.3 9.45l-7.72 7.72c-.78.78-.78 2.05 0 2.83L4 21.41c.39.39.9.59 1.41.59.51 0 1.02-.2 1.41-.59l7.78-7.78 2.81-2.81c.8-.78.8-2.07 0-2.86zM5.41 20L4 18.59l7.72-7.72 1.47 1.35L5.41 20z\"/>\n",
              "  </svg>\n",
              "      </button>\n",
              "      \n",
              "  <style>\n",
              "    .colab-df-container {\n",
              "      display:flex;\n",
              "      flex-wrap:wrap;\n",
              "      gap: 12px;\n",
              "    }\n",
              "\n",
              "    .colab-df-convert {\n",
              "      background-color: #E8F0FE;\n",
              "      border: none;\n",
              "      border-radius: 50%;\n",
              "      cursor: pointer;\n",
              "      display: none;\n",
              "      fill: #1967D2;\n",
              "      height: 32px;\n",
              "      padding: 0 0 0 0;\n",
              "      width: 32px;\n",
              "    }\n",
              "\n",
              "    .colab-df-convert:hover {\n",
              "      background-color: #E2EBFA;\n",
              "      box-shadow: 0px 1px 2px rgba(60, 64, 67, 0.3), 0px 1px 3px 1px rgba(60, 64, 67, 0.15);\n",
              "      fill: #174EA6;\n",
              "    }\n",
              "\n",
              "    [theme=dark] .colab-df-convert {\n",
              "      background-color: #3B4455;\n",
              "      fill: #D2E3FC;\n",
              "    }\n",
              "\n",
              "    [theme=dark] .colab-df-convert:hover {\n",
              "      background-color: #434B5C;\n",
              "      box-shadow: 0px 1px 3px 1px rgba(0, 0, 0, 0.15);\n",
              "      filter: drop-shadow(0px 1px 2px rgba(0, 0, 0, 0.3));\n",
              "      fill: #FFFFFF;\n",
              "    }\n",
              "  </style>\n",
              "\n",
              "      <script>\n",
              "        const buttonEl =\n",
              "          document.querySelector('#df-8fe0c4f7-50da-4d76-a4f0-b6bc5d566d50 button.colab-df-convert');\n",
              "        buttonEl.style.display =\n",
              "          google.colab.kernel.accessAllowed ? 'block' : 'none';\n",
              "\n",
              "        async function convertToInteractive(key) {\n",
              "          const element = document.querySelector('#df-8fe0c4f7-50da-4d76-a4f0-b6bc5d566d50');\n",
              "          const dataTable =\n",
              "            await google.colab.kernel.invokeFunction('convertToInteractive',\n",
              "                                                     [key], {});\n",
              "          if (!dataTable) return;\n",
              "\n",
              "          const docLinkHtml = 'Like what you see? Visit the ' +\n",
              "            '<a target=\"_blank\" href=https://colab.research.google.com/notebooks/data_table.ipynb>data table notebook</a>'\n",
              "            + ' to learn more about interactive tables.';\n",
              "          element.innerHTML = '';\n",
              "          dataTable['output_type'] = 'display_data';\n",
              "          await google.colab.output.renderOutput(dataTable, element);\n",
              "          const docLink = document.createElement('div');\n",
              "          docLink.innerHTML = docLinkHtml;\n",
              "          element.appendChild(docLink);\n",
              "        }\n",
              "      </script>\n",
              "    </div>\n",
              "  </div>\n",
              "  "
            ]
          },
          "metadata": {},
          "execution_count": 21
        }
      ],
      "source": [
        "data\n"
      ],
      "id": "fff1c7da"
    },
    {
      "cell_type": "markdown",
      "metadata": {
        "id": "__t-Lkde9TEg"
      },
      "source": [
        "#### Gráfico de `BuildingArea`"
      ],
      "id": "__t-Lkde9TEg"
    },
    {
      "cell_type": "code",
      "execution_count": null,
      "metadata": {
        "colab": {
          "base_uri": "https://localhost:8080/"
        },
        "id": "c9480f55",
        "outputId": "ee3a4fe7-7973-45ef-ebab-f2f075878623"
      },
      "outputs": [
        {
          "output_type": "display_data",
          "data": {
            "text/plain": [
              "<Figure size 576x360 with 1 Axes>"
            ],
            "image/png": "[encoded data removed]"
          },
          "metadata": {
            "needs_background": "light"
          }
        }
      ],
      "source": [
        "mice_BuildingArea = melb_data_mice.building_area_scaled_imputed.to_frame().rename(\n",
        "    columns={\"building_area_scaled_imputed\": \"buildingA_scaled\"}\n",
        ")\n",
        "mice_BuildingArea[\"Imputation\"] = \"KNN over BuildingArea\"\n",
        "\n",
        "melb_BuildingArea = melb_data_mice.buildingA_scaled.dropna().to_frame()\n",
        "melb_BuildingArea[\"Imputation\"] = \"Original\"\n",
        "\n",
        "data = pd.concat([melb_BuildingArea, mice_BuildingArea], ignore_index=True)\n",
        "fig = plt.figure(figsize=(8, 5))\n",
        "g = sns.kdeplot(data=data, x=\"buildingA_scaled\", hue=\"Imputation\")\n"
      ],
      "id": "c9480f55"
    },
    {
      "cell_type": "code",
      "execution_count": null,
      "metadata": {
        "id": "f5353777"
      },
      "outputs": [],
      "source": [
        "X_melb_scaled = StandardScaler().fit_transform(X_melb)\n",
        "X_melb_complete = np.hstack(\n",
        "    [\n",
        "        X_melb_scaled,\n",
        "        melb_data_mice[[\"yearB_scaled\", \"building_area_scaled_imputed\"]].values,\n",
        "    ]\n",
        ")\n"
      ],
      "id": "f5353777"
    },
    {
      "cell_type": "code",
      "execution_count": null,
      "metadata": {
        "id": "e288ff25"
      },
      "outputs": [],
      "source": [
        "full_imputer = IterativeImputer(random_state=32, estimator=KNeighborsRegressor())\n",
        "X_melb_complete_imputed = full_imputer.fit_transform(X_melb_complete)\n"
      ],
      "id": "e288ff25"
    },
    {
      "cell_type": "markdown",
      "metadata": {
        "id": "RB45QIIs9sb4"
      },
      "source": [
        "### `YearBuilt` Imputado"
      ],
      "id": "RB45QIIs9sb4"
    },
    {
      "cell_type": "code",
      "execution_count": null,
      "metadata": {
        "colab": {
          "base_uri": "https://localhost:8080/"
        },
        "id": "a4aa594f",
        "outputId": "d2d481be-062a-4591-f109-9dcfdd8a871f"
      },
      "outputs": [
        {
          "output_type": "display_data",
          "data": {
            "text/plain": [
              "<Figure size 576x360 with 1 Axes>"
            ],
            "image/png": "[encoded data removed]"
          },
          "metadata": {
            "needs_background": "light"
          }
        }
      ],
      "source": [
        "full_imputed = pd.DataFrame(\n",
        "    data={\n",
        "        \"yearB_scaled\": X_melb_complete_imputed[:, -2],\n",
        "        \"Imputation\": \"Full KNeighborsRegressor\",\n",
        "    }\n",
        ")\n",
        "data = pd.concat([mice_year_built, melb_year_build, full_imputed], ignore_index=True)\n",
        "fig = plt.figure(figsize=(8, 5))\n",
        "g = sns.kdeplot(data=data, x=\"yearB_scaled\", hue=\"Imputation\")\n"
      ],
      "id": "a4aa594f"
    },
    {
      "cell_type": "markdown",
      "metadata": {
        "id": "xcj0UTXS99My"
      },
      "source": [
        "### `BuildingArea` Imputado"
      ],
      "id": "xcj0UTXS99My"
    },
    {
      "cell_type": "code",
      "execution_count": null,
      "metadata": {
        "colab": {
          "base_uri": "https://localhost:8080/"
        },
        "id": "e69ecc4c",
        "outputId": "1ffe1df6-da3a-4f3b-d393-25eeeaf3cf85"
      },
      "outputs": [
        {
          "output_type": "display_data",
          "data": {
            "text/plain": [
              "<Figure size 576x360 with 1 Axes>"
            ],
            "image/png": "[encoded data removed]"
          },
          "metadata": {
            "needs_background": "light"
          }
        }
      ],
      "source": [
        "full_imputed = pd.DataFrame(\n",
        "    data={\n",
        "        \"buildingA_scaled\": X_melb_complete_imputed[:, -2],\n",
        "        \"Imputation\": \"Full KNeighborsRegressor\",\n",
        "    }\n",
        ")\n",
        "data = pd.concat(\n",
        "    [mice_BuildingArea, melb_BuildingArea, full_imputed], ignore_index=True\n",
        ")\n",
        "data = data[data.buildingA_scaled < 3]\n",
        "fig = plt.figure(figsize=(8, 5))\n",
        "g = sns.kdeplot(data=data, x=\"buildingA_scaled\", hue=\"Imputation\")\n"
      ],
      "id": "e69ecc4c"
    },
    {
      "cell_type": "code",
      "execution_count": null,
      "metadata": {
        "colab": {
          "base_uri": "https://localhost:8080/"
        },
        "id": "05e2c013",
        "outputId": "b310f1c2-a90e-43fc-bf4f-6646e9078e6b"
      },
      "outputs": [
        {
          "output_type": "execute_result",
          "data": {
            "text/plain": [
              "array([-0.15938597, -0.15938597, -0.15711186, -0.151686  , -0.14566929,\n",
              "       -0.13898939, -0.13019647, -0.12791053, -0.12652045, -0.12558572,\n",
              "       -0.11534308, -0.11432247, -0.11432247, -0.11329315, -0.11277514,\n",
              "       -0.11277514, -0.11120739, -0.11015043, -0.10854664, -0.10746477,\n",
              "       -0.10637241, -0.10471348, -0.10415488, -0.10302901, -0.10074111,\n",
              "       -0.10074111, -0.10074111, -0.09957826, -0.09840222, -0.0972125 ,\n",
              "        0.6445786 , -0.4772656 , -0.34796588,  1.46037309, -0.68098211,\n",
              "       -0.58073394, -0.32910986, -0.1193428 , -0.18537709, -0.17105465,\n",
              "       -0.16712568, -0.16274339, -0.1620027 , -0.16163121, -0.1586312 ,\n",
              "       -0.1582526 , -0.15596359, -0.15480761, -0.15403259, -0.151686  ,\n",
              "       -0.15010309, -0.1485048 , -0.14810277, -0.14689064, -0.14566929,\n",
              "       -0.14526008, -0.14526008, -0.14484981, -0.14361254, -0.14236541,\n",
              "       -0.13984044, -0.13941551, -0.13856205, -0.13856205, -0.13813349,\n",
              "       -0.13509837, -0.13421951, -0.13421951, -1.19137069,  0.16719528,\n",
              "       -1.7388661 , -0.39971185, -1.15058721, -0.77386274, -1.81015511,\n",
              "       -0.85250808, -0.77150201, -0.61388959,  0.74936485,  0.20692991,\n",
              "        0.17894162,  0.09042701, -1.71542438, -0.45611685])"
            ]
          },
          "metadata": {},
          "execution_count": 27
        }
      ],
      "source": [
        "X_melb_complete_imputed[1]\n"
      ],
      "id": "05e2c013"
    },
    {
      "cell_type": "code",
      "execution_count": null,
      "metadata": {
        "id": "fba06f2d"
      },
      "outputs": [],
      "source": [
        "if X_melb_complete_imputed.shape[0] < len(df_extend_filtered):\n",
        "    melb_df_sample = df_extend_filtered.iloc[: X_melb_complete_imputed.shape[0]]\n",
        "else:\n",
        "    melb_df_sample = df_extend_filtered\n"
      ],
      "id": "fba06f2d"
    },
    {
      "cell_type": "code",
      "execution_count": null,
      "metadata": {
        "colab": {
          "base_uri": "https://localhost:8080/"
        },
        "id": "c28fab43",
        "outputId": "514266ac-8d0f-4662-9273-e2bbc5159ed2"
      },
      "outputs": [
        {
          "output_type": "execute_result",
          "data": {
            "text/plain": [
              "(8759, 84)"
            ]
          },
          "metadata": {},
          "execution_count": 29
        }
      ],
      "source": [
        "X_melb_complete_imputed.shape\n"
      ],
      "id": "c28fab43"
    },
    {
      "cell_type": "markdown",
      "metadata": {
        "id": "868fe2e5"
      },
      "source": [
        "### Ejercicio 3.1 \n",
        "Aplique PCA para obtener n componentes principales de la matriz, donde `n = min(20, X.shape[0])`. \n",
        "\n",
        "**¿Es necesario estandarizar o escalar los datos?**"
      ],
      "id": "868fe2e5"
    },
    {
      "cell_type": "markdown",
      "metadata": {
        "id": "4gMGNX6q-SoQ"
      },
      "source": [
        "Lo escalamos con el `MAXMINSCALER`"
      ],
      "id": "4gMGNX6q-SoQ"
    },
    {
      "cell_type": "code",
      "execution_count": null,
      "metadata": {
        "colab": {
          "base_uri": "https://localhost:8080/"
        },
        "id": "61de1076",
        "outputId": "e822fb4e-e475-4b3f-a587-e53cb6399422"
      },
      "outputs": [
        {
          "output_type": "execute_result",
          "data": {
            "text/plain": [
              "(-1.0, 1.0000000000000002)"
            ]
          },
          "metadata": {},
          "execution_count": 30
        }
      ],
      "source": [
        "from sklearn.preprocessing import MinMaxScaler\n",
        "from sklearn.decomposition import PCA\n",
        "from sklearn.preprocessing import OneHotEncoder\n",
        "\n",
        "scaler = MinMaxScaler(feature_range=(-1, 1))\n",
        "scaled_dense_feature_matrix = scaler.fit_transform(X_melb_complete_imputed)\n",
        "np.min(scaled_dense_feature_matrix), np.max(scaled_dense_feature_matrix)\n"
      ],
      "id": "61de1076"
    },
    {
      "cell_type": "code",
      "execution_count": null,
      "metadata": {
        "colab": {
          "base_uri": "https://localhost:8080/"
        },
        "id": "a649626b",
        "outputId": "a6fab81e-e9fa-421b-8aed-6339689723c4"
      },
      "outputs": [
        {
          "output_type": "execute_result",
          "data": {
            "text/plain": [
              "(8759, 20)"
            ]
          },
          "metadata": {},
          "execution_count": 31
        }
      ],
      "source": [
        "from sklearn.decomposition import PCA\n",
        "\n",
        "pca = PCA(n_components=min(20, X_melb_complete_imputed.shape[0]))\n",
        "pca.fit(scaled_dense_feature_matrix)\n",
        "proyected_features = pca.transform(scaled_dense_feature_matrix)\n",
        "proyected_features.shape\n"
      ],
      "id": "a649626b"
    },
    {
      "cell_type": "code",
      "execution_count": null,
      "metadata": {
        "colab": {
          "base_uri": "https://localhost:8080/"
        },
        "id": "405e585f",
        "outputId": "2681fc18-34d1-4544-a8ac-29f417435455"
      },
      "outputs": [
        {
          "output_type": "execute_result",
          "data": {
            "text/plain": [
              "dtype('float64')"
            ]
          },
          "metadata": {},
          "execution_count": 32
        }
      ],
      "source": [
        "proyected_features.dtype\n"
      ],
      "id": "405e585f"
    },
    {
      "cell_type": "code",
      "execution_count": null,
      "metadata": {
        "colab": {
          "base_uri": "https://localhost:8080/"
        },
        "id": "0cd2dc45",
        "outputId": "151bb968-4314-4cb7-cf07-30d717554a58"
      },
      "outputs": [
        {
          "output_type": "execute_result",
          "data": {
            "text/plain": [
              "array([0.1738196 , 0.11216469, 0.09912934, 0.05552839, 0.04564789,\n",
              "       0.03281243, 0.02813662, 0.023414  , 0.01914002, 0.01419817,\n",
              "       0.01351515, 0.01072703, 0.010478  , 0.01003447, 0.00912822,\n",
              "       0.00865959, 0.00832317, 0.00828695, 0.00799688, 0.00782578])"
            ]
          },
          "metadata": {},
          "execution_count": 33
        }
      ],
      "source": [
        "pca.explained_variance_ratio_\n"
      ],
      "id": "0cd2dc45"
    },
    {
      "cell_type": "code",
      "execution_count": null,
      "metadata": {
        "colab": {
          "base_uri": "https://localhost:8080/"
        },
        "id": "18cb721b",
        "outputId": "6176fbdd-1e84-4283-d1b9-58cf2e6ab7d4"
      },
      "outputs": [
        {
          "output_type": "execute_result",
          "data": {
            "text/plain": [
              "(-3.9387995205088546, 10.286742592810015)"
            ]
          },
          "metadata": {},
          "execution_count": 34
        }
      ],
      "source": [
        "from sklearn.preprocessing import StandardScaler\n",
        "\n",
        "std_scaler = StandardScaler()\n",
        "stdandard_dense_feature_matrix = std_scaler.fit_transform(X_melb_complete_imputed)\n",
        "np.min(stdandard_dense_feature_matrix), np.max(stdandard_dense_feature_matrix)\n"
      ],
      "id": "18cb721b"
    },
    {
      "cell_type": "code",
      "execution_count": null,
      "metadata": {
        "colab": {
          "base_uri": "https://localhost:8080/"
        },
        "id": "2695884b",
        "outputId": "df0b0284-9b53-47e6-bd4e-69d7617f9471"
      },
      "outputs": [
        {
          "output_type": "execute_result",
          "data": {
            "text/plain": [
              "(8759, 20)"
            ]
          },
          "metadata": {},
          "execution_count": 35
        }
      ],
      "source": [
        "pca_std = PCA(n_components=min(20, X_melb_complete_imputed.shape[0]))\n",
        "pca_std.fit(stdandard_dense_feature_matrix)\n",
        "proyected_features_std = pca.transform(stdandard_dense_feature_matrix)\n",
        "proyected_features_std.shape\n"
      ],
      "id": "2695884b"
    },
    {
      "cell_type": "code",
      "execution_count": null,
      "metadata": {
        "colab": {
          "base_uri": "https://localhost:8080/"
        },
        "id": "9b3771cf",
        "outputId": "3d74fd5e-5c3c-4905-955a-6c61a7542ac6"
      },
      "outputs": [
        {
          "output_type": "execute_result",
          "data": {
            "text/plain": [
              "array([0.05524283, 0.04427286, 0.0360507 , 0.03102654, 0.02635813,\n",
              "       0.02187561, 0.01795949, 0.01563672, 0.0141116 , 0.01352109,\n",
              "       0.01316736, 0.01298538, 0.01286777, 0.01276675, 0.01268166,\n",
              "       0.01262263, 0.01254844, 0.01244452, 0.0123603 , 0.01228635])"
            ]
          },
          "metadata": {},
          "execution_count": 36
        }
      ],
      "source": [
        "pca_std.explained_variance_ratio_\n"
      ],
      "id": "9b3771cf"
    },
    {
      "cell_type": "code",
      "execution_count": null,
      "metadata": {
        "colab": {
          "base_uri": "https://localhost:8080/"
        },
        "id": "b64c4423",
        "outputId": "72df77bc-3ca8-4d8a-fc30-c1d5d0816748"
      },
      "outputs": [
        {
          "output_type": "execute_result",
          "data": {
            "text/plain": [
              "array([[-1.78955760e-02,  1.69796179e+00, -1.20466557e+00, ...,\n",
              "        -2.00677297e-01, -9.34279667e-02,  4.59203083e-01],\n",
              "       [-1.33101800e-01,  2.24228994e+00, -1.04546840e+00, ...,\n",
              "        -4.43041121e-01,  4.26791785e-01, -2.75251841e-01],\n",
              "       [-5.09473849e-01,  1.34944463e+00, -1.23202745e+00, ...,\n",
              "         4.63635618e+00,  1.12322507e-01, -8.94997476e-02],\n",
              "       ...,\n",
              "       [-1.33155033e+00, -3.18333494e-03,  1.97946308e+00, ...,\n",
              "        -3.35200920e-02,  1.65028020e-01, -1.88481245e-01],\n",
              "       [-1.54099754e+00, -4.64305733e-01,  1.86846153e+00, ...,\n",
              "         1.96125785e-01,  9.23183371e-02, -1.78519085e-01],\n",
              "       [-1.85280557e+00, -2.56495576e-01,  1.82990251e+00, ...,\n",
              "         7.75877522e-01,  7.99900579e-02,  3.88233226e-01]])"
            ]
          },
          "metadata": {},
          "execution_count": 37
        }
      ],
      "source": [
        "proyected_features_std\n"
      ],
      "id": "b64c4423"
    },
    {
      "cell_type": "markdown",
      "metadata": {
        "id": "638d99fe"
      },
      "source": [
        "### Ejercicio 3.2 \n",
        "\n",
        "Grafique la varianza capturada por los primeros  n  componentes principales, para cada n."
      ],
      "id": "638d99fe"
    },
    {
      "cell_type": "code",
      "execution_count": null,
      "metadata": {
        "colab": {
          "base_uri": "https://localhost:8080/"
        },
        "id": "7a474aa9",
        "outputId": "ee129739-8bd7-4e9c-d9b7-d16dd0294e14"
      },
      "outputs": [
        {
          "output_type": "execute_result",
          "data": {
            "text/plain": [
              "<matplotlib.legend.Legend at 0x7fe2d49959d0>"
            ]
          },
          "metadata": {},
          "execution_count": 38
        },
        {
          "output_type": "display_data",
          "data": {
            "text/plain": [
              "<Figure size 432x288 with 1 Axes>"
            ],
            "image/png": "[encoded data removed]"
          },
          "metadata": {
            "needs_background": "light"
          }
        }
      ],
      "source": [
        "sns.lineplot(\n",
        "    x=range(pca_std.n_components),\n",
        "    y=pca_std.explained_variance_ratio_,\n",
        "    label=\"Standardized\",\n",
        ")\n",
        "sns.lineplot(x=range(pca.n_components), y=pca.explained_variance_ratio_, label=\"Scaled\")\n",
        "plt.ylabel(\"Ratio of variance explained\")\n",
        "plt.xlabel(\"Components\")\n",
        "plt.legend()\n"
      ],
      "id": "7a474aa9"
    },
    {
      "cell_type": "markdown",
      "metadata": {
        "id": "1cdc3243"
      },
      "source": [
        "### Ejercicio 3.3 \n",
        "\n",
        "En base al gráfico, seleccione las primeras  m  columnas de la matriz transformada para agregar como nuevas características al conjunto de datos."
      ],
      "id": "1cdc3243"
    },
    {
      "cell_type": "code",
      "execution_count": null,
      "metadata": {
        "id": "7f9f6143"
      },
      "outputs": [],
      "source": [
        "melb_df_sample[[\"pca1_standard\", \"pca2_standard\"]] = proyected_features_std[:, :2]\n"
      ],
      "id": "7f9f6143"
    },
    {
      "cell_type": "code",
      "execution_count": null,
      "metadata": {
        "colab": {
          "base_uri": "https://localhost:8080/"
        },
        "id": "da135f6c",
        "scrolled": false,
        "outputId": "386f0e1f-d1ee-46a5-a753-d73da9c01a27"
      },
      "outputs": [
        {
          "output_type": "execute_result",
          "data": {
            "text/plain": [
              "   pca1_standard  pca2_standard\n",
              "0      -0.017896       1.697962\n",
              "1      -0.133102       2.242290"
            ],
            "text/html": [
              "\n",
              "  <div id=\"df-d2d78385-bcdb-4fe2-87f5-2287c0fe6b34\">\n",
              "    <div class=\"colab-df-container\">\n",
              "      <div>\n",
              "<style scoped>\n",
              "    .dataframe tbody tr th:only-of-type {\n",
              "        vertical-align: middle;\n",
              "    }\n",
              "\n",
              "    .dataframe tbody tr th {\n",
              "        vertical-align: top;\n",
              "    }\n",
              "\n",
              "    .dataframe thead th {\n",
              "        text-align: right;\n",
              "    }\n",
              "</style>\n",
              "<table border=\"1\" class=\"dataframe\">\n",
              "  <thead>\n",
              "    <tr style=\"text-align: right;\">\n",
              "      <th></th>\n",
              "      <th>pca1_standard</th>\n",
              "      <th>pca2_standard</th>\n",
              "    </tr>\n",
              "  </thead>\n",
              "  <tbody>\n",
              "    <tr>\n",
              "      <th>0</th>\n",
              "      <td>-0.017896</td>\n",
              "      <td>1.697962</td>\n",
              "    </tr>\n",
              "    <tr>\n",
              "      <th>1</th>\n",
              "      <td>-0.133102</td>\n",
              "      <td>2.242290</td>\n",
              "    </tr>\n",
              "  </tbody>\n",
              "</table>\n",
              "</div>\n",
              "      <button class=\"colab-df-convert\" onclick=\"convertToInteractive('df-d2d78385-bcdb-4fe2-87f5-2287c0fe6b34')\"\n",
              "              title=\"Convert this dataframe to an interactive table.\"\n",
              "              style=\"display:none;\">\n",
              "        \n",
              "  <svg xmlns=\"http://www.w3.org/2000/svg\" height=\"24px\"viewBox=\"0 0 24 24\"\n",
              "       width=\"24px\">\n",
              "    <path d=\"M0 0h24v24H0V0z\" fill=\"none\"/>\n",
              "    <path d=\"M18.56 5.44l.94 2.06.94-2.06 2.06-.94-2.06-.94-.94-2.06-.94 2.06-2.06.94zm-11 1L8.5 8.5l.94-2.06 2.06-.94-2.06-.94L8.5 2.5l-.94 2.06-2.06.94zm10 10l.94 2.06.94-2.06 2.06-.94-2.06-.94-.94-2.06-.94 2.06-2.06.94z\"/><path d=\"M17.41 7.96l-1.37-1.37c-.4-.4-.92-.59-1.43-.59-.52 0-1.04.2-1.43.59L10.3 9.45l-7.72 7.72c-.78.78-.78 2.05 0 2.83L4 21.41c.39.39.9.59 1.41.59.51 0 1.02-.2 1.41-.59l7.78-7.78 2.81-2.81c.8-.78.8-2.07 0-2.86zM5.41 20L4 18.59l7.72-7.72 1.47 1.35L5.41 20z\"/>\n",
              "  </svg>\n",
              "      </button>\n",
              "      \n",
              "  <style>\n",
              "    .colab-df-container {\n",
              "      display:flex;\n",
              "      flex-wrap:wrap;\n",
              "      gap: 12px;\n",
              "    }\n",
              "\n",
              "    .colab-df-convert {\n",
              "      background-color: #E8F0FE;\n",
              "      border: none;\n",
              "      border-radius: 50%;\n",
              "      cursor: pointer;\n",
              "      display: none;\n",
              "      fill: #1967D2;\n",
              "      height: 32px;\n",
              "      padding: 0 0 0 0;\n",
              "      width: 32px;\n",
              "    }\n",
              "\n",
              "    .colab-df-convert:hover {\n",
              "      background-color: #E2EBFA;\n",
              "      box-shadow: 0px 1px 2px rgba(60, 64, 67, 0.3), 0px 1px 3px 1px rgba(60, 64, 67, 0.15);\n",
              "      fill: #174EA6;\n",
              "    }\n",
              "\n",
              "    [theme=dark] .colab-df-convert {\n",
              "      background-color: #3B4455;\n",
              "      fill: #D2E3FC;\n",
              "    }\n",
              "\n",
              "    [theme=dark] .colab-df-convert:hover {\n",
              "      background-color: #434B5C;\n",
              "      box-shadow: 0px 1px 3px 1px rgba(0, 0, 0, 0.15);\n",
              "      filter: drop-shadow(0px 1px 2px rgba(0, 0, 0, 0.3));\n",
              "      fill: #FFFFFF;\n",
              "    }\n",
              "  </style>\n",
              "\n",
              "      <script>\n",
              "        const buttonEl =\n",
              "          document.querySelector('#df-d2d78385-bcdb-4fe2-87f5-2287c0fe6b34 button.colab-df-convert');\n",
              "        buttonEl.style.display =\n",
              "          google.colab.kernel.accessAllowed ? 'block' : 'none';\n",
              "\n",
              "        async function convertToInteractive(key) {\n",
              "          const element = document.querySelector('#df-d2d78385-bcdb-4fe2-87f5-2287c0fe6b34');\n",
              "          const dataTable =\n",
              "            await google.colab.kernel.invokeFunction('convertToInteractive',\n",
              "                                                     [key], {});\n",
              "          if (!dataTable) return;\n",
              "\n",
              "          const docLinkHtml = 'Like what you see? Visit the ' +\n",
              "            '<a target=\"_blank\" href=https://colab.research.google.com/notebooks/data_table.ipynb>data table notebook</a>'\n",
              "            + ' to learn more about interactive tables.';\n",
              "          element.innerHTML = '';\n",
              "          dataTable['output_type'] = 'display_data';\n",
              "          await google.colab.output.renderOutput(dataTable, element);\n",
              "          const docLink = document.createElement('div');\n",
              "          docLink.innerHTML = docLinkHtml;\n",
              "          element.appendChild(docLink);\n",
              "        }\n",
              "      </script>\n",
              "    </div>\n",
              "  </div>\n",
              "  "
            ]
          },
          "metadata": {},
          "execution_count": 40
        }
      ],
      "source": [
        "melb_df_sample[[\"pca1_standard\", \"pca2_standard\"]].head(2)\n"
      ],
      "id": "da135f6c"
    },
    {
      "cell_type": "code",
      "execution_count": null,
      "metadata": {
        "colab": {
          "base_uri": "https://localhost:8080/"
        },
        "id": "4470d5af",
        "scrolled": false,
        "outputId": "9521c9e2-8545-4391-aace-b3de55f0378d"
      },
      "outputs": [
        {
          "output_type": "execute_result",
          "data": {
            "text/plain": [
              "             Suburb  Rooms Type      Price        Date  Distance  Postcode  \\\n",
              "0        Abbotsford      2    h  1480000.0   3/12/2016       2.0    3067.0   \n",
              "1        Abbotsford      2    h  1035000.0   4/02/2016       2.0    3067.0   \n",
              "2        Abbotsford      3    h  1465000.0   4/03/2017       2.0    3067.0   \n",
              "3        Abbotsford      3    h   850000.0   4/03/2017       2.0    3067.0   \n",
              "4        Abbotsford      4    h  1600000.0   4/06/2016       2.0    3067.0   \n",
              "...             ...    ...  ...        ...         ...       ...       ...   \n",
              "8754    Westmeadows      3    h   582000.0  26/08/2017      16.0    3049.0   \n",
              "8755  Wheelers Hill      4    h  1245000.0  26/08/2017      17.0    3150.0   \n",
              "8756   Williamstown      3    h  1031000.0  26/08/2017       7.0    3016.0   \n",
              "8757   Williamstown      3    h  1170000.0  26/08/2017       7.0    3016.0   \n",
              "8758     Yarraville      4    h  1285000.0  26/08/2017       6.0    3013.0   \n",
              "\n",
              "      Bedroom2  Bathroom  Car  ...  Longtitude                  Regionname  \\\n",
              "0          2.0       1.0  1.0  ...       145.0       Northern Metropolitan   \n",
              "1          2.0       1.0  0.0  ...       145.0       Northern Metropolitan   \n",
              "2          3.0       2.0  0.0  ...       145.0       Northern Metropolitan   \n",
              "3          3.0       2.0  1.0  ...       145.0       Northern Metropolitan   \n",
              "4          3.0       1.0  2.0  ...       145.0       Northern Metropolitan   \n",
              "...        ...       ...  ...  ...         ...                         ...   \n",
              "8754       3.0       2.0  2.0  ...       145.0       Northern Metropolitan   \n",
              "8755       4.0       2.0  2.0  ...       145.0  South-Eastern Metropolitan   \n",
              "8756       3.0       2.0  2.0  ...       145.0        Western Metropolitan   \n",
              "8757       3.0       2.0  4.0  ...       145.0        Western Metropolitan   \n",
              "8758       4.0       1.0  1.0  ...       145.0        Western Metropolitan   \n",
              "\n",
              "      Propertycount zipcode  airbnb_record_count  airbnb_price_mean  \\\n",
              "0            4019.0     NaN                  NaN                NaN   \n",
              "1            4019.0     NaN                  NaN                NaN   \n",
              "2            4019.0     NaN                  NaN                NaN   \n",
              "3            4019.0     NaN                  NaN                NaN   \n",
              "4            4019.0     NaN                  NaN                NaN   \n",
              "...             ...     ...                  ...                ...   \n",
              "8754         2474.0     NaN                  NaN                NaN   \n",
              "8755         7392.0     NaN                  NaN                NaN   \n",
              "8756         6380.0  3016.0                  4.0              107.0   \n",
              "8757         6380.0  3016.0                  4.0              107.0   \n",
              "8758         6543.0     NaN                  NaN                NaN   \n",
              "\n",
              "      airbnb_weekly_price_mean  airbnb_monthly_price_mean  pca1_standard  \\\n",
              "0                          NaN                        NaN      -0.017896   \n",
              "1                          NaN                        NaN      -0.133102   \n",
              "2                          NaN                        NaN      -0.509474   \n",
              "3                          NaN                        NaN      -0.382718   \n",
              "4                          NaN                        NaN      -0.476344   \n",
              "...                        ...                        ...            ...   \n",
              "8754                       NaN                        NaN      -0.837315   \n",
              "8755                       NaN                        NaN       0.087240   \n",
              "8756                     612.0                     2120.0      -1.331550   \n",
              "8757                     612.0                     2120.0      -1.540998   \n",
              "8758                       NaN                        NaN      -1.852806   \n",
              "\n",
              "      pca2_standard  \n",
              "0          1.697962  \n",
              "1          2.242290  \n",
              "2          1.349445  \n",
              "3          1.735757  \n",
              "4          1.094484  \n",
              "...             ...  \n",
              "8754       0.977513  \n",
              "8755      -2.488537  \n",
              "8756      -0.003183  \n",
              "8757      -0.464306  \n",
              "8758      -0.256496  \n",
              "\n",
              "[8759 rows x 22 columns]"
            ],
            "text/html": [
              "\n",
              "  <div id=\"df-09498a5a-4044-4260-99b3-a657a5a88826\">\n",
              "    <div class=\"colab-df-container\">\n",
              "      <div>\n",
              "<style scoped>\n",
              "    .dataframe tbody tr th:only-of-type {\n",
              "        vertical-align: middle;\n",
              "    }\n",
              "\n",
              "    .dataframe tbody tr th {\n",
              "        vertical-align: top;\n",
              "    }\n",
              "\n",
              "    .dataframe thead th {\n",
              "        text-align: right;\n",
              "    }\n",
              "</style>\n",
              "<table border=\"1\" class=\"dataframe\">\n",
              "  <thead>\n",
              "    <tr style=\"text-align: right;\">\n",
              "      <th></th>\n",
              "      <th>Suburb</th>\n",
              "      <th>Rooms</th>\n",
              "      <th>Type</th>\n",
              "      <th>Price</th>\n",
              "      <th>Date</th>\n",
              "      <th>Distance</th>\n",
              "      <th>Postcode</th>\n",
              "      <th>Bedroom2</th>\n",
              "      <th>Bathroom</th>\n",
              "      <th>Car</th>\n",
              "      <th>...</th>\n",
              "      <th>Longtitude</th>\n",
              "      <th>Regionname</th>\n",
              "      <th>Propertycount</th>\n",
              "      <th>zipcode</th>\n",
              "      <th>airbnb_record_count</th>\n",
              "      <th>airbnb_price_mean</th>\n",
              "      <th>airbnb_weekly_price_mean</th>\n",
              "      <th>airbnb_monthly_price_mean</th>\n",
              "      <th>pca1_standard</th>\n",
              "      <th>pca2_standard</th>\n",
              "    </tr>\n",
              "  </thead>\n",
              "  <tbody>\n",
              "    <tr>\n",
              "      <th>0</th>\n",
              "      <td>Abbotsford</td>\n",
              "      <td>2</td>\n",
              "      <td>h</td>\n",
              "      <td>1480000.0</td>\n",
              "      <td>3/12/2016</td>\n",
              "      <td>2.0</td>\n",
              "      <td>3067.0</td>\n",
              "      <td>2.0</td>\n",
              "      <td>1.0</td>\n",
              "      <td>1.0</td>\n",
              "      <td>...</td>\n",
              "      <td>145.0</td>\n",
              "      <td>Northern Metropolitan</td>\n",
              "      <td>4019.0</td>\n",
              "      <td>NaN</td>\n",
              "      <td>NaN</td>\n",
              "      <td>NaN</td>\n",
              "      <td>NaN</td>\n",
              "      <td>NaN</td>\n",
              "      <td>-0.017896</td>\n",
              "      <td>1.697962</td>\n",
              "    </tr>\n",
              "    <tr>\n",
              "      <th>1</th>\n",
              "      <td>Abbotsford</td>\n",
              "      <td>2</td>\n",
              "      <td>h</td>\n",
              "      <td>1035000.0</td>\n",
              "      <td>4/02/2016</td>\n",
              "      <td>2.0</td>\n",
              "      <td>3067.0</td>\n",
              "      <td>2.0</td>\n",
              "      <td>1.0</td>\n",
              "      <td>0.0</td>\n",
              "      <td>...</td>\n",
              "      <td>145.0</td>\n",
              "      <td>Northern Metropolitan</td>\n",
              "      <td>4019.0</td>\n",
              "      <td>NaN</td>\n",
              "      <td>NaN</td>\n",
              "      <td>NaN</td>\n",
              "      <td>NaN</td>\n",
              "      <td>NaN</td>\n",
              "      <td>-0.133102</td>\n",
              "      <td>2.242290</td>\n",
              "    </tr>\n",
              "    <tr>\n",
              "      <th>2</th>\n",
              "      <td>Abbotsford</td>\n",
              "      <td>3</td>\n",
              "      <td>h</td>\n",
              "      <td>1465000.0</td>\n",
              "      <td>4/03/2017</td>\n",
              "      <td>2.0</td>\n",
              "      <td>3067.0</td>\n",
              "      <td>3.0</td>\n",
              "      <td>2.0</td>\n",
              "      <td>0.0</td>\n",
              "      <td>...</td>\n",
              "      <td>145.0</td>\n",
              "      <td>Northern Metropolitan</td>\n",
              "      <td>4019.0</td>\n",
              "      <td>NaN</td>\n",
              "      <td>NaN</td>\n",
              "      <td>NaN</td>\n",
              "      <td>NaN</td>\n",
              "      <td>NaN</td>\n",
              "      <td>-0.509474</td>\n",
              "      <td>1.349445</td>\n",
              "    </tr>\n",
              "    <tr>\n",
              "      <th>3</th>\n",
              "      <td>Abbotsford</td>\n",
              "      <td>3</td>\n",
              "      <td>h</td>\n",
              "      <td>850000.0</td>\n",
              "      <td>4/03/2017</td>\n",
              "      <td>2.0</td>\n",
              "      <td>3067.0</td>\n",
              "      <td>3.0</td>\n",
              "      <td>2.0</td>\n",
              "      <td>1.0</td>\n",
              "      <td>...</td>\n",
              "      <td>145.0</td>\n",
              "      <td>Northern Metropolitan</td>\n",
              "      <td>4019.0</td>\n",
              "      <td>NaN</td>\n",
              "      <td>NaN</td>\n",
              "      <td>NaN</td>\n",
              "      <td>NaN</td>\n",
              "      <td>NaN</td>\n",
              "      <td>-0.382718</td>\n",
              "      <td>1.735757</td>\n",
              "    </tr>\n",
              "    <tr>\n",
              "      <th>4</th>\n",
              "      <td>Abbotsford</td>\n",
              "      <td>4</td>\n",
              "      <td>h</td>\n",
              "      <td>1600000.0</td>\n",
              "      <td>4/06/2016</td>\n",
              "      <td>2.0</td>\n",
              "      <td>3067.0</td>\n",
              "      <td>3.0</td>\n",
              "      <td>1.0</td>\n",
              "      <td>2.0</td>\n",
              "      <td>...</td>\n",
              "      <td>145.0</td>\n",
              "      <td>Northern Metropolitan</td>\n",
              "      <td>4019.0</td>\n",
              "      <td>NaN</td>\n",
              "      <td>NaN</td>\n",
              "      <td>NaN</td>\n",
              "      <td>NaN</td>\n",
              "      <td>NaN</td>\n",
              "      <td>-0.476344</td>\n",
              "      <td>1.094484</td>\n",
              "    </tr>\n",
              "    <tr>\n",
              "      <th>...</th>\n",
              "      <td>...</td>\n",
              "      <td>...</td>\n",
              "      <td>...</td>\n",
              "      <td>...</td>\n",
              "      <td>...</td>\n",
              "      <td>...</td>\n",
              "      <td>...</td>\n",
              "      <td>...</td>\n",
              "      <td>...</td>\n",
              "      <td>...</td>\n",
              "      <td>...</td>\n",
              "      <td>...</td>\n",
              "      <td>...</td>\n",
              "      <td>...</td>\n",
              "      <td>...</td>\n",
              "      <td>...</td>\n",
              "      <td>...</td>\n",
              "      <td>...</td>\n",
              "      <td>...</td>\n",
              "      <td>...</td>\n",
              "      <td>...</td>\n",
              "    </tr>\n",
              "    <tr>\n",
              "      <th>8754</th>\n",
              "      <td>Westmeadows</td>\n",
              "      <td>3</td>\n",
              "      <td>h</td>\n",
              "      <td>582000.0</td>\n",
              "      <td>26/08/2017</td>\n",
              "      <td>16.0</td>\n",
              "      <td>3049.0</td>\n",
              "      <td>3.0</td>\n",
              "      <td>2.0</td>\n",
              "      <td>2.0</td>\n",
              "      <td>...</td>\n",
              "      <td>145.0</td>\n",
              "      <td>Northern Metropolitan</td>\n",
              "      <td>2474.0</td>\n",
              "      <td>NaN</td>\n",
              "      <td>NaN</td>\n",
              "      <td>NaN</td>\n",
              "      <td>NaN</td>\n",
              "      <td>NaN</td>\n",
              "      <td>-0.837315</td>\n",
              "      <td>0.977513</td>\n",
              "    </tr>\n",
              "    <tr>\n",
              "      <th>8755</th>\n",
              "      <td>Wheelers Hill</td>\n",
              "      <td>4</td>\n",
              "      <td>h</td>\n",
              "      <td>1245000.0</td>\n",
              "      <td>26/08/2017</td>\n",
              "      <td>17.0</td>\n",
              "      <td>3150.0</td>\n",
              "      <td>4.0</td>\n",
              "      <td>2.0</td>\n",
              "      <td>2.0</td>\n",
              "      <td>...</td>\n",
              "      <td>145.0</td>\n",
              "      <td>South-Eastern Metropolitan</td>\n",
              "      <td>7392.0</td>\n",
              "      <td>NaN</td>\n",
              "      <td>NaN</td>\n",
              "      <td>NaN</td>\n",
              "      <td>NaN</td>\n",
              "      <td>NaN</td>\n",
              "      <td>0.087240</td>\n",
              "      <td>-2.488537</td>\n",
              "    </tr>\n",
              "    <tr>\n",
              "      <th>8756</th>\n",
              "      <td>Williamstown</td>\n",
              "      <td>3</td>\n",
              "      <td>h</td>\n",
              "      <td>1031000.0</td>\n",
              "      <td>26/08/2017</td>\n",
              "      <td>7.0</td>\n",
              "      <td>3016.0</td>\n",
              "      <td>3.0</td>\n",
              "      <td>2.0</td>\n",
              "      <td>2.0</td>\n",
              "      <td>...</td>\n",
              "      <td>145.0</td>\n",
              "      <td>Western Metropolitan</td>\n",
              "      <td>6380.0</td>\n",
              "      <td>3016.0</td>\n",
              "      <td>4.0</td>\n",
              "      <td>107.0</td>\n",
              "      <td>612.0</td>\n",
              "      <td>2120.0</td>\n",
              "      <td>-1.331550</td>\n",
              "      <td>-0.003183</td>\n",
              "    </tr>\n",
              "    <tr>\n",
              "      <th>8757</th>\n",
              "      <td>Williamstown</td>\n",
              "      <td>3</td>\n",
              "      <td>h</td>\n",
              "      <td>1170000.0</td>\n",
              "      <td>26/08/2017</td>\n",
              "      <td>7.0</td>\n",
              "      <td>3016.0</td>\n",
              "      <td>3.0</td>\n",
              "      <td>2.0</td>\n",
              "      <td>4.0</td>\n",
              "      <td>...</td>\n",
              "      <td>145.0</td>\n",
              "      <td>Western Metropolitan</td>\n",
              "      <td>6380.0</td>\n",
              "      <td>3016.0</td>\n",
              "      <td>4.0</td>\n",
              "      <td>107.0</td>\n",
              "      <td>612.0</td>\n",
              "      <td>2120.0</td>\n",
              "      <td>-1.540998</td>\n",
              "      <td>-0.464306</td>\n",
              "    </tr>\n",
              "    <tr>\n",
              "      <th>8758</th>\n",
              "      <td>Yarraville</td>\n",
              "      <td>4</td>\n",
              "      <td>h</td>\n",
              "      <td>1285000.0</td>\n",
              "      <td>26/08/2017</td>\n",
              "      <td>6.0</td>\n",
              "      <td>3013.0</td>\n",
              "      <td>4.0</td>\n",
              "      <td>1.0</td>\n",
              "      <td>1.0</td>\n",
              "      <td>...</td>\n",
              "      <td>145.0</td>\n",
              "      <td>Western Metropolitan</td>\n",
              "      <td>6543.0</td>\n",
              "      <td>NaN</td>\n",
              "      <td>NaN</td>\n",
              "      <td>NaN</td>\n",
              "      <td>NaN</td>\n",
              "      <td>NaN</td>\n",
              "      <td>-1.852806</td>\n",
              "      <td>-0.256496</td>\n",
              "    </tr>\n",
              "  </tbody>\n",
              "</table>\n",
              "<p>8759 rows × 22 columns</p>\n",
              "</div>\n",
              "      <button class=\"colab-df-convert\" onclick=\"convertToInteractive('df-09498a5a-4044-4260-99b3-a657a5a88826')\"\n",
              "              title=\"Convert this dataframe to an interactive table.\"\n",
              "              style=\"display:none;\">\n",
              "        \n",
              "  <svg xmlns=\"http://www.w3.org/2000/svg\" height=\"24px\"viewBox=\"0 0 24 24\"\n",
              "       width=\"24px\">\n",
              "    <path d=\"M0 0h24v24H0V0z\" fill=\"none\"/>\n",
              "    <path d=\"M18.56 5.44l.94 2.06.94-2.06 2.06-.94-2.06-.94-.94-2.06-.94 2.06-2.06.94zm-11 1L8.5 8.5l.94-2.06 2.06-.94-2.06-.94L8.5 2.5l-.94 2.06-2.06.94zm10 10l.94 2.06.94-2.06 2.06-.94-2.06-.94-.94-2.06-.94 2.06-2.06.94z\"/><path d=\"M17.41 7.96l-1.37-1.37c-.4-.4-.92-.59-1.43-.59-.52 0-1.04.2-1.43.59L10.3 9.45l-7.72 7.72c-.78.78-.78 2.05 0 2.83L4 21.41c.39.39.9.59 1.41.59.51 0 1.02-.2 1.41-.59l7.78-7.78 2.81-2.81c.8-.78.8-2.07 0-2.86zM5.41 20L4 18.59l7.72-7.72 1.47 1.35L5.41 20z\"/>\n",
              "  </svg>\n",
              "      </button>\n",
              "      \n",
              "  <style>\n",
              "    .colab-df-container {\n",
              "      display:flex;\n",
              "      flex-wrap:wrap;\n",
              "      gap: 12px;\n",
              "    }\n",
              "\n",
              "    .colab-df-convert {\n",
              "      background-color: #E8F0FE;\n",
              "      border: none;\n",
              "      border-radius: 50%;\n",
              "      cursor: pointer;\n",
              "      display: none;\n",
              "      fill: #1967D2;\n",
              "      height: 32px;\n",
              "      padding: 0 0 0 0;\n",
              "      width: 32px;\n",
              "    }\n",
              "\n",
              "    .colab-df-convert:hover {\n",
              "      background-color: #E2EBFA;\n",
              "      box-shadow: 0px 1px 2px rgba(60, 64, 67, 0.3), 0px 1px 3px 1px rgba(60, 64, 67, 0.15);\n",
              "      fill: #174EA6;\n",
              "    }\n",
              "\n",
              "    [theme=dark] .colab-df-convert {\n",
              "      background-color: #3B4455;\n",
              "      fill: #D2E3FC;\n",
              "    }\n",
              "\n",
              "    [theme=dark] .colab-df-convert:hover {\n",
              "      background-color: #434B5C;\n",
              "      box-shadow: 0px 1px 3px 1px rgba(0, 0, 0, 0.15);\n",
              "      filter: drop-shadow(0px 1px 2px rgba(0, 0, 0, 0.3));\n",
              "      fill: #FFFFFF;\n",
              "    }\n",
              "  </style>\n",
              "\n",
              "      <script>\n",
              "        const buttonEl =\n",
              "          document.querySelector('#df-09498a5a-4044-4260-99b3-a657a5a88826 button.colab-df-convert');\n",
              "        buttonEl.style.display =\n",
              "          google.colab.kernel.accessAllowed ? 'block' : 'none';\n",
              "\n",
              "        async function convertToInteractive(key) {\n",
              "          const element = document.querySelector('#df-09498a5a-4044-4260-99b3-a657a5a88826');\n",
              "          const dataTable =\n",
              "            await google.colab.kernel.invokeFunction('convertToInteractive',\n",
              "                                                     [key], {});\n",
              "          if (!dataTable) return;\n",
              "\n",
              "          const docLinkHtml = 'Like what you see? Visit the ' +\n",
              "            '<a target=\"_blank\" href=https://colab.research.google.com/notebooks/data_table.ipynb>data table notebook</a>'\n",
              "            + ' to learn more about interactive tables.';\n",
              "          element.innerHTML = '';\n",
              "          dataTable['output_type'] = 'display_data';\n",
              "          await google.colab.output.renderOutput(dataTable, element);\n",
              "          const docLink = document.createElement('div');\n",
              "          docLink.innerHTML = docLinkHtml;\n",
              "          element.appendChild(docLink);\n",
              "        }\n",
              "      </script>\n",
              "    </div>\n",
              "  </div>\n",
              "  "
            ]
          },
          "metadata": {},
          "execution_count": 41
        }
      ],
      "source": [
        "melb_df_sample\n"
      ],
      "id": "4470d5af"
    },
    {
      "cell_type": "code",
      "execution_count": null,
      "metadata": {
        "colab": {
          "base_uri": "https://localhost:8080/"
        },
        "id": "c752e226",
        "outputId": "b356bed3-7b54-4f54-ed3e-b9e4b3f65e96"
      },
      "outputs": [
        {
          "output_type": "execute_result",
          "data": {
            "text/plain": [
              "<matplotlib.axes._subplots.AxesSubplot at 0x7fe2d48c4fd0>"
            ]
          },
          "metadata": {},
          "execution_count": 42
        },
        {
          "output_type": "display_data",
          "data": {
            "text/plain": [
              "<Figure size 720x720 with 1 Axes>"
            ],
            "image/png": "[encoded data removed]"
          },
          "metadata": {
            "needs_background": "light"
          }
        }
      ],
      "source": [
        "data = melb_df_sample.sample(1000)\n",
        "fig = plt.figure(figsize=(10, 10))\n",
        "sns.scatterplot(data=data, x=\"pca1_standard\", y=\"pca2_standard\", hue=\"Type\")\n"
      ],
      "id": "c752e226"
    },
    {
      "cell_type": "markdown",
      "metadata": {
        "id": "eaed296d"
      },
      "source": [
        "### Ejercicio 4 \n",
        "\n",
        "Transformar nuevamente el conjunto de datos procesado en un pandas.DataFrame y guardarlo en un archivo."
      ],
      "id": "eaed296d"
    },
    {
      "cell_type": "code",
      "execution_count": null,
      "metadata": {
        "id": "2b12bc2b"
      },
      "outputs": [],
      "source": [
        "from sklearn.decomposition import PCA\n",
        "from sklearn.preprocessing import OneHotEncoder\n"
      ],
      "id": "2b12bc2b"
    },
    {
      "cell_type": "code",
      "execution_count": null,
      "metadata": {
        "id": "066a1e73"
      },
      "outputs": [],
      "source": [
        "cat_cols = [\"Suburb\", \"Type\", \"Regionname\", \"Date\"]\n",
        "num_cols = [\n",
        "    \"Rooms\",\n",
        "    \"Price\",\n",
        "    \"Distance\",\n",
        "    \"Postcode\",\n",
        "    \"Bedroom2\",\n",
        "    \"Bathroom\",\n",
        "    \"Car\",\n",
        "    \"Landsize\",\n",
        "    \"Propertycount\",\n",
        "]\n",
        "new_columns = []\n"
      ],
      "id": "066a1e73"
    },
    {
      "cell_type": "markdown",
      "metadata": {
        "id": "0dNKT2rl-zPv"
      },
      "source": [
        "Encode columnas categoricas."
      ],
      "id": "0dNKT2rl-zPv"
    },
    {
      "cell_type": "code",
      "execution_count": null,
      "metadata": {
        "colab": {
          "base_uri": "https://localhost:8080/"
        },
        "id": "183613b3",
        "scrolled": false,
        "outputId": "365597c2-ab56-472e-e780-f2aa7071ed6c"
      },
      "outputs": [
        {
          "output_type": "stream",
          "name": "stdout",
          "text": [
            "Matrix has shape (8759, 288), with columns: ['Suburb=Abbotsford', 'Suburb=Aberfeldie', 'Suburb=Airport West', 'Suburb=Albanvale', 'Suburb=Albert Park', 'Suburb=Albion', 'Suburb=Alphington', 'Suburb=Altona', 'Suburb=Altona Meadows', 'Suburb=Altona North', 'Suburb=Ardeer', 'Suburb=Armadale', 'Suburb=Ascot Vale', 'Suburb=Ashburton', 'Suburb=Ashwood', 'Suburb=Attwood', 'Suburb=Avondale Heights', 'Suburb=Balaclava', 'Suburb=Balwyn', 'Suburb=Balwyn North', 'Suburb=Beaumaris', 'Suburb=Bellfield', 'Suburb=Bentleigh', 'Suburb=Bentleigh East', 'Suburb=Black Rock', 'Suburb=Blackburn', 'Suburb=Blackburn North', 'Suburb=Blackburn South', 'Suburb=Box Hill', 'Suburb=Braybrook', 'Suburb=Briar Hill', 'Suburb=Brighton', 'Suburb=Brighton East', 'Suburb=Broadmeadows', 'Suburb=Brooklyn', 'Suburb=Brunswick', 'Suburb=Brunswick East', 'Suburb=Brunswick West', 'Suburb=Bulleen', 'Suburb=Bundoora', 'Suburb=Burnley', 'Suburb=Burnside', 'Suburb=Burnside Heights', 'Suburb=Burwood', 'Suburb=Burwood East', 'Suburb=Cairnlea', 'Suburb=Camberwell', 'Suburb=Campbellfield', 'Suburb=Canterbury', 'Suburb=Carlton', 'Suburb=Carlton North', 'Suburb=Carnegie', 'Suburb=Caroline Springs', 'Suburb=Caulfield', 'Suburb=Caulfield East', 'Suburb=Caulfield North', 'Suburb=Caulfield South', 'Suburb=Chadstone', 'Suburb=Cheltenham', 'Suburb=Clarinda', 'Suburb=Clayton', 'Suburb=Clayton South', 'Suburb=Clifton Hill', 'Suburb=Coburg', 'Suburb=Coburg North', 'Suburb=Collingwood', 'Suburb=Coolaroo', 'Suburb=Cremorne', 'Suburb=Deepdene', 'Suburb=Deer Park', 'Suburb=Delahey', 'Suburb=Derrimut', 'Suburb=Docklands', 'Suburb=Doncaster', 'Suburb=Doncaster East', 'Suburb=Donvale', 'Suburb=Eaglemont', 'Suburb=East Melbourne', 'Suburb=Elsternwick', 'Suburb=Eltham', 'Suburb=Eltham North', 'Suburb=Elwood', 'Suburb=Epping', 'Suburb=Essendon', 'Suburb=Essendon North', 'Suburb=Essendon West', 'Suburb=Fairfield', 'Suburb=Fawkner', 'Suburb=Fitzroy', 'Suburb=Fitzroy North', 'Suburb=Flemington', 'Suburb=Footscray', 'Suburb=Forest Hill', 'Suburb=Gardenvale', 'Suburb=Gladstone Park', 'Suburb=Glen Huntly', 'Suburb=Glen Iris', 'Suburb=Glen Waverley', 'Suburb=Glenroy', 'Suburb=Gowanbrae', 'Suburb=Greensborough', 'Suburb=Hadfield', 'Suburb=Hampton', 'Suburb=Hampton East', 'Suburb=Hawthorn', 'Suburb=Hawthorn East', 'Suburb=Heidelberg', 'Suburb=Heidelberg Heights', 'Suburb=Heidelberg West', 'Suburb=Highett', 'Suburb=Hillside', 'Suburb=Hoppers Crossing', 'Suburb=Hughesdale', 'Suburb=Huntingdale', 'Suburb=Ivanhoe', 'Suburb=Ivanhoe East', 'Suburb=Jacana', 'Suburb=Kealba', 'Suburb=Keilor', 'Suburb=Keilor Downs', 'Suburb=Keilor East', 'Suburb=Keilor Lodge', 'Suburb=Keilor Park', 'Suburb=Kensington', 'Suburb=Kew', 'Suburb=Kew East', 'Suburb=Kings Park', 'Suburb=Kingsbury', 'Suburb=Kingsville', 'Suburb=Kooyong', 'Suburb=Lalor', 'Suburb=Lower Plenty', 'Suburb=Maidstone', 'Suburb=Malvern', 'Suburb=Malvern East', 'Suburb=Maribyrnong', 'Suburb=McKinnon', 'Suburb=Meadow Heights', 'Suburb=Melbourne', 'Suburb=Mentone', 'Suburb=Middle Park', 'Suburb=Mill Park', 'Suburb=Mitcham', 'Suburb=Mont Albert', 'Suburb=Montmorency', 'Suburb=Moonee Ponds', 'Suburb=Moorabbin', 'Suburb=Mount Waverley', 'Suburb=Mulgrave', 'Suburb=Murrumbeena', 'Suburb=Newport', 'Suburb=Niddrie', 'Suburb=North Melbourne', 'Suburb=Northcote', 'Suburb=Notting Hill', 'Suburb=Nunawading', 'Suburb=Oak Park', 'Suburb=Oakleigh', 'Suburb=Oakleigh East', 'Suburb=Oakleigh South', 'Suburb=Ormond', 'Suburb=Parkville', 'Suburb=Pascoe Vale', 'Suburb=Point Cook', 'Suburb=Port Melbourne', 'Suburb=Prahran', 'Suburb=Preston', 'Suburb=Princes Hill', 'Suburb=Reservoir', 'Suburb=Richmond', 'Suburb=Ringwood', 'Suburb=Ringwood North', 'Suburb=Ripponlea', 'Suburb=Rosanna', 'Suburb=Sandringham', 'Suburb=Seabrook', 'Suburb=Seaholme', 'Suburb=Seddon', 'Suburb=South Kingsville', 'Suburb=South Melbourne', 'Suburb=South Yarra', 'Suburb=Southbank', 'Suburb=Spotswood', 'Suburb=St Albans', 'Suburb=St Helena', 'Suburb=St Kilda', 'Suburb=Strathmore', 'Suburb=Strathmore Heights', 'Suburb=Sunshine', 'Suburb=Sunshine North', 'Suburb=Sunshine West', 'Suburb=Surrey Hills', 'Suburb=Sydenham', 'Suburb=Tarneit', 'Suburb=Taylors Hill', 'Suburb=Taylors Lakes', 'Suburb=Templestowe', 'Suburb=Templestowe Lower', 'Suburb=Thomastown', 'Suburb=Thornbury', 'Suburb=Toorak', 'Suburb=Travancore', 'Suburb=Truganina', 'Suburb=Tullamarine', 'Suburb=Vermont', 'Suburb=Vermont South', 'Suburb=Viewbank', 'Suburb=Wantirna', 'Suburb=Wantirna South', 'Suburb=Watsonia', 'Suburb=Watsonia North', 'Suburb=Werribee', 'Suburb=West Footscray', 'Suburb=West Melbourne', 'Suburb=Westmeadows', 'Suburb=Wheelers Hill', 'Suburb=Williams Landing', 'Suburb=Williamstown', 'Suburb=Williamstown North', 'Suburb=Windsor', 'Suburb=Yallambie', 'Suburb=Yarraville', 'Type=h', 'Type=t', 'Type=u', 'Regionname=Eastern Metropolitan', 'Regionname=Northern Metropolitan', 'Regionname=South-Eastern Metropolitan', 'Regionname=Southern Metropolitan', 'Regionname=Western Metropolitan', 'Date=1/07/2017', 'Date=10/09/2016', 'Date=10/12/2016', 'Date=11/02/2017', 'Date=11/03/2017', 'Date=12/06/2016', 'Date=12/08/2017', 'Date=12/11/2016', 'Date=13/05/2017', 'Date=13/08/2016', 'Date=14/05/2016', 'Date=15/07/2017', 'Date=15/10/2016', 'Date=16/04/2016', 'Date=16/07/2016', 'Date=16/09/2017', 'Date=17/06/2017', 'Date=17/09/2016', 'Date=18/03/2017', 'Date=18/06/2016', 'Date=19/08/2017', 'Date=19/11/2016', 'Date=20/05/2017', 'Date=22/04/2017', 'Date=22/05/2016', 'Date=22/07/2017', 'Date=22/08/2016', 'Date=23/04/2016', 'Date=23/09/2017', 'Date=24/06/2017', 'Date=24/09/2016', 'Date=25/02/2017', 'Date=26/07/2016', 'Date=26/08/2017', 'Date=27/05/2017', 'Date=27/06/2016', 'Date=27/11/2016', 'Date=28/01/2016', 'Date=28/05/2016', 'Date=28/08/2016', 'Date=29/04/2017', 'Date=29/07/2017', 'Date=3/06/2017', 'Date=3/09/2016', 'Date=3/09/2017', 'Date=3/12/2016', 'Date=30/07/2016', 'Date=4/02/2016', 'Date=4/03/2017', 'Date=4/06/2016', 'Date=6/05/2017', 'Date=6/08/2016', 'Date=7/05/2016', 'Date=7/11/2016', 'Date=8/04/2017', 'Date=8/07/2017', 'Date=8/10/2016', 'Date=9/09/2017']\n"
          ]
        }
      ],
      "source": [
        "encoder = OneHotEncoder(handle_unknown=\"ignore\", sparse=False)\n",
        "X_cat = encoder.fit_transform(df_extend_filtered[cat_cols])\n",
        "\n",
        "for col, col_values in zip(cat_cols, encoder.categories_):\n",
        "    for col_value in col_values:\n",
        "        new_columns.append(\"{}={}\".format(col, col_value))\n",
        "print(\"Matrix has shape {}, with columns: {}\".format(X_cat.shape, new_columns))\n"
      ],
      "id": "183613b3"
    },
    {
      "cell_type": "markdown",
      "metadata": {
        "id": "s2PJvaCE-sxq"
      },
      "source": [
        "Agregamos las columnas numericas"
      ],
      "id": "s2PJvaCE-sxq"
    },
    {
      "cell_type": "code",
      "execution_count": null,
      "metadata": {
        "colab": {
          "base_uri": "https://localhost:8080/"
        },
        "id": "d5fe330a",
        "outputId": "31724de9-465e-43a8-b4d6-ae3edd65d1a1"
      },
      "outputs": [
        {
          "output_type": "stream",
          "name": "stdout",
          "text": [
            "Matrix has shape (8759, 288), with columns: ['Suburb=Abbotsford', 'Suburb=Aberfeldie', 'Suburb=Airport West', 'Suburb=Albanvale', 'Suburb=Albert Park', 'Suburb=Albion', 'Suburb=Alphington', 'Suburb=Altona', 'Suburb=Altona Meadows', 'Suburb=Altona North', 'Suburb=Ardeer', 'Suburb=Armadale', 'Suburb=Ascot Vale', 'Suburb=Ashburton', 'Suburb=Ashwood', 'Suburb=Attwood', 'Suburb=Avondale Heights', 'Suburb=Balaclava', 'Suburb=Balwyn', 'Suburb=Balwyn North', 'Suburb=Beaumaris', 'Suburb=Bellfield', 'Suburb=Bentleigh', 'Suburb=Bentleigh East', 'Suburb=Black Rock', 'Suburb=Blackburn', 'Suburb=Blackburn North', 'Suburb=Blackburn South', 'Suburb=Box Hill', 'Suburb=Braybrook', 'Suburb=Briar Hill', 'Suburb=Brighton', 'Suburb=Brighton East', 'Suburb=Broadmeadows', 'Suburb=Brooklyn', 'Suburb=Brunswick', 'Suburb=Brunswick East', 'Suburb=Brunswick West', 'Suburb=Bulleen', 'Suburb=Bundoora', 'Suburb=Burnley', 'Suburb=Burnside', 'Suburb=Burnside Heights', 'Suburb=Burwood', 'Suburb=Burwood East', 'Suburb=Cairnlea', 'Suburb=Camberwell', 'Suburb=Campbellfield', 'Suburb=Canterbury', 'Suburb=Carlton', 'Suburb=Carlton North', 'Suburb=Carnegie', 'Suburb=Caroline Springs', 'Suburb=Caulfield', 'Suburb=Caulfield East', 'Suburb=Caulfield North', 'Suburb=Caulfield South', 'Suburb=Chadstone', 'Suburb=Cheltenham', 'Suburb=Clarinda', 'Suburb=Clayton', 'Suburb=Clayton South', 'Suburb=Clifton Hill', 'Suburb=Coburg', 'Suburb=Coburg North', 'Suburb=Collingwood', 'Suburb=Coolaroo', 'Suburb=Cremorne', 'Suburb=Deepdene', 'Suburb=Deer Park', 'Suburb=Delahey', 'Suburb=Derrimut', 'Suburb=Docklands', 'Suburb=Doncaster', 'Suburb=Doncaster East', 'Suburb=Donvale', 'Suburb=Eaglemont', 'Suburb=East Melbourne', 'Suburb=Elsternwick', 'Suburb=Eltham', 'Suburb=Eltham North', 'Suburb=Elwood', 'Suburb=Epping', 'Suburb=Essendon', 'Suburb=Essendon North', 'Suburb=Essendon West', 'Suburb=Fairfield', 'Suburb=Fawkner', 'Suburb=Fitzroy', 'Suburb=Fitzroy North', 'Suburb=Flemington', 'Suburb=Footscray', 'Suburb=Forest Hill', 'Suburb=Gardenvale', 'Suburb=Gladstone Park', 'Suburb=Glen Huntly', 'Suburb=Glen Iris', 'Suburb=Glen Waverley', 'Suburb=Glenroy', 'Suburb=Gowanbrae', 'Suburb=Greensborough', 'Suburb=Hadfield', 'Suburb=Hampton', 'Suburb=Hampton East', 'Suburb=Hawthorn', 'Suburb=Hawthorn East', 'Suburb=Heidelberg', 'Suburb=Heidelberg Heights', 'Suburb=Heidelberg West', 'Suburb=Highett', 'Suburb=Hillside', 'Suburb=Hoppers Crossing', 'Suburb=Hughesdale', 'Suburb=Huntingdale', 'Suburb=Ivanhoe', 'Suburb=Ivanhoe East', 'Suburb=Jacana', 'Suburb=Kealba', 'Suburb=Keilor', 'Suburb=Keilor Downs', 'Suburb=Keilor East', 'Suburb=Keilor Lodge', 'Suburb=Keilor Park', 'Suburb=Kensington', 'Suburb=Kew', 'Suburb=Kew East', 'Suburb=Kings Park', 'Suburb=Kingsbury', 'Suburb=Kingsville', 'Suburb=Kooyong', 'Suburb=Lalor', 'Suburb=Lower Plenty', 'Suburb=Maidstone', 'Suburb=Malvern', 'Suburb=Malvern East', 'Suburb=Maribyrnong', 'Suburb=McKinnon', 'Suburb=Meadow Heights', 'Suburb=Melbourne', 'Suburb=Mentone', 'Suburb=Middle Park', 'Suburb=Mill Park', 'Suburb=Mitcham', 'Suburb=Mont Albert', 'Suburb=Montmorency', 'Suburb=Moonee Ponds', 'Suburb=Moorabbin', 'Suburb=Mount Waverley', 'Suburb=Mulgrave', 'Suburb=Murrumbeena', 'Suburb=Newport', 'Suburb=Niddrie', 'Suburb=North Melbourne', 'Suburb=Northcote', 'Suburb=Notting Hill', 'Suburb=Nunawading', 'Suburb=Oak Park', 'Suburb=Oakleigh', 'Suburb=Oakleigh East', 'Suburb=Oakleigh South', 'Suburb=Ormond', 'Suburb=Parkville', 'Suburb=Pascoe Vale', 'Suburb=Point Cook', 'Suburb=Port Melbourne', 'Suburb=Prahran', 'Suburb=Preston', 'Suburb=Princes Hill', 'Suburb=Reservoir', 'Suburb=Richmond', 'Suburb=Ringwood', 'Suburb=Ringwood North', 'Suburb=Ripponlea', 'Suburb=Rosanna', 'Suburb=Sandringham', 'Suburb=Seabrook', 'Suburb=Seaholme', 'Suburb=Seddon', 'Suburb=South Kingsville', 'Suburb=South Melbourne', 'Suburb=South Yarra', 'Suburb=Southbank', 'Suburb=Spotswood', 'Suburb=St Albans', 'Suburb=St Helena', 'Suburb=St Kilda', 'Suburb=Strathmore', 'Suburb=Strathmore Heights', 'Suburb=Sunshine', 'Suburb=Sunshine North', 'Suburb=Sunshine West', 'Suburb=Surrey Hills', 'Suburb=Sydenham', 'Suburb=Tarneit', 'Suburb=Taylors Hill', 'Suburb=Taylors Lakes', 'Suburb=Templestowe', 'Suburb=Templestowe Lower', 'Suburb=Thomastown', 'Suburb=Thornbury', 'Suburb=Toorak', 'Suburb=Travancore', 'Suburb=Truganina', 'Suburb=Tullamarine', 'Suburb=Vermont', 'Suburb=Vermont South', 'Suburb=Viewbank', 'Suburb=Wantirna', 'Suburb=Wantirna South', 'Suburb=Watsonia', 'Suburb=Watsonia North', 'Suburb=Werribee', 'Suburb=West Footscray', 'Suburb=West Melbourne', 'Suburb=Westmeadows', 'Suburb=Wheelers Hill', 'Suburb=Williams Landing', 'Suburb=Williamstown', 'Suburb=Williamstown North', 'Suburb=Windsor', 'Suburb=Yallambie', 'Suburb=Yarraville', 'Type=h', 'Type=t', 'Type=u', 'Regionname=Eastern Metropolitan', 'Regionname=Northern Metropolitan', 'Regionname=South-Eastern Metropolitan', 'Regionname=Southern Metropolitan', 'Regionname=Western Metropolitan', 'Date=1/07/2017', 'Date=10/09/2016', 'Date=10/12/2016', 'Date=11/02/2017', 'Date=11/03/2017', 'Date=12/06/2016', 'Date=12/08/2017', 'Date=12/11/2016', 'Date=13/05/2017', 'Date=13/08/2016', 'Date=14/05/2016', 'Date=15/07/2017', 'Date=15/10/2016', 'Date=16/04/2016', 'Date=16/07/2016', 'Date=16/09/2017', 'Date=17/06/2017', 'Date=17/09/2016', 'Date=18/03/2017', 'Date=18/06/2016', 'Date=19/08/2017', 'Date=19/11/2016', 'Date=20/05/2017', 'Date=22/04/2017', 'Date=22/05/2016', 'Date=22/07/2017', 'Date=22/08/2016', 'Date=23/04/2016', 'Date=23/09/2017', 'Date=24/06/2017', 'Date=24/09/2016', 'Date=25/02/2017', 'Date=26/07/2016', 'Date=26/08/2017', 'Date=27/05/2017', 'Date=27/06/2016', 'Date=27/11/2016', 'Date=28/01/2016', 'Date=28/05/2016', 'Date=28/08/2016', 'Date=29/04/2017', 'Date=29/07/2017', 'Date=3/06/2017', 'Date=3/09/2016', 'Date=3/09/2017', 'Date=3/12/2016', 'Date=30/07/2016', 'Date=4/02/2016', 'Date=4/03/2017', 'Date=4/06/2016', 'Date=6/05/2017', 'Date=6/08/2016', 'Date=7/05/2016', 'Date=7/11/2016', 'Date=8/04/2017', 'Date=8/07/2017', 'Date=8/10/2016', 'Date=9/09/2017', 'Rooms', 'Price', 'Distance', 'Postcode', 'Bedroom2', 'Bathroom', 'Car', 'Landsize', 'Propertycount']\n"
          ]
        }
      ],
      "source": [
        "# Step 2: Append the numerical columns\n",
        "X = np.hstack([X_cat, df_extend_filtered[num_cols].values])\n",
        "new_columns.extend(num_cols)\n",
        "print(\"Matrix has shape {}, with columns: {}\".format(X_cat.shape, new_columns))\n"
      ],
      "id": "d5fe330a"
    },
    {
      "cell_type": "code",
      "execution_count": null,
      "metadata": {
        "colab": {
          "base_uri": "https://localhost:8080/"
        },
        "id": "efe49caf",
        "outputId": "f1896df9-5d8c-4b41-a007-adb46e464802"
      },
      "outputs": [
        {
          "output_type": "execute_result",
          "data": {
            "text/plain": [
              "(-1.0, 1.0000000000000002)"
            ]
          },
          "metadata": {},
          "execution_count": 47
        }
      ],
      "source": [
        "from sklearn.preprocessing import MinMaxScaler\n",
        "from sklearn.decomposition import PCA\n",
        "from sklearn.preprocessing import OneHotEncoder\n",
        "\n",
        "scaler = MinMaxScaler(feature_range=(-1, 1))\n",
        "scaled_dense_feature_matrix = scaler.fit_transform(X)\n",
        "np.min(scaled_dense_feature_matrix), np.max(scaled_dense_feature_matrix)\n"
      ],
      "id": "efe49caf"
    },
    {
      "cell_type": "code",
      "execution_count": null,
      "metadata": {
        "id": "2e4afcb0"
      },
      "outputs": [],
      "source": [
        "pca = PCA(n_components=2)\n",
        "pca.fit(scaled_dense_feature_matrix)\n",
        "proyected_features = pca.transform(scaled_dense_feature_matrix)\n",
        "X_pca = np.hstack([X, proyected_features])\n",
        "new_columns.extend([\"pca1\", \"pca2\"])\n"
      ],
      "id": "2e4afcb0"
    },
    {
      "cell_type": "code",
      "execution_count": null,
      "metadata": {
        "colab": {
          "base_uri": "https://localhost:8080/",
          "height": 317
        },
        "id": "021a3dd1",
        "outputId": "f3f60559-a6b3-4a33-82f1-d97f12a654dc"
      },
      "outputs": [
        {
          "output_type": "execute_result",
          "data": {
            "text/plain": [
              "   Suburb=Abbotsford  Suburb=Aberfeldie  Suburb=Airport West  \\\n",
              "0                1.0                0.0                  0.0   \n",
              "1                1.0                0.0                  0.0   \n",
              "2                1.0                0.0                  0.0   \n",
              "3                1.0                0.0                  0.0   \n",
              "4                1.0                0.0                  0.0   \n",
              "\n",
              "   Suburb=Albanvale  Suburb=Albert Park  Suburb=Albion  Suburb=Alphington  \\\n",
              "0               0.0                 0.0            0.0                0.0   \n",
              "1               0.0                 0.0            0.0                0.0   \n",
              "2               0.0                 0.0            0.0                0.0   \n",
              "3               0.0                 0.0            0.0                0.0   \n",
              "4               0.0                 0.0            0.0                0.0   \n",
              "\n",
              "   Suburb=Altona  Suburb=Altona Meadows  Suburb=Altona North  ...      Price  \\\n",
              "0            0.0                    0.0                  0.0  ...  1480000.0   \n",
              "1            0.0                    0.0                  0.0  ...  1035000.0   \n",
              "2            0.0                    0.0                  0.0  ...  1465000.0   \n",
              "3            0.0                    0.0                  0.0  ...   850000.0   \n",
              "4            0.0                    0.0                  0.0  ...  1600000.0   \n",
              "\n",
              "   Distance  Postcode  Bedroom2  Bathroom  Car  Landsize  Propertycount  \\\n",
              "0       2.0    3067.0       2.0       1.0  1.0     202.0         4019.0   \n",
              "1       2.0    3067.0       2.0       1.0  0.0     156.0         4019.0   \n",
              "2       2.0    3067.0       3.0       2.0  0.0     134.0         4019.0   \n",
              "3       2.0    3067.0       3.0       2.0  1.0      94.0         4019.0   \n",
              "4       2.0    3067.0       3.0       1.0  2.0     120.0         4019.0   \n",
              "\n",
              "       pca1      pca2  \n",
              "0 -0.719390  1.404970  \n",
              "1 -0.637134  1.596757  \n",
              "2 -0.796241  1.250605  \n",
              "3 -0.758925  1.374786  \n",
              "4 -0.931709  1.154521  \n",
              "\n",
              "[5 rows x 299 columns]"
            ],
            "text/html": [
              "\n",
              "  <div id=\"df-d000ad87-8fc7-4dcd-9a8c-3ec264cc67b7\">\n",
              "    <div class=\"colab-df-container\">\n",
              "      <div>\n",
              "<style scoped>\n",
              "    .dataframe tbody tr th:only-of-type {\n",
              "        vertical-align: middle;\n",
              "    }\n",
              "\n",
              "    .dataframe tbody tr th {\n",
              "        vertical-align: top;\n",
              "    }\n",
              "\n",
              "    .dataframe thead th {\n",
              "        text-align: right;\n",
              "    }\n",
              "</style>\n",
              "<table border=\"1\" class=\"dataframe\">\n",
              "  <thead>\n",
              "    <tr style=\"text-align: right;\">\n",
              "      <th></th>\n",
              "      <th>Suburb=Abbotsford</th>\n",
              "      <th>Suburb=Aberfeldie</th>\n",
              "      <th>Suburb=Airport West</th>\n",
              "      <th>Suburb=Albanvale</th>\n",
              "      <th>Suburb=Albert Park</th>\n",
              "      <th>Suburb=Albion</th>\n",
              "      <th>Suburb=Alphington</th>\n",
              "      <th>Suburb=Altona</th>\n",
              "      <th>Suburb=Altona Meadows</th>\n",
              "      <th>Suburb=Altona North</th>\n",
              "      <th>...</th>\n",
              "      <th>Price</th>\n",
              "      <th>Distance</th>\n",
              "      <th>Postcode</th>\n",
              "      <th>Bedroom2</th>\n",
              "      <th>Bathroom</th>\n",
              "      <th>Car</th>\n",
              "      <th>Landsize</th>\n",
              "      <th>Propertycount</th>\n",
              "      <th>pca1</th>\n",
              "      <th>pca2</th>\n",
              "    </tr>\n",
              "  </thead>\n",
              "  <tbody>\n",
              "    <tr>\n",
              "      <th>0</th>\n",
              "      <td>1.0</td>\n",
              "      <td>0.0</td>\n",
              "      <td>0.0</td>\n",
              "      <td>0.0</td>\n",
              "      <td>0.0</td>\n",
              "      <td>0.0</td>\n",
              "      <td>0.0</td>\n",
              "      <td>0.0</td>\n",
              "      <td>0.0</td>\n",
              "      <td>0.0</td>\n",
              "      <td>...</td>\n",
              "      <td>1480000.0</td>\n",
              "      <td>2.0</td>\n",
              "      <td>3067.0</td>\n",
              "      <td>2.0</td>\n",
              "      <td>1.0</td>\n",
              "      <td>1.0</td>\n",
              "      <td>202.0</td>\n",
              "      <td>4019.0</td>\n",
              "      <td>-0.719390</td>\n",
              "      <td>1.404970</td>\n",
              "    </tr>\n",
              "    <tr>\n",
              "      <th>1</th>\n",
              "      <td>1.0</td>\n",
              "      <td>0.0</td>\n",
              "      <td>0.0</td>\n",
              "      <td>0.0</td>\n",
              "      <td>0.0</td>\n",
              "      <td>0.0</td>\n",
              "      <td>0.0</td>\n",
              "      <td>0.0</td>\n",
              "      <td>0.0</td>\n",
              "      <td>0.0</td>\n",
              "      <td>...</td>\n",
              "      <td>1035000.0</td>\n",
              "      <td>2.0</td>\n",
              "      <td>3067.0</td>\n",
              "      <td>2.0</td>\n",
              "      <td>1.0</td>\n",
              "      <td>0.0</td>\n",
              "      <td>156.0</td>\n",
              "      <td>4019.0</td>\n",
              "      <td>-0.637134</td>\n",
              "      <td>1.596757</td>\n",
              "    </tr>\n",
              "    <tr>\n",
              "      <th>2</th>\n",
              "      <td>1.0</td>\n",
              "      <td>0.0</td>\n",
              "      <td>0.0</td>\n",
              "      <td>0.0</td>\n",
              "      <td>0.0</td>\n",
              "      <td>0.0</td>\n",
              "      <td>0.0</td>\n",
              "      <td>0.0</td>\n",
              "      <td>0.0</td>\n",
              "      <td>0.0</td>\n",
              "      <td>...</td>\n",
              "      <td>1465000.0</td>\n",
              "      <td>2.0</td>\n",
              "      <td>3067.0</td>\n",
              "      <td>3.0</td>\n",
              "      <td>2.0</td>\n",
              "      <td>0.0</td>\n",
              "      <td>134.0</td>\n",
              "      <td>4019.0</td>\n",
              "      <td>-0.796241</td>\n",
              "      <td>1.250605</td>\n",
              "    </tr>\n",
              "    <tr>\n",
              "      <th>3</th>\n",
              "      <td>1.0</td>\n",
              "      <td>0.0</td>\n",
              "      <td>0.0</td>\n",
              "      <td>0.0</td>\n",
              "      <td>0.0</td>\n",
              "      <td>0.0</td>\n",
              "      <td>0.0</td>\n",
              "      <td>0.0</td>\n",
              "      <td>0.0</td>\n",
              "      <td>0.0</td>\n",
              "      <td>...</td>\n",
              "      <td>850000.0</td>\n",
              "      <td>2.0</td>\n",
              "      <td>3067.0</td>\n",
              "      <td>3.0</td>\n",
              "      <td>2.0</td>\n",
              "      <td>1.0</td>\n",
              "      <td>94.0</td>\n",
              "      <td>4019.0</td>\n",
              "      <td>-0.758925</td>\n",
              "      <td>1.374786</td>\n",
              "    </tr>\n",
              "    <tr>\n",
              "      <th>4</th>\n",
              "      <td>1.0</td>\n",
              "      <td>0.0</td>\n",
              "      <td>0.0</td>\n",
              "      <td>0.0</td>\n",
              "      <td>0.0</td>\n",
              "      <td>0.0</td>\n",
              "      <td>0.0</td>\n",
              "      <td>0.0</td>\n",
              "      <td>0.0</td>\n",
              "      <td>0.0</td>\n",
              "      <td>...</td>\n",
              "      <td>1600000.0</td>\n",
              "      <td>2.0</td>\n",
              "      <td>3067.0</td>\n",
              "      <td>3.0</td>\n",
              "      <td>1.0</td>\n",
              "      <td>2.0</td>\n",
              "      <td>120.0</td>\n",
              "      <td>4019.0</td>\n",
              "      <td>-0.931709</td>\n",
              "      <td>1.154521</td>\n",
              "    </tr>\n",
              "  </tbody>\n",
              "</table>\n",
              "<p>5 rows × 299 columns</p>\n",
              "</div>\n",
              "      <button class=\"colab-df-convert\" onclick=\"convertToInteractive('df-d000ad87-8fc7-4dcd-9a8c-3ec264cc67b7')\"\n",
              "              title=\"Convert this dataframe to an interactive table.\"\n",
              "              style=\"display:none;\">\n",
              "        \n",
              "  <svg xmlns=\"http://www.w3.org/2000/svg\" height=\"24px\"viewBox=\"0 0 24 24\"\n",
              "       width=\"24px\">\n",
              "    <path d=\"M0 0h24v24H0V0z\" fill=\"none\"/>\n",
              "    <path d=\"M18.56 5.44l.94 2.06.94-2.06 2.06-.94-2.06-.94-.94-2.06-.94 2.06-2.06.94zm-11 1L8.5 8.5l.94-2.06 2.06-.94-2.06-.94L8.5 2.5l-.94 2.06-2.06.94zm10 10l.94 2.06.94-2.06 2.06-.94-2.06-.94-.94-2.06-.94 2.06-2.06.94z\"/><path d=\"M17.41 7.96l-1.37-1.37c-.4-.4-.92-.59-1.43-.59-.52 0-1.04.2-1.43.59L10.3 9.45l-7.72 7.72c-.78.78-.78 2.05 0 2.83L4 21.41c.39.39.9.59 1.41.59.51 0 1.02-.2 1.41-.59l7.78-7.78 2.81-2.81c.8-.78.8-2.07 0-2.86zM5.41 20L4 18.59l7.72-7.72 1.47 1.35L5.41 20z\"/>\n",
              "  </svg>\n",
              "      </button>\n",
              "      \n",
              "  <style>\n",
              "    .colab-df-container {\n",
              "      display:flex;\n",
              "      flex-wrap:wrap;\n",
              "      gap: 12px;\n",
              "    }\n",
              "\n",
              "    .colab-df-convert {\n",
              "      background-color: #E8F0FE;\n",
              "      border: none;\n",
              "      border-radius: 50%;\n",
              "      cursor: pointer;\n",
              "      display: none;\n",
              "      fill: #1967D2;\n",
              "      height: 32px;\n",
              "      padding: 0 0 0 0;\n",
              "      width: 32px;\n",
              "    }\n",
              "\n",
              "    .colab-df-convert:hover {\n",
              "      background-color: #E2EBFA;\n",
              "      box-shadow: 0px 1px 2px rgba(60, 64, 67, 0.3), 0px 1px 3px 1px rgba(60, 64, 67, 0.15);\n",
              "      fill: #174EA6;\n",
              "    }\n",
              "\n",
              "    [theme=dark] .colab-df-convert {\n",
              "      background-color: #3B4455;\n",
              "      fill: #D2E3FC;\n",
              "    }\n",
              "\n",
              "    [theme=dark] .colab-df-convert:hover {\n",
              "      background-color: #434B5C;\n",
              "      box-shadow: 0px 1px 3px 1px rgba(0, 0, 0, 0.15);\n",
              "      filter: drop-shadow(0px 1px 2px rgba(0, 0, 0, 0.3));\n",
              "      fill: #FFFFFF;\n",
              "    }\n",
              "  </style>\n",
              "\n",
              "      <script>\n",
              "        const buttonEl =\n",
              "          document.querySelector('#df-d000ad87-8fc7-4dcd-9a8c-3ec264cc67b7 button.colab-df-convert');\n",
              "        buttonEl.style.display =\n",
              "          google.colab.kernel.accessAllowed ? 'block' : 'none';\n",
              "\n",
              "        async function convertToInteractive(key) {\n",
              "          const element = document.querySelector('#df-d000ad87-8fc7-4dcd-9a8c-3ec264cc67b7');\n",
              "          const dataTable =\n",
              "            await google.colab.kernel.invokeFunction('convertToInteractive',\n",
              "                                                     [key], {});\n",
              "          if (!dataTable) return;\n",
              "\n",
              "          const docLinkHtml = 'Like what you see? Visit the ' +\n",
              "            '<a target=\"_blank\" href=https://colab.research.google.com/notebooks/data_table.ipynb>data table notebook</a>'\n",
              "            + ' to learn more about interactive tables.';\n",
              "          element.innerHTML = '';\n",
              "          dataTable['output_type'] = 'display_data';\n",
              "          await google.colab.output.renderOutput(dataTable, element);\n",
              "          const docLink = document.createElement('div');\n",
              "          docLink.innerHTML = docLinkHtml;\n",
              "          element.appendChild(docLink);\n",
              "        }\n",
              "      </script>\n",
              "    </div>\n",
              "  </div>\n",
              "  "
            ]
          },
          "metadata": {},
          "execution_count": 49
        }
      ],
      "source": [
        "processed_melb_df = pd.DataFrame(data=X_pca, columns=new_columns)\n",
        "processed_melb_df.head()\n"
      ],
      "id": "021a3dd1"
    },
    {
      "cell_type": "code",
      "execution_count": null,
      "metadata": {
        "id": "ec49b707"
      },
      "outputs": [],
      "source": [
        ""
      ],
      "id": "ec49b707"
    },
    {
      "cell_type": "markdown",
      "source": [
        ""
      ],
      "metadata": {
        "id": "8jVibTa0NdH8"
      },
      "id": "8jVibTa0NdH8"
    }
  ],
  "metadata": {
    "colab": {
      "name": "AyC_Parte_2.ipynb",
      "provenance": []
    },
    "kernelspec": {
      "display_name": "Python 3 (ipykernel)",
      "language": "python",
      "name": "python3"
    },
    "language_info": {
      "codemirror_mode": {
        "name": "ipython",
        "version": 3
      },
      "file_extension": ".py",
      "mimetype": "text/x-python",
      "name": "python",
      "nbconvert_exporter": "python",
      "pygments_lexer": "ipython3",
      "version": "3.9.13"
    }
  },
  "nbformat": 4,
  "nbformat_minor": 5
}