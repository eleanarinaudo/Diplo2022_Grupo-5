{
 "cells": [
  {
   "cell_type": "markdown",
   "metadata": {},
   "source": [
    "# Laboratorio 2: Armado de un esquema de aprendizaje automático\n",
    "\n",
    "En el laboratorio final se espera que puedan poner en práctica los conocimientos adquiridos en el curso, trabajando con un conjunto de datos de clasificación.\n",
    "\n",
    "El objetivo es que se introduzcan en el desarrollo de un esquema para hacer tareas de aprendizaje automático: selección de un modelo, ajuste de hiperparámetros y evaluación.\n",
    "\n",
    "El conjunto de datos a utilizar está en `./data/loan_data.csv`. Si abren el archivo verán que al principio (las líneas que empiezan con `#`) describen el conjunto de datos y sus atributos (incluyendo el atributo de etiqueta o clase).\n",
    "\n",
    "Se espera que hagan uso de las herramientas vistas en el curso. Se espera que hagan uso especialmente de las herramientas brindadas por `scikit-learn`."
   ]
  },
  {
   "cell_type": "code",
   "execution_count": 1,
   "metadata": {},
   "outputs": [],
   "source": [
    "import pandas as pd\n",
    "import random\n",
    "\n",
    "import numpy as np\n",
    "from numpy.random import (\n",
    "    default_rng,\n",
    "    uniform\n",
    ")\n",
    "from sklearn.linear_model import SGDClassifier\n",
    "from sklearn.metrics import (\n",
    "    accuracy_score,\n",
    "    precision_score,\n",
    "    recall_score,\n",
    "    f1_score,\n",
    "    confusion_matrix\n",
    ")\n",
    "from sklearn.model_selection import (\n",
    "    train_test_split,\n",
    "    ParameterSampler,\n",
    "    RandomizedSearchCV\n",
    ")\n",
    "from sklearn.utils.fixes import loguniform\n",
    "import matplotlib.pyplot as plt\n",
    "import seaborn as sns\n",
    "from graphviz import Source"
   ]
  },
  {
   "cell_type": "markdown",
   "metadata": {},
   "source": [
    "## Carga de datos y división en entrenamiento y evaluación\n",
    "\n",
    "La celda siguiente se encarga de la carga de datos (haciendo uso de pandas). Estos serán los que se trabajarán en el resto del laboratorio."
   ]
  },
  {
   "cell_type": "code",
   "execution_count": 2,
   "metadata": {},
   "outputs": [],
   "source": [
    "dataset = pd.read_csv(\"./data/loan_data.csv\", comment=\"#\")\n",
    "\n",
    "# División entre instancias y etiquetas\n",
    "X, y = dataset.iloc[:, 1:], dataset.TARGET\n",
    "\n",
    "# división entre entrenamiento y evaluación\n",
    "X_train, X_test, y_train, y_test = train_test_split(X, y, test_size=0.2, random_state=0)"
   ]
  },
  {
   "cell_type": "code",
   "execution_count": 3,
   "metadata": {},
   "outputs": [
    {
     "data": {
      "text/plain": [
       "724     0\n",
       "652     0\n",
       "825     0\n",
       "1636    1\n",
       "18      0\n",
       "       ..\n",
       "485     0\n",
       "1702    1\n",
       "511     0\n",
       "1406    0\n",
       "1670    1\n",
       "Name: TARGET, Length: 371, dtype: int64"
      ]
     },
     "execution_count": 3,
     "metadata": {},
     "output_type": "execute_result"
    }
   ],
   "source": [
    "y_test"
   ]
  },
  {
   "cell_type": "code",
   "execution_count": 4,
   "metadata": {},
   "outputs": [
    {
     "data": {
      "text/html": [
       "<div>\n",
       "<style scoped>\n",
       "    .dataframe tbody tr th:only-of-type {\n",
       "        vertical-align: middle;\n",
       "    }\n",
       "\n",
       "    .dataframe tbody tr th {\n",
       "        vertical-align: top;\n",
       "    }\n",
       "\n",
       "    .dataframe thead th {\n",
       "        text-align: right;\n",
       "    }\n",
       "</style>\n",
       "<table border=\"1\" class=\"dataframe\">\n",
       "  <thead>\n",
       "    <tr style=\"text-align: right;\">\n",
       "      <th></th>\n",
       "      <th>LOAN</th>\n",
       "      <th>MORTDUE</th>\n",
       "      <th>VALUE</th>\n",
       "      <th>YOJ</th>\n",
       "      <th>DEROG</th>\n",
       "      <th>DELINQ</th>\n",
       "      <th>CLAGE</th>\n",
       "      <th>NINQ</th>\n",
       "      <th>CLNO</th>\n",
       "      <th>DEBTINC</th>\n",
       "    </tr>\n",
       "  </thead>\n",
       "  <tbody>\n",
       "    <tr>\n",
       "      <th>724</th>\n",
       "      <td>4200</td>\n",
       "      <td>50216.0</td>\n",
       "      <td>58541.0</td>\n",
       "      <td>19.0</td>\n",
       "      <td>0.0</td>\n",
       "      <td>0.0</td>\n",
       "      <td>209.871302</td>\n",
       "      <td>0.0</td>\n",
       "      <td>19.0</td>\n",
       "      <td>20.208033</td>\n",
       "    </tr>\n",
       "    <tr>\n",
       "      <th>652</th>\n",
       "      <td>19300</td>\n",
       "      <td>50554.0</td>\n",
       "      <td>76140.0</td>\n",
       "      <td>9.0</td>\n",
       "      <td>2.0</td>\n",
       "      <td>0.0</td>\n",
       "      <td>78.276625</td>\n",
       "      <td>3.0</td>\n",
       "      <td>27.0</td>\n",
       "      <td>36.026904</td>\n",
       "    </tr>\n",
       "    <tr>\n",
       "      <th>825</th>\n",
       "      <td>13000</td>\n",
       "      <td>78766.0</td>\n",
       "      <td>106450.0</td>\n",
       "      <td>6.0</td>\n",
       "      <td>0.0</td>\n",
       "      <td>0.0</td>\n",
       "      <td>107.951312</td>\n",
       "      <td>0.0</td>\n",
       "      <td>26.0</td>\n",
       "      <td>24.870994</td>\n",
       "    </tr>\n",
       "    <tr>\n",
       "      <th>1636</th>\n",
       "      <td>11800</td>\n",
       "      <td>67678.0</td>\n",
       "      <td>108092.0</td>\n",
       "      <td>13.0</td>\n",
       "      <td>0.0</td>\n",
       "      <td>7.0</td>\n",
       "      <td>126.658232</td>\n",
       "      <td>0.0</td>\n",
       "      <td>36.0</td>\n",
       "      <td>37.162690</td>\n",
       "    </tr>\n",
       "    <tr>\n",
       "      <th>18</th>\n",
       "      <td>87500</td>\n",
       "      <td>55938.0</td>\n",
       "      <td>86794.0</td>\n",
       "      <td>15.0</td>\n",
       "      <td>0.0</td>\n",
       "      <td>0.0</td>\n",
       "      <td>223.881040</td>\n",
       "      <td>0.0</td>\n",
       "      <td>16.0</td>\n",
       "      <td>36.753653</td>\n",
       "    </tr>\n",
       "    <tr>\n",
       "      <th>...</th>\n",
       "      <td>...</td>\n",
       "      <td>...</td>\n",
       "      <td>...</td>\n",
       "      <td>...</td>\n",
       "      <td>...</td>\n",
       "      <td>...</td>\n",
       "      <td>...</td>\n",
       "      <td>...</td>\n",
       "      <td>...</td>\n",
       "      <td>...</td>\n",
       "    </tr>\n",
       "    <tr>\n",
       "      <th>485</th>\n",
       "      <td>79100</td>\n",
       "      <td>23553.0</td>\n",
       "      <td>103807.0</td>\n",
       "      <td>25.0</td>\n",
       "      <td>0.0</td>\n",
       "      <td>1.0</td>\n",
       "      <td>142.193458</td>\n",
       "      <td>0.0</td>\n",
       "      <td>13.0</td>\n",
       "      <td>31.469937</td>\n",
       "    </tr>\n",
       "    <tr>\n",
       "      <th>1702</th>\n",
       "      <td>16300</td>\n",
       "      <td>79087.0</td>\n",
       "      <td>102921.0</td>\n",
       "      <td>23.0</td>\n",
       "      <td>0.0</td>\n",
       "      <td>0.0</td>\n",
       "      <td>256.253084</td>\n",
       "      <td>0.0</td>\n",
       "      <td>45.0</td>\n",
       "      <td>36.987086</td>\n",
       "    </tr>\n",
       "    <tr>\n",
       "      <th>511</th>\n",
       "      <td>26900</td>\n",
       "      <td>72848.0</td>\n",
       "      <td>101736.0</td>\n",
       "      <td>10.0</td>\n",
       "      <td>0.0</td>\n",
       "      <td>0.0</td>\n",
       "      <td>131.409634</td>\n",
       "      <td>0.0</td>\n",
       "      <td>21.0</td>\n",
       "      <td>36.369027</td>\n",
       "    </tr>\n",
       "    <tr>\n",
       "      <th>1406</th>\n",
       "      <td>13000</td>\n",
       "      <td>80587.0</td>\n",
       "      <td>110064.0</td>\n",
       "      <td>6.0</td>\n",
       "      <td>0.0</td>\n",
       "      <td>0.0</td>\n",
       "      <td>85.009197</td>\n",
       "      <td>1.0</td>\n",
       "      <td>13.0</td>\n",
       "      <td>33.990040</td>\n",
       "    </tr>\n",
       "    <tr>\n",
       "      <th>1670</th>\n",
       "      <td>14100</td>\n",
       "      <td>52302.0</td>\n",
       "      <td>63589.0</td>\n",
       "      <td>6.0</td>\n",
       "      <td>0.0</td>\n",
       "      <td>0.0</td>\n",
       "      <td>130.342467</td>\n",
       "      <td>4.0</td>\n",
       "      <td>8.0</td>\n",
       "      <td>34.792832</td>\n",
       "    </tr>\n",
       "  </tbody>\n",
       "</table>\n",
       "<p>371 rows × 10 columns</p>\n",
       "</div>"
      ],
      "text/plain": [
       "       LOAN  MORTDUE     VALUE   YOJ  DEROG  DELINQ       CLAGE  NINQ  CLNO  \\\n",
       "724    4200  50216.0   58541.0  19.0    0.0     0.0  209.871302   0.0  19.0   \n",
       "652   19300  50554.0   76140.0   9.0    2.0     0.0   78.276625   3.0  27.0   \n",
       "825   13000  78766.0  106450.0   6.0    0.0     0.0  107.951312   0.0  26.0   \n",
       "1636  11800  67678.0  108092.0  13.0    0.0     7.0  126.658232   0.0  36.0   \n",
       "18    87500  55938.0   86794.0  15.0    0.0     0.0  223.881040   0.0  16.0   \n",
       "...     ...      ...       ...   ...    ...     ...         ...   ...   ...   \n",
       "485   79100  23553.0  103807.0  25.0    0.0     1.0  142.193458   0.0  13.0   \n",
       "1702  16300  79087.0  102921.0  23.0    0.0     0.0  256.253084   0.0  45.0   \n",
       "511   26900  72848.0  101736.0  10.0    0.0     0.0  131.409634   0.0  21.0   \n",
       "1406  13000  80587.0  110064.0   6.0    0.0     0.0   85.009197   1.0  13.0   \n",
       "1670  14100  52302.0   63589.0   6.0    0.0     0.0  130.342467   4.0   8.0   \n",
       "\n",
       "        DEBTINC  \n",
       "724   20.208033  \n",
       "652   36.026904  \n",
       "825   24.870994  \n",
       "1636  37.162690  \n",
       "18    36.753653  \n",
       "...         ...  \n",
       "485   31.469937  \n",
       "1702  36.987086  \n",
       "511   36.369027  \n",
       "1406  33.990040  \n",
       "1670  34.792832  \n",
       "\n",
       "[371 rows x 10 columns]"
      ]
     },
     "execution_count": 4,
     "metadata": {},
     "output_type": "execute_result"
    }
   ],
   "source": [
    "X_test"
   ]
  },
  {
   "cell_type": "code",
   "execution_count": 5,
   "metadata": {},
   "outputs": [
    {
     "data": {
      "text/plain": [
       "1240    0\n",
       "1183    0\n",
       "692     0\n",
       "871     0\n",
       "1353    0\n",
       "       ..\n",
       "835     0\n",
       "1216    0\n",
       "1653    1\n",
       "559     0\n",
       "684     0\n",
       "Name: TARGET, Length: 1483, dtype: int64"
      ]
     },
     "execution_count": 5,
     "metadata": {},
     "output_type": "execute_result"
    }
   ],
   "source": [
    "y_train"
   ]
  },
  {
   "cell_type": "code",
   "execution_count": 6,
   "metadata": {},
   "outputs": [
    {
     "data": {
      "text/plain": [
       "0    1232\n",
       "1     251\n",
       "Name: TARGET, dtype: int64"
      ]
     },
     "execution_count": 6,
     "metadata": {},
     "output_type": "execute_result"
    }
   ],
   "source": [
    "y_train.value_counts()"
   ]
  },
  {
   "cell_type": "code",
   "execution_count": 7,
   "metadata": {},
   "outputs": [
    {
     "data": {
      "text/plain": [
       "724     0\n",
       "652     0\n",
       "825     0\n",
       "1636    1\n",
       "18      0\n",
       "       ..\n",
       "485     0\n",
       "1702    1\n",
       "511     0\n",
       "1406    0\n",
       "1670    1\n",
       "Name: TARGET, Length: 371, dtype: int64"
      ]
     },
     "execution_count": 7,
     "metadata": {},
     "output_type": "execute_result"
    }
   ],
   "source": [
    "y_test"
   ]
  },
  {
   "cell_type": "code",
   "execution_count": 8,
   "metadata": {},
   "outputs": [
    {
     "data": {
      "text/plain": [
       "0    313\n",
       "1     58\n",
       "Name: TARGET, dtype: int64"
      ]
     },
     "execution_count": 8,
     "metadata": {},
     "output_type": "execute_result"
    }
   ],
   "source": [
    "y_test.value_counts()"
   ]
  },
  {
   "cell_type": "code",
   "execution_count": null,
   "metadata": {},
   "outputs": [],
   "source": []
  },
  {
   "cell_type": "markdown",
   "metadata": {},
   "source": [
    "\n",
    "Documentación:\n",
    "\n",
    "- https://scikit-learn.org/stable/modules/generated/sklearn.model_selection.train_test_split.html"
   ]
  },
  {
   "cell_type": "markdown",
   "metadata": {},
   "source": [
    "---"
   ]
  },
  {
   "cell_type": "markdown",
   "metadata": {},
   "source": [
    "## Ejercicio 1: Descripción de los Datos y la Tarea\n",
    "\n",
    "Responder las siguientes preguntas:\n",
    "\n",
    "1. ¿De qué se trata el conjunto de datos?\n",
    "2. ¿Cuál es la variable objetivo que hay que predecir? ¿Qué significado tiene?\n",
    "3. ¿Qué información (atributos) hay disponible para hacer la predicción?\n",
    "4. ¿Qué atributos imagina ud. que son los más determinantes para la predicción?\n",
    "\n",
    "**No hace falta escribir código para responder estas preguntas.**"
   ]
  },
  {
   "cell_type": "markdown",
   "metadata": {},
   "source": [
    "#### __RESPUESTAS__\n",
    "\n",
    "__¿De qué se trata el conjunto de datos?__  \n",
    "Es un conjunto de datos parcial que contiene datos de cada formulario de solicitud que rellenan los solicitantes de prestamos hipotecarios realizado por la empresa Dream Housing Finance, con el objetivo de determinar, mediante la automatizacion de un proceso, la elegibilidad de cada clientes solicitante del prestamo.\n",
    "\n",
    "__¿Cuál es la variable objetivo que hay que predecir? ¿Qué significado tiene?__  \n",
    "La variable objetivo a predecir es la elegibilidad del cliente para un prestamos hipotecario. Esto implica el uso de informacion recopilada en la encuesta para determinar la idoneidad y confiabilidad de los solicitantes de los prestamos hipotecarios.\n",
    "\n",
    "__¿Qué información (atributos) hay disponible para hacer la predicción?__  \n",
    "Para realizar la prediccion disponemos de la informacion aportada por los clientes en el formulario de solicitud de prestamo. Esta informacion esta de forma parcial, contenida en un data set de Kaggle. Contiene las siguientes columnas:\n",
    "'Loan_ID', 'Gender', 'Married', 'Dependents', 'Education','Self_Employed', 'ApplicantIncome', 'CoapplicantIncome', 'LoanAmount', 'Loan_Amount_Term', 'Credit_History', 'Property_Area', 'Loan_Status'.\n",
    "\n",
    "__¿Qué atributos imagina ud. que son los más determinantes para la predicción?__  \n",
    "Para el analisis de la elegibilidad del cliente para un prestamo hipotecario los atributos mas determinantes son:\n",
    "'Credit_History','LoanAmount','Self_Employed','ApplicantIncome'."
   ]
  },
  {
   "cell_type": "markdown",
   "metadata": {},
   "source": [
    "---"
   ]
  },
  {
   "cell_type": "markdown",
   "metadata": {},
   "source": [
    "## Ejercicio 2: Predicción con Modelos Lineales\n",
    "\n",
    "En este ejercicio se entrenarán modelos lineales de clasificación para predecir la variable objetivo.\n",
    "\n",
    "Para ello, deberán utilizar la clase SGDClassifier de scikit-learn.\n",
    "\n",
    "Documentación:\n",
    "- https://scikit-learn.org/stable/modules/sgd.html\n",
    "- https://scikit-learn.org/stable/modules/generated/sklearn.linear_model.SGDClassifier.html\n"
   ]
  },
  {
   "cell_type": "markdown",
   "metadata": {},
   "source": [
    "### Ejercicio 2.1: SGDClassifier con hiperparámetros por defecto\n",
    "\n",
    "Entrenar y evaluar el clasificador SGDClassifier usando los valores por omisión (por defecto?) de scikit-learn para todos los parámetros. Únicamente **fijar la semilla aleatoria** para hacer repetible el experimento.\n",
    "\n",
    "Evaluar sobre el conjunto de **entrenamiento** y sobre el conjunto de **evaluación**, reportando:\n",
    "- Accuracy\n",
    "- Precision\n",
    "- Recall\n",
    "- F1\n",
    "- matriz de confusión"
   ]
  },
  {
   "cell_type": "code",
   "execution_count": null,
   "metadata": {},
   "outputs": [],
   "source": [
    "# X_train, X_test, y_train, y_test"
   ]
  },
  {
   "cell_type": "code",
   "execution_count": null,
   "metadata": {},
   "outputs": [],
   "source": []
  },
  {
   "cell_type": "markdown",
   "metadata": {},
   "source": [
    "## Curación de datos"
   ]
  },
  {
   "cell_type": "code",
   "execution_count": null,
   "metadata": {},
   "outputs": [],
   "source": [
    "columns_list = dataset.columns"
   ]
  },
  {
   "cell_type": "code",
   "execution_count": null,
   "metadata": {},
   "outputs": [],
   "source": [
    "def histplot_graficos(data_frame, columns_list):\n",
    "    n=0\n",
    "    fig, axes = plt.subplots(nrows=len(columns_list), figsize=(20, 60))\n",
    "    for i in columns_list:\n",
    "        print(i)\n",
    "        sns.histplot(data_frame[i], ax=axes[n], color='gray')\n",
    "        #sns.histplot(data = data_frame,  x = i, ax=axes[n],hue='Class') -->con hue\n",
    "        n+=1"
   ]
  },
  {
   "cell_type": "code",
   "execution_count": null,
   "metadata": {},
   "outputs": [],
   "source": [
    "dataset"
   ]
  },
  {
   "cell_type": "code",
   "execution_count": null,
   "metadata": {},
   "outputs": [],
   "source": [
    "dataset.loc[dataset.TARGET == 0]"
   ]
  },
  {
   "cell_type": "code",
   "execution_count": null,
   "metadata": {},
   "outputs": [],
   "source": [
    "dataset.loc[dataset.TARGET == 0][\"DELINQ\"].hist()"
   ]
  },
  {
   "cell_type": "code",
   "execution_count": null,
   "metadata": {},
   "outputs": [],
   "source": [
    "dataset.loc[dataset.TARGET == 1][\"DELINQ\"].hist()"
   ]
  },
  {
   "cell_type": "code",
   "execution_count": null,
   "metadata": {},
   "outputs": [],
   "source": []
  },
  {
   "cell_type": "code",
   "execution_count": null,
   "metadata": {},
   "outputs": [],
   "source": []
  },
  {
   "cell_type": "code",
   "execution_count": null,
   "metadata": {},
   "outputs": [],
   "source": []
  },
  {
   "cell_type": "code",
   "execution_count": null,
   "metadata": {},
   "outputs": [],
   "source": [
    "histplot_graficos(dataset, columns_list)"
   ]
  },
  {
   "cell_type": "code",
   "execution_count": null,
   "metadata": {},
   "outputs": [],
   "source": []
  },
  {
   "cell_type": "code",
   "execution_count": null,
   "metadata": {},
   "outputs": [],
   "source": []
  },
  {
   "cell_type": "code",
   "execution_count": null,
   "metadata": {},
   "outputs": [],
   "source": []
  },
  {
   "cell_type": "markdown",
   "metadata": {},
   "source": [
    "#### Valor de Semilla aleatoria"
   ]
  },
  {
   "cell_type": "code",
   "execution_count": null,
   "metadata": {},
   "outputs": [],
   "source": [
    "rng = default_rng()\n",
    "rints = rng.integers(low=0, high=100, size=1)\n",
    "print(f'⦁ rints = {rints}')\n",
    "rint = rints[0]\n",
    "print(f'⦁ rint = {rint}') ### Ejemplo tomado: 46 | 24"
   ]
  },
  {
   "cell_type": "code",
   "execution_count": null,
   "metadata": {},
   "outputs": [],
   "source": [
    "rint = 5"
   ]
  },
  {
   "cell_type": "markdown",
   "metadata": {},
   "source": [
    "### Linear SVM"
   ]
  },
  {
   "cell_type": "code",
   "execution_count": null,
   "metadata": {},
   "outputs": [],
   "source": [
    "clf = SGDClassifier(loss=\"hinge\", penalty=\"l2\", max_iter=10000, random_state=rint)\n",
    "clf.fit(X_train, y_train)           # Entrenamiento\n",
    "y_train_pred = clf.predict(X_train)  # Predicción → Evaluación sobre set de entrenamiento\n",
    "y_test_pred = clf.predict(X_test)   # Predicción → Evaluación sobre set de test"
   ]
  },
  {
   "cell_type": "markdown",
   "metadata": {},
   "source": [
    "#### Evaluación sobre conjunto de entrenamiento"
   ]
  },
  {
   "cell_type": "code",
   "execution_count": null,
   "metadata": {},
   "outputs": [],
   "source": [
    "np.set_printoptions(threshold=np.inf)"
   ]
  },
  {
   "cell_type": "code",
   "execution_count": null,
   "metadata": {},
   "outputs": [],
   "source": [
    "print(f'⦁ y_train:\\n\\n{np.array(y_train)}\\n')\n",
    "print('---'*25)\n",
    "print(f'\\n⦁ y_train_pred:\\n\\n{y_train_pred}\\n')"
   ]
  },
  {
   "cell_type": "code",
   "execution_count": null,
   "metadata": {},
   "outputs": [],
   "source": []
  },
  {
   "cell_type": "code",
   "execution_count": null,
   "metadata": {},
   "outputs": [],
   "source": [
    "df = pd.DataFrame(data=y_pred, columns=['y_pred'])"
   ]
  },
  {
   "cell_type": "code",
   "execution_count": null,
   "metadata": {},
   "outputs": [],
   "source": [
    "df['y_test'] = np.array(y_test)"
   ]
  },
  {
   "cell_type": "code",
   "execution_count": null,
   "metadata": {},
   "outputs": [],
   "source": [
    "df = df[['y_test', 'y_pred']]"
   ]
  },
  {
   "cell_type": "code",
   "execution_count": null,
   "metadata": {},
   "outputs": [],
   "source": [
    "df.shape"
   ]
  },
  {
   "cell_type": "code",
   "execution_count": null,
   "metadata": {},
   "outputs": [],
   "source": [
    "df.iloc[:20].style.background_gradient(cmap=\"Blues\")"
   ]
  },
  {
   "cell_type": "code",
   "execution_count": null,
   "metadata": {},
   "outputs": [],
   "source": []
  },
  {
   "cell_type": "markdown",
   "metadata": {},
   "source": [
    "## Métricas"
   ]
  },
  {
   "cell_type": "code",
   "execution_count": null,
   "metadata": {},
   "outputs": [],
   "source": [
    "accuracy_score(y_test, y_pred)"
   ]
  },
  {
   "cell_type": "code",
   "execution_count": null,
   "metadata": {},
   "outputs": [],
   "source": [
    "precision_score(y_test, y_pred, zero_division=1)"
   ]
  },
  {
   "cell_type": "code",
   "execution_count": null,
   "metadata": {},
   "outputs": [],
   "source": [
    "recall_score(y_test, y_pred)"
   ]
  },
  {
   "cell_type": "code",
   "execution_count": null,
   "metadata": {},
   "outputs": [],
   "source": [
    "f1_score(y_test, y_pred)"
   ]
  },
  {
   "cell_type": "code",
   "execution_count": null,
   "metadata": {},
   "outputs": [],
   "source": [
    "tn, fp, fn, tp = confusion_matrix(y_test, y_pred).ravel() #, normalize='all')\n",
    "(tn, fp, fn, tp)"
   ]
  },
  {
   "cell_type": "code",
   "execution_count": null,
   "metadata": {},
   "outputs": [],
   "source": [
    "confusion_matrix(y_test, y_pred)"
   ]
  },
  {
   "cell_type": "code",
   "execution_count": null,
   "metadata": {},
   "outputs": [],
   "source": []
  },
  {
   "cell_type": "code",
   "execution_count": null,
   "metadata": {},
   "outputs": [],
   "source": [
    "print(f'⦁ y_test:\\n\\n{np.array(y_test)}\\n')\n",
    "print('---'*25)\n",
    "print(f'\\n⦁ y_pred:\\n\\n{y_pred}')"
   ]
  },
  {
   "cell_type": "code",
   "execution_count": null,
   "metadata": {},
   "outputs": [],
   "source": [
    "df = pd.DataFrame(data=y_pred, columns=['y_pred'])"
   ]
  },
  {
   "cell_type": "code",
   "execution_count": null,
   "metadata": {},
   "outputs": [],
   "source": [
    "df['y_test'] = np.array(y_test)"
   ]
  },
  {
   "cell_type": "code",
   "execution_count": null,
   "metadata": {},
   "outputs": [],
   "source": [
    "df = df[['y_test', 'y_pred']]"
   ]
  },
  {
   "cell_type": "code",
   "execution_count": null,
   "metadata": {},
   "outputs": [],
   "source": [
    "df.shape"
   ]
  },
  {
   "cell_type": "code",
   "execution_count": null,
   "metadata": {},
   "outputs": [],
   "source": [
    "df.iloc[:20].style.background_gradient(cmap=\"Blues\")"
   ]
  },
  {
   "cell_type": "code",
   "execution_count": null,
   "metadata": {},
   "outputs": [],
   "source": []
  },
  {
   "cell_type": "markdown",
   "metadata": {},
   "source": [
    "## Métricas"
   ]
  },
  {
   "cell_type": "code",
   "execution_count": null,
   "metadata": {},
   "outputs": [],
   "source": [
    "accuracy_score(y_test, y_pred)"
   ]
  },
  {
   "cell_type": "code",
   "execution_count": null,
   "metadata": {},
   "outputs": [],
   "source": [
    "precision_score(y_test, y_pred, zero_division=1)"
   ]
  },
  {
   "cell_type": "code",
   "execution_count": null,
   "metadata": {},
   "outputs": [],
   "source": [
    "recall_score(y_test, y_pred)"
   ]
  },
  {
   "cell_type": "code",
   "execution_count": null,
   "metadata": {},
   "outputs": [],
   "source": [
    "f1_score(y_test, y_pred)"
   ]
  },
  {
   "cell_type": "code",
   "execution_count": null,
   "metadata": {},
   "outputs": [],
   "source": [
    "tn, fp, fn, tp = confusion_matrix(y_test, y_pred).ravel() #, normalize='all')\n",
    "(tn, fp, fn, tp)"
   ]
  },
  {
   "cell_type": "code",
   "execution_count": null,
   "metadata": {},
   "outputs": [],
   "source": [
    "confusion_matrix(y_test, y_pred)"
   ]
  },
  {
   "cell_type": "code",
   "execution_count": null,
   "metadata": {},
   "outputs": [],
   "source": []
  },
  {
   "cell_type": "markdown",
   "metadata": {},
   "source": [
    "### Ejercicio 2.2: Ajuste de Hiperparámetros\n",
    "\n",
    "Seleccionar valores para los hiperparámetros principales del SGDClassifier. Como mínimo, probar diferentes funciones de:  \n",
    "- loss  \n",
    "- tasas de entrenamiento (learning_rate)  \n",
    "- tasas de regularización\n",
    "\n",
    "Para ello, usar **grid-search** y **5-fold cross-validation** sobre el conjunto de entrenamiento para explorar muchas combinaciones posibles de valores.\n",
    "\n",
    "Reportar **accuracy**, **promedio** y **varianza** para todas las configuraciones.\n",
    "\n",
    "Para la **mejor configuración** encontrada, evaluar sobre el conjunto de **entrenamiento** y sobre el conjunto de **evaluación**, reportando:\n",
    "- Accuracy\n",
    "- Precision\n",
    "- Recall\n",
    "- F1\n",
    "- matriz de confusión\n",
    "\n",
    "Documentación:\n",
    "- https://scikit-learn.org/stable/modules/grid_search.html\n",
    "- https://scikit-learn.org/stable/modules/generated/sklearn.model_selection.GridSearchCV.html"
   ]
  },
  {
   "cell_type": "code",
   "execution_count": null,
   "metadata": {},
   "outputs": [],
   "source": []
  },
  {
   "cell_type": "markdown",
   "metadata": {},
   "source": [
    "# Solución basada en notebook de prácticos _\"06 Selección de Modelos.ipynb\"_"
   ]
  },
  {
   "cell_type": "markdown",
   "metadata": {},
   "source": [
    "- loss = 'log'  \n",
    "- learning_rate = "
   ]
  },
  {
   "cell_type": "code",
   "execution_count": null,
   "metadata": {},
   "outputs": [],
   "source": [
    "param_dist = {\n",
    "    'loss': [\n",
    "        'hinge',        # SVM\n",
    "        'log',          # logistic regression\n",
    "         'perceptron'   \n",
    "    ],\n",
    "    'alpha': loguniform(1e-4, 1e2),  # de 0.0001 a 100.0\n",
    "    'learning_rate': [\n",
    "        'constant',\n",
    "        'optimal',\n",
    "        #'invscaling'\n",
    "    ],\n",
    "    'eta0': uniform(\n",
    "        low=0, high=100, size=30\n",
    "    ) # The initial learning rate for the ‘constant’, ‘invscaling’ or ‘adaptive’ schedules. Values must be in the range (0.0, inf).\n",
    "}"
   ]
  },
  {
   "cell_type": "markdown",
   "metadata": {},
   "source": [
    "Al parámetro alpha lo va a obtener desde muestras de una función de probabilidad tipo loguniform:"
   ]
  },
  {
   "cell_type": "markdown",
   "metadata": {},
   "source": [
    "Podemos muestrear mano con [ParameterSampler](https://scikit-learn.org/stable/modules/generated/sklearn.model_selection.ParameterSampler.html):"
   ]
  },
  {
   "cell_type": "code",
   "execution_count": null,
   "metadata": {},
   "outputs": [],
   "source": [
    "for params in ParameterSampler(param_dist, 30, random_state=rint):\n",
    "    print(params)\n",
    "    model = SGDClassifier(**params, random_state=rint)"
   ]
  },
  {
   "cell_type": "markdown",
   "metadata": {},
   "source": [
    "### Búsqueda Aleatoria + Validación Cruzada"
   ]
  },
  {
   "cell_type": "markdown",
   "metadata": {},
   "source": [
    "También podemos dejar que Sklearn se encargue de todo con [RandomizedSearchCV](https://scikit-learn.org/stable/modules/generated/sklearn.model_selection.RandomizedSearchCV.html):\n"
   ]
  },
  {
   "cell_type": "code",
   "execution_count": null,
   "metadata": {},
   "outputs": [],
   "source": [
    "model = SGDClassifier(random_state=rint)\n",
    "cv = RandomizedSearchCV(model, param_dist, n_iter=30, cv=5, random_state=rint)\n",
    "cv.fit(X, y);"
   ]
  },
  {
   "cell_type": "code",
   "execution_count": null,
   "metadata": {},
   "outputs": [],
   "source": [
    "results = cv.cv_results_"
   ]
  },
  {
   "cell_type": "code",
   "execution_count": null,
   "metadata": {},
   "outputs": [],
   "source": [
    "list(results.keys())"
   ]
  },
  {
   "cell_type": "code",
   "execution_count": null,
   "metadata": {},
   "outputs": [],
   "source": [
    "df = pd.DataFrame(results)\n",
    "df[[\n",
    "    'param_loss', 'param_alpha', \n",
    "    'param_learning_rate', 'param_eta0',\n",
    "    'mean_test_score', 'std_test_score', 'rank_test_score'\n",
    "]]"
   ]
  },
  {
   "cell_type": "code",
   "execution_count": null,
   "metadata": {},
   "outputs": [],
   "source": [
    "cv.best_estimator_"
   ]
  },
  {
   "cell_type": "code",
   "execution_count": null,
   "metadata": {},
   "outputs": [],
   "source": [
    "new_params = cv.best_params_\n",
    "cv.best_params_"
   ]
  },
  {
   "cell_type": "code",
   "execution_count": null,
   "metadata": {},
   "outputs": [],
   "source": [
    "clf = SGDClassifier(\n",
    "    loss=new_params['loss'],\n",
    "    alpha=new_params['alpha'],\n",
    "    learning_rate=new_params['learning_rate'],\n",
    "    eta0=new_params['eta0'],\n",
    "    penalty='l2', \n",
    "    max_iter=1000, \n",
    "    random_state=rint\n",
    ")\n",
    "clf.fit(X_train, y_train)\n",
    "y_pred = clf.predict(X_test)"
   ]
  },
  {
   "cell_type": "code",
   "execution_count": null,
   "metadata": {},
   "outputs": [],
   "source": [
    "print(f'⦁ y_test:\\n\\n{np.array(y_test)}\\n')\n",
    "print('---'*25)\n",
    "print(f'\\n⦁ y_pred:\\n\\n{y_pred}')"
   ]
  },
  {
   "cell_type": "code",
   "execution_count": null,
   "metadata": {},
   "outputs": [],
   "source": [
    "df = pd.DataFrame(data=y_pred, columns=['y_pred'])"
   ]
  },
  {
   "cell_type": "code",
   "execution_count": null,
   "metadata": {},
   "outputs": [],
   "source": [
    "df['y_test'] = np.array(y_test)"
   ]
  },
  {
   "cell_type": "code",
   "execution_count": null,
   "metadata": {},
   "outputs": [],
   "source": [
    "df = df[['y_test', 'y_pred']]"
   ]
  },
  {
   "cell_type": "code",
   "execution_count": null,
   "metadata": {},
   "outputs": [],
   "source": [
    "df.iloc[:20].style.background_gradient(cmap=\"Blues\")"
   ]
  },
  {
   "cell_type": "code",
   "execution_count": null,
   "metadata": {},
   "outputs": [],
   "source": []
  },
  {
   "cell_type": "markdown",
   "metadata": {},
   "source": [
    "## Métricas"
   ]
  },
  {
   "cell_type": "code",
   "execution_count": null,
   "metadata": {},
   "outputs": [],
   "source": [
    "accuracy_score(y_test, y_pred)"
   ]
  },
  {
   "cell_type": "code",
   "execution_count": null,
   "metadata": {},
   "outputs": [],
   "source": [
    "precision_score(y_test, y_pred, zero_division=1)"
   ]
  },
  {
   "cell_type": "code",
   "execution_count": null,
   "metadata": {},
   "outputs": [],
   "source": [
    "recall_score(y_test, y_pred)"
   ]
  },
  {
   "cell_type": "code",
   "execution_count": null,
   "metadata": {},
   "outputs": [],
   "source": [
    "f1_score(y_test, y_pred)"
   ]
  },
  {
   "cell_type": "code",
   "execution_count": null,
   "metadata": {},
   "outputs": [],
   "source": [
    "confusion_matrix(y_test, y_pred)#, normalize='all')"
   ]
  },
  {
   "cell_type": "code",
   "execution_count": null,
   "metadata": {},
   "outputs": [],
   "source": []
  },
  {
   "cell_type": "markdown",
   "metadata": {},
   "source": [
    "---"
   ]
  },
  {
   "cell_type": "markdown",
   "metadata": {},
   "source": [
    "# Búsqueda propia de la solución"
   ]
  },
  {
   "cell_type": "markdown",
   "metadata": {},
   "source": [
    "### Regresión logística"
   ]
  },
  {
   "cell_type": "markdown",
   "metadata": {},
   "source": [
    "- loss = 'log'  \n",
    "- learning_rate = "
   ]
  },
  {
   "cell_type": "code",
   "execution_count": null,
   "metadata": {},
   "outputs": [],
   "source": [
    "clf = SGDClassifier(loss='log', penalty='l2', max_iter=1000, random_state=rint)\n",
    "clf.fit(X_train, y_train)\n",
    "y_pred = clf.predict(X_test)"
   ]
  },
  {
   "cell_type": "code",
   "execution_count": null,
   "metadata": {},
   "outputs": [],
   "source": [
    "print(f'⦁ y_test:\\n\\n{np.array(y_test)}\\n')\n",
    "print('---'*25)\n",
    "print(f'\\n⦁ y_pred:\\n\\n{y_pred}')"
   ]
  },
  {
   "cell_type": "code",
   "execution_count": null,
   "metadata": {},
   "outputs": [],
   "source": [
    "df = pd.DataFrame(data=y_pred, columns=['y_pred'])\n",
    "\n",
    "df['y_test'] = np.array(y_test)\n",
    "\n",
    "df = df[['y_test', 'y_pred']]\n",
    "\n",
    "df.iloc[:20].style.background_gradient(cmap=\"Blues\")"
   ]
  },
  {
   "cell_type": "code",
   "execution_count": null,
   "metadata": {},
   "outputs": [],
   "source": []
  },
  {
   "cell_type": "markdown",
   "metadata": {},
   "source": [
    "## Métricas"
   ]
  },
  {
   "cell_type": "code",
   "execution_count": null,
   "metadata": {},
   "outputs": [],
   "source": [
    "accuracy_score(y_test, y_pred)"
   ]
  },
  {
   "cell_type": "code",
   "execution_count": null,
   "metadata": {},
   "outputs": [],
   "source": [
    "precision_score(y_test, y_pred, zero_division=1)"
   ]
  },
  {
   "cell_type": "code",
   "execution_count": null,
   "metadata": {},
   "outputs": [],
   "source": [
    "recall_score(y_test, y_pred)"
   ]
  },
  {
   "cell_type": "code",
   "execution_count": null,
   "metadata": {},
   "outputs": [],
   "source": [
    "f1_score(y_test, y_pred)"
   ]
  },
  {
   "cell_type": "code",
   "execution_count": null,
   "metadata": {},
   "outputs": [],
   "source": [
    "confusion_matrix(y_test, y_pred)#, normalize='all')"
   ]
  },
  {
   "cell_type": "code",
   "execution_count": null,
   "metadata": {},
   "outputs": [],
   "source": []
  },
  {
   "cell_type": "code",
   "execution_count": null,
   "metadata": {},
   "outputs": [],
   "source": []
  },
  {
   "cell_type": "code",
   "execution_count": null,
   "metadata": {},
   "outputs": [],
   "source": []
  },
  {
   "cell_type": "markdown",
   "metadata": {},
   "source": [
    "---"
   ]
  },
  {
   "cell_type": "markdown",
   "metadata": {},
   "source": [
    "## Ejercicio 3: Árboles de Decisión\n",
    "\n",
    "En este ejercicio se entrenarán árboles de decisión para predecir la variable objetivo.\n",
    "\n",
    "Para ello, deberán utilizar la clase DecisionTreeClassifier de scikit-learn.\n",
    "\n",
    "Documentación:\n",
    "- https://scikit-learn.org/stable/modules/tree.html\n",
    "  - https://scikit-learn.org/stable/modules/tree.html#tips-on-practical-use\n",
    "- https://scikit-learn.org/stable/modules/generated/sklearn.tree.DecisionTreeClassifier.html\n",
    "- https://scikit-learn.org/stable/auto_examples/tree/plot_unveil_tree_structure.html"
   ]
  },
  {
   "cell_type": "code",
   "execution_count": null,
   "metadata": {},
   "outputs": [],
   "source": [
    "from sklearn import tree\n",
    "X, y = X_train, y_train\n",
    "clf = tree.DecisionTreeClassifier()\n",
    "clf = clf.fit(X, y)"
   ]
  },
  {
   "cell_type": "code",
   "execution_count": null,
   "metadata": {},
   "outputs": [],
   "source": [
    "#Ahora predecimos y evaluamos:\n",
    "y_train_pred = clf.predict(X)\n",
    "y_test_pred = clf.predict(X_test)"
   ]
  },
  {
   "cell_type": "code",
   "execution_count": null,
   "metadata": {},
   "outputs": [],
   "source": [
    "from sklearn.metrics import accuracy_score\n",
    "\n",
    "train_acc = accuracy_score(y_train, y_train_pred)\n",
    "test_acc = accuracy_score(y_test, y_test_pred)\n",
    "print(f'Train accuracy: {train_acc:0.2}')\n",
    "print(f'Test accuracy: {test_acc:0.2}')"
   ]
  },
  {
   "cell_type": "code",
   "execution_count": null,
   "metadata": {},
   "outputs": [],
   "source": [
    "#Dibujamos la frontera de decisión:\n",
    "\n",
    "from utils import plot_decision_boundary\n",
    "\n",
    "plot_decision_boundary(lambda x: clf.predict(x), X_train, y_train)"
   ]
  },
  {
   "cell_type": "code",
   "execution_count": null,
   "metadata": {},
   "outputs": [],
   "source": [
    "tree.plot_tree(clf)"
   ]
  },
  {
   "cell_type": "code",
   "execution_count": null,
   "metadata": {},
   "outputs": [],
   "source": [
    "dot_data = tree.export_graphviz(clf, out_file=None, \n",
    "                      feature_names=X.columns,    \n",
    "                      filled=True, rounded=True,  \n",
    "                      special_characters=True)  \n",
    "graph = graphviz.Source(dot_data)  \n",
    "graph"
   ]
  },
  {
   "cell_type": "markdown",
   "metadata": {},
   "source": [
    "### Ejercicio 3.1: DecisionTreeClassifier con hiperparámetros por defecto\n",
    "\n",
    "Entrenar y evaluar el clasificador DecisionTreeClassifier usando los valores por omisión de scikit-learn para todos los parámetros. Únicamente **fijar la semilla aleatoria** para hacer repetible el experimento.\n",
    "\n",
    "Evaluar sobre el conjunto de **entrenamiento** y sobre el conjunto de **evaluación**, reportando:\n",
    "- Accuracy\n",
    "- Precision\n",
    "- Recall\n",
    "- F1\n",
    "- matriz de confusión\n"
   ]
  },
  {
   "cell_type": "markdown",
   "metadata": {},
   "source": [
    "Definición del modelo utilizando la clase DecisionTreeClassifier, utilizando los valores de parámetros por defecto. Luego realizamos el entrenamiento del modelo."
   ]
  },
  {
   "cell_type": "code",
   "execution_count": 9,
   "metadata": {},
   "outputs": [
    {
     "data": {
      "text/plain": [
       "DecisionTreeClassifier(random_state=0)"
      ]
     },
     "execution_count": 9,
     "metadata": {},
     "output_type": "execute_result"
    }
   ],
   "source": [
    "from sklearn.tree import DecisionTreeClassifier\n",
    "clf = DecisionTreeClassifier(max_depth=None, random_state=0)\n",
    "clf.fit(X_train, y_train)"
   ]
  },
  {
   "cell_type": "markdown",
   "metadata": {},
   "source": [
    "Realizamos la predicción tanto para el conjunto de datos de entrenamiento, como para el de validación."
   ]
  },
  {
   "cell_type": "code",
   "execution_count": 10,
   "metadata": {},
   "outputs": [],
   "source": [
    "y_train_pred = clf.predict(X_train)\n",
    "y_test_pred = clf.predict(X_test)"
   ]
  },
  {
   "cell_type": "code",
   "execution_count": 11,
   "metadata": {},
   "outputs": [
    {
     "name": "stdout",
     "output_type": "stream",
     "text": [
      "Train accuracy: 1.0\n",
      "Test accuracy: 0.88\n"
     ]
    }
   ],
   "source": [
    "from sklearn.metrics import accuracy_score\n",
    "\n",
    "train_acc = accuracy_score(y_train, y_train_pred)\n",
    "test_acc = accuracy_score(y_test, y_test_pred)\n",
    "print(f'Train accuracy: {train_acc:0.2}')\n",
    "print(f'Test accuracy: {test_acc:0.2}')"
   ]
  },
  {
   "cell_type": "code",
   "execution_count": 12,
   "metadata": {},
   "outputs": [
    {
     "ename": "ImportError",
     "evalue": "cannot import name 'plot_decision_boundary' from 'utils' (C:\\Users\\Diego\\anaconda3\\lib\\site-packages\\utils\\__init__.py)",
     "output_type": "error",
     "traceback": [
      "\u001b[1;31m---------------------------------------------------------------------------\u001b[0m",
      "\u001b[1;31mImportError\u001b[0m                               Traceback (most recent call last)",
      "Input \u001b[1;32mIn [12]\u001b[0m, in \u001b[0;36m<cell line: 1>\u001b[1;34m()\u001b[0m\n\u001b[1;32m----> 1\u001b[0m \u001b[38;5;28;01mfrom\u001b[39;00m \u001b[38;5;21;01mutils\u001b[39;00m \u001b[38;5;28;01mimport\u001b[39;00m plot_decision_boundary\n\u001b[0;32m      3\u001b[0m plot_decision_boundary(\u001b[38;5;28;01mlambda\u001b[39;00m x: clf\u001b[38;5;241m.\u001b[39mpredict(x), X_train, y_train)\n",
      "\u001b[1;31mImportError\u001b[0m: cannot import name 'plot_decision_boundary' from 'utils' (C:\\Users\\Diego\\anaconda3\\lib\\site-packages\\utils\\__init__.py)"
     ]
    }
   ],
   "source": [
    "from utils import plot_decision_boundary\n",
    "\n",
    "plot_decision_boundary(lambda x: clf.predict(x), X_train, y_train)"
   ]
  },
  {
   "cell_type": "markdown",
   "metadata": {},
   "source": [
    "Inspeccionamos el arbol de desición"
   ]
  },
  {
   "cell_type": "code",
   "execution_count": 13,
   "metadata": {},
   "outputs": [
    {
     "data": {
      "image/png": "[encoded data removed]",
      "text/plain": [
       "<Figure size 432x288 with 1 Axes>"
      ]
     },
     "metadata": {
      "needs_background": "light"
     },
     "output_type": "display_data"
    }
   ],
   "source": [
    "from sklearn.tree import plot_tree\n",
    "\n",
    "plot_tree(clf);"
   ]
  },
  {
   "cell_type": "code",
   "execution_count": 14,
   "metadata": {},
   "outputs": [],
   "source": [
    "#Función que calcula la probabilidad\n",
    "def probs(y):\n",
    "    _, counts = np.unique(y, return_counts=True)\n",
    "    probs = counts / counts.sum()\n",
    "    return probs"
   ]
  },
  {
   "cell_type": "code",
   "execution_count": 15,
   "metadata": {},
   "outputs": [],
   "source": [
    "#Función que calcula la entropía\n",
    "def entropy(y):\n",
    "    p = probs(y)\n",
    "    return - np.sum(p * np.log2(p))"
   ]
  },
  {
   "cell_type": "markdown",
   "metadata": {},
   "source": [
    "Calculamos la entropía de nuestro conjunto de entrenamiento"
   ]
  },
  {
   "cell_type": "code",
   "execution_count": 16,
   "metadata": {},
   "outputs": [
    {
     "name": "stdout",
     "output_type": "stream",
     "text": [
      "Entropía: 0.66\n"
     ]
    }
   ],
   "source": [
    "print(f'Entropía: {entropy(y_train):0.2}')"
   ]
  },
  {
   "cell_type": "markdown",
   "metadata": {},
   "source": [
    "Observamos el reporte de clasificación sobre el conjunto de de entrenmiento y sobre el de validación."
   ]
  },
  {
   "cell_type": "code",
   "execution_count": 17,
   "metadata": {},
   "outputs": [
    {
     "name": "stdout",
     "output_type": "stream",
     "text": [
      "Reporte sobre el conjunto de entrenamiento\n",
      "              precision    recall  f1-score   support\n",
      "\n",
      "           0       1.00      1.00      1.00      1232\n",
      "           1       1.00      1.00      1.00       251\n",
      "\n",
      "    accuracy                           1.00      1483\n",
      "   macro avg       1.00      1.00      1.00      1483\n",
      "weighted avg       1.00      1.00      1.00      1483\n",
      "\n"
     ]
    }
   ],
   "source": [
    "from sklearn.metrics import classification_report\n",
    "print(\"Reporte sobre el conjunto de entrenamiento\")\n",
    "print(classification_report(y_train, y_train_pred))"
   ]
  },
  {
   "cell_type": "code",
   "execution_count": 18,
   "metadata": {},
   "outputs": [
    {
     "name": "stdout",
     "output_type": "stream",
     "text": [
      "Reporte sobre el conjunto de validación\n",
      "              precision    recall  f1-score   support\n",
      "\n",
      "           0       0.93      0.93      0.93       313\n",
      "           1       0.62      0.64      0.63        58\n",
      "\n",
      "    accuracy                           0.88       371\n",
      "   macro avg       0.77      0.78      0.78       371\n",
      "weighted avg       0.88      0.88      0.88       371\n",
      "\n"
     ]
    }
   ],
   "source": [
    "from sklearn.metrics import classification_report\n",
    "print(\"Reporte sobre el conjunto de validación\")\n",
    "print(classification_report(y_test, y_test_pred))"
   ]
  },
  {
   "cell_type": "markdown",
   "metadata": {},
   "source": [
    "Analizamos la matriz de confusion"
   ]
  },
  {
   "cell_type": "code",
   "execution_count": 40,
   "metadata": {},
   "outputs": [
    {
     "data": {
      "text/plain": [
       "array([[305,   8],\n",
       "       [ 28,  30]], dtype=int64)"
      ]
     },
     "execution_count": 40,
     "metadata": {},
     "output_type": "execute_result"
    }
   ],
   "source": [
    "from sklearn.metrics import confusion_matrix\n",
    "confusion_matrix(y_test, y_test_pred)"
   ]
  },
  {
   "cell_type": "code",
   "execution_count": 41,
   "metadata": {},
   "outputs": [
    {
     "name": "stdout",
     "output_type": "stream",
     "text": [
      "True Negative: 305\n",
      "False Positive: 8\n",
      "False Negative: 28\n",
      "True Positive: 30\n"
     ]
    }
   ],
   "source": [
    "tn, fp, fn, tp = confusion_matrix(y_test, y_test_pred, labels=[0, 1]).ravel()\n",
    "\n",
    "print(f'True Negative: {tn}')\n",
    "print(f'False Positive: {fp}')\n",
    "print(f'False Negative: {fn}')\n",
    "print(f'True Positive: {tp}')"
   ]
  },
  {
   "cell_type": "code",
   "execution_count": 20,
   "metadata": {},
   "outputs": [
    {
     "name": "stderr",
     "output_type": "stream",
     "text": [
      "C:\\Users\\Diego\\anaconda3\\lib\\site-packages\\sklearn\\utils\\deprecation.py:87: FutureWarning: Function plot_confusion_matrix is deprecated; Function `plot_confusion_matrix` is deprecated in 1.0 and will be removed in 1.2. Use one of the class methods: ConfusionMatrixDisplay.from_predictions or ConfusionMatrixDisplay.from_estimator.\n",
      "  warnings.warn(msg, category=FutureWarning)\n"
     ]
    },
    {
     "data": {
      "text/plain": [
       "<sklearn.metrics._plot.confusion_matrix.ConfusionMatrixDisplay at 0x2a5bc6712b0>"
      ]
     },
     "execution_count": 20,
     "metadata": {},
     "output_type": "execute_result"
    },
    {
     "data": {
      "image/png": "[encoded data removed]",
      "text/plain": [
       "<Figure size 432x288 with 2 Axes>"
      ]
     },
     "metadata": {
      "needs_background": "light"
     },
     "output_type": "display_data"
    }
   ],
   "source": [
    "from sklearn.metrics import plot_confusion_matrix\n",
    "\n",
    "plot_confusion_matrix(clf, X_test, y_test, cmap='cividis')  "
   ]
  },
  {
   "cell_type": "markdown",
   "metadata": {},
   "source": [
    "### Ejercicio 3.2: Ajuste de Hiperparámetros\n",
    "\n",
    "Seleccionar valores para los hiperparámetros principales del DecisionTreeClassifier. Como mínimo:  \n",
    "- __criterion__: probar diferentes criterios de partición  \n",
    "- __max_depth__: profundidad máxima del árbol    \n",
    "- __min_samples_leaf__: cantidad mínima de samples por hoja\n",
    "\n",
    "Para ello, usar grid-search y 5-fold cross-validation sobre el conjunto de entrenamiento para explorar muchas combinaciones posibles de valores.\n",
    "\n",
    "Reportar accuracy promedio y varianza para todas las configuraciones.\n",
    "\n",
    "Para la mejor configuración encontrada, evaluar sobre el conjunto de **entrenamiento** y sobre el conjunto de **evaluación**, reportando:\n",
    "- Accuracy\n",
    "- Precision\n",
    "- Recall\n",
    "- F1\n",
    "- matriz de confusión\n",
    "\n",
    "\n",
    "Documentación:\n",
    "- https://scikit-learn.org/stable/modules/grid_search.html\n",
    "- https://scikit-learn.org/stable/modules/generated/sklearn.model_selection.GridSearchCV.html"
   ]
  },
  {
   "cell_type": "markdown",
   "metadata": {},
   "source": [
    "---"
   ]
  },
  {
   "cell_type": "markdown",
   "metadata": {},
   "source": [
    "A continuación vamos a definir el diccionario con los hiperparámetros y los valores de estos parámetros, con los cuales vamos a realizar todas las combinaciones posibles durante la validación cruzada."
   ]
  },
  {
   "cell_type": "code",
   "execution_count": 21,
   "metadata": {},
   "outputs": [],
   "source": [
    "from sklearn.tree import DecisionTreeClassifier\n",
    "DecisionTreeClassifier??"
   ]
  },
  {
   "cell_type": "code",
   "execution_count": 22,
   "metadata": {},
   "outputs": [],
   "source": [
    "param_grid = {\n",
    "    'criterion': ['gini', 'entropy'],\n",
    "    'max_depth': [2, 4, 6, 8, 10],\n",
    "    'min_samples_leaf' : [2, 4, 6],\n",
    "    'random_state' : [0, 2, 4],\n",
    "}"
   ]
  },
  {
   "cell_type": "markdown",
   "metadata": {},
   "source": [
    "Analizaremos todas las combinaciones posibles de los parametros declarados en el diccionario param_grid."
   ]
  },
  {
   "cell_type": "code",
   "execution_count": 23,
   "metadata": {},
   "outputs": [
    {
     "name": "stdout",
     "output_type": "stream",
     "text": [
      "{'criterion': 'gini', 'max_depth': 2, 'min_samples_leaf': 2, 'random_state': 0}\n",
      "{'criterion': 'gini', 'max_depth': 2, 'min_samples_leaf': 2, 'random_state': 2}\n",
      "{'criterion': 'gini', 'max_depth': 2, 'min_samples_leaf': 2, 'random_state': 4}\n",
      "{'criterion': 'gini', 'max_depth': 2, 'min_samples_leaf': 4, 'random_state': 0}\n",
      "{'criterion': 'gini', 'max_depth': 2, 'min_samples_leaf': 4, 'random_state': 2}\n",
      "{'criterion': 'gini', 'max_depth': 2, 'min_samples_leaf': 4, 'random_state': 4}\n",
      "{'criterion': 'gini', 'max_depth': 2, 'min_samples_leaf': 6, 'random_state': 0}\n",
      "{'criterion': 'gini', 'max_depth': 2, 'min_samples_leaf': 6, 'random_state': 2}\n",
      "{'criterion': 'gini', 'max_depth': 2, 'min_samples_leaf': 6, 'random_state': 4}\n",
      "{'criterion': 'gini', 'max_depth': 4, 'min_samples_leaf': 2, 'random_state': 0}\n",
      "{'criterion': 'gini', 'max_depth': 4, 'min_samples_leaf': 2, 'random_state': 2}\n",
      "{'criterion': 'gini', 'max_depth': 4, 'min_samples_leaf': 2, 'random_state': 4}\n",
      "{'criterion': 'gini', 'max_depth': 4, 'min_samples_leaf': 4, 'random_state': 0}\n",
      "{'criterion': 'gini', 'max_depth': 4, 'min_samples_leaf': 4, 'random_state': 2}\n",
      "{'criterion': 'gini', 'max_depth': 4, 'min_samples_leaf': 4, 'random_state': 4}\n",
      "{'criterion': 'gini', 'max_depth': 4, 'min_samples_leaf': 6, 'random_state': 0}\n",
      "{'criterion': 'gini', 'max_depth': 4, 'min_samples_leaf': 6, 'random_state': 2}\n",
      "{'criterion': 'gini', 'max_depth': 4, 'min_samples_leaf': 6, 'random_state': 4}\n",
      "{'criterion': 'gini', 'max_depth': 6, 'min_samples_leaf': 2, 'random_state': 0}\n",
      "{'criterion': 'gini', 'max_depth': 6, 'min_samples_leaf': 2, 'random_state': 2}\n",
      "{'criterion': 'gini', 'max_depth': 6, 'min_samples_leaf': 2, 'random_state': 4}\n",
      "{'criterion': 'gini', 'max_depth': 6, 'min_samples_leaf': 4, 'random_state': 0}\n",
      "{'criterion': 'gini', 'max_depth': 6, 'min_samples_leaf': 4, 'random_state': 2}\n",
      "{'criterion': 'gini', 'max_depth': 6, 'min_samples_leaf': 4, 'random_state': 4}\n",
      "{'criterion': 'gini', 'max_depth': 6, 'min_samples_leaf': 6, 'random_state': 0}\n",
      "{'criterion': 'gini', 'max_depth': 6, 'min_samples_leaf': 6, 'random_state': 2}\n",
      "{'criterion': 'gini', 'max_depth': 6, 'min_samples_leaf': 6, 'random_state': 4}\n",
      "{'criterion': 'gini', 'max_depth': 8, 'min_samples_leaf': 2, 'random_state': 0}\n",
      "{'criterion': 'gini', 'max_depth': 8, 'min_samples_leaf': 2, 'random_state': 2}\n",
      "{'criterion': 'gini', 'max_depth': 8, 'min_samples_leaf': 2, 'random_state': 4}\n",
      "{'criterion': 'gini', 'max_depth': 8, 'min_samples_leaf': 4, 'random_state': 0}\n",
      "{'criterion': 'gini', 'max_depth': 8, 'min_samples_leaf': 4, 'random_state': 2}\n",
      "{'criterion': 'gini', 'max_depth': 8, 'min_samples_leaf': 4, 'random_state': 4}\n",
      "{'criterion': 'gini', 'max_depth': 8, 'min_samples_leaf': 6, 'random_state': 0}\n",
      "{'criterion': 'gini', 'max_depth': 8, 'min_samples_leaf': 6, 'random_state': 2}\n",
      "{'criterion': 'gini', 'max_depth': 8, 'min_samples_leaf': 6, 'random_state': 4}\n",
      "{'criterion': 'gini', 'max_depth': 10, 'min_samples_leaf': 2, 'random_state': 0}\n",
      "{'criterion': 'gini', 'max_depth': 10, 'min_samples_leaf': 2, 'random_state': 2}\n",
      "{'criterion': 'gini', 'max_depth': 10, 'min_samples_leaf': 2, 'random_state': 4}\n",
      "{'criterion': 'gini', 'max_depth': 10, 'min_samples_leaf': 4, 'random_state': 0}\n",
      "{'criterion': 'gini', 'max_depth': 10, 'min_samples_leaf': 4, 'random_state': 2}\n",
      "{'criterion': 'gini', 'max_depth': 10, 'min_samples_leaf': 4, 'random_state': 4}\n",
      "{'criterion': 'gini', 'max_depth': 10, 'min_samples_leaf': 6, 'random_state': 0}\n",
      "{'criterion': 'gini', 'max_depth': 10, 'min_samples_leaf': 6, 'random_state': 2}\n",
      "{'criterion': 'gini', 'max_depth': 10, 'min_samples_leaf': 6, 'random_state': 4}\n",
      "{'criterion': 'entropy', 'max_depth': 2, 'min_samples_leaf': 2, 'random_state': 0}\n",
      "{'criterion': 'entropy', 'max_depth': 2, 'min_samples_leaf': 2, 'random_state': 2}\n",
      "{'criterion': 'entropy', 'max_depth': 2, 'min_samples_leaf': 2, 'random_state': 4}\n",
      "{'criterion': 'entropy', 'max_depth': 2, 'min_samples_leaf': 4, 'random_state': 0}\n",
      "{'criterion': 'entropy', 'max_depth': 2, 'min_samples_leaf': 4, 'random_state': 2}\n",
      "{'criterion': 'entropy', 'max_depth': 2, 'min_samples_leaf': 4, 'random_state': 4}\n",
      "{'criterion': 'entropy', 'max_depth': 2, 'min_samples_leaf': 6, 'random_state': 0}\n",
      "{'criterion': 'entropy', 'max_depth': 2, 'min_samples_leaf': 6, 'random_state': 2}\n",
      "{'criterion': 'entropy', 'max_depth': 2, 'min_samples_leaf': 6, 'random_state': 4}\n",
      "{'criterion': 'entropy', 'max_depth': 4, 'min_samples_leaf': 2, 'random_state': 0}\n",
      "{'criterion': 'entropy', 'max_depth': 4, 'min_samples_leaf': 2, 'random_state': 2}\n",
      "{'criterion': 'entropy', 'max_depth': 4, 'min_samples_leaf': 2, 'random_state': 4}\n",
      "{'criterion': 'entropy', 'max_depth': 4, 'min_samples_leaf': 4, 'random_state': 0}\n",
      "{'criterion': 'entropy', 'max_depth': 4, 'min_samples_leaf': 4, 'random_state': 2}\n",
      "{'criterion': 'entropy', 'max_depth': 4, 'min_samples_leaf': 4, 'random_state': 4}\n",
      "{'criterion': 'entropy', 'max_depth': 4, 'min_samples_leaf': 6, 'random_state': 0}\n",
      "{'criterion': 'entropy', 'max_depth': 4, 'min_samples_leaf': 6, 'random_state': 2}\n",
      "{'criterion': 'entropy', 'max_depth': 4, 'min_samples_leaf': 6, 'random_state': 4}\n",
      "{'criterion': 'entropy', 'max_depth': 6, 'min_samples_leaf': 2, 'random_state': 0}\n",
      "{'criterion': 'entropy', 'max_depth': 6, 'min_samples_leaf': 2, 'random_state': 2}\n",
      "{'criterion': 'entropy', 'max_depth': 6, 'min_samples_leaf': 2, 'random_state': 4}\n",
      "{'criterion': 'entropy', 'max_depth': 6, 'min_samples_leaf': 4, 'random_state': 0}\n",
      "{'criterion': 'entropy', 'max_depth': 6, 'min_samples_leaf': 4, 'random_state': 2}\n",
      "{'criterion': 'entropy', 'max_depth': 6, 'min_samples_leaf': 4, 'random_state': 4}\n",
      "{'criterion': 'entropy', 'max_depth': 6, 'min_samples_leaf': 6, 'random_state': 0}\n",
      "{'criterion': 'entropy', 'max_depth': 6, 'min_samples_leaf': 6, 'random_state': 2}\n",
      "{'criterion': 'entropy', 'max_depth': 6, 'min_samples_leaf': 6, 'random_state': 4}\n",
      "{'criterion': 'entropy', 'max_depth': 8, 'min_samples_leaf': 2, 'random_state': 0}\n",
      "{'criterion': 'entropy', 'max_depth': 8, 'min_samples_leaf': 2, 'random_state': 2}\n",
      "{'criterion': 'entropy', 'max_depth': 8, 'min_samples_leaf': 2, 'random_state': 4}\n",
      "{'criterion': 'entropy', 'max_depth': 8, 'min_samples_leaf': 4, 'random_state': 0}\n",
      "{'criterion': 'entropy', 'max_depth': 8, 'min_samples_leaf': 4, 'random_state': 2}\n",
      "{'criterion': 'entropy', 'max_depth': 8, 'min_samples_leaf': 4, 'random_state': 4}\n",
      "{'criterion': 'entropy', 'max_depth': 8, 'min_samples_leaf': 6, 'random_state': 0}\n",
      "{'criterion': 'entropy', 'max_depth': 8, 'min_samples_leaf': 6, 'random_state': 2}\n",
      "{'criterion': 'entropy', 'max_depth': 8, 'min_samples_leaf': 6, 'random_state': 4}\n",
      "{'criterion': 'entropy', 'max_depth': 10, 'min_samples_leaf': 2, 'random_state': 0}\n",
      "{'criterion': 'entropy', 'max_depth': 10, 'min_samples_leaf': 2, 'random_state': 2}\n",
      "{'criterion': 'entropy', 'max_depth': 10, 'min_samples_leaf': 2, 'random_state': 4}\n",
      "{'criterion': 'entropy', 'max_depth': 10, 'min_samples_leaf': 4, 'random_state': 0}\n",
      "{'criterion': 'entropy', 'max_depth': 10, 'min_samples_leaf': 4, 'random_state': 2}\n",
      "{'criterion': 'entropy', 'max_depth': 10, 'min_samples_leaf': 4, 'random_state': 4}\n",
      "{'criterion': 'entropy', 'max_depth': 10, 'min_samples_leaf': 6, 'random_state': 0}\n",
      "{'criterion': 'entropy', 'max_depth': 10, 'min_samples_leaf': 6, 'random_state': 2}\n",
      "{'criterion': 'entropy', 'max_depth': 10, 'min_samples_leaf': 6, 'random_state': 4}\n"
     ]
    }
   ],
   "source": [
    "from sklearn.model_selection import ParameterGrid\n",
    "\n",
    "for params in ParameterGrid(param_grid):\n",
    "    print(params)\n",
    "    model = DecisionTreeClassifier(**params)"
   ]
  },
  {
   "cell_type": "markdown",
   "metadata": {},
   "source": [
    "A continuación utilizaremos la función GridSearchCV, para realizar la validación cruzada sobre la lista de parámetros declarada anteriormente. Utilizando el método de división estratificada en 5 (default value) subconjuntos partiendo del conjunto de entrenamiento. La división estratificada mantiene en la subdivisiones la misma proporción de clases que existen en nuestro dataset original. De esta manera, obtendremos una grilla con los resultados basados en la accuracy para todas las conbinaciones posibles de nuestros parámetros."
   ]
  },
  {
   "cell_type": "code",
   "execution_count": 24,
   "metadata": {},
   "outputs": [],
   "source": [
    "from sklearn.model_selection import GridSearchCV\n",
    "\n",
    "model = DecisionTreeClassifier()\n",
    "\n",
    "cv = GridSearchCV(model, param_grid, scoring='accuracy', cv=5)\n",
    "cv.fit(X_train, y_train);"
   ]
  },
  {
   "cell_type": "code",
   "execution_count": 25,
   "metadata": {},
   "outputs": [
    {
     "name": "stdout",
     "output_type": "stream",
     "text": [
      "crit.\tdepth\t| mean\tstd\trank\n",
      "gini\t2\t| 0.87\t0.01\t45\n",
      "gini\t2\t| 0.87\t0.01\t45\n",
      "gini\t2\t| 0.87\t0.01\t45\n",
      "gini\t2\t| 0.87\t0.01\t45\n",
      "gini\t2\t| 0.87\t0.01\t45\n",
      "gini\t2\t| 0.87\t0.01\t45\n",
      "gini\t2\t| 0.87\t0.01\t45\n",
      "gini\t2\t| 0.87\t0.01\t45\n",
      "gini\t2\t| 0.87\t0.01\t45\n",
      "gini\t4\t| 0.88\t0.02\t19\n",
      "gini\t4\t| 0.88\t0.02\t25\n",
      "gini\t4\t| 0.88\t0.02\t16\n",
      "gini\t4\t| 0.88\t0.01\t5\n",
      "gini\t4\t| 0.88\t0.02\t15\n",
      "gini\t4\t| 0.88\t0.01\t9\n",
      "gini\t4\t| 0.88\t0.01\t5\n",
      "gini\t4\t| 0.88\t0.01\t9\n",
      "gini\t4\t| 0.88\t0.01\t9\n",
      "gini\t6\t| 0.88\t0.01\t31\n",
      "gini\t6\t| 0.88\t0.01\t31\n",
      "gini\t6\t| 0.88\t0.01\t12\n",
      "gini\t6\t| 0.88\t0.01\t31\n",
      "gini\t6\t| 0.88\t0.01\t26\n",
      "gini\t6\t| 0.88\t0.01\t17\n",
      "gini\t6\t| 0.88\t0.02\t12\n",
      "gini\t6\t| 0.88\t0.02\t7\n",
      "gini\t6\t| 0.88\t0.02\t7\n",
      "gini\t8\t| 0.88\t0.02\t28\n",
      "gini\t8\t| 0.87\t0.02\t37\n",
      "gini\t8\t| 0.88\t0.02\t30\n",
      "gini\t8\t| 0.87\t0.03\t36\n",
      "gini\t8\t| 0.87\t0.02\t39\n",
      "gini\t8\t| 0.87\t0.02\t44\n",
      "gini\t8\t| 0.88\t0.04\t23\n",
      "gini\t8\t| 0.88\t0.04\t23\n",
      "gini\t8\t| 0.88\t0.03\t18\n",
      "gini\t10\t| 0.88\t0.02\t2\n",
      "gini\t10\t| 0.88\t0.02\t20\n",
      "gini\t10\t| 0.88\t0.01\t1\n",
      "gini\t10\t| 0.88\t0.02\t3\n",
      "gini\t10\t| 0.88\t0.03\t29\n",
      "gini\t10\t| 0.88\t0.02\t4\n",
      "gini\t10\t| 0.88\t0.03\t20\n",
      "gini\t10\t| 0.88\t0.04\t20\n",
      "gini\t10\t| 0.88\t0.03\t14\n",
      "entropy\t2\t| 0.87\t0.01\t66\n",
      "entropy\t2\t| 0.87\t0.01\t66\n",
      "entropy\t2\t| 0.87\t0.01\t66\n",
      "entropy\t2\t| 0.87\t0.01\t66\n",
      "entropy\t2\t| 0.87\t0.01\t66\n",
      "entropy\t2\t| 0.87\t0.01\t66\n",
      "entropy\t2\t| 0.87\t0.01\t66\n",
      "entropy\t2\t| 0.87\t0.01\t66\n",
      "entropy\t2\t| 0.87\t0.01\t66\n",
      "entropy\t4\t| 0.87\t0.01\t45\n",
      "entropy\t4\t| 0.87\t0.01\t45\n",
      "entropy\t4\t| 0.87\t0.01\t40\n",
      "entropy\t4\t| 0.87\t0.01\t40\n",
      "entropy\t4\t| 0.87\t0.01\t38\n",
      "entropy\t4\t| 0.87\t0.01\t40\n",
      "entropy\t4\t| 0.87\t0.01\t65\n",
      "entropy\t4\t| 0.87\t0.01\t61\n",
      "entropy\t4\t| 0.87\t0.01\t64\n",
      "entropy\t6\t| 0.87\t0.01\t75\n",
      "entropy\t6\t| 0.87\t0.01\t56\n",
      "entropy\t6\t| 0.87\t0.01\t57\n",
      "entropy\t6\t| 0.87\t0.01\t78\n",
      "entropy\t6\t| 0.87\t0.01\t78\n",
      "entropy\t6\t| 0.87\t0.01\t63\n",
      "entropy\t6\t| 0.87\t0.01\t80\n",
      "entropy\t6\t| 0.86\t0.01\t81\n",
      "entropy\t6\t| 0.87\t0.01\t76\n",
      "entropy\t8\t| 0.88\t0.01\t27\n",
      "entropy\t8\t| 0.88\t0.01\t34\n",
      "entropy\t8\t| 0.87\t0.01\t35\n",
      "entropy\t8\t| 0.87\t0.01\t77\n",
      "entropy\t8\t| 0.87\t0.01\t60\n",
      "entropy\t8\t| 0.87\t0.01\t62\n",
      "entropy\t8\t| 0.86\t0.01\t83\n",
      "entropy\t8\t| 0.86\t0.01\t85\n",
      "entropy\t8\t| 0.86\t0.01\t84\n",
      "entropy\t10\t| 0.87\t0.02\t58\n",
      "entropy\t10\t| 0.87\t0.02\t59\n",
      "entropy\t10\t| 0.87\t0.02\t43\n",
      "entropy\t10\t| 0.86\t0.02\t81\n",
      "entropy\t10\t| 0.86\t0.02\t86\n",
      "entropy\t10\t| 0.86\t0.02\t87\n",
      "entropy\t10\t| 0.85\t0.03\t90\n",
      "entropy\t10\t| 0.85\t0.03\t89\n",
      "entropy\t10\t| 0.85\t0.03\t88\n"
     ]
    }
   ],
   "source": [
    "results = cv.cv_results_\n",
    "params = results['params']\n",
    "mean = results['mean_test_score']\n",
    "std = results['std_test_score']\n",
    "rank = results['rank_test_score']\n",
    "\n",
    "print(\"crit.\\tdepth\\t| mean\\tstd\\trank\")\n",
    "for p, m, s, r in zip(params, mean, std, rank):\n",
    "    print(f\"{p['criterion']}\\t{p['max_depth']}\\t| {m:0.2f}\\t{s:0.2f}\\t{r}\")"
   ]
  },
  {
   "cell_type": "code",
   "execution_count": 26,
   "metadata": {},
   "outputs": [
    {
     "data": {
      "text/html": [
       "<div>\n",
       "<style scoped>\n",
       "    .dataframe tbody tr th:only-of-type {\n",
       "        vertical-align: middle;\n",
       "    }\n",
       "\n",
       "    .dataframe tbody tr th {\n",
       "        vertical-align: top;\n",
       "    }\n",
       "\n",
       "    .dataframe thead th {\n",
       "        text-align: right;\n",
       "    }\n",
       "</style>\n",
       "<table border=\"1\" class=\"dataframe\">\n",
       "  <thead>\n",
       "    <tr style=\"text-align: right;\">\n",
       "      <th></th>\n",
       "      <th>param_criterion</th>\n",
       "      <th>param_max_depth</th>\n",
       "      <th>mean_test_score</th>\n",
       "      <th>std_test_score</th>\n",
       "      <th>rank_test_score</th>\n",
       "    </tr>\n",
       "  </thead>\n",
       "  <tbody>\n",
       "    <tr>\n",
       "      <th>0</th>\n",
       "      <td>gini</td>\n",
       "      <td>2</td>\n",
       "      <td>0.871888</td>\n",
       "      <td>0.007575</td>\n",
       "      <td>45</td>\n",
       "    </tr>\n",
       "    <tr>\n",
       "      <th>1</th>\n",
       "      <td>gini</td>\n",
       "      <td>2</td>\n",
       "      <td>0.871888</td>\n",
       "      <td>0.007575</td>\n",
       "      <td>45</td>\n",
       "    </tr>\n",
       "    <tr>\n",
       "      <th>2</th>\n",
       "      <td>gini</td>\n",
       "      <td>2</td>\n",
       "      <td>0.871888</td>\n",
       "      <td>0.007575</td>\n",
       "      <td>45</td>\n",
       "    </tr>\n",
       "    <tr>\n",
       "      <th>3</th>\n",
       "      <td>gini</td>\n",
       "      <td>2</td>\n",
       "      <td>0.871888</td>\n",
       "      <td>0.007575</td>\n",
       "      <td>45</td>\n",
       "    </tr>\n",
       "    <tr>\n",
       "      <th>4</th>\n",
       "      <td>gini</td>\n",
       "      <td>2</td>\n",
       "      <td>0.871888</td>\n",
       "      <td>0.007575</td>\n",
       "      <td>45</td>\n",
       "    </tr>\n",
       "    <tr>\n",
       "      <th>...</th>\n",
       "      <td>...</td>\n",
       "      <td>...</td>\n",
       "      <td>...</td>\n",
       "      <td>...</td>\n",
       "      <td>...</td>\n",
       "    </tr>\n",
       "    <tr>\n",
       "      <th>85</th>\n",
       "      <td>entropy</td>\n",
       "      <td>10</td>\n",
       "      <td>0.860433</td>\n",
       "      <td>0.016596</td>\n",
       "      <td>86</td>\n",
       "    </tr>\n",
       "    <tr>\n",
       "      <th>86</th>\n",
       "      <td>entropy</td>\n",
       "      <td>10</td>\n",
       "      <td>0.858411</td>\n",
       "      <td>0.016234</td>\n",
       "      <td>87</td>\n",
       "    </tr>\n",
       "    <tr>\n",
       "      <th>87</th>\n",
       "      <td>entropy</td>\n",
       "      <td>10</td>\n",
       "      <td>0.849652</td>\n",
       "      <td>0.030957</td>\n",
       "      <td>90</td>\n",
       "    </tr>\n",
       "    <tr>\n",
       "      <th>88</th>\n",
       "      <td>entropy</td>\n",
       "      <td>10</td>\n",
       "      <td>0.852348</td>\n",
       "      <td>0.028516</td>\n",
       "      <td>89</td>\n",
       "    </tr>\n",
       "    <tr>\n",
       "      <th>89</th>\n",
       "      <td>entropy</td>\n",
       "      <td>10</td>\n",
       "      <td>0.854370</td>\n",
       "      <td>0.027628</td>\n",
       "      <td>88</td>\n",
       "    </tr>\n",
       "  </tbody>\n",
       "</table>\n",
       "<p>90 rows × 5 columns</p>\n",
       "</div>"
      ],
      "text/plain": [
       "   param_criterion param_max_depth  mean_test_score  std_test_score  \\\n",
       "0             gini               2         0.871888        0.007575   \n",
       "1             gini               2         0.871888        0.007575   \n",
       "2             gini               2         0.871888        0.007575   \n",
       "3             gini               2         0.871888        0.007575   \n",
       "4             gini               2         0.871888        0.007575   \n",
       "..             ...             ...              ...             ...   \n",
       "85         entropy              10         0.860433        0.016596   \n",
       "86         entropy              10         0.858411        0.016234   \n",
       "87         entropy              10         0.849652        0.030957   \n",
       "88         entropy              10         0.852348        0.028516   \n",
       "89         entropy              10         0.854370        0.027628   \n",
       "\n",
       "    rank_test_score  \n",
       "0                45  \n",
       "1                45  \n",
       "2                45  \n",
       "3                45  \n",
       "4                45  \n",
       "..              ...  \n",
       "85               86  \n",
       "86               87  \n",
       "87               90  \n",
       "88               89  \n",
       "89               88  \n",
       "\n",
       "[90 rows x 5 columns]"
      ]
     },
     "execution_count": 26,
     "metadata": {},
     "output_type": "execute_result"
    }
   ],
   "source": [
    "import pandas as pd\n",
    "df = pd.DataFrame(results)\n",
    "df[['param_criterion', 'param_max_depth', 'mean_test_score', 'std_test_score', 'rank_test_score']]\n",
    "#df"
   ]
  },
  {
   "cell_type": "markdown",
   "metadata": {},
   "source": [
    "A través de la función, vamos a explorar el mejor modelo y parámetros obtenidos a través de la validación cruzada."
   ]
  },
  {
   "cell_type": "code",
   "execution_count": 27,
   "metadata": {},
   "outputs": [
    {
     "data": {
      "text/plain": [
       "{'criterion': 'gini',\n",
       " 'max_depth': 10,\n",
       " 'min_samples_leaf': 2,\n",
       " 'random_state': 4}"
      ]
     },
     "execution_count": 27,
     "metadata": {},
     "output_type": "execute_result"
    }
   ],
   "source": [
    "cv.best_params_"
   ]
  },
  {
   "cell_type": "markdown",
   "metadata": {},
   "source": [
    "Exploramos el mejor modelo encontrado"
   ]
  },
  {
   "cell_type": "code",
   "execution_count": 28,
   "metadata": {},
   "outputs": [
    {
     "data": {
      "image/png": "[encoded data removed]",
      "text/plain": [
       "<Figure size 432x288 with 1 Axes>"
      ]
     },
     "metadata": {
      "needs_background": "light"
     },
     "output_type": "display_data"
    }
   ],
   "source": [
    "from sklearn.tree import plot_tree\n",
    "best_model = cv.best_estimator_\n",
    "plot_tree(best_model);"
   ]
  },
  {
   "cell_type": "markdown",
   "metadata": {},
   "source": [
    "Ahora vamos a predecir con el mejor modelo encontrado sobre el conjunto de entrenamiento y evaluación"
   ]
  },
  {
   "cell_type": "code",
   "execution_count": 29,
   "metadata": {},
   "outputs": [],
   "source": [
    "y_train_pred = best_model.predict(X_train)\n",
    "y_test_pred = best_model.predict(X_test)"
   ]
  },
  {
   "cell_type": "code",
   "execution_count": 30,
   "metadata": {},
   "outputs": [
    {
     "name": "stdout",
     "output_type": "stream",
     "text": [
      "Train accuracy: 0.95\n",
      "Test accuracy: 0.9\n"
     ]
    }
   ],
   "source": [
    "from sklearn.metrics import accuracy_score\n",
    "\n",
    "train_acc = accuracy_score(y_train, y_train_pred)\n",
    "test_acc = accuracy_score(y_test, y_test_pred)\n",
    "print(f'Train accuracy: {train_acc:0.2}')\n",
    "print(f'Test accuracy: {test_acc:0.2}')"
   ]
  },
  {
   "cell_type": "markdown",
   "metadata": {},
   "source": [
    "Analizamos las métricas para el conjunto de datos de entrenamiento "
   ]
  },
  {
   "cell_type": "code",
   "execution_count": 31,
   "metadata": {},
   "outputs": [
    {
     "name": "stdout",
     "output_type": "stream",
     "text": [
      "              precision    recall  f1-score   support\n",
      "\n",
      "           0       0.95      1.00      0.97      1232\n",
      "           1       0.98      0.72      0.83       251\n",
      "\n",
      "    accuracy                           0.95      1483\n",
      "   macro avg       0.96      0.86      0.90      1483\n",
      "weighted avg       0.95      0.95      0.95      1483\n",
      "\n"
     ]
    }
   ],
   "source": [
    "from sklearn.metrics import classification_report\n",
    "\n",
    "print(classification_report(y_train, y_train_pred))"
   ]
  },
  {
   "cell_type": "markdown",
   "metadata": {},
   "source": [
    "Analizamos las métricas para el conjunto de datos de evaluación"
   ]
  },
  {
   "cell_type": "code",
   "execution_count": 32,
   "metadata": {},
   "outputs": [
    {
     "name": "stdout",
     "output_type": "stream",
     "text": [
      "              precision    recall  f1-score   support\n",
      "\n",
      "           0       0.92      0.97      0.94       313\n",
      "           1       0.79      0.52      0.62        58\n",
      "\n",
      "    accuracy                           0.90       371\n",
      "   macro avg       0.85      0.75      0.78       371\n",
      "weighted avg       0.90      0.90      0.89       371\n",
      "\n"
     ]
    }
   ],
   "source": [
    "print(classification_report(y_test, y_test_pred))"
   ]
  },
  {
   "cell_type": "markdown",
   "metadata": {},
   "source": [
    "Matriz de confusion"
   ]
  },
  {
   "cell_type": "code",
   "execution_count": 33,
   "metadata": {},
   "outputs": [
    {
     "data": {
      "text/plain": [
       "array([[1229,    3],\n",
       "       [  70,  181]], dtype=int64)"
      ]
     },
     "execution_count": 33,
     "metadata": {},
     "output_type": "execute_result"
    }
   ],
   "source": [
    "from sklearn.metrics import confusion_matrix\n",
    "confusion_matrix(y_train, y_train_pred)\n"
   ]
  },
  {
   "cell_type": "code",
   "execution_count": 34,
   "metadata": {},
   "outputs": [
    {
     "data": {
      "text/plain": [
       "array([[305,   8],\n",
       "       [ 28,  30]], dtype=int64)"
      ]
     },
     "execution_count": 34,
     "metadata": {},
     "output_type": "execute_result"
    }
   ],
   "source": [
    "confusion_matrix(y_test, y_test_pred)"
   ]
  },
  {
   "cell_type": "code",
   "execution_count": 36,
   "metadata": {},
   "outputs": [
    {
     "name": "stdout",
     "output_type": "stream",
     "text": [
      "True Negative: 305\n",
      "False Positive: 8\n",
      "False Negative: 28\n",
      "True Positive: 30\n"
     ]
    }
   ],
   "source": [
    "#cm = confusion_matrix(y_test, y_test_pred, labels=[0, 1])\n",
    "tn, fp, fn, tp = confusion_matrix(y_test, y_test_pred, labels=[0, 1]).ravel()\n",
    "\n",
    "print(f'True Negative: {tn}')\n",
    "print(f'False Positive: {fp}')\n",
    "print(f'False Negative: {fn}')\n",
    "print(f'True Positive: {tp}')\n"
   ]
  },
  {
   "cell_type": "code",
   "execution_count": null,
   "metadata": {},
   "outputs": [],
   "source": [
    "Graficamos la matriz de confusion"
   ]
  },
  {
   "cell_type": "code",
   "execution_count": 37,
   "metadata": {},
   "outputs": [
    {
     "name": "stderr",
     "output_type": "stream",
     "text": [
      "C:\\Users\\Diego\\anaconda3\\lib\\site-packages\\sklearn\\utils\\deprecation.py:87: FutureWarning: Function plot_confusion_matrix is deprecated; Function `plot_confusion_matrix` is deprecated in 1.0 and will be removed in 1.2. Use one of the class methods: ConfusionMatrixDisplay.from_predictions or ConfusionMatrixDisplay.from_estimator.\n",
      "  warnings.warn(msg, category=FutureWarning)\n"
     ]
    },
    {
     "data": {
      "text/plain": [
       "<sklearn.metrics._plot.confusion_matrix.ConfusionMatrixDisplay at 0x2a5bd8a8850>"
      ]
     },
     "execution_count": 37,
     "metadata": {},
     "output_type": "execute_result"
    },
    {
     "data": {
      "image/png": "[encoded data removed]",
      "text/plain": [
       "<Figure size 432x288 with 2 Axes>"
      ]
     },
     "metadata": {
      "needs_background": "light"
     },
     "output_type": "display_data"
    }
   ],
   "source": [
    "from sklearn.metrics import plot_confusion_matrix\n",
    "\n",
    "plot_confusion_matrix(best_model, X_test, y_test, cmap='cividis')  \n"
   ]
  },
  {
   "cell_type": "code",
   "execution_count": null,
   "metadata": {},
   "outputs": [],
   "source": []
  }
 ],
 "metadata": {
  "kernelspec": {
   "display_name": "Python 3 (ipykernel)",
   "language": "python",
   "name": "python3"
  },
  "language_info": {
   "codemirror_mode": {
    "name": "ipython",
    "version": 3
   },
   "file_extension": ".py",
   "mimetype": "text/x-python",
   "name": "python",
   "nbconvert_exporter": "python",
   "pygments_lexer": "ipython3",
   "version": "3.9.12"
  }
 },
 "nbformat": 4,
 "nbformat_minor": 4
}
