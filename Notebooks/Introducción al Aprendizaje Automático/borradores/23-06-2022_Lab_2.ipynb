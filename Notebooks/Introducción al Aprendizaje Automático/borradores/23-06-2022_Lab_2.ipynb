{
 "cells": [
  {
   "cell_type": "markdown",
   "metadata": {},
   "source": [
    "# Laboratorio 2: Armado de un esquema de aprendizaje automático\n",
    "\n",
    "En el laboratorio final se espera que puedan poner en práctica los conocimientos adquiridos en el curso, trabajando con un conjunto de datos de clasificación.\n",
    "\n",
    "El objetivo es que se introduzcan en el desarrollo de un esquema para hacer tareas de aprendizaje automático: selección de un modelo, ajuste de hiperparámetros y evaluación.\n",
    "\n",
    "El conjunto de datos a utilizar está en `./data/loan_data.csv`. Si abren el archivo verán que al principio (las líneas que empiezan con `#`) describen el conjunto de datos y sus atributos (incluyendo el atributo de etiqueta o clase).\n",
    "\n",
    "Se espera que hagan uso de las herramientas vistas en el curso. Se espera que hagan uso especialmente de las herramientas brindadas por `scikit-learn`."
   ]
  },
  {
   "cell_type": "code",
   "execution_count": 22,
   "metadata": {},
   "outputs": [],
   "source": [
    "import pandas as pd\n",
    "import random\n",
    "\n",
    "import numpy as np\n",
    "from numpy.random import (\n",
    "    default_rng,\n",
    "    uniform\n",
    ")\n",
    "from sklearn.linear_model import SGDClassifier\n",
    "from sklearn.metrics import (\n",
    "    accuracy_score,\n",
    "    precision_score,\n",
    "    recall_score,\n",
    "    f1_score,\n",
    "    confusion_matrix\n",
    ")\n",
    "from sklearn.model_selection import (\n",
    "    train_test_split,\n",
    "    ParameterSampler,\n",
    "    RandomizedSearchCV\n",
    ")\n",
    "from sklearn.utils.fixes import loguniform\n",
    "import matplotlib.pyplot as plt"
   ]
  },
  {
   "cell_type": "markdown",
   "metadata": {},
   "source": [
    "## Carga de datos y división en entrenamiento y evaluación\n",
    "\n",
    "La celda siguiente se encarga de la carga de datos (haciendo uso de pandas). Estos serán los que se trabajarán en el resto del laboratorio."
   ]
  },
  {
   "cell_type": "code",
   "execution_count": 33,
   "metadata": {},
   "outputs": [],
   "source": [
    "dataset = pd.read_csv(\"./data/loan_data.csv\", comment=\"#\")\n",
    "\n",
    "# División entre instancias y etiquetas\n",
    "X, y = dataset.iloc[:, 1:], dataset.TARGET\n",
    "\n",
    "# división entre entrenamiento y evaluación\n",
    "X_train, X_test, y_train, y_test = train_test_split(X, y, test_size=0.2, random_state=0)"
   ]
  },
  {
   "cell_type": "code",
   "execution_count": null,
   "metadata": {},
   "outputs": [],
   "source": []
  },
  {
   "cell_type": "code",
   "execution_count": 4,
   "metadata": {},
   "outputs": [
    {
     "data": {
      "text/html": [
       "<div>\n",
       "<style scoped>\n",
       "    .dataframe tbody tr th:only-of-type {\n",
       "        vertical-align: middle;\n",
       "    }\n",
       "\n",
       "    .dataframe tbody tr th {\n",
       "        vertical-align: top;\n",
       "    }\n",
       "\n",
       "    .dataframe thead th {\n",
       "        text-align: right;\n",
       "    }\n",
       "</style>\n",
       "<table border=\"1\" class=\"dataframe\">\n",
       "  <thead>\n",
       "    <tr style=\"text-align: right;\">\n",
       "      <th></th>\n",
       "      <th>LOAN</th>\n",
       "      <th>MORTDUE</th>\n",
       "      <th>VALUE</th>\n",
       "      <th>YOJ</th>\n",
       "      <th>DEROG</th>\n",
       "      <th>DELINQ</th>\n",
       "      <th>CLAGE</th>\n",
       "      <th>NINQ</th>\n",
       "      <th>CLNO</th>\n",
       "      <th>DEBTINC</th>\n",
       "    </tr>\n",
       "  </thead>\n",
       "  <tbody>\n",
       "    <tr>\n",
       "      <th>724</th>\n",
       "      <td>4200</td>\n",
       "      <td>50216.0</td>\n",
       "      <td>58541.0</td>\n",
       "      <td>19.0</td>\n",
       "      <td>0.0</td>\n",
       "      <td>0.0</td>\n",
       "      <td>209.871302</td>\n",
       "      <td>0.0</td>\n",
       "      <td>19.0</td>\n",
       "      <td>20.208033</td>\n",
       "    </tr>\n",
       "    <tr>\n",
       "      <th>652</th>\n",
       "      <td>19300</td>\n",
       "      <td>50554.0</td>\n",
       "      <td>76140.0</td>\n",
       "      <td>9.0</td>\n",
       "      <td>2.0</td>\n",
       "      <td>0.0</td>\n",
       "      <td>78.276625</td>\n",
       "      <td>3.0</td>\n",
       "      <td>27.0</td>\n",
       "      <td>36.026904</td>\n",
       "    </tr>\n",
       "    <tr>\n",
       "      <th>825</th>\n",
       "      <td>13000</td>\n",
       "      <td>78766.0</td>\n",
       "      <td>106450.0</td>\n",
       "      <td>6.0</td>\n",
       "      <td>0.0</td>\n",
       "      <td>0.0</td>\n",
       "      <td>107.951312</td>\n",
       "      <td>0.0</td>\n",
       "      <td>26.0</td>\n",
       "      <td>24.870994</td>\n",
       "    </tr>\n",
       "    <tr>\n",
       "      <th>1636</th>\n",
       "      <td>11800</td>\n",
       "      <td>67678.0</td>\n",
       "      <td>108092.0</td>\n",
       "      <td>13.0</td>\n",
       "      <td>0.0</td>\n",
       "      <td>7.0</td>\n",
       "      <td>126.658232</td>\n",
       "      <td>0.0</td>\n",
       "      <td>36.0</td>\n",
       "      <td>37.162690</td>\n",
       "    </tr>\n",
       "    <tr>\n",
       "      <th>18</th>\n",
       "      <td>87500</td>\n",
       "      <td>55938.0</td>\n",
       "      <td>86794.0</td>\n",
       "      <td>15.0</td>\n",
       "      <td>0.0</td>\n",
       "      <td>0.0</td>\n",
       "      <td>223.881040</td>\n",
       "      <td>0.0</td>\n",
       "      <td>16.0</td>\n",
       "      <td>36.753653</td>\n",
       "    </tr>\n",
       "    <tr>\n",
       "      <th>...</th>\n",
       "      <td>...</td>\n",
       "      <td>...</td>\n",
       "      <td>...</td>\n",
       "      <td>...</td>\n",
       "      <td>...</td>\n",
       "      <td>...</td>\n",
       "      <td>...</td>\n",
       "      <td>...</td>\n",
       "      <td>...</td>\n",
       "      <td>...</td>\n",
       "    </tr>\n",
       "    <tr>\n",
       "      <th>485</th>\n",
       "      <td>79100</td>\n",
       "      <td>23553.0</td>\n",
       "      <td>103807.0</td>\n",
       "      <td>25.0</td>\n",
       "      <td>0.0</td>\n",
       "      <td>1.0</td>\n",
       "      <td>142.193458</td>\n",
       "      <td>0.0</td>\n",
       "      <td>13.0</td>\n",
       "      <td>31.469937</td>\n",
       "    </tr>\n",
       "    <tr>\n",
       "      <th>1702</th>\n",
       "      <td>16300</td>\n",
       "      <td>79087.0</td>\n",
       "      <td>102921.0</td>\n",
       "      <td>23.0</td>\n",
       "      <td>0.0</td>\n",
       "      <td>0.0</td>\n",
       "      <td>256.253084</td>\n",
       "      <td>0.0</td>\n",
       "      <td>45.0</td>\n",
       "      <td>36.987086</td>\n",
       "    </tr>\n",
       "    <tr>\n",
       "      <th>511</th>\n",
       "      <td>26900</td>\n",
       "      <td>72848.0</td>\n",
       "      <td>101736.0</td>\n",
       "      <td>10.0</td>\n",
       "      <td>0.0</td>\n",
       "      <td>0.0</td>\n",
       "      <td>131.409634</td>\n",
       "      <td>0.0</td>\n",
       "      <td>21.0</td>\n",
       "      <td>36.369027</td>\n",
       "    </tr>\n",
       "    <tr>\n",
       "      <th>1406</th>\n",
       "      <td>13000</td>\n",
       "      <td>80587.0</td>\n",
       "      <td>110064.0</td>\n",
       "      <td>6.0</td>\n",
       "      <td>0.0</td>\n",
       "      <td>0.0</td>\n",
       "      <td>85.009197</td>\n",
       "      <td>1.0</td>\n",
       "      <td>13.0</td>\n",
       "      <td>33.990040</td>\n",
       "    </tr>\n",
       "    <tr>\n",
       "      <th>1670</th>\n",
       "      <td>14100</td>\n",
       "      <td>52302.0</td>\n",
       "      <td>63589.0</td>\n",
       "      <td>6.0</td>\n",
       "      <td>0.0</td>\n",
       "      <td>0.0</td>\n",
       "      <td>130.342467</td>\n",
       "      <td>4.0</td>\n",
       "      <td>8.0</td>\n",
       "      <td>34.792832</td>\n",
       "    </tr>\n",
       "  </tbody>\n",
       "</table>\n",
       "<p>371 rows × 10 columns</p>\n",
       "</div>"
      ],
      "text/plain": [
       "       LOAN  MORTDUE     VALUE   YOJ  DEROG  DELINQ       CLAGE  NINQ  CLNO  \\\n",
       "724    4200  50216.0   58541.0  19.0    0.0     0.0  209.871302   0.0  19.0   \n",
       "652   19300  50554.0   76140.0   9.0    2.0     0.0   78.276625   3.0  27.0   \n",
       "825   13000  78766.0  106450.0   6.0    0.0     0.0  107.951312   0.0  26.0   \n",
       "1636  11800  67678.0  108092.0  13.0    0.0     7.0  126.658232   0.0  36.0   \n",
       "18    87500  55938.0   86794.0  15.0    0.0     0.0  223.881040   0.0  16.0   \n",
       "...     ...      ...       ...   ...    ...     ...         ...   ...   ...   \n",
       "485   79100  23553.0  103807.0  25.0    0.0     1.0  142.193458   0.0  13.0   \n",
       "1702  16300  79087.0  102921.0  23.0    0.0     0.0  256.253084   0.0  45.0   \n",
       "511   26900  72848.0  101736.0  10.0    0.0     0.0  131.409634   0.0  21.0   \n",
       "1406  13000  80587.0  110064.0   6.0    0.0     0.0   85.009197   1.0  13.0   \n",
       "1670  14100  52302.0   63589.0   6.0    0.0     0.0  130.342467   4.0   8.0   \n",
       "\n",
       "        DEBTINC  \n",
       "724   20.208033  \n",
       "652   36.026904  \n",
       "825   24.870994  \n",
       "1636  37.162690  \n",
       "18    36.753653  \n",
       "...         ...  \n",
       "485   31.469937  \n",
       "1702  36.987086  \n",
       "511   36.369027  \n",
       "1406  33.990040  \n",
       "1670  34.792832  \n",
       "\n",
       "[371 rows x 10 columns]"
      ]
     },
     "execution_count": 4,
     "metadata": {},
     "output_type": "execute_result"
    }
   ],
   "source": [
    "X_test"
   ]
  },
  {
   "cell_type": "code",
   "execution_count": 5,
   "metadata": {},
   "outputs": [
    {
     "data": {
      "text/plain": [
       "1240    0\n",
       "1183    0\n",
       "692     0\n",
       "871     0\n",
       "1353    0\n",
       "       ..\n",
       "835     0\n",
       "1216    0\n",
       "1653    1\n",
       "559     0\n",
       "684     0\n",
       "Name: TARGET, Length: 1483, dtype: int64"
      ]
     },
     "execution_count": 5,
     "metadata": {},
     "output_type": "execute_result"
    }
   ],
   "source": [
    "y_train"
   ]
  },
  {
   "cell_type": "code",
   "execution_count": 6,
   "metadata": {},
   "outputs": [
    {
     "data": {
      "text/plain": [
       "0    1232\n",
       "1     251\n",
       "Name: TARGET, dtype: int64"
      ]
     },
     "execution_count": 6,
     "metadata": {},
     "output_type": "execute_result"
    }
   ],
   "source": [
    "y_train.value_counts()"
   ]
  },
  {
   "cell_type": "code",
   "execution_count": 7,
   "metadata": {},
   "outputs": [
    {
     "data": {
      "text/plain": [
       "724     0\n",
       "652     0\n",
       "825     0\n",
       "1636    1\n",
       "18      0\n",
       "       ..\n",
       "485     0\n",
       "1702    1\n",
       "511     0\n",
       "1406    0\n",
       "1670    1\n",
       "Name: TARGET, Length: 371, dtype: int64"
      ]
     },
     "execution_count": 7,
     "metadata": {},
     "output_type": "execute_result"
    }
   ],
   "source": [
    "y_test"
   ]
  },
  {
   "cell_type": "code",
   "execution_count": 8,
   "metadata": {},
   "outputs": [
    {
     "data": {
      "text/plain": [
       "0    313\n",
       "1     58\n",
       "Name: TARGET, dtype: int64"
      ]
     },
     "execution_count": 8,
     "metadata": {},
     "output_type": "execute_result"
    }
   ],
   "source": [
    "y_test.value_counts()"
   ]
  },
  {
   "cell_type": "code",
   "execution_count": null,
   "metadata": {},
   "outputs": [],
   "source": []
  },
  {
   "cell_type": "markdown",
   "metadata": {},
   "source": [
    "\n",
    "Documentación:\n",
    "\n",
    "- https://scikit-learn.org/stable/modules/generated/sklearn.model_selection.train_test_split.html"
   ]
  },
  {
   "cell_type": "markdown",
   "metadata": {},
   "source": [
    "---"
   ]
  },
  {
   "cell_type": "markdown",
   "metadata": {},
   "source": [
    "## Ejercicio 1: Descripción de los Datos y la Tarea\n",
    "\n",
    "Responder las siguientes preguntas:\n",
    "\n",
    "1. ¿De qué se trata el conjunto de datos?\n",
    "2. ¿Cuál es la variable objetivo que hay que predecir? ¿Qué significado tiene?\n",
    "3. ¿Qué información (atributos) hay disponible para hacer la predicción?\n",
    "4. ¿Qué atributos imagina ud. que son los más determinantes para la predicción?\n",
    "\n",
    "**No hace falta escribir código para responder estas preguntas.**"
   ]
  },
  {
   "cell_type": "markdown",
   "metadata": {},
   "source": [
    "#### __RESPUESTAS__\n",
    "\n",
    "__¿De qué se trata el conjunto de datos?__  \n",
    "Es un conjunto de datos parcial que contiene datos de cada formulario de solicitud que rellenan los solicitantes de prestamos hipotecarios realizado por la empresa Dream Housing Finance, con el objetivo de determinar, mediante la automatizacion de un proceso, la elegibilidad de cada clientes solicitante del prestamo.\n",
    "\n",
    "__¿Cuál es la variable objetivo que hay que predecir? ¿Qué significado tiene?__  \n",
    "La variable objetivo a predecir es la elegibilidad del cliente para un prestamos hipotecario. Esto implica el uso de informacion recopilada en la encuesta para determinar la idoneidad y confiabilidad de los solicitantes de los prestamos hipotecarios.\n",
    "\n",
    "__¿Qué información (atributos) hay disponible para hacer la predicción?__  \n",
    "Para realizar la prediccion disponemos de la informacion aportada por los clientes en el formulario de solicitud de prestamo. Esta informacion esta de forma parcial, contenida en un data set de Kaggle. Contiene las siguientes columnas:\n",
    "'Loan_ID', 'Gender', 'Married', 'Dependents', 'Education','Self_Employed', 'ApplicantIncome', 'CoapplicantIncome', 'LoanAmount', 'Loan_Amount_Term', 'Credit_History', 'Property_Area', 'Loan_Status'.\n",
    "\n",
    "__¿Qué atributos imagina ud. que son los más determinantes para la predicción?__  \n",
    "Para el analisis de la elegibilidad del cliente para un prestamo hipotecario los atributos mas determinantes son:\n",
    "'Credit_History','LoanAmount','Self_Employed','ApplicantIncome'."
   ]
  },
  {
   "cell_type": "markdown",
   "metadata": {},
   "source": [
    "---"
   ]
  },
  {
   "cell_type": "markdown",
   "metadata": {},
   "source": [
    "## Ejercicio 2: Predicción con Modelos Lineales\n",
    "\n",
    "En este ejercicio se entrenarán modelos lineales de clasificación para predecir la variable objetivo.\n",
    "\n",
    "Para ello, deberán utilizar la clase SGDClassifier de scikit-learn.\n",
    "\n",
    "Documentación:\n",
    "- https://scikit-learn.org/stable/modules/sgd.html\n",
    "- https://scikit-learn.org/stable/modules/generated/sklearn.linear_model.SGDClassifier.html\n"
   ]
  },
  {
   "cell_type": "markdown",
   "metadata": {},
   "source": [
    "### Ejercicio 2.1: SGDClassifier con hiperparámetros por defecto\n",
    "\n",
    "Entrenar y evaluar el clasificador SGDClassifier usando los valores por omisión (por defecto?) de scikit-learn para todos los parámetros. Únicamente **fijar la semilla aleatoria** para hacer repetible el experimento.\n",
    "\n",
    "Evaluar sobre el conjunto de **entrenamiento** y sobre el conjunto de **evaluación**, reportando:\n",
    "- Accuracy\n",
    "- Precision\n",
    "- Recall\n",
    "- F1\n",
    "- matriz de confusión"
   ]
  },
  {
   "cell_type": "code",
   "execution_count": 9,
   "metadata": {},
   "outputs": [],
   "source": [
    "# X_train, X_test, y_train, y_test"
   ]
  },
  {
   "cell_type": "code",
   "execution_count": null,
   "metadata": {},
   "outputs": [],
   "source": []
  },
  {
   "cell_type": "markdown",
   "metadata": {},
   "source": [
    "#### Valor de Semilla aleatoria"
   ]
  },
  {
   "cell_type": "code",
   "execution_count": 10,
   "metadata": {},
   "outputs": [
    {
     "name": "stdout",
     "output_type": "stream",
     "text": [
      "⦁ rints = [8]\n",
      "⦁ rint = 8\n"
     ]
    }
   ],
   "source": [
    "rng = default_rng()\n",
    "rints = rng.integers(low=0, high=100, size=1)\n",
    "print(f'⦁ rints = {rints}')\n",
    "rint = rints[0]\n",
    "print(f'⦁ rint = {rint}') ### Ejemplo tomado: 46 | 24"
   ]
  },
  {
   "cell_type": "markdown",
   "metadata": {},
   "source": [
    "### Linear SVM"
   ]
  },
  {
   "cell_type": "code",
   "execution_count": 17,
   "metadata": {},
   "outputs": [],
   "source": [
    "clf = SGDClassifier(loss=\"hinge\", penalty=\"l2\", max_iter=10000, random_state=rint)\n",
    "clf.fit(X_train, y_train)           # Entrenamiento\n",
    "y_train_pred = clf.predict(X_train)  # Predicción → Evaluación sobre set de entrenamiento\n",
    "y_test_pred = clf.predict(X_test)   # Predicción → Evaluación sobre set de test"
   ]
  },
  {
   "cell_type": "markdown",
   "metadata": {},
   "source": [
    "#### Evaluación sobre conjunto de entrenamiento"
   ]
  },
  {
   "cell_type": "code",
   "execution_count": 18,
   "metadata": {},
   "outputs": [],
   "source": [
    "np.set_printoptions(threshold=np.inf)"
   ]
  },
  {
   "cell_type": "code",
   "execution_count": 19,
   "metadata": {},
   "outputs": [
    {
     "name": "stdout",
     "output_type": "stream",
     "text": [
      "⦁ y_train:\n",
      "\n",
      "[0 0 0 0 0 0 0 0 0 0 0 0 0 0 0 0 0 0 0 0 0 0 1 1 0 0 0 1 0 0 0 0 0 0 0 0 0\n",
      " 1 0 0 0 0 1 0 0 0 0 0 0 0 0 0 0 0 0 1 0 0 0 0 0 0 0 0 0 0 1 0 0 0 1 0 0 0\n",
      " 0 0 0 0 0 0 0 0 0 1 0 0 0 0 1 1 0 0 0 0 0 0 0 0 0 0 0 0 0 0 1 0 1 0 0 1 0\n",
      " 0 0 1 0 0 0 0 0 0 0 0 0 0 0 0 0 1 0 0 0 0 0 0 0 0 0 0 1 0 0 1 0 0 0 0 1 0\n",
      " 0 0 0 0 0 0 0 0 0 0 0 0 0 0 0 0 0 1 0 0 0 0 0 0 0 0 0 0 0 0 0 0 0 0 0 0 1\n",
      " 1 0 0 0 1 0 0 0 0 0 0 0 0 0 0 0 0 0 1 1 0 0 0 0 0 0 1 0 1 0 0 0 1 0 0 0 0\n",
      " 0 0 0 0 0 0 1 0 0 0 0 0 0 0 0 0 0 0 0 1 0 0 0 0 0 0 0 0 0 0 0 0 0 1 0 1 1\n",
      " 0 0 0 0 0 1 0 1 1 1 0 0 0 1 1 0 0 0 0 0 0 1 0 1 1 0 1 1 0 0 0 0 0 0 0 0 0\n",
      " 1 0 0 0 0 0 0 1 1 0 0 0 1 0 0 1 1 1 0 0 0 0 0 0 0 0 0 0 0 0 1 1 0 0 0 0 0\n",
      " 1 0 0 1 0 0 1 1 0 1 0 0 0 0 0 0 0 0 0 0 1 0 1 0 0 0 0 0 0 0 0 0 0 0 0 0 0\n",
      " 1 1 0 0 1 0 0 0 0 1 0 0 0 1 1 0 1 0 0 0 0 0 0 0 1 0 0 0 0 0 0 0 0 0 0 1 0\n",
      " 0 0 0 0 0 0 0 0 0 1 0 0 0 0 0 0 0 0 1 0 0 0 1 1 0 0 0 1 0 0 0 0 0 1 0 0 1\n",
      " 0 0 1 0 0 0 0 0 0 0 0 0 0 0 0 0 1 0 0 0 0 0 0 0 1 1 0 0 0 0 0 0 0 0 1 0 0\n",
      " 0 0 0 1 1 0 0 0 0 0 0 0 0 0 1 0 0 0 0 0 0 0 0 0 0 0 1 1 0 0 1 1 1 0 0 1 0\n",
      " 0 0 0 0 0 0 0 0 1 1 0 0 1 1 0 0 0 0 1 0 1 0 1 0 1 1 0 0 0 0 0 0 0 0 0 0 0\n",
      " 0 0 0 0 0 0 0 0 1 0 0 0 0 0 0 0 0 0 0 0 0 0 0 0 0 0 0 0 0 0 1 0 1 1 0 0 0\n",
      " 0 0 1 0 0 0 0 0 0 0 0 0 0 0 0 0 0 0 0 0 1 0 0 0 0 0 0 0 0 1 0 0 1 0 0 1 0\n",
      " 0 0 0 0 0 1 0 0 0 0 0 0 0 1 1 1 0 0 0 0 0 0 1 1 0 1 0 0 0 0 0 0 0 0 0 0 0\n",
      " 0 0 0 0 0 0 0 0 0 1 0 1 0 0 0 0 0 0 0 0 0 0 0 0 0 0 0 0 1 0 0 0 0 0 0 0 0\n",
      " 0 0 1 0 0 0 1 0 0 0 0 0 0 0 0 0 0 0 0 0 0 0 0 0 0 0 1 0 0 0 1 0 0 1 0 0 0\n",
      " 0 0 0 0 0 0 1 0 0 0 0 0 1 0 1 0 0 1 0 0 0 0 0 0 0 0 0 0 0 0 0 0 0 0 1 0 0\n",
      " 1 0 1 0 0 0 0 0 0 0 0 0 0 1 1 0 0 1 1 0 0 0 0 0 0 0 0 0 0 0 0 0 0 0 0 0 0\n",
      " 0 1 0 1 0 0 0 1 0 0 0 1 0 0 1 1 0 0 0 0 0 0 1 0 0 0 1 0 0 0 0 0 0 1 0 0 0\n",
      " 0 0 0 1 0 0 1 1 0 0 0 0 0 0 0 1 1 0 0 0 0 0 0 0 0 0 0 0 0 0 1 0 0 1 0 1 0\n",
      " 1 0 0 0 0 0 0 1 0 0 0 0 0 0 0 0 0 0 0 0 0 1 0 1 1 0 0 0 0 0 0 0 0 1 0 0 0\n",
      " 0 0 0 0 0 0 0 0 0 0 0 0 1 0 0 0 0 0 0 0 1 0 0 0 0 0 0 0 0 0 0 0 0 0 0 0 0\n",
      " 0 0 0 0 0 0 0 0 1 0 1 0 1 0 0 0 0 0 0 1 1 0 0 1 0 0 0 0 0 0 0 1 1 0 1 0 0\n",
      " 0 0 0 1 0 1 0 0 0 0 0 0 1 1 1 0 0 0 0 1 0 0 0 0 0 0 0 0 0 0 0 1 0 1 0 1 0\n",
      " 0 0 0 0 1 0 0 0 1 1 0 0 0 0 0 0 0 0 0 0 1 0 0 0 0 0 0 0 0 1 1 1 0 0 1 1 1\n",
      " 0 0 0 0 0 1 0 0 0 0 0 0 0 0 0 0 0 0 0 1 0 0 0 0 0 1 0 0 0 0 0 0 0 0 0 0 0\n",
      " 0 0 0 0 0 0 0 0 0 0 0 0 0 0 1 0 0 0 0 0 0 0 0 0 1 0 0 0 1 0 1 0 0 0 0 0 0\n",
      " 1 0 0 0 1 0 1 0 0 0 0 1 0 0 0 0 0 0 0 0 0 0 0 0 0 1 0 0 0 0 0 1 0 1 0 0 0\n",
      " 0 1 0 0 0 0 1 0 0 0 0 0 0 1 0 0 0 0 0 0 0 1 0 1 0 0 0 0 0 0 0 0 1 0 1 1 1\n",
      " 0 0 0 1 1 1 0 0 0 0 0 1 1 0 0 0 1 0 0 0 0 0 0 0 0 0 0 0 0 0 1 0 0 1 0 0 0\n",
      " 1 0 0 0 0 0 1 0 0 0 0 1 0 0 0 0 0 0 0 0 0 0 1 0 0 1 0 0 0 0 0 0 0 0 0 0 0\n",
      " 0 0 0 0 0 0 0 0 0 0 1 0 0 0 1 0 0 0 0 1 0 0 0 0 0 0 0 0 0 0 0 0 0 0 0 1 0\n",
      " 0 0 0 0 0 0 0 0 0 0 0 1 0 0 0 0 0 1 0 0 0 0 0 0 0 0 1 1 0 0 0 1 0 1 0 0 0\n",
      " 1 0 1 0 0 0 0 0 0 0 0 1 0 0 0 0 0 1 0 0 0 0 0 0 0 0 1 0 0 0 0 0 0 0 0 0 0\n",
      " 0 0 1 0 0 1 0 0 0 0 0 1 0 1 0 0 0 0 0 0 0 0 0 0 0 0 0 0 0 0 0 0 0 0 0 0 1\n",
      " 0 0 0 0 0 1 0 0 0 0 0 0 0 1 0 1 0 0 0 0 0 0 0 0 0 0 0 1 1 0 1 0 0 1 0 0 0\n",
      " 1 0 0]\n",
      "\n",
      "---------------------------------------------------------------------------\n",
      "\n",
      "⦁ y_train_pred:\n",
      "\n",
      "[0 0 0 0 0 0 0 0 0 0 0 0 0 0 0 0 0 0 0 0 0 0 0 0 0 0 0 0 0 0 0 0 0 0 0 0 0\n",
      " 0 0 0 0 0 0 0 0 0 0 0 0 0 0 0 0 0 0 0 0 0 0 0 0 0 0 0 0 0 0 0 0 0 0 0 0 0\n",
      " 0 0 0 0 0 0 0 0 0 0 0 0 0 0 0 0 0 0 0 0 0 0 0 0 0 0 0 0 0 0 0 0 0 0 0 0 0\n",
      " 0 0 0 0 0 0 0 0 0 0 0 0 0 0 0 0 0 0 0 0 0 0 0 0 0 0 0 0 0 0 0 0 0 0 0 0 0\n",
      " 0 0 0 0 0 0 0 0 0 0 0 0 0 0 0 0 0 0 0 0 0 0 0 0 0 0 0 0 0 0 0 0 0 0 0 0 0\n",
      " 0 0 0 0 0 0 0 0 0 0 0 0 0 0 0 0 0 0 0 0 0 0 0 0 0 0 0 0 0 0 0 0 0 0 0 0 0\n",
      " 0 0 0 0 0 0 0 0 0 0 0 0 0 0 0 0 0 0 0 0 0 0 0 0 0 0 0 0 0 0 0 0 0 0 0 0 0\n",
      " 0 0 0 0 0 0 0 0 0 0 0 0 0 0 0 0 0 0 0 0 0 0 0 0 0 0 0 0 0 0 0 0 0 0 0 0 0\n",
      " 0 0 0 0 0 0 0 0 0 0 0 0 0 0 0 0 0 0 0 0 0 0 0 0 0 0 0 0 0 0 0 0 0 0 0 0 0\n",
      " 0 0 0 0 0 0 0 0 0 0 0 0 0 0 0 0 0 0 0 0 0 0 0 0 0 0 0 0 0 0 0 0 0 0 0 0 0\n",
      " 0 0 0 0 0 0 0 0 0 0 0 0 0 0 0 0 0 0 0 0 0 0 0 0 0 0 0 0 0 0 0 0 0 0 0 0 0\n",
      " 0 0 0 0 0 0 0 0 0 0 0 0 0 0 0 0 0 0 0 0 0 0 0 0 0 0 0 0 0 0 0 0 0 0 0 0 0\n",
      " 0 0 0 0 0 0 0 0 0 0 0 0 0 0 0 0 0 0 0 0 0 0 0 0 0 0 0 0 0 0 0 0 0 0 0 0 0\n",
      " 0 0 0 0 0 0 0 0 0 0 0 0 0 0 0 0 0 0 0 0 0 0 0 0 0 0 0 0 0 0 0 0 0 0 0 0 0\n",
      " 0 0 0 0 0 0 0 0 0 0 0 0 0 0 0 0 0 0 0 0 0 0 0 0 0 0 0 0 0 0 0 0 0 0 0 0 0\n",
      " 0 0 0 0 0 0 0 0 0 0 0 0 0 0 0 0 0 0 0 0 0 0 0 0 0 0 0 0 0 0 0 0 0 0 0 0 0\n",
      " 0 0 0 0 0 0 0 0 0 0 0 0 0 0 0 0 0 0 0 0 0 0 0 0 0 0 0 0 0 0 0 0 0 0 0 0 0\n",
      " 0 0 0 0 0 0 0 0 0 0 0 0 0 0 0 0 0 0 0 0 0 0 0 0 0 0 0 0 0 0 0 0 0 0 0 0 0\n",
      " 0 0 0 0 0 0 0 0 0 0 0 0 0 0 0 0 0 0 0 0 0 0 0 0 0 0 0 0 0 0 0 0 0 0 0 0 0\n",
      " 0 0 0 0 0 0 0 0 0 0 0 0 0 0 0 0 0 0 0 0 0 0 0 0 0 0 0 0 0 0 0 0 0 0 0 0 0\n",
      " 0 0 0 0 0 0 0 0 0 0 0 0 0 0 0 0 0 0 0 0 0 0 0 0 0 0 0 0 0 0 0 0 0 0 0 0 0\n",
      " 0 0 0 0 0 0 0 0 0 0 0 0 0 0 0 0 0 0 0 0 0 0 0 0 0 0 0 0 0 0 0 0 0 0 0 0 0\n",
      " 0 0 0 0 0 0 0 0 0 0 0 0 0 0 0 0 0 0 0 0 0 0 0 0 0 0 0 0 0 0 0 0 0 0 0 0 0\n",
      " 0 0 0 0 0 0 0 0 0 0 0 0 0 0 0 0 0 0 0 0 0 0 0 0 0 0 0 0 0 0 0 0 0 0 0 0 0\n",
      " 0 0 0 0 0 0 0 0 0 0 0 0 0 0 0 0 0 0 0 0 0 0 0 0 0 0 0 0 0 0 0 0 0 0 0 0 0\n",
      " 0 0 0 0 0 0 0 0 0 0 0 0 0 0 0 0 0 0 0 0 0 0 0 0 0 0 0 0 0 0 0 0 0 0 0 0 0\n",
      " 0 0 0 0 0 0 0 0 0 0 0 0 0 0 0 0 0 0 0 0 0 0 0 0 0 0 0 0 0 0 0 0 0 0 0 0 0\n",
      " 0 0 0 0 0 0 0 0 0 0 0 0 0 0 0 0 0 0 0 0 0 0 0 0 0 0 0 0 0 0 0 0 0 0 0 0 0\n",
      " 0 0 0 0 0 0 0 0 0 0 0 0 0 0 0 0 0 0 0 0 0 0 0 0 0 0 0 0 0 0 0 0 0 0 0 0 0\n",
      " 0 0 0 0 0 0 0 0 0 0 0 0 0 0 0 0 0 0 0 0 0 0 0 0 0 0 0 0 0 0 0 0 0 0 0 0 0\n",
      " 0 0 0 0 0 0 0 0 0 0 0 0 0 0 0 0 0 0 0 0 0 0 0 0 0 0 0 0 0 0 0 0 0 0 0 0 0\n",
      " 0 0 0 0 0 0 0 0 0 0 0 0 0 0 0 0 0 0 0 0 0 0 0 0 0 0 0 0 0 0 0 0 0 0 0 0 0\n",
      " 0 0 0 0 0 0 0 0 0 0 0 0 0 0 0 0 0 0 0 0 0 0 0 0 0 0 0 0 0 0 0 0 0 0 0 0 0\n",
      " 0 0 0 0 0 0 0 0 0 0 0 0 0 0 0 0 0 0 0 0 0 0 0 0 0 0 0 0 0 0 0 0 0 0 0 0 0\n",
      " 0 0 0 0 0 0 0 0 0 0 0 0 0 0 0 0 0 0 0 0 0 0 0 0 0 0 0 0 0 0 0 0 0 0 0 0 0\n",
      " 0 0 0 0 0 0 0 0 0 0 0 0 0 0 0 0 0 0 0 0 0 0 0 0 0 0 0 0 0 0 0 0 0 0 0 0 0\n",
      " 0 0 0 0 0 0 0 0 0 0 0 0 0 0 0 0 0 0 0 0 0 0 0 0 0 0 0 0 0 0 0 0 0 0 0 0 0\n",
      " 0 0 0 0 0 0 0 0 0 0 0 0 0 0 0 0 0 0 0 0 0 0 0 0 0 0 0 0 0 0 0 0 0 0 0 0 0\n",
      " 0 0 0 0 0 0 0 0 0 0 0 0 0 0 0 0 0 0 0 0 0 0 0 0 0 0 0 0 0 0 0 0 0 0 0 0 0\n",
      " 0 0 0 0 0 0 0 0 0 0 0 0 0 0 0 0 0 0 0 0 0 0 0 0 0 0 0 0 0 0 0 0 0 0 0 0 0\n",
      " 0 0 0]\n",
      "\n"
     ]
    }
   ],
   "source": [
    "print(f'⦁ y_train:\\n\\n{np.array(y_train)}\\n')\n",
    "print('---'*25)\n",
    "print(f'\\n⦁ y_train_pred:\\n\\n{y_train_pred}\\n')"
   ]
  },
  {
   "cell_type": "code",
   "execution_count": null,
   "metadata": {},
   "outputs": [],
   "source": []
  },
  {
   "cell_type": "code",
   "execution_count": 20,
   "metadata": {},
   "outputs": [
    {
     "ename": "NameError",
     "evalue": "name 'y_pred' is not defined",
     "output_type": "error",
     "traceback": [
      "\u001b[0;31m---------------------------------------------------------------------------\u001b[0m",
      "\u001b[0;31mNameError\u001b[0m                                 Traceback (most recent call last)",
      "\u001b[0;32m<ipython-input-20-e5d6bbf97815>\u001b[0m in \u001b[0;36m<module>\u001b[0;34m\u001b[0m\n\u001b[0;32m----> 1\u001b[0;31m \u001b[0mdf\u001b[0m \u001b[0;34m=\u001b[0m \u001b[0mpd\u001b[0m\u001b[0;34m.\u001b[0m\u001b[0mDataFrame\u001b[0m\u001b[0;34m(\u001b[0m\u001b[0mdata\u001b[0m\u001b[0;34m=\u001b[0m\u001b[0my_pred\u001b[0m\u001b[0;34m,\u001b[0m \u001b[0mcolumns\u001b[0m\u001b[0;34m=\u001b[0m\u001b[0;34m[\u001b[0m\u001b[0;34m'y_pred'\u001b[0m\u001b[0;34m]\u001b[0m\u001b[0;34m)\u001b[0m\u001b[0;34m\u001b[0m\u001b[0;34m\u001b[0m\u001b[0m\n\u001b[0m",
      "\u001b[0;31mNameError\u001b[0m: name 'y_pred' is not defined"
     ]
    }
   ],
   "source": [
    "df = pd.DataFrame(data=y_pred, columns=['y_pred'])"
   ]
  },
  {
   "cell_type": "code",
   "execution_count": 19,
   "metadata": {},
   "outputs": [],
   "source": [
    "df['y_test'] = np.array(y_test)"
   ]
  },
  {
   "cell_type": "code",
   "execution_count": 20,
   "metadata": {},
   "outputs": [],
   "source": [
    "df = df[['y_test', 'y_pred']]"
   ]
  },
  {
   "cell_type": "code",
   "execution_count": 27,
   "metadata": {},
   "outputs": [
    {
     "data": {
      "text/plain": [
       "(371, 2)"
      ]
     },
     "execution_count": 27,
     "metadata": {},
     "output_type": "execute_result"
    }
   ],
   "source": [
    "df.shape"
   ]
  },
  {
   "cell_type": "code",
   "execution_count": 31,
   "metadata": {},
   "outputs": [
    {
     "data": {
      "text/html": [
       "<style  type=\"text/css\" >\n",
       "#T_dd4fa_row0_col0,#T_dd4fa_row0_col1,#T_dd4fa_row1_col0,#T_dd4fa_row1_col1,#T_dd4fa_row2_col0,#T_dd4fa_row2_col1,#T_dd4fa_row3_col1,#T_dd4fa_row4_col0,#T_dd4fa_row4_col1,#T_dd4fa_row5_col0,#T_dd4fa_row5_col1,#T_dd4fa_row6_col0,#T_dd4fa_row6_col1,#T_dd4fa_row7_col0,#T_dd4fa_row7_col1,#T_dd4fa_row8_col0,#T_dd4fa_row8_col1,#T_dd4fa_row9_col0,#T_dd4fa_row9_col1,#T_dd4fa_row10_col0,#T_dd4fa_row10_col1,#T_dd4fa_row11_col1,#T_dd4fa_row12_col0,#T_dd4fa_row12_col1,#T_dd4fa_row13_col0,#T_dd4fa_row13_col1,#T_dd4fa_row14_col0,#T_dd4fa_row14_col1,#T_dd4fa_row15_col0,#T_dd4fa_row15_col1,#T_dd4fa_row16_col0,#T_dd4fa_row16_col1,#T_dd4fa_row17_col1,#T_dd4fa_row18_col1,#T_dd4fa_row19_col0,#T_dd4fa_row19_col1{\n",
       "            background-color:  #f7fbff;\n",
       "            color:  #000000;\n",
       "        }#T_dd4fa_row3_col0,#T_dd4fa_row11_col0,#T_dd4fa_row17_col0,#T_dd4fa_row18_col0{\n",
       "            background-color:  #08306b;\n",
       "            color:  #f1f1f1;\n",
       "        }</style><table id=\"T_dd4fa_\" ><thead>    <tr>        <th class=\"blank level0\" ></th>        <th class=\"col_heading level0 col0\" >y_test</th>        <th class=\"col_heading level0 col1\" >y_pred</th>    </tr></thead><tbody>\n",
       "                <tr>\n",
       "                        <th id=\"T_dd4fa_level0_row0\" class=\"row_heading level0 row0\" >0</th>\n",
       "                        <td id=\"T_dd4fa_row0_col0\" class=\"data row0 col0\" >0</td>\n",
       "                        <td id=\"T_dd4fa_row0_col1\" class=\"data row0 col1\" >0</td>\n",
       "            </tr>\n",
       "            <tr>\n",
       "                        <th id=\"T_dd4fa_level0_row1\" class=\"row_heading level0 row1\" >1</th>\n",
       "                        <td id=\"T_dd4fa_row1_col0\" class=\"data row1 col0\" >0</td>\n",
       "                        <td id=\"T_dd4fa_row1_col1\" class=\"data row1 col1\" >0</td>\n",
       "            </tr>\n",
       "            <tr>\n",
       "                        <th id=\"T_dd4fa_level0_row2\" class=\"row_heading level0 row2\" >2</th>\n",
       "                        <td id=\"T_dd4fa_row2_col0\" class=\"data row2 col0\" >0</td>\n",
       "                        <td id=\"T_dd4fa_row2_col1\" class=\"data row2 col1\" >0</td>\n",
       "            </tr>\n",
       "            <tr>\n",
       "                        <th id=\"T_dd4fa_level0_row3\" class=\"row_heading level0 row3\" >3</th>\n",
       "                        <td id=\"T_dd4fa_row3_col0\" class=\"data row3 col0\" >1</td>\n",
       "                        <td id=\"T_dd4fa_row3_col1\" class=\"data row3 col1\" >0</td>\n",
       "            </tr>\n",
       "            <tr>\n",
       "                        <th id=\"T_dd4fa_level0_row4\" class=\"row_heading level0 row4\" >4</th>\n",
       "                        <td id=\"T_dd4fa_row4_col0\" class=\"data row4 col0\" >0</td>\n",
       "                        <td id=\"T_dd4fa_row4_col1\" class=\"data row4 col1\" >0</td>\n",
       "            </tr>\n",
       "            <tr>\n",
       "                        <th id=\"T_dd4fa_level0_row5\" class=\"row_heading level0 row5\" >5</th>\n",
       "                        <td id=\"T_dd4fa_row5_col0\" class=\"data row5 col0\" >0</td>\n",
       "                        <td id=\"T_dd4fa_row5_col1\" class=\"data row5 col1\" >0</td>\n",
       "            </tr>\n",
       "            <tr>\n",
       "                        <th id=\"T_dd4fa_level0_row6\" class=\"row_heading level0 row6\" >6</th>\n",
       "                        <td id=\"T_dd4fa_row6_col0\" class=\"data row6 col0\" >0</td>\n",
       "                        <td id=\"T_dd4fa_row6_col1\" class=\"data row6 col1\" >0</td>\n",
       "            </tr>\n",
       "            <tr>\n",
       "                        <th id=\"T_dd4fa_level0_row7\" class=\"row_heading level0 row7\" >7</th>\n",
       "                        <td id=\"T_dd4fa_row7_col0\" class=\"data row7 col0\" >0</td>\n",
       "                        <td id=\"T_dd4fa_row7_col1\" class=\"data row7 col1\" >0</td>\n",
       "            </tr>\n",
       "            <tr>\n",
       "                        <th id=\"T_dd4fa_level0_row8\" class=\"row_heading level0 row8\" >8</th>\n",
       "                        <td id=\"T_dd4fa_row8_col0\" class=\"data row8 col0\" >0</td>\n",
       "                        <td id=\"T_dd4fa_row8_col1\" class=\"data row8 col1\" >0</td>\n",
       "            </tr>\n",
       "            <tr>\n",
       "                        <th id=\"T_dd4fa_level0_row9\" class=\"row_heading level0 row9\" >9</th>\n",
       "                        <td id=\"T_dd4fa_row9_col0\" class=\"data row9 col0\" >0</td>\n",
       "                        <td id=\"T_dd4fa_row9_col1\" class=\"data row9 col1\" >0</td>\n",
       "            </tr>\n",
       "            <tr>\n",
       "                        <th id=\"T_dd4fa_level0_row10\" class=\"row_heading level0 row10\" >10</th>\n",
       "                        <td id=\"T_dd4fa_row10_col0\" class=\"data row10 col0\" >0</td>\n",
       "                        <td id=\"T_dd4fa_row10_col1\" class=\"data row10 col1\" >0</td>\n",
       "            </tr>\n",
       "            <tr>\n",
       "                        <th id=\"T_dd4fa_level0_row11\" class=\"row_heading level0 row11\" >11</th>\n",
       "                        <td id=\"T_dd4fa_row11_col0\" class=\"data row11 col0\" >1</td>\n",
       "                        <td id=\"T_dd4fa_row11_col1\" class=\"data row11 col1\" >0</td>\n",
       "            </tr>\n",
       "            <tr>\n",
       "                        <th id=\"T_dd4fa_level0_row12\" class=\"row_heading level0 row12\" >12</th>\n",
       "                        <td id=\"T_dd4fa_row12_col0\" class=\"data row12 col0\" >0</td>\n",
       "                        <td id=\"T_dd4fa_row12_col1\" class=\"data row12 col1\" >0</td>\n",
       "            </tr>\n",
       "            <tr>\n",
       "                        <th id=\"T_dd4fa_level0_row13\" class=\"row_heading level0 row13\" >13</th>\n",
       "                        <td id=\"T_dd4fa_row13_col0\" class=\"data row13 col0\" >0</td>\n",
       "                        <td id=\"T_dd4fa_row13_col1\" class=\"data row13 col1\" >0</td>\n",
       "            </tr>\n",
       "            <tr>\n",
       "                        <th id=\"T_dd4fa_level0_row14\" class=\"row_heading level0 row14\" >14</th>\n",
       "                        <td id=\"T_dd4fa_row14_col0\" class=\"data row14 col0\" >0</td>\n",
       "                        <td id=\"T_dd4fa_row14_col1\" class=\"data row14 col1\" >0</td>\n",
       "            </tr>\n",
       "            <tr>\n",
       "                        <th id=\"T_dd4fa_level0_row15\" class=\"row_heading level0 row15\" >15</th>\n",
       "                        <td id=\"T_dd4fa_row15_col0\" class=\"data row15 col0\" >0</td>\n",
       "                        <td id=\"T_dd4fa_row15_col1\" class=\"data row15 col1\" >0</td>\n",
       "            </tr>\n",
       "            <tr>\n",
       "                        <th id=\"T_dd4fa_level0_row16\" class=\"row_heading level0 row16\" >16</th>\n",
       "                        <td id=\"T_dd4fa_row16_col0\" class=\"data row16 col0\" >0</td>\n",
       "                        <td id=\"T_dd4fa_row16_col1\" class=\"data row16 col1\" >0</td>\n",
       "            </tr>\n",
       "            <tr>\n",
       "                        <th id=\"T_dd4fa_level0_row17\" class=\"row_heading level0 row17\" >17</th>\n",
       "                        <td id=\"T_dd4fa_row17_col0\" class=\"data row17 col0\" >1</td>\n",
       "                        <td id=\"T_dd4fa_row17_col1\" class=\"data row17 col1\" >0</td>\n",
       "            </tr>\n",
       "            <tr>\n",
       "                        <th id=\"T_dd4fa_level0_row18\" class=\"row_heading level0 row18\" >18</th>\n",
       "                        <td id=\"T_dd4fa_row18_col0\" class=\"data row18 col0\" >1</td>\n",
       "                        <td id=\"T_dd4fa_row18_col1\" class=\"data row18 col1\" >0</td>\n",
       "            </tr>\n",
       "            <tr>\n",
       "                        <th id=\"T_dd4fa_level0_row19\" class=\"row_heading level0 row19\" >19</th>\n",
       "                        <td id=\"T_dd4fa_row19_col0\" class=\"data row19 col0\" >0</td>\n",
       "                        <td id=\"T_dd4fa_row19_col1\" class=\"data row19 col1\" >0</td>\n",
       "            </tr>\n",
       "    </tbody></table>"
      ],
      "text/plain": [
       "<pandas.io.formats.style.Styler at 0x7fd53580a400>"
      ]
     },
     "execution_count": 31,
     "metadata": {},
     "output_type": "execute_result"
    }
   ],
   "source": [
    "df.iloc[:20].style.background_gradient(cmap=\"Blues\")"
   ]
  },
  {
   "cell_type": "code",
   "execution_count": null,
   "metadata": {},
   "outputs": [],
   "source": []
  },
  {
   "cell_type": "markdown",
   "metadata": {},
   "source": [
    "## Métricas"
   ]
  },
  {
   "cell_type": "code",
   "execution_count": 22,
   "metadata": {},
   "outputs": [
    {
     "data": {
      "text/plain": [
       "0.8409703504043127"
      ]
     },
     "execution_count": 22,
     "metadata": {},
     "output_type": "execute_result"
    }
   ],
   "source": [
    "accuracy_score(y_test, y_pred)"
   ]
  },
  {
   "cell_type": "code",
   "execution_count": 23,
   "metadata": {},
   "outputs": [
    {
     "data": {
      "text/plain": [
       "0.0"
      ]
     },
     "execution_count": 23,
     "metadata": {},
     "output_type": "execute_result"
    }
   ],
   "source": [
    "precision_score(y_test, y_pred, zero_division=1)"
   ]
  },
  {
   "cell_type": "code",
   "execution_count": 24,
   "metadata": {},
   "outputs": [
    {
     "data": {
      "text/plain": [
       "0.0"
      ]
     },
     "execution_count": 24,
     "metadata": {},
     "output_type": "execute_result"
    }
   ],
   "source": [
    "recall_score(y_test, y_pred)"
   ]
  },
  {
   "cell_type": "code",
   "execution_count": 25,
   "metadata": {},
   "outputs": [
    {
     "data": {
      "text/plain": [
       "0.0"
      ]
     },
     "execution_count": 25,
     "metadata": {},
     "output_type": "execute_result"
    }
   ],
   "source": [
    "f1_score(y_test, y_pred)"
   ]
  },
  {
   "cell_type": "code",
   "execution_count": 32,
   "metadata": {},
   "outputs": [
    {
     "data": {
      "text/plain": [
       "(312, 1, 58, 0)"
      ]
     },
     "execution_count": 32,
     "metadata": {},
     "output_type": "execute_result"
    }
   ],
   "source": [
    "tn, fp, fn, tp = confusion_matrix(y_test, y_pred).ravel() #, normalize='all')\n",
    "(tn, fp, fn, tp)"
   ]
  },
  {
   "cell_type": "code",
   "execution_count": 33,
   "metadata": {},
   "outputs": [
    {
     "data": {
      "text/plain": [
       "array([[312,   1],\n",
       "       [ 58,   0]])"
      ]
     },
     "execution_count": 33,
     "metadata": {},
     "output_type": "execute_result"
    }
   ],
   "source": [
    "confusion_matrix(y_test, y_pred)"
   ]
  },
  {
   "cell_type": "code",
   "execution_count": null,
   "metadata": {},
   "outputs": [],
   "source": []
  },
  {
   "cell_type": "code",
   "execution_count": 16,
   "metadata": {},
   "outputs": [
    {
     "name": "stdout",
     "output_type": "stream",
     "text": [
      "⦁ y_test:\n",
      "\n",
      "[0 0 0 1 0 0 0 0 0 0 0 1 0 0 0 0 0 1 1 0 0 0 0 0 0 0 0 0 0 0 0 1 0 0 0 0 0\n",
      " 0 1 0 0 0 0 1 0 0 0 0 0 1 0 1 0 0 0 1 0 0 0 0 0 0 0 0 0 0 1 0 1 0 1 0 0 1\n",
      " 0 0 1 1 0 0 0 0 1 0 1 0 0 0 0 0 0 0 1 0 0 0 1 0 0 0 0 0 0 0 0 0 0 0 0 0 0\n",
      " 1 0 0 0 0 0 1 0 0 0 0 0 0 0 0 0 0 0 0 1 0 0 0 0 0 0 0 0 1 0 0 0 0 0 0 0 0\n",
      " 0 0 0 0 0 1 0 0 0 0 0 0 0 0 0 0 0 0 1 1 0 0 0 0 0 0 0 0 0 0 0 0 0 0 0 0 0\n",
      " 0 0 0 0 0 0 0 0 0 0 0 0 0 0 0 0 0 0 0 0 0 0 0 0 1 0 1 0 0 0 0 0 0 0 0 0 0\n",
      " 0 0 1 1 0 1 0 0 0 1 0 0 0 0 0 0 0 1 0 0 0 1 0 0 0 0 0 1 0 0 1 0 0 0 0 0 1\n",
      " 0 0 0 0 0 0 1 0 0 1 0 0 0 0 1 0 1 0 0 0 0 0 0 0 0 0 0 1 0 0 0 0 0 0 1 0 0\n",
      " 0 0 0 0 0 1 0 0 0 0 1 0 0 1 0 1 0 0 0 0 1 0 0 0 0 0 0 0 1 0 0 0 0 0 1 0 0\n",
      " 1 0 0 1 0 0 0 0 0 0 0 0 0 0 0 0 0 1 0 1 0 0 0 0 0 0 0 0 1 0 0 0 0 0 1 0 0\n",
      " 1]\n",
      "\n",
      "---------------------------------------------------------------------------\n",
      "\n",
      "⦁ y_pred:\n",
      "\n",
      "[0 0 0 0 0 0 0 0 0 0 0 0 0 0 0 0 0 0 0 0 0 0 0 0 0 0 0 0 0 0 0 0 0 0 0 0 0\n",
      " 0 0 0 0 0 0 0 0 0 0 0 0 0 0 0 0 0 1 0 0 0 0 0 0 0 0 0 0 0 0 0 0 0 0 0 0 0\n",
      " 0 0 0 0 0 0 0 0 0 0 0 0 0 0 0 0 0 0 0 0 0 0 0 0 0 0 0 0 0 0 0 0 0 0 0 0 0\n",
      " 0 0 0 0 0 0 0 0 0 0 0 0 0 0 0 0 0 0 0 0 0 0 0 0 0 0 0 0 0 0 0 0 0 0 0 0 0\n",
      " 0 0 0 0 0 0 0 0 0 0 0 0 0 0 0 0 0 0 0 0 0 0 0 0 0 0 0 0 0 0 0 0 0 0 0 0 0\n",
      " 0 0 0 0 0 0 0 0 0 0 0 0 0 0 0 0 0 0 0 0 0 0 0 0 0 0 0 0 0 0 0 0 0 0 0 0 0\n",
      " 0 0 0 0 0 0 0 0 0 0 0 0 0 0 0 0 0 0 0 0 0 0 0 0 0 0 0 0 0 0 0 0 0 0 0 0 0\n",
      " 0 0 0 0 0 0 0 0 0 0 0 0 0 0 0 0 0 0 0 0 0 0 0 0 0 0 0 0 0 0 0 0 0 0 0 0 0\n",
      " 0 0 0 0 0 0 0 0 0 0 0 0 0 0 0 0 0 0 0 0 0 0 0 0 0 0 0 0 0 0 0 0 0 0 0 0 0\n",
      " 0 0 0 0 0 0 0 0 0 0 0 0 0 0 0 0 0 0 0 0 0 0 0 0 0 0 0 0 0 0 0 0 0 0 0 0 0\n",
      " 0]\n"
     ]
    }
   ],
   "source": [
    "print(f'⦁ y_test:\\n\\n{np.array(y_test)}\\n')\n",
    "print('---'*25)\n",
    "print(f'\\n⦁ y_pred:\\n\\n{y_pred}')"
   ]
  },
  {
   "cell_type": "code",
   "execution_count": 18,
   "metadata": {},
   "outputs": [],
   "source": [
    "df = pd.DataFrame(data=y_pred, columns=['y_pred'])"
   ]
  },
  {
   "cell_type": "code",
   "execution_count": 19,
   "metadata": {},
   "outputs": [],
   "source": [
    "df['y_test'] = np.array(y_test)"
   ]
  },
  {
   "cell_type": "code",
   "execution_count": 20,
   "metadata": {},
   "outputs": [],
   "source": [
    "df = df[['y_test', 'y_pred']]"
   ]
  },
  {
   "cell_type": "code",
   "execution_count": 27,
   "metadata": {},
   "outputs": [
    {
     "data": {
      "text/plain": [
       "(371, 2)"
      ]
     },
     "execution_count": 27,
     "metadata": {},
     "output_type": "execute_result"
    }
   ],
   "source": [
    "df.shape"
   ]
  },
  {
   "cell_type": "code",
   "execution_count": 31,
   "metadata": {},
   "outputs": [
    {
     "data": {
      "text/html": [
       "<style  type=\"text/css\" >\n",
       "#T_dd4fa_row0_col0,#T_dd4fa_row0_col1,#T_dd4fa_row1_col0,#T_dd4fa_row1_col1,#T_dd4fa_row2_col0,#T_dd4fa_row2_col1,#T_dd4fa_row3_col1,#T_dd4fa_row4_col0,#T_dd4fa_row4_col1,#T_dd4fa_row5_col0,#T_dd4fa_row5_col1,#T_dd4fa_row6_col0,#T_dd4fa_row6_col1,#T_dd4fa_row7_col0,#T_dd4fa_row7_col1,#T_dd4fa_row8_col0,#T_dd4fa_row8_col1,#T_dd4fa_row9_col0,#T_dd4fa_row9_col1,#T_dd4fa_row10_col0,#T_dd4fa_row10_col1,#T_dd4fa_row11_col1,#T_dd4fa_row12_col0,#T_dd4fa_row12_col1,#T_dd4fa_row13_col0,#T_dd4fa_row13_col1,#T_dd4fa_row14_col0,#T_dd4fa_row14_col1,#T_dd4fa_row15_col0,#T_dd4fa_row15_col1,#T_dd4fa_row16_col0,#T_dd4fa_row16_col1,#T_dd4fa_row17_col1,#T_dd4fa_row18_col1,#T_dd4fa_row19_col0,#T_dd4fa_row19_col1{\n",
       "            background-color:  #f7fbff;\n",
       "            color:  #000000;\n",
       "        }#T_dd4fa_row3_col0,#T_dd4fa_row11_col0,#T_dd4fa_row17_col0,#T_dd4fa_row18_col0{\n",
       "            background-color:  #08306b;\n",
       "            color:  #f1f1f1;\n",
       "        }</style><table id=\"T_dd4fa_\" ><thead>    <tr>        <th class=\"blank level0\" ></th>        <th class=\"col_heading level0 col0\" >y_test</th>        <th class=\"col_heading level0 col1\" >y_pred</th>    </tr></thead><tbody>\n",
       "                <tr>\n",
       "                        <th id=\"T_dd4fa_level0_row0\" class=\"row_heading level0 row0\" >0</th>\n",
       "                        <td id=\"T_dd4fa_row0_col0\" class=\"data row0 col0\" >0</td>\n",
       "                        <td id=\"T_dd4fa_row0_col1\" class=\"data row0 col1\" >0</td>\n",
       "            </tr>\n",
       "            <tr>\n",
       "                        <th id=\"T_dd4fa_level0_row1\" class=\"row_heading level0 row1\" >1</th>\n",
       "                        <td id=\"T_dd4fa_row1_col0\" class=\"data row1 col0\" >0</td>\n",
       "                        <td id=\"T_dd4fa_row1_col1\" class=\"data row1 col1\" >0</td>\n",
       "            </tr>\n",
       "            <tr>\n",
       "                        <th id=\"T_dd4fa_level0_row2\" class=\"row_heading level0 row2\" >2</th>\n",
       "                        <td id=\"T_dd4fa_row2_col0\" class=\"data row2 col0\" >0</td>\n",
       "                        <td id=\"T_dd4fa_row2_col1\" class=\"data row2 col1\" >0</td>\n",
       "            </tr>\n",
       "            <tr>\n",
       "                        <th id=\"T_dd4fa_level0_row3\" class=\"row_heading level0 row3\" >3</th>\n",
       "                        <td id=\"T_dd4fa_row3_col0\" class=\"data row3 col0\" >1</td>\n",
       "                        <td id=\"T_dd4fa_row3_col1\" class=\"data row3 col1\" >0</td>\n",
       "            </tr>\n",
       "            <tr>\n",
       "                        <th id=\"T_dd4fa_level0_row4\" class=\"row_heading level0 row4\" >4</th>\n",
       "                        <td id=\"T_dd4fa_row4_col0\" class=\"data row4 col0\" >0</td>\n",
       "                        <td id=\"T_dd4fa_row4_col1\" class=\"data row4 col1\" >0</td>\n",
       "            </tr>\n",
       "            <tr>\n",
       "                        <th id=\"T_dd4fa_level0_row5\" class=\"row_heading level0 row5\" >5</th>\n",
       "                        <td id=\"T_dd4fa_row5_col0\" class=\"data row5 col0\" >0</td>\n",
       "                        <td id=\"T_dd4fa_row5_col1\" class=\"data row5 col1\" >0</td>\n",
       "            </tr>\n",
       "            <tr>\n",
       "                        <th id=\"T_dd4fa_level0_row6\" class=\"row_heading level0 row6\" >6</th>\n",
       "                        <td id=\"T_dd4fa_row6_col0\" class=\"data row6 col0\" >0</td>\n",
       "                        <td id=\"T_dd4fa_row6_col1\" class=\"data row6 col1\" >0</td>\n",
       "            </tr>\n",
       "            <tr>\n",
       "                        <th id=\"T_dd4fa_level0_row7\" class=\"row_heading level0 row7\" >7</th>\n",
       "                        <td id=\"T_dd4fa_row7_col0\" class=\"data row7 col0\" >0</td>\n",
       "                        <td id=\"T_dd4fa_row7_col1\" class=\"data row7 col1\" >0</td>\n",
       "            </tr>\n",
       "            <tr>\n",
       "                        <th id=\"T_dd4fa_level0_row8\" class=\"row_heading level0 row8\" >8</th>\n",
       "                        <td id=\"T_dd4fa_row8_col0\" class=\"data row8 col0\" >0</td>\n",
       "                        <td id=\"T_dd4fa_row8_col1\" class=\"data row8 col1\" >0</td>\n",
       "            </tr>\n",
       "            <tr>\n",
       "                        <th id=\"T_dd4fa_level0_row9\" class=\"row_heading level0 row9\" >9</th>\n",
       "                        <td id=\"T_dd4fa_row9_col0\" class=\"data row9 col0\" >0</td>\n",
       "                        <td id=\"T_dd4fa_row9_col1\" class=\"data row9 col1\" >0</td>\n",
       "            </tr>\n",
       "            <tr>\n",
       "                        <th id=\"T_dd4fa_level0_row10\" class=\"row_heading level0 row10\" >10</th>\n",
       "                        <td id=\"T_dd4fa_row10_col0\" class=\"data row10 col0\" >0</td>\n",
       "                        <td id=\"T_dd4fa_row10_col1\" class=\"data row10 col1\" >0</td>\n",
       "            </tr>\n",
       "            <tr>\n",
       "                        <th id=\"T_dd4fa_level0_row11\" class=\"row_heading level0 row11\" >11</th>\n",
       "                        <td id=\"T_dd4fa_row11_col0\" class=\"data row11 col0\" >1</td>\n",
       "                        <td id=\"T_dd4fa_row11_col1\" class=\"data row11 col1\" >0</td>\n",
       "            </tr>\n",
       "            <tr>\n",
       "                        <th id=\"T_dd4fa_level0_row12\" class=\"row_heading level0 row12\" >12</th>\n",
       "                        <td id=\"T_dd4fa_row12_col0\" class=\"data row12 col0\" >0</td>\n",
       "                        <td id=\"T_dd4fa_row12_col1\" class=\"data row12 col1\" >0</td>\n",
       "            </tr>\n",
       "            <tr>\n",
       "                        <th id=\"T_dd4fa_level0_row13\" class=\"row_heading level0 row13\" >13</th>\n",
       "                        <td id=\"T_dd4fa_row13_col0\" class=\"data row13 col0\" >0</td>\n",
       "                        <td id=\"T_dd4fa_row13_col1\" class=\"data row13 col1\" >0</td>\n",
       "            </tr>\n",
       "            <tr>\n",
       "                        <th id=\"T_dd4fa_level0_row14\" class=\"row_heading level0 row14\" >14</th>\n",
       "                        <td id=\"T_dd4fa_row14_col0\" class=\"data row14 col0\" >0</td>\n",
       "                        <td id=\"T_dd4fa_row14_col1\" class=\"data row14 col1\" >0</td>\n",
       "            </tr>\n",
       "            <tr>\n",
       "                        <th id=\"T_dd4fa_level0_row15\" class=\"row_heading level0 row15\" >15</th>\n",
       "                        <td id=\"T_dd4fa_row15_col0\" class=\"data row15 col0\" >0</td>\n",
       "                        <td id=\"T_dd4fa_row15_col1\" class=\"data row15 col1\" >0</td>\n",
       "            </tr>\n",
       "            <tr>\n",
       "                        <th id=\"T_dd4fa_level0_row16\" class=\"row_heading level0 row16\" >16</th>\n",
       "                        <td id=\"T_dd4fa_row16_col0\" class=\"data row16 col0\" >0</td>\n",
       "                        <td id=\"T_dd4fa_row16_col1\" class=\"data row16 col1\" >0</td>\n",
       "            </tr>\n",
       "            <tr>\n",
       "                        <th id=\"T_dd4fa_level0_row17\" class=\"row_heading level0 row17\" >17</th>\n",
       "                        <td id=\"T_dd4fa_row17_col0\" class=\"data row17 col0\" >1</td>\n",
       "                        <td id=\"T_dd4fa_row17_col1\" class=\"data row17 col1\" >0</td>\n",
       "            </tr>\n",
       "            <tr>\n",
       "                        <th id=\"T_dd4fa_level0_row18\" class=\"row_heading level0 row18\" >18</th>\n",
       "                        <td id=\"T_dd4fa_row18_col0\" class=\"data row18 col0\" >1</td>\n",
       "                        <td id=\"T_dd4fa_row18_col1\" class=\"data row18 col1\" >0</td>\n",
       "            </tr>\n",
       "            <tr>\n",
       "                        <th id=\"T_dd4fa_level0_row19\" class=\"row_heading level0 row19\" >19</th>\n",
       "                        <td id=\"T_dd4fa_row19_col0\" class=\"data row19 col0\" >0</td>\n",
       "                        <td id=\"T_dd4fa_row19_col1\" class=\"data row19 col1\" >0</td>\n",
       "            </tr>\n",
       "    </tbody></table>"
      ],
      "text/plain": [
       "<pandas.io.formats.style.Styler at 0x7fd53580a400>"
      ]
     },
     "execution_count": 31,
     "metadata": {},
     "output_type": "execute_result"
    }
   ],
   "source": [
    "df.iloc[:20].style.background_gradient(cmap=\"Blues\")"
   ]
  },
  {
   "cell_type": "code",
   "execution_count": null,
   "metadata": {},
   "outputs": [],
   "source": []
  },
  {
   "cell_type": "markdown",
   "metadata": {},
   "source": [
    "## Métricas"
   ]
  },
  {
   "cell_type": "code",
   "execution_count": 22,
   "metadata": {},
   "outputs": [
    {
     "data": {
      "text/plain": [
       "0.8409703504043127"
      ]
     },
     "execution_count": 22,
     "metadata": {},
     "output_type": "execute_result"
    }
   ],
   "source": [
    "accuracy_score(y_test, y_pred)"
   ]
  },
  {
   "cell_type": "code",
   "execution_count": 23,
   "metadata": {},
   "outputs": [
    {
     "data": {
      "text/plain": [
       "0.0"
      ]
     },
     "execution_count": 23,
     "metadata": {},
     "output_type": "execute_result"
    }
   ],
   "source": [
    "precision_score(y_test, y_pred, zero_division=1)"
   ]
  },
  {
   "cell_type": "code",
   "execution_count": 24,
   "metadata": {},
   "outputs": [
    {
     "data": {
      "text/plain": [
       "0.0"
      ]
     },
     "execution_count": 24,
     "metadata": {},
     "output_type": "execute_result"
    }
   ],
   "source": [
    "recall_score(y_test, y_pred)"
   ]
  },
  {
   "cell_type": "code",
   "execution_count": 25,
   "metadata": {},
   "outputs": [
    {
     "data": {
      "text/plain": [
       "0.0"
      ]
     },
     "execution_count": 25,
     "metadata": {},
     "output_type": "execute_result"
    }
   ],
   "source": [
    "f1_score(y_test, y_pred)"
   ]
  },
  {
   "cell_type": "code",
   "execution_count": 32,
   "metadata": {},
   "outputs": [
    {
     "data": {
      "text/plain": [
       "(312, 1, 58, 0)"
      ]
     },
     "execution_count": 32,
     "metadata": {},
     "output_type": "execute_result"
    }
   ],
   "source": [
    "tn, fp, fn, tp = confusion_matrix(y_test, y_pred).ravel() #, normalize='all')\n",
    "(tn, fp, fn, tp)"
   ]
  },
  {
   "cell_type": "code",
   "execution_count": 33,
   "metadata": {},
   "outputs": [
    {
     "data": {
      "text/plain": [
       "array([[312,   1],\n",
       "       [ 58,   0]])"
      ]
     },
     "execution_count": 33,
     "metadata": {},
     "output_type": "execute_result"
    }
   ],
   "source": [
    "confusion_matrix(y_test, y_pred)"
   ]
  },
  {
   "cell_type": "code",
   "execution_count": null,
   "metadata": {},
   "outputs": [],
   "source": []
  },
  {
   "cell_type": "markdown",
   "metadata": {},
   "source": [
    "### Ejercicio 2.2: Ajuste de Hiperparámetros\n",
    "\n",
    "Seleccionar valores para los hiperparámetros principales del SGDClassifier. Como mínimo, probar diferentes funciones de:  \n",
    "- loss  \n",
    "- tasas de entrenamiento (learning_rate)  \n",
    "- tasas de regularización\n",
    "\n",
    "Para ello, usar **grid-search** y **5-fold cross-validation** sobre el conjunto de entrenamiento para explorar muchas combinaciones posibles de valores.\n",
    "\n",
    "Reportar **accuracy**, **promedio** y **varianza** para todas las configuraciones.\n",
    "\n",
    "Para la **mejor configuración** encontrada, evaluar sobre el conjunto de **entrenamiento** y sobre el conjunto de **evaluación**, reportando:\n",
    "- Accuracy\n",
    "- Precision\n",
    "- Recall\n",
    "- F1\n",
    "- matriz de confusión\n",
    "\n",
    "Documentación:\n",
    "- https://scikit-learn.org/stable/modules/grid_search.html\n",
    "- https://scikit-learn.org/stable/modules/generated/sklearn.model_selection.GridSearchCV.html"
   ]
  },
  {
   "cell_type": "code",
   "execution_count": null,
   "metadata": {},
   "outputs": [],
   "source": []
  },
  {
   "cell_type": "markdown",
   "metadata": {},
   "source": [
    "# Solución basada en notebook de prácticos _\"06 Selección de Modelos.ipynb\"_"
   ]
  },
  {
   "cell_type": "markdown",
   "metadata": {},
   "source": [
    "- loss = 'log'  \n",
    "- learning_rate = "
   ]
  },
  {
   "cell_type": "code",
   "execution_count": 307,
   "metadata": {},
   "outputs": [],
   "source": [
    "param_dist = {\n",
    "    'loss': [\n",
    "        'hinge',        # SVM\n",
    "        'log',          # logistic regression\n",
    "         'perceptron'   \n",
    "    ],\n",
    "    'alpha': loguniform(1e-4, 1e2),  # de 0.0001 a 100.0\n",
    "    'learning_rate': [\n",
    "        'constant',\n",
    "        'optimal',\n",
    "        #'invscaling'\n",
    "    ],\n",
    "    'eta0': uniform(\n",
    "        low=0, high=100, size=30\n",
    "    ) # The initial learning rate for the ‘constant’, ‘invscaling’ or ‘adaptive’ schedules. Values must be in the range (0.0, inf).\n",
    "}"
   ]
  },
  {
   "cell_type": "markdown",
   "metadata": {},
   "source": [
    "Al parámetro alpha lo va a obtener desde muestras de una función de probabilidad tipo loguniform:"
   ]
  },
  {
   "cell_type": "markdown",
   "metadata": {},
   "source": [
    "Podemos muestrear mano con [ParameterSampler](https://scikit-learn.org/stable/modules/generated/sklearn.model_selection.ParameterSampler.html):"
   ]
  },
  {
   "cell_type": "code",
   "execution_count": 308,
   "metadata": {},
   "outputs": [
    {
     "name": "stdout",
     "output_type": "stream",
     "text": [
      "{'alpha': 57.557751524131014, 'eta0': 41.927101146956524, 'learning_rate': 'optimal', 'loss': 'log'}\n",
      "{'alpha': 0.008033954165751046, 'eta0': 45.185320215548295, 'learning_rate': 'optimal', 'loss': 'hinge'}\n",
      "{'alpha': 5.285491798689512, 'eta0': 85.86353874035476, 'learning_rate': 'optimal', 'loss': 'log'}\n",
      "{'alpha': 0.00013238773901738391, 'eta0': 54.69816384069597, 'learning_rate': 'optimal', 'loss': 'log'}\n",
      "{'alpha': 25.554670170487277, 'eta0': 41.927101146956524, 'learning_rate': 'constant', 'loss': 'hinge'}\n",
      "{'alpha': 1.0735922690147037, 'eta0': 27.69758381965799, 'learning_rate': 'constant', 'loss': 'perceptron'}\n",
      "{'alpha': 22.94487109562289, 'eta0': 33.029560957255434, 'learning_rate': 'constant', 'loss': 'log'}\n",
      "{'alpha': 0.23692138799563706, 'eta0': 14.697997475024815, 'learning_rate': 'constant', 'loss': 'hinge'}\n",
      "{'alpha': 0.011723475683154473, 'eta0': 27.69758381965799, 'learning_rate': 'optimal', 'loss': 'hinge'}\n",
      "{'alpha': 52.55097933906439, 'eta0': 4.610963998660223, 'learning_rate': 'constant', 'loss': 'log'}\n",
      "{'alpha': 0.0013476017911593302, 'eta0': 39.01028911853758, 'learning_rate': 'optimal', 'loss': 'perceptron'}\n",
      "{'alpha': 0.16146752834173977, 'eta0': 41.927101146956524, 'learning_rate': 'constant', 'loss': 'log'}\n",
      "{'alpha': 12.646413550267802, 'eta0': 45.185320215548295, 'learning_rate': 'constant', 'loss': 'log'}\n",
      "{'alpha': 0.14065297404680147, 'eta0': 46.66712189188986, 'learning_rate': 'constant', 'loss': 'perceptron'}\n",
      "{'alpha': 0.003782262031839409, 'eta0': 45.185320215548295, 'learning_rate': 'optimal', 'loss': 'hinge'}\n",
      "{'alpha': 0.47563423543814143, 'eta0': 4.610963998660223, 'learning_rate': 'optimal', 'loss': 'perceptron'}\n",
      "{'alpha': 0.6626916348706136, 'eta0': 97.36661053823089, 'learning_rate': 'constant', 'loss': 'perceptron'}\n",
      "{'alpha': 0.0002014628625351724, 'eta0': 41.927101146956524, 'learning_rate': 'constant', 'loss': 'hinge'}\n",
      "{'alpha': 1.5737351222989504, 'eta0': 89.32798391716963, 'learning_rate': 'constant', 'loss': 'perceptron'}\n",
      "{'alpha': 4.336192226377509, 'eta0': 9.954076099585906, 'learning_rate': 'optimal', 'loss': 'perceptron'}\n",
      "{'alpha': 0.18238895563706703, 'eta0': 45.185320215548295, 'learning_rate': 'optimal', 'loss': 'perceptron'}\n",
      "{'alpha': 1.8134140917712471, 'eta0': 97.36661053823089, 'learning_rate': 'constant', 'loss': 'perceptron'}\n",
      "{'alpha': 0.005400834213232787, 'eta0': 41.927101146956524, 'learning_rate': 'optimal', 'loss': 'perceptron'}\n",
      "{'alpha': 0.2394684910116634, 'eta0': 45.51618748249435, 'learning_rate': 'optimal', 'loss': 'perceptron'}\n",
      "{'alpha': 0.004509960766894767, 'eta0': 48.945538376978014, 'learning_rate': 'constant', 'loss': 'hinge'}\n",
      "{'alpha': 3.00799658161401, 'eta0': 69.8176211189354, 'learning_rate': 'constant', 'loss': 'perceptron'}\n",
      "{'alpha': 0.21375432874646771, 'eta0': 58.951118316633014, 'learning_rate': 'constant', 'loss': 'log'}\n",
      "{'alpha': 5.105495142458509, 'eta0': 62.82798219133501, 'learning_rate': 'optimal', 'loss': 'hinge'}\n",
      "{'alpha': 0.00890319945127433, 'eta0': 54.84159259079189, 'learning_rate': 'constant', 'loss': 'hinge'}\n",
      "{'alpha': 0.267090151320671, 'eta0': 62.82798219133501, 'learning_rate': 'optimal', 'loss': 'perceptron'}\n"
     ]
    }
   ],
   "source": [
    "for params in ParameterSampler(param_dist, 30, random_state=rint):\n",
    "    print(params)\n",
    "    model = SGDClassifier(**params, random_state=rint)"
   ]
  },
  {
   "cell_type": "markdown",
   "metadata": {},
   "source": [
    "### Búsqueda Aleatoria + Validación Cruzada"
   ]
  },
  {
   "cell_type": "markdown",
   "metadata": {},
   "source": [
    "También podemos dejar que Sklearn se encargue de todo con [RandomizedSearchCV](https://scikit-learn.org/stable/modules/generated/sklearn.model_selection.RandomizedSearchCV.html):\n"
   ]
  },
  {
   "cell_type": "code",
   "execution_count": 309,
   "metadata": {},
   "outputs": [],
   "source": [
    "model = SGDClassifier(random_state=rint)\n",
    "cv = RandomizedSearchCV(model, param_dist, n_iter=30, cv=5, random_state=rint)\n",
    "cv.fit(X, y);"
   ]
  },
  {
   "cell_type": "code",
   "execution_count": 310,
   "metadata": {},
   "outputs": [],
   "source": [
    "results = cv.cv_results_"
   ]
  },
  {
   "cell_type": "code",
   "execution_count": 311,
   "metadata": {},
   "outputs": [
    {
     "data": {
      "text/plain": [
       "['mean_fit_time',\n",
       " 'std_fit_time',\n",
       " 'mean_score_time',\n",
       " 'std_score_time',\n",
       " 'param_alpha',\n",
       " 'param_eta0',\n",
       " 'param_learning_rate',\n",
       " 'param_loss',\n",
       " 'params',\n",
       " 'split0_test_score',\n",
       " 'split1_test_score',\n",
       " 'split2_test_score',\n",
       " 'split3_test_score',\n",
       " 'split4_test_score',\n",
       " 'mean_test_score',\n",
       " 'std_test_score',\n",
       " 'rank_test_score']"
      ]
     },
     "execution_count": 311,
     "metadata": {},
     "output_type": "execute_result"
    }
   ],
   "source": [
    "list(results.keys())"
   ]
  },
  {
   "cell_type": "code",
   "execution_count": 312,
   "metadata": {},
   "outputs": [
    {
     "data": {
      "text/html": [
       "<div>\n",
       "<style scoped>\n",
       "    .dataframe tbody tr th:only-of-type {\n",
       "        vertical-align: middle;\n",
       "    }\n",
       "\n",
       "    .dataframe tbody tr th {\n",
       "        vertical-align: top;\n",
       "    }\n",
       "\n",
       "    .dataframe thead th {\n",
       "        text-align: right;\n",
       "    }\n",
       "</style>\n",
       "<table border=\"1\" class=\"dataframe\">\n",
       "  <thead>\n",
       "    <tr style=\"text-align: right;\">\n",
       "      <th></th>\n",
       "      <th>param_loss</th>\n",
       "      <th>param_alpha</th>\n",
       "      <th>param_learning_rate</th>\n",
       "      <th>param_eta0</th>\n",
       "      <th>mean_test_score</th>\n",
       "      <th>std_test_score</th>\n",
       "      <th>rank_test_score</th>\n",
       "    </tr>\n",
       "  </thead>\n",
       "  <tbody>\n",
       "    <tr>\n",
       "      <th>0</th>\n",
       "      <td>log</td>\n",
       "      <td>57.557752</td>\n",
       "      <td>optimal</td>\n",
       "      <td>41.927101</td>\n",
       "      <td>0.703415</td>\n",
       "      <td>0.260065</td>\n",
       "      <td>28</td>\n",
       "    </tr>\n",
       "    <tr>\n",
       "      <th>1</th>\n",
       "      <td>hinge</td>\n",
       "      <td>0.008034</td>\n",
       "      <td>optimal</td>\n",
       "      <td>45.18532</td>\n",
       "      <td>0.833334</td>\n",
       "      <td>0.000900</td>\n",
       "      <td>1</td>\n",
       "    </tr>\n",
       "    <tr>\n",
       "      <th>2</th>\n",
       "      <td>log</td>\n",
       "      <td>5.285492</td>\n",
       "      <td>optimal</td>\n",
       "      <td>85.863539</td>\n",
       "      <td>0.568644</td>\n",
       "      <td>0.319162</td>\n",
       "      <td>30</td>\n",
       "    </tr>\n",
       "    <tr>\n",
       "      <th>3</th>\n",
       "      <td>log</td>\n",
       "      <td>0.000132</td>\n",
       "      <td>optimal</td>\n",
       "      <td>54.698164</td>\n",
       "      <td>0.700181</td>\n",
       "      <td>0.266534</td>\n",
       "      <td>29</td>\n",
       "    </tr>\n",
       "    <tr>\n",
       "      <th>4</th>\n",
       "      <td>hinge</td>\n",
       "      <td>25.55467</td>\n",
       "      <td>constant</td>\n",
       "      <td>41.927101</td>\n",
       "      <td>0.833334</td>\n",
       "      <td>0.000900</td>\n",
       "      <td>1</td>\n",
       "    </tr>\n",
       "    <tr>\n",
       "      <th>5</th>\n",
       "      <td>perceptron</td>\n",
       "      <td>1.073592</td>\n",
       "      <td>constant</td>\n",
       "      <td>27.697584</td>\n",
       "      <td>0.833334</td>\n",
       "      <td>0.000900</td>\n",
       "      <td>1</td>\n",
       "    </tr>\n",
       "    <tr>\n",
       "      <th>6</th>\n",
       "      <td>log</td>\n",
       "      <td>22.944871</td>\n",
       "      <td>constant</td>\n",
       "      <td>33.029561</td>\n",
       "      <td>0.833334</td>\n",
       "      <td>0.000900</td>\n",
       "      <td>1</td>\n",
       "    </tr>\n",
       "    <tr>\n",
       "      <th>7</th>\n",
       "      <td>hinge</td>\n",
       "      <td>0.236921</td>\n",
       "      <td>constant</td>\n",
       "      <td>14.697997</td>\n",
       "      <td>0.833334</td>\n",
       "      <td>0.000900</td>\n",
       "      <td>1</td>\n",
       "    </tr>\n",
       "    <tr>\n",
       "      <th>8</th>\n",
       "      <td>hinge</td>\n",
       "      <td>0.011723</td>\n",
       "      <td>optimal</td>\n",
       "      <td>27.697584</td>\n",
       "      <td>0.833334</td>\n",
       "      <td>0.000900</td>\n",
       "      <td>1</td>\n",
       "    </tr>\n",
       "    <tr>\n",
       "      <th>9</th>\n",
       "      <td>log</td>\n",
       "      <td>52.550979</td>\n",
       "      <td>constant</td>\n",
       "      <td>4.610964</td>\n",
       "      <td>0.833334</td>\n",
       "      <td>0.000900</td>\n",
       "      <td>1</td>\n",
       "    </tr>\n",
       "    <tr>\n",
       "      <th>10</th>\n",
       "      <td>perceptron</td>\n",
       "      <td>0.001348</td>\n",
       "      <td>optimal</td>\n",
       "      <td>39.010289</td>\n",
       "      <td>0.833334</td>\n",
       "      <td>0.000900</td>\n",
       "      <td>1</td>\n",
       "    </tr>\n",
       "    <tr>\n",
       "      <th>11</th>\n",
       "      <td>log</td>\n",
       "      <td>0.161468</td>\n",
       "      <td>constant</td>\n",
       "      <td>41.927101</td>\n",
       "      <td>0.833334</td>\n",
       "      <td>0.000900</td>\n",
       "      <td>1</td>\n",
       "    </tr>\n",
       "    <tr>\n",
       "      <th>12</th>\n",
       "      <td>log</td>\n",
       "      <td>12.646414</td>\n",
       "      <td>constant</td>\n",
       "      <td>45.18532</td>\n",
       "      <td>0.833334</td>\n",
       "      <td>0.000900</td>\n",
       "      <td>1</td>\n",
       "    </tr>\n",
       "    <tr>\n",
       "      <th>13</th>\n",
       "      <td>perceptron</td>\n",
       "      <td>0.140653</td>\n",
       "      <td>constant</td>\n",
       "      <td>46.667122</td>\n",
       "      <td>0.833334</td>\n",
       "      <td>0.000900</td>\n",
       "      <td>1</td>\n",
       "    </tr>\n",
       "    <tr>\n",
       "      <th>14</th>\n",
       "      <td>hinge</td>\n",
       "      <td>0.003782</td>\n",
       "      <td>optimal</td>\n",
       "      <td>45.18532</td>\n",
       "      <td>0.833334</td>\n",
       "      <td>0.000900</td>\n",
       "      <td>1</td>\n",
       "    </tr>\n",
       "    <tr>\n",
       "      <th>15</th>\n",
       "      <td>perceptron</td>\n",
       "      <td>0.475634</td>\n",
       "      <td>optimal</td>\n",
       "      <td>4.610964</td>\n",
       "      <td>0.833334</td>\n",
       "      <td>0.000900</td>\n",
       "      <td>1</td>\n",
       "    </tr>\n",
       "    <tr>\n",
       "      <th>16</th>\n",
       "      <td>perceptron</td>\n",
       "      <td>0.662692</td>\n",
       "      <td>constant</td>\n",
       "      <td>97.366611</td>\n",
       "      <td>0.833334</td>\n",
       "      <td>0.000900</td>\n",
       "      <td>1</td>\n",
       "    </tr>\n",
       "    <tr>\n",
       "      <th>17</th>\n",
       "      <td>hinge</td>\n",
       "      <td>0.000201</td>\n",
       "      <td>constant</td>\n",
       "      <td>41.927101</td>\n",
       "      <td>0.831178</td>\n",
       "      <td>0.004621</td>\n",
       "      <td>26</td>\n",
       "    </tr>\n",
       "    <tr>\n",
       "      <th>18</th>\n",
       "      <td>perceptron</td>\n",
       "      <td>1.573735</td>\n",
       "      <td>constant</td>\n",
       "      <td>89.327984</td>\n",
       "      <td>0.833334</td>\n",
       "      <td>0.000900</td>\n",
       "      <td>1</td>\n",
       "    </tr>\n",
       "    <tr>\n",
       "      <th>19</th>\n",
       "      <td>perceptron</td>\n",
       "      <td>4.336192</td>\n",
       "      <td>optimal</td>\n",
       "      <td>9.954076</td>\n",
       "      <td>0.832795</td>\n",
       "      <td>0.001568</td>\n",
       "      <td>25</td>\n",
       "    </tr>\n",
       "    <tr>\n",
       "      <th>20</th>\n",
       "      <td>perceptron</td>\n",
       "      <td>0.182389</td>\n",
       "      <td>optimal</td>\n",
       "      <td>45.18532</td>\n",
       "      <td>0.833334</td>\n",
       "      <td>0.000900</td>\n",
       "      <td>1</td>\n",
       "    </tr>\n",
       "    <tr>\n",
       "      <th>21</th>\n",
       "      <td>perceptron</td>\n",
       "      <td>1.813414</td>\n",
       "      <td>constant</td>\n",
       "      <td>97.366611</td>\n",
       "      <td>0.833334</td>\n",
       "      <td>0.000900</td>\n",
       "      <td>1</td>\n",
       "    </tr>\n",
       "    <tr>\n",
       "      <th>22</th>\n",
       "      <td>perceptron</td>\n",
       "      <td>0.005401</td>\n",
       "      <td>optimal</td>\n",
       "      <td>41.927101</td>\n",
       "      <td>0.833334</td>\n",
       "      <td>0.000900</td>\n",
       "      <td>1</td>\n",
       "    </tr>\n",
       "    <tr>\n",
       "      <th>23</th>\n",
       "      <td>perceptron</td>\n",
       "      <td>0.239468</td>\n",
       "      <td>optimal</td>\n",
       "      <td>45.516187</td>\n",
       "      <td>0.833334</td>\n",
       "      <td>0.000900</td>\n",
       "      <td>1</td>\n",
       "    </tr>\n",
       "    <tr>\n",
       "      <th>24</th>\n",
       "      <td>hinge</td>\n",
       "      <td>0.00451</td>\n",
       "      <td>constant</td>\n",
       "      <td>48.945538</td>\n",
       "      <td>0.833334</td>\n",
       "      <td>0.000900</td>\n",
       "      <td>1</td>\n",
       "    </tr>\n",
       "    <tr>\n",
       "      <th>25</th>\n",
       "      <td>perceptron</td>\n",
       "      <td>3.007997</td>\n",
       "      <td>constant</td>\n",
       "      <td>69.817621</td>\n",
       "      <td>0.833334</td>\n",
       "      <td>0.000900</td>\n",
       "      <td>1</td>\n",
       "    </tr>\n",
       "    <tr>\n",
       "      <th>26</th>\n",
       "      <td>log</td>\n",
       "      <td>0.213754</td>\n",
       "      <td>constant</td>\n",
       "      <td>58.951118</td>\n",
       "      <td>0.833334</td>\n",
       "      <td>0.000900</td>\n",
       "      <td>1</td>\n",
       "    </tr>\n",
       "    <tr>\n",
       "      <th>27</th>\n",
       "      <td>hinge</td>\n",
       "      <td>5.105495</td>\n",
       "      <td>optimal</td>\n",
       "      <td>62.827982</td>\n",
       "      <td>0.831178</td>\n",
       "      <td>0.003554</td>\n",
       "      <td>27</td>\n",
       "    </tr>\n",
       "    <tr>\n",
       "      <th>28</th>\n",
       "      <td>hinge</td>\n",
       "      <td>0.008903</td>\n",
       "      <td>constant</td>\n",
       "      <td>54.841593</td>\n",
       "      <td>0.833334</td>\n",
       "      <td>0.000900</td>\n",
       "      <td>1</td>\n",
       "    </tr>\n",
       "    <tr>\n",
       "      <th>29</th>\n",
       "      <td>perceptron</td>\n",
       "      <td>0.26709</td>\n",
       "      <td>optimal</td>\n",
       "      <td>62.827982</td>\n",
       "      <td>0.833334</td>\n",
       "      <td>0.000900</td>\n",
       "      <td>1</td>\n",
       "    </tr>\n",
       "  </tbody>\n",
       "</table>\n",
       "</div>"
      ],
      "text/plain": [
       "    param_loss param_alpha param_learning_rate param_eta0  mean_test_score  \\\n",
       "0          log   57.557752             optimal  41.927101         0.703415   \n",
       "1        hinge    0.008034             optimal   45.18532         0.833334   \n",
       "2          log    5.285492             optimal  85.863539         0.568644   \n",
       "3          log    0.000132             optimal  54.698164         0.700181   \n",
       "4        hinge    25.55467            constant  41.927101         0.833334   \n",
       "5   perceptron    1.073592            constant  27.697584         0.833334   \n",
       "6          log   22.944871            constant  33.029561         0.833334   \n",
       "7        hinge    0.236921            constant  14.697997         0.833334   \n",
       "8        hinge    0.011723             optimal  27.697584         0.833334   \n",
       "9          log   52.550979            constant   4.610964         0.833334   \n",
       "10  perceptron    0.001348             optimal  39.010289         0.833334   \n",
       "11         log    0.161468            constant  41.927101         0.833334   \n",
       "12         log   12.646414            constant   45.18532         0.833334   \n",
       "13  perceptron    0.140653            constant  46.667122         0.833334   \n",
       "14       hinge    0.003782             optimal   45.18532         0.833334   \n",
       "15  perceptron    0.475634             optimal   4.610964         0.833334   \n",
       "16  perceptron    0.662692            constant  97.366611         0.833334   \n",
       "17       hinge    0.000201            constant  41.927101         0.831178   \n",
       "18  perceptron    1.573735            constant  89.327984         0.833334   \n",
       "19  perceptron    4.336192             optimal   9.954076         0.832795   \n",
       "20  perceptron    0.182389             optimal   45.18532         0.833334   \n",
       "21  perceptron    1.813414            constant  97.366611         0.833334   \n",
       "22  perceptron    0.005401             optimal  41.927101         0.833334   \n",
       "23  perceptron    0.239468             optimal  45.516187         0.833334   \n",
       "24       hinge     0.00451            constant  48.945538         0.833334   \n",
       "25  perceptron    3.007997            constant  69.817621         0.833334   \n",
       "26         log    0.213754            constant  58.951118         0.833334   \n",
       "27       hinge    5.105495             optimal  62.827982         0.831178   \n",
       "28       hinge    0.008903            constant  54.841593         0.833334   \n",
       "29  perceptron     0.26709             optimal  62.827982         0.833334   \n",
       "\n",
       "    std_test_score  rank_test_score  \n",
       "0         0.260065               28  \n",
       "1         0.000900                1  \n",
       "2         0.319162               30  \n",
       "3         0.266534               29  \n",
       "4         0.000900                1  \n",
       "5         0.000900                1  \n",
       "6         0.000900                1  \n",
       "7         0.000900                1  \n",
       "8         0.000900                1  \n",
       "9         0.000900                1  \n",
       "10        0.000900                1  \n",
       "11        0.000900                1  \n",
       "12        0.000900                1  \n",
       "13        0.000900                1  \n",
       "14        0.000900                1  \n",
       "15        0.000900                1  \n",
       "16        0.000900                1  \n",
       "17        0.004621               26  \n",
       "18        0.000900                1  \n",
       "19        0.001568               25  \n",
       "20        0.000900                1  \n",
       "21        0.000900                1  \n",
       "22        0.000900                1  \n",
       "23        0.000900                1  \n",
       "24        0.000900                1  \n",
       "25        0.000900                1  \n",
       "26        0.000900                1  \n",
       "27        0.003554               27  \n",
       "28        0.000900                1  \n",
       "29        0.000900                1  "
      ]
     },
     "execution_count": 312,
     "metadata": {},
     "output_type": "execute_result"
    }
   ],
   "source": [
    "df = pd.DataFrame(results)\n",
    "df[[\n",
    "    'param_loss', 'param_alpha', \n",
    "    'param_learning_rate', 'param_eta0',\n",
    "    'mean_test_score', 'std_test_score', 'rank_test_score'\n",
    "]]"
   ]
  },
  {
   "cell_type": "code",
   "execution_count": 313,
   "metadata": {},
   "outputs": [
    {
     "data": {
      "text/plain": [
       "SGDClassifier(alpha=0.008033954165751046, eta0=45.185320215548295,\n",
       "              random_state=24)"
      ]
     },
     "execution_count": 313,
     "metadata": {},
     "output_type": "execute_result"
    }
   ],
   "source": [
    "cv.best_estimator_"
   ]
  },
  {
   "cell_type": "code",
   "execution_count": 314,
   "metadata": {},
   "outputs": [
    {
     "data": {
      "text/plain": [
       "{'alpha': 0.008033954165751046,\n",
       " 'eta0': 45.185320215548295,\n",
       " 'learning_rate': 'optimal',\n",
       " 'loss': 'hinge'}"
      ]
     },
     "execution_count": 314,
     "metadata": {},
     "output_type": "execute_result"
    }
   ],
   "source": [
    "new_params = cv.best_params_\n",
    "cv.best_params_"
   ]
  },
  {
   "cell_type": "code",
   "execution_count": 315,
   "metadata": {},
   "outputs": [],
   "source": [
    "clf = SGDClassifier(\n",
    "    loss=new_params['loss'],\n",
    "    alpha=new_params['alpha'],\n",
    "    learning_rate=new_params['learning_rate'],\n",
    "    eta0=new_params['eta0'],\n",
    "    penalty='l2', \n",
    "    max_iter=1000, \n",
    "    random_state=rint\n",
    ")\n",
    "clf.fit(X_train, y_train)\n",
    "y_pred = clf.predict(X_test)"
   ]
  },
  {
   "cell_type": "code",
   "execution_count": 316,
   "metadata": {},
   "outputs": [
    {
     "name": "stdout",
     "output_type": "stream",
     "text": [
      "⦁ y_test:\n",
      "\n",
      "[0 0 0 1 0 0 0 0 0 0 0 1 0 0 0 0 0 1 1 0 0 0 0 0 0 0 0 0 0 0 0 1 0 0 0 0 0\n",
      " 0 1 0 0 0 0 1 0 0 0 0 0 1 0 1 0 0 0 1 0 0 0 0 0 0 0 0 0 0 1 0 1 0 1 0 0 1\n",
      " 0 0 1 1 0 0 0 0 1 0 1 0 0 0 0 0 0 0 1 0 0 0 1 0 0 0 0 0 0 0 0 0 0 0 0 0 0\n",
      " 1 0 0 0 0 0 1 0 0 0 0 0 0 0 0 0 0 0 0 1 0 0 0 0 0 0 0 0 1 0 0 0 0 0 0 0 0\n",
      " 0 0 0 0 0 1 0 0 0 0 0 0 0 0 0 0 0 0 1 1 0 0 0 0 0 0 0 0 0 0 0 0 0 0 0 0 0\n",
      " 0 0 0 0 0 0 0 0 0 0 0 0 0 0 0 0 0 0 0 0 0 0 0 0 1 0 1 0 0 0 0 0 0 0 0 0 0\n",
      " 0 0 1 1 0 1 0 0 0 1 0 0 0 0 0 0 0 1 0 0 0 1 0 0 0 0 0 1 0 0 1 0 0 0 0 0 1\n",
      " 0 0 0 0 0 0 1 0 0 1 0 0 0 0 1 0 1 0 0 0 0 0 0 0 0 0 0 1 0 0 0 0 0 0 1 0 0\n",
      " 0 0 0 0 0 1 0 0 0 0 1 0 0 1 0 1 0 0 0 0 1 0 0 0 0 0 0 0 1 0 0 0 0 0 1 0 0\n",
      " 1 0 0 1 0 0 0 0 0 0 0 0 0 0 0 0 0 1 0 1 0 0 0 0 0 0 0 0 1 0 0 0 0 0 1 0 0\n",
      " 1]\n",
      "\n",
      "---------------------------------------------------------------------------\n",
      "\n",
      "⦁ y_pred:\n",
      "\n",
      "[0 0 0 0 0 0 0 0 0 0 0 0 0 1 0 0 0 0 0 0 0 0 0 0 0 0 0 0 0 0 0 0 0 0 0 0 0\n",
      " 0 0 0 0 0 0 0 0 0 0 0 0 0 0 0 0 0 0 0 0 0 0 0 0 0 0 0 1 0 0 0 0 0 0 0 0 0\n",
      " 0 0 0 0 0 0 0 0 0 0 0 0 0 0 0 0 0 0 0 0 0 0 0 0 0 0 0 1 0 0 0 0 0 0 0 1 0\n",
      " 0 0 0 0 0 0 0 0 0 0 0 0 0 0 0 0 0 0 0 0 0 0 0 0 0 0 0 0 0 0 0 0 0 0 0 0 1\n",
      " 0 0 0 0 0 0 0 0 0 0 0 0 0 0 0 0 0 0 0 0 1 0 0 0 0 0 0 0 0 0 0 0 0 0 0 0 0\n",
      " 0 0 0 0 0 0 0 0 0 0 0 0 0 0 0 0 0 0 0 0 0 0 0 0 1 0 0 0 0 0 0 0 0 0 0 0 0\n",
      " 0 0 0 0 0 0 0 0 0 0 0 0 0 0 0 0 0 0 0 0 0 0 0 0 0 0 0 0 0 1 0 0 0 0 0 0 0\n",
      " 0 0 0 0 0 0 0 0 0 0 0 0 0 0 0 1 0 0 0 0 0 0 0 0 0 0 0 0 0 0 0 0 0 0 0 0 0\n",
      " 0 0 1 0 1 0 0 0 0 0 0 0 0 0 0 0 0 0 0 0 0 0 0 0 0 0 0 0 0 0 0 0 0 0 0 0 0\n",
      " 0 0 0 0 0 0 0 0 0 0 0 0 0 0 0 0 0 0 0 0 0 0 0 0 0 0 0 0 0 0 0 0 0 0 0 0 0\n",
      " 0]\n"
     ]
    }
   ],
   "source": [
    "print(f'⦁ y_test:\\n\\n{np.array(y_test)}\\n')\n",
    "print('---'*25)\n",
    "print(f'\\n⦁ y_pred:\\n\\n{y_pred}')"
   ]
  },
  {
   "cell_type": "code",
   "execution_count": 317,
   "metadata": {},
   "outputs": [],
   "source": [
    "df = pd.DataFrame(data=y_pred, columns=['y_pred'])"
   ]
  },
  {
   "cell_type": "code",
   "execution_count": 318,
   "metadata": {},
   "outputs": [],
   "source": [
    "df['y_test'] = np.array(y_test)"
   ]
  },
  {
   "cell_type": "code",
   "execution_count": 319,
   "metadata": {},
   "outputs": [],
   "source": [
    "df = df[['y_test', 'y_pred']]"
   ]
  },
  {
   "cell_type": "code",
   "execution_count": 320,
   "metadata": {},
   "outputs": [
    {
     "data": {
      "text/html": [
       "<style  type=\"text/css\" >\n",
       "#T_7694b_row0_col0,#T_7694b_row0_col1,#T_7694b_row1_col0,#T_7694b_row1_col1,#T_7694b_row2_col0,#T_7694b_row2_col1,#T_7694b_row3_col1,#T_7694b_row4_col0,#T_7694b_row4_col1,#T_7694b_row5_col0,#T_7694b_row5_col1,#T_7694b_row6_col0,#T_7694b_row6_col1,#T_7694b_row7_col0,#T_7694b_row7_col1,#T_7694b_row8_col0,#T_7694b_row8_col1,#T_7694b_row9_col0,#T_7694b_row9_col1,#T_7694b_row10_col0,#T_7694b_row10_col1,#T_7694b_row11_col1,#T_7694b_row12_col0,#T_7694b_row12_col1,#T_7694b_row13_col0,#T_7694b_row14_col0,#T_7694b_row14_col1,#T_7694b_row15_col0,#T_7694b_row15_col1,#T_7694b_row16_col0,#T_7694b_row16_col1,#T_7694b_row17_col1,#T_7694b_row18_col1,#T_7694b_row19_col0,#T_7694b_row19_col1{\n",
       "            background-color:  #f7fbff;\n",
       "            color:  #000000;\n",
       "        }#T_7694b_row3_col0,#T_7694b_row11_col0,#T_7694b_row13_col1,#T_7694b_row17_col0,#T_7694b_row18_col0{\n",
       "            background-color:  #08306b;\n",
       "            color:  #f1f1f1;\n",
       "        }</style><table id=\"T_7694b_\" ><thead>    <tr>        <th class=\"blank level0\" ></th>        <th class=\"col_heading level0 col0\" >y_test</th>        <th class=\"col_heading level0 col1\" >y_pred</th>    </tr></thead><tbody>\n",
       "                <tr>\n",
       "                        <th id=\"T_7694b_level0_row0\" class=\"row_heading level0 row0\" >0</th>\n",
       "                        <td id=\"T_7694b_row0_col0\" class=\"data row0 col0\" >0</td>\n",
       "                        <td id=\"T_7694b_row0_col1\" class=\"data row0 col1\" >0</td>\n",
       "            </tr>\n",
       "            <tr>\n",
       "                        <th id=\"T_7694b_level0_row1\" class=\"row_heading level0 row1\" >1</th>\n",
       "                        <td id=\"T_7694b_row1_col0\" class=\"data row1 col0\" >0</td>\n",
       "                        <td id=\"T_7694b_row1_col1\" class=\"data row1 col1\" >0</td>\n",
       "            </tr>\n",
       "            <tr>\n",
       "                        <th id=\"T_7694b_level0_row2\" class=\"row_heading level0 row2\" >2</th>\n",
       "                        <td id=\"T_7694b_row2_col0\" class=\"data row2 col0\" >0</td>\n",
       "                        <td id=\"T_7694b_row2_col1\" class=\"data row2 col1\" >0</td>\n",
       "            </tr>\n",
       "            <tr>\n",
       "                        <th id=\"T_7694b_level0_row3\" class=\"row_heading level0 row3\" >3</th>\n",
       "                        <td id=\"T_7694b_row3_col0\" class=\"data row3 col0\" >1</td>\n",
       "                        <td id=\"T_7694b_row3_col1\" class=\"data row3 col1\" >0</td>\n",
       "            </tr>\n",
       "            <tr>\n",
       "                        <th id=\"T_7694b_level0_row4\" class=\"row_heading level0 row4\" >4</th>\n",
       "                        <td id=\"T_7694b_row4_col0\" class=\"data row4 col0\" >0</td>\n",
       "                        <td id=\"T_7694b_row4_col1\" class=\"data row4 col1\" >0</td>\n",
       "            </tr>\n",
       "            <tr>\n",
       "                        <th id=\"T_7694b_level0_row5\" class=\"row_heading level0 row5\" >5</th>\n",
       "                        <td id=\"T_7694b_row5_col0\" class=\"data row5 col0\" >0</td>\n",
       "                        <td id=\"T_7694b_row5_col1\" class=\"data row5 col1\" >0</td>\n",
       "            </tr>\n",
       "            <tr>\n",
       "                        <th id=\"T_7694b_level0_row6\" class=\"row_heading level0 row6\" >6</th>\n",
       "                        <td id=\"T_7694b_row6_col0\" class=\"data row6 col0\" >0</td>\n",
       "                        <td id=\"T_7694b_row6_col1\" class=\"data row6 col1\" >0</td>\n",
       "            </tr>\n",
       "            <tr>\n",
       "                        <th id=\"T_7694b_level0_row7\" class=\"row_heading level0 row7\" >7</th>\n",
       "                        <td id=\"T_7694b_row7_col0\" class=\"data row7 col0\" >0</td>\n",
       "                        <td id=\"T_7694b_row7_col1\" class=\"data row7 col1\" >0</td>\n",
       "            </tr>\n",
       "            <tr>\n",
       "                        <th id=\"T_7694b_level0_row8\" class=\"row_heading level0 row8\" >8</th>\n",
       "                        <td id=\"T_7694b_row8_col0\" class=\"data row8 col0\" >0</td>\n",
       "                        <td id=\"T_7694b_row8_col1\" class=\"data row8 col1\" >0</td>\n",
       "            </tr>\n",
       "            <tr>\n",
       "                        <th id=\"T_7694b_level0_row9\" class=\"row_heading level0 row9\" >9</th>\n",
       "                        <td id=\"T_7694b_row9_col0\" class=\"data row9 col0\" >0</td>\n",
       "                        <td id=\"T_7694b_row9_col1\" class=\"data row9 col1\" >0</td>\n",
       "            </tr>\n",
       "            <tr>\n",
       "                        <th id=\"T_7694b_level0_row10\" class=\"row_heading level0 row10\" >10</th>\n",
       "                        <td id=\"T_7694b_row10_col0\" class=\"data row10 col0\" >0</td>\n",
       "                        <td id=\"T_7694b_row10_col1\" class=\"data row10 col1\" >0</td>\n",
       "            </tr>\n",
       "            <tr>\n",
       "                        <th id=\"T_7694b_level0_row11\" class=\"row_heading level0 row11\" >11</th>\n",
       "                        <td id=\"T_7694b_row11_col0\" class=\"data row11 col0\" >1</td>\n",
       "                        <td id=\"T_7694b_row11_col1\" class=\"data row11 col1\" >0</td>\n",
       "            </tr>\n",
       "            <tr>\n",
       "                        <th id=\"T_7694b_level0_row12\" class=\"row_heading level0 row12\" >12</th>\n",
       "                        <td id=\"T_7694b_row12_col0\" class=\"data row12 col0\" >0</td>\n",
       "                        <td id=\"T_7694b_row12_col1\" class=\"data row12 col1\" >0</td>\n",
       "            </tr>\n",
       "            <tr>\n",
       "                        <th id=\"T_7694b_level0_row13\" class=\"row_heading level0 row13\" >13</th>\n",
       "                        <td id=\"T_7694b_row13_col0\" class=\"data row13 col0\" >0</td>\n",
       "                        <td id=\"T_7694b_row13_col1\" class=\"data row13 col1\" >1</td>\n",
       "            </tr>\n",
       "            <tr>\n",
       "                        <th id=\"T_7694b_level0_row14\" class=\"row_heading level0 row14\" >14</th>\n",
       "                        <td id=\"T_7694b_row14_col0\" class=\"data row14 col0\" >0</td>\n",
       "                        <td id=\"T_7694b_row14_col1\" class=\"data row14 col1\" >0</td>\n",
       "            </tr>\n",
       "            <tr>\n",
       "                        <th id=\"T_7694b_level0_row15\" class=\"row_heading level0 row15\" >15</th>\n",
       "                        <td id=\"T_7694b_row15_col0\" class=\"data row15 col0\" >0</td>\n",
       "                        <td id=\"T_7694b_row15_col1\" class=\"data row15 col1\" >0</td>\n",
       "            </tr>\n",
       "            <tr>\n",
       "                        <th id=\"T_7694b_level0_row16\" class=\"row_heading level0 row16\" >16</th>\n",
       "                        <td id=\"T_7694b_row16_col0\" class=\"data row16 col0\" >0</td>\n",
       "                        <td id=\"T_7694b_row16_col1\" class=\"data row16 col1\" >0</td>\n",
       "            </tr>\n",
       "            <tr>\n",
       "                        <th id=\"T_7694b_level0_row17\" class=\"row_heading level0 row17\" >17</th>\n",
       "                        <td id=\"T_7694b_row17_col0\" class=\"data row17 col0\" >1</td>\n",
       "                        <td id=\"T_7694b_row17_col1\" class=\"data row17 col1\" >0</td>\n",
       "            </tr>\n",
       "            <tr>\n",
       "                        <th id=\"T_7694b_level0_row18\" class=\"row_heading level0 row18\" >18</th>\n",
       "                        <td id=\"T_7694b_row18_col0\" class=\"data row18 col0\" >1</td>\n",
       "                        <td id=\"T_7694b_row18_col1\" class=\"data row18 col1\" >0</td>\n",
       "            </tr>\n",
       "            <tr>\n",
       "                        <th id=\"T_7694b_level0_row19\" class=\"row_heading level0 row19\" >19</th>\n",
       "                        <td id=\"T_7694b_row19_col0\" class=\"data row19 col0\" >0</td>\n",
       "                        <td id=\"T_7694b_row19_col1\" class=\"data row19 col1\" >0</td>\n",
       "            </tr>\n",
       "    </tbody></table>"
      ],
      "text/plain": [
       "<pandas.io.formats.style.Styler at 0x7f1de3eeac10>"
      ]
     },
     "execution_count": 320,
     "metadata": {},
     "output_type": "execute_result"
    }
   ],
   "source": [
    "df.iloc[:20].style.background_gradient(cmap=\"Blues\")"
   ]
  },
  {
   "cell_type": "code",
   "execution_count": null,
   "metadata": {},
   "outputs": [],
   "source": []
  },
  {
   "cell_type": "markdown",
   "metadata": {},
   "source": [
    "## Métricas"
   ]
  },
  {
   "cell_type": "code",
   "execution_count": 321,
   "metadata": {},
   "outputs": [
    {
     "data": {
      "text/plain": [
       "0.8194070080862533"
      ]
     },
     "execution_count": 321,
     "metadata": {},
     "output_type": "execute_result"
    }
   ],
   "source": [
    "accuracy_score(y_test, y_pred)"
   ]
  },
  {
   "cell_type": "code",
   "execution_count": 322,
   "metadata": {},
   "outputs": [
    {
     "data": {
      "text/plain": [
       "0.09090909090909091"
      ]
     },
     "execution_count": 322,
     "metadata": {},
     "output_type": "execute_result"
    }
   ],
   "source": [
    "precision_score(y_test, y_pred, zero_division=1)"
   ]
  },
  {
   "cell_type": "code",
   "execution_count": 323,
   "metadata": {},
   "outputs": [
    {
     "data": {
      "text/plain": [
       "0.017241379310344827"
      ]
     },
     "execution_count": 323,
     "metadata": {},
     "output_type": "execute_result"
    }
   ],
   "source": [
    "recall_score(y_test, y_pred)"
   ]
  },
  {
   "cell_type": "code",
   "execution_count": 324,
   "metadata": {},
   "outputs": [
    {
     "data": {
      "text/plain": [
       "0.02898550724637681"
      ]
     },
     "execution_count": 324,
     "metadata": {},
     "output_type": "execute_result"
    }
   ],
   "source": [
    "f1_score(y_test, y_pred)"
   ]
  },
  {
   "cell_type": "code",
   "execution_count": 325,
   "metadata": {},
   "outputs": [
    {
     "data": {
      "text/plain": [
       "array([[303,  10],\n",
       "       [ 57,   1]])"
      ]
     },
     "execution_count": 325,
     "metadata": {},
     "output_type": "execute_result"
    }
   ],
   "source": [
    "confusion_matrix(y_test, y_pred)#, normalize='all')"
   ]
  },
  {
   "cell_type": "code",
   "execution_count": null,
   "metadata": {},
   "outputs": [],
   "source": []
  },
  {
   "cell_type": "markdown",
   "metadata": {},
   "source": [
    "---"
   ]
  },
  {
   "cell_type": "markdown",
   "metadata": {},
   "source": [
    "# Búsqueda propia de la solución"
   ]
  },
  {
   "cell_type": "markdown",
   "metadata": {},
   "source": [
    "### Regresión logística"
   ]
  },
  {
   "cell_type": "markdown",
   "metadata": {},
   "source": [
    "- loss = 'log'  \n",
    "- learning_rate = "
   ]
  },
  {
   "cell_type": "code",
   "execution_count": 398,
   "metadata": {},
   "outputs": [],
   "source": [
    "clf = SGDClassifier(loss='log', penalty='l2', max_iter=1000, random_state=rint)\n",
    "clf.fit(X_train, y_train)\n",
    "y_pred = clf.predict(X_test)"
   ]
  },
  {
   "cell_type": "code",
   "execution_count": 399,
   "metadata": {},
   "outputs": [
    {
     "name": "stdout",
     "output_type": "stream",
     "text": [
      "⦁ y_test:\n",
      "\n",
      "[0 0 0 1 0 0 0 0 0 0 0 1 0 0 0 0 0 1 1 0 0 0 0 0 0 0 0 0 0 0 0 1 0 0 0 0 0\n",
      " 0 1 0 0 0 0 1 0 0 0 0 0 1 0 1 0 0 0 1 0 0 0 0 0 0 0 0 0 0 1 0 1 0 1 0 0 1\n",
      " 0 0 1 1 0 0 0 0 1 0 1 0 0 0 0 0 0 0 1 0 0 0 1 0 0 0 0 0 0 0 0 0 0 0 0 0 0\n",
      " 1 0 0 0 0 0 1 0 0 0 0 0 0 0 0 0 0 0 0 1 0 0 0 0 0 0 0 0 1 0 0 0 0 0 0 0 0\n",
      " 0 0 0 0 0 1 0 0 0 0 0 0 0 0 0 0 0 0 1 1 0 0 0 0 0 0 0 0 0 0 0 0 0 0 0 0 0\n",
      " 0 0 0 0 0 0 0 0 0 0 0 0 0 0 0 0 0 0 0 0 0 0 0 0 1 0 1 0 0 0 0 0 0 0 0 0 0\n",
      " 0 0 1 1 0 1 0 0 0 1 0 0 0 0 0 0 0 1 0 0 0 1 0 0 0 0 0 1 0 0 1 0 0 0 0 0 1\n",
      " 0 0 0 0 0 0 1 0 0 1 0 0 0 0 1 0 1 0 0 0 0 0 0 0 0 0 0 1 0 0 0 0 0 0 1 0 0\n",
      " 0 0 0 0 0 1 0 0 0 0 1 0 0 1 0 1 0 0 0 0 1 0 0 0 0 0 0 0 1 0 0 0 0 0 1 0 0\n",
      " 1 0 0 1 0 0 0 0 0 0 0 0 0 0 0 0 0 1 0 1 0 0 0 0 0 0 0 0 1 0 0 0 0 0 1 0 0\n",
      " 1]\n",
      "\n",
      "---------------------------------------------------------------------------\n",
      "\n",
      "⦁ y_pred:\n",
      "\n",
      "[0 0 0 0 0 0 0 0 0 0 0 0 0 0 0 0 0 0 0 0 0 0 0 0 0 0 0 0 0 0 0 0 0 0 0 0 0\n",
      " 0 0 0 0 0 0 0 0 0 0 0 0 0 0 0 0 0 0 0 0 0 0 0 0 0 0 0 0 0 0 0 0 0 0 0 0 0\n",
      " 0 0 0 0 0 0 0 0 0 0 0 0 0 0 0 0 0 0 0 0 0 0 0 0 0 0 0 0 0 0 0 0 0 0 0 0 0\n",
      " 0 0 0 0 0 0 0 0 0 0 0 0 0 0 0 0 0 0 0 0 0 0 0 0 0 0 0 0 0 0 0 0 0 0 0 0 0\n",
      " 0 0 0 0 0 0 0 0 0 0 0 0 0 0 0 0 0 0 0 0 0 0 0 0 0 0 0 0 0 0 0 0 0 0 0 0 0\n",
      " 0 0 0 0 0 0 0 0 0 0 0 0 0 0 0 0 0 0 0 0 0 0 0 0 0 0 0 0 0 0 0 0 0 0 0 0 0\n",
      " 0 0 0 0 0 0 0 0 0 0 0 0 0 0 0 0 0 0 0 0 0 0 0 0 0 0 0 0 0 0 0 0 0 0 0 0 0\n",
      " 0 0 0 0 0 0 0 0 0 0 0 0 0 0 0 0 0 0 0 0 0 0 0 0 0 0 0 0 0 0 0 0 0 0 0 0 0\n",
      " 0 0 0 0 0 0 0 0 0 0 0 0 0 0 0 0 0 0 0 0 0 0 0 0 0 0 0 0 0 0 0 0 0 0 0 0 0\n",
      " 0 0 0 0 0 0 0 0 0 0 0 0 0 0 0 0 0 0 0 0 0 0 0 0 0 0 0 0 0 0 0 0 0 0 0 0 0\n",
      " 0]\n"
     ]
    }
   ],
   "source": [
    "print(f'⦁ y_test:\\n\\n{np.array(y_test)}\\n')\n",
    "print('---'*25)\n",
    "print(f'\\n⦁ y_pred:\\n\\n{y_pred}')"
   ]
  },
  {
   "cell_type": "code",
   "execution_count": 400,
   "metadata": {},
   "outputs": [
    {
     "data": {
      "text/html": [
       "<style  type=\"text/css\" >\n",
       "#T_19752_row0_col0,#T_19752_row0_col1,#T_19752_row1_col0,#T_19752_row1_col1,#T_19752_row2_col0,#T_19752_row2_col1,#T_19752_row3_col1,#T_19752_row4_col0,#T_19752_row4_col1,#T_19752_row5_col0,#T_19752_row5_col1,#T_19752_row6_col0,#T_19752_row6_col1,#T_19752_row7_col0,#T_19752_row7_col1,#T_19752_row8_col0,#T_19752_row8_col1,#T_19752_row9_col0,#T_19752_row9_col1,#T_19752_row10_col0,#T_19752_row10_col1,#T_19752_row11_col1,#T_19752_row12_col0,#T_19752_row12_col1,#T_19752_row13_col0,#T_19752_row13_col1,#T_19752_row14_col0,#T_19752_row14_col1,#T_19752_row15_col0,#T_19752_row15_col1,#T_19752_row16_col0,#T_19752_row16_col1,#T_19752_row17_col1,#T_19752_row18_col1,#T_19752_row19_col0,#T_19752_row19_col1{\n",
       "            background-color:  #f7fbff;\n",
       "            color:  #000000;\n",
       "        }#T_19752_row3_col0,#T_19752_row11_col0,#T_19752_row17_col0,#T_19752_row18_col0{\n",
       "            background-color:  #08306b;\n",
       "            color:  #f1f1f1;\n",
       "        }</style><table id=\"T_19752_\" ><thead>    <tr>        <th class=\"blank level0\" ></th>        <th class=\"col_heading level0 col0\" >y_test</th>        <th class=\"col_heading level0 col1\" >y_pred</th>    </tr></thead><tbody>\n",
       "                <tr>\n",
       "                        <th id=\"T_19752_level0_row0\" class=\"row_heading level0 row0\" >0</th>\n",
       "                        <td id=\"T_19752_row0_col0\" class=\"data row0 col0\" >0</td>\n",
       "                        <td id=\"T_19752_row0_col1\" class=\"data row0 col1\" >0</td>\n",
       "            </tr>\n",
       "            <tr>\n",
       "                        <th id=\"T_19752_level0_row1\" class=\"row_heading level0 row1\" >1</th>\n",
       "                        <td id=\"T_19752_row1_col0\" class=\"data row1 col0\" >0</td>\n",
       "                        <td id=\"T_19752_row1_col1\" class=\"data row1 col1\" >0</td>\n",
       "            </tr>\n",
       "            <tr>\n",
       "                        <th id=\"T_19752_level0_row2\" class=\"row_heading level0 row2\" >2</th>\n",
       "                        <td id=\"T_19752_row2_col0\" class=\"data row2 col0\" >0</td>\n",
       "                        <td id=\"T_19752_row2_col1\" class=\"data row2 col1\" >0</td>\n",
       "            </tr>\n",
       "            <tr>\n",
       "                        <th id=\"T_19752_level0_row3\" class=\"row_heading level0 row3\" >3</th>\n",
       "                        <td id=\"T_19752_row3_col0\" class=\"data row3 col0\" >1</td>\n",
       "                        <td id=\"T_19752_row3_col1\" class=\"data row3 col1\" >0</td>\n",
       "            </tr>\n",
       "            <tr>\n",
       "                        <th id=\"T_19752_level0_row4\" class=\"row_heading level0 row4\" >4</th>\n",
       "                        <td id=\"T_19752_row4_col0\" class=\"data row4 col0\" >0</td>\n",
       "                        <td id=\"T_19752_row4_col1\" class=\"data row4 col1\" >0</td>\n",
       "            </tr>\n",
       "            <tr>\n",
       "                        <th id=\"T_19752_level0_row5\" class=\"row_heading level0 row5\" >5</th>\n",
       "                        <td id=\"T_19752_row5_col0\" class=\"data row5 col0\" >0</td>\n",
       "                        <td id=\"T_19752_row5_col1\" class=\"data row5 col1\" >0</td>\n",
       "            </tr>\n",
       "            <tr>\n",
       "                        <th id=\"T_19752_level0_row6\" class=\"row_heading level0 row6\" >6</th>\n",
       "                        <td id=\"T_19752_row6_col0\" class=\"data row6 col0\" >0</td>\n",
       "                        <td id=\"T_19752_row6_col1\" class=\"data row6 col1\" >0</td>\n",
       "            </tr>\n",
       "            <tr>\n",
       "                        <th id=\"T_19752_level0_row7\" class=\"row_heading level0 row7\" >7</th>\n",
       "                        <td id=\"T_19752_row7_col0\" class=\"data row7 col0\" >0</td>\n",
       "                        <td id=\"T_19752_row7_col1\" class=\"data row7 col1\" >0</td>\n",
       "            </tr>\n",
       "            <tr>\n",
       "                        <th id=\"T_19752_level0_row8\" class=\"row_heading level0 row8\" >8</th>\n",
       "                        <td id=\"T_19752_row8_col0\" class=\"data row8 col0\" >0</td>\n",
       "                        <td id=\"T_19752_row8_col1\" class=\"data row8 col1\" >0</td>\n",
       "            </tr>\n",
       "            <tr>\n",
       "                        <th id=\"T_19752_level0_row9\" class=\"row_heading level0 row9\" >9</th>\n",
       "                        <td id=\"T_19752_row9_col0\" class=\"data row9 col0\" >0</td>\n",
       "                        <td id=\"T_19752_row9_col1\" class=\"data row9 col1\" >0</td>\n",
       "            </tr>\n",
       "            <tr>\n",
       "                        <th id=\"T_19752_level0_row10\" class=\"row_heading level0 row10\" >10</th>\n",
       "                        <td id=\"T_19752_row10_col0\" class=\"data row10 col0\" >0</td>\n",
       "                        <td id=\"T_19752_row10_col1\" class=\"data row10 col1\" >0</td>\n",
       "            </tr>\n",
       "            <tr>\n",
       "                        <th id=\"T_19752_level0_row11\" class=\"row_heading level0 row11\" >11</th>\n",
       "                        <td id=\"T_19752_row11_col0\" class=\"data row11 col0\" >1</td>\n",
       "                        <td id=\"T_19752_row11_col1\" class=\"data row11 col1\" >0</td>\n",
       "            </tr>\n",
       "            <tr>\n",
       "                        <th id=\"T_19752_level0_row12\" class=\"row_heading level0 row12\" >12</th>\n",
       "                        <td id=\"T_19752_row12_col0\" class=\"data row12 col0\" >0</td>\n",
       "                        <td id=\"T_19752_row12_col1\" class=\"data row12 col1\" >0</td>\n",
       "            </tr>\n",
       "            <tr>\n",
       "                        <th id=\"T_19752_level0_row13\" class=\"row_heading level0 row13\" >13</th>\n",
       "                        <td id=\"T_19752_row13_col0\" class=\"data row13 col0\" >0</td>\n",
       "                        <td id=\"T_19752_row13_col1\" class=\"data row13 col1\" >0</td>\n",
       "            </tr>\n",
       "            <tr>\n",
       "                        <th id=\"T_19752_level0_row14\" class=\"row_heading level0 row14\" >14</th>\n",
       "                        <td id=\"T_19752_row14_col0\" class=\"data row14 col0\" >0</td>\n",
       "                        <td id=\"T_19752_row14_col1\" class=\"data row14 col1\" >0</td>\n",
       "            </tr>\n",
       "            <tr>\n",
       "                        <th id=\"T_19752_level0_row15\" class=\"row_heading level0 row15\" >15</th>\n",
       "                        <td id=\"T_19752_row15_col0\" class=\"data row15 col0\" >0</td>\n",
       "                        <td id=\"T_19752_row15_col1\" class=\"data row15 col1\" >0</td>\n",
       "            </tr>\n",
       "            <tr>\n",
       "                        <th id=\"T_19752_level0_row16\" class=\"row_heading level0 row16\" >16</th>\n",
       "                        <td id=\"T_19752_row16_col0\" class=\"data row16 col0\" >0</td>\n",
       "                        <td id=\"T_19752_row16_col1\" class=\"data row16 col1\" >0</td>\n",
       "            </tr>\n",
       "            <tr>\n",
       "                        <th id=\"T_19752_level0_row17\" class=\"row_heading level0 row17\" >17</th>\n",
       "                        <td id=\"T_19752_row17_col0\" class=\"data row17 col0\" >1</td>\n",
       "                        <td id=\"T_19752_row17_col1\" class=\"data row17 col1\" >0</td>\n",
       "            </tr>\n",
       "            <tr>\n",
       "                        <th id=\"T_19752_level0_row18\" class=\"row_heading level0 row18\" >18</th>\n",
       "                        <td id=\"T_19752_row18_col0\" class=\"data row18 col0\" >1</td>\n",
       "                        <td id=\"T_19752_row18_col1\" class=\"data row18 col1\" >0</td>\n",
       "            </tr>\n",
       "            <tr>\n",
       "                        <th id=\"T_19752_level0_row19\" class=\"row_heading level0 row19\" >19</th>\n",
       "                        <td id=\"T_19752_row19_col0\" class=\"data row19 col0\" >0</td>\n",
       "                        <td id=\"T_19752_row19_col1\" class=\"data row19 col1\" >0</td>\n",
       "            </tr>\n",
       "    </tbody></table>"
      ],
      "text/plain": [
       "<pandas.io.formats.style.Styler at 0x7f6455de8430>"
      ]
     },
     "execution_count": 400,
     "metadata": {},
     "output_type": "execute_result"
    }
   ],
   "source": [
    "df = pd.DataFrame(data=y_pred, columns=['y_pred'])\n",
    "\n",
    "df['y_test'] = np.array(y_test)\n",
    "\n",
    "df = df[['y_test', 'y_pred']]\n",
    "\n",
    "df.iloc[:20].style.background_gradient(cmap=\"Blues\")"
   ]
  },
  {
   "cell_type": "code",
   "execution_count": null,
   "metadata": {},
   "outputs": [],
   "source": []
  },
  {
   "cell_type": "markdown",
   "metadata": {},
   "source": [
    "## Métricas"
   ]
  },
  {
   "cell_type": "code",
   "execution_count": 401,
   "metadata": {},
   "outputs": [
    {
     "data": {
      "text/plain": [
       "0.8436657681940701"
      ]
     },
     "execution_count": 401,
     "metadata": {},
     "output_type": "execute_result"
    }
   ],
   "source": [
    "accuracy_score(y_test, y_pred)"
   ]
  },
  {
   "cell_type": "code",
   "execution_count": 402,
   "metadata": {},
   "outputs": [
    {
     "data": {
      "text/plain": [
       "1.0"
      ]
     },
     "execution_count": 402,
     "metadata": {},
     "output_type": "execute_result"
    }
   ],
   "source": [
    "precision_score(y_test, y_pred, zero_division=1)"
   ]
  },
  {
   "cell_type": "code",
   "execution_count": 403,
   "metadata": {},
   "outputs": [
    {
     "data": {
      "text/plain": [
       "0.0"
      ]
     },
     "execution_count": 403,
     "metadata": {},
     "output_type": "execute_result"
    }
   ],
   "source": [
    "recall_score(y_test, y_pred)"
   ]
  },
  {
   "cell_type": "code",
   "execution_count": 404,
   "metadata": {},
   "outputs": [
    {
     "data": {
      "text/plain": [
       "0.0"
      ]
     },
     "execution_count": 404,
     "metadata": {},
     "output_type": "execute_result"
    }
   ],
   "source": [
    "f1_score(y_test, y_pred)"
   ]
  },
  {
   "cell_type": "code",
   "execution_count": 405,
   "metadata": {},
   "outputs": [
    {
     "data": {
      "text/plain": [
       "array([[313,   0],\n",
       "       [ 58,   0]])"
      ]
     },
     "execution_count": 405,
     "metadata": {},
     "output_type": "execute_result"
    }
   ],
   "source": [
    "confusion_matrix(y_test, y_pred)#, normalize='all')"
   ]
  },
  {
   "cell_type": "code",
   "execution_count": null,
   "metadata": {},
   "outputs": [],
   "source": []
  },
  {
   "cell_type": "code",
   "execution_count": null,
   "metadata": {},
   "outputs": [],
   "source": []
  },
  {
   "cell_type": "code",
   "execution_count": null,
   "metadata": {},
   "outputs": [],
   "source": []
  },
  {
   "cell_type": "markdown",
   "metadata": {},
   "source": [
    "---"
   ]
  },
  {
   "cell_type": "markdown",
   "metadata": {},
   "source": [
    "## Ejercicio 3: Árboles de Decisión\n",
    "\n",
    "En este ejercicio se entrenarán árboles de decisión para predecir la variable objetivo.\n",
    "\n",
    "Para ello, deberán utilizar la clase DecisionTreeClassifier de scikit-learn.\n",
    "\n",
    "Documentación:\n",
    "- https://scikit-learn.org/stable/modules/tree.html\n",
    "  - https://scikit-learn.org/stable/modules/tree.html#tips-on-practical-use\n",
    "- https://scikit-learn.org/stable/modules/generated/sklearn.tree.DecisionTreeClassifier.html\n",
    "- https://scikit-learn.org/stable/auto_examples/tree/plot_unveil_tree_structure.html"
   ]
  },
  {
   "cell_type": "markdown",
   "metadata": {},
   "source": [
    "### Ejercicio 3.1: DecisionTreeClassifier con hiperparámetros por defecto\n",
    "\n",
    "Entrenar y evaluar el clasificador DecisionTreeClassifier usando los valores por omisión de scikit-learn para todos los parámetros. Únicamente **fijar la semilla aleatoria** para hacer repetible el experimento.\n",
    "\n",
    "Evaluar sobre el conjunto de **entrenamiento** y sobre el conjunto de **evaluación**, reportando:\n",
    "- Accuracy\n",
    "- Precision\n",
    "- Recall\n",
    "- F1\n",
    "- matriz de confusión\n"
   ]
  },
  {
   "cell_type": "markdown",
   "metadata": {},
   "source": [
    "### Ejercicio 3.2: Ajuste de Hiperparámetros\n",
    "\n",
    "Seleccionar valores para los hiperparámetros principales del DecisionTreeClassifier. Como mínimo, probar diferentes criterios de partición (criterion), profundidad máxima del árbol (max_depth), y cantidad mínima de samples por hoja (min_samples_leaf).\n",
    "\n",
    "Para ello, usar grid-search y 5-fold cross-validation sobre el conjunto de entrenamiento para explorar muchas combinaciones posibles de valores.\n",
    "\n",
    "Reportar accuracy promedio y varianza para todas las configuraciones.\n",
    "\n",
    "Para la mejor configuración encontrada, evaluar sobre el conjunto de **entrenamiento** y sobre el conjunto de **evaluación**, reportando:\n",
    "- Accuracy\n",
    "- Precision\n",
    "- Recall\n",
    "- F1\n",
    "- matriz de confusión\n",
    "\n",
    "\n",
    "Documentación:\n",
    "- https://scikit-learn.org/stable/modules/grid_search.html\n",
    "- https://scikit-learn.org/stable/modules/generated/sklearn.model_selection.GridSearchCV.html"
   ]
  },
  {
   "cell_type": "markdown",
   "metadata": {},
   "source": [
    "---"
   ]
  },
  {
   "cell_type": "code",
   "execution_count": null,
   "metadata": {},
   "outputs": [],
   "source": []
  }
 ],
 "metadata": {
  "kernelspec": {
   "display_name": "Python 3",
   "language": "python",
   "name": "python3"
  },
  "language_info": {
   "codemirror_mode": {
    "name": "ipython",
    "version": 3
   },
   "file_extension": ".py",
   "mimetype": "text/x-python",
   "name": "python",
   "nbconvert_exporter": "python",
   "pygments_lexer": "ipython3",
   "version": "3.8.8"
  }
 },
 "nbformat": 4,
 "nbformat_minor": 4
}
