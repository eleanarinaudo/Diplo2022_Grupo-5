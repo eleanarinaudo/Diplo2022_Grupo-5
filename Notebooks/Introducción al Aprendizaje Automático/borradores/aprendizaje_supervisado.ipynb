{
 "cells": [
  {
   "cell_type": "markdown",
   "id": "3e3b594b",
   "metadata": {},
   "source": [
    "# Spaceship Titanic 🚀"
   ]
  },
  {
   "cell_type": "markdown",
   "id": "df225e01",
   "metadata": {},
   "source": [
    "<div align=\"center\">\n",
    "    <img src='https://pic2.zhimg.com/v2-768b110090ef51c582c2f846adcb689a_r.jpg?source=172ae18b' style='height:100px;'>\n",
    "</div>\n"
   ]
  },
  {
   "cell_type": "markdown",
   "id": "671b7590",
   "metadata": {},
   "source": [
    ">## >>>Se busca realizar la prediccion de cuantos pasajeros fueron transportados a otra dimension cuando la nave accidentalmente ingreso a la anomalia espacio-temporal.<<<"
   ]
  },
  {
   "cell_type": "code",
   "execution_count": 1,
   "id": "69930f80",
   "metadata": {},
   "outputs": [],
   "source": [
    "import matplotlib\n",
    "import matplotlib.pyplot as plt\n",
    "import numpy as np\n",
    "import pandas as pd\n",
    "import seaborn as sns\n",
    "#import missingno as msno\n",
    "sns.set_context('talk')\n",
    "import warnings\n",
    "warnings.filterwarnings('ignore')\n",
    "\n",
    "from sklearn.metrics import (\n",
    "    accuracy_score,\n",
    "    precision_score,\n",
    "    recall_score,\n",
    "    f1_score,\n",
    "    confusion_matrix,\n",
    "    plot_confusion_matrix,\n",
    "    classification_report,\n",
    ")\n",
    "from sklearn.model_selection import (\n",
    "    train_test_split,\n",
    "    ParameterSampler,\n",
    "    RandomizedSearchCV,\n",
    "    ParameterGrid,\n",
    "    GridSearchCV,\n",
    ")\n",
    "from sklearn.tree import DecisionTreeClassifier, plot_tree\n",
    "from sklearn.utils.fixes import loguniform\n",
    "from sklearn.preprocessing import StandardScaler"
   ]
  },
  {
   "cell_type": "markdown",
   "id": "5bc43e3b",
   "metadata": {},
   "source": [
    " ### Aparentemente todas columnas parecen ser utiles para la prediccion"
   ]
  },
  {
   "cell_type": "markdown",
   "id": "66e6a425",
   "metadata": {},
   "source": [
    "#### Carga de datos de train, test y submmitions."
   ]
  },
  {
   "cell_type": "code",
   "execution_count": 2,
   "id": "1a9e151a",
   "metadata": {},
   "outputs": [
    {
     "name": "stdout",
     "output_type": "stream",
     "text": [
      "(7823, 14)\n"
     ]
    },
    {
     "data": {
      "text/html": [
       "<div>\n",
       "<style scoped>\n",
       "    .dataframe tbody tr th:only-of-type {\n",
       "        vertical-align: middle;\n",
       "    }\n",
       "\n",
       "    .dataframe tbody tr th {\n",
       "        vertical-align: top;\n",
       "    }\n",
       "\n",
       "    .dataframe thead th {\n",
       "        text-align: right;\n",
       "    }\n",
       "</style>\n",
       "<table border=\"1\" class=\"dataframe\">\n",
       "  <thead>\n",
       "    <tr style=\"text-align: right;\">\n",
       "      <th></th>\n",
       "      <th>PassengerId</th>\n",
       "      <th>HomePlanet</th>\n",
       "      <th>CryoSleep</th>\n",
       "      <th>Cabin</th>\n",
       "      <th>Destination</th>\n",
       "      <th>Age</th>\n",
       "      <th>VIP</th>\n",
       "      <th>RoomService</th>\n",
       "      <th>FoodCourt</th>\n",
       "      <th>ShoppingMall</th>\n",
       "      <th>Spa</th>\n",
       "      <th>VRDeck</th>\n",
       "      <th>Name</th>\n",
       "      <th>Transported</th>\n",
       "    </tr>\n",
       "  </thead>\n",
       "  <tbody>\n",
       "    <tr>\n",
       "      <th>0</th>\n",
       "      <td>3430</td>\n",
       "      <td>Europa</td>\n",
       "      <td>False</td>\n",
       "      <td>C/123/P</td>\n",
       "      <td>TRAPPIST-1e</td>\n",
       "      <td>57.0</td>\n",
       "      <td>False</td>\n",
       "      <td>0.0</td>\n",
       "      <td>3859.0</td>\n",
       "      <td>13.0</td>\n",
       "      <td>195.0</td>\n",
       "      <td>3874.0</td>\n",
       "      <td>Azhah Tronsive</td>\n",
       "      <td>0</td>\n",
       "    </tr>\n",
       "    <tr>\n",
       "      <th>1</th>\n",
       "      <td>669</td>\n",
       "      <td>Mars</td>\n",
       "      <td>True</td>\n",
       "      <td>F/126/S</td>\n",
       "      <td>NaN</td>\n",
       "      <td>18.0</td>\n",
       "      <td>False</td>\n",
       "      <td>0.0</td>\n",
       "      <td>0.0</td>\n",
       "      <td>0.0</td>\n",
       "      <td>0.0</td>\n",
       "      <td>0.0</td>\n",
       "      <td>Roswal Sha</td>\n",
       "      <td>1</td>\n",
       "    </tr>\n",
       "    <tr>\n",
       "      <th>2</th>\n",
       "      <td>8430</td>\n",
       "      <td>Europa</td>\n",
       "      <td>True</td>\n",
       "      <td>B/343/S</td>\n",
       "      <td>TRAPPIST-1e</td>\n",
       "      <td>33.0</td>\n",
       "      <td>NaN</td>\n",
       "      <td>0.0</td>\n",
       "      <td>0.0</td>\n",
       "      <td>0.0</td>\n",
       "      <td>0.0</td>\n",
       "      <td>0.0</td>\n",
       "      <td>Shaiam Tinganking</td>\n",
       "      <td>1</td>\n",
       "    </tr>\n",
       "    <tr>\n",
       "      <th>3</th>\n",
       "      <td>6463</td>\n",
       "      <td>Earth</td>\n",
       "      <td>False</td>\n",
       "      <td>F/1420/P</td>\n",
       "      <td>TRAPPIST-1e</td>\n",
       "      <td>43.0</td>\n",
       "      <td>False</td>\n",
       "      <td>142.0</td>\n",
       "      <td>1208.0</td>\n",
       "      <td>0.0</td>\n",
       "      <td>0.0</td>\n",
       "      <td>204.0</td>\n",
       "      <td>Landa Grifford</td>\n",
       "      <td>0</td>\n",
       "    </tr>\n",
       "    <tr>\n",
       "      <th>4</th>\n",
       "      <td>85</td>\n",
       "      <td>Earth</td>\n",
       "      <td>False</td>\n",
       "      <td>G/9/P</td>\n",
       "      <td>TRAPPIST-1e</td>\n",
       "      <td>19.0</td>\n",
       "      <td>False</td>\n",
       "      <td>0.0</td>\n",
       "      <td>0.0</td>\n",
       "      <td>670.0</td>\n",
       "      <td>1.0</td>\n",
       "      <td>34.0</td>\n",
       "      <td>Gracy Dunnisey</td>\n",
       "      <td>0</td>\n",
       "    </tr>\n",
       "  </tbody>\n",
       "</table>\n",
       "</div>"
      ],
      "text/plain": [
       "   PassengerId HomePlanet CryoSleep     Cabin  Destination   Age    VIP  \\\n",
       "0         3430     Europa     False   C/123/P  TRAPPIST-1e  57.0  False   \n",
       "1          669       Mars      True   F/126/S          NaN  18.0  False   \n",
       "2         8430     Europa      True   B/343/S  TRAPPIST-1e  33.0    NaN   \n",
       "3         6463      Earth     False  F/1420/P  TRAPPIST-1e  43.0  False   \n",
       "4           85      Earth     False     G/9/P  TRAPPIST-1e  19.0  False   \n",
       "\n",
       "   RoomService  FoodCourt  ShoppingMall    Spa  VRDeck               Name  \\\n",
       "0          0.0     3859.0          13.0  195.0  3874.0     Azhah Tronsive   \n",
       "1          0.0        0.0           0.0    0.0     0.0         Roswal Sha   \n",
       "2          0.0        0.0           0.0    0.0     0.0  Shaiam Tinganking   \n",
       "3        142.0     1208.0           0.0    0.0   204.0     Landa Grifford   \n",
       "4          0.0        0.0         670.0    1.0    34.0     Gracy Dunnisey   \n",
       "\n",
       "   Transported  \n",
       "0            0  \n",
       "1            1  \n",
       "2            1  \n",
       "3            0  \n",
       "4            0  "
      ]
     },
     "execution_count": 2,
     "metadata": {},
     "output_type": "execute_result"
    }
   ],
   "source": [
    "train_url = \"../Práctico/train.csv\"\n",
    "train = pd.read_csv(train_url)\n",
    "print(train.shape)\n",
    "train.head()"
   ]
  },
  {
   "cell_type": "code",
   "execution_count": 3,
   "id": "39d375c2",
   "metadata": {},
   "outputs": [
    {
     "name": "stdout",
     "output_type": "stream",
     "text": [
      "(870, 13)\n"
     ]
    },
    {
     "data": {
      "text/html": [
       "<div>\n",
       "<style scoped>\n",
       "    .dataframe tbody tr th:only-of-type {\n",
       "        vertical-align: middle;\n",
       "    }\n",
       "\n",
       "    .dataframe tbody tr th {\n",
       "        vertical-align: top;\n",
       "    }\n",
       "\n",
       "    .dataframe thead th {\n",
       "        text-align: right;\n",
       "    }\n",
       "</style>\n",
       "<table border=\"1\" class=\"dataframe\">\n",
       "  <thead>\n",
       "    <tr style=\"text-align: right;\">\n",
       "      <th></th>\n",
       "      <th>PassengerId</th>\n",
       "      <th>HomePlanet</th>\n",
       "      <th>CryoSleep</th>\n",
       "      <th>Cabin</th>\n",
       "      <th>Destination</th>\n",
       "      <th>Age</th>\n",
       "      <th>VIP</th>\n",
       "      <th>RoomService</th>\n",
       "      <th>FoodCourt</th>\n",
       "      <th>ShoppingMall</th>\n",
       "      <th>Spa</th>\n",
       "      <th>VRDeck</th>\n",
       "      <th>Name</th>\n",
       "    </tr>\n",
       "  </thead>\n",
       "  <tbody>\n",
       "    <tr>\n",
       "      <th>0</th>\n",
       "      <td>415</td>\n",
       "      <td>Europa</td>\n",
       "      <td>True</td>\n",
       "      <td>NaN</td>\n",
       "      <td>55 Cancri e</td>\n",
       "      <td>34.0</td>\n",
       "      <td>False</td>\n",
       "      <td>0.0</td>\n",
       "      <td>0.0</td>\n",
       "      <td>0.0</td>\n",
       "      <td>0.0</td>\n",
       "      <td>0.0</td>\n",
       "      <td>Minopus Taptiritty</td>\n",
       "    </tr>\n",
       "    <tr>\n",
       "      <th>1</th>\n",
       "      <td>8663</td>\n",
       "      <td>Earth</td>\n",
       "      <td>True</td>\n",
       "      <td>G/1489/S</td>\n",
       "      <td>PSO J318.5-22</td>\n",
       "      <td>13.0</td>\n",
       "      <td>False</td>\n",
       "      <td>0.0</td>\n",
       "      <td>0.0</td>\n",
       "      <td>0.0</td>\n",
       "      <td>0.0</td>\n",
       "      <td>0.0</td>\n",
       "      <td>Chrisa Francock</td>\n",
       "    </tr>\n",
       "    <tr>\n",
       "      <th>2</th>\n",
       "      <td>4524</td>\n",
       "      <td>Earth</td>\n",
       "      <td>False</td>\n",
       "      <td>G/776/P</td>\n",
       "      <td>TRAPPIST-1e</td>\n",
       "      <td>44.0</td>\n",
       "      <td>False</td>\n",
       "      <td>22.0</td>\n",
       "      <td>1.0</td>\n",
       "      <td>0.0</td>\n",
       "      <td>864.0</td>\n",
       "      <td>0.0</td>\n",
       "      <td>Elinda Miley</td>\n",
       "    </tr>\n",
       "    <tr>\n",
       "      <th>3</th>\n",
       "      <td>8246</td>\n",
       "      <td>Earth</td>\n",
       "      <td>False</td>\n",
       "      <td>E/577/S</td>\n",
       "      <td>PSO J318.5-22</td>\n",
       "      <td>63.0</td>\n",
       "      <td>False</td>\n",
       "      <td>0.0</td>\n",
       "      <td>0.0</td>\n",
       "      <td>80.0</td>\n",
       "      <td>0.0</td>\n",
       "      <td>2322.0</td>\n",
       "      <td>Karley Goods</td>\n",
       "    </tr>\n",
       "    <tr>\n",
       "      <th>4</th>\n",
       "      <td>2935</td>\n",
       "      <td>Europa</td>\n",
       "      <td>False</td>\n",
       "      <td>B/117/S</td>\n",
       "      <td>55 Cancri e</td>\n",
       "      <td>10.0</td>\n",
       "      <td>False</td>\n",
       "      <td>0.0</td>\n",
       "      <td>0.0</td>\n",
       "      <td>0.0</td>\n",
       "      <td>0.0</td>\n",
       "      <td>0.0</td>\n",
       "      <td>Arkard Sechausive</td>\n",
       "    </tr>\n",
       "  </tbody>\n",
       "</table>\n",
       "</div>"
      ],
      "text/plain": [
       "   PassengerId HomePlanet CryoSleep     Cabin    Destination   Age    VIP  \\\n",
       "0          415     Europa      True       NaN    55 Cancri e  34.0  False   \n",
       "1         8663      Earth      True  G/1489/S  PSO J318.5-22  13.0  False   \n",
       "2         4524      Earth     False   G/776/P    TRAPPIST-1e  44.0  False   \n",
       "3         8246      Earth     False   E/577/S  PSO J318.5-22  63.0  False   \n",
       "4         2935     Europa     False   B/117/S    55 Cancri e  10.0  False   \n",
       "\n",
       "   RoomService  FoodCourt  ShoppingMall    Spa  VRDeck                Name  \n",
       "0          0.0        0.0           0.0    0.0     0.0  Minopus Taptiritty  \n",
       "1          0.0        0.0           0.0    0.0     0.0     Chrisa Francock  \n",
       "2         22.0        1.0           0.0  864.0     0.0        Elinda Miley  \n",
       "3          0.0        0.0          80.0    0.0  2322.0        Karley Goods  \n",
       "4          0.0        0.0           0.0    0.0     0.0   Arkard Sechausive  "
      ]
     },
     "execution_count": 3,
     "metadata": {},
     "output_type": "execute_result"
    }
   ],
   "source": [
    "test_url = \"../Práctico/test.csv\"\n",
    "test = pd.read_csv(test_url)\n",
    "print(test.shape)\n",
    "test.head()"
   ]
  },
  {
   "cell_type": "code",
   "execution_count": 4,
   "id": "1c1e8a78",
   "metadata": {
    "scrolled": true
   },
   "outputs": [
    {
     "name": "stdout",
     "output_type": "stream",
     "text": [
      "(870, 2)\n"
     ]
    },
    {
     "data": {
      "text/html": [
       "<div>\n",
       "<style scoped>\n",
       "    .dataframe tbody tr th:only-of-type {\n",
       "        vertical-align: middle;\n",
       "    }\n",
       "\n",
       "    .dataframe tbody tr th {\n",
       "        vertical-align: top;\n",
       "    }\n",
       "\n",
       "    .dataframe thead th {\n",
       "        text-align: right;\n",
       "    }\n",
       "</style>\n",
       "<table border=\"1\" class=\"dataframe\">\n",
       "  <thead>\n",
       "    <tr style=\"text-align: right;\">\n",
       "      <th></th>\n",
       "      <th>PassengerId</th>\n",
       "      <th>Transported</th>\n",
       "    </tr>\n",
       "  </thead>\n",
       "  <tbody>\n",
       "    <tr>\n",
       "      <th>0</th>\n",
       "      <td>415</td>\n",
       "      <td>1</td>\n",
       "    </tr>\n",
       "    <tr>\n",
       "      <th>1</th>\n",
       "      <td>8663</td>\n",
       "      <td>1</td>\n",
       "    </tr>\n",
       "    <tr>\n",
       "      <th>2</th>\n",
       "      <td>4524</td>\n",
       "      <td>0</td>\n",
       "    </tr>\n",
       "    <tr>\n",
       "      <th>3</th>\n",
       "      <td>8246</td>\n",
       "      <td>0</td>\n",
       "    </tr>\n",
       "    <tr>\n",
       "      <th>4</th>\n",
       "      <td>2935</td>\n",
       "      <td>0</td>\n",
       "    </tr>\n",
       "  </tbody>\n",
       "</table>\n",
       "</div>"
      ],
      "text/plain": [
       "   PassengerId  Transported\n",
       "0          415            1\n",
       "1         8663            1\n",
       "2         4524            0\n",
       "3         8246            0\n",
       "4         2935            0"
      ]
     },
     "execution_count": 4,
     "metadata": {},
     "output_type": "execute_result"
    }
   ],
   "source": [
    "target_url = \"../Práctico/sample_submission.csv\"\n",
    "target = pd.read_csv(target_url)\n",
    "print(target.shape)\n",
    "target.head()"
   ]
  },
  {
   "cell_type": "code",
   "execution_count": 5,
   "id": "4d25f183",
   "metadata": {
    "scrolled": true
   },
   "outputs": [
    {
     "data": {
      "text/plain": [
       "1    3964\n",
       "0    3859\n",
       "Name: Transported, dtype: int64"
      ]
     },
     "execution_count": 5,
     "metadata": {},
     "output_type": "execute_result"
    }
   ],
   "source": [
    "train.Transported.value_counts()"
   ]
  },
  {
   "cell_type": "code",
   "execution_count": 6,
   "id": "28affa1c",
   "metadata": {},
   "outputs": [
    {
     "data": {
      "text/plain": [
       "0    460\n",
       "1    410\n",
       "Name: Transported, dtype: int64"
      ]
     },
     "execution_count": 6,
     "metadata": {},
     "output_type": "execute_result"
    }
   ],
   "source": [
    "target.Transported.value_counts()"
   ]
  },
  {
   "cell_type": "markdown",
   "id": "e7151f5e",
   "metadata": {},
   "source": [
    "------"
   ]
  },
  {
   "cell_type": "markdown",
   "id": "e619822f",
   "metadata": {},
   "source": [
    "**El target esta balanceado y no presenta valores nulos.**"
   ]
  },
  {
   "cell_type": "markdown",
   "id": "64109155",
   "metadata": {},
   "source": [
    "_________________________________________________________"
   ]
  },
  {
   "cell_type": "markdown",
   "id": "068a19ae",
   "metadata": {},
   "source": [
    "## Analisis de correlacion de las variables de 'train'."
   ]
  },
  {
   "cell_type": "code",
   "execution_count": 7,
   "id": "e62ec7d2",
   "metadata": {},
   "outputs": [
    {
     "data": {
      "image/png": "[encoded data removed]",
      "text/plain": [
       "<Figure size 720x504 with 2 Axes>"
      ]
     },
     "metadata": {
      "needs_background": "light"
     },
     "output_type": "display_data"
    }
   ],
   "source": [
    "plt.rcParams['figure.figsize'] = (10, 7)\n",
    "sns.heatmap(train.corr(), annot = True, fmt = \".2f\", cmap = 'Purples')\n",
    "plt.title('Heatmap for train', fontsize = 20)\n",
    "plt.show()"
   ]
  },
  {
   "cell_type": "markdown",
   "id": "4f9de3a3",
   "metadata": {},
   "source": [
    ">**Se observan ciertas correlaciones aunque nada demasiado significativo, un maximo de -0.25.**"
   ]
  },
  {
   "cell_type": "markdown",
   "id": "acce35f5",
   "metadata": {},
   "source": [
    "## Observamos nulos y su porcentaje dentro de cada columna asi como en el total."
   ]
  },
  {
   "cell_type": "code",
   "execution_count": 8,
   "id": "0aaec4e9",
   "metadata": {},
   "outputs": [
    {
     "data": {
      "text/html": [
       "<style  type=\"text/css\" >\n",
       "#T_90bb1_row0_col1{\n",
       "            background-color:  #023858;\n",
       "            color:  #f1f1f1;\n",
       "        }#T_90bb1_row1_col1,#T_90bb1_row2_col1,#T_90bb1_row3_col1,#T_90bb1_row4_col1{\n",
       "            background-color:  #034369;\n",
       "            color:  #f1f1f1;\n",
       "        }#T_90bb1_row5_col1{\n",
       "            background-color:  #034d79;\n",
       "            color:  #f1f1f1;\n",
       "        }#T_90bb1_row6_col1{\n",
       "            background-color:  #04588a;\n",
       "            color:  #f1f1f1;\n",
       "        }#T_90bb1_row7_col1{\n",
       "            background-color:  #046096;\n",
       "            color:  #f1f1f1;\n",
       "        }#T_90bb1_row8_col1,#T_90bb1_row9_col1,#T_90bb1_row10_col1,#T_90bb1_row11_col1{\n",
       "            background-color:  #0567a2;\n",
       "            color:  #f1f1f1;\n",
       "        }#T_90bb1_row12_col1,#T_90bb1_row13_col1{\n",
       "            background-color:  #fff7fb;\n",
       "            color:  #000000;\n",
       "        }</style><table id=\"T_90bb1_\" ><thead>    <tr>        <th class=\"blank level0\" ></th>        <th class=\"col_heading level0 col0\" >Total_nuls_train</th>        <th class=\"col_heading level0 col1\" >Percent</th>    </tr></thead><tbody>\n",
       "                <tr>\n",
       "                        <th id=\"T_90bb1_level0_row0\" class=\"row_heading level0 row0\" >CryoSleep</th>\n",
       "                        <td id=\"T_90bb1_row0_col0\" class=\"data row0 col0\" >196</td>\n",
       "                        <td id=\"T_90bb1_row0_col1\" class=\"data row0 col1\" >0.025000</td>\n",
       "            </tr>\n",
       "            <tr>\n",
       "                        <th id=\"T_90bb1_level0_row1\" class=\"row_heading level0 row1\" >ShoppingMall</th>\n",
       "                        <td id=\"T_90bb1_row1_col0\" class=\"data row1 col0\" >188</td>\n",
       "                        <td id=\"T_90bb1_row1_col1\" class=\"data row1 col1\" >0.024000</td>\n",
       "            </tr>\n",
       "            <tr>\n",
       "                        <th id=\"T_90bb1_level0_row2\" class=\"row_heading level0 row2\" >Cabin</th>\n",
       "                        <td id=\"T_90bb1_row2_col0\" class=\"data row2 col0\" >184</td>\n",
       "                        <td id=\"T_90bb1_row2_col1\" class=\"data row2 col1\" >0.024000</td>\n",
       "            </tr>\n",
       "            <tr>\n",
       "                        <th id=\"T_90bb1_level0_row3\" class=\"row_heading level0 row3\" >VIP</th>\n",
       "                        <td id=\"T_90bb1_row3_col0\" class=\"data row3 col0\" >184</td>\n",
       "                        <td id=\"T_90bb1_row3_col1\" class=\"data row3 col1\" >0.024000</td>\n",
       "            </tr>\n",
       "            <tr>\n",
       "                        <th id=\"T_90bb1_level0_row4\" class=\"row_heading level0 row4\" >Name</th>\n",
       "                        <td id=\"T_90bb1_row4_col0\" class=\"data row4 col0\" >184</td>\n",
       "                        <td id=\"T_90bb1_row4_col1\" class=\"data row4 col1\" >0.024000</td>\n",
       "            </tr>\n",
       "            <tr>\n",
       "                        <th id=\"T_90bb1_level0_row5\" class=\"row_heading level0 row5\" >HomePlanet</th>\n",
       "                        <td id=\"T_90bb1_row5_col0\" class=\"data row5 col0\" >179</td>\n",
       "                        <td id=\"T_90bb1_row5_col1\" class=\"data row5 col1\" >0.023000</td>\n",
       "            </tr>\n",
       "            <tr>\n",
       "                        <th id=\"T_90bb1_level0_row6\" class=\"row_heading level0 row6\" >VRDeck</th>\n",
       "                        <td id=\"T_90bb1_row6_col0\" class=\"data row6 col0\" >169</td>\n",
       "                        <td id=\"T_90bb1_row6_col1\" class=\"data row6 col1\" >0.022000</td>\n",
       "            </tr>\n",
       "            <tr>\n",
       "                        <th id=\"T_90bb1_level0_row7\" class=\"row_heading level0 row7\" >Age</th>\n",
       "                        <td id=\"T_90bb1_row7_col0\" class=\"data row7 col0\" >162</td>\n",
       "                        <td id=\"T_90bb1_row7_col1\" class=\"data row7 col1\" >0.021000</td>\n",
       "            </tr>\n",
       "            <tr>\n",
       "                        <th id=\"T_90bb1_level0_row8\" class=\"row_heading level0 row8\" >Destination</th>\n",
       "                        <td id=\"T_90bb1_row8_col0\" class=\"data row8 col0\" >160</td>\n",
       "                        <td id=\"T_90bb1_row8_col1\" class=\"data row8 col1\" >0.020000</td>\n",
       "            </tr>\n",
       "            <tr>\n",
       "                        <th id=\"T_90bb1_level0_row9\" class=\"row_heading level0 row9\" >Spa</th>\n",
       "                        <td id=\"T_90bb1_row9_col0\" class=\"data row9 col0\" >158</td>\n",
       "                        <td id=\"T_90bb1_row9_col1\" class=\"data row9 col1\" >0.020000</td>\n",
       "            </tr>\n",
       "            <tr>\n",
       "                        <th id=\"T_90bb1_level0_row10\" class=\"row_heading level0 row10\" >FoodCourt</th>\n",
       "                        <td id=\"T_90bb1_row10_col0\" class=\"data row10 col0\" >155</td>\n",
       "                        <td id=\"T_90bb1_row10_col1\" class=\"data row10 col1\" >0.020000</td>\n",
       "            </tr>\n",
       "            <tr>\n",
       "                        <th id=\"T_90bb1_level0_row11\" class=\"row_heading level0 row11\" >RoomService</th>\n",
       "                        <td id=\"T_90bb1_row11_col0\" class=\"data row11 col0\" >154</td>\n",
       "                        <td id=\"T_90bb1_row11_col1\" class=\"data row11 col1\" >0.020000</td>\n",
       "            </tr>\n",
       "            <tr>\n",
       "                        <th id=\"T_90bb1_level0_row12\" class=\"row_heading level0 row12\" >PassengerId</th>\n",
       "                        <td id=\"T_90bb1_row12_col0\" class=\"data row12 col0\" >0</td>\n",
       "                        <td id=\"T_90bb1_row12_col1\" class=\"data row12 col1\" >0.000000</td>\n",
       "            </tr>\n",
       "            <tr>\n",
       "                        <th id=\"T_90bb1_level0_row13\" class=\"row_heading level0 row13\" >Transported</th>\n",
       "                        <td id=\"T_90bb1_row13_col0\" class=\"data row13 col0\" >0</td>\n",
       "                        <td id=\"T_90bb1_row13_col1\" class=\"data row13 col1\" >0.000000</td>\n",
       "            </tr>\n",
       "    </tbody></table>"
      ],
      "text/plain": [
       "<pandas.io.formats.style.Styler at 0x7efebf9fb220>"
      ]
     },
     "execution_count": 8,
     "metadata": {},
     "output_type": "execute_result"
    }
   ],
   "source": [
    "total = train.isnull().sum().sort_values(ascending = False)\n",
    "percent = (train.isnull().sum() / train.isnull().count()).sort_values(ascending = False)\n",
    "missing_data = pd.concat([total, round(percent,3)], axis = 1, keys = ['Total_nuls_train', 'Percent'])\n",
    "missing_data.style.background_gradient(subset = [\"Percent\"])"
   ]
  },
  {
   "cell_type": "code",
   "execution_count": 9,
   "id": "fee4f726",
   "metadata": {},
   "outputs": [
    {
     "name": "stdout",
     "output_type": "stream",
     "text": [
      " Total de nulos en train:  2073 \n",
      " Porcentaje de nulos en train:  26.5\n"
     ]
    }
   ],
   "source": [
    "total_nuls = missing_data.Total_nuls_train.sum()\n",
    "perc_nuls = (total_nuls * 100)/len(train)\n",
    "print(' Total de nulos en train: ',total_nuls,'\\n Porcentaje de nulos en train: ',round(perc_nuls,2))"
   ]
  },
  {
   "cell_type": "markdown",
   "id": "3f6ebb0d",
   "metadata": {},
   "source": [
    ">**Basandonos en que el numero de datos nulos total representa un 26.5% del total d datos de train, es posible que tengamos que imputar datos.** "
   ]
  },
  {
   "cell_type": "markdown",
   "id": "02dd6cca",
   "metadata": {},
   "source": [
    "## Analisis exploratorio de variables de 'train'."
   ]
  },
  {
   "cell_type": "code",
   "execution_count": 10,
   "id": "a7a542bf",
   "metadata": {},
   "outputs": [
    {
     "data": {
      "text/plain": [
       "Index(['PassengerId', 'HomePlanet', 'CryoSleep', 'Cabin', 'Destination', 'Age',\n",
       "       'VIP', 'RoomService', 'FoodCourt', 'ShoppingMall', 'Spa', 'VRDeck',\n",
       "       'Name', 'Transported'],\n",
       "      dtype='object')"
      ]
     },
     "execution_count": 10,
     "metadata": {},
     "output_type": "execute_result"
    }
   ],
   "source": [
    "train.columns"
   ]
  },
  {
   "cell_type": "code",
   "execution_count": 11,
   "id": "2ea165f1",
   "metadata": {},
   "outputs": [
    {
     "data": {
      "text/plain": [
       "PassengerId       int64\n",
       "HomePlanet       object\n",
       "CryoSleep        object\n",
       "Cabin            object\n",
       "Destination      object\n",
       "Age             float64\n",
       "VIP              object\n",
       "RoomService     float64\n",
       "FoodCourt       float64\n",
       "ShoppingMall    float64\n",
       "Spa             float64\n",
       "VRDeck          float64\n",
       "Name             object\n",
       "Transported       int64\n",
       "dtype: object"
      ]
     },
     "execution_count": 11,
     "metadata": {},
     "output_type": "execute_result"
    }
   ],
   "source": [
    "train.dtypes"
   ]
  },
  {
   "cell_type": "code",
   "execution_count": 12,
   "id": "fc0662af",
   "metadata": {},
   "outputs": [],
   "source": [
    "plt.rcParams['figure.figsize'] = (7, 5)"
   ]
  },
  {
   "cell_type": "code",
   "execution_count": 13,
   "id": "c7d30bc1",
   "metadata": {
    "scrolled": true
   },
   "outputs": [],
   "source": [
    "#Homeplanet\n",
    "#sns.histplot(data = train, x='HomePlanet',hue='Transported',palette='ocean');"
   ]
  },
  {
   "cell_type": "code",
   "execution_count": 14,
   "id": "c69b6761",
   "metadata": {},
   "outputs": [],
   "source": [
    "#Destination\n",
    "#sns.histplot(data = train, x='Destination',hue='Transported',palette='ocean');"
   ]
  },
  {
   "cell_type": "code",
   "execution_count": 15,
   "id": "1925b293",
   "metadata": {},
   "outputs": [],
   "source": [
    "#Age\n",
    "#sns.histplot(data = train, x='Age',hue='Transported',palette='ocean');"
   ]
  },
  {
   "cell_type": "code",
   "execution_count": 16,
   "id": "8ca40d46",
   "metadata": {
    "scrolled": true
   },
   "outputs": [
    {
     "data": {
      "text/plain": [
       "G/734/S     8\n",
       "F/1194/P    7\n",
       "E/13/S      7\n",
       "B/201/P     7\n",
       "C/21/P      6\n",
       "           ..\n",
       "D/19/P      1\n",
       "C/174/P     1\n",
       "E/320/P     1\n",
       "F/669/P     1\n",
       "G/934/S     1\n",
       "Name: Cabin, Length: 6009, dtype: int64"
      ]
     },
     "execution_count": 16,
     "metadata": {},
     "output_type": "execute_result"
    }
   ],
   "source": [
    "#Cabin\n",
    "train.Cabin.value_counts()"
   ]
  },
  {
   "cell_type": "markdown",
   "id": "a205aba7",
   "metadata": {},
   "source": [
    "## Analisis descriptivo de variables que no seran graficadas.  \n",
    "> Las variables **CryoSleep** y **VIP** son de tipo booleano.  \n",
    "> La variable **Cabin** representa el numero de cabina con el detalle de si es en babor(P) o estribor(S).  \n",
    "> La variable **Name** representa el nombre completo del pasajero.  \n",
    "> La variable **PassengerId** representa el id del pasajero.  "
   ]
  },
  {
   "cell_type": "markdown",
   "id": "e0f4d095",
   "metadata": {},
   "source": [
    "**Analisis de variables referidas al monto que el pasajero ha facturado en cada uno de los muchos servicios de lujo del Spaceship Titanic.**"
   ]
  },
  {
   "cell_type": "code",
   "execution_count": 17,
   "id": "386e3d3b",
   "metadata": {},
   "outputs": [
    {
     "data": {
      "image/png": "[encoded data removed]",
      "text/plain": [
       "<Figure size 504x360 with 1 Axes>"
      ]
     },
     "metadata": {
      "needs_background": "light"
     },
     "output_type": "display_data"
    }
   ],
   "source": [
    "sns.boxenplot(train.RoomService,showfliers=False);"
   ]
  },
  {
   "cell_type": "code",
   "execution_count": null,
   "id": "2a11d7cf",
   "metadata": {},
   "outputs": [],
   "source": []
  },
  {
   "cell_type": "code",
   "execution_count": 18,
   "id": "787028c5",
   "metadata": {},
   "outputs": [
    {
     "data": {
      "image/png": "[encoded data removed]",
      "text/plain": [
       "<Figure size 504x360 with 1 Axes>"
      ]
     },
     "metadata": {
      "needs_background": "light"
     },
     "output_type": "display_data"
    }
   ],
   "source": [
    "sns.boxenplot(train.FoodCourt,showfliers=False);"
   ]
  },
  {
   "cell_type": "code",
   "execution_count": 19,
   "id": "456df91a",
   "metadata": {},
   "outputs": [
    {
     "data": {
      "image/png": "[encoded data removed]",
      "text/plain": [
       "<Figure size 504x360 with 1 Axes>"
      ]
     },
     "metadata": {
      "needs_background": "light"
     },
     "output_type": "display_data"
    }
   ],
   "source": [
    "sns.boxenplot(train.ShoppingMall,showfliers=False);"
   ]
  },
  {
   "cell_type": "code",
   "execution_count": 20,
   "id": "81917615",
   "metadata": {},
   "outputs": [
    {
     "data": {
      "image/png": "[encoded data removed]",
      "text/plain": [
       "<Figure size 504x360 with 1 Axes>"
      ]
     },
     "metadata": {
      "needs_background": "light"
     },
     "output_type": "display_data"
    }
   ],
   "source": [
    "sns.boxenplot(train.Spa,showfliers=False);"
   ]
  },
  {
   "cell_type": "code",
   "execution_count": 21,
   "id": "c4fe1494",
   "metadata": {},
   "outputs": [
    {
     "data": {
      "image/png": "[encoded data removed]",
      "text/plain": [
       "<Figure size 504x360 with 1 Axes>"
      ]
     },
     "metadata": {
      "needs_background": "light"
     },
     "output_type": "display_data"
    }
   ],
   "source": [
    "sns.boxenplot(train.VRDeck ,showfliers=False);"
   ]
  },
  {
   "cell_type": "markdown",
   "id": "2f0e4a84",
   "metadata": {},
   "source": [
    "## Algunas conclusiones\n",
    "\n",
    ">*A partir de las observaciones realizadas sobre los datos, podemos decir que las variables correspondientes al grupo de Servicios de lujo del Spaceship Titanic, contiene datos un poco desbalanceados con Outliers.  \n",
    ">*A demas las variables **CryoSleep** y **VIP** son del tipo booleano, por lo cual probablemente deban descartarse o ser reemplazadas por valores numericos como 0 y 1.  \n",
    ">*Las columnas categoricas Homeplanet y Destination aportan una posible clasificacion del target.  \n"
   ]
  },
  {
   "cell_type": "markdown",
   "id": "e5aece65",
   "metadata": {},
   "source": [
    "## Posibles acciones\n",
    "\n",
    ">*Usar metodo de imputacion de valores faltantes a los nulos de cada variable.  \n",
    ">*Probar una limpieza de outliers de las columnas de montos en lujos.  \n",
    ">*encodear las variables categoricas.  \n",
    ">*Con respecto a las dos variables tipo boolean, ver si combiene encodearlas o modificarlas por transformarlas en 0 y 1.  \n",
    ">*elegir columnas a excluir como por Name.  "
   ]
  },
  {
   "cell_type": "markdown",
   "id": "73db0017",
   "metadata": {},
   "source": [
    "__________"
   ]
  },
  {
   "cell_type": "markdown",
   "id": "9b9e4e29",
   "metadata": {},
   "source": [
    "#### Breve analisis de nulos en 'Test'."
   ]
  },
  {
   "cell_type": "code",
   "execution_count": 22,
   "id": "b3753def",
   "metadata": {},
   "outputs": [
    {
     "data": {
      "text/html": [
       "<style  type=\"text/css\" >\n",
       "#T_a2d04_row0_col1{\n",
       "            width:  10em;\n",
       "             height:  80%;\n",
       "            background:  linear-gradient(90deg,lightblue 100.0%, transparent 100.0%);\n",
       "        }#T_a2d04_row1_col1{\n",
       "            width:  10em;\n",
       "             height:  80%;\n",
       "            background:  linear-gradient(90deg,lightblue 96.9%, transparent 96.9%);\n",
       "        }#T_a2d04_row2_col1{\n",
       "            width:  10em;\n",
       "             height:  80%;\n",
       "            background:  linear-gradient(90deg,lightblue 90.6%, transparent 90.6%);\n",
       "        }#T_a2d04_row3_col1,#T_a2d04_row4_col1{\n",
       "            width:  10em;\n",
       "             height:  80%;\n",
       "            background:  linear-gradient(90deg,lightblue 78.1%, transparent 78.1%);\n",
       "        }#T_a2d04_row5_col1{\n",
       "            width:  10em;\n",
       "             height:  80%;\n",
       "            background:  linear-gradient(90deg,lightblue 75.0%, transparent 75.0%);\n",
       "        }#T_a2d04_row6_col1{\n",
       "            width:  10em;\n",
       "             height:  80%;\n",
       "            background:  linear-gradient(90deg,lightblue 71.9%, transparent 71.9%);\n",
       "        }#T_a2d04_row7_col1,#T_a2d04_row8_col1{\n",
       "            width:  10em;\n",
       "             height:  80%;\n",
       "            background:  linear-gradient(90deg,lightblue 68.7%, transparent 68.7%);\n",
       "        }#T_a2d04_row9_col1{\n",
       "            width:  10em;\n",
       "             height:  80%;\n",
       "            background:  linear-gradient(90deg,lightblue 62.5%, transparent 62.5%);\n",
       "        }#T_a2d04_row10_col1{\n",
       "            width:  10em;\n",
       "             height:  80%;\n",
       "            background:  linear-gradient(90deg,lightblue 56.2%, transparent 56.2%);\n",
       "        }#T_a2d04_row11_col1{\n",
       "            width:  10em;\n",
       "             height:  80%;\n",
       "            background:  linear-gradient(90deg,lightblue 53.1%, transparent 53.1%);\n",
       "        }#T_a2d04_row12_col1{\n",
       "            width:  10em;\n",
       "             height:  80%;\n",
       "        }</style><table id=\"T_a2d04_\" ><thead>    <tr>        <th class=\"blank level0\" ></th>        <th class=\"col_heading level0 col0\" >Total_nulls_test</th>        <th class=\"col_heading level0 col1\" >Percent</th>    </tr></thead><tbody>\n",
       "                <tr>\n",
       "                        <th id=\"T_a2d04_level0_row0\" class=\"row_heading level0 row0\" >FoodCourt</th>\n",
       "                        <td id=\"T_a2d04_row0_col0\" class=\"data row0 col0\" >28</td>\n",
       "                        <td id=\"T_a2d04_row0_col1\" class=\"data row0 col1\" >0.032000</td>\n",
       "            </tr>\n",
       "            <tr>\n",
       "                        <th id=\"T_a2d04_level0_row1\" class=\"row_heading level0 row1\" >RoomService</th>\n",
       "                        <td id=\"T_a2d04_row1_col0\" class=\"data row1 col0\" >27</td>\n",
       "                        <td id=\"T_a2d04_row1_col1\" class=\"data row1 col1\" >0.031000</td>\n",
       "            </tr>\n",
       "            <tr>\n",
       "                        <th id=\"T_a2d04_level0_row2\" class=\"row_heading level0 row2\" >Spa</th>\n",
       "                        <td id=\"T_a2d04_row2_col0\" class=\"data row2 col0\" >25</td>\n",
       "                        <td id=\"T_a2d04_row2_col1\" class=\"data row2 col1\" >0.029000</td>\n",
       "            </tr>\n",
       "            <tr>\n",
       "                        <th id=\"T_a2d04_level0_row3\" class=\"row_heading level0 row3\" >HomePlanet</th>\n",
       "                        <td id=\"T_a2d04_row3_col0\" class=\"data row3 col0\" >22</td>\n",
       "                        <td id=\"T_a2d04_row3_col1\" class=\"data row3 col1\" >0.025000</td>\n",
       "            </tr>\n",
       "            <tr>\n",
       "                        <th id=\"T_a2d04_level0_row4\" class=\"row_heading level0 row4\" >Destination</th>\n",
       "                        <td id=\"T_a2d04_row4_col0\" class=\"data row4 col0\" >22</td>\n",
       "                        <td id=\"T_a2d04_row4_col1\" class=\"data row4 col1\" >0.025000</td>\n",
       "            </tr>\n",
       "            <tr>\n",
       "                        <th id=\"T_a2d04_level0_row5\" class=\"row_heading level0 row5\" >CryoSleep</th>\n",
       "                        <td id=\"T_a2d04_row5_col0\" class=\"data row5 col0\" >21</td>\n",
       "                        <td id=\"T_a2d04_row5_col1\" class=\"data row5 col1\" >0.024000</td>\n",
       "            </tr>\n",
       "            <tr>\n",
       "                        <th id=\"T_a2d04_level0_row6\" class=\"row_heading level0 row6\" >ShoppingMall</th>\n",
       "                        <td id=\"T_a2d04_row6_col0\" class=\"data row6 col0\" >20</td>\n",
       "                        <td id=\"T_a2d04_row6_col1\" class=\"data row6 col1\" >0.023000</td>\n",
       "            </tr>\n",
       "            <tr>\n",
       "                        <th id=\"T_a2d04_level0_row7\" class=\"row_heading level0 row7\" >VIP</th>\n",
       "                        <td id=\"T_a2d04_row7_col0\" class=\"data row7 col0\" >19</td>\n",
       "                        <td id=\"T_a2d04_row7_col1\" class=\"data row7 col1\" >0.022000</td>\n",
       "            </tr>\n",
       "            <tr>\n",
       "                        <th id=\"T_a2d04_level0_row8\" class=\"row_heading level0 row8\" >VRDeck</th>\n",
       "                        <td id=\"T_a2d04_row8_col0\" class=\"data row8 col0\" >19</td>\n",
       "                        <td id=\"T_a2d04_row8_col1\" class=\"data row8 col1\" >0.022000</td>\n",
       "            </tr>\n",
       "            <tr>\n",
       "                        <th id=\"T_a2d04_level0_row9\" class=\"row_heading level0 row9\" >Age</th>\n",
       "                        <td id=\"T_a2d04_row9_col0\" class=\"data row9 col0\" >17</td>\n",
       "                        <td id=\"T_a2d04_row9_col1\" class=\"data row9 col1\" >0.020000</td>\n",
       "            </tr>\n",
       "            <tr>\n",
       "                        <th id=\"T_a2d04_level0_row10\" class=\"row_heading level0 row10\" >Name</th>\n",
       "                        <td id=\"T_a2d04_row10_col0\" class=\"data row10 col0\" >16</td>\n",
       "                        <td id=\"T_a2d04_row10_col1\" class=\"data row10 col1\" >0.018000</td>\n",
       "            </tr>\n",
       "            <tr>\n",
       "                        <th id=\"T_a2d04_level0_row11\" class=\"row_heading level0 row11\" >Cabin</th>\n",
       "                        <td id=\"T_a2d04_row11_col0\" class=\"data row11 col0\" >15</td>\n",
       "                        <td id=\"T_a2d04_row11_col1\" class=\"data row11 col1\" >0.017000</td>\n",
       "            </tr>\n",
       "            <tr>\n",
       "                        <th id=\"T_a2d04_level0_row12\" class=\"row_heading level0 row12\" >PassengerId</th>\n",
       "                        <td id=\"T_a2d04_row12_col0\" class=\"data row12 col0\" >0</td>\n",
       "                        <td id=\"T_a2d04_row12_col1\" class=\"data row12 col1\" >0.000000</td>\n",
       "            </tr>\n",
       "    </tbody></table>"
      ],
      "text/plain": [
       "<pandas.io.formats.style.Styler at 0x7efef44e09a0>"
      ]
     },
     "execution_count": 22,
     "metadata": {},
     "output_type": "execute_result"
    }
   ],
   "source": [
    "total = test.isnull().sum().sort_values(ascending = False)\n",
    "percent = (test.isnull().sum() / test.isnull().count()).sort_values(ascending = False)\n",
    "missing_data = pd.concat([total, round(percent,3)], axis = 1, keys = ['Total_nulls_test', 'Percent'])\n",
    "missing_data.style.bar(subset = [\"Percent\"], \n",
    "             color = \"lightblue\", \n",
    "             vmin = 0)"
   ]
  },
  {
   "cell_type": "code",
   "execution_count": 23,
   "id": "de8b4d68",
   "metadata": {},
   "outputs": [
    {
     "name": "stdout",
     "output_type": "stream",
     "text": [
      " Total de nulos en test:  251 \n",
      " Porcentaje de nulos en test:  28.85\n"
     ]
    }
   ],
   "source": [
    "total_nuls = missing_data.Total_nulls_test.sum()\n",
    "perc_nuls = (total_nuls * 100)/len(test)\n",
    "print(' Total de nulos en test: ',total_nuls,'\\n Porcentaje de nulos en test: ',round(perc_nuls,2))"
   ]
  },
  {
   "cell_type": "markdown",
   "id": "2d40bee0",
   "metadata": {},
   "source": [
    "____________"
   ]
  },
  {
   "cell_type": "markdown",
   "id": "79795cb1",
   "metadata": {},
   "source": [
    "### Columnas elegidas para el analisis en 'Train'."
   ]
  },
  {
   "cell_type": "markdown",
   "id": "e4c32160",
   "metadata": {},
   "source": [
    "Columnas elegidas: \n",
    "    "
   ]
  },
  {
   "cell_type": "code",
   "execution_count": 24,
   "id": "2ea4b18b",
   "metadata": {
    "scrolled": true
   },
   "outputs": [
    {
     "data": {
      "text/plain": [
       "['HomePlanet',\n",
       " 'CryoSleep',\n",
       " 'Destination',\n",
       " 'Age',\n",
       " 'VIP',\n",
       " 'RoomService',\n",
       " 'FoodCourt',\n",
       " 'ShoppingMall',\n",
       " 'Spa',\n",
       " 'VRDeck',\n",
       " 'Cabin']"
      ]
     },
     "execution_count": 24,
     "metadata": {},
     "output_type": "execute_result"
    }
   ],
   "source": [
    "['HomePlanet','CryoSleep','Destination','Age','VIP','RoomService','FoodCourt','ShoppingMall','Spa','VRDeck','Cabin']"
   ]
  },
  {
   "cell_type": "markdown",
   "id": "62c1f6f9",
   "metadata": {},
   "source": [
    "Columnas eliminadas debido a que contienen datos que son unicos o keys."
   ]
  },
  {
   "cell_type": "code",
   "execution_count": 25,
   "id": "cccbb76b",
   "metadata": {},
   "outputs": [],
   "source": [
    "train = train.drop(columns = ['Name','PassengerId'])"
   ]
  },
  {
   "cell_type": "code",
   "execution_count": 26,
   "id": "28448b8d",
   "metadata": {},
   "outputs": [
    {
     "data": {
      "text/plain": [
       "(7823, 12)"
      ]
     },
     "execution_count": 26,
     "metadata": {},
     "output_type": "execute_result"
    }
   ],
   "source": [
    "train.shape"
   ]
  },
  {
   "cell_type": "code",
   "execution_count": 27,
   "id": "23f5d966",
   "metadata": {},
   "outputs": [],
   "source": [
    "train_whitout_nuls = train"
   ]
  },
  {
   "cell_type": "markdown",
   "id": "3ddbfe76",
   "metadata": {},
   "source": [
    "### Tratamiento de la variable 'Cabin' y generacion de nuevas features en 'Train'."
   ]
  },
  {
   "cell_type": "code",
   "execution_count": 28,
   "id": "401f0ee9",
   "metadata": {},
   "outputs": [
    {
     "data": {
      "text/plain": [
       "0        C/123/P\n",
       "1        F/126/S\n",
       "2        B/343/S\n",
       "3       F/1420/P\n",
       "4          G/9/P\n",
       "          ...   \n",
       "7818    F/1319/S\n",
       "7819     G/459/S\n",
       "7820    F/1772/P\n",
       "7821     E/253/P\n",
       "7822     B/270/P\n",
       "Name: Cabin, Length: 7823, dtype: object"
      ]
     },
     "execution_count": 28,
     "metadata": {},
     "output_type": "execute_result"
    }
   ],
   "source": [
    "train['Cabin']"
   ]
  },
  {
   "cell_type": "code",
   "execution_count": 29,
   "id": "d3188acb",
   "metadata": {},
   "outputs": [],
   "source": [
    "new_features = train['Cabin'].str.split(pat=\"/\",expand=True)"
   ]
  },
  {
   "cell_type": "code",
   "execution_count": 30,
   "id": "df35b9b8",
   "metadata": {},
   "outputs": [
    {
     "data": {
      "text/html": [
       "<div>\n",
       "<style scoped>\n",
       "    .dataframe tbody tr th:only-of-type {\n",
       "        vertical-align: middle;\n",
       "    }\n",
       "\n",
       "    .dataframe tbody tr th {\n",
       "        vertical-align: top;\n",
       "    }\n",
       "\n",
       "    .dataframe thead th {\n",
       "        text-align: right;\n",
       "    }\n",
       "</style>\n",
       "<table border=\"1\" class=\"dataframe\">\n",
       "  <thead>\n",
       "    <tr style=\"text-align: right;\">\n",
       "      <th></th>\n",
       "      <th>Deck_of_spaceship</th>\n",
       "      <th>Number_of_cabin</th>\n",
       "      <th>Port_or_Starboard</th>\n",
       "    </tr>\n",
       "  </thead>\n",
       "  <tbody>\n",
       "    <tr>\n",
       "      <th>0</th>\n",
       "      <td>C</td>\n",
       "      <td>123</td>\n",
       "      <td>P</td>\n",
       "    </tr>\n",
       "    <tr>\n",
       "      <th>1</th>\n",
       "      <td>F</td>\n",
       "      <td>126</td>\n",
       "      <td>S</td>\n",
       "    </tr>\n",
       "    <tr>\n",
       "      <th>2</th>\n",
       "      <td>B</td>\n",
       "      <td>343</td>\n",
       "      <td>S</td>\n",
       "    </tr>\n",
       "    <tr>\n",
       "      <th>3</th>\n",
       "      <td>F</td>\n",
       "      <td>1420</td>\n",
       "      <td>P</td>\n",
       "    </tr>\n",
       "    <tr>\n",
       "      <th>4</th>\n",
       "      <td>G</td>\n",
       "      <td>9</td>\n",
       "      <td>P</td>\n",
       "    </tr>\n",
       "  </tbody>\n",
       "</table>\n",
       "</div>"
      ],
      "text/plain": [
       "  Deck_of_spaceship Number_of_cabin Port_or_Starboard\n",
       "0                 C             123                 P\n",
       "1                 F             126                 S\n",
       "2                 B             343                 S\n",
       "3                 F            1420                 P\n",
       "4                 G               9                 P"
      ]
     },
     "execution_count": 30,
     "metadata": {},
     "output_type": "execute_result"
    }
   ],
   "source": [
    "new_features = new_features.rename(columns={0:'Deck_of_spaceship',1:'Number_of_cabin',2:'Port_or_Starboard'})\n",
    "new_features.head()"
   ]
  },
  {
   "cell_type": "code",
   "execution_count": 31,
   "id": "ccd0a1c7-5ecb-4d26-9e19-b6a7c2a50093",
   "metadata": {},
   "outputs": [
    {
     "data": {
      "text/plain": [
       "F    2499\n",
       "G    2294\n",
       "E     792\n",
       "B     698\n",
       "C     680\n",
       "D     435\n",
       "A     237\n",
       "T       4\n",
       "Name: Deck_of_spaceship, dtype: int64"
      ]
     },
     "execution_count": 31,
     "metadata": {},
     "output_type": "execute_result"
    }
   ],
   "source": [
    "new_features.Deck_of_spaceship.value_counts()"
   ]
  },
  {
   "cell_type": "code",
   "execution_count": 32,
   "id": "e0197ab6",
   "metadata": {},
   "outputs": [],
   "source": [
    "#Eliminamos la columna 'Cabin' ya que las nuevas features aportan informacion con mas peso.\n",
    "train = train.drop(columns='Cabin')"
   ]
  },
  {
   "cell_type": "code",
   "execution_count": 33,
   "id": "3600917b",
   "metadata": {},
   "outputs": [
    {
     "data": {
      "text/html": [
       "<div>\n",
       "<style scoped>\n",
       "    .dataframe tbody tr th:only-of-type {\n",
       "        vertical-align: middle;\n",
       "    }\n",
       "\n",
       "    .dataframe tbody tr th {\n",
       "        vertical-align: top;\n",
       "    }\n",
       "\n",
       "    .dataframe thead th {\n",
       "        text-align: right;\n",
       "    }\n",
       "</style>\n",
       "<table border=\"1\" class=\"dataframe\">\n",
       "  <thead>\n",
       "    <tr style=\"text-align: right;\">\n",
       "      <th></th>\n",
       "      <th>HomePlanet</th>\n",
       "      <th>CryoSleep</th>\n",
       "      <th>Destination</th>\n",
       "      <th>Age</th>\n",
       "      <th>VIP</th>\n",
       "      <th>RoomService</th>\n",
       "      <th>FoodCourt</th>\n",
       "      <th>ShoppingMall</th>\n",
       "      <th>Spa</th>\n",
       "      <th>VRDeck</th>\n",
       "      <th>Transported</th>\n",
       "      <th>Deck_of_spaceship</th>\n",
       "      <th>Number_of_cabin</th>\n",
       "      <th>Port_or_Starboard</th>\n",
       "    </tr>\n",
       "  </thead>\n",
       "  <tbody>\n",
       "    <tr>\n",
       "      <th>0</th>\n",
       "      <td>Europa</td>\n",
       "      <td>False</td>\n",
       "      <td>TRAPPIST-1e</td>\n",
       "      <td>57.0</td>\n",
       "      <td>False</td>\n",
       "      <td>0.0</td>\n",
       "      <td>3859.0</td>\n",
       "      <td>13.0</td>\n",
       "      <td>195.0</td>\n",
       "      <td>3874.0</td>\n",
       "      <td>0</td>\n",
       "      <td>C</td>\n",
       "      <td>123</td>\n",
       "      <td>P</td>\n",
       "    </tr>\n",
       "    <tr>\n",
       "      <th>1</th>\n",
       "      <td>Mars</td>\n",
       "      <td>True</td>\n",
       "      <td>NaN</td>\n",
       "      <td>18.0</td>\n",
       "      <td>False</td>\n",
       "      <td>0.0</td>\n",
       "      <td>0.0</td>\n",
       "      <td>0.0</td>\n",
       "      <td>0.0</td>\n",
       "      <td>0.0</td>\n",
       "      <td>1</td>\n",
       "      <td>F</td>\n",
       "      <td>126</td>\n",
       "      <td>S</td>\n",
       "    </tr>\n",
       "    <tr>\n",
       "      <th>2</th>\n",
       "      <td>Europa</td>\n",
       "      <td>True</td>\n",
       "      <td>TRAPPIST-1e</td>\n",
       "      <td>33.0</td>\n",
       "      <td>NaN</td>\n",
       "      <td>0.0</td>\n",
       "      <td>0.0</td>\n",
       "      <td>0.0</td>\n",
       "      <td>0.0</td>\n",
       "      <td>0.0</td>\n",
       "      <td>1</td>\n",
       "      <td>B</td>\n",
       "      <td>343</td>\n",
       "      <td>S</td>\n",
       "    </tr>\n",
       "    <tr>\n",
       "      <th>3</th>\n",
       "      <td>Earth</td>\n",
       "      <td>False</td>\n",
       "      <td>TRAPPIST-1e</td>\n",
       "      <td>43.0</td>\n",
       "      <td>False</td>\n",
       "      <td>142.0</td>\n",
       "      <td>1208.0</td>\n",
       "      <td>0.0</td>\n",
       "      <td>0.0</td>\n",
       "      <td>204.0</td>\n",
       "      <td>0</td>\n",
       "      <td>F</td>\n",
       "      <td>1420</td>\n",
       "      <td>P</td>\n",
       "    </tr>\n",
       "    <tr>\n",
       "      <th>4</th>\n",
       "      <td>Earth</td>\n",
       "      <td>False</td>\n",
       "      <td>TRAPPIST-1e</td>\n",
       "      <td>19.0</td>\n",
       "      <td>False</td>\n",
       "      <td>0.0</td>\n",
       "      <td>0.0</td>\n",
       "      <td>670.0</td>\n",
       "      <td>1.0</td>\n",
       "      <td>34.0</td>\n",
       "      <td>0</td>\n",
       "      <td>G</td>\n",
       "      <td>9</td>\n",
       "      <td>P</td>\n",
       "    </tr>\n",
       "  </tbody>\n",
       "</table>\n",
       "</div>"
      ],
      "text/plain": [
       "  HomePlanet CryoSleep  Destination   Age    VIP  RoomService  FoodCourt  \\\n",
       "0     Europa     False  TRAPPIST-1e  57.0  False          0.0     3859.0   \n",
       "1       Mars      True          NaN  18.0  False          0.0        0.0   \n",
       "2     Europa      True  TRAPPIST-1e  33.0    NaN          0.0        0.0   \n",
       "3      Earth     False  TRAPPIST-1e  43.0  False        142.0     1208.0   \n",
       "4      Earth     False  TRAPPIST-1e  19.0  False          0.0        0.0   \n",
       "\n",
       "   ShoppingMall    Spa  VRDeck  Transported Deck_of_spaceship Number_of_cabin  \\\n",
       "0          13.0  195.0  3874.0            0                 C             123   \n",
       "1           0.0    0.0     0.0            1                 F             126   \n",
       "2           0.0    0.0     0.0            1                 B             343   \n",
       "3           0.0    0.0   204.0            0                 F            1420   \n",
       "4         670.0    1.0    34.0            0                 G               9   \n",
       "\n",
       "  Port_or_Starboard  \n",
       "0                 P  \n",
       "1                 S  \n",
       "2                 S  \n",
       "3                 P  \n",
       "4                 P  "
      ]
     },
     "execution_count": 33,
     "metadata": {},
     "output_type": "execute_result"
    }
   ],
   "source": [
    "train = train.join(new_features, lsuffix='_caller', rsuffix='_other')\n",
    "train.head()"
   ]
  },
  {
   "cell_type": "markdown",
   "id": "40c9431d",
   "metadata": {},
   "source": [
    "Nuevas features Agregadas:  \n",
    ">Deck_of_spaceship : Cubierta  \n",
    ">Number_of_cabin   : Numero de Cabina  \n",
    ">Port_or_Starboard : S=Babor, P=Estribor  \n"
   ]
  },
  {
   "cell_type": "markdown",
   "id": "65a451c5",
   "metadata": {},
   "source": [
    "_________"
   ]
  },
  {
   "cell_type": "markdown",
   "id": "8d05ac0e",
   "metadata": {},
   "source": [
    "# Imputacion de valores nulos en 'Train' para las columnas numericas."
   ]
  },
  {
   "cell_type": "code",
   "execution_count": 34,
   "id": "47ef978f",
   "metadata": {},
   "outputs": [],
   "source": [
    "train_whitout_nuls = train"
   ]
  },
  {
   "cell_type": "code",
   "execution_count": 35,
   "id": "7fbade05",
   "metadata": {},
   "outputs": [
    {
     "data": {
      "text/html": [
       "<style  type=\"text/css\" >\n",
       "#T_97eaa_row0_col1{\n",
       "            width:  10em;\n",
       "             height:  80%;\n",
       "            background:  linear-gradient(90deg,lightblue 100.0%, transparent 100.0%);\n",
       "        }#T_97eaa_row1_col1,#T_97eaa_row2_col1,#T_97eaa_row3_col1,#T_97eaa_row4_col1,#T_97eaa_row5_col1{\n",
       "            width:  10em;\n",
       "             height:  80%;\n",
       "            background:  linear-gradient(90deg,lightblue 96.0%, transparent 96.0%);\n",
       "        }#T_97eaa_row6_col1{\n",
       "            width:  10em;\n",
       "             height:  80%;\n",
       "            background:  linear-gradient(90deg,lightblue 92.0%, transparent 92.0%);\n",
       "        }#T_97eaa_row7_col1{\n",
       "            width:  10em;\n",
       "             height:  80%;\n",
       "            background:  linear-gradient(90deg,lightblue 88.0%, transparent 88.0%);\n",
       "        }#T_97eaa_row8_col1{\n",
       "            width:  10em;\n",
       "             height:  80%;\n",
       "            background:  linear-gradient(90deg,lightblue 84.0%, transparent 84.0%);\n",
       "        }#T_97eaa_row9_col1,#T_97eaa_row10_col1,#T_97eaa_row11_col1,#T_97eaa_row12_col1{\n",
       "            width:  10em;\n",
       "             height:  80%;\n",
       "            background:  linear-gradient(90deg,lightblue 80.0%, transparent 80.0%);\n",
       "        }#T_97eaa_row13_col1{\n",
       "            width:  10em;\n",
       "             height:  80%;\n",
       "        }</style><table id=\"T_97eaa_\" ><thead>    <tr>        <th class=\"blank level0\" ></th>        <th class=\"col_heading level0 col0\" >Total_nulls_test</th>        <th class=\"col_heading level0 col1\" >Percent</th>    </tr></thead><tbody>\n",
       "                <tr>\n",
       "                        <th id=\"T_97eaa_level0_row0\" class=\"row_heading level0 row0\" >CryoSleep</th>\n",
       "                        <td id=\"T_97eaa_row0_col0\" class=\"data row0 col0\" >196</td>\n",
       "                        <td id=\"T_97eaa_row0_col1\" class=\"data row0 col1\" >0.025000</td>\n",
       "            </tr>\n",
       "            <tr>\n",
       "                        <th id=\"T_97eaa_level0_row1\" class=\"row_heading level0 row1\" >ShoppingMall</th>\n",
       "                        <td id=\"T_97eaa_row1_col0\" class=\"data row1 col0\" >188</td>\n",
       "                        <td id=\"T_97eaa_row1_col1\" class=\"data row1 col1\" >0.024000</td>\n",
       "            </tr>\n",
       "            <tr>\n",
       "                        <th id=\"T_97eaa_level0_row2\" class=\"row_heading level0 row2\" >VIP</th>\n",
       "                        <td id=\"T_97eaa_row2_col0\" class=\"data row2 col0\" >184</td>\n",
       "                        <td id=\"T_97eaa_row2_col1\" class=\"data row2 col1\" >0.024000</td>\n",
       "            </tr>\n",
       "            <tr>\n",
       "                        <th id=\"T_97eaa_level0_row3\" class=\"row_heading level0 row3\" >Deck_of_spaceship</th>\n",
       "                        <td id=\"T_97eaa_row3_col0\" class=\"data row3 col0\" >184</td>\n",
       "                        <td id=\"T_97eaa_row3_col1\" class=\"data row3 col1\" >0.024000</td>\n",
       "            </tr>\n",
       "            <tr>\n",
       "                        <th id=\"T_97eaa_level0_row4\" class=\"row_heading level0 row4\" >Number_of_cabin</th>\n",
       "                        <td id=\"T_97eaa_row4_col0\" class=\"data row4 col0\" >184</td>\n",
       "                        <td id=\"T_97eaa_row4_col1\" class=\"data row4 col1\" >0.024000</td>\n",
       "            </tr>\n",
       "            <tr>\n",
       "                        <th id=\"T_97eaa_level0_row5\" class=\"row_heading level0 row5\" >Port_or_Starboard</th>\n",
       "                        <td id=\"T_97eaa_row5_col0\" class=\"data row5 col0\" >184</td>\n",
       "                        <td id=\"T_97eaa_row5_col1\" class=\"data row5 col1\" >0.024000</td>\n",
       "            </tr>\n",
       "            <tr>\n",
       "                        <th id=\"T_97eaa_level0_row6\" class=\"row_heading level0 row6\" >HomePlanet</th>\n",
       "                        <td id=\"T_97eaa_row6_col0\" class=\"data row6 col0\" >179</td>\n",
       "                        <td id=\"T_97eaa_row6_col1\" class=\"data row6 col1\" >0.023000</td>\n",
       "            </tr>\n",
       "            <tr>\n",
       "                        <th id=\"T_97eaa_level0_row7\" class=\"row_heading level0 row7\" >VRDeck</th>\n",
       "                        <td id=\"T_97eaa_row7_col0\" class=\"data row7 col0\" >169</td>\n",
       "                        <td id=\"T_97eaa_row7_col1\" class=\"data row7 col1\" >0.022000</td>\n",
       "            </tr>\n",
       "            <tr>\n",
       "                        <th id=\"T_97eaa_level0_row8\" class=\"row_heading level0 row8\" >Age</th>\n",
       "                        <td id=\"T_97eaa_row8_col0\" class=\"data row8 col0\" >162</td>\n",
       "                        <td id=\"T_97eaa_row8_col1\" class=\"data row8 col1\" >0.021000</td>\n",
       "            </tr>\n",
       "            <tr>\n",
       "                        <th id=\"T_97eaa_level0_row9\" class=\"row_heading level0 row9\" >Destination</th>\n",
       "                        <td id=\"T_97eaa_row9_col0\" class=\"data row9 col0\" >160</td>\n",
       "                        <td id=\"T_97eaa_row9_col1\" class=\"data row9 col1\" >0.020000</td>\n",
       "            </tr>\n",
       "            <tr>\n",
       "                        <th id=\"T_97eaa_level0_row10\" class=\"row_heading level0 row10\" >Spa</th>\n",
       "                        <td id=\"T_97eaa_row10_col0\" class=\"data row10 col0\" >158</td>\n",
       "                        <td id=\"T_97eaa_row10_col1\" class=\"data row10 col1\" >0.020000</td>\n",
       "            </tr>\n",
       "            <tr>\n",
       "                        <th id=\"T_97eaa_level0_row11\" class=\"row_heading level0 row11\" >FoodCourt</th>\n",
       "                        <td id=\"T_97eaa_row11_col0\" class=\"data row11 col0\" >155</td>\n",
       "                        <td id=\"T_97eaa_row11_col1\" class=\"data row11 col1\" >0.020000</td>\n",
       "            </tr>\n",
       "            <tr>\n",
       "                        <th id=\"T_97eaa_level0_row12\" class=\"row_heading level0 row12\" >RoomService</th>\n",
       "                        <td id=\"T_97eaa_row12_col0\" class=\"data row12 col0\" >154</td>\n",
       "                        <td id=\"T_97eaa_row12_col1\" class=\"data row12 col1\" >0.020000</td>\n",
       "            </tr>\n",
       "            <tr>\n",
       "                        <th id=\"T_97eaa_level0_row13\" class=\"row_heading level0 row13\" >Transported</th>\n",
       "                        <td id=\"T_97eaa_row13_col0\" class=\"data row13 col0\" >0</td>\n",
       "                        <td id=\"T_97eaa_row13_col1\" class=\"data row13 col1\" >0.000000</td>\n",
       "            </tr>\n",
       "    </tbody></table>"
      ],
      "text/plain": [
       "<pandas.io.formats.style.Styler at 0x7efec01db0a0>"
      ]
     },
     "execution_count": 35,
     "metadata": {},
     "output_type": "execute_result"
    }
   ],
   "source": [
    "total = train_whitout_nuls.isnull().sum().sort_values(ascending = False)\n",
    "percent = (train_whitout_nuls.isnull().sum() / train_whitout_nuls.isnull().count()).sort_values(ascending = False)\n",
    "missing_data = pd.concat([total, round(percent,3)], axis = 1, keys = ['Total_nulls_test', 'Percent'])\n",
    "missing_data.style.bar(subset = [\"Percent\"], \n",
    "             color = \"lightblue\", \n",
    "             vmin = 0)"
   ]
  },
  {
   "cell_type": "code",
   "execution_count": 36,
   "id": "58d4939e",
   "metadata": {},
   "outputs": [
    {
     "data": {
      "text/plain": [
       "HomePlanet            object\n",
       "CryoSleep             object\n",
       "Destination           object\n",
       "Age                  float64\n",
       "VIP                   object\n",
       "RoomService          float64\n",
       "FoodCourt            float64\n",
       "ShoppingMall         float64\n",
       "Spa                  float64\n",
       "VRDeck               float64\n",
       "Transported            int64\n",
       "Deck_of_spaceship     object\n",
       "Number_of_cabin       object\n",
       "Port_or_Starboard     object\n",
       "dtype: object"
      ]
     },
     "execution_count": 36,
     "metadata": {},
     "output_type": "execute_result"
    }
   ],
   "source": [
    "train_whitout_nuls.dtypes"
   ]
  },
  {
   "cell_type": "code",
   "execution_count": 37,
   "id": "57d9f374",
   "metadata": {},
   "outputs": [],
   "source": [
    "cat_cols = ['HomePlanet','CryoSleep','Destination','VIP','Deck_of_spaceship','Port_or_Starboard']\n",
    "num_cols = ['Age','RoomService','FoodCourt','ShoppingMall','Spa','VRDeck','Number_of_cabin']"
   ]
  },
  {
   "cell_type": "markdown",
   "id": "961c79df",
   "metadata": {},
   "source": [
    "### Utilizando IterativeImputer imputamos valores faltantes de las columnas numericas de 'Train'."
   ]
  },
  {
   "cell_type": "code",
   "execution_count": 38,
   "id": "5d5540db",
   "metadata": {},
   "outputs": [],
   "source": [
    "from sklearn.experimental import enable_iterative_imputer\n",
    "from sklearn.neighbors import KNeighborsRegressor\n",
    "from sklearn.impute import IterativeImputer\n",
    "from sklearn.preprocessing import StandardScaler"
   ]
  },
  {
   "cell_type": "code",
   "execution_count": 39,
   "id": "e319fe94",
   "metadata": {},
   "outputs": [],
   "source": [
    "mice_imputer = IterativeImputer(random_state=0, estimator=KNeighborsRegressor())\n",
    "\n",
    "train_whitout_nuls[\"Age\"] = StandardScaler().fit_transform(\n",
    "    train_whitout_nuls[[\"Age\"]]\n",
    ")\n",
    "train_whitout_nuls[\"FoodCourt\"] = StandardScaler().fit_transform(\n",
    "    train_whitout_nuls[[\"FoodCourt\"]]\n",
    ")\n",
    "train_whitout_nuls[\"RoomService\"] = StandardScaler().fit_transform(\n",
    "    train_whitout_nuls[[\"RoomService\"]]\n",
    ")\n",
    "train_whitout_nuls[\"ShoppingMall\"] = StandardScaler().fit_transform(\n",
    "    train_whitout_nuls[[\"ShoppingMall\"]]\n",
    ")\n",
    "train_whitout_nuls[\"Spa\"] = StandardScaler().fit_transform(\n",
    "    train_whitout_nuls[[\"Spa\"]]\n",
    ")\n",
    "train_whitout_nuls[\"VRDeck\"] = StandardScaler().fit_transform(\n",
    "    train_whitout_nuls[[\"VRDeck\"]]\n",
    ")\n",
    "train_whitout_nuls[\"Number_of_cabin\"] = StandardScaler().fit_transform(\n",
    "    train_whitout_nuls[[\"Number_of_cabin\"]]\n",
    ")\n",
    "train_whitout_nuls[\n",
    "    [\"Age\", \"FoodCourt\",\"RoomService\",\"ShoppingMall\",\"Spa\",\"VRDeck\",\"Number_of_cabin\"]\n",
    "] = mice_imputer.fit_transform(train_whitout_nuls[[\"Age\", \"FoodCourt\",\"RoomService\",\"ShoppingMall\",\"Spa\",\"VRDeck\",\n",
    "                                                   \"Number_of_cabin\"]])"
   ]
  },
  {
   "cell_type": "code",
   "execution_count": 40,
   "id": "7e8c838e",
   "metadata": {},
   "outputs": [
    {
     "data": {
      "text/html": [
       "<style  type=\"text/css\" >\n",
       "#T_691f9_row0_col1{\n",
       "            width:  10em;\n",
       "             height:  80%;\n",
       "            background:  linear-gradient(90deg,lightgreen 100.0%, transparent 100.0%);\n",
       "        }#T_691f9_row1_col1,#T_691f9_row2_col1,#T_691f9_row3_col1{\n",
       "            width:  10em;\n",
       "             height:  80%;\n",
       "            background:  linear-gradient(90deg,lightgreen 96.0%, transparent 96.0%);\n",
       "        }#T_691f9_row4_col1{\n",
       "            width:  10em;\n",
       "             height:  80%;\n",
       "            background:  linear-gradient(90deg,lightgreen 92.0%, transparent 92.0%);\n",
       "        }#T_691f9_row5_col1{\n",
       "            width:  10em;\n",
       "             height:  80%;\n",
       "            background:  linear-gradient(90deg,lightgreen 80.0%, transparent 80.0%);\n",
       "        }#T_691f9_row6_col1,#T_691f9_row7_col1,#T_691f9_row8_col1,#T_691f9_row9_col1,#T_691f9_row10_col1,#T_691f9_row11_col1,#T_691f9_row12_col1,#T_691f9_row13_col1{\n",
       "            width:  10em;\n",
       "             height:  80%;\n",
       "        }</style><table id=\"T_691f9_\" ><thead>    <tr>        <th class=\"blank level0\" ></th>        <th class=\"col_heading level0 col0\" >Total_nulls_train</th>        <th class=\"col_heading level0 col1\" >Percent</th>    </tr></thead><tbody>\n",
       "                <tr>\n",
       "                        <th id=\"T_691f9_level0_row0\" class=\"row_heading level0 row0\" >CryoSleep</th>\n",
       "                        <td id=\"T_691f9_row0_col0\" class=\"data row0 col0\" >196</td>\n",
       "                        <td id=\"T_691f9_row0_col1\" class=\"data row0 col1\" >0.025000</td>\n",
       "            </tr>\n",
       "            <tr>\n",
       "                        <th id=\"T_691f9_level0_row1\" class=\"row_heading level0 row1\" >VIP</th>\n",
       "                        <td id=\"T_691f9_row1_col0\" class=\"data row1 col0\" >184</td>\n",
       "                        <td id=\"T_691f9_row1_col1\" class=\"data row1 col1\" >0.024000</td>\n",
       "            </tr>\n",
       "            <tr>\n",
       "                        <th id=\"T_691f9_level0_row2\" class=\"row_heading level0 row2\" >Deck_of_spaceship</th>\n",
       "                        <td id=\"T_691f9_row2_col0\" class=\"data row2 col0\" >184</td>\n",
       "                        <td id=\"T_691f9_row2_col1\" class=\"data row2 col1\" >0.024000</td>\n",
       "            </tr>\n",
       "            <tr>\n",
       "                        <th id=\"T_691f9_level0_row3\" class=\"row_heading level0 row3\" >Port_or_Starboard</th>\n",
       "                        <td id=\"T_691f9_row3_col0\" class=\"data row3 col0\" >184</td>\n",
       "                        <td id=\"T_691f9_row3_col1\" class=\"data row3 col1\" >0.024000</td>\n",
       "            </tr>\n",
       "            <tr>\n",
       "                        <th id=\"T_691f9_level0_row4\" class=\"row_heading level0 row4\" >HomePlanet</th>\n",
       "                        <td id=\"T_691f9_row4_col0\" class=\"data row4 col0\" >179</td>\n",
       "                        <td id=\"T_691f9_row4_col1\" class=\"data row4 col1\" >0.023000</td>\n",
       "            </tr>\n",
       "            <tr>\n",
       "                        <th id=\"T_691f9_level0_row5\" class=\"row_heading level0 row5\" >Destination</th>\n",
       "                        <td id=\"T_691f9_row5_col0\" class=\"data row5 col0\" >160</td>\n",
       "                        <td id=\"T_691f9_row5_col1\" class=\"data row5 col1\" >0.020000</td>\n",
       "            </tr>\n",
       "            <tr>\n",
       "                        <th id=\"T_691f9_level0_row6\" class=\"row_heading level0 row6\" >Age</th>\n",
       "                        <td id=\"T_691f9_row6_col0\" class=\"data row6 col0\" >0</td>\n",
       "                        <td id=\"T_691f9_row6_col1\" class=\"data row6 col1\" >0.000000</td>\n",
       "            </tr>\n",
       "            <tr>\n",
       "                        <th id=\"T_691f9_level0_row7\" class=\"row_heading level0 row7\" >RoomService</th>\n",
       "                        <td id=\"T_691f9_row7_col0\" class=\"data row7 col0\" >0</td>\n",
       "                        <td id=\"T_691f9_row7_col1\" class=\"data row7 col1\" >0.000000</td>\n",
       "            </tr>\n",
       "            <tr>\n",
       "                        <th id=\"T_691f9_level0_row8\" class=\"row_heading level0 row8\" >FoodCourt</th>\n",
       "                        <td id=\"T_691f9_row8_col0\" class=\"data row8 col0\" >0</td>\n",
       "                        <td id=\"T_691f9_row8_col1\" class=\"data row8 col1\" >0.000000</td>\n",
       "            </tr>\n",
       "            <tr>\n",
       "                        <th id=\"T_691f9_level0_row9\" class=\"row_heading level0 row9\" >ShoppingMall</th>\n",
       "                        <td id=\"T_691f9_row9_col0\" class=\"data row9 col0\" >0</td>\n",
       "                        <td id=\"T_691f9_row9_col1\" class=\"data row9 col1\" >0.000000</td>\n",
       "            </tr>\n",
       "            <tr>\n",
       "                        <th id=\"T_691f9_level0_row10\" class=\"row_heading level0 row10\" >Spa</th>\n",
       "                        <td id=\"T_691f9_row10_col0\" class=\"data row10 col0\" >0</td>\n",
       "                        <td id=\"T_691f9_row10_col1\" class=\"data row10 col1\" >0.000000</td>\n",
       "            </tr>\n",
       "            <tr>\n",
       "                        <th id=\"T_691f9_level0_row11\" class=\"row_heading level0 row11\" >VRDeck</th>\n",
       "                        <td id=\"T_691f9_row11_col0\" class=\"data row11 col0\" >0</td>\n",
       "                        <td id=\"T_691f9_row11_col1\" class=\"data row11 col1\" >0.000000</td>\n",
       "            </tr>\n",
       "            <tr>\n",
       "                        <th id=\"T_691f9_level0_row12\" class=\"row_heading level0 row12\" >Transported</th>\n",
       "                        <td id=\"T_691f9_row12_col0\" class=\"data row12 col0\" >0</td>\n",
       "                        <td id=\"T_691f9_row12_col1\" class=\"data row12 col1\" >0.000000</td>\n",
       "            </tr>\n",
       "            <tr>\n",
       "                        <th id=\"T_691f9_level0_row13\" class=\"row_heading level0 row13\" >Number_of_cabin</th>\n",
       "                        <td id=\"T_691f9_row13_col0\" class=\"data row13 col0\" >0</td>\n",
       "                        <td id=\"T_691f9_row13_col1\" class=\"data row13 col1\" >0.000000</td>\n",
       "            </tr>\n",
       "    </tbody></table>"
      ],
      "text/plain": [
       "<pandas.io.formats.style.Styler at 0x7efebf9c3ee0>"
      ]
     },
     "execution_count": 40,
     "metadata": {},
     "output_type": "execute_result"
    }
   ],
   "source": [
    "total = train_whitout_nuls.isnull().sum().sort_values(ascending = False)\n",
    "percent = (train_whitout_nuls.isnull().sum() / train_whitout_nuls.isnull().count()).sort_values(ascending = False)\n",
    "missing_data = pd.concat([total, round(percent,3)], axis = 1, keys = ['Total_nulls_train', 'Percent'])\n",
    "missing_data.style.bar(subset = [\"Percent\"], \n",
    "             color = \"lightgreen\", \n",
    "             vmin = 0)"
   ]
  },
  {
   "cell_type": "markdown",
   "id": "16657d6e",
   "metadata": {},
   "source": [
    ">'Train' quedo sin valores nulos."
   ]
  },
  {
   "cell_type": "code",
   "execution_count": 41,
   "id": "28844fa5",
   "metadata": {},
   "outputs": [
    {
     "data": {
      "text/html": [
       "<div>\n",
       "<style scoped>\n",
       "    .dataframe tbody tr th:only-of-type {\n",
       "        vertical-align: middle;\n",
       "    }\n",
       "\n",
       "    .dataframe tbody tr th {\n",
       "        vertical-align: top;\n",
       "    }\n",
       "\n",
       "    .dataframe thead th {\n",
       "        text-align: right;\n",
       "    }\n",
       "</style>\n",
       "<table border=\"1\" class=\"dataframe\">\n",
       "  <thead>\n",
       "    <tr style=\"text-align: right;\">\n",
       "      <th></th>\n",
       "      <th>HomePlanet</th>\n",
       "      <th>CryoSleep</th>\n",
       "      <th>Destination</th>\n",
       "      <th>Age</th>\n",
       "      <th>VIP</th>\n",
       "      <th>RoomService</th>\n",
       "      <th>FoodCourt</th>\n",
       "      <th>ShoppingMall</th>\n",
       "      <th>Spa</th>\n",
       "      <th>VRDeck</th>\n",
       "      <th>Transported</th>\n",
       "      <th>Deck_of_spaceship</th>\n",
       "      <th>Number_of_cabin</th>\n",
       "      <th>Port_or_Starboard</th>\n",
       "    </tr>\n",
       "  </thead>\n",
       "  <tbody>\n",
       "    <tr>\n",
       "      <th>0</th>\n",
       "      <td>Europa</td>\n",
       "      <td>False</td>\n",
       "      <td>TRAPPIST-1e</td>\n",
       "      <td>1.944636</td>\n",
       "      <td>False</td>\n",
       "      <td>-0.332891</td>\n",
       "      <td>2.099303</td>\n",
       "      <td>-0.266942</td>\n",
       "      <td>-0.097078</td>\n",
       "      <td>3.272797</td>\n",
       "      <td>0</td>\n",
       "      <td>C</td>\n",
       "      <td>-0.929337</td>\n",
       "      <td>P</td>\n",
       "    </tr>\n",
       "    <tr>\n",
       "      <th>1</th>\n",
       "      <td>Mars</td>\n",
       "      <td>True</td>\n",
       "      <td>NaN</td>\n",
       "      <td>-0.752347</td>\n",
       "      <td>False</td>\n",
       "      <td>-0.332891</td>\n",
       "      <td>-0.281056</td>\n",
       "      <td>-0.288685</td>\n",
       "      <td>-0.269134</td>\n",
       "      <td>-0.270233</td>\n",
       "      <td>1</td>\n",
       "      <td>F</td>\n",
       "      <td>-0.923471</td>\n",
       "      <td>S</td>\n",
       "    </tr>\n",
       "    <tr>\n",
       "      <th>2</th>\n",
       "      <td>Europa</td>\n",
       "      <td>True</td>\n",
       "      <td>TRAPPIST-1e</td>\n",
       "      <td>0.284954</td>\n",
       "      <td>NaN</td>\n",
       "      <td>-0.332891</td>\n",
       "      <td>-0.281056</td>\n",
       "      <td>-0.288685</td>\n",
       "      <td>-0.269134</td>\n",
       "      <td>-0.270233</td>\n",
       "      <td>1</td>\n",
       "      <td>B</td>\n",
       "      <td>-0.499119</td>\n",
       "      <td>S</td>\n",
       "    </tr>\n",
       "    <tr>\n",
       "      <th>3</th>\n",
       "      <td>Earth</td>\n",
       "      <td>False</td>\n",
       "      <td>TRAPPIST-1e</td>\n",
       "      <td>0.976488</td>\n",
       "      <td>False</td>\n",
       "      <td>-0.123802</td>\n",
       "      <td>0.464079</td>\n",
       "      <td>-0.288685</td>\n",
       "      <td>-0.269134</td>\n",
       "      <td>-0.083662</td>\n",
       "      <td>0</td>\n",
       "      <td>F</td>\n",
       "      <td>1.606993</td>\n",
       "      <td>P</td>\n",
       "    </tr>\n",
       "    <tr>\n",
       "      <th>4</th>\n",
       "      <td>Earth</td>\n",
       "      <td>False</td>\n",
       "      <td>TRAPPIST-1e</td>\n",
       "      <td>-0.683193</td>\n",
       "      <td>False</td>\n",
       "      <td>-0.332891</td>\n",
       "      <td>-0.281056</td>\n",
       "      <td>0.831932</td>\n",
       "      <td>-0.268252</td>\n",
       "      <td>-0.239138</td>\n",
       "      <td>0</td>\n",
       "      <td>G</td>\n",
       "      <td>-1.152268</td>\n",
       "      <td>P</td>\n",
       "    </tr>\n",
       "  </tbody>\n",
       "</table>\n",
       "</div>"
      ],
      "text/plain": [
       "  HomePlanet CryoSleep  Destination       Age    VIP  RoomService  FoodCourt  \\\n",
       "0     Europa     False  TRAPPIST-1e  1.944636  False    -0.332891   2.099303   \n",
       "1       Mars      True          NaN -0.752347  False    -0.332891  -0.281056   \n",
       "2     Europa      True  TRAPPIST-1e  0.284954    NaN    -0.332891  -0.281056   \n",
       "3      Earth     False  TRAPPIST-1e  0.976488  False    -0.123802   0.464079   \n",
       "4      Earth     False  TRAPPIST-1e -0.683193  False    -0.332891  -0.281056   \n",
       "\n",
       "   ShoppingMall       Spa    VRDeck  Transported Deck_of_spaceship  \\\n",
       "0     -0.266942 -0.097078  3.272797            0                 C   \n",
       "1     -0.288685 -0.269134 -0.270233            1                 F   \n",
       "2     -0.288685 -0.269134 -0.270233            1                 B   \n",
       "3     -0.288685 -0.269134 -0.083662            0                 F   \n",
       "4      0.831932 -0.268252 -0.239138            0                 G   \n",
       "\n",
       "   Number_of_cabin Port_or_Starboard  \n",
       "0        -0.929337                 P  \n",
       "1        -0.923471                 S  \n",
       "2        -0.499119                 S  \n",
       "3         1.606993                 P  \n",
       "4        -1.152268                 P  "
      ]
     },
     "execution_count": 41,
     "metadata": {},
     "output_type": "execute_result"
    }
   ],
   "source": [
    "train_whitout_nuls.head()"
   ]
  },
  {
   "cell_type": "code",
   "execution_count": 42,
   "id": "d56d0aae",
   "metadata": {
    "scrolled": true
   },
   "outputs": [
    {
     "data": {
      "text/html": [
       "<div>\n",
       "<style scoped>\n",
       "    .dataframe tbody tr th:only-of-type {\n",
       "        vertical-align: middle;\n",
       "    }\n",
       "\n",
       "    .dataframe tbody tr th {\n",
       "        vertical-align: top;\n",
       "    }\n",
       "\n",
       "    .dataframe thead th {\n",
       "        text-align: right;\n",
       "    }\n",
       "</style>\n",
       "<table border=\"1\" class=\"dataframe\">\n",
       "  <thead>\n",
       "    <tr style=\"text-align: right;\">\n",
       "      <th></th>\n",
       "      <th>HomePlanet</th>\n",
       "      <th>CryoSleep</th>\n",
       "      <th>Destination</th>\n",
       "      <th>Age</th>\n",
       "      <th>VIP</th>\n",
       "      <th>RoomService</th>\n",
       "      <th>FoodCourt</th>\n",
       "      <th>ShoppingMall</th>\n",
       "      <th>Spa</th>\n",
       "      <th>VRDeck</th>\n",
       "      <th>Deck_of_spaceship</th>\n",
       "      <th>Number_of_cabin</th>\n",
       "      <th>Port_or_Starboard</th>\n",
       "    </tr>\n",
       "  </thead>\n",
       "  <tbody>\n",
       "    <tr>\n",
       "      <th>0</th>\n",
       "      <td>Europa</td>\n",
       "      <td>False</td>\n",
       "      <td>TRAPPIST-1e</td>\n",
       "      <td>1.944636</td>\n",
       "      <td>False</td>\n",
       "      <td>-0.332891</td>\n",
       "      <td>2.099303</td>\n",
       "      <td>-0.266942</td>\n",
       "      <td>-0.097078</td>\n",
       "      <td>3.272797</td>\n",
       "      <td>C</td>\n",
       "      <td>-0.929337</td>\n",
       "      <td>P</td>\n",
       "    </tr>\n",
       "    <tr>\n",
       "      <th>1</th>\n",
       "      <td>Mars</td>\n",
       "      <td>True</td>\n",
       "      <td>NaN</td>\n",
       "      <td>-0.752347</td>\n",
       "      <td>False</td>\n",
       "      <td>-0.332891</td>\n",
       "      <td>-0.281056</td>\n",
       "      <td>-0.288685</td>\n",
       "      <td>-0.269134</td>\n",
       "      <td>-0.270233</td>\n",
       "      <td>F</td>\n",
       "      <td>-0.923471</td>\n",
       "      <td>S</td>\n",
       "    </tr>\n",
       "    <tr>\n",
       "      <th>2</th>\n",
       "      <td>Europa</td>\n",
       "      <td>True</td>\n",
       "      <td>TRAPPIST-1e</td>\n",
       "      <td>0.284954</td>\n",
       "      <td>NaN</td>\n",
       "      <td>-0.332891</td>\n",
       "      <td>-0.281056</td>\n",
       "      <td>-0.288685</td>\n",
       "      <td>-0.269134</td>\n",
       "      <td>-0.270233</td>\n",
       "      <td>B</td>\n",
       "      <td>-0.499119</td>\n",
       "      <td>S</td>\n",
       "    </tr>\n",
       "    <tr>\n",
       "      <th>3</th>\n",
       "      <td>Earth</td>\n",
       "      <td>False</td>\n",
       "      <td>TRAPPIST-1e</td>\n",
       "      <td>0.976488</td>\n",
       "      <td>False</td>\n",
       "      <td>-0.123802</td>\n",
       "      <td>0.464079</td>\n",
       "      <td>-0.288685</td>\n",
       "      <td>-0.269134</td>\n",
       "      <td>-0.083662</td>\n",
       "      <td>F</td>\n",
       "      <td>1.606993</td>\n",
       "      <td>P</td>\n",
       "    </tr>\n",
       "    <tr>\n",
       "      <th>4</th>\n",
       "      <td>Earth</td>\n",
       "      <td>False</td>\n",
       "      <td>TRAPPIST-1e</td>\n",
       "      <td>-0.683193</td>\n",
       "      <td>False</td>\n",
       "      <td>-0.332891</td>\n",
       "      <td>-0.281056</td>\n",
       "      <td>0.831932</td>\n",
       "      <td>-0.268252</td>\n",
       "      <td>-0.239138</td>\n",
       "      <td>G</td>\n",
       "      <td>-1.152268</td>\n",
       "      <td>P</td>\n",
       "    </tr>\n",
       "  </tbody>\n",
       "</table>\n",
       "</div>"
      ],
      "text/plain": [
       "  HomePlanet CryoSleep  Destination       Age    VIP  RoomService  FoodCourt  \\\n",
       "0     Europa     False  TRAPPIST-1e  1.944636  False    -0.332891   2.099303   \n",
       "1       Mars      True          NaN -0.752347  False    -0.332891  -0.281056   \n",
       "2     Europa      True  TRAPPIST-1e  0.284954    NaN    -0.332891  -0.281056   \n",
       "3      Earth     False  TRAPPIST-1e  0.976488  False    -0.123802   0.464079   \n",
       "4      Earth     False  TRAPPIST-1e -0.683193  False    -0.332891  -0.281056   \n",
       "\n",
       "   ShoppingMall       Spa    VRDeck Deck_of_spaceship  Number_of_cabin  \\\n",
       "0     -0.266942 -0.097078  3.272797                 C        -0.929337   \n",
       "1     -0.288685 -0.269134 -0.270233                 F        -0.923471   \n",
       "2     -0.288685 -0.269134 -0.270233                 B        -0.499119   \n",
       "3     -0.288685 -0.269134 -0.083662                 F         1.606993   \n",
       "4      0.831932 -0.268252 -0.239138                 G        -1.152268   \n",
       "\n",
       "  Port_or_Starboard  \n",
       "0                 P  \n",
       "1                 S  \n",
       "2                 S  \n",
       "3                 P  \n",
       "4                 P  "
      ]
     },
     "execution_count": 42,
     "metadata": {},
     "output_type": "execute_result"
    }
   ],
   "source": [
    "y = train_whitout_nuls.Transported\n",
    "X = train_whitout_nuls.drop('Transported',axis=1)\n",
    "X.head()"
   ]
  },
  {
   "cell_type": "code",
   "execution_count": null,
   "id": "97447ea4-a5f9-43c3-b84c-236f2f30a4f0",
   "metadata": {},
   "outputs": [],
   "source": []
  },
  {
   "cell_type": "code",
   "execution_count": 43,
   "id": "fea27403-f8dd-40ec-b001-a9094d9b5634",
   "metadata": {},
   "outputs": [],
   "source": [
    "from sklearn.preprocessing import OneHotEncoder"
   ]
  },
  {
   "cell_type": "code",
   "execution_count": 44,
   "id": "5d729a42-9720-4d72-93ca-7c31ff91d8c4",
   "metadata": {},
   "outputs": [
    {
     "data": {
      "text/plain": [
       "'Deck_of_spaceship'"
      ]
     },
     "execution_count": 44,
     "metadata": {},
     "output_type": "execute_result"
    }
   ],
   "source": [
    "# One-hot encondig variable categorica tipo\n",
    "cols = ['Deck_of_spaceship']\n",
    "cols[0]"
   ]
  },
  {
   "cell_type": "code",
   "execution_count": 45,
   "id": "2cdf2fe0-efd7-4d06-99a9-36c6d1281f76",
   "metadata": {},
   "outputs": [],
   "source": [
    "X[cols] = X[cols].astype(str)"
   ]
  },
  {
   "cell_type": "code",
   "execution_count": 46,
   "id": "b1c145f5-472b-4ba4-ba11-4bdc81b04f2c",
   "metadata": {},
   "outputs": [
    {
     "data": {
      "text/plain": [
       "[array(['A', 'B', 'C', 'D', 'E', 'F', 'G', 'T', 'nan'], dtype=object)]"
      ]
     },
     "execution_count": 46,
     "metadata": {},
     "output_type": "execute_result"
    }
   ],
   "source": [
    "ohe = OneHotEncoder(sparse=False)\n",
    "ohe.fit(X[cols])\n",
    "encoded = ohe.categories_\n",
    "encoded"
   ]
  },
  {
   "cell_type": "code",
   "execution_count": 47,
   "id": "fc7a6a9a-d856-4b0a-bd20-470a272ad02d",
   "metadata": {},
   "outputs": [
    {
     "data": {
      "text/plain": [
       "array(['Deck_of_spaceship_A', 'Deck_of_spaceship_B',\n",
       "       'Deck_of_spaceship_C', 'Deck_of_spaceship_D',\n",
       "       'Deck_of_spaceship_E', 'Deck_of_spaceship_F',\n",
       "       'Deck_of_spaceship_G', 'Deck_of_spaceship_T',\n",
       "       'Deck_of_spaceship_nan'], dtype=object)"
      ]
     },
     "execution_count": 47,
     "metadata": {},
     "output_type": "execute_result"
    }
   ],
   "source": [
    "col = cols[0]\n",
    "labels = [col + '_' + a for a in encoded]\n",
    "labels[0]"
   ]
  },
  {
   "cell_type": "code",
   "execution_count": 48,
   "id": "ec1a5711-dfff-4f23-a25c-5d278e24ba38",
   "metadata": {},
   "outputs": [
    {
     "data": {
      "text/plain": [
       "array([[0., 0., 1., 0., 0., 0., 0., 0., 0.],\n",
       "       [0., 0., 0., 0., 0., 1., 0., 0., 0.],\n",
       "       [0., 1., 0., 0., 0., 0., 0., 0., 0.],\n",
       "       [0., 0., 0., 0., 0., 1., 0., 0., 0.],\n",
       "       [0., 0., 0., 0., 0., 0., 1., 0., 0.]])"
      ]
     },
     "execution_count": 48,
     "metadata": {},
     "output_type": "execute_result"
    }
   ],
   "source": [
    "encoded = ohe.transform(X[['Deck_of_spaceship']])\n",
    "encoded[:5]"
   ]
  },
  {
   "cell_type": "code",
   "execution_count": 49,
   "id": "4e569b76-3fdc-467b-88d2-25797d5923cd",
   "metadata": {},
   "outputs": [
    {
     "data": {
      "text/html": [
       "<div>\n",
       "<style scoped>\n",
       "    .dataframe tbody tr th:only-of-type {\n",
       "        vertical-align: middle;\n",
       "    }\n",
       "\n",
       "    .dataframe tbody tr th {\n",
       "        vertical-align: top;\n",
       "    }\n",
       "\n",
       "    .dataframe thead th {\n",
       "        text-align: right;\n",
       "    }\n",
       "</style>\n",
       "<table border=\"1\" class=\"dataframe\">\n",
       "  <thead>\n",
       "    <tr style=\"text-align: right;\">\n",
       "      <th></th>\n",
       "      <th>Deck_of_spaceship_A</th>\n",
       "      <th>Deck_of_spaceship_B</th>\n",
       "      <th>Deck_of_spaceship_C</th>\n",
       "      <th>Deck_of_spaceship_D</th>\n",
       "      <th>Deck_of_spaceship_E</th>\n",
       "      <th>Deck_of_spaceship_F</th>\n",
       "      <th>Deck_of_spaceship_G</th>\n",
       "      <th>Deck_of_spaceship_T</th>\n",
       "      <th>Deck_of_spaceship_nan</th>\n",
       "    </tr>\n",
       "  </thead>\n",
       "  <tbody>\n",
       "    <tr>\n",
       "      <th>0</th>\n",
       "      <td>0.0</td>\n",
       "      <td>0.0</td>\n",
       "      <td>1.0</td>\n",
       "      <td>0.0</td>\n",
       "      <td>0.0</td>\n",
       "      <td>0.0</td>\n",
       "      <td>0.0</td>\n",
       "      <td>0.0</td>\n",
       "      <td>0.0</td>\n",
       "    </tr>\n",
       "    <tr>\n",
       "      <th>1</th>\n",
       "      <td>0.0</td>\n",
       "      <td>0.0</td>\n",
       "      <td>0.0</td>\n",
       "      <td>0.0</td>\n",
       "      <td>0.0</td>\n",
       "      <td>1.0</td>\n",
       "      <td>0.0</td>\n",
       "      <td>0.0</td>\n",
       "      <td>0.0</td>\n",
       "    </tr>\n",
       "    <tr>\n",
       "      <th>2</th>\n",
       "      <td>0.0</td>\n",
       "      <td>1.0</td>\n",
       "      <td>0.0</td>\n",
       "      <td>0.0</td>\n",
       "      <td>0.0</td>\n",
       "      <td>0.0</td>\n",
       "      <td>0.0</td>\n",
       "      <td>0.0</td>\n",
       "      <td>0.0</td>\n",
       "    </tr>\n",
       "    <tr>\n",
       "      <th>3</th>\n",
       "      <td>0.0</td>\n",
       "      <td>0.0</td>\n",
       "      <td>0.0</td>\n",
       "      <td>0.0</td>\n",
       "      <td>0.0</td>\n",
       "      <td>1.0</td>\n",
       "      <td>0.0</td>\n",
       "      <td>0.0</td>\n",
       "      <td>0.0</td>\n",
       "    </tr>\n",
       "    <tr>\n",
       "      <th>4</th>\n",
       "      <td>0.0</td>\n",
       "      <td>0.0</td>\n",
       "      <td>0.0</td>\n",
       "      <td>0.0</td>\n",
       "      <td>0.0</td>\n",
       "      <td>0.0</td>\n",
       "      <td>1.0</td>\n",
       "      <td>0.0</td>\n",
       "      <td>0.0</td>\n",
       "    </tr>\n",
       "  </tbody>\n",
       "</table>\n",
       "</div>"
      ],
      "text/plain": [
       "   Deck_of_spaceship_A  Deck_of_spaceship_B  Deck_of_spaceship_C  \\\n",
       "0                  0.0                  0.0                  1.0   \n",
       "1                  0.0                  0.0                  0.0   \n",
       "2                  0.0                  1.0                  0.0   \n",
       "3                  0.0                  0.0                  0.0   \n",
       "4                  0.0                  0.0                  0.0   \n",
       "\n",
       "   Deck_of_spaceship_D  Deck_of_spaceship_E  Deck_of_spaceship_F  \\\n",
       "0                  0.0                  0.0                  0.0   \n",
       "1                  0.0                  0.0                  1.0   \n",
       "2                  0.0                  0.0                  0.0   \n",
       "3                  0.0                  0.0                  1.0   \n",
       "4                  0.0                  0.0                  0.0   \n",
       "\n",
       "   Deck_of_spaceship_G  Deck_of_spaceship_T  Deck_of_spaceship_nan  \n",
       "0                  0.0                  0.0                    0.0  \n",
       "1                  0.0                  0.0                    0.0  \n",
       "2                  0.0                  0.0                    0.0  \n",
       "3                  0.0                  0.0                    0.0  \n",
       "4                  1.0                  0.0                    0.0  "
      ]
     },
     "execution_count": 49,
     "metadata": {},
     "output_type": "execute_result"
    }
   ],
   "source": [
    "#Crea df con las columnas del encoding\n",
    "encoded_df = pd.DataFrame(encoded, columns=labels[0])\n",
    "encoded_df.head(5)"
   ]
  },
  {
   "cell_type": "markdown",
   "id": "405d77e1-09c1-4863-89e0-189ed2ba93fe",
   "metadata": {},
   "source": [
    "---"
   ]
  },
  {
   "cell_type": "code",
   "execution_count": 50,
   "id": "267f2a46-62e0-46db-8ce6-9212acbf8251",
   "metadata": {},
   "outputs": [
    {
     "data": {
      "text/plain": [
       "'Port_or_Starboard'"
      ]
     },
     "execution_count": 50,
     "metadata": {},
     "output_type": "execute_result"
    }
   ],
   "source": [
    "# One-hot encondig variable categorica tipo\n",
    "cols = ['Port_or_Starboard']\n",
    "cols[0]"
   ]
  },
  {
   "cell_type": "code",
   "execution_count": 51,
   "id": "dcbe5975-11fa-4fef-8ca3-a27eda4686d3",
   "metadata": {},
   "outputs": [],
   "source": [
    "X[cols] = X[cols].astype(str)"
   ]
  },
  {
   "cell_type": "code",
   "execution_count": 52,
   "id": "2f0b832a-df88-4261-9c11-ef8f6a8867c1",
   "metadata": {},
   "outputs": [
    {
     "data": {
      "text/plain": [
       "[array(['P', 'S', 'nan'], dtype=object)]"
      ]
     },
     "execution_count": 52,
     "metadata": {},
     "output_type": "execute_result"
    }
   ],
   "source": [
    "ohe = OneHotEncoder(sparse=False)\n",
    "ohe.fit(X[cols])\n",
    "encoded = ohe.categories_\n",
    "encoded"
   ]
  },
  {
   "cell_type": "code",
   "execution_count": 53,
   "id": "8338d993-d06a-4f0e-9f98-aeb3280e80ff",
   "metadata": {},
   "outputs": [
    {
     "data": {
      "text/plain": [
       "array(['Port_or_Starboard_P', 'Port_or_Starboard_S',\n",
       "       'Port_or_Starboard_nan'], dtype=object)"
      ]
     },
     "execution_count": 53,
     "metadata": {},
     "output_type": "execute_result"
    }
   ],
   "source": [
    "col = cols[0]\n",
    "labels = [col + '_' + a for a in encoded]\n",
    "labels[0]"
   ]
  },
  {
   "cell_type": "code",
   "execution_count": 54,
   "id": "89e1c3bd-0856-4627-a91c-01847f4a315e",
   "metadata": {},
   "outputs": [
    {
     "data": {
      "text/plain": [
       "array([[1., 0., 0.],\n",
       "       [0., 1., 0.],\n",
       "       [0., 1., 0.],\n",
       "       [1., 0., 0.],\n",
       "       [1., 0., 0.]])"
      ]
     },
     "execution_count": 54,
     "metadata": {},
     "output_type": "execute_result"
    }
   ],
   "source": [
    "encoded = ohe.transform(X[['Port_or_Starboard']])\n",
    "encoded[:5]"
   ]
  },
  {
   "cell_type": "code",
   "execution_count": 55,
   "id": "16b46263-ae33-4681-9fbc-e0d959fefb4b",
   "metadata": {},
   "outputs": [
    {
     "data": {
      "text/html": [
       "<div>\n",
       "<style scoped>\n",
       "    .dataframe tbody tr th:only-of-type {\n",
       "        vertical-align: middle;\n",
       "    }\n",
       "\n",
       "    .dataframe tbody tr th {\n",
       "        vertical-align: top;\n",
       "    }\n",
       "\n",
       "    .dataframe thead th {\n",
       "        text-align: right;\n",
       "    }\n",
       "</style>\n",
       "<table border=\"1\" class=\"dataframe\">\n",
       "  <thead>\n",
       "    <tr style=\"text-align: right;\">\n",
       "      <th></th>\n",
       "      <th>Port_or_Starboard_P</th>\n",
       "      <th>Port_or_Starboard_S</th>\n",
       "      <th>Port_or_Starboard_nan</th>\n",
       "    </tr>\n",
       "  </thead>\n",
       "  <tbody>\n",
       "    <tr>\n",
       "      <th>0</th>\n",
       "      <td>1.0</td>\n",
       "      <td>0.0</td>\n",
       "      <td>0.0</td>\n",
       "    </tr>\n",
       "    <tr>\n",
       "      <th>1</th>\n",
       "      <td>0.0</td>\n",
       "      <td>1.0</td>\n",
       "      <td>0.0</td>\n",
       "    </tr>\n",
       "    <tr>\n",
       "      <th>2</th>\n",
       "      <td>0.0</td>\n",
       "      <td>1.0</td>\n",
       "      <td>0.0</td>\n",
       "    </tr>\n",
       "    <tr>\n",
       "      <th>3</th>\n",
       "      <td>1.0</td>\n",
       "      <td>0.0</td>\n",
       "      <td>0.0</td>\n",
       "    </tr>\n",
       "    <tr>\n",
       "      <th>4</th>\n",
       "      <td>1.0</td>\n",
       "      <td>0.0</td>\n",
       "      <td>0.0</td>\n",
       "    </tr>\n",
       "  </tbody>\n",
       "</table>\n",
       "</div>"
      ],
      "text/plain": [
       "   Port_or_Starboard_P  Port_or_Starboard_S  Port_or_Starboard_nan\n",
       "0                  1.0                  0.0                    0.0\n",
       "1                  0.0                  1.0                    0.0\n",
       "2                  0.0                  1.0                    0.0\n",
       "3                  1.0                  0.0                    0.0\n",
       "4                  1.0                  0.0                    0.0"
      ]
     },
     "execution_count": 55,
     "metadata": {},
     "output_type": "execute_result"
    }
   ],
   "source": [
    "#Crea df con las columnas del encoding\n",
    "encoded_df_2 = pd.DataFrame(encoded, columns=labels[0])\n",
    "encoded_df_2.head(5)"
   ]
  },
  {
   "cell_type": "code",
   "execution_count": null,
   "id": "8bf9575f-9768-4cd0-88b4-5bb20bc81956",
   "metadata": {},
   "outputs": [],
   "source": []
  },
  {
   "cell_type": "code",
   "execution_count": 56,
   "id": "6d552c3f-049c-489d-80b0-cf6ee94e81f5",
   "metadata": {},
   "outputs": [
    {
     "data": {
      "text/plain": [
       "['HomePlanet',\n",
       " 'CryoSleep',\n",
       " 'Destination',\n",
       " 'VIP',\n",
       " 'Deck_of_spaceship',\n",
       " 'Port_or_Starboard']"
      ]
     },
     "execution_count": 56,
     "metadata": {},
     "output_type": "execute_result"
    }
   ],
   "source": [
    "cat_cols"
   ]
  },
  {
   "cell_type": "code",
   "execution_count": 57,
   "id": "1c80eb19-550a-49d8-b876-5c7f97ff2792",
   "metadata": {},
   "outputs": [],
   "source": [
    "cat_cols.remove('Deck_of_spaceship')\n",
    "cat_cols.remove('Port_or_Starboard')"
   ]
  },
  {
   "cell_type": "code",
   "execution_count": null,
   "id": "ac375356-8216-420d-9676-87d99b06afd9",
   "metadata": {},
   "outputs": [],
   "source": []
  },
  {
   "cell_type": "markdown",
   "id": "e68dcef0",
   "metadata": {},
   "source": [
    "### Usamos LabelEncoder para las columnas categoricas y escalamos"
   ]
  },
  {
   "cell_type": "code",
   "execution_count": 58,
   "id": "ef73e1a4",
   "metadata": {},
   "outputs": [],
   "source": [
    "from sklearn.preprocessing import StandardScaler, LabelEncoder\n",
    "\n",
    "label_cols = cat_cols\n",
    "\n",
    "for col in label_cols:\n",
    "    X[col] = X[col].astype(str)\n",
    "    X[col] = LabelEncoder().fit_transform(X[col])"
   ]
  },
  {
   "cell_type": "code",
   "execution_count": null,
   "id": "7377c724-1b03-43b0-9068-96d10a8a0a9c",
   "metadata": {},
   "outputs": [],
   "source": []
  },
  {
   "cell_type": "code",
   "execution_count": 59,
   "id": "b5389a55-7729-4f26-935b-dea4e0719ad5",
   "metadata": {},
   "outputs": [
    {
     "data": {
      "text/html": [
       "<div>\n",
       "<style scoped>\n",
       "    .dataframe tbody tr th:only-of-type {\n",
       "        vertical-align: middle;\n",
       "    }\n",
       "\n",
       "    .dataframe tbody tr th {\n",
       "        vertical-align: top;\n",
       "    }\n",
       "\n",
       "    .dataframe thead th {\n",
       "        text-align: right;\n",
       "    }\n",
       "</style>\n",
       "<table border=\"1\" class=\"dataframe\">\n",
       "  <thead>\n",
       "    <tr style=\"text-align: right;\">\n",
       "      <th></th>\n",
       "      <th>HomePlanet</th>\n",
       "      <th>CryoSleep</th>\n",
       "      <th>Destination</th>\n",
       "      <th>Age</th>\n",
       "      <th>VIP</th>\n",
       "      <th>RoomService</th>\n",
       "      <th>FoodCourt</th>\n",
       "      <th>ShoppingMall</th>\n",
       "      <th>Spa</th>\n",
       "      <th>VRDeck</th>\n",
       "      <th>...</th>\n",
       "      <th>Deck_of_spaceship_C</th>\n",
       "      <th>Deck_of_spaceship_D</th>\n",
       "      <th>Deck_of_spaceship_E</th>\n",
       "      <th>Deck_of_spaceship_F</th>\n",
       "      <th>Deck_of_spaceship_G</th>\n",
       "      <th>Deck_of_spaceship_T</th>\n",
       "      <th>Deck_of_spaceship_nan</th>\n",
       "      <th>Port_or_Starboard_P</th>\n",
       "      <th>Port_or_Starboard_S</th>\n",
       "      <th>Port_or_Starboard_nan</th>\n",
       "    </tr>\n",
       "  </thead>\n",
       "  <tbody>\n",
       "    <tr>\n",
       "      <th>5261</th>\n",
       "      <td>1</td>\n",
       "      <td>0</td>\n",
       "      <td>2</td>\n",
       "      <td>-1.858801</td>\n",
       "      <td>0</td>\n",
       "      <td>-0.332891</td>\n",
       "      <td>-0.281056</td>\n",
       "      <td>-0.288685</td>\n",
       "      <td>-0.269134</td>\n",
       "      <td>-0.270233</td>\n",
       "      <td>...</td>\n",
       "      <td>1.0</td>\n",
       "      <td>0.0</td>\n",
       "      <td>0.0</td>\n",
       "      <td>0.0</td>\n",
       "      <td>0.0</td>\n",
       "      <td>0.0</td>\n",
       "      <td>0.0</td>\n",
       "      <td>0.0</td>\n",
       "      <td>1.0</td>\n",
       "      <td>0.0</td>\n",
       "    </tr>\n",
       "    <tr>\n",
       "      <th>5358</th>\n",
       "      <td>2</td>\n",
       "      <td>0</td>\n",
       "      <td>2</td>\n",
       "      <td>1.045642</td>\n",
       "      <td>0</td>\n",
       "      <td>0.867163</td>\n",
       "      <td>-0.145969</td>\n",
       "      <td>-0.251889</td>\n",
       "      <td>-0.269134</td>\n",
       "      <td>-0.270233</td>\n",
       "      <td>...</td>\n",
       "      <td>0.0</td>\n",
       "      <td>1.0</td>\n",
       "      <td>0.0</td>\n",
       "      <td>0.0</td>\n",
       "      <td>0.0</td>\n",
       "      <td>0.0</td>\n",
       "      <td>0.0</td>\n",
       "      <td>0.0</td>\n",
       "      <td>1.0</td>\n",
       "      <td>0.0</td>\n",
       "    </tr>\n",
       "    <tr>\n",
       "      <th>5214</th>\n",
       "      <td>0</td>\n",
       "      <td>0</td>\n",
       "      <td>1</td>\n",
       "      <td>0.630721</td>\n",
       "      <td>0</td>\n",
       "      <td>-0.332891</td>\n",
       "      <td>-0.281056</td>\n",
       "      <td>-0.288685</td>\n",
       "      <td>-0.269134</td>\n",
       "      <td>0.992783</td>\n",
       "      <td>...</td>\n",
       "      <td>0.0</td>\n",
       "      <td>0.0</td>\n",
       "      <td>0.0</td>\n",
       "      <td>1.0</td>\n",
       "      <td>0.0</td>\n",
       "      <td>0.0</td>\n",
       "      <td>0.0</td>\n",
       "      <td>0.0</td>\n",
       "      <td>1.0</td>\n",
       "      <td>0.0</td>\n",
       "    </tr>\n",
       "    <tr>\n",
       "      <th>3378</th>\n",
       "      <td>2</td>\n",
       "      <td>0</td>\n",
       "      <td>2</td>\n",
       "      <td>-0.959807</td>\n",
       "      <td>0</td>\n",
       "      <td>1.955311</td>\n",
       "      <td>-0.281056</td>\n",
       "      <td>0.791791</td>\n",
       "      <td>-0.251487</td>\n",
       "      <td>0.864744</td>\n",
       "      <td>...</td>\n",
       "      <td>0.0</td>\n",
       "      <td>1.0</td>\n",
       "      <td>0.0</td>\n",
       "      <td>0.0</td>\n",
       "      <td>0.0</td>\n",
       "      <td>0.0</td>\n",
       "      <td>0.0</td>\n",
       "      <td>0.0</td>\n",
       "      <td>1.0</td>\n",
       "      <td>0.0</td>\n",
       "    </tr>\n",
       "    <tr>\n",
       "      <th>743</th>\n",
       "      <td>0</td>\n",
       "      <td>0</td>\n",
       "      <td>2</td>\n",
       "      <td>0.561568</td>\n",
       "      <td>0</td>\n",
       "      <td>-0.053124</td>\n",
       "      <td>-0.281056</td>\n",
       "      <td>-0.285340</td>\n",
       "      <td>0.435856</td>\n",
       "      <td>-0.270233</td>\n",
       "      <td>...</td>\n",
       "      <td>0.0</td>\n",
       "      <td>0.0</td>\n",
       "      <td>1.0</td>\n",
       "      <td>0.0</td>\n",
       "      <td>0.0</td>\n",
       "      <td>0.0</td>\n",
       "      <td>0.0</td>\n",
       "      <td>0.0</td>\n",
       "      <td>1.0</td>\n",
       "      <td>0.0</td>\n",
       "    </tr>\n",
       "    <tr>\n",
       "      <th>3067</th>\n",
       "      <td>0</td>\n",
       "      <td>0</td>\n",
       "      <td>2</td>\n",
       "      <td>1.253102</td>\n",
       "      <td>0</td>\n",
       "      <td>-0.332891</td>\n",
       "      <td>-0.281056</td>\n",
       "      <td>-0.261924</td>\n",
       "      <td>-0.266487</td>\n",
       "      <td>0.510807</td>\n",
       "      <td>...</td>\n",
       "      <td>0.0</td>\n",
       "      <td>0.0</td>\n",
       "      <td>0.0</td>\n",
       "      <td>1.0</td>\n",
       "      <td>0.0</td>\n",
       "      <td>0.0</td>\n",
       "      <td>0.0</td>\n",
       "      <td>1.0</td>\n",
       "      <td>0.0</td>\n",
       "      <td>0.0</td>\n",
       "    </tr>\n",
       "    <tr>\n",
       "      <th>2396</th>\n",
       "      <td>0</td>\n",
       "      <td>2</td>\n",
       "      <td>1</td>\n",
       "      <td>-0.614040</td>\n",
       "      <td>0</td>\n",
       "      <td>-0.332891</td>\n",
       "      <td>-0.281056</td>\n",
       "      <td>-0.288685</td>\n",
       "      <td>-0.269134</td>\n",
       "      <td>-0.270233</td>\n",
       "      <td>...</td>\n",
       "      <td>0.0</td>\n",
       "      <td>0.0</td>\n",
       "      <td>0.0</td>\n",
       "      <td>0.0</td>\n",
       "      <td>1.0</td>\n",
       "      <td>0.0</td>\n",
       "      <td>0.0</td>\n",
       "      <td>1.0</td>\n",
       "      <td>0.0</td>\n",
       "      <td>0.0</td>\n",
       "    </tr>\n",
       "    <tr>\n",
       "      <th>1569</th>\n",
       "      <td>0</td>\n",
       "      <td>0</td>\n",
       "      <td>2</td>\n",
       "      <td>-1.720494</td>\n",
       "      <td>0</td>\n",
       "      <td>-0.332891</td>\n",
       "      <td>-0.281056</td>\n",
       "      <td>-0.288685</td>\n",
       "      <td>-0.269134</td>\n",
       "      <td>-0.270233</td>\n",
       "      <td>...</td>\n",
       "      <td>0.0</td>\n",
       "      <td>0.0</td>\n",
       "      <td>0.0</td>\n",
       "      <td>0.0</td>\n",
       "      <td>1.0</td>\n",
       "      <td>0.0</td>\n",
       "      <td>0.0</td>\n",
       "      <td>1.0</td>\n",
       "      <td>0.0</td>\n",
       "      <td>0.0</td>\n",
       "    </tr>\n",
       "    <tr>\n",
       "      <th>6399</th>\n",
       "      <td>0</td>\n",
       "      <td>0</td>\n",
       "      <td>2</td>\n",
       "      <td>1.598869</td>\n",
       "      <td>0</td>\n",
       "      <td>-0.332891</td>\n",
       "      <td>0.063754</td>\n",
       "      <td>-0.288685</td>\n",
       "      <td>-0.269134</td>\n",
       "      <td>-0.270233</td>\n",
       "      <td>...</td>\n",
       "      <td>0.0</td>\n",
       "      <td>0.0</td>\n",
       "      <td>0.0</td>\n",
       "      <td>1.0</td>\n",
       "      <td>0.0</td>\n",
       "      <td>0.0</td>\n",
       "      <td>0.0</td>\n",
       "      <td>0.0</td>\n",
       "      <td>1.0</td>\n",
       "      <td>0.0</td>\n",
       "    </tr>\n",
       "    <tr>\n",
       "      <th>3319</th>\n",
       "      <td>0</td>\n",
       "      <td>1</td>\n",
       "      <td>1</td>\n",
       "      <td>1.322255</td>\n",
       "      <td>0</td>\n",
       "      <td>-0.332891</td>\n",
       "      <td>-0.281056</td>\n",
       "      <td>-0.288685</td>\n",
       "      <td>-0.269134</td>\n",
       "      <td>-0.270233</td>\n",
       "      <td>...</td>\n",
       "      <td>0.0</td>\n",
       "      <td>0.0</td>\n",
       "      <td>0.0</td>\n",
       "      <td>0.0</td>\n",
       "      <td>1.0</td>\n",
       "      <td>0.0</td>\n",
       "      <td>0.0</td>\n",
       "      <td>1.0</td>\n",
       "      <td>0.0</td>\n",
       "      <td>0.0</td>\n",
       "    </tr>\n",
       "  </tbody>\n",
       "</table>\n",
       "<p>10 rows × 25 columns</p>\n",
       "</div>"
      ],
      "text/plain": [
       "      HomePlanet  CryoSleep  Destination       Age  VIP  RoomService  \\\n",
       "5261           1          0            2 -1.858801    0    -0.332891   \n",
       "5358           2          0            2  1.045642    0     0.867163   \n",
       "5214           0          0            1  0.630721    0    -0.332891   \n",
       "3378           2          0            2 -0.959807    0     1.955311   \n",
       "743            0          0            2  0.561568    0    -0.053124   \n",
       "3067           0          0            2  1.253102    0    -0.332891   \n",
       "2396           0          2            1 -0.614040    0    -0.332891   \n",
       "1569           0          0            2 -1.720494    0    -0.332891   \n",
       "6399           0          0            2  1.598869    0    -0.332891   \n",
       "3319           0          1            1  1.322255    0    -0.332891   \n",
       "\n",
       "      FoodCourt  ShoppingMall       Spa    VRDeck  ... Deck_of_spaceship_C  \\\n",
       "5261  -0.281056     -0.288685 -0.269134 -0.270233  ...                 1.0   \n",
       "5358  -0.145969     -0.251889 -0.269134 -0.270233  ...                 0.0   \n",
       "5214  -0.281056     -0.288685 -0.269134  0.992783  ...                 0.0   \n",
       "3378  -0.281056      0.791791 -0.251487  0.864744  ...                 0.0   \n",
       "743   -0.281056     -0.285340  0.435856 -0.270233  ...                 0.0   \n",
       "3067  -0.281056     -0.261924 -0.266487  0.510807  ...                 0.0   \n",
       "2396  -0.281056     -0.288685 -0.269134 -0.270233  ...                 0.0   \n",
       "1569  -0.281056     -0.288685 -0.269134 -0.270233  ...                 0.0   \n",
       "6399   0.063754     -0.288685 -0.269134 -0.270233  ...                 0.0   \n",
       "3319  -0.281056     -0.288685 -0.269134 -0.270233  ...                 0.0   \n",
       "\n",
       "      Deck_of_spaceship_D Deck_of_spaceship_E  Deck_of_spaceship_F  \\\n",
       "5261                  0.0                 0.0                  0.0   \n",
       "5358                  1.0                 0.0                  0.0   \n",
       "5214                  0.0                 0.0                  1.0   \n",
       "3378                  1.0                 0.0                  0.0   \n",
       "743                   0.0                 1.0                  0.0   \n",
       "3067                  0.0                 0.0                  1.0   \n",
       "2396                  0.0                 0.0                  0.0   \n",
       "1569                  0.0                 0.0                  0.0   \n",
       "6399                  0.0                 0.0                  1.0   \n",
       "3319                  0.0                 0.0                  0.0   \n",
       "\n",
       "      Deck_of_spaceship_G  Deck_of_spaceship_T  Deck_of_spaceship_nan  \\\n",
       "5261                  0.0                  0.0                    0.0   \n",
       "5358                  0.0                  0.0                    0.0   \n",
       "5214                  0.0                  0.0                    0.0   \n",
       "3378                  0.0                  0.0                    0.0   \n",
       "743                   0.0                  0.0                    0.0   \n",
       "3067                  0.0                  0.0                    0.0   \n",
       "2396                  1.0                  0.0                    0.0   \n",
       "1569                  1.0                  0.0                    0.0   \n",
       "6399                  0.0                  0.0                    0.0   \n",
       "3319                  1.0                  0.0                    0.0   \n",
       "\n",
       "      Port_or_Starboard_P  Port_or_Starboard_S  Port_or_Starboard_nan  \n",
       "5261                  0.0                  1.0                    0.0  \n",
       "5358                  0.0                  1.0                    0.0  \n",
       "5214                  0.0                  1.0                    0.0  \n",
       "3378                  0.0                  1.0                    0.0  \n",
       "743                   0.0                  1.0                    0.0  \n",
       "3067                  1.0                  0.0                    0.0  \n",
       "2396                  1.0                  0.0                    0.0  \n",
       "1569                  1.0                  0.0                    0.0  \n",
       "6399                  0.0                  1.0                    0.0  \n",
       "3319                  1.0                  0.0                    0.0  \n",
       "\n",
       "[10 rows x 25 columns]"
      ]
     },
     "execution_count": 59,
     "metadata": {},
     "output_type": "execute_result"
    }
   ],
   "source": [
    "X = pd.concat([X, encoded_df, encoded_df_2], axis=1)\n",
    "X.sample(10)"
   ]
  },
  {
   "cell_type": "code",
   "execution_count": 60,
   "id": "c0bf85fa-1b45-4da5-b60e-540c96e502da",
   "metadata": {},
   "outputs": [
    {
     "data": {
      "text/plain": [
       "Index(['HomePlanet', 'CryoSleep', 'Destination', 'Age', 'VIP', 'RoomService',\n",
       "       'FoodCourt', 'ShoppingMall', 'Spa', 'VRDeck', 'Deck_of_spaceship',\n",
       "       'Number_of_cabin', 'Port_or_Starboard', 'Deck_of_spaceship_A',\n",
       "       'Deck_of_spaceship_B', 'Deck_of_spaceship_C', 'Deck_of_spaceship_D',\n",
       "       'Deck_of_spaceship_E', 'Deck_of_spaceship_F', 'Deck_of_spaceship_G',\n",
       "       'Deck_of_spaceship_T', 'Deck_of_spaceship_nan', 'Port_or_Starboard_P',\n",
       "       'Port_or_Starboard_S', 'Port_or_Starboard_nan'],\n",
       "      dtype='object')"
      ]
     },
     "execution_count": 60,
     "metadata": {},
     "output_type": "execute_result"
    }
   ],
   "source": [
    "X.columns"
   ]
  },
  {
   "cell_type": "code",
   "execution_count": 61,
   "id": "1b9aa2f8-5b3d-4479-b9dc-0763acac6d70",
   "metadata": {},
   "outputs": [],
   "source": [
    "X = X.drop(['Deck_of_spaceship', 'Port_or_Starboard'], axis=1)"
   ]
  },
  {
   "cell_type": "code",
   "execution_count": null,
   "id": "a084f426-1155-48ff-a009-fc19651a5403",
   "metadata": {},
   "outputs": [],
   "source": []
  },
  {
   "cell_type": "code",
   "execution_count": 62,
   "id": "e2b81900-aade-4960-b345-01d9f6337cad",
   "metadata": {},
   "outputs": [],
   "source": [
    "columns = X.columns"
   ]
  },
  {
   "cell_type": "code",
   "execution_count": 63,
   "id": "68d96f89-8442-49b4-ae55-a7e1c6eab17c",
   "metadata": {},
   "outputs": [
    {
     "data": {
      "text/plain": [
       "Index(['HomePlanet', 'CryoSleep', 'Destination', 'Age', 'VIP', 'RoomService',\n",
       "       'FoodCourt', 'ShoppingMall', 'Spa', 'VRDeck', 'Number_of_cabin',\n",
       "       'Deck_of_spaceship_A', 'Deck_of_spaceship_B', 'Deck_of_spaceship_C',\n",
       "       'Deck_of_spaceship_D', 'Deck_of_spaceship_E', 'Deck_of_spaceship_F',\n",
       "       'Deck_of_spaceship_G', 'Deck_of_spaceship_T', 'Deck_of_spaceship_nan',\n",
       "       'Port_or_Starboard_P', 'Port_or_Starboard_S', 'Port_or_Starboard_nan'],\n",
       "      dtype='object')"
      ]
     },
     "execution_count": 63,
     "metadata": {},
     "output_type": "execute_result"
    }
   ],
   "source": [
    "columns"
   ]
  },
  {
   "cell_type": "code",
   "execution_count": 64,
   "id": "e01aa160-5d40-4c25-87c8-f1b69be407ff",
   "metadata": {},
   "outputs": [],
   "source": [
    "cat_cols = [\n",
    "    'Deck_of_spaceship_A', \n",
    "    'Deck_of_spaceship_B', \n",
    "    'Deck_of_spaceship_C',\n",
    "    'Deck_of_spaceship_D', \n",
    "    'Deck_of_spaceship_E', \n",
    "    'Deck_of_spaceship_F',\n",
    "    'Deck_of_spaceship_G', \n",
    "    'Deck_of_spaceship_T', \n",
    "    'Deck_of_spaceship_nan',\n",
    "    'Port_or_Starboard_P', \n",
    "    'Port_or_Starboard_S', \n",
    "    'Port_or_Starboard_nan'\n",
    "]"
   ]
  },
  {
   "cell_type": "code",
   "execution_count": 65,
   "id": "af90b99f-02ef-4afb-b4d9-a23bbb296dca",
   "metadata": {},
   "outputs": [
    {
     "data": {
      "text/plain": [
       "Index(['HomePlanet', 'CryoSleep', 'Destination', 'Age', 'VIP', 'RoomService',\n",
       "       'FoodCourt', 'ShoppingMall', 'Spa', 'VRDeck', 'Number_of_cabin',\n",
       "       'Deck_of_spaceship_A', 'Deck_of_spaceship_B', 'Deck_of_spaceship_C',\n",
       "       'Deck_of_spaceship_D', 'Deck_of_spaceship_E', 'Deck_of_spaceship_F',\n",
       "       'Deck_of_spaceship_G', 'Deck_of_spaceship_T', 'Deck_of_spaceship_nan',\n",
       "       'Port_or_Starboard_P', 'Port_or_Starboard_S', 'Port_or_Starboard_nan'],\n",
       "      dtype='object')"
      ]
     },
     "execution_count": 65,
     "metadata": {},
     "output_type": "execute_result"
    }
   ],
   "source": [
    "num_cols = columns.copy()\n",
    "num_cols"
   ]
  },
  {
   "cell_type": "code",
   "execution_count": 66,
   "id": "5bf8e136-6f0c-403f-b4d3-2ce107de130a",
   "metadata": {},
   "outputs": [
    {
     "data": {
      "text/plain": [
       "['HomePlanet',\n",
       " 'CryoSleep',\n",
       " 'Destination',\n",
       " 'Age',\n",
       " 'VIP',\n",
       " 'RoomService',\n",
       " 'FoodCourt',\n",
       " 'ShoppingMall',\n",
       " 'Spa',\n",
       " 'VRDeck',\n",
       " 'Number_of_cabin']"
      ]
     },
     "execution_count": 66,
     "metadata": {},
     "output_type": "execute_result"
    }
   ],
   "source": [
    "num_cols = [ col for col in num_cols if col not in cat_cols]\n",
    "num_cols"
   ]
  },
  {
   "cell_type": "code",
   "execution_count": null,
   "id": "d87fd1e0-c7f9-4c67-9f8e-d48122b2d3b7",
   "metadata": {},
   "outputs": [],
   "source": []
  },
  {
   "cell_type": "code",
   "execution_count": null,
   "id": "313ea8b9-7c42-4e73-a91a-2485a0141093",
   "metadata": {},
   "outputs": [],
   "source": []
  },
  {
   "cell_type": "markdown",
   "id": "7fdcc0c7",
   "metadata": {},
   "source": [
    "### Usamos StandardScaler para escalar los datos."
   ]
  },
  {
   "cell_type": "code",
   "execution_count": 68,
   "id": "fa9dd1cb",
   "metadata": {},
   "outputs": [
    {
     "data": {
      "text/html": [
       "<div>\n",
       "<style scoped>\n",
       "    .dataframe tbody tr th:only-of-type {\n",
       "        vertical-align: middle;\n",
       "    }\n",
       "\n",
       "    .dataframe tbody tr th {\n",
       "        vertical-align: top;\n",
       "    }\n",
       "\n",
       "    .dataframe thead th {\n",
       "        text-align: right;\n",
       "    }\n",
       "</style>\n",
       "<table border=\"1\" class=\"dataframe\">\n",
       "  <thead>\n",
       "    <tr style=\"text-align: right;\">\n",
       "      <th></th>\n",
       "      <th>HomePlanet</th>\n",
       "      <th>CryoSleep</th>\n",
       "      <th>Destination</th>\n",
       "      <th>Age</th>\n",
       "      <th>VIP</th>\n",
       "      <th>RoomService</th>\n",
       "      <th>FoodCourt</th>\n",
       "      <th>ShoppingMall</th>\n",
       "      <th>Spa</th>\n",
       "      <th>VRDeck</th>\n",
       "      <th>Number_of_cabin</th>\n",
       "    </tr>\n",
       "  </thead>\n",
       "  <tbody>\n",
       "    <tr>\n",
       "      <th>0</th>\n",
       "      <td>0.320042</td>\n",
       "      <td>-0.746493</td>\n",
       "      <td>0.579856</td>\n",
       "      <td>1.960165</td>\n",
       "      <td>-0.209979</td>\n",
       "      <td>-0.334156</td>\n",
       "      <td>2.118193</td>\n",
       "      <td>-0.269090</td>\n",
       "      <td>-0.096652</td>\n",
       "      <td>3.299617</td>\n",
       "      <td>-0.935940</td>\n",
       "    </tr>\n",
       "    <tr>\n",
       "      <th>1</th>\n",
       "      <td>1.478619</td>\n",
       "      <td>1.108595</td>\n",
       "      <td>1.769839</td>\n",
       "      <td>-0.755907</td>\n",
       "      <td>-0.209979</td>\n",
       "      <td>-0.334156</td>\n",
       "      <td>-0.282120</td>\n",
       "      <td>-0.291044</td>\n",
       "      <td>-0.270189</td>\n",
       "      <td>-0.271103</td>\n",
       "      <td>-0.930025</td>\n",
       "    </tr>\n",
       "    <tr>\n",
       "      <th>2</th>\n",
       "      <td>0.320042</td>\n",
       "      <td>1.108595</td>\n",
       "      <td>0.579856</td>\n",
       "      <td>0.288736</td>\n",
       "      <td>5.752517</td>\n",
       "      <td>-0.334156</td>\n",
       "      <td>-0.282120</td>\n",
       "      <td>-0.291044</td>\n",
       "      <td>-0.270189</td>\n",
       "      <td>-0.271103</td>\n",
       "      <td>-0.502176</td>\n",
       "    </tr>\n",
       "    <tr>\n",
       "      <th>3</th>\n",
       "      <td>-0.838536</td>\n",
       "      <td>-0.746493</td>\n",
       "      <td>0.579856</td>\n",
       "      <td>0.985165</td>\n",
       "      <td>-0.209979</td>\n",
       "      <td>-0.123370</td>\n",
       "      <td>0.469261</td>\n",
       "      <td>-0.291044</td>\n",
       "      <td>-0.270189</td>\n",
       "      <td>-0.083073</td>\n",
       "      <td>1.621295</td>\n",
       "    </tr>\n",
       "    <tr>\n",
       "      <th>4</th>\n",
       "      <td>-0.838536</td>\n",
       "      <td>-0.746493</td>\n",
       "      <td>0.579856</td>\n",
       "      <td>-0.686264</td>\n",
       "      <td>-0.209979</td>\n",
       "      <td>-0.334156</td>\n",
       "      <td>-0.282120</td>\n",
       "      <td>0.840432</td>\n",
       "      <td>-0.269299</td>\n",
       "      <td>-0.239764</td>\n",
       "      <td>-1.160709</td>\n",
       "    </tr>\n",
       "  </tbody>\n",
       "</table>\n",
       "</div>"
      ],
      "text/plain": [
       "   HomePlanet  CryoSleep  Destination       Age       VIP  RoomService  \\\n",
       "0    0.320042  -0.746493     0.579856  1.960165 -0.209979    -0.334156   \n",
       "1    1.478619   1.108595     1.769839 -0.755907 -0.209979    -0.334156   \n",
       "2    0.320042   1.108595     0.579856  0.288736  5.752517    -0.334156   \n",
       "3   -0.838536  -0.746493     0.579856  0.985165 -0.209979    -0.123370   \n",
       "4   -0.838536  -0.746493     0.579856 -0.686264 -0.209979    -0.334156   \n",
       "\n",
       "   FoodCourt  ShoppingMall       Spa    VRDeck  Number_of_cabin  \n",
       "0   2.118193     -0.269090 -0.096652  3.299617        -0.935940  \n",
       "1  -0.282120     -0.291044 -0.270189 -0.271103        -0.930025  \n",
       "2  -0.282120     -0.291044 -0.270189 -0.271103        -0.502176  \n",
       "3   0.469261     -0.291044 -0.270189 -0.083073         1.621295  \n",
       "4  -0.282120      0.840432 -0.269299 -0.239764        -1.160709  "
      ]
     },
     "execution_count": 68,
     "metadata": {},
     "output_type": "execute_result"
    }
   ],
   "source": [
    "#nu = X.columns\n",
    "aux_X = StandardScaler().fit_transform(X[num_cols])\n",
    "aux_X = pd.DataFrame(aux_X, columns=num_cols)\n",
    "aux_X"
   ]
  },
  {
   "cell_type": "code",
   "execution_count": 69,
   "id": "e30228a7-7a0c-4611-ad2d-0516483456e7",
   "metadata": {},
   "outputs": [
    {
     "data": {
      "text/html": [
       "<div>\n",
       "<style scoped>\n",
       "    .dataframe tbody tr th:only-of-type {\n",
       "        vertical-align: middle;\n",
       "    }\n",
       "\n",
       "    .dataframe tbody tr th {\n",
       "        vertical-align: top;\n",
       "    }\n",
       "\n",
       "    .dataframe thead th {\n",
       "        text-align: right;\n",
       "    }\n",
       "</style>\n",
       "<table border=\"1\" class=\"dataframe\">\n",
       "  <thead>\n",
       "    <tr style=\"text-align: right;\">\n",
       "      <th></th>\n",
       "      <th>HomePlanet</th>\n",
       "      <th>CryoSleep</th>\n",
       "      <th>Destination</th>\n",
       "      <th>Age</th>\n",
       "      <th>VIP</th>\n",
       "      <th>RoomService</th>\n",
       "      <th>FoodCourt</th>\n",
       "      <th>ShoppingMall</th>\n",
       "      <th>Spa</th>\n",
       "      <th>VRDeck</th>\n",
       "      <th>Number_of_cabin</th>\n",
       "    </tr>\n",
       "  </thead>\n",
       "  <tbody>\n",
       "    <tr>\n",
       "      <th>0</th>\n",
       "      <td>0.320042</td>\n",
       "      <td>-0.746493</td>\n",
       "      <td>0.579856</td>\n",
       "      <td>1.960165</td>\n",
       "      <td>-0.209979</td>\n",
       "      <td>-0.334156</td>\n",
       "      <td>2.118193</td>\n",
       "      <td>-0.269090</td>\n",
       "      <td>-0.096652</td>\n",
       "      <td>3.299617</td>\n",
       "      <td>-0.935940</td>\n",
       "    </tr>\n",
       "    <tr>\n",
       "      <th>1</th>\n",
       "      <td>1.478619</td>\n",
       "      <td>1.108595</td>\n",
       "      <td>1.769839</td>\n",
       "      <td>-0.755907</td>\n",
       "      <td>-0.209979</td>\n",
       "      <td>-0.334156</td>\n",
       "      <td>-0.282120</td>\n",
       "      <td>-0.291044</td>\n",
       "      <td>-0.270189</td>\n",
       "      <td>-0.271103</td>\n",
       "      <td>-0.930025</td>\n",
       "    </tr>\n",
       "    <tr>\n",
       "      <th>2</th>\n",
       "      <td>0.320042</td>\n",
       "      <td>1.108595</td>\n",
       "      <td>0.579856</td>\n",
       "      <td>0.288736</td>\n",
       "      <td>5.752517</td>\n",
       "      <td>-0.334156</td>\n",
       "      <td>-0.282120</td>\n",
       "      <td>-0.291044</td>\n",
       "      <td>-0.270189</td>\n",
       "      <td>-0.271103</td>\n",
       "      <td>-0.502176</td>\n",
       "    </tr>\n",
       "    <tr>\n",
       "      <th>3</th>\n",
       "      <td>-0.838536</td>\n",
       "      <td>-0.746493</td>\n",
       "      <td>0.579856</td>\n",
       "      <td>0.985165</td>\n",
       "      <td>-0.209979</td>\n",
       "      <td>-0.123370</td>\n",
       "      <td>0.469261</td>\n",
       "      <td>-0.291044</td>\n",
       "      <td>-0.270189</td>\n",
       "      <td>-0.083073</td>\n",
       "      <td>1.621295</td>\n",
       "    </tr>\n",
       "    <tr>\n",
       "      <th>4</th>\n",
       "      <td>-0.838536</td>\n",
       "      <td>-0.746493</td>\n",
       "      <td>0.579856</td>\n",
       "      <td>-0.686264</td>\n",
       "      <td>-0.209979</td>\n",
       "      <td>-0.334156</td>\n",
       "      <td>-0.282120</td>\n",
       "      <td>0.840432</td>\n",
       "      <td>-0.269299</td>\n",
       "      <td>-0.239764</td>\n",
       "      <td>-1.160709</td>\n",
       "    </tr>\n",
       "    <tr>\n",
       "      <th>...</th>\n",
       "      <td>...</td>\n",
       "      <td>...</td>\n",
       "      <td>...</td>\n",
       "      <td>...</td>\n",
       "      <td>...</td>\n",
       "      <td>...</td>\n",
       "      <td>...</td>\n",
       "      <td>...</td>\n",
       "      <td>...</td>\n",
       "      <td>...</td>\n",
       "      <td>...</td>\n",
       "    </tr>\n",
       "    <tr>\n",
       "      <th>7818</th>\n",
       "      <td>1.478619</td>\n",
       "      <td>-0.746493</td>\n",
       "      <td>0.579856</td>\n",
       "      <td>-1.173764</td>\n",
       "      <td>5.752517</td>\n",
       "      <td>-0.334156</td>\n",
       "      <td>-0.282120</td>\n",
       "      <td>-0.291044</td>\n",
       "      <td>-0.270189</td>\n",
       "      <td>-0.271103</td>\n",
       "      <td>1.422158</td>\n",
       "    </tr>\n",
       "    <tr>\n",
       "      <th>7819</th>\n",
       "      <td>-0.838536</td>\n",
       "      <td>-0.746493</td>\n",
       "      <td>0.579856</td>\n",
       "      <td>1.054808</td>\n",
       "      <td>-0.209979</td>\n",
       "      <td>-0.334156</td>\n",
       "      <td>-0.282120</td>\n",
       "      <td>0.965401</td>\n",
       "      <td>-0.215013</td>\n",
       "      <td>-0.268337</td>\n",
       "      <td>-0.273465</td>\n",
       "    </tr>\n",
       "    <tr>\n",
       "      <th>7820</th>\n",
       "      <td>1.478619</td>\n",
       "      <td>1.108595</td>\n",
       "      <td>0.579856</td>\n",
       "      <td>1.820879</td>\n",
       "      <td>-0.209979</td>\n",
       "      <td>-0.334156</td>\n",
       "      <td>-0.282120</td>\n",
       "      <td>-0.291044</td>\n",
       "      <td>-0.270189</td>\n",
       "      <td>-0.271103</td>\n",
       "      <td>2.315317</td>\n",
       "    </tr>\n",
       "    <tr>\n",
       "      <th>7821</th>\n",
       "      <td>-0.838536</td>\n",
       "      <td>-0.746493</td>\n",
       "      <td>0.579856</td>\n",
       "      <td>-0.964836</td>\n",
       "      <td>-0.209979</td>\n",
       "      <td>-0.334156</td>\n",
       "      <td>0.240363</td>\n",
       "      <td>-0.083325</td>\n",
       "      <td>-0.270189</td>\n",
       "      <td>-0.252668</td>\n",
       "      <td>-0.679625</td>\n",
       "    </tr>\n",
       "    <tr>\n",
       "      <th>7822</th>\n",
       "      <td>0.320042</td>\n",
       "      <td>1.108595</td>\n",
       "      <td>-1.800110</td>\n",
       "      <td>1.124451</td>\n",
       "      <td>-0.209979</td>\n",
       "      <td>-0.334156</td>\n",
       "      <td>-0.282120</td>\n",
       "      <td>-0.291044</td>\n",
       "      <td>-0.270189</td>\n",
       "      <td>-0.271103</td>\n",
       "      <td>-0.646107</td>\n",
       "    </tr>\n",
       "  </tbody>\n",
       "</table>\n",
       "<p>7823 rows × 11 columns</p>\n",
       "</div>"
      ],
      "text/plain": [
       "      HomePlanet  CryoSleep  Destination       Age       VIP  RoomService  \\\n",
       "0       0.320042  -0.746493     0.579856  1.960165 -0.209979    -0.334156   \n",
       "1       1.478619   1.108595     1.769839 -0.755907 -0.209979    -0.334156   \n",
       "2       0.320042   1.108595     0.579856  0.288736  5.752517    -0.334156   \n",
       "3      -0.838536  -0.746493     0.579856  0.985165 -0.209979    -0.123370   \n",
       "4      -0.838536  -0.746493     0.579856 -0.686264 -0.209979    -0.334156   \n",
       "...          ...        ...          ...       ...       ...          ...   \n",
       "7818    1.478619  -0.746493     0.579856 -1.173764  5.752517    -0.334156   \n",
       "7819   -0.838536  -0.746493     0.579856  1.054808 -0.209979    -0.334156   \n",
       "7820    1.478619   1.108595     0.579856  1.820879 -0.209979    -0.334156   \n",
       "7821   -0.838536  -0.746493     0.579856 -0.964836 -0.209979    -0.334156   \n",
       "7822    0.320042   1.108595    -1.800110  1.124451 -0.209979    -0.334156   \n",
       "\n",
       "      FoodCourt  ShoppingMall       Spa    VRDeck  Number_of_cabin  \n",
       "0      2.118193     -0.269090 -0.096652  3.299617        -0.935940  \n",
       "1     -0.282120     -0.291044 -0.270189 -0.271103        -0.930025  \n",
       "2     -0.282120     -0.291044 -0.270189 -0.271103        -0.502176  \n",
       "3      0.469261     -0.291044 -0.270189 -0.083073         1.621295  \n",
       "4     -0.282120      0.840432 -0.269299 -0.239764        -1.160709  \n",
       "...         ...           ...       ...       ...              ...  \n",
       "7818  -0.282120     -0.291044 -0.270189 -0.271103         1.422158  \n",
       "7819  -0.282120      0.965401 -0.215013 -0.268337        -0.273465  \n",
       "7820  -0.282120     -0.291044 -0.270189 -0.271103         2.315317  \n",
       "7821   0.240363     -0.083325 -0.270189 -0.252668        -0.679625  \n",
       "7822  -0.282120     -0.291044 -0.270189 -0.271103        -0.646107  \n",
       "\n",
       "[7823 rows x 11 columns]"
      ]
     },
     "execution_count": 69,
     "metadata": {},
     "output_type": "execute_result"
    }
   ],
   "source": [
    "aux_X"
   ]
  },
  {
   "cell_type": "code",
   "execution_count": 70,
   "id": "4ae67cd2-e74d-4676-95ab-cfc34bb4e59a",
   "metadata": {},
   "outputs": [
    {
     "data": {
      "text/html": [
       "<div>\n",
       "<style scoped>\n",
       "    .dataframe tbody tr th:only-of-type {\n",
       "        vertical-align: middle;\n",
       "    }\n",
       "\n",
       "    .dataframe tbody tr th {\n",
       "        vertical-align: top;\n",
       "    }\n",
       "\n",
       "    .dataframe thead th {\n",
       "        text-align: right;\n",
       "    }\n",
       "</style>\n",
       "<table border=\"1\" class=\"dataframe\">\n",
       "  <thead>\n",
       "    <tr style=\"text-align: right;\">\n",
       "      <th></th>\n",
       "      <th>HomePlanet</th>\n",
       "      <th>CryoSleep</th>\n",
       "      <th>Destination</th>\n",
       "      <th>Age</th>\n",
       "      <th>VIP</th>\n",
       "      <th>RoomService</th>\n",
       "      <th>FoodCourt</th>\n",
       "      <th>ShoppingMall</th>\n",
       "      <th>Spa</th>\n",
       "      <th>VRDeck</th>\n",
       "      <th>...</th>\n",
       "      <th>Deck_of_spaceship_C</th>\n",
       "      <th>Deck_of_spaceship_D</th>\n",
       "      <th>Deck_of_spaceship_E</th>\n",
       "      <th>Deck_of_spaceship_F</th>\n",
       "      <th>Deck_of_spaceship_G</th>\n",
       "      <th>Deck_of_spaceship_T</th>\n",
       "      <th>Deck_of_spaceship_nan</th>\n",
       "      <th>Port_or_Starboard_P</th>\n",
       "      <th>Port_or_Starboard_S</th>\n",
       "      <th>Port_or_Starboard_nan</th>\n",
       "    </tr>\n",
       "  </thead>\n",
       "  <tbody>\n",
       "    <tr>\n",
       "      <th>0</th>\n",
       "      <td>0.320042</td>\n",
       "      <td>-0.746493</td>\n",
       "      <td>0.579856</td>\n",
       "      <td>1.960165</td>\n",
       "      <td>-0.209979</td>\n",
       "      <td>-0.334156</td>\n",
       "      <td>2.118193</td>\n",
       "      <td>-0.269090</td>\n",
       "      <td>-0.096652</td>\n",
       "      <td>3.299617</td>\n",
       "      <td>...</td>\n",
       "      <td>1.0</td>\n",
       "      <td>0.0</td>\n",
       "      <td>0.0</td>\n",
       "      <td>0.0</td>\n",
       "      <td>0.0</td>\n",
       "      <td>0.0</td>\n",
       "      <td>0.0</td>\n",
       "      <td>1.0</td>\n",
       "      <td>0.0</td>\n",
       "      <td>0.0</td>\n",
       "    </tr>\n",
       "    <tr>\n",
       "      <th>1</th>\n",
       "      <td>1.478619</td>\n",
       "      <td>1.108595</td>\n",
       "      <td>1.769839</td>\n",
       "      <td>-0.755907</td>\n",
       "      <td>-0.209979</td>\n",
       "      <td>-0.334156</td>\n",
       "      <td>-0.282120</td>\n",
       "      <td>-0.291044</td>\n",
       "      <td>-0.270189</td>\n",
       "      <td>-0.271103</td>\n",
       "      <td>...</td>\n",
       "      <td>0.0</td>\n",
       "      <td>0.0</td>\n",
       "      <td>0.0</td>\n",
       "      <td>1.0</td>\n",
       "      <td>0.0</td>\n",
       "      <td>0.0</td>\n",
       "      <td>0.0</td>\n",
       "      <td>0.0</td>\n",
       "      <td>1.0</td>\n",
       "      <td>0.0</td>\n",
       "    </tr>\n",
       "    <tr>\n",
       "      <th>2</th>\n",
       "      <td>0.320042</td>\n",
       "      <td>1.108595</td>\n",
       "      <td>0.579856</td>\n",
       "      <td>0.288736</td>\n",
       "      <td>5.752517</td>\n",
       "      <td>-0.334156</td>\n",
       "      <td>-0.282120</td>\n",
       "      <td>-0.291044</td>\n",
       "      <td>-0.270189</td>\n",
       "      <td>-0.271103</td>\n",
       "      <td>...</td>\n",
       "      <td>0.0</td>\n",
       "      <td>0.0</td>\n",
       "      <td>0.0</td>\n",
       "      <td>0.0</td>\n",
       "      <td>0.0</td>\n",
       "      <td>0.0</td>\n",
       "      <td>0.0</td>\n",
       "      <td>0.0</td>\n",
       "      <td>1.0</td>\n",
       "      <td>0.0</td>\n",
       "    </tr>\n",
       "    <tr>\n",
       "      <th>3</th>\n",
       "      <td>-0.838536</td>\n",
       "      <td>-0.746493</td>\n",
       "      <td>0.579856</td>\n",
       "      <td>0.985165</td>\n",
       "      <td>-0.209979</td>\n",
       "      <td>-0.123370</td>\n",
       "      <td>0.469261</td>\n",
       "      <td>-0.291044</td>\n",
       "      <td>-0.270189</td>\n",
       "      <td>-0.083073</td>\n",
       "      <td>...</td>\n",
       "      <td>0.0</td>\n",
       "      <td>0.0</td>\n",
       "      <td>0.0</td>\n",
       "      <td>1.0</td>\n",
       "      <td>0.0</td>\n",
       "      <td>0.0</td>\n",
       "      <td>0.0</td>\n",
       "      <td>1.0</td>\n",
       "      <td>0.0</td>\n",
       "      <td>0.0</td>\n",
       "    </tr>\n",
       "    <tr>\n",
       "      <th>4</th>\n",
       "      <td>-0.838536</td>\n",
       "      <td>-0.746493</td>\n",
       "      <td>0.579856</td>\n",
       "      <td>-0.686264</td>\n",
       "      <td>-0.209979</td>\n",
       "      <td>-0.334156</td>\n",
       "      <td>-0.282120</td>\n",
       "      <td>0.840432</td>\n",
       "      <td>-0.269299</td>\n",
       "      <td>-0.239764</td>\n",
       "      <td>...</td>\n",
       "      <td>0.0</td>\n",
       "      <td>0.0</td>\n",
       "      <td>0.0</td>\n",
       "      <td>0.0</td>\n",
       "      <td>1.0</td>\n",
       "      <td>0.0</td>\n",
       "      <td>0.0</td>\n",
       "      <td>1.0</td>\n",
       "      <td>0.0</td>\n",
       "      <td>0.0</td>\n",
       "    </tr>\n",
       "    <tr>\n",
       "      <th>...</th>\n",
       "      <td>...</td>\n",
       "      <td>...</td>\n",
       "      <td>...</td>\n",
       "      <td>...</td>\n",
       "      <td>...</td>\n",
       "      <td>...</td>\n",
       "      <td>...</td>\n",
       "      <td>...</td>\n",
       "      <td>...</td>\n",
       "      <td>...</td>\n",
       "      <td>...</td>\n",
       "      <td>...</td>\n",
       "      <td>...</td>\n",
       "      <td>...</td>\n",
       "      <td>...</td>\n",
       "      <td>...</td>\n",
       "      <td>...</td>\n",
       "      <td>...</td>\n",
       "      <td>...</td>\n",
       "      <td>...</td>\n",
       "      <td>...</td>\n",
       "    </tr>\n",
       "    <tr>\n",
       "      <th>7818</th>\n",
       "      <td>1.478619</td>\n",
       "      <td>-0.746493</td>\n",
       "      <td>0.579856</td>\n",
       "      <td>-1.173764</td>\n",
       "      <td>5.752517</td>\n",
       "      <td>-0.334156</td>\n",
       "      <td>-0.282120</td>\n",
       "      <td>-0.291044</td>\n",
       "      <td>-0.270189</td>\n",
       "      <td>-0.271103</td>\n",
       "      <td>...</td>\n",
       "      <td>0.0</td>\n",
       "      <td>0.0</td>\n",
       "      <td>0.0</td>\n",
       "      <td>1.0</td>\n",
       "      <td>0.0</td>\n",
       "      <td>0.0</td>\n",
       "      <td>0.0</td>\n",
       "      <td>0.0</td>\n",
       "      <td>1.0</td>\n",
       "      <td>0.0</td>\n",
       "    </tr>\n",
       "    <tr>\n",
       "      <th>7819</th>\n",
       "      <td>-0.838536</td>\n",
       "      <td>-0.746493</td>\n",
       "      <td>0.579856</td>\n",
       "      <td>1.054808</td>\n",
       "      <td>-0.209979</td>\n",
       "      <td>-0.334156</td>\n",
       "      <td>-0.282120</td>\n",
       "      <td>0.965401</td>\n",
       "      <td>-0.215013</td>\n",
       "      <td>-0.268337</td>\n",
       "      <td>...</td>\n",
       "      <td>0.0</td>\n",
       "      <td>0.0</td>\n",
       "      <td>0.0</td>\n",
       "      <td>0.0</td>\n",
       "      <td>1.0</td>\n",
       "      <td>0.0</td>\n",
       "      <td>0.0</td>\n",
       "      <td>0.0</td>\n",
       "      <td>1.0</td>\n",
       "      <td>0.0</td>\n",
       "    </tr>\n",
       "    <tr>\n",
       "      <th>7820</th>\n",
       "      <td>1.478619</td>\n",
       "      <td>1.108595</td>\n",
       "      <td>0.579856</td>\n",
       "      <td>1.820879</td>\n",
       "      <td>-0.209979</td>\n",
       "      <td>-0.334156</td>\n",
       "      <td>-0.282120</td>\n",
       "      <td>-0.291044</td>\n",
       "      <td>-0.270189</td>\n",
       "      <td>-0.271103</td>\n",
       "      <td>...</td>\n",
       "      <td>0.0</td>\n",
       "      <td>0.0</td>\n",
       "      <td>0.0</td>\n",
       "      <td>1.0</td>\n",
       "      <td>0.0</td>\n",
       "      <td>0.0</td>\n",
       "      <td>0.0</td>\n",
       "      <td>1.0</td>\n",
       "      <td>0.0</td>\n",
       "      <td>0.0</td>\n",
       "    </tr>\n",
       "    <tr>\n",
       "      <th>7821</th>\n",
       "      <td>-0.838536</td>\n",
       "      <td>-0.746493</td>\n",
       "      <td>0.579856</td>\n",
       "      <td>-0.964836</td>\n",
       "      <td>-0.209979</td>\n",
       "      <td>-0.334156</td>\n",
       "      <td>0.240363</td>\n",
       "      <td>-0.083325</td>\n",
       "      <td>-0.270189</td>\n",
       "      <td>-0.252668</td>\n",
       "      <td>...</td>\n",
       "      <td>0.0</td>\n",
       "      <td>0.0</td>\n",
       "      <td>1.0</td>\n",
       "      <td>0.0</td>\n",
       "      <td>0.0</td>\n",
       "      <td>0.0</td>\n",
       "      <td>0.0</td>\n",
       "      <td>1.0</td>\n",
       "      <td>0.0</td>\n",
       "      <td>0.0</td>\n",
       "    </tr>\n",
       "    <tr>\n",
       "      <th>7822</th>\n",
       "      <td>0.320042</td>\n",
       "      <td>1.108595</td>\n",
       "      <td>-1.800110</td>\n",
       "      <td>1.124451</td>\n",
       "      <td>-0.209979</td>\n",
       "      <td>-0.334156</td>\n",
       "      <td>-0.282120</td>\n",
       "      <td>-0.291044</td>\n",
       "      <td>-0.270189</td>\n",
       "      <td>-0.271103</td>\n",
       "      <td>...</td>\n",
       "      <td>0.0</td>\n",
       "      <td>0.0</td>\n",
       "      <td>0.0</td>\n",
       "      <td>0.0</td>\n",
       "      <td>0.0</td>\n",
       "      <td>0.0</td>\n",
       "      <td>0.0</td>\n",
       "      <td>1.0</td>\n",
       "      <td>0.0</td>\n",
       "      <td>0.0</td>\n",
       "    </tr>\n",
       "  </tbody>\n",
       "</table>\n",
       "<p>7823 rows × 23 columns</p>\n",
       "</div>"
      ],
      "text/plain": [
       "      HomePlanet  CryoSleep  Destination       Age       VIP  RoomService  \\\n",
       "0       0.320042  -0.746493     0.579856  1.960165 -0.209979    -0.334156   \n",
       "1       1.478619   1.108595     1.769839 -0.755907 -0.209979    -0.334156   \n",
       "2       0.320042   1.108595     0.579856  0.288736  5.752517    -0.334156   \n",
       "3      -0.838536  -0.746493     0.579856  0.985165 -0.209979    -0.123370   \n",
       "4      -0.838536  -0.746493     0.579856 -0.686264 -0.209979    -0.334156   \n",
       "...          ...        ...          ...       ...       ...          ...   \n",
       "7818    1.478619  -0.746493     0.579856 -1.173764  5.752517    -0.334156   \n",
       "7819   -0.838536  -0.746493     0.579856  1.054808 -0.209979    -0.334156   \n",
       "7820    1.478619   1.108595     0.579856  1.820879 -0.209979    -0.334156   \n",
       "7821   -0.838536  -0.746493     0.579856 -0.964836 -0.209979    -0.334156   \n",
       "7822    0.320042   1.108595    -1.800110  1.124451 -0.209979    -0.334156   \n",
       "\n",
       "      FoodCourt  ShoppingMall       Spa    VRDeck  ...  Deck_of_spaceship_C  \\\n",
       "0      2.118193     -0.269090 -0.096652  3.299617  ...                  1.0   \n",
       "1     -0.282120     -0.291044 -0.270189 -0.271103  ...                  0.0   \n",
       "2     -0.282120     -0.291044 -0.270189 -0.271103  ...                  0.0   \n",
       "3      0.469261     -0.291044 -0.270189 -0.083073  ...                  0.0   \n",
       "4     -0.282120      0.840432 -0.269299 -0.239764  ...                  0.0   \n",
       "...         ...           ...       ...       ...  ...                  ...   \n",
       "7818  -0.282120     -0.291044 -0.270189 -0.271103  ...                  0.0   \n",
       "7819  -0.282120      0.965401 -0.215013 -0.268337  ...                  0.0   \n",
       "7820  -0.282120     -0.291044 -0.270189 -0.271103  ...                  0.0   \n",
       "7821   0.240363     -0.083325 -0.270189 -0.252668  ...                  0.0   \n",
       "7822  -0.282120     -0.291044 -0.270189 -0.271103  ...                  0.0   \n",
       "\n",
       "      Deck_of_spaceship_D  Deck_of_spaceship_E  Deck_of_spaceship_F  \\\n",
       "0                     0.0                  0.0                  0.0   \n",
       "1                     0.0                  0.0                  1.0   \n",
       "2                     0.0                  0.0                  0.0   \n",
       "3                     0.0                  0.0                  1.0   \n",
       "4                     0.0                  0.0                  0.0   \n",
       "...                   ...                  ...                  ...   \n",
       "7818                  0.0                  0.0                  1.0   \n",
       "7819                  0.0                  0.0                  0.0   \n",
       "7820                  0.0                  0.0                  1.0   \n",
       "7821                  0.0                  1.0                  0.0   \n",
       "7822                  0.0                  0.0                  0.0   \n",
       "\n",
       "      Deck_of_spaceship_G  Deck_of_spaceship_T  Deck_of_spaceship_nan  \\\n",
       "0                     0.0                  0.0                    0.0   \n",
       "1                     0.0                  0.0                    0.0   \n",
       "2                     0.0                  0.0                    0.0   \n",
       "3                     0.0                  0.0                    0.0   \n",
       "4                     1.0                  0.0                    0.0   \n",
       "...                   ...                  ...                    ...   \n",
       "7818                  0.0                  0.0                    0.0   \n",
       "7819                  1.0                  0.0                    0.0   \n",
       "7820                  0.0                  0.0                    0.0   \n",
       "7821                  0.0                  0.0                    0.0   \n",
       "7822                  0.0                  0.0                    0.0   \n",
       "\n",
       "      Port_or_Starboard_P  Port_or_Starboard_S  Port_or_Starboard_nan  \n",
       "0                     1.0                  0.0                    0.0  \n",
       "1                     0.0                  1.0                    0.0  \n",
       "2                     0.0                  1.0                    0.0  \n",
       "3                     1.0                  0.0                    0.0  \n",
       "4                     1.0                  0.0                    0.0  \n",
       "...                   ...                  ...                    ...  \n",
       "7818                  0.0                  1.0                    0.0  \n",
       "7819                  0.0                  1.0                    0.0  \n",
       "7820                  1.0                  0.0                    0.0  \n",
       "7821                  1.0                  0.0                    0.0  \n",
       "7822                  1.0                  0.0                    0.0  \n",
       "\n",
       "[7823 rows x 23 columns]"
      ]
     },
     "execution_count": 70,
     "metadata": {},
     "output_type": "execute_result"
    }
   ],
   "source": [
    "Y = aux_X.join(X[cat_cols])\n",
    "Y"
   ]
  },
  {
   "cell_type": "code",
   "execution_count": 71,
   "id": "9bc95528-57ca-48e2-b16c-2d8f91be76a7",
   "metadata": {},
   "outputs": [],
   "source": [
    "X = Y"
   ]
  },
  {
   "cell_type": "code",
   "execution_count": null,
   "id": "3affcc2b-5183-43d5-8f14-ffd02a10cc81",
   "metadata": {},
   "outputs": [],
   "source": []
  },
  {
   "cell_type": "markdown",
   "id": "ab4dee3b",
   "metadata": {},
   "source": [
    "### Dividimos en conjuntos de train y test."
   ]
  },
  {
   "cell_type": "code",
   "execution_count": 72,
   "id": "d0995384",
   "metadata": {},
   "outputs": [],
   "source": [
    "from sklearn.model_selection import train_test_split, GridSearchCV, StratifiedKFold\n",
    "\n",
    "x_train, x_test, y_train, y_test = train_test_split(X, y, train_size=0.9, random_state = 0 ) "
   ]
  },
  {
   "cell_type": "markdown",
   "id": "c1fc55b0",
   "metadata": {},
   "source": [
    "________________"
   ]
  },
  {
   "cell_type": "markdown",
   "id": "56a1a8a0-9e40-481c-9638-25be59c58490",
   "metadata": {},
   "source": [
    "## Modelo de Redes Neuronales: Perceptrón multicapa"
   ]
  },
  {
   "cell_type": "code",
   "execution_count": 73,
   "id": "a83eff00-d04d-4cf2-be1d-8884ae823120",
   "metadata": {},
   "outputs": [],
   "source": [
    "from sklearn import neural_network"
   ]
  },
  {
   "cell_type": "markdown",
   "id": "70be08a0-3740-416a-a779-acf1365382c8",
   "metadata": {},
   "source": [
    "### 194\n",
    "\n",
    "Accuracy: 79.23\n",
    "\n",
    "clf = neural_network.MLPClassifier(\n",
    "    activation='tanh',\n",
    "    solver='sgd',\n",
    "    alpha=0.0001,\n",
    "    hidden_layer_sizes=(6),\n",
    "    learning_rate='constant',\n",
    "    learning_rate_init=0.001,\n",
    "    batch_size=20,\n",
    "    random_state=8,\n",
    "    max_iter=1000,\n",
    "    verbose=True\n",
    ")"
   ]
  },
  {
   "cell_type": "markdown",
   "id": "36a57e9a-bfa0-4927-9476-54e625403f88",
   "metadata": {},
   "source": [
    "---\n",
    "\n",
    "225\n",
    "\n",
    "Accuracy: 79.55\n",
    "\n",
    "clf = neural_network.MLPClassifier(\n",
    "    activation='tanh',\n",
    "    solver='sgd',\n",
    "    alpha=0.0001,\n",
    "    hidden_layer_sizes=(7),\n",
    "    learning_rate='constant',\n",
    "    learning_rate_init=0.001,\n",
    "    batch_size=20,\n",
    "    random_state=8,\n",
    "    max_iter=1000,\n",
    "    verbose=True\n",
    ")"
   ]
  },
  {
   "cell_type": "markdown",
   "id": "70c7d28b-5ea6-4822-aa46-7058797ce022",
   "metadata": {},
   "source": [
    "---\n",
    "\n",
    "165\n",
    "\n",
    "Accuracy: 79.68\n",
    "\n",
    "clf = neural_network.MLPClassifier(\n",
    "    activation='tanh',\n",
    "    solver='adam',\n",
    "    alpha=0.0001,\n",
    "    hidden_layer_sizes=(7),\n",
    "    learning_rate='constant',\n",
    "    learning_rate_init=0.001,\n",
    "    batch_size=20,\n",
    "    random_state=8,\n",
    "    max_iter=1000,\n",
    "    verbose=True\n",
    ")"
   ]
  },
  {
   "cell_type": "markdown",
   "id": "7a77bbeb-9f07-4eff-93f3-f462c988f106",
   "metadata": {},
   "source": [
    "---\n",
    "\n",
    "206\n",
    "\n",
    "Accuracy: 80.13\n",
    "\n",
    "clf = neural_network.MLPClassifier(\n",
    "    activation='tanh',\n",
    "    solver='sgd',\n",
    "    alpha=0.0001,\n",
    "    hidden_layer_sizes=(7),\n",
    "    learning_rate='constant',\n",
    "    learning_rate_init=0.002,\n",
    "    batch_size=20,\n",
    "    random_state=8,\n",
    "    max_iter=1000,\n",
    "    verbose=True\n",
    ")"
   ]
  },
  {
   "cell_type": "markdown",
   "id": "cb71c7d6-2ddf-4d7c-8b8c-9b662be4919a",
   "metadata": {},
   "source": [
    "clf = neural_network.MLPClassifier(\n",
    "    activation='tanh',\n",
    "    solver='sgd',\n",
    "    #alpha=0.0001,\n",
    "    alpha=0.005,\n",
    "    hidden_layer_sizes=(8),\n",
    "    learning_rate='constant',\n",
    "    learning_rate_init=0.001,\n",
    "    batch_size=20,\n",
    "    random_state=8,\n",
    "    max_iter=1000,\n",
    "    verbose=True\n",
    ")"
   ]
  },
  {
   "cell_type": "markdown",
   "id": "02ac7ac8-4819-4203-a4d2-b85b217a5a92",
   "metadata": {},
   "source": [
    "clf = neural_network.MLPClassifier(\n",
    "    activation='tanh',\n",
    "    solver='sgd',\n",
    "    #alpha=0.0001,\n",
    "    alpha=0.005,\n",
    "    hidden_layer_sizes=(8),\n",
    "    learning_rate='constant',\n",
    "    learning_rate_init=0.001,\n",
    "    batch_size=20,\n",
    "    random_state=5,\n",
    "    max_iter=1000,\n",
    "    verbose=True\n",
    ")"
   ]
  },
  {
   "cell_type": "code",
   "execution_count": 74,
   "id": "691b3ae0-a79c-44f3-88d1-e4363b400a27",
   "metadata": {},
   "outputs": [],
   "source": [
    "clf = neural_network.MLPClassifier(\n",
    "    activation='tanh',\n",
    "    solver='sgd',\n",
    "    alpha=0.0001,\n",
    "    hidden_layer_sizes=(8),\n",
    "    learning_rate='constant',\n",
    "    learning_rate_init=0.002,\n",
    "    batch_size=20,\n",
    "    random_state=8,\n",
    "    max_iter=1000,\n",
    "    verbose=True,\n",
    ")"
   ]
  },
  {
   "cell_type": "code",
   "execution_count": 75,
   "id": "cb65e18d-96a5-425a-bb03-fe7e2f4cfe62",
   "metadata": {},
   "outputs": [
    {
     "name": "stdout",
     "output_type": "stream",
     "text": [
      "Iteration 1, loss = 0.59520932\n",
      "Iteration 2, loss = 0.49222589\n",
      "Iteration 3, loss = 0.47493223\n",
      "Iteration 4, loss = 0.46524922\n",
      "Iteration 5, loss = 0.45857545\n",
      "Iteration 6, loss = 0.45328053\n",
      "Iteration 7, loss = 0.44929187\n",
      "Iteration 8, loss = 0.44595042\n",
      "Iteration 9, loss = 0.44337478\n",
      "Iteration 10, loss = 0.44079935\n",
      "Iteration 11, loss = 0.43827464\n",
      "Iteration 12, loss = 0.43658944\n",
      "Iteration 13, loss = 0.43501114\n",
      "Iteration 14, loss = 0.43313757\n",
      "Iteration 15, loss = 0.43206792\n",
      "Iteration 16, loss = 0.43068199\n",
      "Iteration 17, loss = 0.42940354\n",
      "Iteration 18, loss = 0.42805914\n",
      "Iteration 19, loss = 0.42710018\n",
      "Iteration 20, loss = 0.42573604\n",
      "Iteration 21, loss = 0.42506675\n",
      "Iteration 22, loss = 0.42418505\n",
      "Iteration 23, loss = 0.42313443\n",
      "Iteration 24, loss = 0.42203733\n",
      "Iteration 25, loss = 0.42096204\n",
      "Iteration 26, loss = 0.42027178\n",
      "Iteration 27, loss = 0.41921848\n",
      "Iteration 28, loss = 0.41907389\n",
      "Iteration 29, loss = 0.41784968\n",
      "Iteration 30, loss = 0.41760058\n",
      "Iteration 31, loss = 0.41701080\n",
      "Iteration 32, loss = 0.41598831\n",
      "Iteration 33, loss = 0.41532061\n",
      "Iteration 34, loss = 0.41496086\n",
      "Iteration 35, loss = 0.41405024\n",
      "Iteration 36, loss = 0.41370673\n",
      "Iteration 37, loss = 0.41316004\n",
      "Iteration 38, loss = 0.41280481\n",
      "Iteration 39, loss = 0.41247617\n",
      "Iteration 40, loss = 0.41192380\n",
      "Iteration 41, loss = 0.41148099\n",
      "Iteration 42, loss = 0.41095063\n",
      "Iteration 43, loss = 0.41075151\n",
      "Iteration 44, loss = 0.40991756\n",
      "Iteration 45, loss = 0.40958383\n",
      "Iteration 46, loss = 0.40922879\n",
      "Iteration 47, loss = 0.40864105\n",
      "Iteration 48, loss = 0.40859689\n",
      "Iteration 49, loss = 0.40768066\n",
      "Iteration 50, loss = 0.40806547\n",
      "Iteration 51, loss = 0.40753022\n",
      "Iteration 52, loss = 0.40717371\n",
      "Iteration 53, loss = 0.40704894\n",
      "Iteration 54, loss = 0.40668633\n",
      "Iteration 55, loss = 0.40625333\n",
      "Iteration 56, loss = 0.40639281\n",
      "Iteration 57, loss = 0.40545310\n",
      "Iteration 58, loss = 0.40579660\n",
      "Iteration 59, loss = 0.40513432\n",
      "Iteration 60, loss = 0.40506815\n",
      "Iteration 61, loss = 0.40508636\n",
      "Iteration 62, loss = 0.40452624\n",
      "Iteration 63, loss = 0.40399921\n",
      "Iteration 64, loss = 0.40403512\n",
      "Iteration 65, loss = 0.40363041\n",
      "Iteration 66, loss = 0.40386851\n",
      "Iteration 67, loss = 0.40342292\n",
      "Iteration 68, loss = 0.40371424\n",
      "Iteration 69, loss = 0.40316875\n",
      "Iteration 70, loss = 0.40330474\n",
      "Iteration 71, loss = 0.40313738\n",
      "Iteration 72, loss = 0.40302197\n",
      "Iteration 73, loss = 0.40274375\n",
      "Iteration 74, loss = 0.40252815\n",
      "Iteration 75, loss = 0.40237809\n",
      "Iteration 76, loss = 0.40227519\n",
      "Iteration 77, loss = 0.40220394\n",
      "Iteration 78, loss = 0.40209037\n",
      "Iteration 79, loss = 0.40185855\n",
      "Iteration 80, loss = 0.40152152\n",
      "Iteration 81, loss = 0.40153268\n",
      "Iteration 82, loss = 0.40132862\n",
      "Iteration 83, loss = 0.40148349\n",
      "Iteration 84, loss = 0.40092012\n",
      "Iteration 85, loss = 0.40081333\n",
      "Iteration 86, loss = 0.40114476\n",
      "Iteration 87, loss = 0.40112586\n",
      "Iteration 88, loss = 0.40098222\n",
      "Iteration 89, loss = 0.40058986\n",
      "Iteration 90, loss = 0.40072630\n",
      "Iteration 91, loss = 0.40046830\n",
      "Iteration 92, loss = 0.39999598\n",
      "Iteration 93, loss = 0.40036859\n",
      "Iteration 94, loss = 0.40024829\n",
      "Iteration 95, loss = 0.40005678\n",
      "Iteration 96, loss = 0.40022564\n",
      "Iteration 97, loss = 0.40002533\n",
      "Iteration 98, loss = 0.39964736\n",
      "Iteration 99, loss = 0.39957045\n",
      "Iteration 100, loss = 0.39937328\n",
      "Iteration 101, loss = 0.39928775\n",
      "Iteration 102, loss = 0.39949787\n",
      "Iteration 103, loss = 0.39889775\n",
      "Iteration 104, loss = 0.39932652\n",
      "Iteration 105, loss = 0.39930517\n",
      "Iteration 106, loss = 0.39897778\n",
      "Iteration 107, loss = 0.39893163\n",
      "Iteration 108, loss = 0.39886882\n",
      "Iteration 109, loss = 0.39920533\n",
      "Iteration 110, loss = 0.39858181\n",
      "Iteration 111, loss = 0.39830205\n",
      "Iteration 112, loss = 0.39882562\n",
      "Iteration 113, loss = 0.39870634\n",
      "Iteration 114, loss = 0.39842812\n",
      "Iteration 115, loss = 0.39852863\n",
      "Iteration 116, loss = 0.39815795\n",
      "Iteration 117, loss = 0.39810507\n",
      "Iteration 118, loss = 0.39848632\n",
      "Iteration 119, loss = 0.39824220\n",
      "Iteration 120, loss = 0.39804225\n",
      "Iteration 121, loss = 0.39798394\n",
      "Iteration 122, loss = 0.39807435\n",
      "Iteration 123, loss = 0.39741694\n",
      "Iteration 124, loss = 0.39785158\n",
      "Iteration 125, loss = 0.39749150\n",
      "Iteration 126, loss = 0.39799219\n",
      "Iteration 127, loss = 0.39769133\n",
      "Iteration 128, loss = 0.39766693\n",
      "Iteration 129, loss = 0.39750034\n",
      "Iteration 130, loss = 0.39712359\n",
      "Iteration 131, loss = 0.39745938\n",
      "Iteration 132, loss = 0.39741563\n",
      "Iteration 133, loss = 0.39719999\n",
      "Iteration 134, loss = 0.39738727\n",
      "Iteration 135, loss = 0.39696011\n",
      "Iteration 136, loss = 0.39729740\n",
      "Iteration 137, loss = 0.39695632\n",
      "Iteration 138, loss = 0.39675585\n",
      "Iteration 139, loss = 0.39692303\n",
      "Iteration 140, loss = 0.39716591\n",
      "Iteration 141, loss = 0.39683923\n",
      "Iteration 142, loss = 0.39707895\n",
      "Iteration 143, loss = 0.39686225\n",
      "Iteration 144, loss = 0.39659915\n",
      "Iteration 145, loss = 0.39706002\n",
      "Iteration 146, loss = 0.39638009\n",
      "Iteration 147, loss = 0.39663786\n",
      "Iteration 148, loss = 0.39636352\n",
      "Iteration 149, loss = 0.39635251\n",
      "Iteration 150, loss = 0.39659398\n",
      "Iteration 151, loss = 0.39613097\n",
      "Iteration 152, loss = 0.39621751\n",
      "Iteration 153, loss = 0.39616992\n",
      "Iteration 154, loss = 0.39621732\n",
      "Iteration 155, loss = 0.39621709\n",
      "Iteration 156, loss = 0.39590563\n",
      "Iteration 157, loss = 0.39603497\n",
      "Iteration 158, loss = 0.39604478\n",
      "Iteration 159, loss = 0.39575152\n",
      "Iteration 160, loss = 0.39620465\n",
      "Iteration 161, loss = 0.39607185\n",
      "Iteration 162, loss = 0.39575396\n",
      "Iteration 163, loss = 0.39568970\n",
      "Iteration 164, loss = 0.39590261\n",
      "Iteration 165, loss = 0.39553222\n",
      "Iteration 166, loss = 0.39544599\n",
      "Iteration 167, loss = 0.39557177\n",
      "Iteration 168, loss = 0.39575827\n",
      "Iteration 169, loss = 0.39538309\n",
      "Iteration 170, loss = 0.39561407\n",
      "Iteration 171, loss = 0.39531873\n",
      "Iteration 172, loss = 0.39544902\n",
      "Iteration 173, loss = 0.39556497\n",
      "Iteration 174, loss = 0.39569280\n",
      "Iteration 175, loss = 0.39518368\n",
      "Iteration 176, loss = 0.39506084\n",
      "Iteration 177, loss = 0.39547015\n",
      "Iteration 178, loss = 0.39483974\n",
      "Iteration 179, loss = 0.39558750\n",
      "Iteration 180, loss = 0.39515328\n",
      "Iteration 181, loss = 0.39529326\n",
      "Iteration 182, loss = 0.39510452\n",
      "Iteration 183, loss = 0.39531283\n",
      "Iteration 184, loss = 0.39487674\n",
      "Iteration 185, loss = 0.39535093\n",
      "Iteration 186, loss = 0.39474958\n",
      "Iteration 187, loss = 0.39499788\n",
      "Iteration 188, loss = 0.39483698\n",
      "Iteration 189, loss = 0.39479419\n",
      "Training loss did not improve more than tol=0.000100 for 10 consecutive epochs. Stopping.\n"
     ]
    },
    {
     "data": {
      "text/plain": [
       "MLPClassifier(activation='tanh', batch_size=20, hidden_layer_sizes=8,\n",
       "              learning_rate_init=0.002, max_iter=1000, random_state=8,\n",
       "              solver='sgd', verbose=True)"
      ]
     },
     "execution_count": 75,
     "metadata": {},
     "output_type": "execute_result"
    }
   ],
   "source": [
    "clf.fit(x_train, y_train.ravel())"
   ]
  },
  {
   "cell_type": "code",
   "execution_count": 76,
   "id": "6a59c00b-ee08-4581-8add-a8acd446f406",
   "metadata": {},
   "outputs": [
    {
     "name": "stdout",
     "output_type": "stream",
     "text": [
      "wi = 184\n",
      "bias = 8\n",
      "wi = 8\n",
      "bias = 1\n",
      "total params =  201\n"
     ]
    }
   ],
   "source": [
    "total_params = 0\n",
    "for case, name in zip(clf.coefs_, ('wi','bias')):\n",
    "    print(name, '=', np.size(case))\n",
    "    total_params += np.size(case)\n",
    "\n",
    "for case, name in zip(clf.intercepts_, ('wi','bias')):\n",
    "    print(name, '=', np.size(case))\n",
    "    total_params += np.size(case)\n",
    "\n",
    "print('total params = ', total_params)"
   ]
  },
  {
   "cell_type": "code",
   "execution_count": null,
   "id": "8405c84f-4cd1-4729-a496-2667eacbcd49",
   "metadata": {},
   "outputs": [],
   "source": []
  },
  {
   "cell_type": "code",
   "execution_count": 77,
   "id": "801c133f-d1c3-4f17-9f9c-25aa2219d671",
   "metadata": {},
   "outputs": [
    {
     "name": "stdout",
     "output_type": "stream",
     "text": [
      "Accuracy: 81.01\n"
     ]
    }
   ],
   "source": [
    "predictions = clf.predict(x_train)\n",
    "print (f'Accuracy: {accuracy_score(y_train, predictions)*100:.2f}')"
   ]
  },
  {
   "cell_type": "code",
   "execution_count": null,
   "id": "1a440a44-4df2-4b94-b91d-7ff8dedadaf8",
   "metadata": {},
   "outputs": [],
   "source": []
  },
  {
   "cell_type": "markdown",
   "id": "f8039a90-92d2-4bb0-82a1-c20f49e9489b",
   "metadata": {},
   "source": [
    "Y ver cuánto da en el conjunto de datos de prueba"
   ]
  },
  {
   "cell_type": "code",
   "execution_count": 78,
   "id": "156c6a48-b5a8-4a8b-8129-3c7af0ad7092",
   "metadata": {},
   "outputs": [
    {
     "name": "stdout",
     "output_type": "stream",
     "text": [
      "Accuracy: 83.01\n"
     ]
    }
   ],
   "source": [
    "predictions = clf.predict(x_test)\n",
    "print(f'Accuracy: {accuracy_score(y_test, predictions)*100:.2f}')"
   ]
  },
  {
   "cell_type": "code",
   "execution_count": null,
   "id": "c6f43265-7a98-448e-9200-1746522ebb15",
   "metadata": {},
   "outputs": [],
   "source": []
  },
  {
   "cell_type": "code",
   "execution_count": 121,
   "id": "a4a04423-9ac9-4b7c-8f79-82f08ad55755",
   "metadata": {},
   "outputs": [
    {
     "name": "stdout",
     "output_type": "stream",
     "text": [
      "True Negative: 314\n",
      "False Positive: 77\n",
      "False Negative: 73\n",
      "True Positive: 319\n"
     ]
    }
   ],
   "source": [
    "tn, fp, fn, tp = confusion_matrix(y_test, predictions, labels=[0, 1]).ravel()\n",
    "\n",
    "print(f\"True Negative: {tn}\")\n",
    "print(f\"False Positive: {fp}\")\n",
    "print(f\"False Negative: {fn}\")\n",
    "print(f\"True Positive: {tp}\")"
   ]
  },
  {
   "cell_type": "code",
   "execution_count": null,
   "id": "88dd5401-0087-47d8-a4b7-89a306ac0435",
   "metadata": {},
   "outputs": [],
   "source": []
  },
  {
   "cell_type": "code",
   "execution_count": null,
   "id": "b287e0a2-b032-4465-9fd4-ea302b9a877b",
   "metadata": {},
   "outputs": [],
   "source": []
  },
  {
   "cell_type": "code",
   "execution_count": 45,
   "id": "d0a99884-4b68-4940-a52e-444b051c76b1",
   "metadata": {},
   "outputs": [
    {
     "ename": "SyntaxError",
     "evalue": "invalid syntax (<ipython-input-45-9d526553a371>, line 1)",
     "output_type": "error",
     "traceback": [
      "\u001b[0;36m  File \u001b[0;32m\"<ipython-input-45-9d526553a371>\"\u001b[0;36m, line \u001b[0;32m1\u001b[0m\n\u001b[0;31m    if\u001b[0m\n\u001b[0m      ^\u001b[0m\n\u001b[0;31mSyntaxError\u001b[0m\u001b[0;31m:\u001b[0m invalid syntax\n"
     ]
    }
   ],
   "source": [
    "if"
   ]
  },
  {
   "cell_type": "markdown",
   "id": "b0f6ea8d-906a-400e-a372-b87c1e1b7ec4",
   "metadata": {},
   "source": [
    "---"
   ]
  },
  {
   "cell_type": "markdown",
   "id": "1ce1e8da",
   "metadata": {},
   "source": [
    "### Probamos con un Decition Tree."
   ]
  },
  {
   "cell_type": "code",
   "execution_count": null,
   "id": "d438d46f",
   "metadata": {},
   "outputs": [],
   "source": [
    "from sklearn.metrics import (\n",
    "    accuracy_score,\n",
    "    precision_score,\n",
    "    recall_score,\n",
    "    f1_score,\n",
    "    confusion_matrix,\n",
    "    plot_confusion_matrix,\n",
    "    classification_report,\n",
    ")\n",
    "from sklearn.model_selection import (\n",
    "    train_test_split,\n",
    "    ParameterSampler,\n",
    "    RandomizedSearchCV,\n",
    "    ParameterGrid,\n",
    "    GridSearchCV,\n",
    ")\n",
    "from sklearn.tree import DecisionTreeClassifier, plot_tree"
   ]
  },
  {
   "cell_type": "code",
   "execution_count": null,
   "id": "25864fc3",
   "metadata": {},
   "outputs": [],
   "source": [
    "from sklearn.tree import DecisionTreeClassifier\n",
    "from sklearn.metrics import accuracy_score, ConfusionMatrixDisplay, classification_report"
   ]
  },
  {
   "cell_type": "code",
   "execution_count": null,
   "id": "51b5b6cc",
   "metadata": {},
   "outputs": [],
   "source": [
    "clf_tree = DecisionTreeClassifier(max_depth=None, random_state=0)\n",
    "clf_tree.fit(x_train, y_train)"
   ]
  },
  {
   "cell_type": "code",
   "execution_count": null,
   "id": "622232cc",
   "metadata": {},
   "outputs": [],
   "source": [
    "y_train_pred = clf_tree.predict(x_train)\n",
    "y_test_pred = clf_tree.predict(x_test)\n",
    "\n",
    "train_acc = accuracy_score(y_train, y_train_pred)\n",
    "test_acc = accuracy_score(y_test, y_test_pred)\n",
    "print(f\"Train accuracy: {train_acc:0.2}\")\n",
    "print(f\"Test accuracy: {test_acc:0.2}\")"
   ]
  },
  {
   "cell_type": "code",
   "execution_count": null,
   "id": "bbc2d73e",
   "metadata": {
    "scrolled": true
   },
   "outputs": [],
   "source": [
    "print(classification_report(y_test, y_test_pred))"
   ]
  },
  {
   "cell_type": "code",
   "execution_count": null,
   "id": "49914ae5",
   "metadata": {},
   "outputs": [],
   "source": [
    "tn, fp, fn, tp = confusion_matrix(y_test, y_test_pred, labels=[0, 1]).ravel()\n",
    "\n",
    "print(f\"True Negative: {tn}\")\n",
    "print(f\"False Positive: {fp}\")\n",
    "print(f\"False Negative: {fn}\")\n",
    "print(f\"True Positive: {tp}\")"
   ]
  },
  {
   "cell_type": "code",
   "execution_count": null,
   "id": "27a24502",
   "metadata": {
    "scrolled": true
   },
   "outputs": [],
   "source": [
    "plot_confusion_matrix(clf_tree, x_test, y_test, cmap=\"magma\");"
   ]
  },
  {
   "cell_type": "markdown",
   "id": "2ed7d10b",
   "metadata": {},
   "source": [
    "#### Buscamos mejores hyperparametros."
   ]
  },
  {
   "cell_type": "code",
   "execution_count": null,
   "id": "204bd8a1",
   "metadata": {},
   "outputs": [],
   "source": [
    "param_grid = {\n",
    "    \"criterion\": [\"gini\", \"entropy\"],\n",
    "    \"max_depth\": [2, 4, 6, 8, 10],\n",
    "    \"min_samples_leaf\": [2, 4, 6],\n",
    "    \"random_state\": [0, 2, 4],\n",
    "}"
   ]
  },
  {
   "cell_type": "code",
   "execution_count": null,
   "id": "ebf5dcb6",
   "metadata": {},
   "outputs": [],
   "source": [
    "for params in ParameterGrid(param_grid):\n",
    "    model = DecisionTreeClassifier(**params)"
   ]
  },
  {
   "cell_type": "code",
   "execution_count": null,
   "id": "bfdb05c5",
   "metadata": {},
   "outputs": [],
   "source": [
    "model = DecisionTreeClassifier()\n",
    "\n",
    "cv = GridSearchCV(model, param_grid, scoring=\"accuracy\", cv=5)\n",
    "cv.fit(x_train, y_train)"
   ]
  },
  {
   "cell_type": "code",
   "execution_count": null,
   "id": "b088f3e0",
   "metadata": {},
   "outputs": [],
   "source": [
    "results = cv.cv_results_\n",
    "params = results[\"params\"]\n",
    "mean = results[\"mean_test_score\"]\n",
    "std = results[\"std_test_score\"]\n",
    "rank = results[\"rank_test_score\"]\n",
    "\n",
    "print(\"crit.\\tdepth\\t| mean\\tstd\\trank\")\n",
    "for p, m, s, r in zip(params, mean, std, rank):\n",
    "    print(f\"{p['criterion']}\\t{p['max_depth']}\\t| {m:0.2f}\\t{s:0.2f}\\t{r}\")"
   ]
  },
  {
   "cell_type": "code",
   "execution_count": null,
   "id": "fdb7e35f",
   "metadata": {},
   "outputs": [],
   "source": [
    "df = pd.DataFrame(results)\n",
    "df = df[\n",
    "    [\n",
    "        \"param_criterion\",\n",
    "        \"param_max_depth\",\n",
    "        \"mean_test_score\",\n",
    "        \"std_test_score\",\n",
    "        \"rank_test_score\",\n",
    "    ]\n",
    "]\n",
    "df = df.sort_values(by=\"rank_test_score\")\n",
    "df"
   ]
  },
  {
   "cell_type": "code",
   "execution_count": null,
   "id": "71282b3d",
   "metadata": {},
   "outputs": [],
   "source": [
    "cv.best_params_"
   ]
  },
  {
   "cell_type": "code",
   "execution_count": null,
   "id": "fe0d60c0",
   "metadata": {},
   "outputs": [],
   "source": [
    "best_model = cv.best_estimator_\n",
    "plot_tree(best_model);"
   ]
  },
  {
   "cell_type": "code",
   "execution_count": null,
   "id": "88065551",
   "metadata": {},
   "outputs": [],
   "source": [
    "y_train_pred = best_model.predict(x_train)\n",
    "y_test_pred = best_model.predict(x_test)"
   ]
  },
  {
   "cell_type": "code",
   "execution_count": null,
   "id": "45b79b66",
   "metadata": {},
   "outputs": [],
   "source": [
    "train_acc = accuracy_score(y_train, y_train_pred)\n",
    "test_acc = accuracy_score(y_test, y_test_pred)\n",
    "print(f\"Train accuracy: {train_acc:0.2}\")\n",
    "print(f\"Test accuracy: {test_acc:0.3}\")"
   ]
  },
  {
   "cell_type": "markdown",
   "id": "e42beb5b",
   "metadata": {},
   "source": [
    ">**Train accuracy: 0.8**  \n",
    ">**Test accuracy: 0.784**\n",
    "esto es para los nulos categoricos eliminados."
   ]
  },
  {
   "cell_type": "markdown",
   "id": "2f20b975",
   "metadata": {},
   "source": [
    ">Mejoramos un poquito el accuracy del test en relacion al modelo del Baseline."
   ]
  },
  {
   "cell_type": "code",
   "execution_count": null,
   "id": "34d5b1f9",
   "metadata": {},
   "outputs": [],
   "source": [
    "print(classification_report(y_train, y_train_pred))"
   ]
  },
  {
   "cell_type": "code",
   "execution_count": null,
   "id": "151fd277",
   "metadata": {},
   "outputs": [],
   "source": [
    "print(classification_report(y_test, y_test_pred))"
   ]
  },
  {
   "cell_type": "code",
   "execution_count": null,
   "id": "38fb1509",
   "metadata": {},
   "outputs": [],
   "source": [
    "tn, fp, fn, tp = confusion_matrix(y_test, y_test_pred, labels=[0, 1]).ravel()\n",
    "\n",
    "print(f\"True Negative: {tn}\")\n",
    "print(f\"False Positive: {fp}\")\n",
    "print(f\"False Negative: {fn}\")\n",
    "print(f\"True Positive: {tp}\")"
   ]
  },
  {
   "cell_type": "code",
   "execution_count": null,
   "id": "5cd54969",
   "metadata": {},
   "outputs": [],
   "source": [
    "plot_confusion_matrix(best_model, x_test, y_test, cmap=\"magma\");"
   ]
  },
  {
   "cell_type": "markdown",
   "id": "8bf21f91",
   "metadata": {},
   "source": [
    "### Podemos concluir provisoriamente que el arbol de decisiones no es el mejor modelo predictivo para este conjunto de datos. "
   ]
  },
  {
   "cell_type": "code",
   "execution_count": null,
   "id": "ae660a34",
   "metadata": {},
   "outputs": [],
   "source": []
  },
  {
   "cell_type": "code",
   "execution_count": null,
   "id": "55f36334",
   "metadata": {},
   "outputs": [],
   "source": [
    "from sklearn.model_selection import cross_val_score, cross_validate, KFold, StratifiedKFold, LeaveOneOut, LeavePOut\n",
    "from sklearn.metrics import recall_score, accuracy_score, precision_score, f1_score, roc_auc_score, mean_squared_error, r2_score, confusion_matrix, classification_report, ConfusionMatrixDisplay\n",
    "\n",
    "from sklearn.tree import DecisionTreeClassifier\n",
    "from sklearn.ensemble import RandomForestClassifier\n",
    "from sklearn.linear_model import LogisticRegression\n",
    "from sklearn.neural_network import MLPClassifier\n",
    "from sklearn.neural_network import MLPRegressor\n",
    "from xgboost import XGBClassifier\n",
    "from sklearn.naive_bayes import GaussianNB\n",
    "from sklearn.svm import LinearSVC\n",
    "\n",
    "\n",
    "clfs =  [DecisionTreeClassifier(),\n",
    "        RandomForestClassifier(),\n",
    "        LogisticRegression(),\n",
    "        MLPClassifier(),\n",
    "        XGBClassifier(),\n",
    "        GaussianNB(),\n",
    "        LinearSVC(),\n",
    "        ]\n",
    "\n",
    "names = ['Arbol de decisión',\n",
    "        'Random Forest',\n",
    "        'Regresión Logística',\n",
    "        'Perceptrón multicapa',\n",
    "        'XGBoost',\n",
    "        'Naive Bayes',\n",
    "        'SVM',\n",
    "        ]\n",
    "\n",
    "trained_models = []\n",
    "accuracy_models = []\n",
    "for clf, name in zip(clfs, names):\n",
    "    print(name)\n",
    "    clf.fit(x_train, y_train)\n",
    "    train_predictions = clf.predict(x_train)\n",
    "    accuracy = accuracy_score(y_train, train_predictions)\n",
    "    print(f\"Accuracy train {name}: %.2f%%\" % (accuracy * 100.0))\n",
    "\n",
    "    test_predictions = clf.predict(x_test)\n",
    "    accuracy = accuracy_score(y_test, test_predictions)\n",
    "    print(f\"Accuracy test {name}: %.2f%%\" % (accuracy * 100.0))\n",
    "    trained_models.append(clf)    \n",
    "    accuracy_models.append(accuracy)"
   ]
  },
  {
   "cell_type": "code",
   "execution_count": null,
   "id": "66aea1aa",
   "metadata": {},
   "outputs": [],
   "source": []
  },
  {
   "cell_type": "markdown",
   "id": "5725af51",
   "metadata": {},
   "source": [
    "## XG BOOST"
   ]
  },
  {
   "cell_type": "code",
   "execution_count": null,
   "id": "7e33a5f6",
   "metadata": {},
   "outputs": [],
   "source": [
    "import pandas as pd\n",
    "import random\n",
    "import matplotlib.pyplot as plt\n",
    "import seaborn as sns\n",
    "import warnings\n",
    "warnings.simplefilter(action='ignore', category=FutureWarning)\n",
    "import numpy as np\n",
    "from numpy.random import default_rng, uniform\n",
    "\n",
    "from sklearn.linear_model import SGDClassifier\n",
    "from sklearn.metrics import (\n",
    "    accuracy_score,\n",
    "    precision_score,\n",
    "    recall_score,\n",
    "    f1_score,\n",
    "    confusion_matrix,\n",
    "    plot_confusion_matrix,\n",
    "    classification_report,\n",
    ")\n",
    "from sklearn.model_selection import (\n",
    "    train_test_split,\n",
    "    ParameterSampler,\n",
    "    RandomizedSearchCV,\n",
    "    ParameterGrid,\n",
    "    GridSearchCV,\n",
    ")\n",
    "from sklearn.tree import DecisionTreeClassifier, plot_tree\n",
    "from sklearn.utils.fixes import loguniform\n",
    "from sklearn.preprocessing import StandardScaler"
   ]
  },
  {
   "cell_type": "code",
   "execution_count": null,
   "id": "44a28f75",
   "metadata": {},
   "outputs": [],
   "source": [
    "x_train, x_test, y_train, y_test = train_test_split(X, y, train_size=0.9, random_state = 0)"
   ]
  },
  {
   "cell_type": "markdown",
   "id": "ca852495",
   "metadata": {},
   "source": [
    "binary:hinge: hinge loss for binary classification. This makes predictions of 0 or 1, rather than producing probabilities.\n",
    "Parametros:\n",
    "n_estimators (int) – Number of boosting rounds.\n",
    "max_depth "
   ]
  },
  {
   "cell_type": "code",
   "execution_count": null,
   "id": "8789bdc1",
   "metadata": {
    "scrolled": true
   },
   "outputs": [],
   "source": [
    "import xgboost as xgb\n",
    "clf_xgb = xgb.XGBClassifier(objective= 'binary:hinge',n_estimators= 29,max_leaves= 60,max_depth= 6,\n",
    "random_state = 1, tree_method= 'approx'\n",
    "                           )\n",
    "\n",
    "clf_xgb.fit(x_train, y_train)\n",
    "preds_xgb_train = clf_xgb.predict(x_train)\n",
    "preds_xgb_test = clf_xgb.predict(x_test)\n",
    "\n",
    "accuracy_xgb_train = float(np.sum(preds_xgb_train == y_train))/y_train.shape[0]\n",
    "print('Train Accuracy de XGBoost: ', accuracy_xgb_train)\n",
    "\n",
    "accuracy_xgb_test = float(np.sum(preds_xgb_test == y_test))/y_test.shape[0]\n",
    "print('Test Accuracy de XGBoost: ', accuracy_xgb_test)\n"
   ]
  },
  {
   "cell_type": "code",
   "execution_count": null,
   "id": "69526e9e",
   "metadata": {},
   "outputs": [],
   "source": [
    "plot_confusion_matrix(clf_xgb, x_test, y_test, cmap=\"magma\");"
   ]
  },
  {
   "cell_type": "code",
   "execution_count": null,
   "id": "acb19acf",
   "metadata": {},
   "outputs": [],
   "source": []
  },
  {
   "cell_type": "code",
   "execution_count": null,
   "id": "8897161a",
   "metadata": {},
   "outputs": [],
   "source": []
  }
 ],
 "metadata": {
  "kernelspec": {
   "display_name": "Python 3.9.12 ('base')",
   "language": "python",
   "name": "python3"
  },
  "language_info": {
   "codemirror_mode": {
    "name": "ipython",
    "version": 3
   },
   "file_extension": ".py",
   "mimetype": "text/x-python",
   "name": "python",
   "nbconvert_exporter": "python",
   "pygments_lexer": "ipython3",
   "version": "3.9.12"
  },
  "vscode": {
   "interpreter": {
    "hash": "878da1b279abf09d06b935ceb9f68f83f69da699836aa8598526eb33b08a8d28"
   }
  }
 },
 "nbformat": 4,
 "nbformat_minor": 5
}
