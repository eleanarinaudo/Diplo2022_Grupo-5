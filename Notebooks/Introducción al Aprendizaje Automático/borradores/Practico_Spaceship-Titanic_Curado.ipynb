{
 "cells": [
  {
   "cell_type": "markdown",
   "id": "3e3b594b",
   "metadata": {},
   "source": [
    "# Spaceship Titanic 🚀"
   ]
  },
  {
   "cell_type": "markdown",
   "id": "df225e01",
   "metadata": {},
   "source": [
    "<div align=\"center\">\n",
    "    <img src='https://pic2.zhimg.com/v2-768b110090ef51c582c2f846adcb689a_r.jpg?source=172ae18b' style='height:100px;'>\n",
    "</div>\n"
   ]
  },
  {
   "cell_type": "markdown",
   "id": "7bd50a32",
   "metadata": {},
   "source": [
    "## Diplomatura en Ciencia de Datos, Aprendizaje Automático y sus Aplicaciones "
   ]
  },
  {
   "cell_type": "markdown",
   "id": "a2a24aae",
   "metadata": {},
   "source": [
    "## Aprendizaje Supervisado"
   ]
  },
  {
   "cell_type": "markdown",
   "id": "7d996e5b",
   "metadata": {},
   "source": [
    "**Grupo 5  \n",
    "Integrantes:**\n",
    "\n",
    "    Argüello, Leandro Ismael\n",
    "    Corral, Diego\n",
    "    Racciatti, Florencia\n",
    "    Rinaudo, Eleana\n",
    "    Romero, Ernesto"
   ]
  },
  {
   "cell_type": "markdown",
   "id": "671b7590",
   "metadata": {},
   "source": [
    ">#### Se busca realizar la prediccion de cuantos pasajeros fueron transportados a otra dimension cuando la nave accidentalmente ingreso a la anomalia espacio-temporal."
   ]
  },
  {
   "cell_type": "code",
   "execution_count": 479,
   "id": "69930f80",
   "metadata": {},
   "outputs": [],
   "source": [
    "import numpy as np\n",
    "import pandas as pd\n",
    "import seaborn as sns\n",
    "sns.set_context('talk')\n",
    "import warnings\n",
    "warnings.filterwarnings('ignore')\n",
    "\n",
    "from sklearn.metrics import (\n",
    "    accuracy_score,\n",
    "    precision_score,\n",
    "    recall_score,\n",
    "    f1_score,\n",
    "    confusion_matrix,\n",
    "    plot_confusion_matrix,\n",
    "    classification_report,\n",
    ")\n",
    "from sklearn.model_selection import (\n",
    "    train_test_split,\n",
    "    ParameterSampler,\n",
    "    RandomizedSearchCV,\n",
    "    ParameterGrid,\n",
    "    GridSearchCV,\n",
    ")\n"
   ]
  },
  {
   "cell_type": "markdown",
   "id": "66e6a425",
   "metadata": {},
   "source": [
    "#### Carga de datos de 'Train'."
   ]
  },
  {
   "cell_type": "code",
   "execution_count": 480,
   "id": "1a9e151a",
   "metadata": {
    "scrolled": false
   },
   "outputs": [
    {
     "name": "stdout",
     "output_type": "stream",
     "text": [
      "(7823, 14)\n"
     ]
    },
    {
     "data": {
      "text/html": [
       "<div>\n",
       "<style scoped>\n",
       "    .dataframe tbody tr th:only-of-type {\n",
       "        vertical-align: middle;\n",
       "    }\n",
       "\n",
       "    .dataframe tbody tr th {\n",
       "        vertical-align: top;\n",
       "    }\n",
       "\n",
       "    .dataframe thead th {\n",
       "        text-align: right;\n",
       "    }\n",
       "</style>\n",
       "<table border=\"1\" class=\"dataframe\">\n",
       "  <thead>\n",
       "    <tr style=\"text-align: right;\">\n",
       "      <th></th>\n",
       "      <th>PassengerId</th>\n",
       "      <th>HomePlanet</th>\n",
       "      <th>CryoSleep</th>\n",
       "      <th>Cabin</th>\n",
       "      <th>Destination</th>\n",
       "      <th>Age</th>\n",
       "      <th>VIP</th>\n",
       "      <th>RoomService</th>\n",
       "      <th>FoodCourt</th>\n",
       "      <th>ShoppingMall</th>\n",
       "      <th>Spa</th>\n",
       "      <th>VRDeck</th>\n",
       "      <th>Name</th>\n",
       "      <th>Transported</th>\n",
       "    </tr>\n",
       "  </thead>\n",
       "  <tbody>\n",
       "    <tr>\n",
       "      <th>0</th>\n",
       "      <td>3430</td>\n",
       "      <td>Europa</td>\n",
       "      <td>False</td>\n",
       "      <td>C/123/P</td>\n",
       "      <td>TRAPPIST-1e</td>\n",
       "      <td>57.0</td>\n",
       "      <td>False</td>\n",
       "      <td>0.0</td>\n",
       "      <td>3859.0</td>\n",
       "      <td>13.0</td>\n",
       "      <td>195.0</td>\n",
       "      <td>3874.0</td>\n",
       "      <td>Azhah Tronsive</td>\n",
       "      <td>0</td>\n",
       "    </tr>\n",
       "    <tr>\n",
       "      <th>1</th>\n",
       "      <td>669</td>\n",
       "      <td>Mars</td>\n",
       "      <td>True</td>\n",
       "      <td>F/126/S</td>\n",
       "      <td>NaN</td>\n",
       "      <td>18.0</td>\n",
       "      <td>False</td>\n",
       "      <td>0.0</td>\n",
       "      <td>0.0</td>\n",
       "      <td>0.0</td>\n",
       "      <td>0.0</td>\n",
       "      <td>0.0</td>\n",
       "      <td>Roswal Sha</td>\n",
       "      <td>1</td>\n",
       "    </tr>\n",
       "    <tr>\n",
       "      <th>2</th>\n",
       "      <td>8430</td>\n",
       "      <td>Europa</td>\n",
       "      <td>True</td>\n",
       "      <td>B/343/S</td>\n",
       "      <td>TRAPPIST-1e</td>\n",
       "      <td>33.0</td>\n",
       "      <td>NaN</td>\n",
       "      <td>0.0</td>\n",
       "      <td>0.0</td>\n",
       "      <td>0.0</td>\n",
       "      <td>0.0</td>\n",
       "      <td>0.0</td>\n",
       "      <td>Shaiam Tinganking</td>\n",
       "      <td>1</td>\n",
       "    </tr>\n",
       "    <tr>\n",
       "      <th>3</th>\n",
       "      <td>6463</td>\n",
       "      <td>Earth</td>\n",
       "      <td>False</td>\n",
       "      <td>F/1420/P</td>\n",
       "      <td>TRAPPIST-1e</td>\n",
       "      <td>43.0</td>\n",
       "      <td>False</td>\n",
       "      <td>142.0</td>\n",
       "      <td>1208.0</td>\n",
       "      <td>0.0</td>\n",
       "      <td>0.0</td>\n",
       "      <td>204.0</td>\n",
       "      <td>Landa Grifford</td>\n",
       "      <td>0</td>\n",
       "    </tr>\n",
       "    <tr>\n",
       "      <th>4</th>\n",
       "      <td>85</td>\n",
       "      <td>Earth</td>\n",
       "      <td>False</td>\n",
       "      <td>G/9/P</td>\n",
       "      <td>TRAPPIST-1e</td>\n",
       "      <td>19.0</td>\n",
       "      <td>False</td>\n",
       "      <td>0.0</td>\n",
       "      <td>0.0</td>\n",
       "      <td>670.0</td>\n",
       "      <td>1.0</td>\n",
       "      <td>34.0</td>\n",
       "      <td>Gracy Dunnisey</td>\n",
       "      <td>0</td>\n",
       "    </tr>\n",
       "  </tbody>\n",
       "</table>\n",
       "</div>"
      ],
      "text/plain": [
       "   PassengerId HomePlanet CryoSleep     Cabin  Destination   Age    VIP  \\\n",
       "0         3430     Europa     False   C/123/P  TRAPPIST-1e  57.0  False   \n",
       "1          669       Mars      True   F/126/S          NaN  18.0  False   \n",
       "2         8430     Europa      True   B/343/S  TRAPPIST-1e  33.0    NaN   \n",
       "3         6463      Earth     False  F/1420/P  TRAPPIST-1e  43.0  False   \n",
       "4           85      Earth     False     G/9/P  TRAPPIST-1e  19.0  False   \n",
       "\n",
       "   RoomService  FoodCourt  ShoppingMall    Spa  VRDeck               Name  \\\n",
       "0          0.0     3859.0          13.0  195.0  3874.0     Azhah Tronsive   \n",
       "1          0.0        0.0           0.0    0.0     0.0         Roswal Sha   \n",
       "2          0.0        0.0           0.0    0.0     0.0  Shaiam Tinganking   \n",
       "3        142.0     1208.0           0.0    0.0   204.0     Landa Grifford   \n",
       "4          0.0        0.0         670.0    1.0    34.0     Gracy Dunnisey   \n",
       "\n",
       "   Transported  \n",
       "0            0  \n",
       "1            1  \n",
       "2            1  \n",
       "3            0  \n",
       "4            0  "
      ]
     },
     "execution_count": 480,
     "metadata": {},
     "output_type": "execute_result"
    }
   ],
   "source": [
    "train_url = r\"C:\\Users\\ernes\\OneDrive\\Escritorio\\Diplo\\Aprendizaje_Supervizado\\AprendizajeSupervisado\\Práctico\\train.csv\"\n",
    "train = pd.read_csv(train_url)\n",
    "print(train.shape)\n",
    "train.head()"
   ]
  },
  {
   "cell_type": "code",
   "execution_count": 481,
   "id": "4d25f183",
   "metadata": {
    "scrolled": false
   },
   "outputs": [
    {
     "data": {
      "text/plain": [
       "1    3964\n",
       "0    3859\n",
       "Name: Transported, dtype: int64"
      ]
     },
     "execution_count": 481,
     "metadata": {},
     "output_type": "execute_result"
    }
   ],
   "source": [
    "train.Transported.value_counts()"
   ]
  },
  {
   "cell_type": "markdown",
   "id": "e7151f5e",
   "metadata": {},
   "source": [
    "------"
   ]
  },
  {
   "cell_type": "markdown",
   "id": "64109155",
   "metadata": {},
   "source": [
    "_________________________________________________________"
   ]
  },
  {
   "cell_type": "markdown",
   "id": "068a19ae",
   "metadata": {},
   "source": [
    "## Analisis de correlacion de las variables de 'train'."
   ]
  },
  {
   "cell_type": "code",
   "execution_count": 482,
   "id": "e62ec7d2",
   "metadata": {
    "scrolled": false
   },
   "outputs": [
    {
     "data": {
      "image/png": "[encoded data removed]",
      "text/plain": [
       "<Figure size 720x504 with 2 Axes>"
      ]
     },
     "metadata": {
      "needs_background": "light"
     },
     "output_type": "display_data"
    }
   ],
   "source": [
    "plt.rcParams['figure.figsize'] = (10, 7)\n",
    "sns.heatmap(train.corr(), annot = True, fmt = \".2f\", cmap = 'Purples')\n",
    "plt.title('Heatmap for train', fontsize = 20)\n",
    "plt.show()"
   ]
  },
  {
   "cell_type": "markdown",
   "id": "4f9de3a3",
   "metadata": {},
   "source": [
    ">**Se observan ciertas correlaciones aunque nada demasiado significativo, un maximo de -0.25.**"
   ]
  },
  {
   "cell_type": "markdown",
   "id": "acce35f5",
   "metadata": {},
   "source": [
    "## Observamos nulos y su porcentaje dentro de cada columna asi como en el total."
   ]
  },
  {
   "cell_type": "code",
   "execution_count": 483,
   "id": "0aaec4e9",
   "metadata": {
    "scrolled": false
   },
   "outputs": [
    {
     "data": {
      "text/html": [
       "<style type=\"text/css\">\n",
       "#T_4086d_row0_col1 {\n",
       "  background-color: #023858;\n",
       "  color: #f1f1f1;\n",
       "}\n",
       "#T_4086d_row1_col1, #T_4086d_row2_col1, #T_4086d_row3_col1, #T_4086d_row4_col1 {\n",
       "  background-color: #034369;\n",
       "  color: #f1f1f1;\n",
       "}\n",
       "#T_4086d_row5_col1 {\n",
       "  background-color: #034d79;\n",
       "  color: #f1f1f1;\n",
       "}\n",
       "#T_4086d_row6_col1 {\n",
       "  background-color: #04588a;\n",
       "  color: #f1f1f1;\n",
       "}\n",
       "#T_4086d_row7_col1 {\n",
       "  background-color: #046096;\n",
       "  color: #f1f1f1;\n",
       "}\n",
       "#T_4086d_row8_col1, #T_4086d_row9_col1, #T_4086d_row10_col1, #T_4086d_row11_col1 {\n",
       "  background-color: #0567a2;\n",
       "  color: #f1f1f1;\n",
       "}\n",
       "#T_4086d_row12_col1, #T_4086d_row13_col1 {\n",
       "  background-color: #fff7fb;\n",
       "  color: #000000;\n",
       "}\n",
       "</style>\n",
       "<table id=\"T_4086d_\">\n",
       "  <thead>\n",
       "    <tr>\n",
       "      <th class=\"blank level0\" >&nbsp;</th>\n",
       "      <th class=\"col_heading level0 col0\" >Total_nuls_train</th>\n",
       "      <th class=\"col_heading level0 col1\" >Percent</th>\n",
       "    </tr>\n",
       "  </thead>\n",
       "  <tbody>\n",
       "    <tr>\n",
       "      <th id=\"T_4086d_level0_row0\" class=\"row_heading level0 row0\" >CryoSleep</th>\n",
       "      <td id=\"T_4086d_row0_col0\" class=\"data row0 col0\" >196</td>\n",
       "      <td id=\"T_4086d_row0_col1\" class=\"data row0 col1\" >0.025000</td>\n",
       "    </tr>\n",
       "    <tr>\n",
       "      <th id=\"T_4086d_level0_row1\" class=\"row_heading level0 row1\" >ShoppingMall</th>\n",
       "      <td id=\"T_4086d_row1_col0\" class=\"data row1 col0\" >188</td>\n",
       "      <td id=\"T_4086d_row1_col1\" class=\"data row1 col1\" >0.024000</td>\n",
       "    </tr>\n",
       "    <tr>\n",
       "      <th id=\"T_4086d_level0_row2\" class=\"row_heading level0 row2\" >Cabin</th>\n",
       "      <td id=\"T_4086d_row2_col0\" class=\"data row2 col0\" >184</td>\n",
       "      <td id=\"T_4086d_row2_col1\" class=\"data row2 col1\" >0.024000</td>\n",
       "    </tr>\n",
       "    <tr>\n",
       "      <th id=\"T_4086d_level0_row3\" class=\"row_heading level0 row3\" >VIP</th>\n",
       "      <td id=\"T_4086d_row3_col0\" class=\"data row3 col0\" >184</td>\n",
       "      <td id=\"T_4086d_row3_col1\" class=\"data row3 col1\" >0.024000</td>\n",
       "    </tr>\n",
       "    <tr>\n",
       "      <th id=\"T_4086d_level0_row4\" class=\"row_heading level0 row4\" >Name</th>\n",
       "      <td id=\"T_4086d_row4_col0\" class=\"data row4 col0\" >184</td>\n",
       "      <td id=\"T_4086d_row4_col1\" class=\"data row4 col1\" >0.024000</td>\n",
       "    </tr>\n",
       "    <tr>\n",
       "      <th id=\"T_4086d_level0_row5\" class=\"row_heading level0 row5\" >HomePlanet</th>\n",
       "      <td id=\"T_4086d_row5_col0\" class=\"data row5 col0\" >179</td>\n",
       "      <td id=\"T_4086d_row5_col1\" class=\"data row5 col1\" >0.023000</td>\n",
       "    </tr>\n",
       "    <tr>\n",
       "      <th id=\"T_4086d_level0_row6\" class=\"row_heading level0 row6\" >VRDeck</th>\n",
       "      <td id=\"T_4086d_row6_col0\" class=\"data row6 col0\" >169</td>\n",
       "      <td id=\"T_4086d_row6_col1\" class=\"data row6 col1\" >0.022000</td>\n",
       "    </tr>\n",
       "    <tr>\n",
       "      <th id=\"T_4086d_level0_row7\" class=\"row_heading level0 row7\" >Age</th>\n",
       "      <td id=\"T_4086d_row7_col0\" class=\"data row7 col0\" >162</td>\n",
       "      <td id=\"T_4086d_row7_col1\" class=\"data row7 col1\" >0.021000</td>\n",
       "    </tr>\n",
       "    <tr>\n",
       "      <th id=\"T_4086d_level0_row8\" class=\"row_heading level0 row8\" >Destination</th>\n",
       "      <td id=\"T_4086d_row8_col0\" class=\"data row8 col0\" >160</td>\n",
       "      <td id=\"T_4086d_row8_col1\" class=\"data row8 col1\" >0.020000</td>\n",
       "    </tr>\n",
       "    <tr>\n",
       "      <th id=\"T_4086d_level0_row9\" class=\"row_heading level0 row9\" >Spa</th>\n",
       "      <td id=\"T_4086d_row9_col0\" class=\"data row9 col0\" >158</td>\n",
       "      <td id=\"T_4086d_row9_col1\" class=\"data row9 col1\" >0.020000</td>\n",
       "    </tr>\n",
       "    <tr>\n",
       "      <th id=\"T_4086d_level0_row10\" class=\"row_heading level0 row10\" >FoodCourt</th>\n",
       "      <td id=\"T_4086d_row10_col0\" class=\"data row10 col0\" >155</td>\n",
       "      <td id=\"T_4086d_row10_col1\" class=\"data row10 col1\" >0.020000</td>\n",
       "    </tr>\n",
       "    <tr>\n",
       "      <th id=\"T_4086d_level0_row11\" class=\"row_heading level0 row11\" >RoomService</th>\n",
       "      <td id=\"T_4086d_row11_col0\" class=\"data row11 col0\" >154</td>\n",
       "      <td id=\"T_4086d_row11_col1\" class=\"data row11 col1\" >0.020000</td>\n",
       "    </tr>\n",
       "    <tr>\n",
       "      <th id=\"T_4086d_level0_row12\" class=\"row_heading level0 row12\" >PassengerId</th>\n",
       "      <td id=\"T_4086d_row12_col0\" class=\"data row12 col0\" >0</td>\n",
       "      <td id=\"T_4086d_row12_col1\" class=\"data row12 col1\" >0.000000</td>\n",
       "    </tr>\n",
       "    <tr>\n",
       "      <th id=\"T_4086d_level0_row13\" class=\"row_heading level0 row13\" >Transported</th>\n",
       "      <td id=\"T_4086d_row13_col0\" class=\"data row13 col0\" >0</td>\n",
       "      <td id=\"T_4086d_row13_col1\" class=\"data row13 col1\" >0.000000</td>\n",
       "    </tr>\n",
       "  </tbody>\n",
       "</table>\n"
      ],
      "text/plain": [
       "<pandas.io.formats.style.Styler at 0x28dc4e489d0>"
      ]
     },
     "execution_count": 483,
     "metadata": {},
     "output_type": "execute_result"
    }
   ],
   "source": [
    "total = train.isnull().sum().sort_values(ascending = False)\n",
    "percent = (train.isnull().sum() / train.isnull().count()).sort_values(ascending = False)\n",
    "missing_data = pd.concat([total, round(percent,3)], axis = 1, keys = ['Total_nuls_train', 'Percent'])\n",
    "missing_data.style.background_gradient(subset = [\"Percent\"])"
   ]
  },
  {
   "cell_type": "code",
   "execution_count": 484,
   "id": "fee4f726",
   "metadata": {},
   "outputs": [
    {
     "name": "stdout",
     "output_type": "stream",
     "text": [
      " Total de nulos en train:  2073 \n",
      " Porcentaje de nulos en train:  26.5\n"
     ]
    }
   ],
   "source": [
    "total_nuls = missing_data.Total_nuls_train.sum()\n",
    "perc_nuls = (total_nuls * 100)/len(train)\n",
    "print(' Total de nulos en train: ',total_nuls,'\\n Porcentaje de nulos en train: ',round(perc_nuls,2))"
   ]
  },
  {
   "cell_type": "markdown",
   "id": "3f6ebb0d",
   "metadata": {},
   "source": [
    ">**Basandonos en que el numero de datos nulos total representa un 26.5% del total d datos de train, es posible que tengamos que imputar datos.** "
   ]
  },
  {
   "cell_type": "markdown",
   "id": "02dd6cca",
   "metadata": {},
   "source": [
    "## Analisis exploratorio de variables de 'train'."
   ]
  },
  {
   "cell_type": "code",
   "execution_count": 485,
   "id": "a7a542bf",
   "metadata": {
    "scrolled": false
   },
   "outputs": [
    {
     "data": {
      "text/plain": [
       "Index(['PassengerId', 'HomePlanet', 'CryoSleep', 'Cabin', 'Destination', 'Age',\n",
       "       'VIP', 'RoomService', 'FoodCourt', 'ShoppingMall', 'Spa', 'VRDeck',\n",
       "       'Name', 'Transported'],\n",
       "      dtype='object')"
      ]
     },
     "execution_count": 485,
     "metadata": {},
     "output_type": "execute_result"
    }
   ],
   "source": [
    "train.columns"
   ]
  },
  {
   "cell_type": "code",
   "execution_count": 486,
   "id": "2ea165f1",
   "metadata": {},
   "outputs": [
    {
     "data": {
      "text/plain": [
       "PassengerId       int64\n",
       "HomePlanet       object\n",
       "CryoSleep        object\n",
       "Cabin            object\n",
       "Destination      object\n",
       "Age             float64\n",
       "VIP              object\n",
       "RoomService     float64\n",
       "FoodCourt       float64\n",
       "ShoppingMall    float64\n",
       "Spa             float64\n",
       "VRDeck          float64\n",
       "Name             object\n",
       "Transported       int64\n",
       "dtype: object"
      ]
     },
     "execution_count": 486,
     "metadata": {},
     "output_type": "execute_result"
    }
   ],
   "source": [
    "train.dtypes"
   ]
  },
  {
   "cell_type": "code",
   "execution_count": 487,
   "id": "fc0662af",
   "metadata": {},
   "outputs": [],
   "source": [
    "plt.rcParams['figure.figsize'] = (7, 5)"
   ]
  },
  {
   "cell_type": "code",
   "execution_count": 488,
   "id": "c7d30bc1",
   "metadata": {
    "scrolled": true
   },
   "outputs": [
    {
     "data": {
      "image/png": "[encoded data removed]",
      "text/plain": [
       "<Figure size 504x360 with 1 Axes>"
      ]
     },
     "metadata": {
      "needs_background": "light"
     },
     "output_type": "display_data"
    }
   ],
   "source": [
    "#Homeplanet\n",
    "sns.histplot(data = train, x='HomePlanet',hue='Transported',palette='ocean');"
   ]
  },
  {
   "cell_type": "code",
   "execution_count": 489,
   "id": "c69b6761",
   "metadata": {
    "scrolled": false
   },
   "outputs": [
    {
     "data": {
      "image/png": "[encoded data removed]",
      "text/plain": [
       "<Figure size 504x360 with 1 Axes>"
      ]
     },
     "metadata": {
      "needs_background": "light"
     },
     "output_type": "display_data"
    }
   ],
   "source": [
    "#Destination\n",
    "sns.histplot(data = train, x='Destination',hue='Transported',palette='ocean');"
   ]
  },
  {
   "cell_type": "code",
   "execution_count": 490,
   "id": "1925b293",
   "metadata": {},
   "outputs": [
    {
     "data": {
      "image/png": "[encoded data removed]",
      "text/plain": [
       "<Figure size 504x360 with 1 Axes>"
      ]
     },
     "metadata": {
      "needs_background": "light"
     },
     "output_type": "display_data"
    }
   ],
   "source": [
    "#Age\n",
    "sns.histplot(data = train, x='Age',hue='Transported',palette='ocean');"
   ]
  },
  {
   "cell_type": "code",
   "execution_count": 491,
   "id": "8ca40d46",
   "metadata": {
    "scrolled": true
   },
   "outputs": [
    {
     "data": {
      "text/plain": [
       "G/734/S     8\n",
       "B/201/P     7\n",
       "F/1194/P    7\n",
       "E/13/S      7\n",
       "G/117/S     6\n",
       "           ..\n",
       "B/120/P     1\n",
       "G/6/S       1\n",
       "G/80/S      1\n",
       "G/631/S     1\n",
       "E/253/P     1\n",
       "Name: Cabin, Length: 6009, dtype: int64"
      ]
     },
     "execution_count": 491,
     "metadata": {},
     "output_type": "execute_result"
    }
   ],
   "source": [
    "#Cabin\n",
    "train.Cabin.value_counts()"
   ]
  },
  {
   "cell_type": "markdown",
   "id": "a205aba7",
   "metadata": {},
   "source": [
    "## Analisis descriptivo de variables que no seran graficadas.  \n",
    "> Las variables **CryoSleep** y **VIP** son de tipo booleano.  \n",
    "> La variable **Cabin** representa el numero de cabina con el detalle de si es en babor(P) o estribor(S).  \n",
    "> La variable **Name** representa el nombre completo del pasajero.  \n",
    "> La variable **PassengerId** representa el id del pasajero.  "
   ]
  },
  {
   "cell_type": "markdown",
   "id": "e0f4d095",
   "metadata": {},
   "source": [
    "**Analisis de variables referidas al monto que el pasajero ha facturado en cada uno de los muchos servicios de lujo del Spaceship Titanic.**"
   ]
  },
  {
   "cell_type": "code",
   "execution_count": 492,
   "id": "386e3d3b",
   "metadata": {
    "scrolled": false
   },
   "outputs": [
    {
     "data": {
      "image/png": "[encoded data removed]",
      "text/plain": [
       "<Figure size 504x360 with 1 Axes>"
      ]
     },
     "metadata": {
      "needs_background": "light"
     },
     "output_type": "display_data"
    }
   ],
   "source": [
    "sns.boxenplot(train.RoomService,showfliers=False);"
   ]
  },
  {
   "cell_type": "code",
   "execution_count": 493,
   "id": "787028c5",
   "metadata": {},
   "outputs": [
    {
     "data": {
      "image/png": "[encoded data removed]",
      "text/plain": [
       "<Figure size 504x360 with 1 Axes>"
      ]
     },
     "metadata": {
      "needs_background": "light"
     },
     "output_type": "display_data"
    }
   ],
   "source": [
    "sns.boxenplot(train.FoodCourt,showfliers=False);"
   ]
  },
  {
   "cell_type": "code",
   "execution_count": 494,
   "id": "456df91a",
   "metadata": {},
   "outputs": [
    {
     "data": {
      "image/png": "[encoded data removed]",
      "text/plain": [
       "<Figure size 504x360 with 1 Axes>"
      ]
     },
     "metadata": {
      "needs_background": "light"
     },
     "output_type": "display_data"
    }
   ],
   "source": [
    "sns.boxenplot(train.ShoppingMall,showfliers=False);"
   ]
  },
  {
   "cell_type": "code",
   "execution_count": 495,
   "id": "81917615",
   "metadata": {},
   "outputs": [
    {
     "data": {
      "image/png": "[encoded data removed]",
      "text/plain": [
       "<Figure size 504x360 with 1 Axes>"
      ]
     },
     "metadata": {
      "needs_background": "light"
     },
     "output_type": "display_data"
    }
   ],
   "source": [
    "sns.boxenplot(train.Spa,showfliers=False);"
   ]
  },
  {
   "cell_type": "code",
   "execution_count": 496,
   "id": "c4fe1494",
   "metadata": {},
   "outputs": [
    {
     "data": {
      "image/png": "[encoded data removed]",
      "text/plain": [
       "<Figure size 504x360 with 1 Axes>"
      ]
     },
     "metadata": {
      "needs_background": "light"
     },
     "output_type": "display_data"
    }
   ],
   "source": [
    "sns.boxenplot(train.VRDeck ,showfliers=False);"
   ]
  },
  {
   "cell_type": "markdown",
   "id": "2f0e4a84",
   "metadata": {},
   "source": [
    "## Algunas observaciones\n",
    "\n",
    ">*A partir de las observaciones realizadas sobre los datos, podemos decir que las variables correspondientes al grupo de Servicios de lujo del Spaceship Titanic, contiene datos un poco desbalanceados con Outliers.  \n",
    ">*A demas las variables **CryoSleep** y **VIP** son del tipo booleano, por lo cual probablemente deban descartarse o ser reemplazadas por valores numericos como 0 y 1.  \n",
    ">*Las columnas categoricas Homeplanet y Destination aportan una posible clasificacion del target.  \n",
    ">*La columna Cabin puede ser usada para generar nuevas features.\n"
   ]
  },
  {
   "cell_type": "markdown",
   "id": "e5aece65",
   "metadata": {},
   "source": [
    "## Posibles acciones\n",
    "\n",
    ">*Usar metodo de imputacion de valores faltantes a los nulos de cada variable.  \n",
    ">*Probar una limpieza de outliers de las columnas de montos en lujos.  \n",
    ">*Codificar las variables categoricas.  \n",
    ">*Con respecto a las dos variables tipo boolean, ver si combiene codificarlas o transformarlas en 0 y 1.  \n",
    ">*elegir columnas a excluir como por Name y PassengerId."
   ]
  },
  {
   "cell_type": "markdown",
   "id": "73db0017",
   "metadata": {},
   "source": [
    "__________"
   ]
  },
  {
   "cell_type": "markdown",
   "id": "2d40bee0",
   "metadata": {},
   "source": [
    "____________"
   ]
  },
  {
   "cell_type": "markdown",
   "id": "79795cb1",
   "metadata": {},
   "source": [
    "### Columnas elegidas para el analisis en 'Train'."
   ]
  },
  {
   "cell_type": "markdown",
   "id": "e4c32160",
   "metadata": {},
   "source": [
    "Creemos que las siguientes columnas aportan informacion util para la clasificacion y caracterizacion de los pasajeros en el analisis del problema.  \n",
    "**Columnas elegidas:**\n",
    "    "
   ]
  },
  {
   "cell_type": "code",
   "execution_count": 497,
   "id": "2ea4b18b",
   "metadata": {
    "scrolled": true
   },
   "outputs": [
    {
     "data": {
      "text/plain": [
       "['HomePlanet',\n",
       " 'CryoSleep',\n",
       " 'Destination',\n",
       " 'Age',\n",
       " 'VIP',\n",
       " 'RoomService',\n",
       " 'FoodCourt',\n",
       " 'ShoppingMall',\n",
       " 'Spa',\n",
       " 'VRDeck',\n",
       " 'Cabin']"
      ]
     },
     "execution_count": 497,
     "metadata": {},
     "output_type": "execute_result"
    }
   ],
   "source": [
    "['HomePlanet','CryoSleep','Destination','Age','VIP','RoomService','FoodCourt','ShoppingMall','Spa','VRDeck','Cabin']"
   ]
  },
  {
   "cell_type": "markdown",
   "id": "62c1f6f9",
   "metadata": {},
   "source": [
    "Columnas eliminadas debido a que contienen datos que son unicos o keys."
   ]
  },
  {
   "cell_type": "code",
   "execution_count": 498,
   "id": "cccbb76b",
   "metadata": {},
   "outputs": [],
   "source": [
    "train = train.drop(columns = ['Name','PassengerId'])"
   ]
  },
  {
   "cell_type": "code",
   "execution_count": 499,
   "id": "28448b8d",
   "metadata": {},
   "outputs": [
    {
     "data": {
      "text/plain": [
       "(7823, 12)"
      ]
     },
     "execution_count": 499,
     "metadata": {},
     "output_type": "execute_result"
    }
   ],
   "source": [
    "train.shape"
   ]
  },
  {
   "cell_type": "markdown",
   "id": "3ddbfe76",
   "metadata": {},
   "source": [
    "### Tratamiento de la variable 'Cabin' y generacion de nuevas features en 'Train'."
   ]
  },
  {
   "cell_type": "code",
   "execution_count": 500,
   "id": "401f0ee9",
   "metadata": {},
   "outputs": [
    {
     "data": {
      "text/plain": [
       "0        C/123/P\n",
       "1        F/126/S\n",
       "2        B/343/S\n",
       "3       F/1420/P\n",
       "4          G/9/P\n",
       "          ...   \n",
       "7818    F/1319/S\n",
       "7819     G/459/S\n",
       "7820    F/1772/P\n",
       "7821     E/253/P\n",
       "7822     B/270/P\n",
       "Name: Cabin, Length: 7823, dtype: object"
      ]
     },
     "execution_count": 500,
     "metadata": {},
     "output_type": "execute_result"
    }
   ],
   "source": [
    "train['Cabin']"
   ]
  },
  {
   "cell_type": "code",
   "execution_count": 501,
   "id": "d3188acb",
   "metadata": {},
   "outputs": [],
   "source": [
    "new_features = train['Cabin'].str.split(pat=\"/\",expand=True)"
   ]
  },
  {
   "cell_type": "code",
   "execution_count": 502,
   "id": "df35b9b8",
   "metadata": {
    "scrolled": false
   },
   "outputs": [
    {
     "data": {
      "text/html": [
       "<div>\n",
       "<style scoped>\n",
       "    .dataframe tbody tr th:only-of-type {\n",
       "        vertical-align: middle;\n",
       "    }\n",
       "\n",
       "    .dataframe tbody tr th {\n",
       "        vertical-align: top;\n",
       "    }\n",
       "\n",
       "    .dataframe thead th {\n",
       "        text-align: right;\n",
       "    }\n",
       "</style>\n",
       "<table border=\"1\" class=\"dataframe\">\n",
       "  <thead>\n",
       "    <tr style=\"text-align: right;\">\n",
       "      <th></th>\n",
       "      <th>Deck_of_spaceship</th>\n",
       "      <th>Number_of_cabin</th>\n",
       "      <th>Port_or_Starboard</th>\n",
       "    </tr>\n",
       "  </thead>\n",
       "  <tbody>\n",
       "    <tr>\n",
       "      <th>0</th>\n",
       "      <td>C</td>\n",
       "      <td>123</td>\n",
       "      <td>P</td>\n",
       "    </tr>\n",
       "    <tr>\n",
       "      <th>1</th>\n",
       "      <td>F</td>\n",
       "      <td>126</td>\n",
       "      <td>S</td>\n",
       "    </tr>\n",
       "    <tr>\n",
       "      <th>2</th>\n",
       "      <td>B</td>\n",
       "      <td>343</td>\n",
       "      <td>S</td>\n",
       "    </tr>\n",
       "    <tr>\n",
       "      <th>3</th>\n",
       "      <td>F</td>\n",
       "      <td>1420</td>\n",
       "      <td>P</td>\n",
       "    </tr>\n",
       "    <tr>\n",
       "      <th>4</th>\n",
       "      <td>G</td>\n",
       "      <td>9</td>\n",
       "      <td>P</td>\n",
       "    </tr>\n",
       "  </tbody>\n",
       "</table>\n",
       "</div>"
      ],
      "text/plain": [
       "  Deck_of_spaceship Number_of_cabin Port_or_Starboard\n",
       "0                 C             123                 P\n",
       "1                 F             126                 S\n",
       "2                 B             343                 S\n",
       "3                 F            1420                 P\n",
       "4                 G               9                 P"
      ]
     },
     "execution_count": 502,
     "metadata": {},
     "output_type": "execute_result"
    }
   ],
   "source": [
    "new_features = new_features.rename(columns={0:'Deck_of_spaceship',1:'Number_of_cabin',2:'Port_or_Starboard'})\n",
    "new_features.head()"
   ]
  },
  {
   "cell_type": "code",
   "execution_count": 503,
   "id": "e0197ab6",
   "metadata": {},
   "outputs": [],
   "source": [
    "#Eliminamos la columna 'Cabin' ya que las nuevas features aportan informacion con mas peso.\n",
    "train = train.drop(columns='Cabin')"
   ]
  },
  {
   "cell_type": "code",
   "execution_count": 504,
   "id": "3600917b",
   "metadata": {
    "scrolled": true
   },
   "outputs": [
    {
     "data": {
      "text/html": [
       "<div>\n",
       "<style scoped>\n",
       "    .dataframe tbody tr th:only-of-type {\n",
       "        vertical-align: middle;\n",
       "    }\n",
       "\n",
       "    .dataframe tbody tr th {\n",
       "        vertical-align: top;\n",
       "    }\n",
       "\n",
       "    .dataframe thead th {\n",
       "        text-align: right;\n",
       "    }\n",
       "</style>\n",
       "<table border=\"1\" class=\"dataframe\">\n",
       "  <thead>\n",
       "    <tr style=\"text-align: right;\">\n",
       "      <th></th>\n",
       "      <th>HomePlanet</th>\n",
       "      <th>CryoSleep</th>\n",
       "      <th>Destination</th>\n",
       "      <th>Age</th>\n",
       "      <th>VIP</th>\n",
       "      <th>RoomService</th>\n",
       "      <th>FoodCourt</th>\n",
       "      <th>ShoppingMall</th>\n",
       "      <th>Spa</th>\n",
       "      <th>VRDeck</th>\n",
       "      <th>Transported</th>\n",
       "      <th>Deck_of_spaceship</th>\n",
       "      <th>Number_of_cabin</th>\n",
       "      <th>Port_or_Starboard</th>\n",
       "    </tr>\n",
       "  </thead>\n",
       "  <tbody>\n",
       "    <tr>\n",
       "      <th>0</th>\n",
       "      <td>Europa</td>\n",
       "      <td>False</td>\n",
       "      <td>TRAPPIST-1e</td>\n",
       "      <td>57.0</td>\n",
       "      <td>False</td>\n",
       "      <td>0.0</td>\n",
       "      <td>3859.0</td>\n",
       "      <td>13.0</td>\n",
       "      <td>195.0</td>\n",
       "      <td>3874.0</td>\n",
       "      <td>0</td>\n",
       "      <td>C</td>\n",
       "      <td>123</td>\n",
       "      <td>P</td>\n",
       "    </tr>\n",
       "    <tr>\n",
       "      <th>1</th>\n",
       "      <td>Mars</td>\n",
       "      <td>True</td>\n",
       "      <td>NaN</td>\n",
       "      <td>18.0</td>\n",
       "      <td>False</td>\n",
       "      <td>0.0</td>\n",
       "      <td>0.0</td>\n",
       "      <td>0.0</td>\n",
       "      <td>0.0</td>\n",
       "      <td>0.0</td>\n",
       "      <td>1</td>\n",
       "      <td>F</td>\n",
       "      <td>126</td>\n",
       "      <td>S</td>\n",
       "    </tr>\n",
       "    <tr>\n",
       "      <th>2</th>\n",
       "      <td>Europa</td>\n",
       "      <td>True</td>\n",
       "      <td>TRAPPIST-1e</td>\n",
       "      <td>33.0</td>\n",
       "      <td>NaN</td>\n",
       "      <td>0.0</td>\n",
       "      <td>0.0</td>\n",
       "      <td>0.0</td>\n",
       "      <td>0.0</td>\n",
       "      <td>0.0</td>\n",
       "      <td>1</td>\n",
       "      <td>B</td>\n",
       "      <td>343</td>\n",
       "      <td>S</td>\n",
       "    </tr>\n",
       "    <tr>\n",
       "      <th>3</th>\n",
       "      <td>Earth</td>\n",
       "      <td>False</td>\n",
       "      <td>TRAPPIST-1e</td>\n",
       "      <td>43.0</td>\n",
       "      <td>False</td>\n",
       "      <td>142.0</td>\n",
       "      <td>1208.0</td>\n",
       "      <td>0.0</td>\n",
       "      <td>0.0</td>\n",
       "      <td>204.0</td>\n",
       "      <td>0</td>\n",
       "      <td>F</td>\n",
       "      <td>1420</td>\n",
       "      <td>P</td>\n",
       "    </tr>\n",
       "    <tr>\n",
       "      <th>4</th>\n",
       "      <td>Earth</td>\n",
       "      <td>False</td>\n",
       "      <td>TRAPPIST-1e</td>\n",
       "      <td>19.0</td>\n",
       "      <td>False</td>\n",
       "      <td>0.0</td>\n",
       "      <td>0.0</td>\n",
       "      <td>670.0</td>\n",
       "      <td>1.0</td>\n",
       "      <td>34.0</td>\n",
       "      <td>0</td>\n",
       "      <td>G</td>\n",
       "      <td>9</td>\n",
       "      <td>P</td>\n",
       "    </tr>\n",
       "  </tbody>\n",
       "</table>\n",
       "</div>"
      ],
      "text/plain": [
       "  HomePlanet CryoSleep  Destination   Age    VIP  RoomService  FoodCourt  \\\n",
       "0     Europa     False  TRAPPIST-1e  57.0  False          0.0     3859.0   \n",
       "1       Mars      True          NaN  18.0  False          0.0        0.0   \n",
       "2     Europa      True  TRAPPIST-1e  33.0    NaN          0.0        0.0   \n",
       "3      Earth     False  TRAPPIST-1e  43.0  False        142.0     1208.0   \n",
       "4      Earth     False  TRAPPIST-1e  19.0  False          0.0        0.0   \n",
       "\n",
       "   ShoppingMall    Spa  VRDeck  Transported Deck_of_spaceship Number_of_cabin  \\\n",
       "0          13.0  195.0  3874.0            0                 C             123   \n",
       "1           0.0    0.0     0.0            1                 F             126   \n",
       "2           0.0    0.0     0.0            1                 B             343   \n",
       "3           0.0    0.0   204.0            0                 F            1420   \n",
       "4         670.0    1.0    34.0            0                 G               9   \n",
       "\n",
       "  Port_or_Starboard  \n",
       "0                 P  \n",
       "1                 S  \n",
       "2                 S  \n",
       "3                 P  \n",
       "4                 P  "
      ]
     },
     "execution_count": 504,
     "metadata": {},
     "output_type": "execute_result"
    }
   ],
   "source": [
    "train = train.join(new_features, lsuffix='_caller', rsuffix='_other')\n",
    "train.head()"
   ]
  },
  {
   "cell_type": "markdown",
   "id": "40c9431d",
   "metadata": {},
   "source": [
    "Nuevas features Agregadas:  \n",
    ">Deck_of_spaceship : Cubierta  \n",
    ">Number_of_cabin   : Numero de Cabina  \n",
    ">Port_or_Starboard : S=Babor, P=Estribor  \n"
   ]
  },
  {
   "cell_type": "markdown",
   "id": "c8ad6d64",
   "metadata": {},
   "source": [
    "__________________________________"
   ]
  },
  {
   "cell_type": "markdown",
   "id": "66107fa3",
   "metadata": {},
   "source": [
    "# Imputacion de variables categoricas."
   ]
  },
  {
   "cell_type": "markdown",
   "id": "a19aa3fa",
   "metadata": {},
   "source": [
    "Las siguientes variables categoricas las imputamos por el dato de la moda."
   ]
  },
  {
   "cell_type": "markdown",
   "id": "927bda81",
   "metadata": {},
   "source": [
    ">'HomePlanet'"
   ]
  },
  {
   "cell_type": "code",
   "execution_count": 505,
   "id": "09d349a9",
   "metadata": {
    "scrolled": true
   },
   "outputs": [
    {
     "data": {
      "text/plain": [
       "Earth     4114\n",
       "Europa    1935\n",
       "Mars      1595\n",
       "Name: HomePlanet, dtype: int64"
      ]
     },
     "execution_count": 505,
     "metadata": {},
     "output_type": "execute_result"
    }
   ],
   "source": [
    "train.HomePlanet.value_counts()"
   ]
  },
  {
   "cell_type": "code",
   "execution_count": 506,
   "id": "dbc0012e",
   "metadata": {},
   "outputs": [
    {
     "data": {
      "text/plain": [
       "179"
      ]
     },
     "execution_count": 506,
     "metadata": {},
     "output_type": "execute_result"
    }
   ],
   "source": [
    "train.HomePlanet.isnull().sum()"
   ]
  },
  {
   "cell_type": "code",
   "execution_count": 507,
   "id": "c47718c5",
   "metadata": {
    "scrolled": true
   },
   "outputs": [
    {
     "data": {
      "text/plain": [
       "(7823, 14)"
      ]
     },
     "execution_count": 507,
     "metadata": {},
     "output_type": "execute_result"
    }
   ],
   "source": [
    "train.shape"
   ]
  },
  {
   "cell_type": "code",
   "execution_count": 508,
   "id": "535846d9",
   "metadata": {},
   "outputs": [],
   "source": [
    "train['HomePlanet'] = train['HomePlanet'].replace(np.nan,'Earth')"
   ]
  },
  {
   "cell_type": "markdown",
   "id": "81accc82",
   "metadata": {},
   "source": [
    ">'CryoSleep'"
   ]
  },
  {
   "cell_type": "code",
   "execution_count": 509,
   "id": "7d81e32b",
   "metadata": {
    "scrolled": true
   },
   "outputs": [
    {
     "data": {
      "text/plain": [
       "False    4871\n",
       "True     2756\n",
       "Name: CryoSleep, dtype: int64"
      ]
     },
     "execution_count": 509,
     "metadata": {},
     "output_type": "execute_result"
    }
   ],
   "source": [
    "train.CryoSleep.value_counts()"
   ]
  },
  {
   "cell_type": "code",
   "execution_count": 510,
   "id": "6c6b0a02",
   "metadata": {},
   "outputs": [
    {
     "data": {
      "text/plain": [
       "196"
      ]
     },
     "execution_count": 510,
     "metadata": {},
     "output_type": "execute_result"
    }
   ],
   "source": [
    "train.CryoSleep.isnull().sum()"
   ]
  },
  {
   "cell_type": "code",
   "execution_count": 511,
   "id": "b16e34f5",
   "metadata": {},
   "outputs": [],
   "source": [
    "train['CryoSleep'] = train['CryoSleep'].replace(np.nan,'False')"
   ]
  },
  {
   "cell_type": "code",
   "execution_count": 512,
   "id": "3a2df682",
   "metadata": {},
   "outputs": [],
   "source": [
    "train['CryoSleep'] = train.CryoSleep.astype(str)"
   ]
  },
  {
   "cell_type": "code",
   "execution_count": 513,
   "id": "45d8e6f6",
   "metadata": {},
   "outputs": [],
   "source": [
    "train['CryoSleep'] = train.CryoSleep.replace('False','False')"
   ]
  },
  {
   "cell_type": "markdown",
   "id": "8602ffe3",
   "metadata": {},
   "source": [
    ">'Destination'"
   ]
  },
  {
   "cell_type": "code",
   "execution_count": 514,
   "id": "c554447e",
   "metadata": {
    "scrolled": true
   },
   "outputs": [
    {
     "data": {
      "text/plain": [
       "TRAPPIST-1e      5316\n",
       "55 Cancri e      1625\n",
       "PSO J318.5-22     722\n",
       "Name: Destination, dtype: int64"
      ]
     },
     "execution_count": 514,
     "metadata": {},
     "output_type": "execute_result"
    }
   ],
   "source": [
    "train.Destination.value_counts()"
   ]
  },
  {
   "cell_type": "code",
   "execution_count": 515,
   "id": "9ee13f60",
   "metadata": {
    "scrolled": true
   },
   "outputs": [
    {
     "data": {
      "text/plain": [
       "160"
      ]
     },
     "execution_count": 515,
     "metadata": {},
     "output_type": "execute_result"
    }
   ],
   "source": [
    "train.Destination.isnull().sum()"
   ]
  },
  {
   "cell_type": "code",
   "execution_count": 516,
   "id": "0b0b45a7",
   "metadata": {},
   "outputs": [],
   "source": [
    "train['Destination'] = train['Destination'].replace(np.nan,'TRAPPIST-1e')"
   ]
  },
  {
   "cell_type": "markdown",
   "id": "523ffee3",
   "metadata": {},
   "source": [
    ">'VIP'"
   ]
  },
  {
   "cell_type": "code",
   "execution_count": 517,
   "id": "698608e4",
   "metadata": {
    "scrolled": true
   },
   "outputs": [
    {
     "data": {
      "text/plain": [
       "False    7456\n",
       "True      183\n",
       "Name: VIP, dtype: int64"
      ]
     },
     "execution_count": 517,
     "metadata": {},
     "output_type": "execute_result"
    }
   ],
   "source": [
    "train.VIP.value_counts()"
   ]
  },
  {
   "cell_type": "code",
   "execution_count": 518,
   "id": "ea375549",
   "metadata": {
    "scrolled": true
   },
   "outputs": [
    {
     "data": {
      "text/plain": [
       "184"
      ]
     },
     "execution_count": 518,
     "metadata": {},
     "output_type": "execute_result"
    }
   ],
   "source": [
    "train.VIP.isnull().sum()"
   ]
  },
  {
   "cell_type": "code",
   "execution_count": 519,
   "id": "a165adcb",
   "metadata": {},
   "outputs": [],
   "source": [
    "train['VIP'] = train['VIP'].replace(np.nan,'False')"
   ]
  },
  {
   "cell_type": "code",
   "execution_count": 520,
   "id": "7dfa6615",
   "metadata": {},
   "outputs": [],
   "source": [
    "train['VIP'] = train.VIP.astype(str)"
   ]
  },
  {
   "cell_type": "code",
   "execution_count": 521,
   "id": "4e61f89a",
   "metadata": {},
   "outputs": [],
   "source": [
    "train['VIP'] = train.CryoSleep.replace('False','False')"
   ]
  },
  {
   "cell_type": "markdown",
   "id": "6e0cbe10",
   "metadata": {},
   "source": [
    ">'Deck_of_spaceship'"
   ]
  },
  {
   "cell_type": "code",
   "execution_count": 522,
   "id": "ea980de1",
   "metadata": {},
   "outputs": [
    {
     "data": {
      "text/plain": [
       "F    2499\n",
       "G    2294\n",
       "E     792\n",
       "B     698\n",
       "C     680\n",
       "D     435\n",
       "A     237\n",
       "T       4\n",
       "Name: Deck_of_spaceship, dtype: int64"
      ]
     },
     "execution_count": 522,
     "metadata": {},
     "output_type": "execute_result"
    }
   ],
   "source": [
    "train.Deck_of_spaceship.value_counts()"
   ]
  },
  {
   "cell_type": "code",
   "execution_count": 523,
   "id": "477e3de8",
   "metadata": {},
   "outputs": [
    {
     "data": {
      "text/plain": [
       "184"
      ]
     },
     "execution_count": 523,
     "metadata": {},
     "output_type": "execute_result"
    }
   ],
   "source": [
    "train.Deck_of_spaceship.isnull().sum()"
   ]
  },
  {
   "cell_type": "code",
   "execution_count": 524,
   "id": "f5f80ca7",
   "metadata": {},
   "outputs": [],
   "source": [
    "train['Deck_of_spaceship'] = train['Deck_of_spaceship'].replace(np.nan,'F')"
   ]
  },
  {
   "cell_type": "markdown",
   "id": "437e23ee",
   "metadata": {},
   "source": [
    ">'Port_or_Starboard'"
   ]
  },
  {
   "cell_type": "code",
   "execution_count": 525,
   "id": "a192a947",
   "metadata": {},
   "outputs": [
    {
     "data": {
      "text/plain": [
       "S    3839\n",
       "P    3800\n",
       "Name: Port_or_Starboard, dtype: int64"
      ]
     },
     "execution_count": 525,
     "metadata": {},
     "output_type": "execute_result"
    }
   ],
   "source": [
    "train.Port_or_Starboard.value_counts()"
   ]
  },
  {
   "cell_type": "code",
   "execution_count": 526,
   "id": "026ff683",
   "metadata": {
    "scrolled": true
   },
   "outputs": [
    {
     "data": {
      "text/plain": [
       "184"
      ]
     },
     "execution_count": 526,
     "metadata": {},
     "output_type": "execute_result"
    }
   ],
   "source": [
    "train.Port_or_Starboard.isnull().sum()"
   ]
  },
  {
   "cell_type": "code",
   "execution_count": 527,
   "id": "56750a8d",
   "metadata": {},
   "outputs": [],
   "source": [
    "train['Port_or_Starboard'] = train['Port_or_Starboard'].replace(np.nan,'S')"
   ]
  },
  {
   "cell_type": "code",
   "execution_count": null,
   "id": "3d363b1a",
   "metadata": {},
   "outputs": [],
   "source": []
  },
  {
   "cell_type": "markdown",
   "id": "65a451c5",
   "metadata": {},
   "source": [
    "_________"
   ]
  },
  {
   "cell_type": "markdown",
   "id": "8d05ac0e",
   "metadata": {},
   "source": [
    "# Imputacion de valores nulos en 'Train' para las columnas numericas."
   ]
  },
  {
   "cell_type": "code",
   "execution_count": 528,
   "id": "47ef978f",
   "metadata": {},
   "outputs": [],
   "source": [
    "#train_whitout_nuls = train"
   ]
  },
  {
   "cell_type": "code",
   "execution_count": 529,
   "id": "7fbade05",
   "metadata": {},
   "outputs": [
    {
     "data": {
      "text/html": [
       "<style type=\"text/css\">\n",
       "#T_4bb01_row0_col1, #T_4bb01_row1_col1 {\n",
       "  width: 10em;\n",
       "  height: 80%;\n",
       "  background: linear-gradient(90deg,lightblue 100.0%, transparent 100.0%);\n",
       "}\n",
       "#T_4bb01_row2_col1 {\n",
       "  width: 10em;\n",
       "  height: 80%;\n",
       "  background: linear-gradient(90deg,lightblue 91.7%, transparent 91.7%);\n",
       "}\n",
       "#T_4bb01_row3_col1 {\n",
       "  width: 10em;\n",
       "  height: 80%;\n",
       "  background: linear-gradient(90deg,lightblue 87.5%, transparent 87.5%);\n",
       "}\n",
       "#T_4bb01_row4_col1, #T_4bb01_row5_col1, #T_4bb01_row6_col1 {\n",
       "  width: 10em;\n",
       "  height: 80%;\n",
       "  background: linear-gradient(90deg,lightblue 83.3%, transparent 83.3%);\n",
       "}\n",
       "#T_4bb01_row7_col1, #T_4bb01_row8_col1, #T_4bb01_row9_col1, #T_4bb01_row10_col1, #T_4bb01_row11_col1, #T_4bb01_row12_col1, #T_4bb01_row13_col1 {\n",
       "  width: 10em;\n",
       "  height: 80%;\n",
       "}\n",
       "</style>\n",
       "<table id=\"T_4bb01_\">\n",
       "  <thead>\n",
       "    <tr>\n",
       "      <th class=\"blank level0\" >&nbsp;</th>\n",
       "      <th class=\"col_heading level0 col0\" >Total_nulls_test</th>\n",
       "      <th class=\"col_heading level0 col1\" >Percent</th>\n",
       "    </tr>\n",
       "  </thead>\n",
       "  <tbody>\n",
       "    <tr>\n",
       "      <th id=\"T_4bb01_level0_row0\" class=\"row_heading level0 row0\" >ShoppingMall</th>\n",
       "      <td id=\"T_4bb01_row0_col0\" class=\"data row0 col0\" >188</td>\n",
       "      <td id=\"T_4bb01_row0_col1\" class=\"data row0 col1\" >0.024000</td>\n",
       "    </tr>\n",
       "    <tr>\n",
       "      <th id=\"T_4bb01_level0_row1\" class=\"row_heading level0 row1\" >Number_of_cabin</th>\n",
       "      <td id=\"T_4bb01_row1_col0\" class=\"data row1 col0\" >184</td>\n",
       "      <td id=\"T_4bb01_row1_col1\" class=\"data row1 col1\" >0.024000</td>\n",
       "    </tr>\n",
       "    <tr>\n",
       "      <th id=\"T_4bb01_level0_row2\" class=\"row_heading level0 row2\" >VRDeck</th>\n",
       "      <td id=\"T_4bb01_row2_col0\" class=\"data row2 col0\" >169</td>\n",
       "      <td id=\"T_4bb01_row2_col1\" class=\"data row2 col1\" >0.022000</td>\n",
       "    </tr>\n",
       "    <tr>\n",
       "      <th id=\"T_4bb01_level0_row3\" class=\"row_heading level0 row3\" >Age</th>\n",
       "      <td id=\"T_4bb01_row3_col0\" class=\"data row3 col0\" >162</td>\n",
       "      <td id=\"T_4bb01_row3_col1\" class=\"data row3 col1\" >0.021000</td>\n",
       "    </tr>\n",
       "    <tr>\n",
       "      <th id=\"T_4bb01_level0_row4\" class=\"row_heading level0 row4\" >Spa</th>\n",
       "      <td id=\"T_4bb01_row4_col0\" class=\"data row4 col0\" >158</td>\n",
       "      <td id=\"T_4bb01_row4_col1\" class=\"data row4 col1\" >0.020000</td>\n",
       "    </tr>\n",
       "    <tr>\n",
       "      <th id=\"T_4bb01_level0_row5\" class=\"row_heading level0 row5\" >FoodCourt</th>\n",
       "      <td id=\"T_4bb01_row5_col0\" class=\"data row5 col0\" >155</td>\n",
       "      <td id=\"T_4bb01_row5_col1\" class=\"data row5 col1\" >0.020000</td>\n",
       "    </tr>\n",
       "    <tr>\n",
       "      <th id=\"T_4bb01_level0_row6\" class=\"row_heading level0 row6\" >RoomService</th>\n",
       "      <td id=\"T_4bb01_row6_col0\" class=\"data row6 col0\" >154</td>\n",
       "      <td id=\"T_4bb01_row6_col1\" class=\"data row6 col1\" >0.020000</td>\n",
       "    </tr>\n",
       "    <tr>\n",
       "      <th id=\"T_4bb01_level0_row7\" class=\"row_heading level0 row7\" >HomePlanet</th>\n",
       "      <td id=\"T_4bb01_row7_col0\" class=\"data row7 col0\" >0</td>\n",
       "      <td id=\"T_4bb01_row7_col1\" class=\"data row7 col1\" >0.000000</td>\n",
       "    </tr>\n",
       "    <tr>\n",
       "      <th id=\"T_4bb01_level0_row8\" class=\"row_heading level0 row8\" >CryoSleep</th>\n",
       "      <td id=\"T_4bb01_row8_col0\" class=\"data row8 col0\" >0</td>\n",
       "      <td id=\"T_4bb01_row8_col1\" class=\"data row8 col1\" >0.000000</td>\n",
       "    </tr>\n",
       "    <tr>\n",
       "      <th id=\"T_4bb01_level0_row9\" class=\"row_heading level0 row9\" >Destination</th>\n",
       "      <td id=\"T_4bb01_row9_col0\" class=\"data row9 col0\" >0</td>\n",
       "      <td id=\"T_4bb01_row9_col1\" class=\"data row9 col1\" >0.000000</td>\n",
       "    </tr>\n",
       "    <tr>\n",
       "      <th id=\"T_4bb01_level0_row10\" class=\"row_heading level0 row10\" >VIP</th>\n",
       "      <td id=\"T_4bb01_row10_col0\" class=\"data row10 col0\" >0</td>\n",
       "      <td id=\"T_4bb01_row10_col1\" class=\"data row10 col1\" >0.000000</td>\n",
       "    </tr>\n",
       "    <tr>\n",
       "      <th id=\"T_4bb01_level0_row11\" class=\"row_heading level0 row11\" >Transported</th>\n",
       "      <td id=\"T_4bb01_row11_col0\" class=\"data row11 col0\" >0</td>\n",
       "      <td id=\"T_4bb01_row11_col1\" class=\"data row11 col1\" >0.000000</td>\n",
       "    </tr>\n",
       "    <tr>\n",
       "      <th id=\"T_4bb01_level0_row12\" class=\"row_heading level0 row12\" >Deck_of_spaceship</th>\n",
       "      <td id=\"T_4bb01_row12_col0\" class=\"data row12 col0\" >0</td>\n",
       "      <td id=\"T_4bb01_row12_col1\" class=\"data row12 col1\" >0.000000</td>\n",
       "    </tr>\n",
       "    <tr>\n",
       "      <th id=\"T_4bb01_level0_row13\" class=\"row_heading level0 row13\" >Port_or_Starboard</th>\n",
       "      <td id=\"T_4bb01_row13_col0\" class=\"data row13 col0\" >0</td>\n",
       "      <td id=\"T_4bb01_row13_col1\" class=\"data row13 col1\" >0.000000</td>\n",
       "    </tr>\n",
       "  </tbody>\n",
       "</table>\n"
      ],
      "text/plain": [
       "<pandas.io.formats.style.Styler at 0x28de762f8e0>"
      ]
     },
     "execution_count": 529,
     "metadata": {},
     "output_type": "execute_result"
    }
   ],
   "source": [
    "total = train.isnull().sum().sort_values(ascending = False)\n",
    "percent = (train.isnull().sum() / train.isnull().count()).sort_values(ascending = False)\n",
    "missing_data = pd.concat([total, round(percent,3)], axis = 1, keys = ['Total_nulls_test', 'Percent'])\n",
    "missing_data.style.bar(subset = [\"Percent\"], \n",
    "             color = \"lightblue\", \n",
    "             vmin = 0)"
   ]
  },
  {
   "cell_type": "code",
   "execution_count": 530,
   "id": "58d4939e",
   "metadata": {
    "scrolled": false
   },
   "outputs": [
    {
     "data": {
      "text/plain": [
       "HomePlanet       object\n",
       "CryoSleep        object\n",
       "Cabin            object\n",
       "Destination      object\n",
       "Age             float64\n",
       "VIP              object\n",
       "RoomService     float64\n",
       "FoodCourt       float64\n",
       "ShoppingMall    float64\n",
       "Spa             float64\n",
       "VRDeck          float64\n",
       "Transported       int64\n",
       "dtype: object"
      ]
     },
     "execution_count": 530,
     "metadata": {},
     "output_type": "execute_result"
    }
   ],
   "source": [
    "train_whitout_nuls.dtypes"
   ]
  },
  {
   "cell_type": "code",
   "execution_count": 531,
   "id": "57d9f374",
   "metadata": {},
   "outputs": [],
   "source": [
    "cat_cols = ['HomePlanet','CryoSleep','Destination','VIP','Deck_of_spaceship','Port_or_Starboard']\n",
    "num_cols = ['Age','RoomService','FoodCourt','ShoppingMall','Spa','VRDeck','Number_of_cabin'] "
   ]
  },
  {
   "cell_type": "markdown",
   "id": "961c79df",
   "metadata": {},
   "source": [
    "### Utilizando IterativeImputer imputamos valores faltantes de las columnas numericas de 'Train'."
   ]
  },
  {
   "cell_type": "code",
   "execution_count": 532,
   "id": "5d5540db",
   "metadata": {},
   "outputs": [],
   "source": [
    "from sklearn.experimental import enable_iterative_imputer\n",
    "from sklearn.neighbors import KNeighborsRegressor\n",
    "from sklearn.impute import IterativeImputer\n",
    "from sklearn.preprocessing import StandardScaler"
   ]
  },
  {
   "cell_type": "code",
   "execution_count": 534,
   "id": "e319fe94",
   "metadata": {},
   "outputs": [],
   "source": [
    "mice_imputer = IterativeImputer(random_state=0, estimator=KNeighborsRegressor())\n",
    "\n",
    "train[\"Age\"] = StandardScaler().fit_transform(\n",
    "    train[[\"Age\"]]\n",
    ")\n",
    "train[\"FoodCourt\"] = StandardScaler().fit_transform(\n",
    "    train[[\"FoodCourt\"]]\n",
    ")\n",
    "train[\"RoomService\"] = StandardScaler().fit_transform(\n",
    "    train[[\"RoomService\"]]\n",
    ")\n",
    "train[\"ShoppingMall\"] = StandardScaler().fit_transform(\n",
    "    train[[\"ShoppingMall\"]]\n",
    ")\n",
    "train[\"Spa\"] = StandardScaler().fit_transform(\n",
    "    train[[\"Spa\"]]\n",
    ")\n",
    "train[\"VRDeck\"] = StandardScaler().fit_transform(\n",
    "    train[[\"VRDeck\"]]\n",
    ")\n",
    "train[\"Number_of_cabin\"] = StandardScaler().fit_transform(\n",
    "    train[[\"Number_of_cabin\"]])\n",
    "    \n",
    "train[\n",
    "    [\"Age\", \"FoodCourt\",\"RoomService\",\"ShoppingMall\",\"Spa\",\"VRDeck\",\"Number_of_cabin\"]\n",
    "] = mice_imputer.fit_transform(train[[\"Age\", \"FoodCourt\",\"RoomService\",\"ShoppingMall\",\"Spa\",\"VRDeck\"\n",
    "                                                   ,\"Number_of_cabin\"]])"
   ]
  },
  {
   "cell_type": "code",
   "execution_count": 535,
   "id": "7e8c838e",
   "metadata": {
    "scrolled": false
   },
   "outputs": [
    {
     "data": {
      "text/html": [
       "<style type=\"text/css\">\n",
       "#T_ee386_row0_col1, #T_ee386_row1_col1, #T_ee386_row2_col1, #T_ee386_row3_col1, #T_ee386_row4_col1, #T_ee386_row5_col1, #T_ee386_row6_col1, #T_ee386_row7_col1, #T_ee386_row8_col1, #T_ee386_row9_col1, #T_ee386_row10_col1, #T_ee386_row11_col1, #T_ee386_row12_col1, #T_ee386_row13_col1 {\n",
       "  width: 10em;\n",
       "  height: 80%;\n",
       "}\n",
       "</style>\n",
       "<table id=\"T_ee386_\">\n",
       "  <thead>\n",
       "    <tr>\n",
       "      <th class=\"blank level0\" >&nbsp;</th>\n",
       "      <th class=\"col_heading level0 col0\" >Total_nulls_train</th>\n",
       "      <th class=\"col_heading level0 col1\" >Percent</th>\n",
       "    </tr>\n",
       "  </thead>\n",
       "  <tbody>\n",
       "    <tr>\n",
       "      <th id=\"T_ee386_level0_row0\" class=\"row_heading level0 row0\" >HomePlanet</th>\n",
       "      <td id=\"T_ee386_row0_col0\" class=\"data row0 col0\" >0</td>\n",
       "      <td id=\"T_ee386_row0_col1\" class=\"data row0 col1\" >0.000000</td>\n",
       "    </tr>\n",
       "    <tr>\n",
       "      <th id=\"T_ee386_level0_row1\" class=\"row_heading level0 row1\" >CryoSleep</th>\n",
       "      <td id=\"T_ee386_row1_col0\" class=\"data row1 col0\" >0</td>\n",
       "      <td id=\"T_ee386_row1_col1\" class=\"data row1 col1\" >0.000000</td>\n",
       "    </tr>\n",
       "    <tr>\n",
       "      <th id=\"T_ee386_level0_row2\" class=\"row_heading level0 row2\" >Destination</th>\n",
       "      <td id=\"T_ee386_row2_col0\" class=\"data row2 col0\" >0</td>\n",
       "      <td id=\"T_ee386_row2_col1\" class=\"data row2 col1\" >0.000000</td>\n",
       "    </tr>\n",
       "    <tr>\n",
       "      <th id=\"T_ee386_level0_row3\" class=\"row_heading level0 row3\" >Age</th>\n",
       "      <td id=\"T_ee386_row3_col0\" class=\"data row3 col0\" >0</td>\n",
       "      <td id=\"T_ee386_row3_col1\" class=\"data row3 col1\" >0.000000</td>\n",
       "    </tr>\n",
       "    <tr>\n",
       "      <th id=\"T_ee386_level0_row4\" class=\"row_heading level0 row4\" >VIP</th>\n",
       "      <td id=\"T_ee386_row4_col0\" class=\"data row4 col0\" >0</td>\n",
       "      <td id=\"T_ee386_row4_col1\" class=\"data row4 col1\" >0.000000</td>\n",
       "    </tr>\n",
       "    <tr>\n",
       "      <th id=\"T_ee386_level0_row5\" class=\"row_heading level0 row5\" >RoomService</th>\n",
       "      <td id=\"T_ee386_row5_col0\" class=\"data row5 col0\" >0</td>\n",
       "      <td id=\"T_ee386_row5_col1\" class=\"data row5 col1\" >0.000000</td>\n",
       "    </tr>\n",
       "    <tr>\n",
       "      <th id=\"T_ee386_level0_row6\" class=\"row_heading level0 row6\" >FoodCourt</th>\n",
       "      <td id=\"T_ee386_row6_col0\" class=\"data row6 col0\" >0</td>\n",
       "      <td id=\"T_ee386_row6_col1\" class=\"data row6 col1\" >0.000000</td>\n",
       "    </tr>\n",
       "    <tr>\n",
       "      <th id=\"T_ee386_level0_row7\" class=\"row_heading level0 row7\" >ShoppingMall</th>\n",
       "      <td id=\"T_ee386_row7_col0\" class=\"data row7 col0\" >0</td>\n",
       "      <td id=\"T_ee386_row7_col1\" class=\"data row7 col1\" >0.000000</td>\n",
       "    </tr>\n",
       "    <tr>\n",
       "      <th id=\"T_ee386_level0_row8\" class=\"row_heading level0 row8\" >Spa</th>\n",
       "      <td id=\"T_ee386_row8_col0\" class=\"data row8 col0\" >0</td>\n",
       "      <td id=\"T_ee386_row8_col1\" class=\"data row8 col1\" >0.000000</td>\n",
       "    </tr>\n",
       "    <tr>\n",
       "      <th id=\"T_ee386_level0_row9\" class=\"row_heading level0 row9\" >VRDeck</th>\n",
       "      <td id=\"T_ee386_row9_col0\" class=\"data row9 col0\" >0</td>\n",
       "      <td id=\"T_ee386_row9_col1\" class=\"data row9 col1\" >0.000000</td>\n",
       "    </tr>\n",
       "    <tr>\n",
       "      <th id=\"T_ee386_level0_row10\" class=\"row_heading level0 row10\" >Transported</th>\n",
       "      <td id=\"T_ee386_row10_col0\" class=\"data row10 col0\" >0</td>\n",
       "      <td id=\"T_ee386_row10_col1\" class=\"data row10 col1\" >0.000000</td>\n",
       "    </tr>\n",
       "    <tr>\n",
       "      <th id=\"T_ee386_level0_row11\" class=\"row_heading level0 row11\" >Deck_of_spaceship</th>\n",
       "      <td id=\"T_ee386_row11_col0\" class=\"data row11 col0\" >0</td>\n",
       "      <td id=\"T_ee386_row11_col1\" class=\"data row11 col1\" >0.000000</td>\n",
       "    </tr>\n",
       "    <tr>\n",
       "      <th id=\"T_ee386_level0_row12\" class=\"row_heading level0 row12\" >Number_of_cabin</th>\n",
       "      <td id=\"T_ee386_row12_col0\" class=\"data row12 col0\" >0</td>\n",
       "      <td id=\"T_ee386_row12_col1\" class=\"data row12 col1\" >0.000000</td>\n",
       "    </tr>\n",
       "    <tr>\n",
       "      <th id=\"T_ee386_level0_row13\" class=\"row_heading level0 row13\" >Port_or_Starboard</th>\n",
       "      <td id=\"T_ee386_row13_col0\" class=\"data row13 col0\" >0</td>\n",
       "      <td id=\"T_ee386_row13_col1\" class=\"data row13 col1\" >0.000000</td>\n",
       "    </tr>\n",
       "  </tbody>\n",
       "</table>\n"
      ],
      "text/plain": [
       "<pandas.io.formats.style.Styler at 0x28df16fed00>"
      ]
     },
     "execution_count": 535,
     "metadata": {},
     "output_type": "execute_result"
    }
   ],
   "source": [
    "total = train.isnull().sum().sort_values(ascending = False)\n",
    "percent = (train.isnull().sum() / train.isnull().count()).sort_values(ascending = False)\n",
    "missing_data = pd.concat([total, round(percent,3)], axis = 1, keys = ['Total_nulls_train', 'Percent'])\n",
    "missing_data.style.bar(subset = [\"Percent\"], \n",
    "             color = \"lightgreen\", \n",
    "             vmin = 0)"
   ]
  },
  {
   "cell_type": "markdown",
   "id": "16657d6e",
   "metadata": {},
   "source": [
    ">'Train' quedo sin valores nulos."
   ]
  },
  {
   "cell_type": "code",
   "execution_count": 536,
   "id": "28844fa5",
   "metadata": {},
   "outputs": [
    {
     "data": {
      "text/html": [
       "<div>\n",
       "<style scoped>\n",
       "    .dataframe tbody tr th:only-of-type {\n",
       "        vertical-align: middle;\n",
       "    }\n",
       "\n",
       "    .dataframe tbody tr th {\n",
       "        vertical-align: top;\n",
       "    }\n",
       "\n",
       "    .dataframe thead th {\n",
       "        text-align: right;\n",
       "    }\n",
       "</style>\n",
       "<table border=\"1\" class=\"dataframe\">\n",
       "  <thead>\n",
       "    <tr style=\"text-align: right;\">\n",
       "      <th></th>\n",
       "      <th>HomePlanet</th>\n",
       "      <th>CryoSleep</th>\n",
       "      <th>Destination</th>\n",
       "      <th>Age</th>\n",
       "      <th>VIP</th>\n",
       "      <th>RoomService</th>\n",
       "      <th>FoodCourt</th>\n",
       "      <th>ShoppingMall</th>\n",
       "      <th>Spa</th>\n",
       "      <th>VRDeck</th>\n",
       "      <th>Transported</th>\n",
       "      <th>Deck_of_spaceship</th>\n",
       "      <th>Number_of_cabin</th>\n",
       "      <th>Port_or_Starboard</th>\n",
       "    </tr>\n",
       "  </thead>\n",
       "  <tbody>\n",
       "    <tr>\n",
       "      <th>0</th>\n",
       "      <td>Europa</td>\n",
       "      <td>False</td>\n",
       "      <td>TRAPPIST-1e</td>\n",
       "      <td>1.944636</td>\n",
       "      <td>False</td>\n",
       "      <td>-0.332891</td>\n",
       "      <td>2.099303</td>\n",
       "      <td>-0.266942</td>\n",
       "      <td>-0.097078</td>\n",
       "      <td>3.272797</td>\n",
       "      <td>0</td>\n",
       "      <td>C</td>\n",
       "      <td>-0.929337</td>\n",
       "      <td>P</td>\n",
       "    </tr>\n",
       "    <tr>\n",
       "      <th>1</th>\n",
       "      <td>Mars</td>\n",
       "      <td>True</td>\n",
       "      <td>TRAPPIST-1e</td>\n",
       "      <td>-0.752347</td>\n",
       "      <td>True</td>\n",
       "      <td>-0.332891</td>\n",
       "      <td>-0.281056</td>\n",
       "      <td>-0.288685</td>\n",
       "      <td>-0.269134</td>\n",
       "      <td>-0.270233</td>\n",
       "      <td>1</td>\n",
       "      <td>F</td>\n",
       "      <td>-0.923471</td>\n",
       "      <td>S</td>\n",
       "    </tr>\n",
       "    <tr>\n",
       "      <th>2</th>\n",
       "      <td>Europa</td>\n",
       "      <td>True</td>\n",
       "      <td>TRAPPIST-1e</td>\n",
       "      <td>0.284954</td>\n",
       "      <td>True</td>\n",
       "      <td>-0.332891</td>\n",
       "      <td>-0.281056</td>\n",
       "      <td>-0.288685</td>\n",
       "      <td>-0.269134</td>\n",
       "      <td>-0.270233</td>\n",
       "      <td>1</td>\n",
       "      <td>B</td>\n",
       "      <td>-0.499119</td>\n",
       "      <td>S</td>\n",
       "    </tr>\n",
       "    <tr>\n",
       "      <th>3</th>\n",
       "      <td>Earth</td>\n",
       "      <td>False</td>\n",
       "      <td>TRAPPIST-1e</td>\n",
       "      <td>0.976488</td>\n",
       "      <td>False</td>\n",
       "      <td>-0.123802</td>\n",
       "      <td>0.464079</td>\n",
       "      <td>-0.288685</td>\n",
       "      <td>-0.269134</td>\n",
       "      <td>-0.083662</td>\n",
       "      <td>0</td>\n",
       "      <td>F</td>\n",
       "      <td>1.606993</td>\n",
       "      <td>P</td>\n",
       "    </tr>\n",
       "    <tr>\n",
       "      <th>4</th>\n",
       "      <td>Earth</td>\n",
       "      <td>False</td>\n",
       "      <td>TRAPPIST-1e</td>\n",
       "      <td>-0.683193</td>\n",
       "      <td>False</td>\n",
       "      <td>-0.332891</td>\n",
       "      <td>-0.281056</td>\n",
       "      <td>0.831932</td>\n",
       "      <td>-0.268252</td>\n",
       "      <td>-0.239138</td>\n",
       "      <td>0</td>\n",
       "      <td>G</td>\n",
       "      <td>-1.152268</td>\n",
       "      <td>P</td>\n",
       "    </tr>\n",
       "  </tbody>\n",
       "</table>\n",
       "</div>"
      ],
      "text/plain": [
       "  HomePlanet CryoSleep  Destination       Age    VIP  RoomService  FoodCourt  \\\n",
       "0     Europa     False  TRAPPIST-1e  1.944636  False    -0.332891   2.099303   \n",
       "1       Mars      True  TRAPPIST-1e -0.752347   True    -0.332891  -0.281056   \n",
       "2     Europa      True  TRAPPIST-1e  0.284954   True    -0.332891  -0.281056   \n",
       "3      Earth     False  TRAPPIST-1e  0.976488  False    -0.123802   0.464079   \n",
       "4      Earth     False  TRAPPIST-1e -0.683193  False    -0.332891  -0.281056   \n",
       "\n",
       "   ShoppingMall       Spa    VRDeck  Transported Deck_of_spaceship  \\\n",
       "0     -0.266942 -0.097078  3.272797            0                 C   \n",
       "1     -0.288685 -0.269134 -0.270233            1                 F   \n",
       "2     -0.288685 -0.269134 -0.270233            1                 B   \n",
       "3     -0.288685 -0.269134 -0.083662            0                 F   \n",
       "4      0.831932 -0.268252 -0.239138            0                 G   \n",
       "\n",
       "   Number_of_cabin Port_or_Starboard  \n",
       "0        -0.929337                 P  \n",
       "1        -0.923471                 S  \n",
       "2        -0.499119                 S  \n",
       "3         1.606993                 P  \n",
       "4        -1.152268                 P  "
      ]
     },
     "execution_count": 536,
     "metadata": {},
     "output_type": "execute_result"
    }
   ],
   "source": [
    "train.head()"
   ]
  },
  {
   "cell_type": "code",
   "execution_count": 537,
   "id": "d56d0aae",
   "metadata": {
    "scrolled": true
   },
   "outputs": [
    {
     "data": {
      "text/html": [
       "<div>\n",
       "<style scoped>\n",
       "    .dataframe tbody tr th:only-of-type {\n",
       "        vertical-align: middle;\n",
       "    }\n",
       "\n",
       "    .dataframe tbody tr th {\n",
       "        vertical-align: top;\n",
       "    }\n",
       "\n",
       "    .dataframe thead th {\n",
       "        text-align: right;\n",
       "    }\n",
       "</style>\n",
       "<table border=\"1\" class=\"dataframe\">\n",
       "  <thead>\n",
       "    <tr style=\"text-align: right;\">\n",
       "      <th></th>\n",
       "      <th>HomePlanet</th>\n",
       "      <th>CryoSleep</th>\n",
       "      <th>Destination</th>\n",
       "      <th>Age</th>\n",
       "      <th>VIP</th>\n",
       "      <th>RoomService</th>\n",
       "      <th>FoodCourt</th>\n",
       "      <th>ShoppingMall</th>\n",
       "      <th>Spa</th>\n",
       "      <th>VRDeck</th>\n",
       "      <th>Deck_of_spaceship</th>\n",
       "      <th>Number_of_cabin</th>\n",
       "      <th>Port_or_Starboard</th>\n",
       "    </tr>\n",
       "  </thead>\n",
       "  <tbody>\n",
       "    <tr>\n",
       "      <th>0</th>\n",
       "      <td>Europa</td>\n",
       "      <td>False</td>\n",
       "      <td>TRAPPIST-1e</td>\n",
       "      <td>1.944636</td>\n",
       "      <td>False</td>\n",
       "      <td>-0.332891</td>\n",
       "      <td>2.099303</td>\n",
       "      <td>-0.266942</td>\n",
       "      <td>-0.097078</td>\n",
       "      <td>3.272797</td>\n",
       "      <td>C</td>\n",
       "      <td>-0.929337</td>\n",
       "      <td>P</td>\n",
       "    </tr>\n",
       "    <tr>\n",
       "      <th>1</th>\n",
       "      <td>Mars</td>\n",
       "      <td>True</td>\n",
       "      <td>TRAPPIST-1e</td>\n",
       "      <td>-0.752347</td>\n",
       "      <td>True</td>\n",
       "      <td>-0.332891</td>\n",
       "      <td>-0.281056</td>\n",
       "      <td>-0.288685</td>\n",
       "      <td>-0.269134</td>\n",
       "      <td>-0.270233</td>\n",
       "      <td>F</td>\n",
       "      <td>-0.923471</td>\n",
       "      <td>S</td>\n",
       "    </tr>\n",
       "    <tr>\n",
       "      <th>2</th>\n",
       "      <td>Europa</td>\n",
       "      <td>True</td>\n",
       "      <td>TRAPPIST-1e</td>\n",
       "      <td>0.284954</td>\n",
       "      <td>True</td>\n",
       "      <td>-0.332891</td>\n",
       "      <td>-0.281056</td>\n",
       "      <td>-0.288685</td>\n",
       "      <td>-0.269134</td>\n",
       "      <td>-0.270233</td>\n",
       "      <td>B</td>\n",
       "      <td>-0.499119</td>\n",
       "      <td>S</td>\n",
       "    </tr>\n",
       "    <tr>\n",
       "      <th>3</th>\n",
       "      <td>Earth</td>\n",
       "      <td>False</td>\n",
       "      <td>TRAPPIST-1e</td>\n",
       "      <td>0.976488</td>\n",
       "      <td>False</td>\n",
       "      <td>-0.123802</td>\n",
       "      <td>0.464079</td>\n",
       "      <td>-0.288685</td>\n",
       "      <td>-0.269134</td>\n",
       "      <td>-0.083662</td>\n",
       "      <td>F</td>\n",
       "      <td>1.606993</td>\n",
       "      <td>P</td>\n",
       "    </tr>\n",
       "    <tr>\n",
       "      <th>4</th>\n",
       "      <td>Earth</td>\n",
       "      <td>False</td>\n",
       "      <td>TRAPPIST-1e</td>\n",
       "      <td>-0.683193</td>\n",
       "      <td>False</td>\n",
       "      <td>-0.332891</td>\n",
       "      <td>-0.281056</td>\n",
       "      <td>0.831932</td>\n",
       "      <td>-0.268252</td>\n",
       "      <td>-0.239138</td>\n",
       "      <td>G</td>\n",
       "      <td>-1.152268</td>\n",
       "      <td>P</td>\n",
       "    </tr>\n",
       "  </tbody>\n",
       "</table>\n",
       "</div>"
      ],
      "text/plain": [
       "  HomePlanet CryoSleep  Destination       Age    VIP  RoomService  FoodCourt  \\\n",
       "0     Europa     False  TRAPPIST-1e  1.944636  False    -0.332891   2.099303   \n",
       "1       Mars      True  TRAPPIST-1e -0.752347   True    -0.332891  -0.281056   \n",
       "2     Europa      True  TRAPPIST-1e  0.284954   True    -0.332891  -0.281056   \n",
       "3      Earth     False  TRAPPIST-1e  0.976488  False    -0.123802   0.464079   \n",
       "4      Earth     False  TRAPPIST-1e -0.683193  False    -0.332891  -0.281056   \n",
       "\n",
       "   ShoppingMall       Spa    VRDeck Deck_of_spaceship  Number_of_cabin  \\\n",
       "0     -0.266942 -0.097078  3.272797                 C        -0.929337   \n",
       "1     -0.288685 -0.269134 -0.270233                 F        -0.923471   \n",
       "2     -0.288685 -0.269134 -0.270233                 B        -0.499119   \n",
       "3     -0.288685 -0.269134 -0.083662                 F         1.606993   \n",
       "4      0.831932 -0.268252 -0.239138                 G        -1.152268   \n",
       "\n",
       "  Port_or_Starboard  \n",
       "0                 P  \n",
       "1                 S  \n",
       "2                 S  \n",
       "3                 P  \n",
       "4                 P  "
      ]
     },
     "execution_count": 537,
     "metadata": {},
     "output_type": "execute_result"
    }
   ],
   "source": [
    "y = train.Transported\n",
    "X = train.drop('Transported',axis=1)\n",
    "X.head()"
   ]
  },
  {
   "cell_type": "markdown",
   "id": "e68dcef0",
   "metadata": {},
   "source": [
    "### Usamos LabelEncoder para las columnas categoricas y escalamos"
   ]
  },
  {
   "cell_type": "code",
   "execution_count": 538,
   "id": "a07cfd07",
   "metadata": {
    "scrolled": true
   },
   "outputs": [],
   "source": [
    "from sklearn.preprocessing import StandardScaler, LabelEncoder\n",
    "\n",
    "label_cols = cat_cols\n",
    "\n",
    "for col in label_cols:\n",
    "    X[col] = X[col].astype(str)\n",
    "    X[col] = LabelEncoder().fit_transform(X[col])"
   ]
  },
  {
   "cell_type": "markdown",
   "id": "7fdcc0c7",
   "metadata": {},
   "source": [
    "### Usamos StandardScaler para escalar los datos."
   ]
  },
  {
   "cell_type": "code",
   "execution_count": 539,
   "id": "a628de21",
   "metadata": {
    "scrolled": true
   },
   "outputs": [
    {
     "data": {
      "text/html": [
       "<div>\n",
       "<style scoped>\n",
       "    .dataframe tbody tr th:only-of-type {\n",
       "        vertical-align: middle;\n",
       "    }\n",
       "\n",
       "    .dataframe tbody tr th {\n",
       "        vertical-align: top;\n",
       "    }\n",
       "\n",
       "    .dataframe thead th {\n",
       "        text-align: right;\n",
       "    }\n",
       "</style>\n",
       "<table border=\"1\" class=\"dataframe\">\n",
       "  <thead>\n",
       "    <tr style=\"text-align: right;\">\n",
       "      <th></th>\n",
       "      <th>HomePlanet</th>\n",
       "      <th>CryoSleep</th>\n",
       "      <th>Destination</th>\n",
       "      <th>Age</th>\n",
       "      <th>VIP</th>\n",
       "      <th>RoomService</th>\n",
       "      <th>FoodCourt</th>\n",
       "      <th>ShoppingMall</th>\n",
       "      <th>Spa</th>\n",
       "      <th>VRDeck</th>\n",
       "      <th>Deck_of_spaceship</th>\n",
       "      <th>Number_of_cabin</th>\n",
       "      <th>Port_or_Starboard</th>\n",
       "    </tr>\n",
       "  </thead>\n",
       "  <tbody>\n",
       "    <tr>\n",
       "      <th>0</th>\n",
       "      <td>0.433235</td>\n",
       "      <td>-0.737504</td>\n",
       "      <td>0.622444</td>\n",
       "      <td>1.960524</td>\n",
       "      <td>-0.737504</td>\n",
       "      <td>-0.334097</td>\n",
       "      <td>2.118125</td>\n",
       "      <td>-0.268928</td>\n",
       "      <td>-0.096692</td>\n",
       "      <td>3.299611</td>\n",
       "      <td>-1.310594</td>\n",
       "      <td>-0.934309</td>\n",
       "      <td>-1.028924</td>\n",
       "    </tr>\n",
       "    <tr>\n",
       "      <th>1</th>\n",
       "      <td>1.689423</td>\n",
       "      <td>1.355926</td>\n",
       "      <td>0.622444</td>\n",
       "      <td>-0.755567</td>\n",
       "      <td>1.355926</td>\n",
       "      <td>-0.334097</td>\n",
       "      <td>-0.282215</td>\n",
       "      <td>-0.290882</td>\n",
       "      <td>-0.270230</td>\n",
       "      <td>-0.271105</td>\n",
       "      <td>0.389513</td>\n",
       "      <td>-0.928399</td>\n",
       "      <td>0.971889</td>\n",
       "    </tr>\n",
       "    <tr>\n",
       "      <th>2</th>\n",
       "      <td>0.433235</td>\n",
       "      <td>1.355926</td>\n",
       "      <td>0.622444</td>\n",
       "      <td>0.289084</td>\n",
       "      <td>1.355926</td>\n",
       "      <td>-0.334097</td>\n",
       "      <td>-0.282215</td>\n",
       "      <td>-0.290882</td>\n",
       "      <td>-0.270230</td>\n",
       "      <td>-0.271105</td>\n",
       "      <td>-1.877297</td>\n",
       "      <td>-0.500890</td>\n",
       "      <td>0.971889</td>\n",
       "    </tr>\n",
       "    <tr>\n",
       "      <th>3</th>\n",
       "      <td>-0.822954</td>\n",
       "      <td>-0.737504</td>\n",
       "      <td>0.622444</td>\n",
       "      <td>0.985517</td>\n",
       "      <td>-0.737504</td>\n",
       "      <td>-0.123306</td>\n",
       "      <td>0.469174</td>\n",
       "      <td>-0.290882</td>\n",
       "      <td>-0.270230</td>\n",
       "      <td>-0.083076</td>\n",
       "      <td>0.389513</td>\n",
       "      <td>1.620894</td>\n",
       "      <td>-1.028924</td>\n",
       "    </tr>\n",
       "    <tr>\n",
       "      <th>4</th>\n",
       "      <td>-0.822954</td>\n",
       "      <td>-0.737504</td>\n",
       "      <td>0.622444</td>\n",
       "      <td>-0.685923</td>\n",
       "      <td>-0.737504</td>\n",
       "      <td>-0.334097</td>\n",
       "      <td>-0.282215</td>\n",
       "      <td>0.840597</td>\n",
       "      <td>-0.269340</td>\n",
       "      <td>-0.239767</td>\n",
       "      <td>0.956215</td>\n",
       "      <td>-1.158899</td>\n",
       "      <td>-1.028924</td>\n",
       "    </tr>\n",
       "  </tbody>\n",
       "</table>\n",
       "</div>"
      ],
      "text/plain": [
       "   HomePlanet  CryoSleep  Destination       Age       VIP  RoomService  \\\n",
       "0    0.433235  -0.737504     0.622444  1.960524 -0.737504    -0.334097   \n",
       "1    1.689423   1.355926     0.622444 -0.755567  1.355926    -0.334097   \n",
       "2    0.433235   1.355926     0.622444  0.289084  1.355926    -0.334097   \n",
       "3   -0.822954  -0.737504     0.622444  0.985517 -0.737504    -0.123306   \n",
       "4   -0.822954  -0.737504     0.622444 -0.685923 -0.737504    -0.334097   \n",
       "\n",
       "   FoodCourt  ShoppingMall       Spa    VRDeck  Deck_of_spaceship  \\\n",
       "0   2.118125     -0.268928 -0.096692  3.299611          -1.310594   \n",
       "1  -0.282215     -0.290882 -0.270230 -0.271105           0.389513   \n",
       "2  -0.282215     -0.290882 -0.270230 -0.271105          -1.877297   \n",
       "3   0.469174     -0.290882 -0.270230 -0.083076           0.389513   \n",
       "4  -0.282215      0.840597 -0.269340 -0.239767           0.956215   \n",
       "\n",
       "   Number_of_cabin  Port_or_Starboard  \n",
       "0        -0.934309          -1.028924  \n",
       "1        -0.928399           0.971889  \n",
       "2        -0.500890           0.971889  \n",
       "3         1.620894          -1.028924  \n",
       "4        -1.158899          -1.028924  "
      ]
     },
     "execution_count": 539,
     "metadata": {},
     "output_type": "execute_result"
    }
   ],
   "source": [
    "x_names = X.columns\n",
    "X = StandardScaler().fit_transform(X)\n",
    "X = pd.DataFrame(X, columns=x_names)\n",
    "X.head()"
   ]
  },
  {
   "cell_type": "markdown",
   "id": "ab4dee3b",
   "metadata": {},
   "source": [
    "### Dividimos en conjuntos de train y test."
   ]
  },
  {
   "cell_type": "code",
   "execution_count": 540,
   "id": "d0995384",
   "metadata": {},
   "outputs": [],
   "source": [
    "from sklearn.model_selection import train_test_split, GridSearchCV, StratifiedKFold\n",
    "\n",
    "x_train, x_test, y_train, y_test = train_test_split(X, y, train_size=0.9, random_state = 0 ) "
   ]
  },
  {
   "cell_type": "markdown",
   "id": "c1fc55b0",
   "metadata": {},
   "source": [
    "________________"
   ]
  },
  {
   "cell_type": "markdown",
   "id": "1ce1e8da",
   "metadata": {},
   "source": [
    "### Probamos con un Decition Tree."
   ]
  },
  {
   "cell_type": "code",
   "execution_count": 541,
   "id": "d438d46f",
   "metadata": {},
   "outputs": [],
   "source": [
    "from sklearn.metrics import (\n",
    "    accuracy_score,\n",
    "    precision_score,\n",
    "    recall_score,\n",
    "    f1_score,\n",
    "    confusion_matrix,\n",
    "    plot_confusion_matrix,\n",
    "    classification_report,\n",
    ")\n",
    "from sklearn.model_selection import (\n",
    "    train_test_split,\n",
    "    ParameterSampler,\n",
    "    RandomizedSearchCV,\n",
    "    ParameterGrid,\n",
    "    GridSearchCV,\n",
    ")\n",
    "from sklearn.tree import DecisionTreeClassifier, plot_tree"
   ]
  },
  {
   "cell_type": "code",
   "execution_count": 542,
   "id": "25864fc3",
   "metadata": {},
   "outputs": [],
   "source": [
    "from sklearn.tree import DecisionTreeClassifier\n",
    "from sklearn.metrics import accuracy_score, ConfusionMatrixDisplay, classification_report"
   ]
  },
  {
   "cell_type": "code",
   "execution_count": 543,
   "id": "51b5b6cc",
   "metadata": {},
   "outputs": [
    {
     "data": {
      "text/html": [
       "<style>#sk-container-id-9 {color: black;background-color: white;}#sk-container-id-9 pre{padding: 0;}#sk-container-id-9 div.sk-toggleable {background-color: white;}#sk-container-id-9 label.sk-toggleable__label {cursor: pointer;display: block;width: 100%;margin-bottom: 0;padding: 0.3em;box-sizing: border-box;text-align: center;}#sk-container-id-9 label.sk-toggleable__label-arrow:before {content: \"▸\";float: left;margin-right: 0.25em;color: #696969;}#sk-container-id-9 label.sk-toggleable__label-arrow:hover:before {color: black;}#sk-container-id-9 div.sk-estimator:hover label.sk-toggleable__label-arrow:before {color: black;}#sk-container-id-9 div.sk-toggleable__content {max-height: 0;max-width: 0;overflow: hidden;text-align: left;background-color: #f0f8ff;}#sk-container-id-9 div.sk-toggleable__content pre {margin: 0.2em;color: black;border-radius: 0.25em;background-color: #f0f8ff;}#sk-container-id-9 input.sk-toggleable__control:checked~div.sk-toggleable__content {max-height: 200px;max-width: 100%;overflow: auto;}#sk-container-id-9 input.sk-toggleable__control:checked~label.sk-toggleable__label-arrow:before {content: \"▾\";}#sk-container-id-9 div.sk-estimator input.sk-toggleable__control:checked~label.sk-toggleable__label {background-color: #d4ebff;}#sk-container-id-9 div.sk-label input.sk-toggleable__control:checked~label.sk-toggleable__label {background-color: #d4ebff;}#sk-container-id-9 input.sk-hidden--visually {border: 0;clip: rect(1px 1px 1px 1px);clip: rect(1px, 1px, 1px, 1px);height: 1px;margin: -1px;overflow: hidden;padding: 0;position: absolute;width: 1px;}#sk-container-id-9 div.sk-estimator {font-family: monospace;background-color: #f0f8ff;border: 1px dotted black;border-radius: 0.25em;box-sizing: border-box;margin-bottom: 0.5em;}#sk-container-id-9 div.sk-estimator:hover {background-color: #d4ebff;}#sk-container-id-9 div.sk-parallel-item::after {content: \"\";width: 100%;border-bottom: 1px solid gray;flex-grow: 1;}#sk-container-id-9 div.sk-label:hover label.sk-toggleable__label {background-color: #d4ebff;}#sk-container-id-9 div.sk-serial::before {content: \"\";position: absolute;border-left: 1px solid gray;box-sizing: border-box;top: 0;bottom: 0;left: 50%;z-index: 0;}#sk-container-id-9 div.sk-serial {display: flex;flex-direction: column;align-items: center;background-color: white;padding-right: 0.2em;padding-left: 0.2em;position: relative;}#sk-container-id-9 div.sk-item {position: relative;z-index: 1;}#sk-container-id-9 div.sk-parallel {display: flex;align-items: stretch;justify-content: center;background-color: white;position: relative;}#sk-container-id-9 div.sk-item::before, #sk-container-id-9 div.sk-parallel-item::before {content: \"\";position: absolute;border-left: 1px solid gray;box-sizing: border-box;top: 0;bottom: 0;left: 50%;z-index: -1;}#sk-container-id-9 div.sk-parallel-item {display: flex;flex-direction: column;z-index: 1;position: relative;background-color: white;}#sk-container-id-9 div.sk-parallel-item:first-child::after {align-self: flex-end;width: 50%;}#sk-container-id-9 div.sk-parallel-item:last-child::after {align-self: flex-start;width: 50%;}#sk-container-id-9 div.sk-parallel-item:only-child::after {width: 0;}#sk-container-id-9 div.sk-dashed-wrapped {border: 1px dashed gray;margin: 0 0.4em 0.5em 0.4em;box-sizing: border-box;padding-bottom: 0.4em;background-color: white;}#sk-container-id-9 div.sk-label label {font-family: monospace;font-weight: bold;display: inline-block;line-height: 1.2em;}#sk-container-id-9 div.sk-label-container {text-align: center;}#sk-container-id-9 div.sk-container {/* jupyter's `normalize.less` sets `[hidden] { display: none; }` but bootstrap.min.css set `[hidden] { display: none !important; }` so we also need the `!important` here to be able to override the default hidden behavior on the sphinx rendered scikit-learn.org. See: https://github.com/scikit-learn/scikit-learn/issues/21755 */display: inline-block !important;position: relative;}#sk-container-id-9 div.sk-text-repr-fallback {display: none;}</style><div id=\"sk-container-id-9\" class=\"sk-top-container\"><div class=\"sk-text-repr-fallback\"><pre>DecisionTreeClassifier(random_state=0)</pre><b>In a Jupyter environment, please rerun this cell to show the HTML representation or trust the notebook. <br />On GitHub, the HTML representation is unable to render, please try loading this page with nbviewer.org.</b></div><div class=\"sk-container\" hidden><div class=\"sk-item\"><div class=\"sk-estimator sk-toggleable\"><input class=\"sk-toggleable__control sk-hidden--visually\" id=\"sk-estimator-id-17\" type=\"checkbox\" checked><label for=\"sk-estimator-id-17\" class=\"sk-toggleable__label sk-toggleable__label-arrow\">DecisionTreeClassifier</label><div class=\"sk-toggleable__content\"><pre>DecisionTreeClassifier(random_state=0)</pre></div></div></div></div></div>"
      ],
      "text/plain": [
       "DecisionTreeClassifier(random_state=0)"
      ]
     },
     "execution_count": 543,
     "metadata": {},
     "output_type": "execute_result"
    }
   ],
   "source": [
    "clf_tree = DecisionTreeClassifier(max_depth=None, random_state=0)\n",
    "clf_tree.fit(x_train, y_train)"
   ]
  },
  {
   "cell_type": "code",
   "execution_count": 544,
   "id": "622232cc",
   "metadata": {},
   "outputs": [
    {
     "name": "stdout",
     "output_type": "stream",
     "text": [
      "Train accuracy: 1.0\n",
      "Test accuracy: 0.77\n"
     ]
    }
   ],
   "source": [
    "y_train_pred = clf_tree.predict(x_train)\n",
    "y_test_pred = clf_tree.predict(x_test)\n",
    "\n",
    "train_acc = accuracy_score(y_train, y_train_pred)\n",
    "test_acc = accuracy_score(y_test, y_test_pred)\n",
    "print(f\"Train accuracy: {train_acc:0.2}\")\n",
    "print(f\"Test accuracy: {test_acc:0.2}\")"
   ]
  },
  {
   "cell_type": "code",
   "execution_count": 545,
   "id": "bbc2d73e",
   "metadata": {
    "scrolled": true
   },
   "outputs": [
    {
     "name": "stdout",
     "output_type": "stream",
     "text": [
      "              precision    recall  f1-score   support\n",
      "\n",
      "           0       0.76      0.78      0.77       391\n",
      "           1       0.78      0.75      0.76       392\n",
      "\n",
      "    accuracy                           0.77       783\n",
      "   macro avg       0.77      0.77      0.77       783\n",
      "weighted avg       0.77      0.77      0.77       783\n",
      "\n"
     ]
    }
   ],
   "source": [
    "print(classification_report(y_test, y_test_pred))"
   ]
  },
  {
   "cell_type": "code",
   "execution_count": 546,
   "id": "49914ae5",
   "metadata": {},
   "outputs": [
    {
     "name": "stdout",
     "output_type": "stream",
     "text": [
      "True Negative: 306\n",
      "False Positive: 85\n",
      "False Negative: 97\n",
      "True Positive: 295\n"
     ]
    }
   ],
   "source": [
    "tn, fp, fn, tp = confusion_matrix(y_test, y_test_pred, labels=[0, 1]).ravel()\n",
    "\n",
    "print(f\"True Negative: {tn}\")\n",
    "print(f\"False Positive: {fp}\")\n",
    "print(f\"False Negative: {fn}\")\n",
    "print(f\"True Positive: {tp}\")"
   ]
  },
  {
   "cell_type": "code",
   "execution_count": 547,
   "id": "27a24502",
   "metadata": {
    "scrolled": true
   },
   "outputs": [
    {
     "data": {
      "image/png": "[encoded data removed]",
      "text/plain": [
       "<Figure size 504x360 with 2 Axes>"
      ]
     },
     "metadata": {
      "needs_background": "light"
     },
     "output_type": "display_data"
    }
   ],
   "source": [
    "plot_confusion_matrix(clf_tree, x_test, y_test, cmap=\"magma\");"
   ]
  },
  {
   "cell_type": "markdown",
   "id": "2ed7d10b",
   "metadata": {},
   "source": [
    "#### Buscamos mejores hyperparametros."
   ]
  },
  {
   "cell_type": "code",
   "execution_count": 548,
   "id": "204bd8a1",
   "metadata": {},
   "outputs": [],
   "source": [
    "param_grid = {\n",
    "    \"criterion\": [\"gini\", \"entropy\"],\n",
    "    \"max_depth\": [2, 4, 6, 8, 10],\n",
    "    \"min_samples_leaf\": [2, 4, 6],\n",
    "    \"random_state\": [0, 2, 4],\n",
    "}"
   ]
  },
  {
   "cell_type": "code",
   "execution_count": 549,
   "id": "ebf5dcb6",
   "metadata": {},
   "outputs": [],
   "source": [
    "for params in ParameterGrid(param_grid):\n",
    "    model = DecisionTreeClassifier(**params)"
   ]
  },
  {
   "cell_type": "code",
   "execution_count": 550,
   "id": "bfdb05c5",
   "metadata": {},
   "outputs": [
    {
     "data": {
      "text/html": [
       "<style>#sk-container-id-10 {color: black;background-color: white;}#sk-container-id-10 pre{padding: 0;}#sk-container-id-10 div.sk-toggleable {background-color: white;}#sk-container-id-10 label.sk-toggleable__label {cursor: pointer;display: block;width: 100%;margin-bottom: 0;padding: 0.3em;box-sizing: border-box;text-align: center;}#sk-container-id-10 label.sk-toggleable__label-arrow:before {content: \"▸\";float: left;margin-right: 0.25em;color: #696969;}#sk-container-id-10 label.sk-toggleable__label-arrow:hover:before {color: black;}#sk-container-id-10 div.sk-estimator:hover label.sk-toggleable__label-arrow:before {color: black;}#sk-container-id-10 div.sk-toggleable__content {max-height: 0;max-width: 0;overflow: hidden;text-align: left;background-color: #f0f8ff;}#sk-container-id-10 div.sk-toggleable__content pre {margin: 0.2em;color: black;border-radius: 0.25em;background-color: #f0f8ff;}#sk-container-id-10 input.sk-toggleable__control:checked~div.sk-toggleable__content {max-height: 200px;max-width: 100%;overflow: auto;}#sk-container-id-10 input.sk-toggleable__control:checked~label.sk-toggleable__label-arrow:before {content: \"▾\";}#sk-container-id-10 div.sk-estimator input.sk-toggleable__control:checked~label.sk-toggleable__label {background-color: #d4ebff;}#sk-container-id-10 div.sk-label input.sk-toggleable__control:checked~label.sk-toggleable__label {background-color: #d4ebff;}#sk-container-id-10 input.sk-hidden--visually {border: 0;clip: rect(1px 1px 1px 1px);clip: rect(1px, 1px, 1px, 1px);height: 1px;margin: -1px;overflow: hidden;padding: 0;position: absolute;width: 1px;}#sk-container-id-10 div.sk-estimator {font-family: monospace;background-color: #f0f8ff;border: 1px dotted black;border-radius: 0.25em;box-sizing: border-box;margin-bottom: 0.5em;}#sk-container-id-10 div.sk-estimator:hover {background-color: #d4ebff;}#sk-container-id-10 div.sk-parallel-item::after {content: \"\";width: 100%;border-bottom: 1px solid gray;flex-grow: 1;}#sk-container-id-10 div.sk-label:hover label.sk-toggleable__label {background-color: #d4ebff;}#sk-container-id-10 div.sk-serial::before {content: \"\";position: absolute;border-left: 1px solid gray;box-sizing: border-box;top: 0;bottom: 0;left: 50%;z-index: 0;}#sk-container-id-10 div.sk-serial {display: flex;flex-direction: column;align-items: center;background-color: white;padding-right: 0.2em;padding-left: 0.2em;position: relative;}#sk-container-id-10 div.sk-item {position: relative;z-index: 1;}#sk-container-id-10 div.sk-parallel {display: flex;align-items: stretch;justify-content: center;background-color: white;position: relative;}#sk-container-id-10 div.sk-item::before, #sk-container-id-10 div.sk-parallel-item::before {content: \"\";position: absolute;border-left: 1px solid gray;box-sizing: border-box;top: 0;bottom: 0;left: 50%;z-index: -1;}#sk-container-id-10 div.sk-parallel-item {display: flex;flex-direction: column;z-index: 1;position: relative;background-color: white;}#sk-container-id-10 div.sk-parallel-item:first-child::after {align-self: flex-end;width: 50%;}#sk-container-id-10 div.sk-parallel-item:last-child::after {align-self: flex-start;width: 50%;}#sk-container-id-10 div.sk-parallel-item:only-child::after {width: 0;}#sk-container-id-10 div.sk-dashed-wrapped {border: 1px dashed gray;margin: 0 0.4em 0.5em 0.4em;box-sizing: border-box;padding-bottom: 0.4em;background-color: white;}#sk-container-id-10 div.sk-label label {font-family: monospace;font-weight: bold;display: inline-block;line-height: 1.2em;}#sk-container-id-10 div.sk-label-container {text-align: center;}#sk-container-id-10 div.sk-container {/* jupyter's `normalize.less` sets `[hidden] { display: none; }` but bootstrap.min.css set `[hidden] { display: none !important; }` so we also need the `!important` here to be able to override the default hidden behavior on the sphinx rendered scikit-learn.org. See: https://github.com/scikit-learn/scikit-learn/issues/21755 */display: inline-block !important;position: relative;}#sk-container-id-10 div.sk-text-repr-fallback {display: none;}</style><div id=\"sk-container-id-10\" class=\"sk-top-container\"><div class=\"sk-text-repr-fallback\"><pre>GridSearchCV(cv=5, estimator=DecisionTreeClassifier(),\n",
       "             param_grid={&#x27;criterion&#x27;: [&#x27;gini&#x27;, &#x27;entropy&#x27;],\n",
       "                         &#x27;max_depth&#x27;: [2, 4, 6, 8, 10],\n",
       "                         &#x27;min_samples_leaf&#x27;: [2, 4, 6],\n",
       "                         &#x27;random_state&#x27;: [0, 2, 4]},\n",
       "             scoring=&#x27;accuracy&#x27;)</pre><b>In a Jupyter environment, please rerun this cell to show the HTML representation or trust the notebook. <br />On GitHub, the HTML representation is unable to render, please try loading this page with nbviewer.org.</b></div><div class=\"sk-container\" hidden><div class=\"sk-item sk-dashed-wrapped\"><div class=\"sk-label-container\"><div class=\"sk-label sk-toggleable\"><input class=\"sk-toggleable__control sk-hidden--visually\" id=\"sk-estimator-id-18\" type=\"checkbox\" ><label for=\"sk-estimator-id-18\" class=\"sk-toggleable__label sk-toggleable__label-arrow\">GridSearchCV</label><div class=\"sk-toggleable__content\"><pre>GridSearchCV(cv=5, estimator=DecisionTreeClassifier(),\n",
       "             param_grid={&#x27;criterion&#x27;: [&#x27;gini&#x27;, &#x27;entropy&#x27;],\n",
       "                         &#x27;max_depth&#x27;: [2, 4, 6, 8, 10],\n",
       "                         &#x27;min_samples_leaf&#x27;: [2, 4, 6],\n",
       "                         &#x27;random_state&#x27;: [0, 2, 4]},\n",
       "             scoring=&#x27;accuracy&#x27;)</pre></div></div></div><div class=\"sk-parallel\"><div class=\"sk-parallel-item\"><div class=\"sk-item\"><div class=\"sk-label-container\"><div class=\"sk-label sk-toggleable\"><input class=\"sk-toggleable__control sk-hidden--visually\" id=\"sk-estimator-id-19\" type=\"checkbox\" ><label for=\"sk-estimator-id-19\" class=\"sk-toggleable__label sk-toggleable__label-arrow\">estimator: DecisionTreeClassifier</label><div class=\"sk-toggleable__content\"><pre>DecisionTreeClassifier()</pre></div></div></div><div class=\"sk-serial\"><div class=\"sk-item\"><div class=\"sk-estimator sk-toggleable\"><input class=\"sk-toggleable__control sk-hidden--visually\" id=\"sk-estimator-id-20\" type=\"checkbox\" ><label for=\"sk-estimator-id-20\" class=\"sk-toggleable__label sk-toggleable__label-arrow\">DecisionTreeClassifier</label><div class=\"sk-toggleable__content\"><pre>DecisionTreeClassifier()</pre></div></div></div></div></div></div></div></div></div></div>"
      ],
      "text/plain": [
       "GridSearchCV(cv=5, estimator=DecisionTreeClassifier(),\n",
       "             param_grid={'criterion': ['gini', 'entropy'],\n",
       "                         'max_depth': [2, 4, 6, 8, 10],\n",
       "                         'min_samples_leaf': [2, 4, 6],\n",
       "                         'random_state': [0, 2, 4]},\n",
       "             scoring='accuracy')"
      ]
     },
     "execution_count": 550,
     "metadata": {},
     "output_type": "execute_result"
    }
   ],
   "source": [
    "model = DecisionTreeClassifier()\n",
    "\n",
    "cv = GridSearchCV(model, param_grid, scoring=\"accuracy\", cv=5)\n",
    "cv.fit(x_train, y_train)"
   ]
  },
  {
   "cell_type": "code",
   "execution_count": 551,
   "id": "b088f3e0",
   "metadata": {},
   "outputs": [
    {
     "name": "stdout",
     "output_type": "stream",
     "text": [
      "crit.\tdepth\t| mean\tstd\trank\n",
      "gini\t2\t| 0.72\t0.01\t73\n",
      "gini\t2\t| 0.72\t0.01\t73\n",
      "gini\t2\t| 0.72\t0.01\t73\n",
      "gini\t2\t| 0.72\t0.01\t73\n",
      "gini\t2\t| 0.72\t0.01\t73\n",
      "gini\t2\t| 0.72\t0.01\t73\n",
      "gini\t2\t| 0.72\t0.01\t73\n",
      "gini\t2\t| 0.72\t0.01\t73\n",
      "gini\t2\t| 0.72\t0.01\t73\n",
      "gini\t4\t| 0.76\t0.01\t55\n",
      "gini\t4\t| 0.76\t0.01\t55\n",
      "gini\t4\t| 0.76\t0.01\t55\n",
      "gini\t4\t| 0.76\t0.01\t61\n",
      "gini\t4\t| 0.76\t0.01\t61\n",
      "gini\t4\t| 0.76\t0.01\t61\n",
      "gini\t4\t| 0.76\t0.01\t55\n",
      "gini\t4\t| 0.76\t0.01\t55\n",
      "gini\t4\t| 0.76\t0.01\t55\n",
      "gini\t6\t| 0.77\t0.01\t30\n",
      "gini\t6\t| 0.77\t0.01\t33\n",
      "gini\t6\t| 0.77\t0.01\t32\n",
      "gini\t6\t| 0.77\t0.02\t36\n",
      "gini\t6\t| 0.77\t0.02\t36\n",
      "gini\t6\t| 0.77\t0.02\t35\n",
      "gini\t6\t| 0.77\t0.01\t27\n",
      "gini\t6\t| 0.77\t0.01\t27\n",
      "gini\t6\t| 0.77\t0.01\t27\n",
      "gini\t8\t| 0.77\t0.01\t13\n",
      "gini\t8\t| 0.77\t0.01\t25\n",
      "gini\t8\t| 0.77\t0.01\t10\n",
      "gini\t8\t| 0.77\t0.01\t44\n",
      "gini\t8\t| 0.77\t0.01\t46\n",
      "gini\t8\t| 0.77\t0.01\t40\n",
      "gini\t8\t| 0.77\t0.02\t43\n",
      "gini\t8\t| 0.77\t0.01\t41\n",
      "gini\t8\t| 0.77\t0.01\t42\n",
      "gini\t10\t| 0.77\t0.01\t1\n",
      "gini\t10\t| 0.77\t0.01\t9\n",
      "gini\t10\t| 0.77\t0.01\t7\n",
      "gini\t10\t| 0.77\t0.01\t1\n",
      "gini\t10\t| 0.77\t0.01\t3\n",
      "gini\t10\t| 0.77\t0.01\t8\n",
      "gini\t10\t| 0.77\t0.01\t54\n",
      "gini\t10\t| 0.77\t0.01\t50\n",
      "gini\t10\t| 0.77\t0.01\t53\n",
      "entropy\t2\t| 0.72\t0.01\t73\n",
      "entropy\t2\t| 0.72\t0.01\t73\n",
      "entropy\t2\t| 0.72\t0.01\t73\n",
      "entropy\t2\t| 0.72\t0.01\t73\n",
      "entropy\t2\t| 0.72\t0.01\t73\n",
      "entropy\t2\t| 0.72\t0.01\t73\n",
      "entropy\t2\t| 0.72\t0.01\t73\n",
      "entropy\t2\t| 0.72\t0.01\t73\n",
      "entropy\t2\t| 0.72\t0.01\t73\n",
      "entropy\t4\t| 0.76\t0.01\t64\n",
      "entropy\t4\t| 0.76\t0.01\t64\n",
      "entropy\t4\t| 0.76\t0.01\t64\n",
      "entropy\t4\t| 0.76\t0.01\t70\n",
      "entropy\t4\t| 0.76\t0.01\t70\n",
      "entropy\t4\t| 0.76\t0.01\t70\n",
      "entropy\t4\t| 0.76\t0.01\t64\n",
      "entropy\t4\t| 0.76\t0.01\t64\n",
      "entropy\t4\t| 0.76\t0.01\t64\n",
      "entropy\t6\t| 0.77\t0.01\t12\n",
      "entropy\t6\t| 0.77\t0.01\t13\n",
      "entropy\t6\t| 0.77\t0.01\t13\n",
      "entropy\t6\t| 0.77\t0.01\t13\n",
      "entropy\t6\t| 0.77\t0.01\t22\n",
      "entropy\t6\t| 0.77\t0.01\t22\n",
      "entropy\t6\t| 0.77\t0.01\t4\n",
      "entropy\t6\t| 0.77\t0.01\t4\n",
      "entropy\t6\t| 0.77\t0.01\t4\n",
      "entropy\t8\t| 0.77\t0.01\t34\n",
      "entropy\t8\t| 0.77\t0.01\t39\n",
      "entropy\t8\t| 0.77\t0.01\t38\n",
      "entropy\t8\t| 0.77\t0.01\t31\n",
      "entropy\t8\t| 0.77\t0.01\t22\n",
      "entropy\t8\t| 0.77\t0.01\t13\n",
      "entropy\t8\t| 0.77\t0.01\t20\n",
      "entropy\t8\t| 0.77\t0.01\t11\n",
      "entropy\t8\t| 0.77\t0.01\t20\n",
      "entropy\t10\t| 0.77\t0.01\t13\n",
      "entropy\t10\t| 0.77\t0.01\t13\n",
      "entropy\t10\t| 0.77\t0.01\t25\n",
      "entropy\t10\t| 0.77\t0.01\t47\n",
      "entropy\t10\t| 0.77\t0.01\t44\n",
      "entropy\t10\t| 0.77\t0.01\t48\n",
      "entropy\t10\t| 0.77\t0.01\t51\n",
      "entropy\t10\t| 0.77\t0.01\t49\n",
      "entropy\t10\t| 0.77\t0.01\t52\n"
     ]
    }
   ],
   "source": [
    "results = cv.cv_results_\n",
    "params = results[\"params\"]\n",
    "mean = results[\"mean_test_score\"]\n",
    "std = results[\"std_test_score\"]\n",
    "rank = results[\"rank_test_score\"]\n",
    "\n",
    "print(\"crit.\\tdepth\\t| mean\\tstd\\trank\")\n",
    "for p, m, s, r in zip(params, mean, std, rank):\n",
    "    print(f\"{p['criterion']}\\t{p['max_depth']}\\t| {m:0.2f}\\t{s:0.2f}\\t{r}\")"
   ]
  },
  {
   "cell_type": "code",
   "execution_count": 552,
   "id": "fdb7e35f",
   "metadata": {},
   "outputs": [
    {
     "data": {
      "text/html": [
       "<div>\n",
       "<style scoped>\n",
       "    .dataframe tbody tr th:only-of-type {\n",
       "        vertical-align: middle;\n",
       "    }\n",
       "\n",
       "    .dataframe tbody tr th {\n",
       "        vertical-align: top;\n",
       "    }\n",
       "\n",
       "    .dataframe thead th {\n",
       "        text-align: right;\n",
       "    }\n",
       "</style>\n",
       "<table border=\"1\" class=\"dataframe\">\n",
       "  <thead>\n",
       "    <tr style=\"text-align: right;\">\n",
       "      <th></th>\n",
       "      <th>param_criterion</th>\n",
       "      <th>param_max_depth</th>\n",
       "      <th>mean_test_score</th>\n",
       "      <th>std_test_score</th>\n",
       "      <th>rank_test_score</th>\n",
       "    </tr>\n",
       "  </thead>\n",
       "  <tbody>\n",
       "    <tr>\n",
       "      <th>36</th>\n",
       "      <td>gini</td>\n",
       "      <td>10</td>\n",
       "      <td>0.774432</td>\n",
       "      <td>0.006791</td>\n",
       "      <td>1</td>\n",
       "    </tr>\n",
       "    <tr>\n",
       "      <th>39</th>\n",
       "      <td>gini</td>\n",
       "      <td>10</td>\n",
       "      <td>0.774432</td>\n",
       "      <td>0.006656</td>\n",
       "      <td>1</td>\n",
       "    </tr>\n",
       "    <tr>\n",
       "      <th>40</th>\n",
       "      <td>gini</td>\n",
       "      <td>10</td>\n",
       "      <td>0.774148</td>\n",
       "      <td>0.005976</td>\n",
       "      <td>3</td>\n",
       "    </tr>\n",
       "    <tr>\n",
       "      <th>71</th>\n",
       "      <td>entropy</td>\n",
       "      <td>6</td>\n",
       "      <td>0.774006</td>\n",
       "      <td>0.009501</td>\n",
       "      <td>4</td>\n",
       "    </tr>\n",
       "    <tr>\n",
       "      <th>70</th>\n",
       "      <td>entropy</td>\n",
       "      <td>6</td>\n",
       "      <td>0.774006</td>\n",
       "      <td>0.009501</td>\n",
       "      <td>4</td>\n",
       "    </tr>\n",
       "    <tr>\n",
       "      <th>...</th>\n",
       "      <td>...</td>\n",
       "      <td>...</td>\n",
       "      <td>...</td>\n",
       "      <td>...</td>\n",
       "      <td>...</td>\n",
       "    </tr>\n",
       "    <tr>\n",
       "      <th>49</th>\n",
       "      <td>entropy</td>\n",
       "      <td>2</td>\n",
       "      <td>0.716193</td>\n",
       "      <td>0.007916</td>\n",
       "      <td>73</td>\n",
       "    </tr>\n",
       "    <tr>\n",
       "      <th>50</th>\n",
       "      <td>entropy</td>\n",
       "      <td>2</td>\n",
       "      <td>0.716193</td>\n",
       "      <td>0.007916</td>\n",
       "      <td>73</td>\n",
       "    </tr>\n",
       "    <tr>\n",
       "      <th>51</th>\n",
       "      <td>entropy</td>\n",
       "      <td>2</td>\n",
       "      <td>0.716193</td>\n",
       "      <td>0.007916</td>\n",
       "      <td>73</td>\n",
       "    </tr>\n",
       "    <tr>\n",
       "      <th>52</th>\n",
       "      <td>entropy</td>\n",
       "      <td>2</td>\n",
       "      <td>0.716193</td>\n",
       "      <td>0.007916</td>\n",
       "      <td>73</td>\n",
       "    </tr>\n",
       "    <tr>\n",
       "      <th>0</th>\n",
       "      <td>gini</td>\n",
       "      <td>2</td>\n",
       "      <td>0.716193</td>\n",
       "      <td>0.007916</td>\n",
       "      <td>73</td>\n",
       "    </tr>\n",
       "  </tbody>\n",
       "</table>\n",
       "<p>90 rows × 5 columns</p>\n",
       "</div>"
      ],
      "text/plain": [
       "   param_criterion param_max_depth  mean_test_score  std_test_score  \\\n",
       "36            gini              10         0.774432        0.006791   \n",
       "39            gini              10         0.774432        0.006656   \n",
       "40            gini              10         0.774148        0.005976   \n",
       "71         entropy               6         0.774006        0.009501   \n",
       "70         entropy               6         0.774006        0.009501   \n",
       "..             ...             ...              ...             ...   \n",
       "49         entropy               2         0.716193        0.007916   \n",
       "50         entropy               2         0.716193        0.007916   \n",
       "51         entropy               2         0.716193        0.007916   \n",
       "52         entropy               2         0.716193        0.007916   \n",
       "0             gini               2         0.716193        0.007916   \n",
       "\n",
       "    rank_test_score  \n",
       "36                1  \n",
       "39                1  \n",
       "40                3  \n",
       "71                4  \n",
       "70                4  \n",
       "..              ...  \n",
       "49               73  \n",
       "50               73  \n",
       "51               73  \n",
       "52               73  \n",
       "0                73  \n",
       "\n",
       "[90 rows x 5 columns]"
      ]
     },
     "execution_count": 552,
     "metadata": {},
     "output_type": "execute_result"
    }
   ],
   "source": [
    "df = pd.DataFrame(results)\n",
    "df = df[\n",
    "    [\n",
    "        \"param_criterion\",\n",
    "        \"param_max_depth\",\n",
    "        \"mean_test_score\",\n",
    "        \"std_test_score\",\n",
    "        \"rank_test_score\",\n",
    "    ]\n",
    "]\n",
    "df = df.sort_values(by=\"rank_test_score\")\n",
    "df"
   ]
  },
  {
   "cell_type": "code",
   "execution_count": 553,
   "id": "71282b3d",
   "metadata": {},
   "outputs": [
    {
     "data": {
      "text/plain": [
       "{'criterion': 'gini',\n",
       " 'max_depth': 10,\n",
       " 'min_samples_leaf': 2,\n",
       " 'random_state': 0}"
      ]
     },
     "execution_count": 553,
     "metadata": {},
     "output_type": "execute_result"
    }
   ],
   "source": [
    "cv.best_params_"
   ]
  },
  {
   "cell_type": "code",
   "execution_count": 554,
   "id": "fe0d60c0",
   "metadata": {},
   "outputs": [
    {
     "data": {
      "image/png": "[encoded data removed]",
      "text/plain": [
       "<Figure size 504x360 with 1 Axes>"
      ]
     },
     "metadata": {
      "needs_background": "light"
     },
     "output_type": "display_data"
    }
   ],
   "source": [
    "best_model = cv.best_estimator_\n",
    "plot_tree(best_model);"
   ]
  },
  {
   "cell_type": "code",
   "execution_count": 555,
   "id": "88065551",
   "metadata": {},
   "outputs": [],
   "source": [
    "y_train_pred = best_model.predict(x_train)\n",
    "y_test_pred = best_model.predict(x_test)"
   ]
  },
  {
   "cell_type": "code",
   "execution_count": 556,
   "id": "45b79b66",
   "metadata": {},
   "outputs": [
    {
     "name": "stdout",
     "output_type": "stream",
     "text": [
      "Train accuracy: 0.84\n",
      "Test accuracy: 0.789\n"
     ]
    }
   ],
   "source": [
    "train_acc = accuracy_score(y_train, y_train_pred)\n",
    "test_acc = accuracy_score(y_test, y_test_pred)\n",
    "print(f\"Train accuracy: {train_acc:0.2}\")\n",
    "print(f\"Test accuracy: {test_acc:0.3}\")"
   ]
  },
  {
   "cell_type": "markdown",
   "id": "2f20b975",
   "metadata": {},
   "source": [
    ">Mejoramos un poquito el accuracy del test en relacion al modelo del Baseline."
   ]
  },
  {
   "cell_type": "code",
   "execution_count": 557,
   "id": "34d5b1f9",
   "metadata": {},
   "outputs": [
    {
     "name": "stdout",
     "output_type": "stream",
     "text": [
      "              precision    recall  f1-score   support\n",
      "\n",
      "           0       0.81      0.87      0.84      3468\n",
      "           1       0.86      0.81      0.83      3572\n",
      "\n",
      "    accuracy                           0.84      7040\n",
      "   macro avg       0.84      0.84      0.84      7040\n",
      "weighted avg       0.84      0.84      0.84      7040\n",
      "\n"
     ]
    }
   ],
   "source": [
    "print(classification_report(y_train, y_train_pred))"
   ]
  },
  {
   "cell_type": "code",
   "execution_count": 558,
   "id": "151fd277",
   "metadata": {},
   "outputs": [
    {
     "name": "stdout",
     "output_type": "stream",
     "text": [
      "              precision    recall  f1-score   support\n",
      "\n",
      "           0       0.75      0.86      0.80       391\n",
      "           1       0.84      0.72      0.77       392\n",
      "\n",
      "    accuracy                           0.79       783\n",
      "   macro avg       0.80      0.79      0.79       783\n",
      "weighted avg       0.80      0.79      0.79       783\n",
      "\n"
     ]
    }
   ],
   "source": [
    "print(classification_report(y_test, y_test_pred))"
   ]
  },
  {
   "cell_type": "code",
   "execution_count": 559,
   "id": "38fb1509",
   "metadata": {},
   "outputs": [
    {
     "name": "stdout",
     "output_type": "stream",
     "text": [
      "True Negative: 336\n",
      "False Positive: 55\n",
      "False Negative: 110\n",
      "True Positive: 282\n"
     ]
    }
   ],
   "source": [
    "tn, fp, fn, tp = confusion_matrix(y_test, y_test_pred, labels=[0, 1]).ravel()\n",
    "\n",
    "print(f\"True Negative: {tn}\")\n",
    "print(f\"False Positive: {fp}\")\n",
    "print(f\"False Negative: {fn}\")\n",
    "print(f\"True Positive: {tp}\")"
   ]
  },
  {
   "cell_type": "code",
   "execution_count": 560,
   "id": "5cd54969",
   "metadata": {},
   "outputs": [
    {
     "data": {
      "image/png": "[encoded data removed]",
      "text/plain": [
       "<Figure size 504x360 with 2 Axes>"
      ]
     },
     "metadata": {
      "needs_background": "light"
     },
     "output_type": "display_data"
    }
   ],
   "source": [
    "plot_confusion_matrix(best_model, x_test, y_test, cmap=\"magma\");"
   ]
  },
  {
   "cell_type": "markdown",
   "id": "8bf21f91",
   "metadata": {},
   "source": [
    "### Podemos concluir provisoriamente que el arbol de decisiones no es el mejor modelo predictivo para este conjunto de datos. "
   ]
  },
  {
   "cell_type": "code",
   "execution_count": null,
   "id": "ae660a34",
   "metadata": {},
   "outputs": [],
   "source": []
  },
  {
   "cell_type": "code",
   "execution_count": 561,
   "id": "55f36334",
   "metadata": {},
   "outputs": [
    {
     "name": "stdout",
     "output_type": "stream",
     "text": [
      "Arbol de decisión\n",
      "Accuracy train Arbol de decisión: 99.94%\n",
      "Accuracy test Arbol de decisión: 76.76%\n",
      "Random Forest\n",
      "Accuracy train Random Forest: 99.91%\n",
      "Accuracy test Random Forest: 82.12%\n",
      "Regresión Logística\n",
      "Accuracy train Regresión Logística: 78.65%\n",
      "Accuracy test Regresión Logística: 80.84%\n",
      "Perceptrón multicapa\n",
      "Accuracy train Perceptrón multicapa: 83.11%\n",
      "Accuracy test Perceptrón multicapa: 82.76%\n",
      "XGBoost\n",
      "Accuracy train XGBoost: 93.18%\n",
      "Accuracy test XGBoost: 81.23%\n",
      "Naive Bayes\n",
      "Accuracy train Naive Bayes: 74.43%\n",
      "Accuracy test Naive Bayes: 77.39%\n",
      "SVM\n",
      "Accuracy train SVM: 78.58%\n",
      "Accuracy test SVM: 80.33%\n"
     ]
    }
   ],
   "source": [
    "from sklearn.model_selection import cross_val_score, cross_validate, KFold, StratifiedKFold, LeaveOneOut, LeavePOut\n",
    "from sklearn.metrics import recall_score, accuracy_score, precision_score, f1_score, roc_auc_score, mean_squared_error, r2_score, confusion_matrix, classification_report, ConfusionMatrixDisplay\n",
    "\n",
    "from sklearn.tree import DecisionTreeClassifier\n",
    "from sklearn.ensemble import RandomForestClassifier\n",
    "from sklearn.linear_model import LogisticRegression\n",
    "from sklearn.neural_network import MLPClassifier\n",
    "from sklearn.neural_network import MLPRegressor\n",
    "from xgboost import XGBClassifier\n",
    "from sklearn.naive_bayes import GaussianNB\n",
    "from sklearn.svm import LinearSVC\n",
    "\n",
    "\n",
    "clfs =  [DecisionTreeClassifier(),\n",
    "        RandomForestClassifier(),\n",
    "        LogisticRegression(),\n",
    "        MLPClassifier(),\n",
    "        XGBClassifier(),\n",
    "        GaussianNB(),\n",
    "        LinearSVC(),\n",
    "        ]\n",
    "\n",
    "names = ['Arbol de decisión',\n",
    "        'Random Forest',\n",
    "        'Regresión Logística',\n",
    "        'Perceptrón multicapa',\n",
    "        'XGBoost',\n",
    "        'Naive Bayes',\n",
    "        'SVM',\n",
    "        ]\n",
    "\n",
    "trained_models = []\n",
    "accuracy_models = []\n",
    "for clf, name in zip(clfs, names):\n",
    "    print(name)\n",
    "    clf.fit(x_train, y_train)\n",
    "    train_predictions = clf.predict(x_train)\n",
    "    accuracy = accuracy_score(y_train, train_predictions)\n",
    "    print(f\"Accuracy train {name}: %.2f%%\" % (accuracy * 100.0))\n",
    "\n",
    "    test_predictions = clf.predict(x_test)\n",
    "    accuracy = accuracy_score(y_test, test_predictions)\n",
    "    print(f\"Accuracy test {name}: %.2f%%\" % (accuracy * 100.0))\n",
    "    trained_models.append(clf)    \n",
    "    accuracy_models.append(accuracy)"
   ]
  },
  {
   "cell_type": "code",
   "execution_count": null,
   "id": "66aea1aa",
   "metadata": {},
   "outputs": [],
   "source": []
  },
  {
   "cell_type": "markdown",
   "id": "5725af51",
   "metadata": {},
   "source": [
    "## XG BOOST"
   ]
  },
  {
   "cell_type": "code",
   "execution_count": 579,
   "id": "445588e3",
   "metadata": {},
   "outputs": [],
   "source": [
    "import xgboost as xgb"
   ]
  },
  {
   "cell_type": "code",
   "execution_count": 576,
   "id": "44a28f75",
   "metadata": {},
   "outputs": [],
   "source": [
    "x_train, x_test, y_train, y_test = train_test_split(X, y, train_size=0.9, random_state = 0\n",
    "                                                   )"
   ]
  },
  {
   "cell_type": "markdown",
   "id": "ca852495",
   "metadata": {},
   "source": [
    "**binary:hinge:** hinge loss for binary classification. This makes predictions of 0 or 1, rather than producing probabilities.  "
   ]
  },
  {
   "cell_type": "code",
   "execution_count": 577,
   "id": "8789bdc1",
   "metadata": {
    "scrolled": true
   },
   "outputs": [
    {
     "name": "stdout",
     "output_type": "stream",
     "text": [
      "Train Accuracy de XGBoost:  0.8545454545454545\n",
      "Test Accuracy de XGBoost:  0.8199233716475096\n"
     ]
    }
   ],
   "source": [
    "clf_xgb = xgb.XGBClassifier(objective= 'binary:hinge',\n",
    "                            n_estimators= 29,\n",
    "                            max_leaves= 60,\n",
    "                            max_depth= 6,\n",
    "                            random_state = 1,\n",
    "                            tree_method= 'approx'\n",
    "                           )\n",
    "\n",
    "clf_xgb.fit(x_train, y_train)\n",
    "preds_xgb_train = clf_xgb.predict(x_train)\n",
    "preds_xgb_test = clf_xgb.predict(x_test)\n",
    "\n",
    "accuracy_xgb_train = float(np.sum(preds_xgb_train == y_train))/y_train.shape[0]\n",
    "print('Train Accuracy de XGBoost: ', accuracy_xgb_train)\n",
    "\n",
    "accuracy_xgb_test = float(np.sum(preds_xgb_test == y_test))/y_test.shape[0]\n",
    "print('Test Accuracy de XGBoost: ', accuracy_xgb_test)\n"
   ]
  },
  {
   "cell_type": "code",
   "execution_count": 578,
   "id": "fcd664cf",
   "metadata": {},
   "outputs": [
    {
     "data": {
      "image/png": "[encoded data removed]",
      "text/plain": [
       "<Figure size 504x360 with 2 Axes>"
      ]
     },
     "metadata": {
      "needs_background": "light"
     },
     "output_type": "display_data"
    }
   ],
   "source": [
    "plot_confusion_matrix(clf_xgb, x_test, y_test, cmap=\"magma\");"
   ]
  },
  {
   "cell_type": "code",
   "execution_count": null,
   "id": "acb19acf",
   "metadata": {},
   "outputs": [],
   "source": []
  },
  {
   "cell_type": "code",
   "execution_count": null,
   "id": "8897161a",
   "metadata": {},
   "outputs": [],
   "source": []
  }
 ],
 "metadata": {
  "kernelspec": {
   "display_name": "Python 3 (ipykernel)",
   "language": "python",
   "name": "python3"
  },
  "language_info": {
   "codemirror_mode": {
    "name": "ipython",
    "version": 3
   },
   "file_extension": ".py",
   "mimetype": "text/x-python",
   "name": "python",
   "nbconvert_exporter": "python",
   "pygments_lexer": "ipython3",
   "version": "3.9.13"
  }
 },
 "nbformat": 4,
 "nbformat_minor": 5
}
