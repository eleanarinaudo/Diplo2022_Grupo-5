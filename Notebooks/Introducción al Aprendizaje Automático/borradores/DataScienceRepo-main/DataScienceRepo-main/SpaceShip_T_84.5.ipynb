{
 "cells": [
  {
   "cell_type": "markdown",
   "id": "3e3b594b",
   "metadata": {},
   "source": [
    "# Spaceship Titanic 🚀"
   ]
  },
  {
   "cell_type": "markdown",
   "id": "df225e01",
   "metadata": {},
   "source": [
    "<div align=\"center\">\n",
    "    <img src='https://pic2.zhimg.com/v2-768b110090ef51c582c2f846adcb689a_r.jpg?source=172ae18b' style='height:100px;'>\n",
    "</div>\n"
   ]
  },
  {
   "cell_type": "markdown",
   "id": "49892659",
   "metadata": {},
   "source": [
    "## Diplomatura en Ciencia de Datos, Aprendizaje Automático y sus Aplicaciones "
   ]
  },
  {
   "cell_type": "markdown",
   "id": "7acf2e87",
   "metadata": {},
   "source": [
    "## Aprendizaje Supervisado"
   ]
  },
  {
   "cell_type": "markdown",
   "id": "3181888b",
   "metadata": {},
   "source": [
    "**Grupo 5  \n",
    "Integrantes:**\n",
    "\n",
    "    Argüello, Leandro Ismael\n",
    "    Corral, Diego\n",
    "    Racciatti, Florencia\n",
    "    Rinaudo, Eleana\n",
    "    Romero, Ernesto"
   ]
  },
  {
   "cell_type": "markdown",
   "id": "671b7590",
   "metadata": {},
   "source": [
    ">#### Se busca realizar la prediccion de cuantos pasajeros fueron transportados a otra dimension cuando la nave accidentalmente ingreso a la anomalia espacio-temporal.<<<"
   ]
  },
  {
   "cell_type": "code",
   "execution_count": 71,
   "id": "69930f80",
   "metadata": {},
   "outputs": [],
   "source": [
    "import numpy as np\n",
    "import pandas as pd\n",
    "import seaborn as sns\n",
    "sns.set_context('talk')\n",
    "import warnings\n",
    "warnings.filterwarnings('ignore')\n",
    "\n",
    "from sklearn.metrics import (\n",
    "    accuracy_score,\n",
    "    precision_score,\n",
    "    recall_score,\n",
    "    f1_score,\n",
    "    confusion_matrix,\n",
    "    plot_confusion_matrix,\n",
    "    classification_report,\n",
    ")\n",
    "from sklearn.model_selection import (\n",
    "    train_test_split,\n",
    "    ParameterSampler,\n",
    "    RandomizedSearchCV,\n",
    "    ParameterGrid,\n",
    "    GridSearchCV,\n",
    ")"
   ]
  },
  {
   "cell_type": "markdown",
   "id": "66e6a425",
   "metadata": {},
   "source": [
    "#### Carga de datos de train"
   ]
  },
  {
   "cell_type": "code",
   "execution_count": 72,
   "id": "1a9e151a",
   "metadata": {
    "scrolled": false
   },
   "outputs": [
    {
     "name": "stdout",
     "output_type": "stream",
     "text": [
      "(7823, 14)\n"
     ]
    },
    {
     "data": {
      "text/html": [
       "<div>\n",
       "<style scoped>\n",
       "    .dataframe tbody tr th:only-of-type {\n",
       "        vertical-align: middle;\n",
       "    }\n",
       "\n",
       "    .dataframe tbody tr th {\n",
       "        vertical-align: top;\n",
       "    }\n",
       "\n",
       "    .dataframe thead th {\n",
       "        text-align: right;\n",
       "    }\n",
       "</style>\n",
       "<table border=\"1\" class=\"dataframe\">\n",
       "  <thead>\n",
       "    <tr style=\"text-align: right;\">\n",
       "      <th></th>\n",
       "      <th>PassengerId</th>\n",
       "      <th>HomePlanet</th>\n",
       "      <th>CryoSleep</th>\n",
       "      <th>Cabin</th>\n",
       "      <th>Destination</th>\n",
       "      <th>Age</th>\n",
       "      <th>VIP</th>\n",
       "      <th>RoomService</th>\n",
       "      <th>FoodCourt</th>\n",
       "      <th>ShoppingMall</th>\n",
       "      <th>Spa</th>\n",
       "      <th>VRDeck</th>\n",
       "      <th>Name</th>\n",
       "      <th>Transported</th>\n",
       "    </tr>\n",
       "  </thead>\n",
       "  <tbody>\n",
       "    <tr>\n",
       "      <th>0</th>\n",
       "      <td>3430</td>\n",
       "      <td>Europa</td>\n",
       "      <td>False</td>\n",
       "      <td>C/123/P</td>\n",
       "      <td>TRAPPIST-1e</td>\n",
       "      <td>57.0</td>\n",
       "      <td>False</td>\n",
       "      <td>0.0</td>\n",
       "      <td>3859.0</td>\n",
       "      <td>13.0</td>\n",
       "      <td>195.0</td>\n",
       "      <td>3874.0</td>\n",
       "      <td>Azhah Tronsive</td>\n",
       "      <td>0</td>\n",
       "    </tr>\n",
       "    <tr>\n",
       "      <th>1</th>\n",
       "      <td>669</td>\n",
       "      <td>Mars</td>\n",
       "      <td>True</td>\n",
       "      <td>F/126/S</td>\n",
       "      <td>NaN</td>\n",
       "      <td>18.0</td>\n",
       "      <td>False</td>\n",
       "      <td>0.0</td>\n",
       "      <td>0.0</td>\n",
       "      <td>0.0</td>\n",
       "      <td>0.0</td>\n",
       "      <td>0.0</td>\n",
       "      <td>Roswal Sha</td>\n",
       "      <td>1</td>\n",
       "    </tr>\n",
       "    <tr>\n",
       "      <th>2</th>\n",
       "      <td>8430</td>\n",
       "      <td>Europa</td>\n",
       "      <td>True</td>\n",
       "      <td>B/343/S</td>\n",
       "      <td>TRAPPIST-1e</td>\n",
       "      <td>33.0</td>\n",
       "      <td>NaN</td>\n",
       "      <td>0.0</td>\n",
       "      <td>0.0</td>\n",
       "      <td>0.0</td>\n",
       "      <td>0.0</td>\n",
       "      <td>0.0</td>\n",
       "      <td>Shaiam Tinganking</td>\n",
       "      <td>1</td>\n",
       "    </tr>\n",
       "    <tr>\n",
       "      <th>3</th>\n",
       "      <td>6463</td>\n",
       "      <td>Earth</td>\n",
       "      <td>False</td>\n",
       "      <td>F/1420/P</td>\n",
       "      <td>TRAPPIST-1e</td>\n",
       "      <td>43.0</td>\n",
       "      <td>False</td>\n",
       "      <td>142.0</td>\n",
       "      <td>1208.0</td>\n",
       "      <td>0.0</td>\n",
       "      <td>0.0</td>\n",
       "      <td>204.0</td>\n",
       "      <td>Landa Grifford</td>\n",
       "      <td>0</td>\n",
       "    </tr>\n",
       "    <tr>\n",
       "      <th>4</th>\n",
       "      <td>85</td>\n",
       "      <td>Earth</td>\n",
       "      <td>False</td>\n",
       "      <td>G/9/P</td>\n",
       "      <td>TRAPPIST-1e</td>\n",
       "      <td>19.0</td>\n",
       "      <td>False</td>\n",
       "      <td>0.0</td>\n",
       "      <td>0.0</td>\n",
       "      <td>670.0</td>\n",
       "      <td>1.0</td>\n",
       "      <td>34.0</td>\n",
       "      <td>Gracy Dunnisey</td>\n",
       "      <td>0</td>\n",
       "    </tr>\n",
       "  </tbody>\n",
       "</table>\n",
       "</div>"
      ],
      "text/plain": [
       "   PassengerId HomePlanet CryoSleep     Cabin  Destination   Age    VIP  \\\n",
       "0         3430     Europa     False   C/123/P  TRAPPIST-1e  57.0  False   \n",
       "1          669       Mars      True   F/126/S          NaN  18.0  False   \n",
       "2         8430     Europa      True   B/343/S  TRAPPIST-1e  33.0    NaN   \n",
       "3         6463      Earth     False  F/1420/P  TRAPPIST-1e  43.0  False   \n",
       "4           85      Earth     False     G/9/P  TRAPPIST-1e  19.0  False   \n",
       "\n",
       "   RoomService  FoodCourt  ShoppingMall    Spa  VRDeck               Name  \\\n",
       "0          0.0     3859.0          13.0  195.0  3874.0     Azhah Tronsive   \n",
       "1          0.0        0.0           0.0    0.0     0.0         Roswal Sha   \n",
       "2          0.0        0.0           0.0    0.0     0.0  Shaiam Tinganking   \n",
       "3        142.0     1208.0           0.0    0.0   204.0     Landa Grifford   \n",
       "4          0.0        0.0         670.0    1.0    34.0     Gracy Dunnisey   \n",
       "\n",
       "   Transported  \n",
       "0            0  \n",
       "1            1  \n",
       "2            1  \n",
       "3            0  \n",
       "4            0  "
      ]
     },
     "execution_count": 72,
     "metadata": {},
     "output_type": "execute_result"
    }
   ],
   "source": [
    "train_url = r\"C:\\Users\\ernes\\OneDrive\\Escritorio\\Diplo\\Aprendizaje_Supervizado\\AprendizajeSupervisado\\Práctico\\train.csv\"\n",
    "train = pd.read_csv(train_url)\n",
    "print(train.shape)\n",
    "train.head()"
   ]
  },
  {
   "cell_type": "code",
   "execution_count": 73,
   "id": "4d25f183",
   "metadata": {
    "scrolled": true
   },
   "outputs": [
    {
     "data": {
      "text/plain": [
       "1    3964\n",
       "0    3859\n",
       "Name: Transported, dtype: int64"
      ]
     },
     "execution_count": 73,
     "metadata": {},
     "output_type": "execute_result"
    }
   ],
   "source": [
    "train.Transported.value_counts()"
   ]
  },
  {
   "cell_type": "markdown",
   "id": "64109155",
   "metadata": {},
   "source": [
    "_________________________________________________________"
   ]
  },
  {
   "cell_type": "markdown",
   "id": "068a19ae",
   "metadata": {},
   "source": [
    "## Analisis de correlacion de las variables de 'train'."
   ]
  },
  {
   "cell_type": "code",
   "execution_count": 74,
   "id": "e62ec7d2",
   "metadata": {
    "scrolled": false
   },
   "outputs": [
    {
     "data": {
      "image/png": "[encoded data removed]",
      "text/plain": [
       "<Figure size 720x504 with 2 Axes>"
      ]
     },
     "metadata": {
      "needs_background": "light"
     },
     "output_type": "display_data"
    }
   ],
   "source": [
    "plt.rcParams['figure.figsize'] = (10, 7)\n",
    "sns.heatmap(train.corr(), annot = True, fmt = \".2f\", cmap = 'Purples')\n",
    "plt.title('Heatmap for train', fontsize = 20)\n",
    "plt.show()"
   ]
  },
  {
   "cell_type": "markdown",
   "id": "4f9de3a3",
   "metadata": {},
   "source": [
    ">**Se observan ciertas correlaciones aunque nada demasiado significativo, un maximo de -0.25.**"
   ]
  },
  {
   "cell_type": "markdown",
   "id": "acce35f5",
   "metadata": {},
   "source": [
    "## Observamos nulos y su porcentaje dentro de cada columna asi como en el total."
   ]
  },
  {
   "cell_type": "code",
   "execution_count": 75,
   "id": "0aaec4e9",
   "metadata": {
    "scrolled": false
   },
   "outputs": [
    {
     "data": {
      "text/html": [
       "<style type=\"text/css\">\n",
       "#T_63e16_row0_col1 {\n",
       "  background-color: #023858;\n",
       "  color: #f1f1f1;\n",
       "}\n",
       "#T_63e16_row1_col1, #T_63e16_row2_col1, #T_63e16_row3_col1, #T_63e16_row4_col1 {\n",
       "  background-color: #034369;\n",
       "  color: #f1f1f1;\n",
       "}\n",
       "#T_63e16_row5_col1 {\n",
       "  background-color: #034d79;\n",
       "  color: #f1f1f1;\n",
       "}\n",
       "#T_63e16_row6_col1 {\n",
       "  background-color: #04588a;\n",
       "  color: #f1f1f1;\n",
       "}\n",
       "#T_63e16_row7_col1 {\n",
       "  background-color: #046096;\n",
       "  color: #f1f1f1;\n",
       "}\n",
       "#T_63e16_row8_col1, #T_63e16_row9_col1, #T_63e16_row10_col1, #T_63e16_row11_col1 {\n",
       "  background-color: #0567a2;\n",
       "  color: #f1f1f1;\n",
       "}\n",
       "#T_63e16_row12_col1, #T_63e16_row13_col1 {\n",
       "  background-color: #fff7fb;\n",
       "  color: #000000;\n",
       "}\n",
       "</style>\n",
       "<table id=\"T_63e16_\">\n",
       "  <thead>\n",
       "    <tr>\n",
       "      <th class=\"blank level0\" >&nbsp;</th>\n",
       "      <th class=\"col_heading level0 col0\" >Total_nuls_train</th>\n",
       "      <th class=\"col_heading level0 col1\" >Percent</th>\n",
       "    </tr>\n",
       "  </thead>\n",
       "  <tbody>\n",
       "    <tr>\n",
       "      <th id=\"T_63e16_level0_row0\" class=\"row_heading level0 row0\" >CryoSleep</th>\n",
       "      <td id=\"T_63e16_row0_col0\" class=\"data row0 col0\" >196</td>\n",
       "      <td id=\"T_63e16_row0_col1\" class=\"data row0 col1\" >0.025000</td>\n",
       "    </tr>\n",
       "    <tr>\n",
       "      <th id=\"T_63e16_level0_row1\" class=\"row_heading level0 row1\" >ShoppingMall</th>\n",
       "      <td id=\"T_63e16_row1_col0\" class=\"data row1 col0\" >188</td>\n",
       "      <td id=\"T_63e16_row1_col1\" class=\"data row1 col1\" >0.024000</td>\n",
       "    </tr>\n",
       "    <tr>\n",
       "      <th id=\"T_63e16_level0_row2\" class=\"row_heading level0 row2\" >Cabin</th>\n",
       "      <td id=\"T_63e16_row2_col0\" class=\"data row2 col0\" >184</td>\n",
       "      <td id=\"T_63e16_row2_col1\" class=\"data row2 col1\" >0.024000</td>\n",
       "    </tr>\n",
       "    <tr>\n",
       "      <th id=\"T_63e16_level0_row3\" class=\"row_heading level0 row3\" >VIP</th>\n",
       "      <td id=\"T_63e16_row3_col0\" class=\"data row3 col0\" >184</td>\n",
       "      <td id=\"T_63e16_row3_col1\" class=\"data row3 col1\" >0.024000</td>\n",
       "    </tr>\n",
       "    <tr>\n",
       "      <th id=\"T_63e16_level0_row4\" class=\"row_heading level0 row4\" >Name</th>\n",
       "      <td id=\"T_63e16_row4_col0\" class=\"data row4 col0\" >184</td>\n",
       "      <td id=\"T_63e16_row4_col1\" class=\"data row4 col1\" >0.024000</td>\n",
       "    </tr>\n",
       "    <tr>\n",
       "      <th id=\"T_63e16_level0_row5\" class=\"row_heading level0 row5\" >HomePlanet</th>\n",
       "      <td id=\"T_63e16_row5_col0\" class=\"data row5 col0\" >179</td>\n",
       "      <td id=\"T_63e16_row5_col1\" class=\"data row5 col1\" >0.023000</td>\n",
       "    </tr>\n",
       "    <tr>\n",
       "      <th id=\"T_63e16_level0_row6\" class=\"row_heading level0 row6\" >VRDeck</th>\n",
       "      <td id=\"T_63e16_row6_col0\" class=\"data row6 col0\" >169</td>\n",
       "      <td id=\"T_63e16_row6_col1\" class=\"data row6 col1\" >0.022000</td>\n",
       "    </tr>\n",
       "    <tr>\n",
       "      <th id=\"T_63e16_level0_row7\" class=\"row_heading level0 row7\" >Age</th>\n",
       "      <td id=\"T_63e16_row7_col0\" class=\"data row7 col0\" >162</td>\n",
       "      <td id=\"T_63e16_row7_col1\" class=\"data row7 col1\" >0.021000</td>\n",
       "    </tr>\n",
       "    <tr>\n",
       "      <th id=\"T_63e16_level0_row8\" class=\"row_heading level0 row8\" >Destination</th>\n",
       "      <td id=\"T_63e16_row8_col0\" class=\"data row8 col0\" >160</td>\n",
       "      <td id=\"T_63e16_row8_col1\" class=\"data row8 col1\" >0.020000</td>\n",
       "    </tr>\n",
       "    <tr>\n",
       "      <th id=\"T_63e16_level0_row9\" class=\"row_heading level0 row9\" >Spa</th>\n",
       "      <td id=\"T_63e16_row9_col0\" class=\"data row9 col0\" >158</td>\n",
       "      <td id=\"T_63e16_row9_col1\" class=\"data row9 col1\" >0.020000</td>\n",
       "    </tr>\n",
       "    <tr>\n",
       "      <th id=\"T_63e16_level0_row10\" class=\"row_heading level0 row10\" >FoodCourt</th>\n",
       "      <td id=\"T_63e16_row10_col0\" class=\"data row10 col0\" >155</td>\n",
       "      <td id=\"T_63e16_row10_col1\" class=\"data row10 col1\" >0.020000</td>\n",
       "    </tr>\n",
       "    <tr>\n",
       "      <th id=\"T_63e16_level0_row11\" class=\"row_heading level0 row11\" >RoomService</th>\n",
       "      <td id=\"T_63e16_row11_col0\" class=\"data row11 col0\" >154</td>\n",
       "      <td id=\"T_63e16_row11_col1\" class=\"data row11 col1\" >0.020000</td>\n",
       "    </tr>\n",
       "    <tr>\n",
       "      <th id=\"T_63e16_level0_row12\" class=\"row_heading level0 row12\" >PassengerId</th>\n",
       "      <td id=\"T_63e16_row12_col0\" class=\"data row12 col0\" >0</td>\n",
       "      <td id=\"T_63e16_row12_col1\" class=\"data row12 col1\" >0.000000</td>\n",
       "    </tr>\n",
       "    <tr>\n",
       "      <th id=\"T_63e16_level0_row13\" class=\"row_heading level0 row13\" >Transported</th>\n",
       "      <td id=\"T_63e16_row13_col0\" class=\"data row13 col0\" >0</td>\n",
       "      <td id=\"T_63e16_row13_col1\" class=\"data row13 col1\" >0.000000</td>\n",
       "    </tr>\n",
       "  </tbody>\n",
       "</table>\n"
      ],
      "text/plain": [
       "<pandas.io.formats.style.Styler at 0x244bea143a0>"
      ]
     },
     "execution_count": 75,
     "metadata": {},
     "output_type": "execute_result"
    }
   ],
   "source": [
    "total = train.isnull().sum().sort_values(ascending = False)\n",
    "percent = (train.isnull().sum() / train.isnull().count()).sort_values(ascending = False)\n",
    "missing_data = pd.concat([total, round(percent,3)], axis = 1, keys = ['Total_nuls_train', 'Percent'])\n",
    "missing_data.style.background_gradient(subset = [\"Percent\"])"
   ]
  },
  {
   "cell_type": "code",
   "execution_count": 76,
   "id": "fee4f726",
   "metadata": {},
   "outputs": [
    {
     "name": "stdout",
     "output_type": "stream",
     "text": [
      " Total de nulos en train:  2073 \n",
      " Porcentaje de nulos en train:  26.5\n"
     ]
    }
   ],
   "source": [
    "total_nuls = missing_data.Total_nuls_train.sum()\n",
    "perc_nuls = (total_nuls * 100)/len(train)\n",
    "print(' Total de nulos en train: ',total_nuls,'\\n Porcentaje de nulos en train: ',round(perc_nuls,2))"
   ]
  },
  {
   "cell_type": "markdown",
   "id": "3f6ebb0d",
   "metadata": {},
   "source": [
    ">**Basandonos en que el numero de datos nulos total representa un 26.5% del total d datos de train, es posible que tengamos que imputar datos.** "
   ]
  },
  {
   "cell_type": "markdown",
   "id": "02dd6cca",
   "metadata": {},
   "source": [
    "## Analisis exploratorio de variables de 'train'."
   ]
  },
  {
   "cell_type": "code",
   "execution_count": 77,
   "id": "a7a542bf",
   "metadata": {
    "scrolled": false
   },
   "outputs": [
    {
     "data": {
      "text/plain": [
       "Index(['PassengerId', 'HomePlanet', 'CryoSleep', 'Cabin', 'Destination', 'Age',\n",
       "       'VIP', 'RoomService', 'FoodCourt', 'ShoppingMall', 'Spa', 'VRDeck',\n",
       "       'Name', 'Transported'],\n",
       "      dtype='object')"
      ]
     },
     "execution_count": 77,
     "metadata": {},
     "output_type": "execute_result"
    }
   ],
   "source": [
    "train.columns"
   ]
  },
  {
   "cell_type": "code",
   "execution_count": 78,
   "id": "2ea165f1",
   "metadata": {},
   "outputs": [
    {
     "data": {
      "text/plain": [
       "PassengerId       int64\n",
       "HomePlanet       object\n",
       "CryoSleep        object\n",
       "Cabin            object\n",
       "Destination      object\n",
       "Age             float64\n",
       "VIP              object\n",
       "RoomService     float64\n",
       "FoodCourt       float64\n",
       "ShoppingMall    float64\n",
       "Spa             float64\n",
       "VRDeck          float64\n",
       "Name             object\n",
       "Transported       int64\n",
       "dtype: object"
      ]
     },
     "execution_count": 78,
     "metadata": {},
     "output_type": "execute_result"
    }
   ],
   "source": [
    "train.dtypes"
   ]
  },
  {
   "cell_type": "code",
   "execution_count": 79,
   "id": "fc0662af",
   "metadata": {},
   "outputs": [],
   "source": [
    "plt.rcParams['figure.figsize'] = (7, 5)"
   ]
  },
  {
   "cell_type": "code",
   "execution_count": 80,
   "id": "c7d30bc1",
   "metadata": {
    "scrolled": true
   },
   "outputs": [
    {
     "data": {
      "image/png": "[encoded data removed]",
      "text/plain": [
       "<Figure size 504x360 with 1 Axes>"
      ]
     },
     "metadata": {
      "needs_background": "light"
     },
     "output_type": "display_data"
    }
   ],
   "source": [
    "#Homeplanet\n",
    "sns.histplot(data = train, x='HomePlanet',hue='Transported',palette='ocean');"
   ]
  },
  {
   "cell_type": "code",
   "execution_count": 81,
   "id": "c69b6761",
   "metadata": {
    "scrolled": false
   },
   "outputs": [
    {
     "data": {
      "image/png": "[encoded data removed]",
      "text/plain": [
       "<Figure size 504x360 with 1 Axes>"
      ]
     },
     "metadata": {
      "needs_background": "light"
     },
     "output_type": "display_data"
    }
   ],
   "source": [
    "#Destination\n",
    "sns.histplot(data = train, x='Destination',hue='Transported',palette='ocean');"
   ]
  },
  {
   "cell_type": "code",
   "execution_count": 82,
   "id": "1925b293",
   "metadata": {},
   "outputs": [
    {
     "data": {
      "image/png": "[encoded data removed]",
      "text/plain": [
       "<Figure size 504x360 with 1 Axes>"
      ]
     },
     "metadata": {
      "needs_background": "light"
     },
     "output_type": "display_data"
    }
   ],
   "source": [
    "#Age\n",
    "sns.histplot(data = train, x='Age',hue='Transported',palette='ocean');"
   ]
  },
  {
   "cell_type": "code",
   "execution_count": 83,
   "id": "8ca40d46",
   "metadata": {
    "scrolled": true
   },
   "outputs": [
    {
     "data": {
      "text/plain": [
       "G/734/S     8\n",
       "B/201/P     7\n",
       "F/1194/P    7\n",
       "E/13/S      7\n",
       "G/117/S     6\n",
       "           ..\n",
       "B/120/P     1\n",
       "G/6/S       1\n",
       "G/80/S      1\n",
       "G/631/S     1\n",
       "E/253/P     1\n",
       "Name: Cabin, Length: 6009, dtype: int64"
      ]
     },
     "execution_count": 83,
     "metadata": {},
     "output_type": "execute_result"
    }
   ],
   "source": [
    "#Cabin\n",
    "train.Cabin.value_counts()"
   ]
  },
  {
   "cell_type": "markdown",
   "id": "a205aba7",
   "metadata": {},
   "source": [
    "## Analisis descriptivo de variables que no seran graficadas.  \n",
    "> Las variables **CryoSleep** y **VIP** son de tipo booleano.  \n",
    "> La variable **Cabin** representa el numero de cabina con el detalle de si es en babor(P) o estribor(S).  \n",
    "> La variable **Name** representa el nombre completo del pasajero.  \n",
    "> La variable **PassengerId** representa el id del pasajero.  "
   ]
  },
  {
   "cell_type": "markdown",
   "id": "e0f4d095",
   "metadata": {},
   "source": [
    "**Analisis de variables referidas al monto que el pasajero ha facturado en cada uno de los muchos servicios de lujo del Spaceship Titanic.**"
   ]
  },
  {
   "cell_type": "code",
   "execution_count": 84,
   "id": "386e3d3b",
   "metadata": {
    "scrolled": false
   },
   "outputs": [
    {
     "data": {
      "image/png": "[encoded data removed]",
      "text/plain": [
       "<Figure size 504x360 with 1 Axes>"
      ]
     },
     "metadata": {
      "needs_background": "light"
     },
     "output_type": "display_data"
    }
   ],
   "source": [
    "sns.boxenplot(train.RoomService,showfliers=False);"
   ]
  },
  {
   "cell_type": "code",
   "execution_count": null,
   "id": "2a11d7cf",
   "metadata": {},
   "outputs": [],
   "source": []
  },
  {
   "cell_type": "code",
   "execution_count": 85,
   "id": "787028c5",
   "metadata": {},
   "outputs": [
    {
     "data": {
      "image/png": "[encoded data removed]",
      "text/plain": [
       "<Figure size 504x360 with 1 Axes>"
      ]
     },
     "metadata": {
      "needs_background": "light"
     },
     "output_type": "display_data"
    }
   ],
   "source": [
    "sns.boxenplot(train.FoodCourt,showfliers=False);"
   ]
  },
  {
   "cell_type": "code",
   "execution_count": 86,
   "id": "456df91a",
   "metadata": {},
   "outputs": [
    {
     "data": {
      "image/png": "[encoded data removed]",
      "text/plain": [
       "<Figure size 504x360 with 1 Axes>"
      ]
     },
     "metadata": {
      "needs_background": "light"
     },
     "output_type": "display_data"
    }
   ],
   "source": [
    "sns.boxenplot(train.ShoppingMall,showfliers=False);"
   ]
  },
  {
   "cell_type": "code",
   "execution_count": 87,
   "id": "81917615",
   "metadata": {},
   "outputs": [
    {
     "data": {
      "image/png": "[encoded data removed]",
      "text/plain": [
       "<Figure size 504x360 with 1 Axes>"
      ]
     },
     "metadata": {
      "needs_background": "light"
     },
     "output_type": "display_data"
    }
   ],
   "source": [
    "sns.boxenplot(train.Spa,showfliers=False);"
   ]
  },
  {
   "cell_type": "code",
   "execution_count": 88,
   "id": "c4fe1494",
   "metadata": {},
   "outputs": [
    {
     "data": {
      "image/png": "[encoded data removed]",
      "text/plain": [
       "<Figure size 504x360 with 1 Axes>"
      ]
     },
     "metadata": {
      "needs_background": "light"
     },
     "output_type": "display_data"
    }
   ],
   "source": [
    "sns.boxenplot(train.VRDeck ,showfliers=False);"
   ]
  },
  {
   "cell_type": "markdown",
   "id": "2f0e4a84",
   "metadata": {},
   "source": [
    "## Algunas observaciones\n",
    "\n",
    "\n",
    ">*A partir de las observaciones realizadas sobre los datos, podemos decir que las variables correspondientes al grupo de Servicios de lujo del Spaceship Titanic, contiene datos un poco desbalanceados con Outliers.  \n",
    ">*A demas las variables **CryoSleep** y **VIP** son del tipo booleano, por lo cual probablemente deban descartarse o ser reemplazadas por valores numericos como 0 y 1.  \n",
    ">*Las columnas categoricas Homeplanet y Destination aportan una posible clasificacion del target.  \n",
    ">*La columna Cabin puede ser usada para generar nuevas features.\n"
   ]
  },
  {
   "cell_type": "markdown",
   "id": "e5aece65",
   "metadata": {},
   "source": [
    "## Posibles acciones\n",
    "  \n",
    ">*Usar metodo de imputacion de valores faltantes a los nulos de cada variable.  \n",
    "*Probar una limpieza de outliers de las columnas de montos en lujos.  \n",
    "*Codificar las variables categoricas.  \n",
    "*Con respecto a las dos variables tipo boolean, ver si combiene codificarlas o transformarlas en 0 y 1.  \n",
    "*elegir columnas a excluir como por Name y PassengerId.  "
   ]
  },
  {
   "cell_type": "markdown",
   "id": "73db0017",
   "metadata": {},
   "source": [
    "__________"
   ]
  },
  {
   "cell_type": "markdown",
   "id": "2d40bee0",
   "metadata": {},
   "source": [
    "____________"
   ]
  },
  {
   "cell_type": "markdown",
   "id": "79795cb1",
   "metadata": {},
   "source": [
    "### Columnas elegidas para el analisis en 'Train'."
   ]
  },
  {
   "cell_type": "markdown",
   "id": "e4c32160",
   "metadata": {},
   "source": [
    "Creemos que las siguientes columnas aportan informacion util para la clasificacion y caracterizacion de los pasajeros en el analisis del problema.  \n",
    "**Columnas elegidas:**"
   ]
  },
  {
   "cell_type": "code",
   "execution_count": 89,
   "id": "2ea4b18b",
   "metadata": {
    "scrolled": true
   },
   "outputs": [
    {
     "data": {
      "text/plain": [
       "['HomePlanet',\n",
       " 'CryoSleep',\n",
       " 'Destination',\n",
       " 'Age',\n",
       " 'VIP',\n",
       " 'RoomService',\n",
       " 'FoodCourt',\n",
       " 'ShoppingMall',\n",
       " 'Spa',\n",
       " 'VRDeck',\n",
       " 'Cabin']"
      ]
     },
     "execution_count": 89,
     "metadata": {},
     "output_type": "execute_result"
    }
   ],
   "source": [
    "['HomePlanet','CryoSleep','Destination','Age','VIP','RoomService','FoodCourt','ShoppingMall','Spa','VRDeck','Cabin']"
   ]
  },
  {
   "cell_type": "markdown",
   "id": "62c1f6f9",
   "metadata": {},
   "source": [
    "Columnas eliminadas debido a que contienen datos que son unicos o keys."
   ]
  },
  {
   "cell_type": "code",
   "execution_count": 90,
   "id": "cccbb76b",
   "metadata": {},
   "outputs": [],
   "source": [
    "train = train.drop(columns = ['Name','PassengerId'])"
   ]
  },
  {
   "cell_type": "code",
   "execution_count": 91,
   "id": "28448b8d",
   "metadata": {},
   "outputs": [
    {
     "data": {
      "text/plain": [
       "(7823, 12)"
      ]
     },
     "execution_count": 91,
     "metadata": {},
     "output_type": "execute_result"
    }
   ],
   "source": [
    "train.shape"
   ]
  },
  {
   "cell_type": "code",
   "execution_count": 92,
   "id": "23f5d966",
   "metadata": {},
   "outputs": [],
   "source": [
    "train_whitout_nuls = train"
   ]
  },
  {
   "cell_type": "markdown",
   "id": "3ddbfe76",
   "metadata": {},
   "source": [
    "### Tratamiento de la variable 'Cabin' y generacion de nuevas features en 'Train'."
   ]
  },
  {
   "cell_type": "code",
   "execution_count": 93,
   "id": "401f0ee9",
   "metadata": {},
   "outputs": [
    {
     "data": {
      "text/plain": [
       "0        C/123/P\n",
       "1        F/126/S\n",
       "2        B/343/S\n",
       "3       F/1420/P\n",
       "4          G/9/P\n",
       "          ...   \n",
       "7818    F/1319/S\n",
       "7819     G/459/S\n",
       "7820    F/1772/P\n",
       "7821     E/253/P\n",
       "7822     B/270/P\n",
       "Name: Cabin, Length: 7823, dtype: object"
      ]
     },
     "execution_count": 93,
     "metadata": {},
     "output_type": "execute_result"
    }
   ],
   "source": [
    "train['Cabin']"
   ]
  },
  {
   "cell_type": "code",
   "execution_count": 94,
   "id": "d3188acb",
   "metadata": {},
   "outputs": [],
   "source": [
    "new_features = train['Cabin'].str.split(pat=\"/\",expand=True)"
   ]
  },
  {
   "cell_type": "code",
   "execution_count": 95,
   "id": "df35b9b8",
   "metadata": {
    "scrolled": false
   },
   "outputs": [
    {
     "data": {
      "text/html": [
       "<div>\n",
       "<style scoped>\n",
       "    .dataframe tbody tr th:only-of-type {\n",
       "        vertical-align: middle;\n",
       "    }\n",
       "\n",
       "    .dataframe tbody tr th {\n",
       "        vertical-align: top;\n",
       "    }\n",
       "\n",
       "    .dataframe thead th {\n",
       "        text-align: right;\n",
       "    }\n",
       "</style>\n",
       "<table border=\"1\" class=\"dataframe\">\n",
       "  <thead>\n",
       "    <tr style=\"text-align: right;\">\n",
       "      <th></th>\n",
       "      <th>Deck_of_spaceship</th>\n",
       "      <th>Number_of_cabin</th>\n",
       "      <th>Port_or_Starboard</th>\n",
       "    </tr>\n",
       "  </thead>\n",
       "  <tbody>\n",
       "    <tr>\n",
       "      <th>0</th>\n",
       "      <td>C</td>\n",
       "      <td>123</td>\n",
       "      <td>P</td>\n",
       "    </tr>\n",
       "    <tr>\n",
       "      <th>1</th>\n",
       "      <td>F</td>\n",
       "      <td>126</td>\n",
       "      <td>S</td>\n",
       "    </tr>\n",
       "    <tr>\n",
       "      <th>2</th>\n",
       "      <td>B</td>\n",
       "      <td>343</td>\n",
       "      <td>S</td>\n",
       "    </tr>\n",
       "    <tr>\n",
       "      <th>3</th>\n",
       "      <td>F</td>\n",
       "      <td>1420</td>\n",
       "      <td>P</td>\n",
       "    </tr>\n",
       "    <tr>\n",
       "      <th>4</th>\n",
       "      <td>G</td>\n",
       "      <td>9</td>\n",
       "      <td>P</td>\n",
       "    </tr>\n",
       "  </tbody>\n",
       "</table>\n",
       "</div>"
      ],
      "text/plain": [
       "  Deck_of_spaceship Number_of_cabin Port_or_Starboard\n",
       "0                 C             123                 P\n",
       "1                 F             126                 S\n",
       "2                 B             343                 S\n",
       "3                 F            1420                 P\n",
       "4                 G               9                 P"
      ]
     },
     "execution_count": 95,
     "metadata": {},
     "output_type": "execute_result"
    }
   ],
   "source": [
    "new_features = new_features.rename(columns={0:'Deck_of_spaceship',1:'Number_of_cabin',2:'Port_or_Starboard'})\n",
    "new_features.head()"
   ]
  },
  {
   "cell_type": "code",
   "execution_count": 96,
   "id": "e0197ab6",
   "metadata": {},
   "outputs": [],
   "source": [
    "#Eliminamos la columna 'Cabin' ya que las nuevas features aportan informacion con mas peso.\n",
    "train = train.drop(columns='Cabin')"
   ]
  },
  {
   "cell_type": "code",
   "execution_count": 97,
   "id": "3600917b",
   "metadata": {
    "scrolled": false
   },
   "outputs": [
    {
     "data": {
      "text/html": [
       "<div>\n",
       "<style scoped>\n",
       "    .dataframe tbody tr th:only-of-type {\n",
       "        vertical-align: middle;\n",
       "    }\n",
       "\n",
       "    .dataframe tbody tr th {\n",
       "        vertical-align: top;\n",
       "    }\n",
       "\n",
       "    .dataframe thead th {\n",
       "        text-align: right;\n",
       "    }\n",
       "</style>\n",
       "<table border=\"1\" class=\"dataframe\">\n",
       "  <thead>\n",
       "    <tr style=\"text-align: right;\">\n",
       "      <th></th>\n",
       "      <th>HomePlanet</th>\n",
       "      <th>CryoSleep</th>\n",
       "      <th>Destination</th>\n",
       "      <th>Age</th>\n",
       "      <th>VIP</th>\n",
       "      <th>RoomService</th>\n",
       "      <th>FoodCourt</th>\n",
       "      <th>ShoppingMall</th>\n",
       "      <th>Spa</th>\n",
       "      <th>VRDeck</th>\n",
       "      <th>Transported</th>\n",
       "      <th>Deck_of_spaceship</th>\n",
       "      <th>Number_of_cabin</th>\n",
       "      <th>Port_or_Starboard</th>\n",
       "    </tr>\n",
       "  </thead>\n",
       "  <tbody>\n",
       "    <tr>\n",
       "      <th>0</th>\n",
       "      <td>Europa</td>\n",
       "      <td>False</td>\n",
       "      <td>TRAPPIST-1e</td>\n",
       "      <td>57.0</td>\n",
       "      <td>False</td>\n",
       "      <td>0.0</td>\n",
       "      <td>3859.0</td>\n",
       "      <td>13.0</td>\n",
       "      <td>195.0</td>\n",
       "      <td>3874.0</td>\n",
       "      <td>0</td>\n",
       "      <td>C</td>\n",
       "      <td>123</td>\n",
       "      <td>P</td>\n",
       "    </tr>\n",
       "    <tr>\n",
       "      <th>1</th>\n",
       "      <td>Mars</td>\n",
       "      <td>True</td>\n",
       "      <td>NaN</td>\n",
       "      <td>18.0</td>\n",
       "      <td>False</td>\n",
       "      <td>0.0</td>\n",
       "      <td>0.0</td>\n",
       "      <td>0.0</td>\n",
       "      <td>0.0</td>\n",
       "      <td>0.0</td>\n",
       "      <td>1</td>\n",
       "      <td>F</td>\n",
       "      <td>126</td>\n",
       "      <td>S</td>\n",
       "    </tr>\n",
       "    <tr>\n",
       "      <th>2</th>\n",
       "      <td>Europa</td>\n",
       "      <td>True</td>\n",
       "      <td>TRAPPIST-1e</td>\n",
       "      <td>33.0</td>\n",
       "      <td>NaN</td>\n",
       "      <td>0.0</td>\n",
       "      <td>0.0</td>\n",
       "      <td>0.0</td>\n",
       "      <td>0.0</td>\n",
       "      <td>0.0</td>\n",
       "      <td>1</td>\n",
       "      <td>B</td>\n",
       "      <td>343</td>\n",
       "      <td>S</td>\n",
       "    </tr>\n",
       "    <tr>\n",
       "      <th>3</th>\n",
       "      <td>Earth</td>\n",
       "      <td>False</td>\n",
       "      <td>TRAPPIST-1e</td>\n",
       "      <td>43.0</td>\n",
       "      <td>False</td>\n",
       "      <td>142.0</td>\n",
       "      <td>1208.0</td>\n",
       "      <td>0.0</td>\n",
       "      <td>0.0</td>\n",
       "      <td>204.0</td>\n",
       "      <td>0</td>\n",
       "      <td>F</td>\n",
       "      <td>1420</td>\n",
       "      <td>P</td>\n",
       "    </tr>\n",
       "    <tr>\n",
       "      <th>4</th>\n",
       "      <td>Earth</td>\n",
       "      <td>False</td>\n",
       "      <td>TRAPPIST-1e</td>\n",
       "      <td>19.0</td>\n",
       "      <td>False</td>\n",
       "      <td>0.0</td>\n",
       "      <td>0.0</td>\n",
       "      <td>670.0</td>\n",
       "      <td>1.0</td>\n",
       "      <td>34.0</td>\n",
       "      <td>0</td>\n",
       "      <td>G</td>\n",
       "      <td>9</td>\n",
       "      <td>P</td>\n",
       "    </tr>\n",
       "  </tbody>\n",
       "</table>\n",
       "</div>"
      ],
      "text/plain": [
       "  HomePlanet CryoSleep  Destination   Age    VIP  RoomService  FoodCourt  \\\n",
       "0     Europa     False  TRAPPIST-1e  57.0  False          0.0     3859.0   \n",
       "1       Mars      True          NaN  18.0  False          0.0        0.0   \n",
       "2     Europa      True  TRAPPIST-1e  33.0    NaN          0.0        0.0   \n",
       "3      Earth     False  TRAPPIST-1e  43.0  False        142.0     1208.0   \n",
       "4      Earth     False  TRAPPIST-1e  19.0  False          0.0        0.0   \n",
       "\n",
       "   ShoppingMall    Spa  VRDeck  Transported Deck_of_spaceship Number_of_cabin  \\\n",
       "0          13.0  195.0  3874.0            0                 C             123   \n",
       "1           0.0    0.0     0.0            1                 F             126   \n",
       "2           0.0    0.0     0.0            1                 B             343   \n",
       "3           0.0    0.0   204.0            0                 F            1420   \n",
       "4         670.0    1.0    34.0            0                 G               9   \n",
       "\n",
       "  Port_or_Starboard  \n",
       "0                 P  \n",
       "1                 S  \n",
       "2                 S  \n",
       "3                 P  \n",
       "4                 P  "
      ]
     },
     "execution_count": 97,
     "metadata": {},
     "output_type": "execute_result"
    }
   ],
   "source": [
    "train = train.join(new_features, lsuffix='_caller', rsuffix='_other')\n",
    "train.head()"
   ]
  },
  {
   "cell_type": "markdown",
   "id": "40c9431d",
   "metadata": {},
   "source": [
    "Nuevas features Agregadas:  \n",
    ">Deck_of_spaceship : Cubierta  \n",
    ">Number_of_cabin   : Numero de Cabina  \n",
    ">Port_or_Starboard : S=Babor, P=Estribor  \n"
   ]
  },
  {
   "cell_type": "markdown",
   "id": "65a451c5",
   "metadata": {},
   "source": [
    "_________"
   ]
  },
  {
   "cell_type": "markdown",
   "id": "8d05ac0e",
   "metadata": {},
   "source": [
    "# Imputacion de valores nulos en 'Train' para las columnas numericas."
   ]
  },
  {
   "cell_type": "code",
   "execution_count": 98,
   "id": "47ef978f",
   "metadata": {},
   "outputs": [],
   "source": [
    "train_whitout_nuls = train"
   ]
  },
  {
   "cell_type": "code",
   "execution_count": 99,
   "id": "7fbade05",
   "metadata": {},
   "outputs": [
    {
     "data": {
      "text/html": [
       "<style type=\"text/css\">\n",
       "#T_c084d_row0_col1 {\n",
       "  width: 10em;\n",
       "  height: 80%;\n",
       "  background: linear-gradient(90deg,lightblue 100.0%, transparent 100.0%);\n",
       "}\n",
       "#T_c084d_row1_col1, #T_c084d_row2_col1, #T_c084d_row3_col1, #T_c084d_row4_col1, #T_c084d_row5_col1 {\n",
       "  width: 10em;\n",
       "  height: 80%;\n",
       "  background: linear-gradient(90deg,lightblue 96.0%, transparent 96.0%);\n",
       "}\n",
       "#T_c084d_row6_col1 {\n",
       "  width: 10em;\n",
       "  height: 80%;\n",
       "  background: linear-gradient(90deg,lightblue 92.0%, transparent 92.0%);\n",
       "}\n",
       "#T_c084d_row7_col1 {\n",
       "  width: 10em;\n",
       "  height: 80%;\n",
       "  background: linear-gradient(90deg,lightblue 88.0%, transparent 88.0%);\n",
       "}\n",
       "#T_c084d_row8_col1 {\n",
       "  width: 10em;\n",
       "  height: 80%;\n",
       "  background: linear-gradient(90deg,lightblue 84.0%, transparent 84.0%);\n",
       "}\n",
       "#T_c084d_row9_col1, #T_c084d_row10_col1, #T_c084d_row11_col1, #T_c084d_row12_col1 {\n",
       "  width: 10em;\n",
       "  height: 80%;\n",
       "  background: linear-gradient(90deg,lightblue 80.0%, transparent 80.0%);\n",
       "}\n",
       "#T_c084d_row13_col1 {\n",
       "  width: 10em;\n",
       "  height: 80%;\n",
       "}\n",
       "</style>\n",
       "<table id=\"T_c084d_\">\n",
       "  <thead>\n",
       "    <tr>\n",
       "      <th class=\"blank level0\" >&nbsp;</th>\n",
       "      <th class=\"col_heading level0 col0\" >Total_nulls_test</th>\n",
       "      <th class=\"col_heading level0 col1\" >Percent</th>\n",
       "    </tr>\n",
       "  </thead>\n",
       "  <tbody>\n",
       "    <tr>\n",
       "      <th id=\"T_c084d_level0_row0\" class=\"row_heading level0 row0\" >CryoSleep</th>\n",
       "      <td id=\"T_c084d_row0_col0\" class=\"data row0 col0\" >196</td>\n",
       "      <td id=\"T_c084d_row0_col1\" class=\"data row0 col1\" >0.025000</td>\n",
       "    </tr>\n",
       "    <tr>\n",
       "      <th id=\"T_c084d_level0_row1\" class=\"row_heading level0 row1\" >ShoppingMall</th>\n",
       "      <td id=\"T_c084d_row1_col0\" class=\"data row1 col0\" >188</td>\n",
       "      <td id=\"T_c084d_row1_col1\" class=\"data row1 col1\" >0.024000</td>\n",
       "    </tr>\n",
       "    <tr>\n",
       "      <th id=\"T_c084d_level0_row2\" class=\"row_heading level0 row2\" >VIP</th>\n",
       "      <td id=\"T_c084d_row2_col0\" class=\"data row2 col0\" >184</td>\n",
       "      <td id=\"T_c084d_row2_col1\" class=\"data row2 col1\" >0.024000</td>\n",
       "    </tr>\n",
       "    <tr>\n",
       "      <th id=\"T_c084d_level0_row3\" class=\"row_heading level0 row3\" >Deck_of_spaceship</th>\n",
       "      <td id=\"T_c084d_row3_col0\" class=\"data row3 col0\" >184</td>\n",
       "      <td id=\"T_c084d_row3_col1\" class=\"data row3 col1\" >0.024000</td>\n",
       "    </tr>\n",
       "    <tr>\n",
       "      <th id=\"T_c084d_level0_row4\" class=\"row_heading level0 row4\" >Number_of_cabin</th>\n",
       "      <td id=\"T_c084d_row4_col0\" class=\"data row4 col0\" >184</td>\n",
       "      <td id=\"T_c084d_row4_col1\" class=\"data row4 col1\" >0.024000</td>\n",
       "    </tr>\n",
       "    <tr>\n",
       "      <th id=\"T_c084d_level0_row5\" class=\"row_heading level0 row5\" >Port_or_Starboard</th>\n",
       "      <td id=\"T_c084d_row5_col0\" class=\"data row5 col0\" >184</td>\n",
       "      <td id=\"T_c084d_row5_col1\" class=\"data row5 col1\" >0.024000</td>\n",
       "    </tr>\n",
       "    <tr>\n",
       "      <th id=\"T_c084d_level0_row6\" class=\"row_heading level0 row6\" >HomePlanet</th>\n",
       "      <td id=\"T_c084d_row6_col0\" class=\"data row6 col0\" >179</td>\n",
       "      <td id=\"T_c084d_row6_col1\" class=\"data row6 col1\" >0.023000</td>\n",
       "    </tr>\n",
       "    <tr>\n",
       "      <th id=\"T_c084d_level0_row7\" class=\"row_heading level0 row7\" >VRDeck</th>\n",
       "      <td id=\"T_c084d_row7_col0\" class=\"data row7 col0\" >169</td>\n",
       "      <td id=\"T_c084d_row7_col1\" class=\"data row7 col1\" >0.022000</td>\n",
       "    </tr>\n",
       "    <tr>\n",
       "      <th id=\"T_c084d_level0_row8\" class=\"row_heading level0 row8\" >Age</th>\n",
       "      <td id=\"T_c084d_row8_col0\" class=\"data row8 col0\" >162</td>\n",
       "      <td id=\"T_c084d_row8_col1\" class=\"data row8 col1\" >0.021000</td>\n",
       "    </tr>\n",
       "    <tr>\n",
       "      <th id=\"T_c084d_level0_row9\" class=\"row_heading level0 row9\" >Destination</th>\n",
       "      <td id=\"T_c084d_row9_col0\" class=\"data row9 col0\" >160</td>\n",
       "      <td id=\"T_c084d_row9_col1\" class=\"data row9 col1\" >0.020000</td>\n",
       "    </tr>\n",
       "    <tr>\n",
       "      <th id=\"T_c084d_level0_row10\" class=\"row_heading level0 row10\" >Spa</th>\n",
       "      <td id=\"T_c084d_row10_col0\" class=\"data row10 col0\" >158</td>\n",
       "      <td id=\"T_c084d_row10_col1\" class=\"data row10 col1\" >0.020000</td>\n",
       "    </tr>\n",
       "    <tr>\n",
       "      <th id=\"T_c084d_level0_row11\" class=\"row_heading level0 row11\" >FoodCourt</th>\n",
       "      <td id=\"T_c084d_row11_col0\" class=\"data row11 col0\" >155</td>\n",
       "      <td id=\"T_c084d_row11_col1\" class=\"data row11 col1\" >0.020000</td>\n",
       "    </tr>\n",
       "    <tr>\n",
       "      <th id=\"T_c084d_level0_row12\" class=\"row_heading level0 row12\" >RoomService</th>\n",
       "      <td id=\"T_c084d_row12_col0\" class=\"data row12 col0\" >154</td>\n",
       "      <td id=\"T_c084d_row12_col1\" class=\"data row12 col1\" >0.020000</td>\n",
       "    </tr>\n",
       "    <tr>\n",
       "      <th id=\"T_c084d_level0_row13\" class=\"row_heading level0 row13\" >Transported</th>\n",
       "      <td id=\"T_c084d_row13_col0\" class=\"data row13 col0\" >0</td>\n",
       "      <td id=\"T_c084d_row13_col1\" class=\"data row13 col1\" >0.000000</td>\n",
       "    </tr>\n",
       "  </tbody>\n",
       "</table>\n"
      ],
      "text/plain": [
       "<pandas.io.formats.style.Styler at 0x244c6e0f7f0>"
      ]
     },
     "execution_count": 99,
     "metadata": {},
     "output_type": "execute_result"
    }
   ],
   "source": [
    "total = train_whitout_nuls.isnull().sum().sort_values(ascending = False)\n",
    "percent = (train_whitout_nuls.isnull().sum() / train_whitout_nuls.isnull().count()).sort_values(ascending = False)\n",
    "missing_data = pd.concat([total, round(percent,3)], axis = 1, keys = ['Total_nulls_test', 'Percent'])\n",
    "missing_data.style.bar(subset = [\"Percent\"], \n",
    "             color = \"lightblue\", \n",
    "             vmin = 0)"
   ]
  },
  {
   "cell_type": "code",
   "execution_count": 100,
   "id": "58d4939e",
   "metadata": {
    "scrolled": false
   },
   "outputs": [
    {
     "data": {
      "text/plain": [
       "HomePlanet            object\n",
       "CryoSleep             object\n",
       "Destination           object\n",
       "Age                  float64\n",
       "VIP                   object\n",
       "RoomService          float64\n",
       "FoodCourt            float64\n",
       "ShoppingMall         float64\n",
       "Spa                  float64\n",
       "VRDeck               float64\n",
       "Transported            int64\n",
       "Deck_of_spaceship     object\n",
       "Number_of_cabin       object\n",
       "Port_or_Starboard     object\n",
       "dtype: object"
      ]
     },
     "execution_count": 100,
     "metadata": {},
     "output_type": "execute_result"
    }
   ],
   "source": [
    "train_whitout_nuls.dtypes"
   ]
  },
  {
   "cell_type": "code",
   "execution_count": 101,
   "id": "57d9f374",
   "metadata": {},
   "outputs": [],
   "source": [
    "cat_cols = ['HomePlanet','CryoSleep','Destination','VIP','Deck_of_spaceship','Port_or_Starboard']\n",
    "num_cols = ['Age','RoomService','FoodCourt','ShoppingMall','Spa','VRDeck','Number_of_cabin']"
   ]
  },
  {
   "cell_type": "markdown",
   "id": "961c79df",
   "metadata": {},
   "source": [
    "### Utilizando IterativeImputer imputamos valores faltantes de las columnas numericas de 'Train'."
   ]
  },
  {
   "cell_type": "code",
   "execution_count": 102,
   "id": "5d5540db",
   "metadata": {},
   "outputs": [],
   "source": [
    "from sklearn.experimental import enable_iterative_imputer\n",
    "from sklearn.neighbors import KNeighborsRegressor\n",
    "from sklearn.impute import IterativeImputer\n",
    "from sklearn.preprocessing import StandardScaler"
   ]
  },
  {
   "cell_type": "code",
   "execution_count": 103,
   "id": "e319fe94",
   "metadata": {},
   "outputs": [],
   "source": [
    "mice_imputer = IterativeImputer(random_state=0, estimator=KNeighborsRegressor())\n",
    "\n",
    "train_whitout_nuls[\"Age\"] = StandardScaler().fit_transform(\n",
    "    train_whitout_nuls[[\"Age\"]]\n",
    ")\n",
    "train_whitout_nuls[\"FoodCourt\"] = StandardScaler().fit_transform(\n",
    "    train_whitout_nuls[[\"FoodCourt\"]]\n",
    ")\n",
    "train_whitout_nuls[\"RoomService\"] = StandardScaler().fit_transform(\n",
    "    train_whitout_nuls[[\"RoomService\"]]\n",
    ")\n",
    "train_whitout_nuls[\"ShoppingMall\"] = StandardScaler().fit_transform(\n",
    "    train_whitout_nuls[[\"ShoppingMall\"]]\n",
    ")\n",
    "train_whitout_nuls[\"Spa\"] = StandardScaler().fit_transform(\n",
    "    train_whitout_nuls[[\"Spa\"]]\n",
    ")\n",
    "train_whitout_nuls[\"VRDeck\"] = StandardScaler().fit_transform(\n",
    "    train_whitout_nuls[[\"VRDeck\"]]\n",
    ")\n",
    "train_whitout_nuls[\"Number_of_cabin\"] = StandardScaler().fit_transform(\n",
    "    train_whitout_nuls[[\"Number_of_cabin\"]]\n",
    ")\n",
    "train_whitout_nuls[\n",
    "    [\"Age\", \"FoodCourt\",\"RoomService\",\"ShoppingMall\",\"Spa\",\"VRDeck\",\"Number_of_cabin\"]\n",
    "] = mice_imputer.fit_transform(train_whitout_nuls[[\"Age\", \"FoodCourt\",\"RoomService\",\"ShoppingMall\",\"Spa\",\"VRDeck\",\n",
    "                                                   \"Number_of_cabin\"]])"
   ]
  },
  {
   "cell_type": "code",
   "execution_count": 104,
   "id": "7e8c838e",
   "metadata": {
    "scrolled": false
   },
   "outputs": [
    {
     "data": {
      "text/html": [
       "<style type=\"text/css\">\n",
       "#T_c7460_row0_col1 {\n",
       "  width: 10em;\n",
       "  height: 80%;\n",
       "  background: linear-gradient(90deg,lightgreen 100.0%, transparent 100.0%);\n",
       "}\n",
       "#T_c7460_row1_col1, #T_c7460_row2_col1, #T_c7460_row3_col1 {\n",
       "  width: 10em;\n",
       "  height: 80%;\n",
       "  background: linear-gradient(90deg,lightgreen 96.0%, transparent 96.0%);\n",
       "}\n",
       "#T_c7460_row4_col1 {\n",
       "  width: 10em;\n",
       "  height: 80%;\n",
       "  background: linear-gradient(90deg,lightgreen 92.0%, transparent 92.0%);\n",
       "}\n",
       "#T_c7460_row5_col1 {\n",
       "  width: 10em;\n",
       "  height: 80%;\n",
       "  background: linear-gradient(90deg,lightgreen 80.0%, transparent 80.0%);\n",
       "}\n",
       "#T_c7460_row6_col1, #T_c7460_row7_col1, #T_c7460_row8_col1, #T_c7460_row9_col1, #T_c7460_row10_col1, #T_c7460_row11_col1, #T_c7460_row12_col1, #T_c7460_row13_col1 {\n",
       "  width: 10em;\n",
       "  height: 80%;\n",
       "}\n",
       "</style>\n",
       "<table id=\"T_c7460_\">\n",
       "  <thead>\n",
       "    <tr>\n",
       "      <th class=\"blank level0\" >&nbsp;</th>\n",
       "      <th class=\"col_heading level0 col0\" >Total_nulls_train</th>\n",
       "      <th class=\"col_heading level0 col1\" >Percent</th>\n",
       "    </tr>\n",
       "  </thead>\n",
       "  <tbody>\n",
       "    <tr>\n",
       "      <th id=\"T_c7460_level0_row0\" class=\"row_heading level0 row0\" >CryoSleep</th>\n",
       "      <td id=\"T_c7460_row0_col0\" class=\"data row0 col0\" >196</td>\n",
       "      <td id=\"T_c7460_row0_col1\" class=\"data row0 col1\" >0.025000</td>\n",
       "    </tr>\n",
       "    <tr>\n",
       "      <th id=\"T_c7460_level0_row1\" class=\"row_heading level0 row1\" >VIP</th>\n",
       "      <td id=\"T_c7460_row1_col0\" class=\"data row1 col0\" >184</td>\n",
       "      <td id=\"T_c7460_row1_col1\" class=\"data row1 col1\" >0.024000</td>\n",
       "    </tr>\n",
       "    <tr>\n",
       "      <th id=\"T_c7460_level0_row2\" class=\"row_heading level0 row2\" >Deck_of_spaceship</th>\n",
       "      <td id=\"T_c7460_row2_col0\" class=\"data row2 col0\" >184</td>\n",
       "      <td id=\"T_c7460_row2_col1\" class=\"data row2 col1\" >0.024000</td>\n",
       "    </tr>\n",
       "    <tr>\n",
       "      <th id=\"T_c7460_level0_row3\" class=\"row_heading level0 row3\" >Port_or_Starboard</th>\n",
       "      <td id=\"T_c7460_row3_col0\" class=\"data row3 col0\" >184</td>\n",
       "      <td id=\"T_c7460_row3_col1\" class=\"data row3 col1\" >0.024000</td>\n",
       "    </tr>\n",
       "    <tr>\n",
       "      <th id=\"T_c7460_level0_row4\" class=\"row_heading level0 row4\" >HomePlanet</th>\n",
       "      <td id=\"T_c7460_row4_col0\" class=\"data row4 col0\" >179</td>\n",
       "      <td id=\"T_c7460_row4_col1\" class=\"data row4 col1\" >0.023000</td>\n",
       "    </tr>\n",
       "    <tr>\n",
       "      <th id=\"T_c7460_level0_row5\" class=\"row_heading level0 row5\" >Destination</th>\n",
       "      <td id=\"T_c7460_row5_col0\" class=\"data row5 col0\" >160</td>\n",
       "      <td id=\"T_c7460_row5_col1\" class=\"data row5 col1\" >0.020000</td>\n",
       "    </tr>\n",
       "    <tr>\n",
       "      <th id=\"T_c7460_level0_row6\" class=\"row_heading level0 row6\" >Age</th>\n",
       "      <td id=\"T_c7460_row6_col0\" class=\"data row6 col0\" >0</td>\n",
       "      <td id=\"T_c7460_row6_col1\" class=\"data row6 col1\" >0.000000</td>\n",
       "    </tr>\n",
       "    <tr>\n",
       "      <th id=\"T_c7460_level0_row7\" class=\"row_heading level0 row7\" >RoomService</th>\n",
       "      <td id=\"T_c7460_row7_col0\" class=\"data row7 col0\" >0</td>\n",
       "      <td id=\"T_c7460_row7_col1\" class=\"data row7 col1\" >0.000000</td>\n",
       "    </tr>\n",
       "    <tr>\n",
       "      <th id=\"T_c7460_level0_row8\" class=\"row_heading level0 row8\" >FoodCourt</th>\n",
       "      <td id=\"T_c7460_row8_col0\" class=\"data row8 col0\" >0</td>\n",
       "      <td id=\"T_c7460_row8_col1\" class=\"data row8 col1\" >0.000000</td>\n",
       "    </tr>\n",
       "    <tr>\n",
       "      <th id=\"T_c7460_level0_row9\" class=\"row_heading level0 row9\" >ShoppingMall</th>\n",
       "      <td id=\"T_c7460_row9_col0\" class=\"data row9 col0\" >0</td>\n",
       "      <td id=\"T_c7460_row9_col1\" class=\"data row9 col1\" >0.000000</td>\n",
       "    </tr>\n",
       "    <tr>\n",
       "      <th id=\"T_c7460_level0_row10\" class=\"row_heading level0 row10\" >Spa</th>\n",
       "      <td id=\"T_c7460_row10_col0\" class=\"data row10 col0\" >0</td>\n",
       "      <td id=\"T_c7460_row10_col1\" class=\"data row10 col1\" >0.000000</td>\n",
       "    </tr>\n",
       "    <tr>\n",
       "      <th id=\"T_c7460_level0_row11\" class=\"row_heading level0 row11\" >VRDeck</th>\n",
       "      <td id=\"T_c7460_row11_col0\" class=\"data row11 col0\" >0</td>\n",
       "      <td id=\"T_c7460_row11_col1\" class=\"data row11 col1\" >0.000000</td>\n",
       "    </tr>\n",
       "    <tr>\n",
       "      <th id=\"T_c7460_level0_row12\" class=\"row_heading level0 row12\" >Transported</th>\n",
       "      <td id=\"T_c7460_row12_col0\" class=\"data row12 col0\" >0</td>\n",
       "      <td id=\"T_c7460_row12_col1\" class=\"data row12 col1\" >0.000000</td>\n",
       "    </tr>\n",
       "    <tr>\n",
       "      <th id=\"T_c7460_level0_row13\" class=\"row_heading level0 row13\" >Number_of_cabin</th>\n",
       "      <td id=\"T_c7460_row13_col0\" class=\"data row13 col0\" >0</td>\n",
       "      <td id=\"T_c7460_row13_col1\" class=\"data row13 col1\" >0.000000</td>\n",
       "    </tr>\n",
       "  </tbody>\n",
       "</table>\n"
      ],
      "text/plain": [
       "<pandas.io.formats.style.Styler at 0x244c6bef400>"
      ]
     },
     "execution_count": 104,
     "metadata": {},
     "output_type": "execute_result"
    }
   ],
   "source": [
    "total = train_whitout_nuls.isnull().sum().sort_values(ascending = False)\n",
    "percent = (train_whitout_nuls.isnull().sum() / train_whitout_nuls.isnull().count()).sort_values(ascending = False)\n",
    "missing_data = pd.concat([total, round(percent,3)], axis = 1, keys = ['Total_nulls_train', 'Percent'])\n",
    "missing_data.style.bar(subset = [\"Percent\"], \n",
    "             color = \"lightgreen\", \n",
    "             vmin = 0)"
   ]
  },
  {
   "cell_type": "markdown",
   "id": "16657d6e",
   "metadata": {},
   "source": [
    ">'Train' quedo sin valores nulos."
   ]
  },
  {
   "cell_type": "code",
   "execution_count": 105,
   "id": "28844fa5",
   "metadata": {},
   "outputs": [
    {
     "data": {
      "text/html": [
       "<div>\n",
       "<style scoped>\n",
       "    .dataframe tbody tr th:only-of-type {\n",
       "        vertical-align: middle;\n",
       "    }\n",
       "\n",
       "    .dataframe tbody tr th {\n",
       "        vertical-align: top;\n",
       "    }\n",
       "\n",
       "    .dataframe thead th {\n",
       "        text-align: right;\n",
       "    }\n",
       "</style>\n",
       "<table border=\"1\" class=\"dataframe\">\n",
       "  <thead>\n",
       "    <tr style=\"text-align: right;\">\n",
       "      <th></th>\n",
       "      <th>HomePlanet</th>\n",
       "      <th>CryoSleep</th>\n",
       "      <th>Destination</th>\n",
       "      <th>Age</th>\n",
       "      <th>VIP</th>\n",
       "      <th>RoomService</th>\n",
       "      <th>FoodCourt</th>\n",
       "      <th>ShoppingMall</th>\n",
       "      <th>Spa</th>\n",
       "      <th>VRDeck</th>\n",
       "      <th>Transported</th>\n",
       "      <th>Deck_of_spaceship</th>\n",
       "      <th>Number_of_cabin</th>\n",
       "      <th>Port_or_Starboard</th>\n",
       "    </tr>\n",
       "  </thead>\n",
       "  <tbody>\n",
       "    <tr>\n",
       "      <th>0</th>\n",
       "      <td>Europa</td>\n",
       "      <td>False</td>\n",
       "      <td>TRAPPIST-1e</td>\n",
       "      <td>1.944636</td>\n",
       "      <td>False</td>\n",
       "      <td>-0.332891</td>\n",
       "      <td>2.099303</td>\n",
       "      <td>-0.266942</td>\n",
       "      <td>-0.097078</td>\n",
       "      <td>3.272797</td>\n",
       "      <td>0</td>\n",
       "      <td>C</td>\n",
       "      <td>-0.929337</td>\n",
       "      <td>P</td>\n",
       "    </tr>\n",
       "    <tr>\n",
       "      <th>1</th>\n",
       "      <td>Mars</td>\n",
       "      <td>True</td>\n",
       "      <td>NaN</td>\n",
       "      <td>-0.752347</td>\n",
       "      <td>False</td>\n",
       "      <td>-0.332891</td>\n",
       "      <td>-0.281056</td>\n",
       "      <td>-0.288685</td>\n",
       "      <td>-0.269134</td>\n",
       "      <td>-0.270233</td>\n",
       "      <td>1</td>\n",
       "      <td>F</td>\n",
       "      <td>-0.923471</td>\n",
       "      <td>S</td>\n",
       "    </tr>\n",
       "    <tr>\n",
       "      <th>2</th>\n",
       "      <td>Europa</td>\n",
       "      <td>True</td>\n",
       "      <td>TRAPPIST-1e</td>\n",
       "      <td>0.284954</td>\n",
       "      <td>NaN</td>\n",
       "      <td>-0.332891</td>\n",
       "      <td>-0.281056</td>\n",
       "      <td>-0.288685</td>\n",
       "      <td>-0.269134</td>\n",
       "      <td>-0.270233</td>\n",
       "      <td>1</td>\n",
       "      <td>B</td>\n",
       "      <td>-0.499119</td>\n",
       "      <td>S</td>\n",
       "    </tr>\n",
       "    <tr>\n",
       "      <th>3</th>\n",
       "      <td>Earth</td>\n",
       "      <td>False</td>\n",
       "      <td>TRAPPIST-1e</td>\n",
       "      <td>0.976488</td>\n",
       "      <td>False</td>\n",
       "      <td>-0.123802</td>\n",
       "      <td>0.464079</td>\n",
       "      <td>-0.288685</td>\n",
       "      <td>-0.269134</td>\n",
       "      <td>-0.083662</td>\n",
       "      <td>0</td>\n",
       "      <td>F</td>\n",
       "      <td>1.606993</td>\n",
       "      <td>P</td>\n",
       "    </tr>\n",
       "    <tr>\n",
       "      <th>4</th>\n",
       "      <td>Earth</td>\n",
       "      <td>False</td>\n",
       "      <td>TRAPPIST-1e</td>\n",
       "      <td>-0.683193</td>\n",
       "      <td>False</td>\n",
       "      <td>-0.332891</td>\n",
       "      <td>-0.281056</td>\n",
       "      <td>0.831932</td>\n",
       "      <td>-0.268252</td>\n",
       "      <td>-0.239138</td>\n",
       "      <td>0</td>\n",
       "      <td>G</td>\n",
       "      <td>-1.152268</td>\n",
       "      <td>P</td>\n",
       "    </tr>\n",
       "  </tbody>\n",
       "</table>\n",
       "</div>"
      ],
      "text/plain": [
       "  HomePlanet CryoSleep  Destination       Age    VIP  RoomService  FoodCourt  \\\n",
       "0     Europa     False  TRAPPIST-1e  1.944636  False    -0.332891   2.099303   \n",
       "1       Mars      True          NaN -0.752347  False    -0.332891  -0.281056   \n",
       "2     Europa      True  TRAPPIST-1e  0.284954    NaN    -0.332891  -0.281056   \n",
       "3      Earth     False  TRAPPIST-1e  0.976488  False    -0.123802   0.464079   \n",
       "4      Earth     False  TRAPPIST-1e -0.683193  False    -0.332891  -0.281056   \n",
       "\n",
       "   ShoppingMall       Spa    VRDeck  Transported Deck_of_spaceship  \\\n",
       "0     -0.266942 -0.097078  3.272797            0                 C   \n",
       "1     -0.288685 -0.269134 -0.270233            1                 F   \n",
       "2     -0.288685 -0.269134 -0.270233            1                 B   \n",
       "3     -0.288685 -0.269134 -0.083662            0                 F   \n",
       "4      0.831932 -0.268252 -0.239138            0                 G   \n",
       "\n",
       "   Number_of_cabin Port_or_Starboard  \n",
       "0        -0.929337                 P  \n",
       "1        -0.923471                 S  \n",
       "2        -0.499119                 S  \n",
       "3         1.606993                 P  \n",
       "4        -1.152268                 P  "
      ]
     },
     "execution_count": 105,
     "metadata": {},
     "output_type": "execute_result"
    }
   ],
   "source": [
    "train_whitout_nuls.head()"
   ]
  },
  {
   "cell_type": "code",
   "execution_count": 106,
   "id": "d56d0aae",
   "metadata": {
    "scrolled": true
   },
   "outputs": [
    {
     "data": {
      "text/html": [
       "<div>\n",
       "<style scoped>\n",
       "    .dataframe tbody tr th:only-of-type {\n",
       "        vertical-align: middle;\n",
       "    }\n",
       "\n",
       "    .dataframe tbody tr th {\n",
       "        vertical-align: top;\n",
       "    }\n",
       "\n",
       "    .dataframe thead th {\n",
       "        text-align: right;\n",
       "    }\n",
       "</style>\n",
       "<table border=\"1\" class=\"dataframe\">\n",
       "  <thead>\n",
       "    <tr style=\"text-align: right;\">\n",
       "      <th></th>\n",
       "      <th>HomePlanet</th>\n",
       "      <th>CryoSleep</th>\n",
       "      <th>Destination</th>\n",
       "      <th>Age</th>\n",
       "      <th>VIP</th>\n",
       "      <th>RoomService</th>\n",
       "      <th>FoodCourt</th>\n",
       "      <th>ShoppingMall</th>\n",
       "      <th>Spa</th>\n",
       "      <th>VRDeck</th>\n",
       "      <th>Deck_of_spaceship</th>\n",
       "      <th>Number_of_cabin</th>\n",
       "      <th>Port_or_Starboard</th>\n",
       "    </tr>\n",
       "  </thead>\n",
       "  <tbody>\n",
       "    <tr>\n",
       "      <th>0</th>\n",
       "      <td>Europa</td>\n",
       "      <td>False</td>\n",
       "      <td>TRAPPIST-1e</td>\n",
       "      <td>1.944636</td>\n",
       "      <td>False</td>\n",
       "      <td>-0.332891</td>\n",
       "      <td>2.099303</td>\n",
       "      <td>-0.266942</td>\n",
       "      <td>-0.097078</td>\n",
       "      <td>3.272797</td>\n",
       "      <td>C</td>\n",
       "      <td>-0.929337</td>\n",
       "      <td>P</td>\n",
       "    </tr>\n",
       "    <tr>\n",
       "      <th>1</th>\n",
       "      <td>Mars</td>\n",
       "      <td>True</td>\n",
       "      <td>NaN</td>\n",
       "      <td>-0.752347</td>\n",
       "      <td>False</td>\n",
       "      <td>-0.332891</td>\n",
       "      <td>-0.281056</td>\n",
       "      <td>-0.288685</td>\n",
       "      <td>-0.269134</td>\n",
       "      <td>-0.270233</td>\n",
       "      <td>F</td>\n",
       "      <td>-0.923471</td>\n",
       "      <td>S</td>\n",
       "    </tr>\n",
       "    <tr>\n",
       "      <th>2</th>\n",
       "      <td>Europa</td>\n",
       "      <td>True</td>\n",
       "      <td>TRAPPIST-1e</td>\n",
       "      <td>0.284954</td>\n",
       "      <td>NaN</td>\n",
       "      <td>-0.332891</td>\n",
       "      <td>-0.281056</td>\n",
       "      <td>-0.288685</td>\n",
       "      <td>-0.269134</td>\n",
       "      <td>-0.270233</td>\n",
       "      <td>B</td>\n",
       "      <td>-0.499119</td>\n",
       "      <td>S</td>\n",
       "    </tr>\n",
       "    <tr>\n",
       "      <th>3</th>\n",
       "      <td>Earth</td>\n",
       "      <td>False</td>\n",
       "      <td>TRAPPIST-1e</td>\n",
       "      <td>0.976488</td>\n",
       "      <td>False</td>\n",
       "      <td>-0.123802</td>\n",
       "      <td>0.464079</td>\n",
       "      <td>-0.288685</td>\n",
       "      <td>-0.269134</td>\n",
       "      <td>-0.083662</td>\n",
       "      <td>F</td>\n",
       "      <td>1.606993</td>\n",
       "      <td>P</td>\n",
       "    </tr>\n",
       "    <tr>\n",
       "      <th>4</th>\n",
       "      <td>Earth</td>\n",
       "      <td>False</td>\n",
       "      <td>TRAPPIST-1e</td>\n",
       "      <td>-0.683193</td>\n",
       "      <td>False</td>\n",
       "      <td>-0.332891</td>\n",
       "      <td>-0.281056</td>\n",
       "      <td>0.831932</td>\n",
       "      <td>-0.268252</td>\n",
       "      <td>-0.239138</td>\n",
       "      <td>G</td>\n",
       "      <td>-1.152268</td>\n",
       "      <td>P</td>\n",
       "    </tr>\n",
       "  </tbody>\n",
       "</table>\n",
       "</div>"
      ],
      "text/plain": [
       "  HomePlanet CryoSleep  Destination       Age    VIP  RoomService  FoodCourt  \\\n",
       "0     Europa     False  TRAPPIST-1e  1.944636  False    -0.332891   2.099303   \n",
       "1       Mars      True          NaN -0.752347  False    -0.332891  -0.281056   \n",
       "2     Europa      True  TRAPPIST-1e  0.284954    NaN    -0.332891  -0.281056   \n",
       "3      Earth     False  TRAPPIST-1e  0.976488  False    -0.123802   0.464079   \n",
       "4      Earth     False  TRAPPIST-1e -0.683193  False    -0.332891  -0.281056   \n",
       "\n",
       "   ShoppingMall       Spa    VRDeck Deck_of_spaceship  Number_of_cabin  \\\n",
       "0     -0.266942 -0.097078  3.272797                 C        -0.929337   \n",
       "1     -0.288685 -0.269134 -0.270233                 F        -0.923471   \n",
       "2     -0.288685 -0.269134 -0.270233                 B        -0.499119   \n",
       "3     -0.288685 -0.269134 -0.083662                 F         1.606993   \n",
       "4      0.831932 -0.268252 -0.239138                 G        -1.152268   \n",
       "\n",
       "  Port_or_Starboard  \n",
       "0                 P  \n",
       "1                 S  \n",
       "2                 S  \n",
       "3                 P  \n",
       "4                 P  "
      ]
     },
     "execution_count": 106,
     "metadata": {},
     "output_type": "execute_result"
    }
   ],
   "source": [
    "y = train_whitout_nuls.Transported\n",
    "X = train_whitout_nuls.drop('Transported',axis=1)\n",
    "X.head()"
   ]
  },
  {
   "cell_type": "markdown",
   "id": "e68dcef0",
   "metadata": {},
   "source": [
    "### Usamos LabelEncoder para las columnas categoricas y escalamos"
   ]
  },
  {
   "cell_type": "code",
   "execution_count": 107,
   "id": "ef73e1a4",
   "metadata": {},
   "outputs": [],
   "source": [
    "from sklearn.preprocessing import StandardScaler, LabelEncoder\n",
    "\n",
    "label_cols = cat_cols\n",
    "\n",
    "for col in label_cols:\n",
    "    X[col] = X[col].astype(str)\n",
    "    X[col] = LabelEncoder().fit_transform(X[col])"
   ]
  },
  {
   "cell_type": "markdown",
   "id": "7fdcc0c7",
   "metadata": {},
   "source": [
    "### Usamos StandardScaler para escalar los datos."
   ]
  },
  {
   "cell_type": "code",
   "execution_count": 108,
   "id": "fa9dd1cb",
   "metadata": {
    "scrolled": false
   },
   "outputs": [
    {
     "data": {
      "text/html": [
       "<div>\n",
       "<style scoped>\n",
       "    .dataframe tbody tr th:only-of-type {\n",
       "        vertical-align: middle;\n",
       "    }\n",
       "\n",
       "    .dataframe tbody tr th {\n",
       "        vertical-align: top;\n",
       "    }\n",
       "\n",
       "    .dataframe thead th {\n",
       "        text-align: right;\n",
       "    }\n",
       "</style>\n",
       "<table border=\"1\" class=\"dataframe\">\n",
       "  <thead>\n",
       "    <tr style=\"text-align: right;\">\n",
       "      <th></th>\n",
       "      <th>HomePlanet</th>\n",
       "      <th>CryoSleep</th>\n",
       "      <th>Destination</th>\n",
       "      <th>Age</th>\n",
       "      <th>VIP</th>\n",
       "      <th>RoomService</th>\n",
       "      <th>FoodCourt</th>\n",
       "      <th>ShoppingMall</th>\n",
       "      <th>Spa</th>\n",
       "      <th>VRDeck</th>\n",
       "      <th>Deck_of_spaceship</th>\n",
       "      <th>Number_of_cabin</th>\n",
       "      <th>Port_or_Starboard</th>\n",
       "    </tr>\n",
       "  </thead>\n",
       "  <tbody>\n",
       "    <tr>\n",
       "      <th>0</th>\n",
       "      <td>0.320042</td>\n",
       "      <td>-0.746493</td>\n",
       "      <td>0.579856</td>\n",
       "      <td>1.960248</td>\n",
       "      <td>-0.209979</td>\n",
       "      <td>-0.334156</td>\n",
       "      <td>2.118173</td>\n",
       "      <td>-0.268919</td>\n",
       "      <td>-0.096627</td>\n",
       "      <td>3.299609</td>\n",
       "      <td>-1.289174</td>\n",
       "      <td>-0.934458</td>\n",
       "      <td>-0.989092</td>\n",
       "    </tr>\n",
       "    <tr>\n",
       "      <th>1</th>\n",
       "      <td>1.478619</td>\n",
       "      <td>1.108595</td>\n",
       "      <td>1.769839</td>\n",
       "      <td>-0.755722</td>\n",
       "      <td>-0.209979</td>\n",
       "      <td>-0.334156</td>\n",
       "      <td>-0.282150</td>\n",
       "      <td>-0.290874</td>\n",
       "      <td>-0.270164</td>\n",
       "      <td>-0.271107</td>\n",
       "      <td>0.333634</td>\n",
       "      <td>-0.928546</td>\n",
       "      <td>0.850144</td>\n",
       "    </tr>\n",
       "    <tr>\n",
       "      <th>2</th>\n",
       "      <td>0.320042</td>\n",
       "      <td>1.108595</td>\n",
       "      <td>0.579856</td>\n",
       "      <td>0.288882</td>\n",
       "      <td>5.752517</td>\n",
       "      <td>-0.334156</td>\n",
       "      <td>-0.282150</td>\n",
       "      <td>-0.290874</td>\n",
       "      <td>-0.270164</td>\n",
       "      <td>-0.271107</td>\n",
       "      <td>-1.830110</td>\n",
       "      <td>-0.500913</td>\n",
       "      <td>0.850144</td>\n",
       "    </tr>\n",
       "    <tr>\n",
       "      <th>3</th>\n",
       "      <td>-0.838536</td>\n",
       "      <td>-0.746493</td>\n",
       "      <td>0.579856</td>\n",
       "      <td>0.985284</td>\n",
       "      <td>-0.209979</td>\n",
       "      <td>-0.123370</td>\n",
       "      <td>0.469234</td>\n",
       "      <td>-0.290874</td>\n",
       "      <td>-0.270164</td>\n",
       "      <td>-0.083078</td>\n",
       "      <td>0.333634</td>\n",
       "      <td>1.621486</td>\n",
       "      <td>-0.989092</td>\n",
       "    </tr>\n",
       "    <tr>\n",
       "      <th>4</th>\n",
       "      <td>-0.838536</td>\n",
       "      <td>-0.746493</td>\n",
       "      <td>0.579856</td>\n",
       "      <td>-0.686082</td>\n",
       "      <td>-0.209979</td>\n",
       "      <td>-0.334156</td>\n",
       "      <td>-0.282150</td>\n",
       "      <td>0.840622</td>\n",
       "      <td>-0.269275</td>\n",
       "      <td>-0.239769</td>\n",
       "      <td>0.874570</td>\n",
       "      <td>-1.159113</td>\n",
       "      <td>-0.989092</td>\n",
       "    </tr>\n",
       "  </tbody>\n",
       "</table>\n",
       "</div>"
      ],
      "text/plain": [
       "   HomePlanet  CryoSleep  Destination       Age       VIP  RoomService  \\\n",
       "0    0.320042  -0.746493     0.579856  1.960248 -0.209979    -0.334156   \n",
       "1    1.478619   1.108595     1.769839 -0.755722 -0.209979    -0.334156   \n",
       "2    0.320042   1.108595     0.579856  0.288882  5.752517    -0.334156   \n",
       "3   -0.838536  -0.746493     0.579856  0.985284 -0.209979    -0.123370   \n",
       "4   -0.838536  -0.746493     0.579856 -0.686082 -0.209979    -0.334156   \n",
       "\n",
       "   FoodCourt  ShoppingMall       Spa    VRDeck  Deck_of_spaceship  \\\n",
       "0   2.118173     -0.268919 -0.096627  3.299609          -1.289174   \n",
       "1  -0.282150     -0.290874 -0.270164 -0.271107           0.333634   \n",
       "2  -0.282150     -0.290874 -0.270164 -0.271107          -1.830110   \n",
       "3   0.469234     -0.290874 -0.270164 -0.083078           0.333634   \n",
       "4  -0.282150      0.840622 -0.269275 -0.239769           0.874570   \n",
       "\n",
       "   Number_of_cabin  Port_or_Starboard  \n",
       "0        -0.934458          -0.989092  \n",
       "1        -0.928546           0.850144  \n",
       "2        -0.500913           0.850144  \n",
       "3         1.621486          -0.989092  \n",
       "4        -1.159113          -0.989092  "
      ]
     },
     "execution_count": 108,
     "metadata": {},
     "output_type": "execute_result"
    }
   ],
   "source": [
    "x_names = X.columns\n",
    "X = StandardScaler().fit_transform(X)\n",
    "X = pd.DataFrame(X, columns=x_names)\n",
    "X.head()"
   ]
  },
  {
   "cell_type": "markdown",
   "id": "ab4dee3b",
   "metadata": {},
   "source": [
    "### Dividimos en conjuntos de train y test."
   ]
  },
  {
   "cell_type": "code",
   "execution_count": 109,
   "id": "d0995384",
   "metadata": {},
   "outputs": [],
   "source": [
    "from sklearn.model_selection import train_test_split, GridSearchCV, StratifiedKFold\n",
    "\n",
    "x_train, x_test, y_train, y_test = train_test_split(X, y, train_size=0.9, random_state = 0 ) "
   ]
  },
  {
   "cell_type": "markdown",
   "id": "c1fc55b0",
   "metadata": {},
   "source": [
    "________________"
   ]
  },
  {
   "cell_type": "markdown",
   "id": "1ce1e8da",
   "metadata": {},
   "source": [
    "### Probamos con un Decition Tree."
   ]
  },
  {
   "cell_type": "code",
   "execution_count": 110,
   "id": "d438d46f",
   "metadata": {},
   "outputs": [],
   "source": [
    "from sklearn.metrics import (\n",
    "    accuracy_score,\n",
    "    precision_score,\n",
    "    recall_score,\n",
    "    f1_score,\n",
    "    confusion_matrix,\n",
    "    plot_confusion_matrix,\n",
    "    classification_report,\n",
    ")\n",
    "from sklearn.model_selection import (\n",
    "    train_test_split,\n",
    "    ParameterSampler,\n",
    "    RandomizedSearchCV,\n",
    "    ParameterGrid,\n",
    "    GridSearchCV,\n",
    ")\n",
    "from sklearn.tree import DecisionTreeClassifier, plot_tree"
   ]
  },
  {
   "cell_type": "code",
   "execution_count": 111,
   "id": "25864fc3",
   "metadata": {},
   "outputs": [],
   "source": [
    "from sklearn.tree import DecisionTreeClassifier\n",
    "from sklearn.metrics import accuracy_score, ConfusionMatrixDisplay, classification_report"
   ]
  },
  {
   "cell_type": "code",
   "execution_count": 112,
   "id": "51b5b6cc",
   "metadata": {},
   "outputs": [
    {
     "data": {
      "text/html": [
       "<style>#sk-container-id-3 {color: black;background-color: white;}#sk-container-id-3 pre{padding: 0;}#sk-container-id-3 div.sk-toggleable {background-color: white;}#sk-container-id-3 label.sk-toggleable__label {cursor: pointer;display: block;width: 100%;margin-bottom: 0;padding: 0.3em;box-sizing: border-box;text-align: center;}#sk-container-id-3 label.sk-toggleable__label-arrow:before {content: \"▸\";float: left;margin-right: 0.25em;color: #696969;}#sk-container-id-3 label.sk-toggleable__label-arrow:hover:before {color: black;}#sk-container-id-3 div.sk-estimator:hover label.sk-toggleable__label-arrow:before {color: black;}#sk-container-id-3 div.sk-toggleable__content {max-height: 0;max-width: 0;overflow: hidden;text-align: left;background-color: #f0f8ff;}#sk-container-id-3 div.sk-toggleable__content pre {margin: 0.2em;color: black;border-radius: 0.25em;background-color: #f0f8ff;}#sk-container-id-3 input.sk-toggleable__control:checked~div.sk-toggleable__content {max-height: 200px;max-width: 100%;overflow: auto;}#sk-container-id-3 input.sk-toggleable__control:checked~label.sk-toggleable__label-arrow:before {content: \"▾\";}#sk-container-id-3 div.sk-estimator input.sk-toggleable__control:checked~label.sk-toggleable__label {background-color: #d4ebff;}#sk-container-id-3 div.sk-label input.sk-toggleable__control:checked~label.sk-toggleable__label {background-color: #d4ebff;}#sk-container-id-3 input.sk-hidden--visually {border: 0;clip: rect(1px 1px 1px 1px);clip: rect(1px, 1px, 1px, 1px);height: 1px;margin: -1px;overflow: hidden;padding: 0;position: absolute;width: 1px;}#sk-container-id-3 div.sk-estimator {font-family: monospace;background-color: #f0f8ff;border: 1px dotted black;border-radius: 0.25em;box-sizing: border-box;margin-bottom: 0.5em;}#sk-container-id-3 div.sk-estimator:hover {background-color: #d4ebff;}#sk-container-id-3 div.sk-parallel-item::after {content: \"\";width: 100%;border-bottom: 1px solid gray;flex-grow: 1;}#sk-container-id-3 div.sk-label:hover label.sk-toggleable__label {background-color: #d4ebff;}#sk-container-id-3 div.sk-serial::before {content: \"\";position: absolute;border-left: 1px solid gray;box-sizing: border-box;top: 0;bottom: 0;left: 50%;z-index: 0;}#sk-container-id-3 div.sk-serial {display: flex;flex-direction: column;align-items: center;background-color: white;padding-right: 0.2em;padding-left: 0.2em;position: relative;}#sk-container-id-3 div.sk-item {position: relative;z-index: 1;}#sk-container-id-3 div.sk-parallel {display: flex;align-items: stretch;justify-content: center;background-color: white;position: relative;}#sk-container-id-3 div.sk-item::before, #sk-container-id-3 div.sk-parallel-item::before {content: \"\";position: absolute;border-left: 1px solid gray;box-sizing: border-box;top: 0;bottom: 0;left: 50%;z-index: -1;}#sk-container-id-3 div.sk-parallel-item {display: flex;flex-direction: column;z-index: 1;position: relative;background-color: white;}#sk-container-id-3 div.sk-parallel-item:first-child::after {align-self: flex-end;width: 50%;}#sk-container-id-3 div.sk-parallel-item:last-child::after {align-self: flex-start;width: 50%;}#sk-container-id-3 div.sk-parallel-item:only-child::after {width: 0;}#sk-container-id-3 div.sk-dashed-wrapped {border: 1px dashed gray;margin: 0 0.4em 0.5em 0.4em;box-sizing: border-box;padding-bottom: 0.4em;background-color: white;}#sk-container-id-3 div.sk-label label {font-family: monospace;font-weight: bold;display: inline-block;line-height: 1.2em;}#sk-container-id-3 div.sk-label-container {text-align: center;}#sk-container-id-3 div.sk-container {/* jupyter's `normalize.less` sets `[hidden] { display: none; }` but bootstrap.min.css set `[hidden] { display: none !important; }` so we also need the `!important` here to be able to override the default hidden behavior on the sphinx rendered scikit-learn.org. See: https://github.com/scikit-learn/scikit-learn/issues/21755 */display: inline-block !important;position: relative;}#sk-container-id-3 div.sk-text-repr-fallback {display: none;}</style><div id=\"sk-container-id-3\" class=\"sk-top-container\"><div class=\"sk-text-repr-fallback\"><pre>DecisionTreeClassifier(random_state=0)</pre><b>In a Jupyter environment, please rerun this cell to show the HTML representation or trust the notebook. <br />On GitHub, the HTML representation is unable to render, please try loading this page with nbviewer.org.</b></div><div class=\"sk-container\" hidden><div class=\"sk-item\"><div class=\"sk-estimator sk-toggleable\"><input class=\"sk-toggleable__control sk-hidden--visually\" id=\"sk-estimator-id-5\" type=\"checkbox\" checked><label for=\"sk-estimator-id-5\" class=\"sk-toggleable__label sk-toggleable__label-arrow\">DecisionTreeClassifier</label><div class=\"sk-toggleable__content\"><pre>DecisionTreeClassifier(random_state=0)</pre></div></div></div></div></div>"
      ],
      "text/plain": [
       "DecisionTreeClassifier(random_state=0)"
      ]
     },
     "execution_count": 112,
     "metadata": {},
     "output_type": "execute_result"
    }
   ],
   "source": [
    "clf_tree = DecisionTreeClassifier(max_depth=None, random_state=0)\n",
    "clf_tree.fit(x_train, y_train)"
   ]
  },
  {
   "cell_type": "code",
   "execution_count": 113,
   "id": "622232cc",
   "metadata": {},
   "outputs": [
    {
     "name": "stdout",
     "output_type": "stream",
     "text": [
      "Train accuracy: 1.0\n",
      "Test accuracy: 0.77\n"
     ]
    }
   ],
   "source": [
    "y_train_pred = clf_tree.predict(x_train)\n",
    "y_test_pred = clf_tree.predict(x_test)\n",
    "\n",
    "train_acc = accuracy_score(y_train, y_train_pred)\n",
    "test_acc = accuracy_score(y_test, y_test_pred)\n",
    "print(f\"Train accuracy: {train_acc:0.2}\")\n",
    "print(f\"Test accuracy: {test_acc:0.2}\")"
   ]
  },
  {
   "cell_type": "code",
   "execution_count": 114,
   "id": "bbc2d73e",
   "metadata": {
    "scrolled": true
   },
   "outputs": [
    {
     "name": "stdout",
     "output_type": "stream",
     "text": [
      "              precision    recall  f1-score   support\n",
      "\n",
      "           0       0.77      0.79      0.78       391\n",
      "           1       0.78      0.76      0.77       392\n",
      "\n",
      "    accuracy                           0.77       783\n",
      "   macro avg       0.77      0.77      0.77       783\n",
      "weighted avg       0.77      0.77      0.77       783\n",
      "\n"
     ]
    }
   ],
   "source": [
    "print(classification_report(y_test, y_test_pred))"
   ]
  },
  {
   "cell_type": "code",
   "execution_count": 115,
   "id": "49914ae5",
   "metadata": {},
   "outputs": [
    {
     "name": "stdout",
     "output_type": "stream",
     "text": [
      "True Negative: 307\n",
      "False Positive: 84\n",
      "False Negative: 93\n",
      "True Positive: 299\n"
     ]
    }
   ],
   "source": [
    "tn, fp, fn, tp = confusion_matrix(y_test, y_test_pred, labels=[0, 1]).ravel()\n",
    "\n",
    "print(f\"True Negative: {tn}\")\n",
    "print(f\"False Positive: {fp}\")\n",
    "print(f\"False Negative: {fn}\")\n",
    "print(f\"True Positive: {tp}\")"
   ]
  },
  {
   "cell_type": "code",
   "execution_count": 116,
   "id": "27a24502",
   "metadata": {
    "scrolled": true
   },
   "outputs": [
    {
     "data": {
      "image/png": "[encoded data removed]",
      "text/plain": [
       "<Figure size 504x360 with 2 Axes>"
      ]
     },
     "metadata": {
      "needs_background": "light"
     },
     "output_type": "display_data"
    }
   ],
   "source": [
    "plot_confusion_matrix(clf_tree, x_test, y_test, cmap=\"magma\");"
   ]
  },
  {
   "cell_type": "markdown",
   "id": "2ed7d10b",
   "metadata": {},
   "source": [
    "#### Buscamos mejores hyperparametros."
   ]
  },
  {
   "cell_type": "code",
   "execution_count": 117,
   "id": "204bd8a1",
   "metadata": {},
   "outputs": [],
   "source": [
    "param_grid = {\n",
    "    \"criterion\": [\"gini\", \"entropy\"],\n",
    "    \"max_depth\": [2, 4, 6, 8, 10],\n",
    "    \"min_samples_leaf\": [2, 4, 6],\n",
    "    \"random_state\": [0, 2, 4],\n",
    "}"
   ]
  },
  {
   "cell_type": "code",
   "execution_count": 118,
   "id": "ebf5dcb6",
   "metadata": {},
   "outputs": [],
   "source": [
    "for params in ParameterGrid(param_grid):\n",
    "    model = DecisionTreeClassifier(**params)"
   ]
  },
  {
   "cell_type": "code",
   "execution_count": 119,
   "id": "bfdb05c5",
   "metadata": {},
   "outputs": [
    {
     "data": {
      "text/html": [
       "<style>#sk-container-id-4 {color: black;background-color: white;}#sk-container-id-4 pre{padding: 0;}#sk-container-id-4 div.sk-toggleable {background-color: white;}#sk-container-id-4 label.sk-toggleable__label {cursor: pointer;display: block;width: 100%;margin-bottom: 0;padding: 0.3em;box-sizing: border-box;text-align: center;}#sk-container-id-4 label.sk-toggleable__label-arrow:before {content: \"▸\";float: left;margin-right: 0.25em;color: #696969;}#sk-container-id-4 label.sk-toggleable__label-arrow:hover:before {color: black;}#sk-container-id-4 div.sk-estimator:hover label.sk-toggleable__label-arrow:before {color: black;}#sk-container-id-4 div.sk-toggleable__content {max-height: 0;max-width: 0;overflow: hidden;text-align: left;background-color: #f0f8ff;}#sk-container-id-4 div.sk-toggleable__content pre {margin: 0.2em;color: black;border-radius: 0.25em;background-color: #f0f8ff;}#sk-container-id-4 input.sk-toggleable__control:checked~div.sk-toggleable__content {max-height: 200px;max-width: 100%;overflow: auto;}#sk-container-id-4 input.sk-toggleable__control:checked~label.sk-toggleable__label-arrow:before {content: \"▾\";}#sk-container-id-4 div.sk-estimator input.sk-toggleable__control:checked~label.sk-toggleable__label {background-color: #d4ebff;}#sk-container-id-4 div.sk-label input.sk-toggleable__control:checked~label.sk-toggleable__label {background-color: #d4ebff;}#sk-container-id-4 input.sk-hidden--visually {border: 0;clip: rect(1px 1px 1px 1px);clip: rect(1px, 1px, 1px, 1px);height: 1px;margin: -1px;overflow: hidden;padding: 0;position: absolute;width: 1px;}#sk-container-id-4 div.sk-estimator {font-family: monospace;background-color: #f0f8ff;border: 1px dotted black;border-radius: 0.25em;box-sizing: border-box;margin-bottom: 0.5em;}#sk-container-id-4 div.sk-estimator:hover {background-color: #d4ebff;}#sk-container-id-4 div.sk-parallel-item::after {content: \"\";width: 100%;border-bottom: 1px solid gray;flex-grow: 1;}#sk-container-id-4 div.sk-label:hover label.sk-toggleable__label {background-color: #d4ebff;}#sk-container-id-4 div.sk-serial::before {content: \"\";position: absolute;border-left: 1px solid gray;box-sizing: border-box;top: 0;bottom: 0;left: 50%;z-index: 0;}#sk-container-id-4 div.sk-serial {display: flex;flex-direction: column;align-items: center;background-color: white;padding-right: 0.2em;padding-left: 0.2em;position: relative;}#sk-container-id-4 div.sk-item {position: relative;z-index: 1;}#sk-container-id-4 div.sk-parallel {display: flex;align-items: stretch;justify-content: center;background-color: white;position: relative;}#sk-container-id-4 div.sk-item::before, #sk-container-id-4 div.sk-parallel-item::before {content: \"\";position: absolute;border-left: 1px solid gray;box-sizing: border-box;top: 0;bottom: 0;left: 50%;z-index: -1;}#sk-container-id-4 div.sk-parallel-item {display: flex;flex-direction: column;z-index: 1;position: relative;background-color: white;}#sk-container-id-4 div.sk-parallel-item:first-child::after {align-self: flex-end;width: 50%;}#sk-container-id-4 div.sk-parallel-item:last-child::after {align-self: flex-start;width: 50%;}#sk-container-id-4 div.sk-parallel-item:only-child::after {width: 0;}#sk-container-id-4 div.sk-dashed-wrapped {border: 1px dashed gray;margin: 0 0.4em 0.5em 0.4em;box-sizing: border-box;padding-bottom: 0.4em;background-color: white;}#sk-container-id-4 div.sk-label label {font-family: monospace;font-weight: bold;display: inline-block;line-height: 1.2em;}#sk-container-id-4 div.sk-label-container {text-align: center;}#sk-container-id-4 div.sk-container {/* jupyter's `normalize.less` sets `[hidden] { display: none; }` but bootstrap.min.css set `[hidden] { display: none !important; }` so we also need the `!important` here to be able to override the default hidden behavior on the sphinx rendered scikit-learn.org. See: https://github.com/scikit-learn/scikit-learn/issues/21755 */display: inline-block !important;position: relative;}#sk-container-id-4 div.sk-text-repr-fallback {display: none;}</style><div id=\"sk-container-id-4\" class=\"sk-top-container\"><div class=\"sk-text-repr-fallback\"><pre>GridSearchCV(cv=5, estimator=DecisionTreeClassifier(),\n",
       "             param_grid={&#x27;criterion&#x27;: [&#x27;gini&#x27;, &#x27;entropy&#x27;],\n",
       "                         &#x27;max_depth&#x27;: [2, 4, 6, 8, 10],\n",
       "                         &#x27;min_samples_leaf&#x27;: [2, 4, 6],\n",
       "                         &#x27;random_state&#x27;: [0, 2, 4]},\n",
       "             scoring=&#x27;accuracy&#x27;)</pre><b>In a Jupyter environment, please rerun this cell to show the HTML representation or trust the notebook. <br />On GitHub, the HTML representation is unable to render, please try loading this page with nbviewer.org.</b></div><div class=\"sk-container\" hidden><div class=\"sk-item sk-dashed-wrapped\"><div class=\"sk-label-container\"><div class=\"sk-label sk-toggleable\"><input class=\"sk-toggleable__control sk-hidden--visually\" id=\"sk-estimator-id-6\" type=\"checkbox\" ><label for=\"sk-estimator-id-6\" class=\"sk-toggleable__label sk-toggleable__label-arrow\">GridSearchCV</label><div class=\"sk-toggleable__content\"><pre>GridSearchCV(cv=5, estimator=DecisionTreeClassifier(),\n",
       "             param_grid={&#x27;criterion&#x27;: [&#x27;gini&#x27;, &#x27;entropy&#x27;],\n",
       "                         &#x27;max_depth&#x27;: [2, 4, 6, 8, 10],\n",
       "                         &#x27;min_samples_leaf&#x27;: [2, 4, 6],\n",
       "                         &#x27;random_state&#x27;: [0, 2, 4]},\n",
       "             scoring=&#x27;accuracy&#x27;)</pre></div></div></div><div class=\"sk-parallel\"><div class=\"sk-parallel-item\"><div class=\"sk-item\"><div class=\"sk-label-container\"><div class=\"sk-label sk-toggleable\"><input class=\"sk-toggleable__control sk-hidden--visually\" id=\"sk-estimator-id-7\" type=\"checkbox\" ><label for=\"sk-estimator-id-7\" class=\"sk-toggleable__label sk-toggleable__label-arrow\">estimator: DecisionTreeClassifier</label><div class=\"sk-toggleable__content\"><pre>DecisionTreeClassifier()</pre></div></div></div><div class=\"sk-serial\"><div class=\"sk-item\"><div class=\"sk-estimator sk-toggleable\"><input class=\"sk-toggleable__control sk-hidden--visually\" id=\"sk-estimator-id-8\" type=\"checkbox\" ><label for=\"sk-estimator-id-8\" class=\"sk-toggleable__label sk-toggleable__label-arrow\">DecisionTreeClassifier</label><div class=\"sk-toggleable__content\"><pre>DecisionTreeClassifier()</pre></div></div></div></div></div></div></div></div></div></div>"
      ],
      "text/plain": [
       "GridSearchCV(cv=5, estimator=DecisionTreeClassifier(),\n",
       "             param_grid={'criterion': ['gini', 'entropy'],\n",
       "                         'max_depth': [2, 4, 6, 8, 10],\n",
       "                         'min_samples_leaf': [2, 4, 6],\n",
       "                         'random_state': [0, 2, 4]},\n",
       "             scoring='accuracy')"
      ]
     },
     "execution_count": 119,
     "metadata": {},
     "output_type": "execute_result"
    }
   ],
   "source": [
    "model = DecisionTreeClassifier()\n",
    "\n",
    "cv = GridSearchCV(model, param_grid, scoring=\"accuracy\", cv=5)\n",
    "cv.fit(x_train, y_train)"
   ]
  },
  {
   "cell_type": "code",
   "execution_count": 120,
   "id": "b088f3e0",
   "metadata": {},
   "outputs": [
    {
     "name": "stdout",
     "output_type": "stream",
     "text": [
      "crit.\tdepth\t| mean\tstd\trank\n",
      "gini\t2\t| 0.72\t0.01\t73\n",
      "gini\t2\t| 0.72\t0.01\t73\n",
      "gini\t2\t| 0.72\t0.01\t73\n",
      "gini\t2\t| 0.72\t0.01\t73\n",
      "gini\t2\t| 0.72\t0.01\t73\n",
      "gini\t2\t| 0.72\t0.01\t73\n",
      "gini\t2\t| 0.72\t0.01\t73\n",
      "gini\t2\t| 0.72\t0.01\t73\n",
      "gini\t2\t| 0.72\t0.01\t73\n",
      "gini\t4\t| 0.75\t0.01\t64\n",
      "gini\t4\t| 0.75\t0.01\t64\n",
      "gini\t4\t| 0.75\t0.01\t64\n",
      "gini\t4\t| 0.75\t0.01\t64\n",
      "gini\t4\t| 0.75\t0.01\t64\n",
      "gini\t4\t| 0.75\t0.01\t64\n",
      "gini\t4\t| 0.75\t0.01\t64\n",
      "gini\t4\t| 0.75\t0.01\t64\n",
      "gini\t4\t| 0.75\t0.01\t64\n",
      "gini\t6\t| 0.77\t0.01\t40\n",
      "gini\t6\t| 0.77\t0.01\t39\n",
      "gini\t6\t| 0.77\t0.01\t36\n",
      "gini\t6\t| 0.77\t0.01\t47\n",
      "gini\t6\t| 0.77\t0.01\t43\n",
      "gini\t6\t| 0.77\t0.01\t46\n",
      "gini\t6\t| 0.77\t0.01\t45\n",
      "gini\t6\t| 0.77\t0.01\t47\n",
      "gini\t6\t| 0.77\t0.01\t47\n",
      "gini\t8\t| 0.77\t0.01\t5\n",
      "gini\t8\t| 0.77\t0.01\t8\n",
      "gini\t8\t| 0.77\t0.01\t7\n",
      "gini\t8\t| 0.77\t0.01\t8\n",
      "gini\t8\t| 0.77\t0.01\t12\n",
      "gini\t8\t| 0.77\t0.01\t5\n",
      "gini\t8\t| 0.77\t0.01\t8\n",
      "gini\t8\t| 0.77\t0.01\t11\n",
      "gini\t8\t| 0.77\t0.01\t13\n",
      "gini\t10\t| 0.77\t0.01\t34\n",
      "gini\t10\t| 0.77\t0.01\t36\n",
      "gini\t10\t| 0.77\t0.01\t30\n",
      "gini\t10\t| 0.77\t0.01\t32\n",
      "gini\t10\t| 0.77\t0.01\t33\n",
      "gini\t10\t| 0.77\t0.01\t36\n",
      "gini\t10\t| 0.76\t0.00\t54\n",
      "gini\t10\t| 0.77\t0.01\t52\n",
      "gini\t10\t| 0.77\t0.01\t52\n",
      "entropy\t2\t| 0.72\t0.01\t82\n",
      "entropy\t2\t| 0.72\t0.01\t82\n",
      "entropy\t2\t| 0.72\t0.01\t82\n",
      "entropy\t2\t| 0.72\t0.01\t82\n",
      "entropy\t2\t| 0.72\t0.01\t82\n",
      "entropy\t2\t| 0.72\t0.01\t82\n",
      "entropy\t2\t| 0.72\t0.01\t82\n",
      "entropy\t2\t| 0.72\t0.01\t82\n",
      "entropy\t2\t| 0.72\t0.01\t82\n",
      "entropy\t4\t| 0.76\t0.01\t55\n",
      "entropy\t4\t| 0.76\t0.01\t55\n",
      "entropy\t4\t| 0.76\t0.01\t55\n",
      "entropy\t4\t| 0.76\t0.01\t55\n",
      "entropy\t4\t| 0.76\t0.01\t55\n",
      "entropy\t4\t| 0.76\t0.01\t55\n",
      "entropy\t4\t| 0.76\t0.01\t55\n",
      "entropy\t4\t| 0.76\t0.01\t55\n",
      "entropy\t4\t| 0.76\t0.01\t55\n",
      "entropy\t6\t| 0.77\t0.01\t16\n",
      "entropy\t6\t| 0.77\t0.01\t17\n",
      "entropy\t6\t| 0.77\t0.01\t17\n",
      "entropy\t6\t| 0.77\t0.01\t19\n",
      "entropy\t6\t| 0.77\t0.01\t22\n",
      "entropy\t6\t| 0.77\t0.01\t19\n",
      "entropy\t6\t| 0.77\t0.01\t27\n",
      "entropy\t6\t| 0.77\t0.01\t27\n",
      "entropy\t6\t| 0.77\t0.01\t24\n",
      "entropy\t8\t| 0.77\t0.01\t4\n",
      "entropy\t8\t| 0.77\t0.01\t14\n",
      "entropy\t8\t| 0.77\t0.01\t15\n",
      "entropy\t8\t| 0.77\t0.01\t24\n",
      "entropy\t8\t| 0.77\t0.01\t19\n",
      "entropy\t8\t| 0.77\t0.01\t23\n",
      "entropy\t8\t| 0.77\t0.01\t1\n",
      "entropy\t8\t| 0.77\t0.01\t3\n",
      "entropy\t8\t| 0.77\t0.01\t1\n",
      "entropy\t10\t| 0.77\t0.01\t31\n",
      "entropy\t10\t| 0.77\t0.01\t29\n",
      "entropy\t10\t| 0.77\t0.01\t26\n",
      "entropy\t10\t| 0.77\t0.01\t50\n",
      "entropy\t10\t| 0.77\t0.01\t44\n",
      "entropy\t10\t| 0.77\t0.01\t51\n",
      "entropy\t10\t| 0.77\t0.01\t35\n",
      "entropy\t10\t| 0.77\t0.01\t42\n",
      "entropy\t10\t| 0.77\t0.01\t40\n"
     ]
    }
   ],
   "source": [
    "results = cv.cv_results_\n",
    "params = results[\"params\"]\n",
    "mean = results[\"mean_test_score\"]\n",
    "std = results[\"std_test_score\"]\n",
    "rank = results[\"rank_test_score\"]\n",
    "\n",
    "print(\"crit.\\tdepth\\t| mean\\tstd\\trank\")\n",
    "for p, m, s, r in zip(params, mean, std, rank):\n",
    "    print(f\"{p['criterion']}\\t{p['max_depth']}\\t| {m:0.2f}\\t{s:0.2f}\\t{r}\")"
   ]
  },
  {
   "cell_type": "code",
   "execution_count": 121,
   "id": "fdb7e35f",
   "metadata": {},
   "outputs": [
    {
     "data": {
      "text/html": [
       "<div>\n",
       "<style scoped>\n",
       "    .dataframe tbody tr th:only-of-type {\n",
       "        vertical-align: middle;\n",
       "    }\n",
       "\n",
       "    .dataframe tbody tr th {\n",
       "        vertical-align: top;\n",
       "    }\n",
       "\n",
       "    .dataframe thead th {\n",
       "        text-align: right;\n",
       "    }\n",
       "</style>\n",
       "<table border=\"1\" class=\"dataframe\">\n",
       "  <thead>\n",
       "    <tr style=\"text-align: right;\">\n",
       "      <th></th>\n",
       "      <th>param_criterion</th>\n",
       "      <th>param_max_depth</th>\n",
       "      <th>mean_test_score</th>\n",
       "      <th>std_test_score</th>\n",
       "      <th>rank_test_score</th>\n",
       "    </tr>\n",
       "  </thead>\n",
       "  <tbody>\n",
       "    <tr>\n",
       "      <th>80</th>\n",
       "      <td>entropy</td>\n",
       "      <td>8</td>\n",
       "      <td>0.773295</td>\n",
       "      <td>0.006593</td>\n",
       "      <td>1</td>\n",
       "    </tr>\n",
       "    <tr>\n",
       "      <th>78</th>\n",
       "      <td>entropy</td>\n",
       "      <td>8</td>\n",
       "      <td>0.773295</td>\n",
       "      <td>0.006531</td>\n",
       "      <td>1</td>\n",
       "    </tr>\n",
       "    <tr>\n",
       "      <th>79</th>\n",
       "      <td>entropy</td>\n",
       "      <td>8</td>\n",
       "      <td>0.773153</td>\n",
       "      <td>0.006394</td>\n",
       "      <td>3</td>\n",
       "    </tr>\n",
       "    <tr>\n",
       "      <th>72</th>\n",
       "      <td>entropy</td>\n",
       "      <td>8</td>\n",
       "      <td>0.773011</td>\n",
       "      <td>0.010720</td>\n",
       "      <td>4</td>\n",
       "    </tr>\n",
       "    <tr>\n",
       "      <th>32</th>\n",
       "      <td>gini</td>\n",
       "      <td>8</td>\n",
       "      <td>0.772869</td>\n",
       "      <td>0.010008</td>\n",
       "      <td>5</td>\n",
       "    </tr>\n",
       "    <tr>\n",
       "      <th>...</th>\n",
       "      <td>...</td>\n",
       "      <td>...</td>\n",
       "      <td>...</td>\n",
       "      <td>...</td>\n",
       "      <td>...</td>\n",
       "    </tr>\n",
       "    <tr>\n",
       "      <th>49</th>\n",
       "      <td>entropy</td>\n",
       "      <td>2</td>\n",
       "      <td>0.716193</td>\n",
       "      <td>0.009013</td>\n",
       "      <td>82</td>\n",
       "    </tr>\n",
       "    <tr>\n",
       "      <th>50</th>\n",
       "      <td>entropy</td>\n",
       "      <td>2</td>\n",
       "      <td>0.716193</td>\n",
       "      <td>0.009013</td>\n",
       "      <td>82</td>\n",
       "    </tr>\n",
       "    <tr>\n",
       "      <th>53</th>\n",
       "      <td>entropy</td>\n",
       "      <td>2</td>\n",
       "      <td>0.716193</td>\n",
       "      <td>0.009013</td>\n",
       "      <td>82</td>\n",
       "    </tr>\n",
       "    <tr>\n",
       "      <th>51</th>\n",
       "      <td>entropy</td>\n",
       "      <td>2</td>\n",
       "      <td>0.716193</td>\n",
       "      <td>0.009013</td>\n",
       "      <td>82</td>\n",
       "    </tr>\n",
       "    <tr>\n",
       "      <th>52</th>\n",
       "      <td>entropy</td>\n",
       "      <td>2</td>\n",
       "      <td>0.716193</td>\n",
       "      <td>0.009013</td>\n",
       "      <td>82</td>\n",
       "    </tr>\n",
       "  </tbody>\n",
       "</table>\n",
       "<p>90 rows × 5 columns</p>\n",
       "</div>"
      ],
      "text/plain": [
       "   param_criterion param_max_depth  mean_test_score  std_test_score  \\\n",
       "80         entropy               8         0.773295        0.006593   \n",
       "78         entropy               8         0.773295        0.006531   \n",
       "79         entropy               8         0.773153        0.006394   \n",
       "72         entropy               8         0.773011        0.010720   \n",
       "32            gini               8         0.772869        0.010008   \n",
       "..             ...             ...              ...             ...   \n",
       "49         entropy               2         0.716193        0.009013   \n",
       "50         entropy               2         0.716193        0.009013   \n",
       "53         entropy               2         0.716193        0.009013   \n",
       "51         entropy               2         0.716193        0.009013   \n",
       "52         entropy               2         0.716193        0.009013   \n",
       "\n",
       "    rank_test_score  \n",
       "80                1  \n",
       "78                1  \n",
       "79                3  \n",
       "72                4  \n",
       "32                5  \n",
       "..              ...  \n",
       "49               82  \n",
       "50               82  \n",
       "53               82  \n",
       "51               82  \n",
       "52               82  \n",
       "\n",
       "[90 rows x 5 columns]"
      ]
     },
     "execution_count": 121,
     "metadata": {},
     "output_type": "execute_result"
    }
   ],
   "source": [
    "df = pd.DataFrame(results)\n",
    "df = df[\n",
    "    [\n",
    "        \"param_criterion\",\n",
    "        \"param_max_depth\",\n",
    "        \"mean_test_score\",\n",
    "        \"std_test_score\",\n",
    "        \"rank_test_score\",\n",
    "    ]\n",
    "]\n",
    "df = df.sort_values(by=\"rank_test_score\")\n",
    "df"
   ]
  },
  {
   "cell_type": "code",
   "execution_count": 122,
   "id": "71282b3d",
   "metadata": {},
   "outputs": [
    {
     "data": {
      "text/plain": [
       "{'criterion': 'entropy',\n",
       " 'max_depth': 8,\n",
       " 'min_samples_leaf': 6,\n",
       " 'random_state': 0}"
      ]
     },
     "execution_count": 122,
     "metadata": {},
     "output_type": "execute_result"
    }
   ],
   "source": [
    "cv.best_params_"
   ]
  },
  {
   "cell_type": "code",
   "execution_count": 123,
   "id": "fe0d60c0",
   "metadata": {},
   "outputs": [
    {
     "data": {
      "image/png": "[encoded data removed]",
      "text/plain": [
       "<Figure size 504x360 with 1 Axes>"
      ]
     },
     "metadata": {
      "needs_background": "light"
     },
     "output_type": "display_data"
    }
   ],
   "source": [
    "best_model = cv.best_estimator_\n",
    "plot_tree(best_model);"
   ]
  },
  {
   "cell_type": "code",
   "execution_count": 124,
   "id": "88065551",
   "metadata": {},
   "outputs": [],
   "source": [
    "y_train_pred = best_model.predict(x_train)\n",
    "y_test_pred = best_model.predict(x_test)"
   ]
  },
  {
   "cell_type": "code",
   "execution_count": 125,
   "id": "45b79b66",
   "metadata": {},
   "outputs": [
    {
     "name": "stdout",
     "output_type": "stream",
     "text": [
      "Train accuracy: 0.8\n",
      "Test accuracy: 0.805\n"
     ]
    }
   ],
   "source": [
    "train_acc = accuracy_score(y_train, y_train_pred)\n",
    "test_acc = accuracy_score(y_test, y_test_pred)\n",
    "print(f\"Train accuracy: {train_acc:0.2}\")\n",
    "print(f\"Test accuracy: {test_acc:0.3}\")"
   ]
  },
  {
   "cell_type": "markdown",
   "id": "e42beb5b",
   "metadata": {},
   "source": [
    ">**Train accuracy: 0.8**  \n",
    ">**Test accuracy: 0.784**\n",
    "esto es para los nulos categoricos eliminados."
   ]
  },
  {
   "cell_type": "markdown",
   "id": "2f20b975",
   "metadata": {},
   "source": [
    ">Mejoramos un poquito el accuracy del test en relacion al modelo del Baseline."
   ]
  },
  {
   "cell_type": "code",
   "execution_count": 126,
   "id": "34d5b1f9",
   "metadata": {},
   "outputs": [
    {
     "name": "stdout",
     "output_type": "stream",
     "text": [
      "              precision    recall  f1-score   support\n",
      "\n",
      "           0       0.80      0.80      0.80      3468\n",
      "           1       0.81      0.81      0.81      3572\n",
      "\n",
      "    accuracy                           0.80      7040\n",
      "   macro avg       0.80      0.80      0.80      7040\n",
      "weighted avg       0.80      0.80      0.80      7040\n",
      "\n"
     ]
    }
   ],
   "source": [
    "print(classification_report(y_train, y_train_pred))"
   ]
  },
  {
   "cell_type": "code",
   "execution_count": 127,
   "id": "151fd277",
   "metadata": {},
   "outputs": [
    {
     "name": "stdout",
     "output_type": "stream",
     "text": [
      "              precision    recall  f1-score   support\n",
      "\n",
      "           0       0.78      0.84      0.81       391\n",
      "           1       0.83      0.77      0.80       392\n",
      "\n",
      "    accuracy                           0.80       783\n",
      "   macro avg       0.81      0.80      0.80       783\n",
      "weighted avg       0.81      0.80      0.80       783\n",
      "\n"
     ]
    }
   ],
   "source": [
    "print(classification_report(y_test, y_test_pred))"
   ]
  },
  {
   "cell_type": "code",
   "execution_count": 128,
   "id": "38fb1509",
   "metadata": {},
   "outputs": [
    {
     "name": "stdout",
     "output_type": "stream",
     "text": [
      "True Negative: 328\n",
      "False Positive: 63\n",
      "False Negative: 90\n",
      "True Positive: 302\n"
     ]
    }
   ],
   "source": [
    "tn, fp, fn, tp = confusion_matrix(y_test, y_test_pred, labels=[0, 1]).ravel()\n",
    "\n",
    "print(f\"True Negative: {tn}\")\n",
    "print(f\"False Positive: {fp}\")\n",
    "print(f\"False Negative: {fn}\")\n",
    "print(f\"True Positive: {tp}\")"
   ]
  },
  {
   "cell_type": "code",
   "execution_count": 129,
   "id": "5cd54969",
   "metadata": {},
   "outputs": [
    {
     "data": {
      "image/png": "[encoded data removed]",
      "text/plain": [
       "<Figure size 504x360 with 2 Axes>"
      ]
     },
     "metadata": {
      "needs_background": "light"
     },
     "output_type": "display_data"
    }
   ],
   "source": [
    "plot_confusion_matrix(best_model, x_test, y_test, cmap=\"magma\");"
   ]
  },
  {
   "cell_type": "markdown",
   "id": "8bf21f91",
   "metadata": {},
   "source": [
    "### Podemos concluir provisoriamente que el arbol de decisiones no es el mejor modelo predictivo para este conjunto de datos. "
   ]
  },
  {
   "cell_type": "code",
   "execution_count": null,
   "id": "ae660a34",
   "metadata": {},
   "outputs": [],
   "source": []
  },
  {
   "cell_type": "code",
   "execution_count": 130,
   "id": "55f36334",
   "metadata": {},
   "outputs": [
    {
     "name": "stdout",
     "output_type": "stream",
     "text": [
      "Arbol de decisión\n",
      "Accuracy train Arbol de decisión: 99.96%\n",
      "Accuracy test Arbol de decisión: 76.63%\n",
      "Random Forest\n",
      "Accuracy train Random Forest: 99.96%\n",
      "Accuracy test Random Forest: 81.74%\n",
      "Regresión Logística\n",
      "Accuracy train Regresión Logística: 78.74%\n",
      "Accuracy test Regresión Logística: 80.84%\n",
      "Perceptrón multicapa\n",
      "Accuracy train Perceptrón multicapa: 83.01%\n",
      "Accuracy test Perceptrón multicapa: 83.01%\n",
      "XGBoost\n",
      "Accuracy train XGBoost: 92.86%\n",
      "Accuracy test XGBoost: 80.97%\n",
      "Naive Bayes\n",
      "Accuracy train Naive Bayes: 70.43%\n",
      "Accuracy test Naive Bayes: 72.80%\n",
      "SVM\n",
      "Accuracy train SVM: 78.47%\n",
      "Accuracy test SVM: 80.08%\n"
     ]
    }
   ],
   "source": [
    "from sklearn.model_selection import cross_val_score, cross_validate, KFold, StratifiedKFold, LeaveOneOut, LeavePOut\n",
    "from sklearn.metrics import recall_score, accuracy_score, precision_score, f1_score, roc_auc_score, mean_squared_error, r2_score, confusion_matrix, classification_report, ConfusionMatrixDisplay\n",
    "\n",
    "from sklearn.tree import DecisionTreeClassifier\n",
    "from sklearn.ensemble import RandomForestClassifier\n",
    "from sklearn.linear_model import LogisticRegression\n",
    "from sklearn.neural_network import MLPClassifier\n",
    "from sklearn.neural_network import MLPRegressor\n",
    "from xgboost import XGBClassifier\n",
    "from sklearn.naive_bayes import GaussianNB\n",
    "from sklearn.svm import LinearSVC\n",
    "\n",
    "\n",
    "clfs =  [DecisionTreeClassifier(),\n",
    "        RandomForestClassifier(),\n",
    "        LogisticRegression(),\n",
    "        MLPClassifier(),\n",
    "        XGBClassifier(),\n",
    "        GaussianNB(),\n",
    "        LinearSVC(),\n",
    "        ]\n",
    "\n",
    "names = ['Arbol de decisión',\n",
    "        'Random Forest',\n",
    "        'Regresión Logística',\n",
    "        'Perceptrón multicapa',\n",
    "        'XGBoost',\n",
    "        'Naive Bayes',\n",
    "        'SVM',\n",
    "        ]\n",
    "\n",
    "trained_models = []\n",
    "accuracy_models = []\n",
    "for clf, name in zip(clfs, names):\n",
    "    print(name)\n",
    "    clf.fit(x_train, y_train)\n",
    "    train_predictions = clf.predict(x_train)\n",
    "    accuracy = accuracy_score(y_train, train_predictions)\n",
    "    print(f\"Accuracy train {name}: %.2f%%\" % (accuracy * 100.0))\n",
    "\n",
    "    test_predictions = clf.predict(x_test)\n",
    "    accuracy = accuracy_score(y_test, test_predictions)\n",
    "    print(f\"Accuracy test {name}: %.2f%%\" % (accuracy * 100.0))\n",
    "    trained_models.append(clf)    \n",
    "    accuracy_models.append(accuracy)"
   ]
  },
  {
   "cell_type": "code",
   "execution_count": null,
   "id": "66aea1aa",
   "metadata": {},
   "outputs": [],
   "source": []
  },
  {
   "cell_type": "markdown",
   "id": "5725af51",
   "metadata": {},
   "source": [
    "## XG BOOST"
   ]
  },
  {
   "cell_type": "code",
   "execution_count": 131,
   "id": "b02541b9",
   "metadata": {},
   "outputs": [],
   "source": [
    "import xgboost as xgb"
   ]
  },
  {
   "cell_type": "code",
   "execution_count": 132,
   "id": "44a28f75",
   "metadata": {},
   "outputs": [],
   "source": [
    "x_train, x_test, y_train, y_test = train_test_split(X, y, train_size=0.9, random_state = 0)"
   ]
  },
  {
   "cell_type": "markdown",
   "id": "ca852495",
   "metadata": {},
   "source": [
    "binary:hinge: hinge loss for binary classification. This makes predictions of 0 or 1, rather than producing probabilities.\n",
    "Parametros:\n",
    "n_estimators (int) – Number of boosting rounds.\n",
    "max_depth "
   ]
  },
  {
   "cell_type": "code",
   "execution_count": 133,
   "id": "8789bdc1",
   "metadata": {
    "scrolled": true
   },
   "outputs": [
    {
     "name": "stdout",
     "output_type": "stream",
     "text": [
      "Train Accuracy de XGBoost:  0.8617897727272728\n",
      "Test Accuracy de XGBoost:  0.8454661558109834\n"
     ]
    }
   ],
   "source": [
    "clf_xgb = xgb.XGBClassifier(objective= 'binary:hinge',n_estimators= 29,max_leaves= 60,max_depth= 6,\n",
    "random_state = 1, tree_method= 'approx'\n",
    "                           )\n",
    "\n",
    "clf_xgb.fit(x_train, y_train)\n",
    "preds_xgb_train = clf_xgb.predict(x_train)\n",
    "preds_xgb_test = clf_xgb.predict(x_test)\n",
    "\n",
    "accuracy_xgb_train = float(np.sum(preds_xgb_train == y_train))/y_train.shape[0]\n",
    "print('Train Accuracy de XGBoost: ', accuracy_xgb_train)\n",
    "\n",
    "accuracy_xgb_test = float(np.sum(preds_xgb_test == y_test))/y_test.shape[0]\n",
    "print('Test Accuracy de XGBoost: ', accuracy_xgb_test)\n"
   ]
  },
  {
   "cell_type": "code",
   "execution_count": 134,
   "id": "69526e9e",
   "metadata": {
    "scrolled": false
   },
   "outputs": [
    {
     "data": {
      "image/png": "[encoded data removed]",
      "text/plain": [
       "<Figure size 504x360 with 2 Axes>"
      ]
     },
     "metadata": {
      "needs_background": "light"
     },
     "output_type": "display_data"
    }
   ],
   "source": [
    "plot_confusion_matrix(clf_xgb, x_test, y_test, cmap=\"magma\");"
   ]
  },
  {
   "cell_type": "code",
   "execution_count": null,
   "id": "acb19acf",
   "metadata": {},
   "outputs": [],
   "source": []
  },
  {
   "cell_type": "code",
   "execution_count": null,
   "id": "8897161a",
   "metadata": {},
   "outputs": [],
   "source": []
  }
 ],
 "metadata": {
  "kernelspec": {
   "display_name": "Python 3 (ipykernel)",
   "language": "python",
   "name": "python3"
  },
  "language_info": {
   "codemirror_mode": {
    "name": "ipython",
    "version": 3
   },
   "file_extension": ".py",
   "mimetype": "text/x-python",
   "name": "python",
   "nbconvert_exporter": "python",
   "pygments_lexer": "ipython3",
   "version": "3.9.13"
  }
 },
 "nbformat": 4,
 "nbformat_minor": 5
}
