{
  "cells": [
    {
      "cell_type": "markdown",
      "metadata": {
        "id": "LYvAOR2VzHmW"
      },
      "source": [
        "<html>\n",
        "  <h1  align=\"center\";> Diplomatura en Ciencia de Datos, Aprendizaje Automático y sus Aplicaciones\n",
        "  </h1>\n",
        "<hr>\n",
        "  <h3 align=\"center\";>\n",
        "  Edición 2022\n",
        "  </h3>\n",
        "<hr>\n",
        "  <h1 align=\"center\";>\n",
        "  Trabajo Práctico Entregable\n",
        "  </h1>\n",
        "  <h2 align=\"center\";>\n",
        "  Parte 1 - Ejercicio 1\n",
        "  </h2>\n",
        "</html>"
      ]
    },
    {
      "cell_type": "markdown",
      "metadata": {
        "id": "XcSr4uSjSjqo"
      },
      "source": [
        "## Profesora del Práctico:\n",
        "- Fonseca, Rocio\n",
        "\n",
        "## Integrantes [Grupo 5]:\n",
        "- Argüello, Leandro Ismael\n",
        "- Corral, Diego\n",
        "- Racciatti. Florencia\n",
        "- Rinaudo, Eleana\n",
        "- Romero, Ernest"
      ]
    },
    {
      "cell_type": "markdown",
      "metadata": {
        "id": "A07XIx1gUQ2d"
      },
      "source": [
        "<html>\n",
        "<hr>\n",
        "  <h1  align=\"center\";>\n",
        "    Análisis Exploratorio de Datos\n",
        "  </h1>\n",
        "</html>"
      ]
    },
    {
      "cell_type": "markdown",
      "metadata": {
        "id": "kDRl4WVUWbu4"
      },
      "source": [
        "Vamos a realizar una primera revisión del estado de los datos y los pasos necesarios para una correcta transformación.\n",
        "\n",
        "En este sentido, el primer objetivo radica en preguntarnos \n",
        "\n",
        "**¿De qué se trata este dataset?**"
      ]
    },
    {
      "cell_type": "markdown",
      "metadata": {
        "id": "44WzFiSHSaOr"
      },
      "source": [
        "# Importación de librerías\n",
        "\n",
        "Importamos la librerías que vamos a utilizar en el práctico."
      ]
    },
    {
      "cell_type": "code",
      "execution_count": 2,
      "metadata": {
        "id": "Xwdfo7z20TUK"
      },
      "outputs": [],
      "source": [
        "import io\n",
        "import matplotlib\n",
        "import matplotlib.pyplot as plt\n",
        "import numpy\n",
        "import pandas as pd\n",
        "import seaborn as sns\n",
        "\n",
        "sns.set_context(\"talk\")\n"
      ]
    },
    {
      "cell_type": "markdown",
      "metadata": {
        "id": "XY2Hl-Ma07Nn"
      },
      "source": [
        "## Lectura del dataset\n",
        "\n",
        "Vamos a trabajar con el dataset de encuesta de sueldos de Sysarmy del 2020. El dataset que vamos a utilizar está en formato [csv](https://cs.famaf.unc.edu.ar/~mteruel/datasets/diplodatos/sysarmy_survey_2020_processed.csv) y se guardará en una variable llamada `url`. \n",
        "\n",
        "Para poder leerlo lo guardarmos en una variable llamada `df` que es un objeto del tipo **`DataFrame`**.\n",
        "\n",
        "`DataFrame` es una estructura de datos de dos dimensiones en la cual se puede guardar datos de distintos tipos en columnas, además tiene un índice (comienza con un 0) y se refiere a la posición de un elemto en la estructura de datos."
      ]
    },
    {
      "cell_type": "code",
      "execution_count": 3,
      "metadata": {
        "id": "Vviv_sqXdR5W"
      },
      "outputs": [],
      "source": [
        "url = \"https://cs.famaf.unc.edu.ar/~mteruel/datasets/diplodatos/sysarmy_survey_2020_processed.csv\"\n",
        "\n",
        "pd.set_option(\"display.max_rows\", 10)\n",
        "pd.set_option(\"display.max_columns\", 1000)\n",
        "pd.set_option(\"display.width\", 100)\n",
        "pd.set_option(\"display.max_colwidth\", 100)\n",
        "df = pd.read_csv(url)\n"
      ]
    },
    {
      "cell_type": "code",
      "execution_count": 4,
      "metadata": {
        "colab": {
          "base_uri": "https://localhost:8080/",
          "height": 1000
        },
        "id": "cTWhUha6dlsi",
        "outputId": "80a61389-9370-4ecd-dcf8-8b8a3cebd938"
      },
      "outputs": [
        {
          "data": {
            "text/html": [
              "<div>\n",
              "<style scoped>\n",
              "    .dataframe tbody tr th:only-of-type {\n",
              "        vertical-align: middle;\n",
              "    }\n",
              "\n",
              "    .dataframe tbody tr th {\n",
              "        vertical-align: top;\n",
              "    }\n",
              "\n",
              "    .dataframe thead th {\n",
              "        text-align: right;\n",
              "    }\n",
              "</style>\n",
              "<table border=\"1\" class=\"dataframe\">\n",
              "  <thead>\n",
              "    <tr style=\"text-align: right;\">\n",
              "      <th></th>\n",
              "      <th>profile_gender</th>\n",
              "      <th>profile_age</th>\n",
              "      <th>work_country</th>\n",
              "      <th>work_province</th>\n",
              "      <th>profile_years_experience</th>\n",
              "      <th>work_years_in_company</th>\n",
              "      <th>work_years_in_current_position</th>\n",
              "      <th>work_people_in_charge_of</th>\n",
              "      <th>profile_studies_level</th>\n",
              "      <th>profile_studies_level_state</th>\n",
              "      <th>profile_career</th>\n",
              "      <th>profile_university</th>\n",
              "      <th>profile_specialization_courses</th>\n",
              "      <th>profile_open_source_contributions</th>\n",
              "      <th>profile_programming_as_hobby</th>\n",
              "      <th>work_role</th>\n",
              "      <th>tools_platform</th>\n",
              "      <th>tools_programming_languages</th>\n",
              "      <th>tools_frameworks</th>\n",
              "      <th>tools_data_bases</th>\n",
              "      <th>tools_qa_testing</th>\n",
              "      <th>tools_IDEs</th>\n",
              "      <th>tools_work_pc_os</th>\n",
              "      <th>tools_cellphone_os</th>\n",
              "      <th>work_on_call_duty</th>\n",
              "      <th>salary_on_call_duty_charge</th>\n",
              "      <th>work_on_call_duty_charge_type</th>\n",
              "      <th>work_contract_type</th>\n",
              "      <th>salary_monthly_BRUTO</th>\n",
              "      <th>salary_monthly_NETO</th>\n",
              "      <th>salary_in_usd</th>\n",
              "      <th>salary_satisfaction</th>\n",
              "      <th>salary_comparison_last_semester</th>\n",
              "      <th>salary_has_bonus</th>\n",
              "      <th>salary_bonus_tied_to</th>\n",
              "      <th>salary_inflation_adjustment_2020</th>\n",
              "      <th>salary_percentage_inflation_adjustment_2020</th>\n",
              "      <th>salary_month_last_inflation_adjustment</th>\n",
              "      <th>work_has_violence_situations</th>\n",
              "      <th>profile_sexual_orientation</th>\n",
              "      <th>profile_has_disabilities</th>\n",
              "      <th>profile_has_disabilities_hiring_difficulties</th>\n",
              "      <th>company_employee_number</th>\n",
              "      <th>company_main_activity</th>\n",
              "      <th>company_recommended</th>\n",
              "      <th>company_diversity_policies</th>\n",
              "      <th>company_extra_benefits</th>\n",
              "      <th>company_best_companies_city</th>\n",
              "    </tr>\n",
              "  </thead>\n",
              "  <tbody>\n",
              "    <tr>\n",
              "      <th>0</th>\n",
              "      <td>Mujer</td>\n",
              "      <td>26</td>\n",
              "      <td>Argentina</td>\n",
              "      <td>Ciudad Autónoma de Buenos Aires</td>\n",
              "      <td>3.0</td>\n",
              "      <td>3.0</td>\n",
              "      <td>3.0</td>\n",
              "      <td>0</td>\n",
              "      <td>Universitario</td>\n",
              "      <td>En curso</td>\n",
              "      <td>Ingeniería en Sistemas de Información</td>\n",
              "      <td>UTN - Universidad Tecnológica Nacional</td>\n",
              "      <td>Sí, los pagó un empleador</td>\n",
              "      <td>No</td>\n",
              "      <td>Sí</td>\n",
              "      <td>Consultant</td>\n",
              "      <td>Ninguna</td>\n",
              "      <td>Ninguno</td>\n",
              "      <td>Ninguno</td>\n",
              "      <td>Ninguna</td>\n",
              "      <td>Ninguna</td>\n",
              "      <td>Ninguno</td>\n",
              "      <td>GNU/Linux</td>\n",
              "      <td>Android</td>\n",
              "      <td>No</td>\n",
              "      <td>0.0</td>\n",
              "      <td>Bruto</td>\n",
              "      <td>Full-Time</td>\n",
              "      <td>53000.0</td>\n",
              "      <td>43000.000</td>\n",
              "      <td>NaN</td>\n",
              "      <td>1</td>\n",
              "      <td>1</td>\n",
              "      <td>No</td>\n",
              "      <td>No recibo bono</td>\n",
              "      <td>No</td>\n",
              "      <td>0.0</td>\n",
              "      <td>0</td>\n",
              "      <td>En mi trabajo actual</td>\n",
              "      <td>Homosexual</td>\n",
              "      <td>NaN</td>\n",
              "      <td>NaN</td>\n",
              "      <td>501-1000</td>\n",
              "      <td>Servicios / Consultoría de Software / Digital</td>\n",
              "      <td>7</td>\n",
              "      <td>2</td>\n",
              "      <td>Capacitaciones y/o cursos, Comidas pagas / subvencionadas, Cuota para universidad / posgrados, D...</td>\n",
              "      <td>NaN</td>\n",
              "    </tr>\n",
              "    <tr>\n",
              "      <th>1</th>\n",
              "      <td>Hombre</td>\n",
              "      <td>29</td>\n",
              "      <td>Argentina</td>\n",
              "      <td>Corrientes</td>\n",
              "      <td>5.0</td>\n",
              "      <td>2.0</td>\n",
              "      <td>2.0</td>\n",
              "      <td>4</td>\n",
              "      <td>Universitario</td>\n",
              "      <td>En curso</td>\n",
              "      <td>Ingeniería en Sistemas de Información</td>\n",
              "      <td>UTN - Universidad Tecnológica Nacional</td>\n",
              "      <td>Sí, de forma particular, Sí, los pagó un empleador</td>\n",
              "      <td>No</td>\n",
              "      <td>Sí</td>\n",
              "      <td>Developer</td>\n",
              "      <td>Docker, Google Cloud Platform/App Engine</td>\n",
              "      <td>HTML, Javascript, Python</td>\n",
              "      <td>Django, jQuery</td>\n",
              "      <td>Informix, MySQL, PostgreSQL</td>\n",
              "      <td>Ninguna</td>\n",
              "      <td>IPython / Jupyter, Sublime Text, Visual Studio Code</td>\n",
              "      <td>GNU/Linux</td>\n",
              "      <td>Android</td>\n",
              "      <td>No</td>\n",
              "      <td>0.0</td>\n",
              "      <td>Bruto</td>\n",
              "      <td>Full-Time</td>\n",
              "      <td>79000.0</td>\n",
              "      <td>63000.000</td>\n",
              "      <td>NaN</td>\n",
              "      <td>2</td>\n",
              "      <td>2</td>\n",
              "      <td>Menos de un sueldo</td>\n",
              "      <td>Performance de la compañía</td>\n",
              "      <td>Uno</td>\n",
              "      <td>10.0</td>\n",
              "      <td>1</td>\n",
              "      <td>Jamás</td>\n",
              "      <td>Heterosexual</td>\n",
              "      <td>Visual</td>\n",
              "      <td>No</td>\n",
              "      <td>201-500</td>\n",
              "      <td>Otras industrias</td>\n",
              "      <td>8</td>\n",
              "      <td>9</td>\n",
              "      <td>Horarios flexibles, Stock options / RSUs, Viáticos</td>\n",
              "      <td>NaN</td>\n",
              "    </tr>\n",
              "    <tr>\n",
              "      <th>2</th>\n",
              "      <td>Mujer</td>\n",
              "      <td>22</td>\n",
              "      <td>Argentina</td>\n",
              "      <td>Ciudad Autónoma de Buenos Aires</td>\n",
              "      <td>2.0</td>\n",
              "      <td>0.0</td>\n",
              "      <td>0.0</td>\n",
              "      <td>0</td>\n",
              "      <td>Secundario</td>\n",
              "      <td>Completado</td>\n",
              "      <td>NaN</td>\n",
              "      <td>NaN</td>\n",
              "      <td>Sí, de forma particular, Sí, los pagó un empleador</td>\n",
              "      <td>No</td>\n",
              "      <td>Sí</td>\n",
              "      <td>Infosec</td>\n",
              "      <td>Linux, VMWare</td>\n",
              "      <td>Ninguno</td>\n",
              "      <td>Ninguno</td>\n",
              "      <td>Ninguna</td>\n",
              "      <td>Ninguna</td>\n",
              "      <td>Ninguno</td>\n",
              "      <td>Windows</td>\n",
              "      <td>iOS</td>\n",
              "      <td>No</td>\n",
              "      <td>0.0</td>\n",
              "      <td>Porcentaje de mi sueldo</td>\n",
              "      <td>Full-Time</td>\n",
              "      <td>160000.0</td>\n",
              "      <td>127000.000</td>\n",
              "      <td>NaN</td>\n",
              "      <td>3</td>\n",
              "      <td>3</td>\n",
              "      <td>Un sueldo</td>\n",
              "      <td>Performance individual</td>\n",
              "      <td>No</td>\n",
              "      <td>0.0</td>\n",
              "      <td>0</td>\n",
              "      <td>En un trabajo anterior</td>\n",
              "      <td>Bisexual o queer</td>\n",
              "      <td>NaN</td>\n",
              "      <td>No</td>\n",
              "      <td>2001-5000</td>\n",
              "      <td>Otras industrias</td>\n",
              "      <td>6</td>\n",
              "      <td>9</td>\n",
              "      <td>Clases de gimnasia online, Comidas pagas / subvencionadas, Descuentos varios (Mercado Pago, Clar...</td>\n",
              "      <td>NaN</td>\n",
              "    </tr>\n",
              "    <tr>\n",
              "      <th>3</th>\n",
              "      <td>Hombre</td>\n",
              "      <td>39</td>\n",
              "      <td>Argentina</td>\n",
              "      <td>Corrientes</td>\n",
              "      <td>15.0</td>\n",
              "      <td>15.0</td>\n",
              "      <td>13.0</td>\n",
              "      <td>5</td>\n",
              "      <td>Posgrado</td>\n",
              "      <td>Incompleto</td>\n",
              "      <td>Licenciatura en Sistemas</td>\n",
              "      <td>UNNE Universidad Nacional del Nordeste</td>\n",
              "      <td>Sí, de forma particular, Sí, los pagó un empleador</td>\n",
              "      <td>Sí</td>\n",
              "      <td>Sí</td>\n",
              "      <td>SysAdmin / DevOps / SRE</td>\n",
              "      <td>Docker, Linux, OpenStack, VMWare, Windows Server</td>\n",
              "      <td>Bash/Shell, C, CSS, HTML, Java, Javascript, PHP, Python, SQL</td>\n",
              "      <td>jQuery, WordPress</td>\n",
              "      <td>Microsoft SQL Server, MySQL</td>\n",
              "      <td>PHPUnit</td>\n",
              "      <td>Eclipse, Visual Studio Code</td>\n",
              "      <td>GNU/Linux</td>\n",
              "      <td>Android</td>\n",
              "      <td>Sí, pasiva</td>\n",
              "      <td>0.0</td>\n",
              "      <td>Bruto</td>\n",
              "      <td>Full-Time</td>\n",
              "      <td>130000.0</td>\n",
              "      <td>102000.000</td>\n",
              "      <td>NaN</td>\n",
              "      <td>3</td>\n",
              "      <td>1</td>\n",
              "      <td>No</td>\n",
              "      <td>No recibo bono</td>\n",
              "      <td>No</td>\n",
              "      <td>0.0</td>\n",
              "      <td>0</td>\n",
              "      <td>En mi trabajo actual</td>\n",
              "      <td>Heterosexual</td>\n",
              "      <td>NaN</td>\n",
              "      <td>NaN</td>\n",
              "      <td>501-1000</td>\n",
              "      <td>Otras industrias</td>\n",
              "      <td>7</td>\n",
              "      <td>6</td>\n",
              "      <td>Abono de celular, Capacitaciones y/o cursos, Comidas pagas / subvencionadas, Cuota para universi...</td>\n",
              "      <td>NaN</td>\n",
              "    </tr>\n",
              "    <tr>\n",
              "      <th>4</th>\n",
              "      <td>Hombre</td>\n",
              "      <td>32</td>\n",
              "      <td>Argentina</td>\n",
              "      <td>Ciudad Autónoma de Buenos Aires</td>\n",
              "      <td>9.0</td>\n",
              "      <td>6.0</td>\n",
              "      <td>6.0</td>\n",
              "      <td>0</td>\n",
              "      <td>Universitario</td>\n",
              "      <td>En curso</td>\n",
              "      <td>Licenciatura en Ciencias dela Computación</td>\n",
              "      <td>UBA - Universidad de Buenos Aires</td>\n",
              "      <td>No</td>\n",
              "      <td>No</td>\n",
              "      <td>Sí</td>\n",
              "      <td>Developer</td>\n",
              "      <td>Amazon Web Services</td>\n",
              "      <td>CSS, HTML, Javascript, SQL, TypeScript</td>\n",
              "      <td>Angular, Node.js</td>\n",
              "      <td>Amazon DynamoDB, MongoDB, MySQL</td>\n",
              "      <td>Jest</td>\n",
              "      <td>Vim</td>\n",
              "      <td>macOS</td>\n",
              "      <td>Android</td>\n",
              "      <td>No</td>\n",
              "      <td>0.0</td>\n",
              "      <td>Porcentaje de mi sueldo</td>\n",
              "      <td>Full-Time</td>\n",
              "      <td>140000.0</td>\n",
              "      <td>106000.000</td>\n",
              "      <td>NaN</td>\n",
              "      <td>1</td>\n",
              "      <td>1</td>\n",
              "      <td>Menos de un sueldo</td>\n",
              "      <td>Performance individual</td>\n",
              "      <td>No</td>\n",
              "      <td>0.0</td>\n",
              "      <td>0</td>\n",
              "      <td>Jamás</td>\n",
              "      <td>Heterosexual</td>\n",
              "      <td>NaN</td>\n",
              "      <td>NaN</td>\n",
              "      <td>11-50</td>\n",
              "      <td>Servicios / Consultoría de Software / Digital</td>\n",
              "      <td>6</td>\n",
              "      <td>6</td>\n",
              "      <td>Clases de idiomas, Horarios flexibles, Vacaciones flexibles (adicionales a las reglamentarias)</td>\n",
              "      <td>NaN</td>\n",
              "    </tr>\n",
              "    <tr>\n",
              "      <th>...</th>\n",
              "      <td>...</td>\n",
              "      <td>...</td>\n",
              "      <td>...</td>\n",
              "      <td>...</td>\n",
              "      <td>...</td>\n",
              "      <td>...</td>\n",
              "      <td>...</td>\n",
              "      <td>...</td>\n",
              "      <td>...</td>\n",
              "      <td>...</td>\n",
              "      <td>...</td>\n",
              "      <td>...</td>\n",
              "      <td>...</td>\n",
              "      <td>...</td>\n",
              "      <td>...</td>\n",
              "      <td>...</td>\n",
              "      <td>...</td>\n",
              "      <td>...</td>\n",
              "      <td>...</td>\n",
              "      <td>...</td>\n",
              "      <td>...</td>\n",
              "      <td>...</td>\n",
              "      <td>...</td>\n",
              "      <td>...</td>\n",
              "      <td>...</td>\n",
              "      <td>...</td>\n",
              "      <td>...</td>\n",
              "      <td>...</td>\n",
              "      <td>...</td>\n",
              "      <td>...</td>\n",
              "      <td>...</td>\n",
              "      <td>...</td>\n",
              "      <td>...</td>\n",
              "      <td>...</td>\n",
              "      <td>...</td>\n",
              "      <td>...</td>\n",
              "      <td>...</td>\n",
              "      <td>...</td>\n",
              "      <td>...</td>\n",
              "      <td>...</td>\n",
              "      <td>...</td>\n",
              "      <td>...</td>\n",
              "      <td>...</td>\n",
              "      <td>...</td>\n",
              "      <td>...</td>\n",
              "      <td>...</td>\n",
              "      <td>...</td>\n",
              "      <td>...</td>\n",
              "    </tr>\n",
              "    <tr>\n",
              "      <th>6090</th>\n",
              "      <td>Hombre</td>\n",
              "      <td>37</td>\n",
              "      <td>Argentina</td>\n",
              "      <td>Ciudad Autónoma de Buenos Aires</td>\n",
              "      <td>13.0</td>\n",
              "      <td>6.0</td>\n",
              "      <td>6.0</td>\n",
              "      <td>0</td>\n",
              "      <td>Terciario</td>\n",
              "      <td>Completado</td>\n",
              "      <td>Analista de Sistemas</td>\n",
              "      <td>IFTS (ex CENT) nro 5</td>\n",
              "      <td>No</td>\n",
              "      <td>No</td>\n",
              "      <td>Sí</td>\n",
              "      <td>Developer</td>\n",
              "      <td>Docker, Google Cloud Platform/App Engine, Linux, VMWare</td>\n",
              "      <td>.NET, C#, COBOL, CSS, HTML, Javascript, PHP, SQL, VBA</td>\n",
              "      <td>Bootstrap, Drupal, jQuery, Symfony, WordPress</td>\n",
              "      <td>MariaDB, Microsoft SQL Server, MySQL</td>\n",
              "      <td>PHPUnit, SoapUI</td>\n",
              "      <td>Eclipse, NetBeans, Notepad++, Sublime Text, Vi, Vim, Visual Studio</td>\n",
              "      <td>Windows</td>\n",
              "      <td>Android</td>\n",
              "      <td>No</td>\n",
              "      <td>0.0</td>\n",
              "      <td>Porcentaje de mi sueldo</td>\n",
              "      <td>Full-Time</td>\n",
              "      <td>99000.0</td>\n",
              "      <td>97000.000</td>\n",
              "      <td>NaN</td>\n",
              "      <td>3</td>\n",
              "      <td>2</td>\n",
              "      <td>No</td>\n",
              "      <td>No recibo bono</td>\n",
              "      <td>No</td>\n",
              "      <td>0.0</td>\n",
              "      <td>0</td>\n",
              "      <td>En mi trabajo actual</td>\n",
              "      <td>Heterosexual</td>\n",
              "      <td>NaN</td>\n",
              "      <td>No</td>\n",
              "      <td>501-1000</td>\n",
              "      <td>Otras industrias</td>\n",
              "      <td>7</td>\n",
              "      <td>8</td>\n",
              "      <td>Viáticos</td>\n",
              "      <td>NaN</td>\n",
              "    </tr>\n",
              "    <tr>\n",
              "      <th>6091</th>\n",
              "      <td>Hombre</td>\n",
              "      <td>38</td>\n",
              "      <td>Argentina</td>\n",
              "      <td>Ciudad Autónoma de Buenos Aires</td>\n",
              "      <td>12.0</td>\n",
              "      <td>5.0</td>\n",
              "      <td>5.0</td>\n",
              "      <td>0</td>\n",
              "      <td>Universitario</td>\n",
              "      <td>En curso</td>\n",
              "      <td>Ingeniería en Sistemas de Información</td>\n",
              "      <td>UTN - Universidad Tecnológica Nacional</td>\n",
              "      <td>Sí, de forma particular, Sí, los pagó un empleador</td>\n",
              "      <td>No</td>\n",
              "      <td>No</td>\n",
              "      <td>SysAdmin / DevOps / SRE</td>\n",
              "      <td>Linux, OpenStack, VMWare, Windows Server</td>\n",
              "      <td>Ninguno de los anteriores</td>\n",
              "      <td>Ninguno de los anteriores</td>\n",
              "      <td>Microsoft SQL Server, MySQL, Oracle, PostgreSQL</td>\n",
              "      <td>Ninguna de las anteriores</td>\n",
              "      <td>Vi, Vim</td>\n",
              "      <td>Windows</td>\n",
              "      <td>Android</td>\n",
              "      <td>Sí, pasiva</td>\n",
              "      <td>10000.0</td>\n",
              "      <td>Porcentaje de mi sueldo</td>\n",
              "      <td>Full-Time</td>\n",
              "      <td>85000.0</td>\n",
              "      <td>71000.000</td>\n",
              "      <td>NaN</td>\n",
              "      <td>3</td>\n",
              "      <td>3</td>\n",
              "      <td>Un sueldo</td>\n",
              "      <td>Mix de las anteriores</td>\n",
              "      <td>Uno</td>\n",
              "      <td>14.0</td>\n",
              "      <td>6</td>\n",
              "      <td>Jamás</td>\n",
              "      <td>Heterosexual</td>\n",
              "      <td>NaN</td>\n",
              "      <td>NaN</td>\n",
              "      <td>2001-5000</td>\n",
              "      <td>Otras industrias</td>\n",
              "      <td>8</td>\n",
              "      <td>10</td>\n",
              "      <td>Abono de celular, Capacitaciones y/o cursos, Descuentos varios (Mercado Pago, Clarín 365, Club L...</td>\n",
              "      <td>NaN</td>\n",
              "    </tr>\n",
              "    <tr>\n",
              "      <th>6092</th>\n",
              "      <td>Hombre</td>\n",
              "      <td>24</td>\n",
              "      <td>Argentina</td>\n",
              "      <td>Ciudad Autónoma de Buenos Aires</td>\n",
              "      <td>2.0</td>\n",
              "      <td>2.0</td>\n",
              "      <td>2.0</td>\n",
              "      <td>0</td>\n",
              "      <td>Terciario</td>\n",
              "      <td>En curso</td>\n",
              "      <td>Analista de Sistemas</td>\n",
              "      <td>ORT</td>\n",
              "      <td>Sí, de forma particular</td>\n",
              "      <td>No</td>\n",
              "      <td>Sí</td>\n",
              "      <td>QA / Tester</td>\n",
              "      <td>Ninguna de las anteriores</td>\n",
              "      <td>Ninguno de los anteriores</td>\n",
              "      <td>Ninguno de los anteriores</td>\n",
              "      <td>Ninguna de las anteriores</td>\n",
              "      <td>Ninguna de las anteriores</td>\n",
              "      <td>Ninguno de los anteriores</td>\n",
              "      <td>Windows</td>\n",
              "      <td>Android</td>\n",
              "      <td>No</td>\n",
              "      <td>0.0</td>\n",
              "      <td>Porcentaje de mi sueldo</td>\n",
              "      <td>Full-Time</td>\n",
              "      <td>47250.0</td>\n",
              "      <td>45.753</td>\n",
              "      <td>NaN</td>\n",
              "      <td>3</td>\n",
              "      <td>2</td>\n",
              "      <td>Menos de un sueldo</td>\n",
              "      <td>La situacion con el coronavirus</td>\n",
              "      <td>Uno</td>\n",
              "      <td>10.0</td>\n",
              "      <td>4</td>\n",
              "      <td>Jamás</td>\n",
              "      <td>Heterosexual</td>\n",
              "      <td>NaN</td>\n",
              "      <td>NaN</td>\n",
              "      <td>201-500</td>\n",
              "      <td>Producto basado en Software</td>\n",
              "      <td>7</td>\n",
              "      <td>9</td>\n",
              "      <td>Capacitaciones y/o cursos, Clases de idiomas, Horarios flexibles, Vacaciones flexibles (adiciona...</td>\n",
              "      <td>Mercado Libre</td>\n",
              "    </tr>\n",
              "    <tr>\n",
              "      <th>6093</th>\n",
              "      <td>Hombre</td>\n",
              "      <td>28</td>\n",
              "      <td>Argentina</td>\n",
              "      <td>La Pampa</td>\n",
              "      <td>5.0</td>\n",
              "      <td>3.0</td>\n",
              "      <td>2.0</td>\n",
              "      <td>0</td>\n",
              "      <td>Terciario</td>\n",
              "      <td>En curso</td>\n",
              "      <td>Ingeniería en Sistemas de Información</td>\n",
              "      <td>UNLPAM</td>\n",
              "      <td>Sí, los pagó un empleador</td>\n",
              "      <td>No</td>\n",
              "      <td>Sí</td>\n",
              "      <td>SysAdmin / DevOps / SRE</td>\n",
              "      <td>Amazon Web Services, Docker, Kubernetes, Linux</td>\n",
              "      <td>C, C++, HTML, Java, Javascript, PHP, Python, SQL</td>\n",
              "      <td>Symfony</td>\n",
              "      <td>MariaDB, MongoDB, MySQL, Neo4j, PostgreSQL, Redis</td>\n",
              "      <td>PHPUnit, Postman</td>\n",
              "      <td>Nano, PHPStorm, PyCharm, Vim, Visual Studio Code</td>\n",
              "      <td>GNU/Linux</td>\n",
              "      <td>Android</td>\n",
              "      <td>Sí, pasiva</td>\n",
              "      <td>10.0</td>\n",
              "      <td>Neto</td>\n",
              "      <td>Full-Time</td>\n",
              "      <td>86000.0</td>\n",
              "      <td>72.000</td>\n",
              "      <td>NaN</td>\n",
              "      <td>2</td>\n",
              "      <td>1</td>\n",
              "      <td>No</td>\n",
              "      <td>No recibo bono</td>\n",
              "      <td>Uno</td>\n",
              "      <td>20.0</td>\n",
              "      <td>3</td>\n",
              "      <td>Jamás</td>\n",
              "      <td>Heterosexual</td>\n",
              "      <td>NaN</td>\n",
              "      <td>No</td>\n",
              "      <td>51-100</td>\n",
              "      <td>Servicios / Consultoría de Software / Digital</td>\n",
              "      <td>5</td>\n",
              "      <td>7</td>\n",
              "      <td>Capacitaciones y/o cursos</td>\n",
              "      <td>Solo Nubity</td>\n",
              "    </tr>\n",
              "    <tr>\n",
              "      <th>6094</th>\n",
              "      <td>Hombre</td>\n",
              "      <td>33</td>\n",
              "      <td>Argentina</td>\n",
              "      <td>GBA</td>\n",
              "      <td>5.0</td>\n",
              "      <td>5.0</td>\n",
              "      <td>3.0</td>\n",
              "      <td>0</td>\n",
              "      <td>Terciario</td>\n",
              "      <td>Incompleto</td>\n",
              "      <td>Analista de Sistemas</td>\n",
              "      <td>UAI - Universidad Abierta Interamericana</td>\n",
              "      <td>Sí, de forma particular</td>\n",
              "      <td>No</td>\n",
              "      <td>No</td>\n",
              "      <td>SysAdmin / DevOps / SRE</td>\n",
              "      <td>Linux, OpenStack, VMWare, Windows Server</td>\n",
              "      <td>Ninguno de los anteriores</td>\n",
              "      <td>Ninguno de los anteriores</td>\n",
              "      <td>Ninguna de las anteriores</td>\n",
              "      <td>Ninguna de las anteriores</td>\n",
              "      <td>Ninguno de los anteriores</td>\n",
              "      <td>Windows</td>\n",
              "      <td>iOS</td>\n",
              "      <td>No</td>\n",
              "      <td>0.0</td>\n",
              "      <td>Neto</td>\n",
              "      <td>Full-Time</td>\n",
              "      <td>85000.0</td>\n",
              "      <td>65000.000</td>\n",
              "      <td>NaN</td>\n",
              "      <td>3</td>\n",
              "      <td>3</td>\n",
              "      <td>No</td>\n",
              "      <td>No recibo bono</td>\n",
              "      <td>Dos</td>\n",
              "      <td>4.0</td>\n",
              "      <td>7</td>\n",
              "      <td>Jamás</td>\n",
              "      <td>Heterosexual</td>\n",
              "      <td>no</td>\n",
              "      <td>No</td>\n",
              "      <td>501-1000</td>\n",
              "      <td>Otras industrias</td>\n",
              "      <td>9</td>\n",
              "      <td>7</td>\n",
              "      <td>Abono de celular, Comidas pagas / subvencionadas</td>\n",
              "      <td>NaN</td>\n",
              "    </tr>\n",
              "  </tbody>\n",
              "</table>\n",
              "<p>6095 rows × 48 columns</p>\n",
              "</div>"
            ],
            "text/plain": [
              "     profile_gender  profile_age work_country                    work_province  \\\n",
              "0             Mujer           26    Argentina  Ciudad Autónoma de Buenos Aires   \n",
              "1            Hombre           29    Argentina                       Corrientes   \n",
              "2             Mujer           22    Argentina  Ciudad Autónoma de Buenos Aires   \n",
              "3            Hombre           39    Argentina                       Corrientes   \n",
              "4            Hombre           32    Argentina  Ciudad Autónoma de Buenos Aires   \n",
              "...             ...          ...          ...                              ...   \n",
              "6090         Hombre           37    Argentina  Ciudad Autónoma de Buenos Aires   \n",
              "6091         Hombre           38    Argentina  Ciudad Autónoma de Buenos Aires   \n",
              "6092         Hombre           24    Argentina  Ciudad Autónoma de Buenos Aires   \n",
              "6093         Hombre           28    Argentina                         La Pampa   \n",
              "6094         Hombre           33    Argentina                              GBA   \n",
              "\n",
              "      profile_years_experience  work_years_in_company  work_years_in_current_position  \\\n",
              "0                          3.0                    3.0                             3.0   \n",
              "1                          5.0                    2.0                             2.0   \n",
              "2                          2.0                    0.0                             0.0   \n",
              "3                         15.0                   15.0                            13.0   \n",
              "4                          9.0                    6.0                             6.0   \n",
              "...                        ...                    ...                             ...   \n",
              "6090                      13.0                    6.0                             6.0   \n",
              "6091                      12.0                    5.0                             5.0   \n",
              "6092                       2.0                    2.0                             2.0   \n",
              "6093                       5.0                    3.0                             2.0   \n",
              "6094                       5.0                    5.0                             3.0   \n",
              "\n",
              "      work_people_in_charge_of profile_studies_level profile_studies_level_state  \\\n",
              "0                            0         Universitario                    En curso   \n",
              "1                            4         Universitario                    En curso   \n",
              "2                            0            Secundario                  Completado   \n",
              "3                            5              Posgrado                  Incompleto   \n",
              "4                            0         Universitario                    En curso   \n",
              "...                        ...                   ...                         ...   \n",
              "6090                         0             Terciario                  Completado   \n",
              "6091                         0         Universitario                    En curso   \n",
              "6092                         0             Terciario                    En curso   \n",
              "6093                         0             Terciario                    En curso   \n",
              "6094                         0             Terciario                  Incompleto   \n",
              "\n",
              "                                 profile_career                        profile_university  \\\n",
              "0         Ingeniería en Sistemas de Información    UTN - Universidad Tecnológica Nacional   \n",
              "1         Ingeniería en Sistemas de Información    UTN - Universidad Tecnológica Nacional   \n",
              "2                                           NaN                                       NaN   \n",
              "3                      Licenciatura en Sistemas    UNNE Universidad Nacional del Nordeste   \n",
              "4     Licenciatura en Ciencias dela Computación         UBA - Universidad de Buenos Aires   \n",
              "...                                         ...                                       ...   \n",
              "6090                       Analista de Sistemas                      IFTS (ex CENT) nro 5   \n",
              "6091      Ingeniería en Sistemas de Información    UTN - Universidad Tecnológica Nacional   \n",
              "6092                       Analista de Sistemas                                       ORT   \n",
              "6093      Ingeniería en Sistemas de Información                                    UNLPAM   \n",
              "6094                       Analista de Sistemas  UAI - Universidad Abierta Interamericana   \n",
              "\n",
              "                          profile_specialization_courses profile_open_source_contributions  \\\n",
              "0                              Sí, los pagó un empleador                                No   \n",
              "1     Sí, de forma particular, Sí, los pagó un empleador                                No   \n",
              "2     Sí, de forma particular, Sí, los pagó un empleador                                No   \n",
              "3     Sí, de forma particular, Sí, los pagó un empleador                                Sí   \n",
              "4                                                     No                                No   \n",
              "...                                                  ...                               ...   \n",
              "6090                                                  No                                No   \n",
              "6091  Sí, de forma particular, Sí, los pagó un empleador                                No   \n",
              "6092                             Sí, de forma particular                                No   \n",
              "6093                           Sí, los pagó un empleador                                No   \n",
              "6094                             Sí, de forma particular                                No   \n",
              "\n",
              "     profile_programming_as_hobby                work_role  \\\n",
              "0                              Sí               Consultant   \n",
              "1                              Sí                Developer   \n",
              "2                              Sí                  Infosec   \n",
              "3                              Sí  SysAdmin / DevOps / SRE   \n",
              "4                              Sí                Developer   \n",
              "...                           ...                      ...   \n",
              "6090                           Sí                Developer   \n",
              "6091                           No  SysAdmin / DevOps / SRE   \n",
              "6092                           Sí              QA / Tester   \n",
              "6093                           Sí  SysAdmin / DevOps / SRE   \n",
              "6094                           No  SysAdmin / DevOps / SRE   \n",
              "\n",
              "                                               tools_platform  \\\n",
              "0                                                     Ninguna   \n",
              "1                    Docker, Google Cloud Platform/App Engine   \n",
              "2                                               Linux, VMWare   \n",
              "3            Docker, Linux, OpenStack, VMWare, Windows Server   \n",
              "4                                         Amazon Web Services   \n",
              "...                                                       ...   \n",
              "6090  Docker, Google Cloud Platform/App Engine, Linux, VMWare   \n",
              "6091                 Linux, OpenStack, VMWare, Windows Server   \n",
              "6092                                Ninguna de las anteriores   \n",
              "6093           Amazon Web Services, Docker, Kubernetes, Linux   \n",
              "6094                 Linux, OpenStack, VMWare, Windows Server   \n",
              "\n",
              "                                       tools_programming_languages  \\\n",
              "0                                                          Ninguno   \n",
              "1                                         HTML, Javascript, Python   \n",
              "2                                                          Ninguno   \n",
              "3     Bash/Shell, C, CSS, HTML, Java, Javascript, PHP, Python, SQL   \n",
              "4                           CSS, HTML, Javascript, SQL, TypeScript   \n",
              "...                                                            ...   \n",
              "6090         .NET, C#, COBOL, CSS, HTML, Javascript, PHP, SQL, VBA   \n",
              "6091                                     Ninguno de los anteriores   \n",
              "6092                                     Ninguno de los anteriores   \n",
              "6093              C, C++, HTML, Java, Javascript, PHP, Python, SQL   \n",
              "6094                                     Ninguno de los anteriores   \n",
              "\n",
              "                                   tools_frameworks  \\\n",
              "0                                           Ninguno   \n",
              "1                                    Django, jQuery   \n",
              "2                                           Ninguno   \n",
              "3                                 jQuery, WordPress   \n",
              "4                                  Angular, Node.js   \n",
              "...                                             ...   \n",
              "6090  Bootstrap, Drupal, jQuery, Symfony, WordPress   \n",
              "6091                      Ninguno de los anteriores   \n",
              "6092                      Ninguno de los anteriores   \n",
              "6093                                        Symfony   \n",
              "6094                      Ninguno de los anteriores   \n",
              "\n",
              "                                       tools_data_bases           tools_qa_testing  \\\n",
              "0                                               Ninguna                    Ninguna   \n",
              "1                           Informix, MySQL, PostgreSQL                    Ninguna   \n",
              "2                                               Ninguna                    Ninguna   \n",
              "3                           Microsoft SQL Server, MySQL                    PHPUnit   \n",
              "4                       Amazon DynamoDB, MongoDB, MySQL                       Jest   \n",
              "...                                                 ...                        ...   \n",
              "6090               MariaDB, Microsoft SQL Server, MySQL            PHPUnit, SoapUI   \n",
              "6091    Microsoft SQL Server, MySQL, Oracle, PostgreSQL  Ninguna de las anteriores   \n",
              "6092                          Ninguna de las anteriores  Ninguna de las anteriores   \n",
              "6093  MariaDB, MongoDB, MySQL, Neo4j, PostgreSQL, Redis           PHPUnit, Postman   \n",
              "6094                          Ninguna de las anteriores  Ninguna de las anteriores   \n",
              "\n",
              "                                                              tools_IDEs tools_work_pc_os  \\\n",
              "0                                                                Ninguno        GNU/Linux   \n",
              "1                    IPython / Jupyter, Sublime Text, Visual Studio Code        GNU/Linux   \n",
              "2                                                                Ninguno          Windows   \n",
              "3                                            Eclipse, Visual Studio Code        GNU/Linux   \n",
              "4                                                                    Vim            macOS   \n",
              "...                                                                  ...              ...   \n",
              "6090  Eclipse, NetBeans, Notepad++, Sublime Text, Vi, Vim, Visual Studio          Windows   \n",
              "6091                                                             Vi, Vim          Windows   \n",
              "6092                                           Ninguno de los anteriores          Windows   \n",
              "6093                    Nano, PHPStorm, PyCharm, Vim, Visual Studio Code        GNU/Linux   \n",
              "6094                                           Ninguno de los anteriores          Windows   \n",
              "\n",
              "     tools_cellphone_os work_on_call_duty  salary_on_call_duty_charge  \\\n",
              "0               Android                No                         0.0   \n",
              "1               Android                No                         0.0   \n",
              "2                   iOS                No                         0.0   \n",
              "3               Android        Sí, pasiva                         0.0   \n",
              "4               Android                No                         0.0   \n",
              "...                 ...               ...                         ...   \n",
              "6090            Android                No                         0.0   \n",
              "6091            Android        Sí, pasiva                     10000.0   \n",
              "6092            Android                No                         0.0   \n",
              "6093            Android        Sí, pasiva                        10.0   \n",
              "6094                iOS                No                         0.0   \n",
              "\n",
              "     work_on_call_duty_charge_type work_contract_type  salary_monthly_BRUTO  salary_monthly_NETO  \\\n",
              "0                            Bruto          Full-Time               53000.0            43000.000   \n",
              "1                            Bruto          Full-Time               79000.0            63000.000   \n",
              "2          Porcentaje de mi sueldo          Full-Time              160000.0           127000.000   \n",
              "3                            Bruto          Full-Time              130000.0           102000.000   \n",
              "4          Porcentaje de mi sueldo          Full-Time              140000.0           106000.000   \n",
              "...                            ...                ...                   ...                  ...   \n",
              "6090       Porcentaje de mi sueldo          Full-Time               99000.0            97000.000   \n",
              "6091       Porcentaje de mi sueldo          Full-Time               85000.0            71000.000   \n",
              "6092       Porcentaje de mi sueldo          Full-Time               47250.0               45.753   \n",
              "6093                          Neto          Full-Time               86000.0               72.000   \n",
              "6094                          Neto          Full-Time               85000.0            65000.000   \n",
              "\n",
              "     salary_in_usd  salary_satisfaction  salary_comparison_last_semester    salary_has_bonus  \\\n",
              "0              NaN                    1                                1                  No   \n",
              "1              NaN                    2                                2  Menos de un sueldo   \n",
              "2              NaN                    3                                3           Un sueldo   \n",
              "3              NaN                    3                                1                  No   \n",
              "4              NaN                    1                                1  Menos de un sueldo   \n",
              "...            ...                  ...                              ...                 ...   \n",
              "6090           NaN                    3                                2                  No   \n",
              "6091           NaN                    3                                3           Un sueldo   \n",
              "6092           NaN                    3                                2  Menos de un sueldo   \n",
              "6093           NaN                    2                                1                  No   \n",
              "6094           NaN                    3                                3                  No   \n",
              "\n",
              "                 salary_bonus_tied_to salary_inflation_adjustment_2020  \\\n",
              "0                      No recibo bono                               No   \n",
              "1          Performance de la compañía                              Uno   \n",
              "2              Performance individual                               No   \n",
              "3                      No recibo bono                               No   \n",
              "4              Performance individual                               No   \n",
              "...                               ...                              ...   \n",
              "6090                   No recibo bono                               No   \n",
              "6091            Mix de las anteriores                              Uno   \n",
              "6092  La situacion con el coronavirus                              Uno   \n",
              "6093                   No recibo bono                              Uno   \n",
              "6094                   No recibo bono                              Dos   \n",
              "\n",
              "      salary_percentage_inflation_adjustment_2020  salary_month_last_inflation_adjustment  \\\n",
              "0                                             0.0                                       0   \n",
              "1                                            10.0                                       1   \n",
              "2                                             0.0                                       0   \n",
              "3                                             0.0                                       0   \n",
              "4                                             0.0                                       0   \n",
              "...                                           ...                                     ...   \n",
              "6090                                          0.0                                       0   \n",
              "6091                                         14.0                                       6   \n",
              "6092                                         10.0                                       4   \n",
              "6093                                         20.0                                       3   \n",
              "6094                                          4.0                                       7   \n",
              "\n",
              "     work_has_violence_situations profile_sexual_orientation profile_has_disabilities  \\\n",
              "0            En mi trabajo actual                 Homosexual                      NaN   \n",
              "1                           Jamás               Heterosexual                   Visual   \n",
              "2          En un trabajo anterior           Bisexual o queer                      NaN   \n",
              "3            En mi trabajo actual               Heterosexual                      NaN   \n",
              "4                           Jamás               Heterosexual                      NaN   \n",
              "...                           ...                        ...                      ...   \n",
              "6090         En mi trabajo actual               Heterosexual                      NaN   \n",
              "6091                        Jamás               Heterosexual                      NaN   \n",
              "6092                        Jamás               Heterosexual                      NaN   \n",
              "6093                        Jamás               Heterosexual                      NaN   \n",
              "6094                        Jamás               Heterosexual                       no   \n",
              "\n",
              "     profile_has_disabilities_hiring_difficulties company_employee_number  \\\n",
              "0                                             NaN                501-1000   \n",
              "1                                              No                 201-500   \n",
              "2                                              No               2001-5000   \n",
              "3                                             NaN                501-1000   \n",
              "4                                             NaN                   11-50   \n",
              "...                                           ...                     ...   \n",
              "6090                                           No                501-1000   \n",
              "6091                                          NaN               2001-5000   \n",
              "6092                                          NaN                 201-500   \n",
              "6093                                           No                  51-100   \n",
              "6094                                           No                501-1000   \n",
              "\n",
              "                              company_main_activity  company_recommended  \\\n",
              "0     Servicios / Consultoría de Software / Digital                    7   \n",
              "1                                  Otras industrias                    8   \n",
              "2                                  Otras industrias                    6   \n",
              "3                                  Otras industrias                    7   \n",
              "4     Servicios / Consultoría de Software / Digital                    6   \n",
              "...                                             ...                  ...   \n",
              "6090                               Otras industrias                    7   \n",
              "6091                               Otras industrias                    8   \n",
              "6092                    Producto basado en Software                    7   \n",
              "6093  Servicios / Consultoría de Software / Digital                    5   \n",
              "6094                               Otras industrias                    9   \n",
              "\n",
              "      company_diversity_policies  \\\n",
              "0                              2   \n",
              "1                              9   \n",
              "2                              9   \n",
              "3                              6   \n",
              "4                              6   \n",
              "...                          ...   \n",
              "6090                           8   \n",
              "6091                          10   \n",
              "6092                           9   \n",
              "6093                           7   \n",
              "6094                           7   \n",
              "\n",
              "                                                                                   company_extra_benefits  \\\n",
              "0     Capacitaciones y/o cursos, Comidas pagas / subvencionadas, Cuota para universidad / posgrados, D...   \n",
              "1                                                      Horarios flexibles, Stock options / RSUs, Viáticos   \n",
              "2     Clases de gimnasia online, Comidas pagas / subvencionadas, Descuentos varios (Mercado Pago, Clar...   \n",
              "3     Abono de celular, Capacitaciones y/o cursos, Comidas pagas / subvencionadas, Cuota para universi...   \n",
              "4          Clases de idiomas, Horarios flexibles, Vacaciones flexibles (adicionales a las reglamentarias)   \n",
              "...                                                                                                   ...   \n",
              "6090                                                                                             Viáticos   \n",
              "6091  Abono de celular, Capacitaciones y/o cursos, Descuentos varios (Mercado Pago, Clarín 365, Club L...   \n",
              "6092  Capacitaciones y/o cursos, Clases de idiomas, Horarios flexibles, Vacaciones flexibles (adiciona...   \n",
              "6093                                                                            Capacitaciones y/o cursos   \n",
              "6094                                                     Abono de celular, Comidas pagas / subvencionadas   \n",
              "\n",
              "     company_best_companies_city  \n",
              "0                            NaN  \n",
              "1                            NaN  \n",
              "2                            NaN  \n",
              "3                            NaN  \n",
              "4                            NaN  \n",
              "...                          ...  \n",
              "6090                         NaN  \n",
              "6091                         NaN  \n",
              "6092               Mercado Libre  \n",
              "6093                 Solo Nubity  \n",
              "6094                         NaN  \n",
              "\n",
              "[6095 rows x 48 columns]"
            ]
          },
          "execution_count": 4,
          "metadata": {},
          "output_type": "execute_result"
        }
      ],
      "source": [
        "df\n"
      ]
    },
    {
      "cell_type": "markdown",
      "metadata": {
        "id": "tEzugfWXcf1L"
      },
      "source": [
        "Con la función `.tail` vemos los últimos 5 filas del DataFrame\n"
      ]
    },
    {
      "cell_type": "code",
      "execution_count": 5,
      "metadata": {
        "colab": {
          "base_uri": "https://localhost:8080/",
          "height": 652
        },
        "id": "gckNHXXLktJ4",
        "outputId": "37a3806f-ceb4-48fb-a6cf-738706094549"
      },
      "outputs": [
        {
          "data": {
            "text/html": [
              "<div>\n",
              "<style scoped>\n",
              "    .dataframe tbody tr th:only-of-type {\n",
              "        vertical-align: middle;\n",
              "    }\n",
              "\n",
              "    .dataframe tbody tr th {\n",
              "        vertical-align: top;\n",
              "    }\n",
              "\n",
              "    .dataframe thead th {\n",
              "        text-align: right;\n",
              "    }\n",
              "</style>\n",
              "<table border=\"1\" class=\"dataframe\">\n",
              "  <thead>\n",
              "    <tr style=\"text-align: right;\">\n",
              "      <th></th>\n",
              "      <th>profile_gender</th>\n",
              "      <th>profile_age</th>\n",
              "      <th>work_country</th>\n",
              "      <th>work_province</th>\n",
              "      <th>profile_years_experience</th>\n",
              "      <th>work_years_in_company</th>\n",
              "      <th>work_years_in_current_position</th>\n",
              "      <th>work_people_in_charge_of</th>\n",
              "      <th>profile_studies_level</th>\n",
              "      <th>profile_studies_level_state</th>\n",
              "      <th>profile_career</th>\n",
              "      <th>profile_university</th>\n",
              "      <th>profile_specialization_courses</th>\n",
              "      <th>profile_open_source_contributions</th>\n",
              "      <th>profile_programming_as_hobby</th>\n",
              "      <th>work_role</th>\n",
              "      <th>tools_platform</th>\n",
              "      <th>tools_programming_languages</th>\n",
              "      <th>tools_frameworks</th>\n",
              "      <th>tools_data_bases</th>\n",
              "      <th>tools_qa_testing</th>\n",
              "      <th>tools_IDEs</th>\n",
              "      <th>tools_work_pc_os</th>\n",
              "      <th>tools_cellphone_os</th>\n",
              "      <th>work_on_call_duty</th>\n",
              "      <th>salary_on_call_duty_charge</th>\n",
              "      <th>work_on_call_duty_charge_type</th>\n",
              "      <th>work_contract_type</th>\n",
              "      <th>salary_monthly_BRUTO</th>\n",
              "      <th>salary_monthly_NETO</th>\n",
              "      <th>salary_in_usd</th>\n",
              "      <th>salary_satisfaction</th>\n",
              "      <th>salary_comparison_last_semester</th>\n",
              "      <th>salary_has_bonus</th>\n",
              "      <th>salary_bonus_tied_to</th>\n",
              "      <th>salary_inflation_adjustment_2020</th>\n",
              "      <th>salary_percentage_inflation_adjustment_2020</th>\n",
              "      <th>salary_month_last_inflation_adjustment</th>\n",
              "      <th>work_has_violence_situations</th>\n",
              "      <th>profile_sexual_orientation</th>\n",
              "      <th>profile_has_disabilities</th>\n",
              "      <th>profile_has_disabilities_hiring_difficulties</th>\n",
              "      <th>company_employee_number</th>\n",
              "      <th>company_main_activity</th>\n",
              "      <th>company_recommended</th>\n",
              "      <th>company_diversity_policies</th>\n",
              "      <th>company_extra_benefits</th>\n",
              "      <th>company_best_companies_city</th>\n",
              "    </tr>\n",
              "  </thead>\n",
              "  <tbody>\n",
              "    <tr>\n",
              "      <th>6090</th>\n",
              "      <td>Hombre</td>\n",
              "      <td>37</td>\n",
              "      <td>Argentina</td>\n",
              "      <td>Ciudad Autónoma de Buenos Aires</td>\n",
              "      <td>13.0</td>\n",
              "      <td>6.0</td>\n",
              "      <td>6.0</td>\n",
              "      <td>0</td>\n",
              "      <td>Terciario</td>\n",
              "      <td>Completado</td>\n",
              "      <td>Analista de Sistemas</td>\n",
              "      <td>IFTS (ex CENT) nro 5</td>\n",
              "      <td>No</td>\n",
              "      <td>No</td>\n",
              "      <td>Sí</td>\n",
              "      <td>Developer</td>\n",
              "      <td>Docker, Google Cloud Platform/App Engine, Linux, VMWare</td>\n",
              "      <td>.NET, C#, COBOL, CSS, HTML, Javascript, PHP, SQL, VBA</td>\n",
              "      <td>Bootstrap, Drupal, jQuery, Symfony, WordPress</td>\n",
              "      <td>MariaDB, Microsoft SQL Server, MySQL</td>\n",
              "      <td>PHPUnit, SoapUI</td>\n",
              "      <td>Eclipse, NetBeans, Notepad++, Sublime Text, Vi, Vim, Visual Studio</td>\n",
              "      <td>Windows</td>\n",
              "      <td>Android</td>\n",
              "      <td>No</td>\n",
              "      <td>0.0</td>\n",
              "      <td>Porcentaje de mi sueldo</td>\n",
              "      <td>Full-Time</td>\n",
              "      <td>99000.0</td>\n",
              "      <td>97000.000</td>\n",
              "      <td>NaN</td>\n",
              "      <td>3</td>\n",
              "      <td>2</td>\n",
              "      <td>No</td>\n",
              "      <td>No recibo bono</td>\n",
              "      <td>No</td>\n",
              "      <td>0.0</td>\n",
              "      <td>0</td>\n",
              "      <td>En mi trabajo actual</td>\n",
              "      <td>Heterosexual</td>\n",
              "      <td>NaN</td>\n",
              "      <td>No</td>\n",
              "      <td>501-1000</td>\n",
              "      <td>Otras industrias</td>\n",
              "      <td>7</td>\n",
              "      <td>8</td>\n",
              "      <td>Viáticos</td>\n",
              "      <td>NaN</td>\n",
              "    </tr>\n",
              "    <tr>\n",
              "      <th>6091</th>\n",
              "      <td>Hombre</td>\n",
              "      <td>38</td>\n",
              "      <td>Argentina</td>\n",
              "      <td>Ciudad Autónoma de Buenos Aires</td>\n",
              "      <td>12.0</td>\n",
              "      <td>5.0</td>\n",
              "      <td>5.0</td>\n",
              "      <td>0</td>\n",
              "      <td>Universitario</td>\n",
              "      <td>En curso</td>\n",
              "      <td>Ingeniería en Sistemas de Información</td>\n",
              "      <td>UTN - Universidad Tecnológica Nacional</td>\n",
              "      <td>Sí, de forma particular, Sí, los pagó un empleador</td>\n",
              "      <td>No</td>\n",
              "      <td>No</td>\n",
              "      <td>SysAdmin / DevOps / SRE</td>\n",
              "      <td>Linux, OpenStack, VMWare, Windows Server</td>\n",
              "      <td>Ninguno de los anteriores</td>\n",
              "      <td>Ninguno de los anteriores</td>\n",
              "      <td>Microsoft SQL Server, MySQL, Oracle, PostgreSQL</td>\n",
              "      <td>Ninguna de las anteriores</td>\n",
              "      <td>Vi, Vim</td>\n",
              "      <td>Windows</td>\n",
              "      <td>Android</td>\n",
              "      <td>Sí, pasiva</td>\n",
              "      <td>10000.0</td>\n",
              "      <td>Porcentaje de mi sueldo</td>\n",
              "      <td>Full-Time</td>\n",
              "      <td>85000.0</td>\n",
              "      <td>71000.000</td>\n",
              "      <td>NaN</td>\n",
              "      <td>3</td>\n",
              "      <td>3</td>\n",
              "      <td>Un sueldo</td>\n",
              "      <td>Mix de las anteriores</td>\n",
              "      <td>Uno</td>\n",
              "      <td>14.0</td>\n",
              "      <td>6</td>\n",
              "      <td>Jamás</td>\n",
              "      <td>Heterosexual</td>\n",
              "      <td>NaN</td>\n",
              "      <td>NaN</td>\n",
              "      <td>2001-5000</td>\n",
              "      <td>Otras industrias</td>\n",
              "      <td>8</td>\n",
              "      <td>10</td>\n",
              "      <td>Abono de celular, Capacitaciones y/o cursos, Descuentos varios (Mercado Pago, Clarín 365, Club L...</td>\n",
              "      <td>NaN</td>\n",
              "    </tr>\n",
              "    <tr>\n",
              "      <th>6092</th>\n",
              "      <td>Hombre</td>\n",
              "      <td>24</td>\n",
              "      <td>Argentina</td>\n",
              "      <td>Ciudad Autónoma de Buenos Aires</td>\n",
              "      <td>2.0</td>\n",
              "      <td>2.0</td>\n",
              "      <td>2.0</td>\n",
              "      <td>0</td>\n",
              "      <td>Terciario</td>\n",
              "      <td>En curso</td>\n",
              "      <td>Analista de Sistemas</td>\n",
              "      <td>ORT</td>\n",
              "      <td>Sí, de forma particular</td>\n",
              "      <td>No</td>\n",
              "      <td>Sí</td>\n",
              "      <td>QA / Tester</td>\n",
              "      <td>Ninguna de las anteriores</td>\n",
              "      <td>Ninguno de los anteriores</td>\n",
              "      <td>Ninguno de los anteriores</td>\n",
              "      <td>Ninguna de las anteriores</td>\n",
              "      <td>Ninguna de las anteriores</td>\n",
              "      <td>Ninguno de los anteriores</td>\n",
              "      <td>Windows</td>\n",
              "      <td>Android</td>\n",
              "      <td>No</td>\n",
              "      <td>0.0</td>\n",
              "      <td>Porcentaje de mi sueldo</td>\n",
              "      <td>Full-Time</td>\n",
              "      <td>47250.0</td>\n",
              "      <td>45.753</td>\n",
              "      <td>NaN</td>\n",
              "      <td>3</td>\n",
              "      <td>2</td>\n",
              "      <td>Menos de un sueldo</td>\n",
              "      <td>La situacion con el coronavirus</td>\n",
              "      <td>Uno</td>\n",
              "      <td>10.0</td>\n",
              "      <td>4</td>\n",
              "      <td>Jamás</td>\n",
              "      <td>Heterosexual</td>\n",
              "      <td>NaN</td>\n",
              "      <td>NaN</td>\n",
              "      <td>201-500</td>\n",
              "      <td>Producto basado en Software</td>\n",
              "      <td>7</td>\n",
              "      <td>9</td>\n",
              "      <td>Capacitaciones y/o cursos, Clases de idiomas, Horarios flexibles, Vacaciones flexibles (adiciona...</td>\n",
              "      <td>Mercado Libre</td>\n",
              "    </tr>\n",
              "    <tr>\n",
              "      <th>6093</th>\n",
              "      <td>Hombre</td>\n",
              "      <td>28</td>\n",
              "      <td>Argentina</td>\n",
              "      <td>La Pampa</td>\n",
              "      <td>5.0</td>\n",
              "      <td>3.0</td>\n",
              "      <td>2.0</td>\n",
              "      <td>0</td>\n",
              "      <td>Terciario</td>\n",
              "      <td>En curso</td>\n",
              "      <td>Ingeniería en Sistemas de Información</td>\n",
              "      <td>UNLPAM</td>\n",
              "      <td>Sí, los pagó un empleador</td>\n",
              "      <td>No</td>\n",
              "      <td>Sí</td>\n",
              "      <td>SysAdmin / DevOps / SRE</td>\n",
              "      <td>Amazon Web Services, Docker, Kubernetes, Linux</td>\n",
              "      <td>C, C++, HTML, Java, Javascript, PHP, Python, SQL</td>\n",
              "      <td>Symfony</td>\n",
              "      <td>MariaDB, MongoDB, MySQL, Neo4j, PostgreSQL, Redis</td>\n",
              "      <td>PHPUnit, Postman</td>\n",
              "      <td>Nano, PHPStorm, PyCharm, Vim, Visual Studio Code</td>\n",
              "      <td>GNU/Linux</td>\n",
              "      <td>Android</td>\n",
              "      <td>Sí, pasiva</td>\n",
              "      <td>10.0</td>\n",
              "      <td>Neto</td>\n",
              "      <td>Full-Time</td>\n",
              "      <td>86000.0</td>\n",
              "      <td>72.000</td>\n",
              "      <td>NaN</td>\n",
              "      <td>2</td>\n",
              "      <td>1</td>\n",
              "      <td>No</td>\n",
              "      <td>No recibo bono</td>\n",
              "      <td>Uno</td>\n",
              "      <td>20.0</td>\n",
              "      <td>3</td>\n",
              "      <td>Jamás</td>\n",
              "      <td>Heterosexual</td>\n",
              "      <td>NaN</td>\n",
              "      <td>No</td>\n",
              "      <td>51-100</td>\n",
              "      <td>Servicios / Consultoría de Software / Digital</td>\n",
              "      <td>5</td>\n",
              "      <td>7</td>\n",
              "      <td>Capacitaciones y/o cursos</td>\n",
              "      <td>Solo Nubity</td>\n",
              "    </tr>\n",
              "    <tr>\n",
              "      <th>6094</th>\n",
              "      <td>Hombre</td>\n",
              "      <td>33</td>\n",
              "      <td>Argentina</td>\n",
              "      <td>GBA</td>\n",
              "      <td>5.0</td>\n",
              "      <td>5.0</td>\n",
              "      <td>3.0</td>\n",
              "      <td>0</td>\n",
              "      <td>Terciario</td>\n",
              "      <td>Incompleto</td>\n",
              "      <td>Analista de Sistemas</td>\n",
              "      <td>UAI - Universidad Abierta Interamericana</td>\n",
              "      <td>Sí, de forma particular</td>\n",
              "      <td>No</td>\n",
              "      <td>No</td>\n",
              "      <td>SysAdmin / DevOps / SRE</td>\n",
              "      <td>Linux, OpenStack, VMWare, Windows Server</td>\n",
              "      <td>Ninguno de los anteriores</td>\n",
              "      <td>Ninguno de los anteriores</td>\n",
              "      <td>Ninguna de las anteriores</td>\n",
              "      <td>Ninguna de las anteriores</td>\n",
              "      <td>Ninguno de los anteriores</td>\n",
              "      <td>Windows</td>\n",
              "      <td>iOS</td>\n",
              "      <td>No</td>\n",
              "      <td>0.0</td>\n",
              "      <td>Neto</td>\n",
              "      <td>Full-Time</td>\n",
              "      <td>85000.0</td>\n",
              "      <td>65000.000</td>\n",
              "      <td>NaN</td>\n",
              "      <td>3</td>\n",
              "      <td>3</td>\n",
              "      <td>No</td>\n",
              "      <td>No recibo bono</td>\n",
              "      <td>Dos</td>\n",
              "      <td>4.0</td>\n",
              "      <td>7</td>\n",
              "      <td>Jamás</td>\n",
              "      <td>Heterosexual</td>\n",
              "      <td>no</td>\n",
              "      <td>No</td>\n",
              "      <td>501-1000</td>\n",
              "      <td>Otras industrias</td>\n",
              "      <td>9</td>\n",
              "      <td>7</td>\n",
              "      <td>Abono de celular, Comidas pagas / subvencionadas</td>\n",
              "      <td>NaN</td>\n",
              "    </tr>\n",
              "  </tbody>\n",
              "</table>\n",
              "</div>"
            ],
            "text/plain": [
              "     profile_gender  profile_age work_country                    work_province  \\\n",
              "6090         Hombre           37    Argentina  Ciudad Autónoma de Buenos Aires   \n",
              "6091         Hombre           38    Argentina  Ciudad Autónoma de Buenos Aires   \n",
              "6092         Hombre           24    Argentina  Ciudad Autónoma de Buenos Aires   \n",
              "6093         Hombre           28    Argentina                         La Pampa   \n",
              "6094         Hombre           33    Argentina                              GBA   \n",
              "\n",
              "      profile_years_experience  work_years_in_company  work_years_in_current_position  \\\n",
              "6090                      13.0                    6.0                             6.0   \n",
              "6091                      12.0                    5.0                             5.0   \n",
              "6092                       2.0                    2.0                             2.0   \n",
              "6093                       5.0                    3.0                             2.0   \n",
              "6094                       5.0                    5.0                             3.0   \n",
              "\n",
              "      work_people_in_charge_of profile_studies_level profile_studies_level_state  \\\n",
              "6090                         0             Terciario                  Completado   \n",
              "6091                         0         Universitario                    En curso   \n",
              "6092                         0             Terciario                    En curso   \n",
              "6093                         0             Terciario                    En curso   \n",
              "6094                         0             Terciario                  Incompleto   \n",
              "\n",
              "                             profile_career                        profile_university  \\\n",
              "6090                   Analista de Sistemas                      IFTS (ex CENT) nro 5   \n",
              "6091  Ingeniería en Sistemas de Información    UTN - Universidad Tecnológica Nacional   \n",
              "6092                   Analista de Sistemas                                       ORT   \n",
              "6093  Ingeniería en Sistemas de Información                                    UNLPAM   \n",
              "6094                   Analista de Sistemas  UAI - Universidad Abierta Interamericana   \n",
              "\n",
              "                          profile_specialization_courses profile_open_source_contributions  \\\n",
              "6090                                                  No                                No   \n",
              "6091  Sí, de forma particular, Sí, los pagó un empleador                                No   \n",
              "6092                             Sí, de forma particular                                No   \n",
              "6093                           Sí, los pagó un empleador                                No   \n",
              "6094                             Sí, de forma particular                                No   \n",
              "\n",
              "     profile_programming_as_hobby                work_role  \\\n",
              "6090                           Sí                Developer   \n",
              "6091                           No  SysAdmin / DevOps / SRE   \n",
              "6092                           Sí              QA / Tester   \n",
              "6093                           Sí  SysAdmin / DevOps / SRE   \n",
              "6094                           No  SysAdmin / DevOps / SRE   \n",
              "\n",
              "                                               tools_platform  \\\n",
              "6090  Docker, Google Cloud Platform/App Engine, Linux, VMWare   \n",
              "6091                 Linux, OpenStack, VMWare, Windows Server   \n",
              "6092                                Ninguna de las anteriores   \n",
              "6093           Amazon Web Services, Docker, Kubernetes, Linux   \n",
              "6094                 Linux, OpenStack, VMWare, Windows Server   \n",
              "\n",
              "                                tools_programming_languages  \\\n",
              "6090  .NET, C#, COBOL, CSS, HTML, Javascript, PHP, SQL, VBA   \n",
              "6091                              Ninguno de los anteriores   \n",
              "6092                              Ninguno de los anteriores   \n",
              "6093       C, C++, HTML, Java, Javascript, PHP, Python, SQL   \n",
              "6094                              Ninguno de los anteriores   \n",
              "\n",
              "                                   tools_frameworks  \\\n",
              "6090  Bootstrap, Drupal, jQuery, Symfony, WordPress   \n",
              "6091                      Ninguno de los anteriores   \n",
              "6092                      Ninguno de los anteriores   \n",
              "6093                                        Symfony   \n",
              "6094                      Ninguno de los anteriores   \n",
              "\n",
              "                                       tools_data_bases           tools_qa_testing  \\\n",
              "6090               MariaDB, Microsoft SQL Server, MySQL            PHPUnit, SoapUI   \n",
              "6091    Microsoft SQL Server, MySQL, Oracle, PostgreSQL  Ninguna de las anteriores   \n",
              "6092                          Ninguna de las anteriores  Ninguna de las anteriores   \n",
              "6093  MariaDB, MongoDB, MySQL, Neo4j, PostgreSQL, Redis           PHPUnit, Postman   \n",
              "6094                          Ninguna de las anteriores  Ninguna de las anteriores   \n",
              "\n",
              "                                                              tools_IDEs tools_work_pc_os  \\\n",
              "6090  Eclipse, NetBeans, Notepad++, Sublime Text, Vi, Vim, Visual Studio          Windows   \n",
              "6091                                                             Vi, Vim          Windows   \n",
              "6092                                           Ninguno de los anteriores          Windows   \n",
              "6093                    Nano, PHPStorm, PyCharm, Vim, Visual Studio Code        GNU/Linux   \n",
              "6094                                           Ninguno de los anteriores          Windows   \n",
              "\n",
              "     tools_cellphone_os work_on_call_duty  salary_on_call_duty_charge  \\\n",
              "6090            Android                No                         0.0   \n",
              "6091            Android        Sí, pasiva                     10000.0   \n",
              "6092            Android                No                         0.0   \n",
              "6093            Android        Sí, pasiva                        10.0   \n",
              "6094                iOS                No                         0.0   \n",
              "\n",
              "     work_on_call_duty_charge_type work_contract_type  salary_monthly_BRUTO  salary_monthly_NETO  \\\n",
              "6090       Porcentaje de mi sueldo          Full-Time               99000.0            97000.000   \n",
              "6091       Porcentaje de mi sueldo          Full-Time               85000.0            71000.000   \n",
              "6092       Porcentaje de mi sueldo          Full-Time               47250.0               45.753   \n",
              "6093                          Neto          Full-Time               86000.0               72.000   \n",
              "6094                          Neto          Full-Time               85000.0            65000.000   \n",
              "\n",
              "     salary_in_usd  salary_satisfaction  salary_comparison_last_semester    salary_has_bonus  \\\n",
              "6090           NaN                    3                                2                  No   \n",
              "6091           NaN                    3                                3           Un sueldo   \n",
              "6092           NaN                    3                                2  Menos de un sueldo   \n",
              "6093           NaN                    2                                1                  No   \n",
              "6094           NaN                    3                                3                  No   \n",
              "\n",
              "                 salary_bonus_tied_to salary_inflation_adjustment_2020  \\\n",
              "6090                   No recibo bono                               No   \n",
              "6091            Mix de las anteriores                              Uno   \n",
              "6092  La situacion con el coronavirus                              Uno   \n",
              "6093                   No recibo bono                              Uno   \n",
              "6094                   No recibo bono                              Dos   \n",
              "\n",
              "      salary_percentage_inflation_adjustment_2020  salary_month_last_inflation_adjustment  \\\n",
              "6090                                          0.0                                       0   \n",
              "6091                                         14.0                                       6   \n",
              "6092                                         10.0                                       4   \n",
              "6093                                         20.0                                       3   \n",
              "6094                                          4.0                                       7   \n",
              "\n",
              "     work_has_violence_situations profile_sexual_orientation profile_has_disabilities  \\\n",
              "6090         En mi trabajo actual               Heterosexual                      NaN   \n",
              "6091                        Jamás               Heterosexual                      NaN   \n",
              "6092                        Jamás               Heterosexual                      NaN   \n",
              "6093                        Jamás               Heterosexual                      NaN   \n",
              "6094                        Jamás               Heterosexual                       no   \n",
              "\n",
              "     profile_has_disabilities_hiring_difficulties company_employee_number  \\\n",
              "6090                                           No                501-1000   \n",
              "6091                                          NaN               2001-5000   \n",
              "6092                                          NaN                 201-500   \n",
              "6093                                           No                  51-100   \n",
              "6094                                           No                501-1000   \n",
              "\n",
              "                              company_main_activity  company_recommended  \\\n",
              "6090                               Otras industrias                    7   \n",
              "6091                               Otras industrias                    8   \n",
              "6092                    Producto basado en Software                    7   \n",
              "6093  Servicios / Consultoría de Software / Digital                    5   \n",
              "6094                               Otras industrias                    9   \n",
              "\n",
              "      company_diversity_policies  \\\n",
              "6090                           8   \n",
              "6091                          10   \n",
              "6092                           9   \n",
              "6093                           7   \n",
              "6094                           7   \n",
              "\n",
              "                                                                                   company_extra_benefits  \\\n",
              "6090                                                                                             Viáticos   \n",
              "6091  Abono de celular, Capacitaciones y/o cursos, Descuentos varios (Mercado Pago, Clarín 365, Club L...   \n",
              "6092  Capacitaciones y/o cursos, Clases de idiomas, Horarios flexibles, Vacaciones flexibles (adiciona...   \n",
              "6093                                                                            Capacitaciones y/o cursos   \n",
              "6094                                                     Abono de celular, Comidas pagas / subvencionadas   \n",
              "\n",
              "     company_best_companies_city  \n",
              "6090                         NaN  \n",
              "6091                         NaN  \n",
              "6092               Mercado Libre  \n",
              "6093                 Solo Nubity  \n",
              "6094                         NaN  "
            ]
          },
          "execution_count": 5,
          "metadata": {},
          "output_type": "execute_result"
        }
      ],
      "source": [
        "df.tail()\n"
      ]
    },
    {
      "cell_type": "markdown",
      "metadata": {
        "id": "tkb3Mtr1SWis"
      },
      "source": [
        "### Partimos de un dataframe con las siguientes características:"
      ]
    },
    {
      "cell_type": "markdown",
      "metadata": {
        "id": "IbVkEUOtd9Rf"
      },
      "source": [
        "Con la funcion `.shape`, nos devuelve la cantidad de **filas** de nuestro conjunto de datos y el segundo valor es la cantidad de **columnas**."
      ]
    },
    {
      "cell_type": "code",
      "execution_count": 6,
      "metadata": {
        "colab": {
          "base_uri": "https://localhost:8080/"
        },
        "id": "WbChy8EQ3S_S",
        "outputId": "8ffb5030-8d45-4f1c-9e98-d888b96f1dbd"
      },
      "outputs": [
        {
          "name": "stdout",
          "output_type": "stream",
          "text": [
            "La cantidad de datos son: (6095, 48)\n",
            "La cantidad de filas son: 6095\n",
            "La cantidad de columnas son: 48\n"
          ]
        }
      ],
      "source": [
        "print(\"La cantidad de datos son:\", df.shape)\n",
        "print(\"La cantidad de filas son:\", df.shape[0])\n",
        "print(\"La cantidad de columnas son:\", df.shape[1])\n"
      ]
    },
    {
      "cell_type": "markdown",
      "metadata": {
        "id": "dAeSEjEjelyW"
      },
      "source": [
        "La función `.columns`, nos devuelve una lista de los nombres de cada una de las **columnas** de nuestro `DataFrame`.\n",
        "\n",
        "Es importante saber el nombre de las **columnas** de nuestro `DataFrame` así podemos trabajar con los datos de las columnas de nuestro interés y aplicar diferentes análisis para obtener conclusiones."
      ]
    },
    {
      "cell_type": "code",
      "execution_count": 7,
      "metadata": {
        "colab": {
          "base_uri": "https://localhost:8080/"
        },
        "id": "HuS65VIo0GIF",
        "outputId": "d3890b70-a94c-4c48-aec2-52c2200c1b0e"
      },
      "outputs": [
        {
          "data": {
            "text/plain": [
              "['profile_gender',\n",
              " 'profile_age',\n",
              " 'work_country',\n",
              " 'work_province',\n",
              " 'profile_years_experience',\n",
              " 'work_years_in_company',\n",
              " 'work_years_in_current_position',\n",
              " 'work_people_in_charge_of',\n",
              " 'profile_studies_level',\n",
              " 'profile_studies_level_state',\n",
              " 'profile_career',\n",
              " 'profile_university',\n",
              " 'profile_specialization_courses',\n",
              " 'profile_open_source_contributions',\n",
              " 'profile_programming_as_hobby',\n",
              " 'work_role',\n",
              " 'tools_platform',\n",
              " 'tools_programming_languages',\n",
              " 'tools_frameworks',\n",
              " 'tools_data_bases',\n",
              " 'tools_qa_testing',\n",
              " 'tools_IDEs',\n",
              " 'tools_work_pc_os',\n",
              " 'tools_cellphone_os',\n",
              " 'work_on_call_duty',\n",
              " 'salary_on_call_duty_charge',\n",
              " 'work_on_call_duty_charge_type',\n",
              " 'work_contract_type',\n",
              " 'salary_monthly_BRUTO',\n",
              " 'salary_monthly_NETO',\n",
              " 'salary_in_usd',\n",
              " 'salary_satisfaction',\n",
              " 'salary_comparison_last_semester',\n",
              " 'salary_has_bonus',\n",
              " 'salary_bonus_tied_to',\n",
              " 'salary_inflation_adjustment_2020',\n",
              " 'salary_percentage_inflation_adjustment_2020',\n",
              " 'salary_month_last_inflation_adjustment',\n",
              " 'work_has_violence_situations',\n",
              " 'profile_sexual_orientation',\n",
              " 'profile_has_disabilities',\n",
              " 'profile_has_disabilities_hiring_difficulties',\n",
              " 'company_employee_number',\n",
              " 'company_main_activity',\n",
              " 'company_recommended',\n",
              " 'company_diversity_policies',\n",
              " 'company_extra_benefits',\n",
              " 'company_best_companies_city']"
            ]
          },
          "execution_count": 7,
          "metadata": {},
          "output_type": "execute_result"
        }
      ],
      "source": [
        "list(df.columns)\n"
      ]
    },
    {
      "cell_type": "markdown",
      "metadata": {
        "id": "-ZSQYANFHHgV"
      },
      "source": [
        "<html>\n",
        "  <h1 align=\"center\";>\n",
        "    Ejercicio 1 - Análisis descriptivo\n",
        "  </h1>\n",
        "</html>\n",
        "\n",
        "Responder a la pregunta: \n",
        "\n",
        "**¿Cuáles son los lenguajes de programación asociados a los mejores salarios?**\n",
        "\n",
        "\n",
        "Para ello:\n",
        "1. Seleccionar las columnas relevantes para analizar.\n",
        "2. Seleccionar las filas relevantes para analizar. Esto incluye la eliminación de valores extremos y erróneos, pero también puede enfocar el análisis en una sub-población. Por ejemplo, se pueden limitar a personas con un salario mayor que 10000 pesos, o a las personas que trabajan sólo en \"Data Science\", pero deben justificar su elección y reformular la pregunta inicial de ser necesario.\n",
        "  * Obtener una lista de los lenguajes de programación más populares. Decidir cuántos y cuáles seleccionan para incluir en el análisis.\n",
        "  * Para cada una de las otras columnas del punto anterior, elegir los rangos o valores seleccionan para incluir en el análisis.\n",
        "3. Seleccionar métricas que ayuden a responder la pregunta, y los métodos para analizarlas. Elegir UNA de las siguientes opciones:\n",
        "  * Comparar las distribuciones de salario para cada lenguaje utilizando visualizaciones. Como la visualización es el producto final, debe ser clara y mostrar información relevante.\n",
        "  * Comparar medidas de estadística descriptiva sobre la distribución de salario para cada lenguaje. Sean creativos, la estadística descriptiva nos permite decir cosas como: \"el 10% de los mejores sueldos los ganan, en su mayoría, programadores que saben kotlin!\" (donde *mayoría* es un término medio engañoso que sólo significa más del 50%). Para comparar múltiples lenguajes, les recomendamos usar también visualizaciones.\n",
        "  * Comparar probabilidades. Por ejemplo: \"Si sabés Python o Java, tenés un 30% más de chances de ganar arriba de 100K\".\n",
        "\n",
        "Si lo consideran necesario, realicen varias iteraciones. Es decir, si encuentran que las distribuciones de los lenguajes de programación que seleccionaron inicialmente no son muy diferentes, pueden re-hacer el análisis usando sólo los lenguajes de programación que son diferentes."
      ]
    },
    {
      "cell_type": "markdown",
      "metadata": {
        "id": "3YNe43J3zAw4"
      },
      "source": [
        "# Respuesta\n",
        "\n",
        "1. Elegimos como columnas relevantes para analizar: \n",
        "- `tools_programming_languages`\n",
        "- `salary_monthly_BRUTO`.\n",
        "\n",
        "<html>\n",
        "<h4 align=\"center\";>\n",
        "¿Por qué optamos por la columna del `salary_monthly_BRUTO`?\n",
        "</h4>\n",
        "</html>\n",
        "\n",
        "Porque `salary_monthly_NETO` contiene demasiados valores **NULOS** y queremos evitar ignorar demasiados datos provistos \n"
      ]
    },
    {
      "cell_type": "markdown",
      "metadata": {
        "id": "Tgzg5OPMH4I7"
      },
      "source": [
        "¿Cuántos valores nulls tenemos de `salary_monthly_NETO`?"
      ]
    },
    {
      "cell_type": "code",
      "execution_count": 8,
      "metadata": {
        "colab": {
          "base_uri": "https://localhost:8080/"
        },
        "id": "o8FU3DIz0fHr",
        "outputId": "dd96ee44-a0b9-4572-836a-f0ae643c41f7"
      },
      "outputs": [
        {
          "name": "stdout",
          "output_type": "stream",
          "text": [
            "Cantidad de Salario Neto nulo son: 212\n"
          ]
        }
      ],
      "source": [
        "nulls_lookat = df.loc[df.salary_monthly_NETO.isnull()]\n",
        "print(\"Cantidad de Salario Neto nulo son:\", nulls_lookat.shape[0])\n"
      ]
    },
    {
      "cell_type": "markdown",
      "metadata": {
        "id": "bv5NsIqHHyLX"
      },
      "source": [
        "¿Cuántos valores nulls tenemos de \n",
        "`salary_monthly_BRUTO`?"
      ]
    },
    {
      "cell_type": "code",
      "execution_count": 9,
      "metadata": {
        "colab": {
          "base_uri": "https://localhost:8080/"
        },
        "id": "Vgx1pTvw1ERi",
        "outputId": "372972f0-dbf0-4f9c-ab09-31f2e76671a3"
      },
      "outputs": [
        {
          "name": "stdout",
          "output_type": "stream",
          "text": [
            "Cantidad de Salario Bruto nulo son: 0\n"
          ]
        }
      ],
      "source": [
        "nulls_lookat = df.loc[df.salary_monthly_BRUTO.isnull()]\n",
        "print(\"Cantidad de Salario Bruto nulo son:\", nulls_lookat.shape[0])\n"
      ]
    },
    {
      "cell_type": "code",
      "execution_count": 10,
      "metadata": {
        "colab": {
          "base_uri": "https://localhost:8080/",
          "height": 371
        },
        "id": "FDhiFFDBf8if",
        "outputId": "6d937ce5-78ea-432b-d24a-9a60851bf9ea"
      },
      "outputs": [
        {
          "data": {
            "text/plain": [
              "Text(0.5, 1.0, 'Salario Bruto Mensual')"
            ]
          },
          "execution_count": 10,
          "metadata": {},
          "output_type": "execute_result"
        },
        {
          "data": {
            "image/png": "[encoded data removed]",
            "text/plain": [
              "<Figure size 720x360 with 1 Axes>"
            ]
          },
          "metadata": {
            "needs_background": "light"
          },
          "output_type": "display_data"
        }
      ],
      "source": [
        "fig = plt.subplots(figsize=(10, 5))\n",
        "sns.set(style=\"whitegrid\", palette=\"dark\")\n",
        "sns.histplot(x=\"salary_monthly_BRUTO\", data=df, kde=True).set_title(\n",
        "    \"Salario Bruto Mensual\", fontsize=20\n",
        ")\n"
      ]
    },
    {
      "cell_type": "code",
      "execution_count": 31,
      "metadata": {
        "colab": {
          "base_uri": "https://localhost:8080/",
          "height": 355
        },
        "id": "jq_1QSLjEcdl",
        "outputId": "14d5d4fe-d3e9-4df3-e33a-59840ca8b58c"
      },
      "outputs": [
        {
          "data": {
            "image/png": "[encoded data removed]",
            "text/plain": [
              "<Figure size 720x360 with 1 Axes>"
            ]
          },
          "metadata": {},
          "output_type": "display_data"
        }
      ],
      "source": [
        "fig = plt.subplots(figsize=(10, 5))\n",
        "sns.set(style=\"whitegrid\", palette=\"pastel\")\n",
        "sns.histplot(x=\"salary_monthly_NETO\", data=df, kde=True).set_title(\n",
        "    \"Salario Neto Mensual\", fontsize=20\n",
        ");\n"
      ]
    },
    {
      "cell_type": "markdown",
      "metadata": {
        "id": "7NPR-PU41KB6"
      },
      "source": [
        "Como no hay **nulos** en la columna de `salary_monthly_BRUTO` y ambas dispersiones son similares consideramos tomar ésta columna.\n"
      ]
    },
    {
      "cell_type": "markdown",
      "metadata": {
        "id": "3ngR2EoerRUA"
      },
      "source": [
        "\n",
        "\n",
        "<html>\n",
        "<h4 align=\"center\";>\n",
        "¿Por qué optamos por la columna del `tools_programming_languages` ?\n",
        "</h4>\n",
        "</html>"
      ]
    },
    {
      "cell_type": "markdown",
      "metadata": {
        "id": "MedBcfVEuSDD"
      },
      "source": [
        "La columna que contiene información sobre los lenguajes de programación utilizados es `tools_programming_languages`. \n",
        "\n",
        "Sus valores son strings con los lenguajes seleccionados separados por comas."
      ]
    },
    {
      "cell_type": "code",
      "execution_count": 11,
      "metadata": {
        "colab": {
          "base_uri": "https://localhost:8080/"
        },
        "id": "QHIY1P42vEi_",
        "outputId": "bbdad519-3c9f-4d06-f452-b120b87a5049"
      },
      "outputs": [
        {
          "data": {
            "text/plain": [
              "6090    .NET, C#, COBOL, CSS, HTML, Javascript, PHP, SQL, VBA\n",
              "6091                                Ninguno de los anteriores\n",
              "6092                                Ninguno de los anteriores\n",
              "6093         C, C++, HTML, Java, Javascript, PHP, Python, SQL\n",
              "6094                                Ninguno de los anteriores\n",
              "Name: tools_programming_languages, dtype: object"
            ]
          },
          "execution_count": 11,
          "metadata": {},
          "output_type": "execute_result"
        }
      ],
      "source": [
        "df.tools_programming_languages.tail()\n"
      ]
    },
    {
      "cell_type": "markdown",
      "metadata": {
        "id": "qslCbC5yuFrw"
      },
      "source": [
        "2. Seleccionar las **filas** relevantes para analizar. \n",
        "\n",
        "Una vez elegidas las columnas anterior, debemos observar los valores atípicos (que pueden ser un error o una varianza). Si el valor es un error, entonces podemos ignorarlos o eliminarlos, pero si es sólo una varianza en los datos tendríamos que pensar un poco más. \n",
        "\n",
        "Antes de intentar comprender si hay que ignorar los valores atípicos o no, tenemos que conocer las formas de identificarlos, para eso usaremos un gráfico de caja que es un metodo para representar  gráficamente grupos de datos numéricos a través de sus cuartiles.Además pueden tener líneas que se extienden verticalmente desde las cajas (bigotes) indicando la variabilidad fuera de los cuartiles superior e inferior.\n",
        "\n",
        "Los valores atípicos pueden representarse como puntos individuales.Si hay un valor atípico, se representará como un punto en el diagrama de caja, mientras que el resto de los datos de la muestra se agrupará y se mostrará en forma de cajas."
      ]
    },
    {
      "cell_type": "markdown",
      "metadata": {
        "id": "28jo2OE7Q975"
      },
      "source": [
        "El método `describe` nos devuelve resumen estadístico de la columna seleccionada."
      ]
    },
    {
      "cell_type": "code",
      "execution_count": 12,
      "metadata": {
        "colab": {
          "base_uri": "https://localhost:8080/"
        },
        "id": "FUTiAYCRIilF",
        "outputId": "16eac8eb-913f-43f9-ab62-48bab9e2c3ab"
      },
      "outputs": [
        {
          "data": {
            "text/plain": [
              "count       6095.00\n",
              "mean      124058.55\n",
              "std       122912.35\n",
              "min            1.00\n",
              "25%        61595.00\n",
              "50%        96000.00\n",
              "75%       145000.00\n",
              "max      2180000.00\n",
              "Name: salary_monthly_BRUTO, dtype: float64"
            ]
          },
          "execution_count": 12,
          "metadata": {},
          "output_type": "execute_result"
        }
      ],
      "source": [
        "df[\"salary_monthly_BRUTO\"].describe().round(2)\n"
      ]
    },
    {
      "cell_type": "code",
      "execution_count": 13,
      "metadata": {
        "colab": {
          "base_uri": "https://localhost:8080/"
        },
        "id": "kXatIKN9XZ0t",
        "outputId": "6049feac-f6d0-4bb7-deec-b47015752f3b"
      },
      "outputs": [
        {
          "data": {
            "text/plain": [
              "count       5883.00\n",
              "mean       94907.95\n",
              "std        96862.26\n",
              "min            1.00\n",
              "25%        51480.00\n",
              "50%        78000.00\n",
              "75%       106000.00\n",
              "max      2080000.00\n",
              "Name: salary_monthly_NETO, dtype: float64"
            ]
          },
          "execution_count": 13,
          "metadata": {},
          "output_type": "execute_result"
        }
      ],
      "source": [
        "df[\"salary_monthly_NETO\"].describe().round(2)\n"
      ]
    },
    {
      "cell_type": "markdown",
      "metadata": {
        "id": "UXxRrtdoGP7R"
      },
      "source": [
        "Una vez elegida la columna, calculamos sus cuartiles para obtener su límite inferior y superior."
      ]
    },
    {
      "cell_type": "markdown",
      "metadata": {
        "id": "z5lIl0ZaNjD6"
      },
      "source": [
        "<html>\n",
        "  <h3 align=\"center\";>\n",
        "  Cuartiles Salario Bruto\n",
        "  </h3>\n",
        "</html>"
      ]
    },
    {
      "cell_type": "code",
      "execution_count": 33,
      "metadata": {
        "colab": {
          "base_uri": "https://localhost:8080/"
        },
        "id": "MHm8MeSc1abl",
        "outputId": "433d531a-a6b0-4e0a-cb74-efc723741d2b"
      },
      "outputs": [
        {
          "name": "stdout",
          "output_type": "stream",
          "text": [
            "Limite inferior Salario Bruto: 40000.0\n"
          ]
        }
      ],
      "source": [
        "per_01_b = df[\"salary_monthly_BRUTO\"].quantile(0.1)\n",
        "print(\"Límite inferior Salario Bruto:\", per_01_b)\n"
      ]
    },
    {
      "cell_type": "code",
      "execution_count": 32,
      "metadata": {
        "colab": {
          "base_uri": "https://localhost:8080/"
        },
        "id": "1i1RZEig2Eww",
        "outputId": "67139dad-a1c3-463d-9820-0cffa83e7132"
      },
      "outputs": [
        {
          "name": "stdout",
          "output_type": "stream",
          "text": [
            "Limite Superior Salario Bruto: 220000.0\n"
          ]
        }
      ],
      "source": [
        "per_09_b = df[\"salary_monthly_BRUTO\"].quantile(0.9)\n",
        "print(\"Límite Superior Salario Bruto:\", per_09_b)\n"
      ]
    },
    {
      "cell_type": "markdown",
      "metadata": {
        "id": "qJEh070jP5RM"
      },
      "source": [
        "<html>\n",
        "  <h3 align=\"center\";>\n",
        "  Cuartiles Salario Neto\n",
        "  </h3>\n",
        "</html>"
      ]
    },
    {
      "cell_type": "code",
      "execution_count": 16,
      "metadata": {
        "colab": {
          "base_uri": "https://localhost:8080/"
        },
        "id": "IGlUKyy5PutZ",
        "outputId": "ad4e28a2-5e37-410d-f507-8d4a689851ef"
      },
      "outputs": [
        {
          "data": {
            "text/plain": [
              "35000.0"
            ]
          },
          "execution_count": 16,
          "metadata": {},
          "output_type": "execute_result"
        }
      ],
      "source": [
        "per_01_n = df[\"salary_monthly_NETO\"].quantile(0.1)\n",
        "print(\"Límite inferior Salario Neto:\", per_01_n)\n"
      ]
    },
    {
      "cell_type": "code",
      "execution_count": 17,
      "metadata": {
        "colab": {
          "base_uri": "https://localhost:8080/"
        },
        "id": "ndFsEI6WPpd4",
        "outputId": "14bae581-a0e0-4a62-b730-904d325db6d6"
      },
      "outputs": [
        {
          "data": {
            "text/plain": [
              "150000.0"
            ]
          },
          "execution_count": 17,
          "metadata": {},
          "output_type": "execute_result"
        }
      ],
      "source": [
        "per_09_n = df[\"salary_monthly_NETO\"].quantile(0.9)\n",
        "print(\"Limite inferior Salario Neto:\", per_09_n)"
      ]
    },
    {
      "cell_type": "code",
      "execution_count": 18,
      "metadata": {
        "colab": {
          "base_uri": "https://localhost:8080/",
          "height": 318
        },
        "id": "UKnBOn7113zb",
        "outputId": "e54aa043-5167-486a-a146-20d99664b322"
      },
      "outputs": [
        {
          "name": "stdout",
          "output_type": "stream",
          "text": [
            "La cantidad de Salario Bruto con los cuartiles: 5481\n"
          ]
        },
        {
          "data": {
            "image/png": "[encoded data removed]",
            "text/plain": [
              "<Figure size 432x288 with 1 Axes>"
            ]
          },
          "metadata": {},
          "output_type": "display_data"
        }
      ],
      "source": [
        "df_b = df.loc[df[\"salary_monthly_BRUTO\"] < per_09_b]\n",
        "df_b = df.loc[df[\"salary_monthly_BRUTO\"] > per_01_b]\n",
        "\n",
        "print(\"La cantidad de Salario Bruto con los cuartiles:\", df_b.shape[0])\n",
        "\n",
        "sns.set_theme(style=\"whitegrid\", palette=\"pastel\")\n",
        "plot = sns.boxplot(x=df[\"salary_monthly_BRUTO\"]).set_title(\"Salario Bruto Mensual\")\n"
      ]
    },
    {
      "cell_type": "code",
      "execution_count": 19,
      "metadata": {
        "colab": {
          "base_uri": "https://localhost:8080/",
          "height": 318
        },
        "id": "b8H2i5--ck6l",
        "outputId": "b09d9851-2ceb-4d28-ee84-6ad7561234f9"
      },
      "outputs": [
        {
          "name": "stdout",
          "output_type": "stream",
          "text": [
            "La cantidad de Salario Neto con los cuartiles: 5292\n"
          ]
        },
        {
          "data": {
            "image/png": "[encoded data removed]",
            "text/plain": [
              "<Figure size 432x288 with 1 Axes>"
            ]
          },
          "metadata": {},
          "output_type": "display_data"
        }
      ],
      "source": [
        "df_n = df.loc[df[\"salary_monthly_NETO\"] < per_09_n]\n",
        "df_n = df.loc[df[\"salary_monthly_NETO\"] > per_01_n]\n",
        "print(\"La cantidad de Salario Neto con los cuartiles:\", df_n.shape[0])\n",
        "\n",
        "sns.set_theme(style=\"whitegrid\", palette=\"dark\")\n",
        "plot_n = sns.boxplot(x=df[\"salary_monthly_NETO\"]).set_title(\"Salario Neto Mensual\")\n"
      ]
    },
    {
      "cell_type": "markdown",
      "metadata": {
        "id": "_MocuR5YrDQ0"
      },
      "source": [
        "**Filtrado de lenguajes relevantes**\n",
        "\n",
        "El siguiente código permite seleccionar sólo las filas donde el valor de la columna `programming_language` se encuentre en la lista `interesting_languages`."
      ]
    },
    {
      "cell_type": "code",
      "execution_count": 20,
      "metadata": {
        "id": "VIwFz14bqwMW"
      },
      "outputs": [],
      "source": [
        "# complete here if you want to include more columns\n",
        "relevant_columns = [\"tools_programming_languages\", \"salary_monthly_BRUTO\"]\n"
      ]
    },
    {
      "cell_type": "code",
      "execution_count": 36,
      "metadata": {
        "colab": {
          "base_uri": "https://localhost:8080/"
        },
        "id": "yKnUaDnDqo_U",
        "outputId": "5ee7891a-949a-4d58-907c-85d61a79b03f"
      },
      "outputs": [
        {
          "name": "stderr",
          "output_type": "stream",
          "text": [
            "C:\\Users\\EleanaRinaudo\\AppData\\Local\\Temp\\ipykernel_27592\\1226289849.py:25: FutureWarning: The default dtype for empty Series will be 'object' instead of 'float64' in a future version. Specify a dtype explicitly to silence this warning.\n",
            "  df.cured_programming_languages.apply(pd.Series)\n"
          ]
        },
        {
          "data": {
            "text/plain": [
              "javascript    2513\n",
              "sql           2154\n",
              "html          1861\n",
              "python        1475\n",
              "java          1453\n",
              "              ... \n",
              "xsl              1\n",
              "velocity         1\n",
              "apache           1\n",
              "lex              1\n",
              "infobasic        1\n",
              "Name: programming_language, Length: 205, dtype: int64"
            ]
          },
          "execution_count": 36,
          "metadata": {},
          "output_type": "execute_result"
        }
      ],
      "source": [
        "# Convert the comma-separated string of languages to a list of string.\n",
        "# Remove 'ninguno de los anteriores' option, spaces and training commas.\n",
        "def split_languages(languages_str):\n",
        "    if not isinstance(languages_str, str):\n",
        "        return []\n",
        "    # Remove 'other' option\n",
        "    languages_str = languages_str.lower().replace(\"ninguno de los anteriores\", \"\")\n",
        "    # Split string into list of items\n",
        "    # Remove spaces and commas for each item\n",
        "    return [lang.strip().replace(\",\", \"\") for lang in languages_str.split()]\n",
        "\n",
        "\n",
        "# Create a new column with the list of languages\n",
        "df.loc[:, \"cured_programming_languages\"] = df.tools_programming_languages.apply(\n",
        "    split_languages\n",
        ")\n",
        "if \"cured_programming_languages\" not in relevant_columns:\n",
        "    relevant_columns.append(\"cured_programming_languages\")\n",
        "\n",
        "# Duplicate each row of df for each programming language\n",
        "# mentioned in the response.\n",
        "# We only include in df_lang the columns we are going to analyze later, so we\n",
        "# don't duplicate innecesary information.\n",
        "df_lang = (\n",
        "    df.cured_programming_languages.apply(pd.Series)\n",
        "    .stack()\n",
        "    .reset_index(level=-1, drop=True)\n",
        "    .to_frame()\n",
        "    .join(df[relevant_columns])\n",
        "    .rename(columns={0: \"programming_language\"})\n",
        ");\n",
        "# Horrible programming style! But a lot of data science code can be written with\n",
        "# as concatenations of functions (pipelines), and there's no elegant way of\n",
        "# doing that on Python.\n",
        "df_lang.programming_language.value_counts();\n"
      ]
    },
    {
      "cell_type": "code",
      "execution_count": 37,
      "metadata": {
        "colab": {
          "base_uri": "https://localhost:8080/",
          "height": 406
        },
        "id": "ZjalKHOevVuz",
        "outputId": "6eaa1d72-0a69-4781-9c92-1193520f7104"
      },
      "outputs": [
        {
          "data": {
            "image/png": "[encoded data removed]",
            "text/plain": [
              "<Figure size 1440x576 with 1 Axes>"
            ]
          },
          "metadata": {},
          "output_type": "display_data"
        }
      ],
      "source": [
        "fig = plt.figure(figsize=(20, 8))\n",
        "sns.set_theme(style=\"whitegrid\", palette=\"dark\")\n",
        "sns.countplot(\n",
        "    y=df_lang.programming_language,\n",
        "    order=pd.value_counts(df_lang[\"programming_language\"]).iloc[:20].index,\n",
        ").set_title(\"Lenguajes de Programación Más Populares\")\n"
      ]
    },
    {
      "cell_type": "code",
      "execution_count": 23,
      "metadata": {
        "colab": {
          "base_uri": "https://localhost:8080/",
          "height": 363
        },
        "id": "lNPb4tTvWCwv",
        "outputId": "d7417d7e-31f3-4f14-be27-5747383de36a"
      },
      "outputs": [
        {
          "data": {
            "text/html": [
              "<div>\n",
              "<style scoped>\n",
              "    .dataframe tbody tr th:only-of-type {\n",
              "        vertical-align: middle;\n",
              "    }\n",
              "\n",
              "    .dataframe tbody tr th {\n",
              "        vertical-align: top;\n",
              "    }\n",
              "\n",
              "    .dataframe thead th {\n",
              "        text-align: right;\n",
              "    }\n",
              "</style>\n",
              "<table border=\"1\" class=\"dataframe\">\n",
              "  <thead>\n",
              "    <tr style=\"text-align: right;\">\n",
              "      <th></th>\n",
              "      <th>language</th>\n",
              "      <th>frequency</th>\n",
              "    </tr>\n",
              "  </thead>\n",
              "  <tbody>\n",
              "    <tr>\n",
              "      <th>0</th>\n",
              "      <td>javascript</td>\n",
              "      <td>2513</td>\n",
              "    </tr>\n",
              "    <tr>\n",
              "      <th>1</th>\n",
              "      <td>sql</td>\n",
              "      <td>2154</td>\n",
              "    </tr>\n",
              "    <tr>\n",
              "      <th>2</th>\n",
              "      <td>html</td>\n",
              "      <td>1861</td>\n",
              "    </tr>\n",
              "    <tr>\n",
              "      <th>3</th>\n",
              "      <td>python</td>\n",
              "      <td>1475</td>\n",
              "    </tr>\n",
              "    <tr>\n",
              "      <th>4</th>\n",
              "      <td>java</td>\n",
              "      <td>1453</td>\n",
              "    </tr>\n",
              "    <tr>\n",
              "      <th>5</th>\n",
              "      <td>css</td>\n",
              "      <td>1247</td>\n",
              "    </tr>\n",
              "    <tr>\n",
              "      <th>6</th>\n",
              "      <td>bash/shell</td>\n",
              "      <td>993</td>\n",
              "    </tr>\n",
              "    <tr>\n",
              "      <th>7</th>\n",
              "      <td>php</td>\n",
              "      <td>891</td>\n",
              "    </tr>\n",
              "    <tr>\n",
              "      <th>8</th>\n",
              "      <td>.net</td>\n",
              "      <td>823</td>\n",
              "    </tr>\n",
              "    <tr>\n",
              "      <th>9</th>\n",
              "      <td>typescript</td>\n",
              "      <td>779</td>\n",
              "    </tr>\n",
              "  </tbody>\n",
              "</table>\n",
              "</div>"
            ],
            "text/plain": [
              "     language  frequency\n",
              "0  javascript       2513\n",
              "1         sql       2154\n",
              "2        html       1861\n",
              "3      python       1475\n",
              "4        java       1453\n",
              "5         css       1247\n",
              "6  bash/shell        993\n",
              "7         php        891\n",
              "8        .net        823\n",
              "9  typescript        779"
            ]
          },
          "execution_count": 23,
          "metadata": {},
          "output_type": "execute_result"
        }
      ],
      "source": [
        "language_count = (\n",
        "    df_lang.programming_language.value_counts()\n",
        "    .reset_index()\n",
        "    .rename(columns={\"index\": \"language\", \"programming_language\": \"frequency\"})\n",
        ")\n",
        "language_count[:10]\n"
      ]
    },
    {
      "cell_type": "markdown",
      "metadata": {
        "id": "qm8NUg-7UEue"
      },
      "source": [
        "En la columna `programming_language` se encuentra cada lenguaje por separado. \n",
        "\n",
        "Notar que si una respuesta contenía 3 lenguajes, como `\"HTML, Javascript, Python\"`, la fila ha sido replicada 3 veces.\n",
        "\n",
        "Por ello, hay tres filas con índice 1."
      ]
    },
    {
      "cell_type": "code",
      "execution_count": 24,
      "metadata": {
        "colab": {
          "base_uri": "https://localhost:8080/",
          "height": 302
        },
        "id": "DEpVptnLZUQU",
        "outputId": "a22630b8-1c9e-48b9-c7b2-7e9def3c7ed0"
      },
      "outputs": [
        {
          "data": {
            "text/html": [
              "<div>\n",
              "<style scoped>\n",
              "    .dataframe tbody tr th:only-of-type {\n",
              "        vertical-align: middle;\n",
              "    }\n",
              "\n",
              "    .dataframe tbody tr th {\n",
              "        vertical-align: top;\n",
              "    }\n",
              "\n",
              "    .dataframe thead th {\n",
              "        text-align: right;\n",
              "    }\n",
              "</style>\n",
              "<table border=\"1\" class=\"dataframe\">\n",
              "  <thead>\n",
              "    <tr style=\"text-align: right;\">\n",
              "      <th></th>\n",
              "      <th>programming_language</th>\n",
              "      <th>tools_programming_languages</th>\n",
              "      <th>salary_monthly_BRUTO</th>\n",
              "      <th>cured_programming_languages</th>\n",
              "    </tr>\n",
              "  </thead>\n",
              "  <tbody>\n",
              "    <tr>\n",
              "      <th>1</th>\n",
              "      <td>javascript</td>\n",
              "      <td>HTML, Javascript, Python</td>\n",
              "      <td>79000.0</td>\n",
              "      <td>[html, javascript, python]</td>\n",
              "    </tr>\n",
              "    <tr>\n",
              "      <th>1</th>\n",
              "      <td>python</td>\n",
              "      <td>HTML, Javascript, Python</td>\n",
              "      <td>79000.0</td>\n",
              "      <td>[html, javascript, python]</td>\n",
              "    </tr>\n",
              "    <tr>\n",
              "      <th>3</th>\n",
              "      <td>javascript</td>\n",
              "      <td>Bash/Shell, C, CSS, HTML, Java, Javascript, PHP, Python, SQL</td>\n",
              "      <td>130000.0</td>\n",
              "      <td>[bash/shell, c, css, html, java, javascript, php, python, sql]</td>\n",
              "    </tr>\n",
              "    <tr>\n",
              "      <th>3</th>\n",
              "      <td>php</td>\n",
              "      <td>Bash/Shell, C, CSS, HTML, Java, Javascript, PHP, Python, SQL</td>\n",
              "      <td>130000.0</td>\n",
              "      <td>[bash/shell, c, css, html, java, javascript, php, python, sql]</td>\n",
              "    </tr>\n",
              "    <tr>\n",
              "      <th>3</th>\n",
              "      <td>python</td>\n",
              "      <td>Bash/Shell, C, CSS, HTML, Java, Javascript, PHP, Python, SQL</td>\n",
              "      <td>130000.0</td>\n",
              "      <td>[bash/shell, c, css, html, java, javascript, php, python, sql]</td>\n",
              "    </tr>\n",
              "  </tbody>\n",
              "</table>\n",
              "</div>"
            ],
            "text/plain": [
              "  programming_language                                   tools_programming_languages  \\\n",
              "1           javascript                                      HTML, Javascript, Python   \n",
              "1               python                                      HTML, Javascript, Python   \n",
              "3           javascript  Bash/Shell, C, CSS, HTML, Java, Javascript, PHP, Python, SQL   \n",
              "3                  php  Bash/Shell, C, CSS, HTML, Java, Javascript, PHP, Python, SQL   \n",
              "3               python  Bash/Shell, C, CSS, HTML, Java, Javascript, PHP, Python, SQL   \n",
              "\n",
              "   salary_monthly_BRUTO                                     cured_programming_languages  \n",
              "1               79000.0                                      [html, javascript, python]  \n",
              "1               79000.0                                      [html, javascript, python]  \n",
              "3              130000.0  [bash/shell, c, css, html, java, javascript, php, python, sql]  \n",
              "3              130000.0  [bash/shell, c, css, html, java, javascript, php, python, sql]  \n",
              "3              130000.0  [bash/shell, c, css, html, java, javascript, php, python, sql]  "
            ]
          },
          "execution_count": 24,
          "metadata": {},
          "output_type": "execute_result"
        }
      ],
      "source": [
        "# Filter out languages that we want to exclude\n",
        "# Complete here with your selected list.\n",
        "interesting_languages = [\n",
        "    \"python\",\n",
        "    \"javascript\",\n",
        "    \"java\\W\",\n",
        "    \".net\",\n",
        "    \"php\",\n",
        "    \"c#\",\n",
        "    \"c[+]\",\n",
        "    \"kotlin\",\n",
        "    \"go\",\n",
        "    \"vba\\W\",\n",
        "]\n",
        "filtered_df_lang = df_lang[df_lang.programming_language.isin(interesting_languages)]\n",
        "filtered_df_lang.head()\n"
      ]
    },
    {
      "cell_type": "markdown",
      "metadata": {
        "id": "CADhJP5EbbYK"
      },
      "source": [
        "<html>\n",
        "  <h4 align=\"center\";>\n",
        "    Filtros para los 10 lenguajes de programación más usados\n",
        "  </h4>\n",
        "</html>"
      ]
    },
    {
      "cell_type": "code",
      "execution_count": 38,
      "metadata": {
        "id": "XDWTdnV7ALZ7"
      },
      "outputs": [],
      "source": [
        "lenguajes = [\n",
        "    \"python\",\n",
        "    \"javascript\",\n",
        "    \"java\\W\",\n",
        "    \".net\",\n",
        "    \"php\",\n",
        "    \"c#\",\n",
        "    \"c[+]\",\n",
        "    \"kotlin\",\n",
        "    \"go\",\n",
        "    \"vba\",\n",
        "]\n",
        "ocurrencia = list()\n",
        "salario = list()\n",
        "\n",
        "for i in lenguajes:\n",
        "    mask = df[\"tools_programming_languages\"].str.contains(\n",
        "        i, case=False, flags=0, na=False\n",
        "    )\n",
        "    var_ocurrencia = mask.sum()\n",
        "    ocurrencia.append(var_ocurrencia)\n",
        "\n",
        "    sal = df.loc[mask].salary_monthly_BRUTO.mean()\n",
        "    sal_round = round(sal, 2)\n",
        "    salario.append(sal_round)\n"
      ]
    },
    {
      "cell_type": "markdown",
      "metadata": {
        "id": "JVfpkdj2cEM-"
      },
      "source": [
        "Creamos un nuevo DataFrame llamado `df_SalaryPerLanguage` para gráficar los mejores lenguajes por salario. "
      ]
    },
    {
      "cell_type": "code",
      "execution_count": 26,
      "metadata": {
        "colab": {
          "base_uri": "https://localhost:8080/",
          "height": 363
        },
        "id": "5j9d1PPlAZyK",
        "outputId": "fb6f85f6-0618-41f6-fa35-fe4510212597"
      },
      "outputs": [
        {
          "data": {
            "text/html": [
              "<div>\n",
              "<style scoped>\n",
              "    .dataframe tbody tr th:only-of-type {\n",
              "        vertical-align: middle;\n",
              "    }\n",
              "\n",
              "    .dataframe tbody tr th {\n",
              "        vertical-align: top;\n",
              "    }\n",
              "\n",
              "    .dataframe thead th {\n",
              "        text-align: right;\n",
              "    }\n",
              "</style>\n",
              "<table border=\"1\" class=\"dataframe\">\n",
              "  <thead>\n",
              "    <tr style=\"text-align: right;\">\n",
              "      <th></th>\n",
              "      <th>index</th>\n",
              "      <th>Lenguajes de programación</th>\n",
              "      <th>Frecuency</th>\n",
              "      <th>Salario Medio Bruto Mensual</th>\n",
              "    </tr>\n",
              "  </thead>\n",
              "  <tbody>\n",
              "    <tr>\n",
              "      <th>0</th>\n",
              "      <td>8</td>\n",
              "      <td>go</td>\n",
              "      <td>310</td>\n",
              "      <td>191928.95</td>\n",
              "    </tr>\n",
              "    <tr>\n",
              "      <th>1</th>\n",
              "      <td>7</td>\n",
              "      <td>kotlin</td>\n",
              "      <td>191</td>\n",
              "      <td>179668.84</td>\n",
              "    </tr>\n",
              "    <tr>\n",
              "      <th>2</th>\n",
              "      <td>0</td>\n",
              "      <td>python</td>\n",
              "      <td>1475</td>\n",
              "      <td>146512.55</td>\n",
              "    </tr>\n",
              "    <tr>\n",
              "      <th>3</th>\n",
              "      <td>2</td>\n",
              "      <td>java\\W</td>\n",
              "      <td>1190</td>\n",
              "      <td>136185.29</td>\n",
              "    </tr>\n",
              "    <tr>\n",
              "      <th>4</th>\n",
              "      <td>6</td>\n",
              "      <td>c[+]</td>\n",
              "      <td>271</td>\n",
              "      <td>131172.32</td>\n",
              "    </tr>\n",
              "    <tr>\n",
              "      <th>5</th>\n",
              "      <td>1</td>\n",
              "      <td>javascript</td>\n",
              "      <td>2513</td>\n",
              "      <td>130109.83</td>\n",
              "    </tr>\n",
              "    <tr>\n",
              "      <th>6</th>\n",
              "      <td>4</td>\n",
              "      <td>php</td>\n",
              "      <td>891</td>\n",
              "      <td>118010.33</td>\n",
              "    </tr>\n",
              "    <tr>\n",
              "      <th>7</th>\n",
              "      <td>5</td>\n",
              "      <td>c#</td>\n",
              "      <td>734</td>\n",
              "      <td>116788.67</td>\n",
              "    </tr>\n",
              "    <tr>\n",
              "      <th>8</th>\n",
              "      <td>3</td>\n",
              "      <td>.net</td>\n",
              "      <td>822</td>\n",
              "      <td>116634.90</td>\n",
              "    </tr>\n",
              "    <tr>\n",
              "      <th>9</th>\n",
              "      <td>9</td>\n",
              "      <td>vba</td>\n",
              "      <td>222</td>\n",
              "      <td>99243.85</td>\n",
              "    </tr>\n",
              "  </tbody>\n",
              "</table>\n",
              "</div>"
            ],
            "text/plain": [
              "   index Lenguajes de programación  Frecuency  Salario Medio Bruto Mensual\n",
              "0      8                        go        310                    191928.95\n",
              "1      7                    kotlin        191                    179668.84\n",
              "2      0                    python       1475                    146512.55\n",
              "3      2                    java\\W       1190                    136185.29\n",
              "4      6                      c[+]        271                    131172.32\n",
              "5      1                javascript       2513                    130109.83\n",
              "6      4                       php        891                    118010.33\n",
              "7      5                        c#        734                    116788.67\n",
              "8      3                      .net        822                    116634.90\n",
              "9      9                       vba        222                     99243.85"
            ]
          },
          "execution_count": 26,
          "metadata": {},
          "output_type": "execute_result"
        }
      ],
      "source": [
        "df_SalaryPerLanguage = pd.DataFrame(\n",
        "    {\n",
        "        \"Lenguajes de programación\": lenguajes,\n",
        "        \"Frecuency\": ocurrencia,\n",
        "        \"Salario Medio Bruto Mensual\": salario,\n",
        "    }\n",
        ")\n",
        "df_SalaryPerLanguage = (\n",
        "    df_SalaryPerLanguage.sort_values(by=\"Salario Medio Bruto Mensual\", ascending=False)\n",
        "    .reset_index()\n",
        "    .rename(columns={\"index\": \"index\"})\n",
        ")\n",
        "df_SalaryPerLanguage[\"Lenguajes de programación\"].replace(\n",
        "    {\n",
        "        \"go\": \"Go\",\n",
        "        \"kotlin\": \"Kotlin\",\n",
        "        \"python\": \"Python\",\n",
        "        \"java\\W\": \"Java\",\n",
        "        \"javascript\": \"Javascript\",\n",
        "        \"c#\": \"C#\",\n",
        "        \"c[+]\": \"C++\",\n",
        "        \"php\": \"PHP\",\n",
        "        \"vba\": \"Visual Basic\",\n",
        "    },\n",
        "    inplace=False,\n",
        ")\n",
        "df_SalaryPerLanguage\n"
      ]
    },
    {
      "cell_type": "markdown",
      "metadata": {
        "id": "qI3bAMqzcUl7"
      },
      "source": [
        "Gráfico de la frecuencia de los lenguajes de programacion entre los encuestados"
      ]
    },
    {
      "cell_type": "code",
      "execution_count": 27,
      "metadata": {
        "colab": {
          "base_uri": "https://localhost:8080/",
          "height": 355
        },
        "id": "CiDtSNVcCzsd",
        "outputId": "3a8c6837-16cf-4dd4-f5dd-18b7064a296e"
      },
      "outputs": [
        {
          "data": {
            "image/png": "[encoded data removed]",
            "text/plain": [
              "<Figure size 864x360 with 1 Axes>"
            ]
          },
          "metadata": {},
          "output_type": "display_data"
        }
      ],
      "source": [
        "# frecuencia de los lenguajes de programacion entre los encuestados.\n",
        "fig = plt.figure(figsize=(12, 5))\n",
        "sns.set(style=\"whitegrid\", palette=\"pastel\")\n",
        "sns.barplot(\n",
        "    data=df_SalaryPerLanguage, x=\"Lenguajes de programación\", y=\"Frecuency\"\n",
        ").set_title(\"SALARIO 2020\")\n"
      ]
    },
    {
      "cell_type": "markdown",
      "metadata": {
        "id": "eT1HchDEdP0R"
      },
      "source": [
        "3. **Seleccionar métricas** que ayuden a responder la pregunta, y los métodos para analizarlas.\n",
        "\n",
        "Comparamos las distribuciones de **salario bruto mensual** para cada lenguaje utilizando visualizaciones. \n",
        "\n",
        "Antes de realizar la visualización, utilizamos el método `value_counts` para obtener los datos del nuevo DataFrame creado."
      ]
    },
    {
      "cell_type": "code",
      "execution_count": 28,
      "metadata": {
        "colab": {
          "base_uri": "https://localhost:8080/"
        },
        "id": "HTrA_FCIFoXJ",
        "outputId": "d60f28f1-6690-4fd3-8654-fbdf607b48cc"
      },
      "outputs": [
        {
          "data": {
            "text/plain": [
              "index  Lenguajes de programación  Frecuency  Salario Medio Bruto Mensual\n",
              "0      python                     1475       146512.55                      1\n",
              "1      javascript                 2513       130109.83                      1\n",
              "2      java\\W                     1190       136185.29                      1\n",
              "3      .net                       822        116634.90                      1\n",
              "4      php                        891        118010.33                      1\n",
              "5      c#                         734        116788.67                      1\n",
              "6      c[+]                       271        131172.32                      1\n",
              "7      kotlin                     191        179668.84                      1\n",
              "8      go                         310        191928.95                      1\n",
              "9      vba                        222        99243.85                       1\n",
              "dtype: int64"
            ]
          },
          "execution_count": 28,
          "metadata": {},
          "output_type": "execute_result"
        }
      ],
      "source": [
        "df_SalaryPerLanguage.value_counts()\n"
      ]
    },
    {
      "cell_type": "code",
      "execution_count": 29,
      "metadata": {
        "colab": {
          "base_uri": "https://localhost:8080/",
          "height": 301
        },
        "id": "w6s2fMhTBxH1",
        "outputId": "d359810b-492e-463f-a6ee-a0645dde1ed1"
      },
      "outputs": [
        {
          "data": {
            "image/png": "[encoded data removed]",
            "text/plain": [
              "<Figure size 936x288 with 1 Axes>"
            ]
          },
          "metadata": {},
          "output_type": "display_data"
        }
      ],
      "source": [
        "fig = plt.figure(figsize=(13, 4))\n",
        "sns.set(style=\"whitegrid\", palette=\"deep\")\n",
        "sns.barplot(\n",
        "    data=df_SalaryPerLanguage,\n",
        "    x=\"Lenguajes de programación\",\n",
        "    y=\"Salario Medio Bruto Mensual\",\n",
        ").set_title(\"SALARIO 2020\")\n"
      ]
    },
    {
      "cell_type": "markdown",
      "metadata": {
        "id": "Kh-Yr95_FSwd"
      },
      "source": [
        "Análisis de los salarios mensuales brutos más elevados basados en la encuesta a programadores de Sysarmy del año 2020, teniendo en cuenta 10 de los lenguajes más populares del mercado argentino."
      ]
    },
    {
      "cell_type": "markdown",
      "metadata": {
        "id": "65L8jCZFCp9O"
      },
      "source": [
        "----\n",
        "**Conclusión:**\n",
        "\n",
        "Trabajamos con un dataset de encuesta de sueldos de Sysarmy del 2020 que contiene un total de 6095 filas y 48 columnas, que serían 292560 datos en **crudo**.\n",
        "\n",
        "- Las columnas que hemos elegido para analizar son `tools_programming_languages` y `salary_monthly_BRUTO`. Elegimos `salary_monthly_BRUTO`, en vez del `salary_monthly_NETO`, ya que no contiene valores **NULOS**.\n",
        "\n",
        "- Creamos un nuevo **DataFrame** para obtener los datos de los mejores lenguajes por salario. \n",
        "Los lenguajes son:\n",
        "  - `Go`\n",
        "  - `Kotlin`\n",
        "  - `Python`\n",
        "  - `Java`\n",
        "  - `C++`\n",
        "  - `Javascript`\n",
        "  - `PHP`\n",
        "  - `C#`\n",
        "  - `.Net`\n",
        "  - `Visual Basic`\n",
        "\n",
        "- Filtramos los lenguajes `SQL`, `HTML`, `CSS`, `Bash/Shell`, `Typescript` ya que **no lo consideramos** como lenguajes de programación de \"mayor popularidad\".\n",
        "\n",
        "- Comparamos las distribuciones de salario bruto mensual para cada lenguaje y observamos en el gr{afico que `Go` es el lenguaje con **mayorsalario medio mensual bruto**  superando los 180k y el resto de los lenguajes de programación más populares supera 70k.\n"
      ]
    },
    {
      "cell_type": "markdown",
      "metadata": {},
      "source": []
    }
  ],
  "metadata": {
    "colab": {
      "collapsed_sections": [],
      "name": "Entregable - Parte 1 - 1.ipynb",
      "provenance": []
    },
    "kernelspec": {
      "display_name": "Python 3",
      "name": "python3"
    },
    "language_info": {
      "codemirror_mode": {
        "name": "ipython",
        "version": 3
      },
      "file_extension": ".py",
      "mimetype": "text/x-python",
      "name": "python",
      "nbconvert_exporter": "python",
      "pygments_lexer": "ipython3",
      "version": "3.9.7"
    }
  },
  "nbformat": 4,
  "nbformat_minor": 0
}
