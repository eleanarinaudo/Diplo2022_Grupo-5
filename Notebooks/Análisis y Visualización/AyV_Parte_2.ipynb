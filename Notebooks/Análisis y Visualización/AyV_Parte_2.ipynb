{
  "cells": [
    {
      "cell_type": "markdown",
      "metadata": {
        "id": "g9kzzEMjIdXk"
      },
      "source": [
        "<html>\n",
        "  <h1  align=\"center\";> Diplomatura en Ciencia de Datos, Aprendizaje Automático y sus Aplicaciones\n",
        "  </h1>\n",
        "<hr>\n",
        "  <h3 align=\"center\";>\n",
        "  Edición 2022\n",
        "  </h3>\n",
        "<hr>\n",
        "  <h1 align=\"center\";>\n",
        "  Trabajo Práctico Entregable\n",
        "  </h1>\n",
        "  <h2 align=\"center\";>\n",
        "  Parte 2\n",
        "  </h2>\n",
        "</html>"
      ]
    },
    {
      "cell_type": "markdown",
      "metadata": {
        "id": "lLh1FnJAIltl"
      },
      "source": [
        "## Profesora del Práctico:\n",
        "- Fonseca, Rocio\n",
        "\n",
        "## Integrantes [Grupo 5]:\n",
        "- Argüello, Leandro Ismael\n",
        "- Corral, Diego\n",
        "- Racciatti. Florencia\n",
        "- Rinaudo, Eleana\n",
        "- Romero, Ernest"
      ]
    },
    {
      "cell_type": "markdown",
      "metadata": {
        "id": "UFpNAGtTIq5V"
      },
      "source": [
        "<html>\n",
        "<hr>\n",
        "  <h1  align=\"center\";>\n",
        "    Análisis Exploratorio de Datos\n",
        "  </h1>\n",
        "</html>"
      ]
    },
    {
      "cell_type": "markdown",
      "metadata": {
        "id": "Enjp5qCFIvxF"
      },
      "source": [
        "# Importación de librerías\n",
        "\n",
        "Importamos la librerías que vamos a utilizar en el práctico."
      ]
    },
    {
      "cell_type": "code",
      "execution_count": 1,
      "metadata": {
        "id": "4udjxjk1EtVU"
      },
      "outputs": [],
      "source": [
        "import io\n",
        "import statistics as st\n",
        "import matplotlib\n",
        "import matplotlib.pyplot as plt\n",
        "import numpy as np\n",
        "import pandas as pd\n",
        "import seaborn as sns\n",
        "from scipy.stats import t\n",
        "import scipy.stats\n",
        "\n",
        "sns.set_context(\"talk\")\n",
        "from numpy.ma.core import sqrt\n"
      ]
    },
    {
      "cell_type": "markdown",
      "metadata": {
        "id": "OJFauUixI0ZU"
      },
      "source": [
        "## Lectura del dataset"
      ]
    },
    {
      "cell_type": "code",
      "execution_count": 2,
      "metadata": {
        "colab": {
          "base_uri": "https://localhost:8080/",
          "height": 634
        },
        "id": "8SJ414aVimNy",
        "outputId": "4fab6820-dea5-41f0-9cb0-e34c01e0eed6"
      },
      "outputs": [
        {
          "data": {
            "text/html": [
              "<div>\n",
              "<style scoped>\n",
              "    .dataframe tbody tr th:only-of-type {\n",
              "        vertical-align: middle;\n",
              "    }\n",
              "\n",
              "    .dataframe tbody tr th {\n",
              "        vertical-align: top;\n",
              "    }\n",
              "\n",
              "    .dataframe thead th {\n",
              "        text-align: right;\n",
              "    }\n",
              "</style>\n",
              "<table border=\"1\" class=\"dataframe\">\n",
              "  <thead>\n",
              "    <tr style=\"text-align: right;\">\n",
              "      <th></th>\n",
              "      <th>profile_gender</th>\n",
              "      <th>profile_age</th>\n",
              "      <th>work_country</th>\n",
              "      <th>work_province</th>\n",
              "      <th>profile_years_experience</th>\n",
              "      <th>work_years_in_company</th>\n",
              "      <th>work_years_in_current_position</th>\n",
              "      <th>work_people_in_charge_of</th>\n",
              "      <th>profile_studies_level</th>\n",
              "      <th>profile_studies_level_state</th>\n",
              "      <th>profile_career</th>\n",
              "      <th>profile_university</th>\n",
              "      <th>profile_specialization_courses</th>\n",
              "      <th>profile_open_source_contributions</th>\n",
              "      <th>profile_programming_as_hobby</th>\n",
              "      <th>work_role</th>\n",
              "      <th>tools_platform</th>\n",
              "      <th>tools_programming_languages</th>\n",
              "      <th>tools_frameworks</th>\n",
              "      <th>tools_data_bases</th>\n",
              "      <th>tools_qa_testing</th>\n",
              "      <th>tools_IDEs</th>\n",
              "      <th>tools_work_pc_os</th>\n",
              "      <th>tools_cellphone_os</th>\n",
              "      <th>work_on_call_duty</th>\n",
              "      <th>salary_on_call_duty_charge</th>\n",
              "      <th>work_on_call_duty_charge_type</th>\n",
              "      <th>work_contract_type</th>\n",
              "      <th>salary_monthly_BRUTO</th>\n",
              "      <th>salary_monthly_NETO</th>\n",
              "      <th>salary_in_usd</th>\n",
              "      <th>salary_satisfaction</th>\n",
              "      <th>salary_comparison_last_semester</th>\n",
              "      <th>salary_has_bonus</th>\n",
              "      <th>salary_bonus_tied_to</th>\n",
              "      <th>salary_inflation_adjustment_2020</th>\n",
              "      <th>salary_percentage_inflation_adjustment_2020</th>\n",
              "      <th>salary_month_last_inflation_adjustment</th>\n",
              "      <th>work_has_violence_situations</th>\n",
              "      <th>profile_sexual_orientation</th>\n",
              "      <th>profile_has_disabilities</th>\n",
              "      <th>profile_has_disabilities_hiring_difficulties</th>\n",
              "      <th>company_employee_number</th>\n",
              "      <th>company_main_activity</th>\n",
              "      <th>company_recommended</th>\n",
              "      <th>company_diversity_policies</th>\n",
              "      <th>company_extra_benefits</th>\n",
              "      <th>company_best_companies_city</th>\n",
              "    </tr>\n",
              "  </thead>\n",
              "  <tbody>\n",
              "    <tr>\n",
              "      <th>0</th>\n",
              "      <td>Mujer</td>\n",
              "      <td>26</td>\n",
              "      <td>Argentina</td>\n",
              "      <td>Ciudad Autónoma de Buenos Aires</td>\n",
              "      <td>3.0</td>\n",
              "      <td>3.0</td>\n",
              "      <td>3.0</td>\n",
              "      <td>0</td>\n",
              "      <td>Universitario</td>\n",
              "      <td>En curso</td>\n",
              "      <td>Ingeniería en Sistemas de Información</td>\n",
              "      <td>UTN - Universidad Tecnológica Nacional</td>\n",
              "      <td>Sí, los pagó un empleador</td>\n",
              "      <td>No</td>\n",
              "      <td>Sí</td>\n",
              "      <td>Consultant</td>\n",
              "      <td>Ninguna</td>\n",
              "      <td>Ninguno</td>\n",
              "      <td>Ninguno</td>\n",
              "      <td>Ninguna</td>\n",
              "      <td>Ninguna</td>\n",
              "      <td>Ninguno</td>\n",
              "      <td>GNU/Linux</td>\n",
              "      <td>Android</td>\n",
              "      <td>No</td>\n",
              "      <td>0.0</td>\n",
              "      <td>Bruto</td>\n",
              "      <td>Full-Time</td>\n",
              "      <td>53000.0</td>\n",
              "      <td>43000.0</td>\n",
              "      <td>NaN</td>\n",
              "      <td>1</td>\n",
              "      <td>1</td>\n",
              "      <td>No</td>\n",
              "      <td>No recibo bono</td>\n",
              "      <td>No</td>\n",
              "      <td>0.0</td>\n",
              "      <td>0</td>\n",
              "      <td>En mi trabajo actual</td>\n",
              "      <td>Homosexual</td>\n",
              "      <td>NaN</td>\n",
              "      <td>NaN</td>\n",
              "      <td>501-1000</td>\n",
              "      <td>Servicios / Consultoría de Software / Digital</td>\n",
              "      <td>7</td>\n",
              "      <td>2</td>\n",
              "      <td>Capacitaciones y/o cursos, Comidas pagas / subvencionadas, Cuota para universidad / posgrados, D...</td>\n",
              "      <td>NaN</td>\n",
              "    </tr>\n",
              "    <tr>\n",
              "      <th>1</th>\n",
              "      <td>Hombre</td>\n",
              "      <td>29</td>\n",
              "      <td>Argentina</td>\n",
              "      <td>Corrientes</td>\n",
              "      <td>5.0</td>\n",
              "      <td>2.0</td>\n",
              "      <td>2.0</td>\n",
              "      <td>4</td>\n",
              "      <td>Universitario</td>\n",
              "      <td>En curso</td>\n",
              "      <td>Ingeniería en Sistemas de Información</td>\n",
              "      <td>UTN - Universidad Tecnológica Nacional</td>\n",
              "      <td>Sí, de forma particular, Sí, los pagó un empleador</td>\n",
              "      <td>No</td>\n",
              "      <td>Sí</td>\n",
              "      <td>Developer</td>\n",
              "      <td>Docker, Google Cloud Platform/App Engine</td>\n",
              "      <td>HTML, Javascript, Python</td>\n",
              "      <td>Django, jQuery</td>\n",
              "      <td>Informix, MySQL, PostgreSQL</td>\n",
              "      <td>Ninguna</td>\n",
              "      <td>IPython / Jupyter, Sublime Text, Visual Studio Code</td>\n",
              "      <td>GNU/Linux</td>\n",
              "      <td>Android</td>\n",
              "      <td>No</td>\n",
              "      <td>0.0</td>\n",
              "      <td>Bruto</td>\n",
              "      <td>Full-Time</td>\n",
              "      <td>79000.0</td>\n",
              "      <td>63000.0</td>\n",
              "      <td>NaN</td>\n",
              "      <td>2</td>\n",
              "      <td>2</td>\n",
              "      <td>Menos de un sueldo</td>\n",
              "      <td>Performance de la compañía</td>\n",
              "      <td>Uno</td>\n",
              "      <td>10.0</td>\n",
              "      <td>1</td>\n",
              "      <td>Jamás</td>\n",
              "      <td>Heterosexual</td>\n",
              "      <td>Visual</td>\n",
              "      <td>No</td>\n",
              "      <td>201-500</td>\n",
              "      <td>Otras industrias</td>\n",
              "      <td>8</td>\n",
              "      <td>9</td>\n",
              "      <td>Horarios flexibles, Stock options / RSUs, Viáticos</td>\n",
              "      <td>NaN</td>\n",
              "    </tr>\n",
              "    <tr>\n",
              "      <th>2</th>\n",
              "      <td>Mujer</td>\n",
              "      <td>22</td>\n",
              "      <td>Argentina</td>\n",
              "      <td>Ciudad Autónoma de Buenos Aires</td>\n",
              "      <td>2.0</td>\n",
              "      <td>0.0</td>\n",
              "      <td>0.0</td>\n",
              "      <td>0</td>\n",
              "      <td>Secundario</td>\n",
              "      <td>Completado</td>\n",
              "      <td>NaN</td>\n",
              "      <td>NaN</td>\n",
              "      <td>Sí, de forma particular, Sí, los pagó un empleador</td>\n",
              "      <td>No</td>\n",
              "      <td>Sí</td>\n",
              "      <td>Infosec</td>\n",
              "      <td>Linux, VMWare</td>\n",
              "      <td>Ninguno</td>\n",
              "      <td>Ninguno</td>\n",
              "      <td>Ninguna</td>\n",
              "      <td>Ninguna</td>\n",
              "      <td>Ninguno</td>\n",
              "      <td>Windows</td>\n",
              "      <td>iOS</td>\n",
              "      <td>No</td>\n",
              "      <td>0.0</td>\n",
              "      <td>Porcentaje de mi sueldo</td>\n",
              "      <td>Full-Time</td>\n",
              "      <td>160000.0</td>\n",
              "      <td>127000.0</td>\n",
              "      <td>NaN</td>\n",
              "      <td>3</td>\n",
              "      <td>3</td>\n",
              "      <td>Un sueldo</td>\n",
              "      <td>Performance individual</td>\n",
              "      <td>No</td>\n",
              "      <td>0.0</td>\n",
              "      <td>0</td>\n",
              "      <td>En un trabajo anterior</td>\n",
              "      <td>Bisexual o queer</td>\n",
              "      <td>NaN</td>\n",
              "      <td>No</td>\n",
              "      <td>2001-5000</td>\n",
              "      <td>Otras industrias</td>\n",
              "      <td>6</td>\n",
              "      <td>9</td>\n",
              "      <td>Clases de gimnasia online, Comidas pagas / subvencionadas, Descuentos varios (Mercado Pago, Clar...</td>\n",
              "      <td>NaN</td>\n",
              "    </tr>\n",
              "    <tr>\n",
              "      <th>3</th>\n",
              "      <td>Hombre</td>\n",
              "      <td>39</td>\n",
              "      <td>Argentina</td>\n",
              "      <td>Corrientes</td>\n",
              "      <td>15.0</td>\n",
              "      <td>15.0</td>\n",
              "      <td>13.0</td>\n",
              "      <td>5</td>\n",
              "      <td>Posgrado</td>\n",
              "      <td>Incompleto</td>\n",
              "      <td>Licenciatura en Sistemas</td>\n",
              "      <td>UNNE Universidad Nacional del Nordeste</td>\n",
              "      <td>Sí, de forma particular, Sí, los pagó un empleador</td>\n",
              "      <td>Sí</td>\n",
              "      <td>Sí</td>\n",
              "      <td>SysAdmin / DevOps / SRE</td>\n",
              "      <td>Docker, Linux, OpenStack, VMWare, Windows Server</td>\n",
              "      <td>Bash/Shell, C, CSS, HTML, Java, Javascript, PHP, Python, SQL</td>\n",
              "      <td>jQuery, WordPress</td>\n",
              "      <td>Microsoft SQL Server, MySQL</td>\n",
              "      <td>PHPUnit</td>\n",
              "      <td>Eclipse, Visual Studio Code</td>\n",
              "      <td>GNU/Linux</td>\n",
              "      <td>Android</td>\n",
              "      <td>Sí, pasiva</td>\n",
              "      <td>0.0</td>\n",
              "      <td>Bruto</td>\n",
              "      <td>Full-Time</td>\n",
              "      <td>130000.0</td>\n",
              "      <td>102000.0</td>\n",
              "      <td>NaN</td>\n",
              "      <td>3</td>\n",
              "      <td>1</td>\n",
              "      <td>No</td>\n",
              "      <td>No recibo bono</td>\n",
              "      <td>No</td>\n",
              "      <td>0.0</td>\n",
              "      <td>0</td>\n",
              "      <td>En mi trabajo actual</td>\n",
              "      <td>Heterosexual</td>\n",
              "      <td>NaN</td>\n",
              "      <td>NaN</td>\n",
              "      <td>501-1000</td>\n",
              "      <td>Otras industrias</td>\n",
              "      <td>7</td>\n",
              "      <td>6</td>\n",
              "      <td>Abono de celular, Capacitaciones y/o cursos, Comidas pagas / subvencionadas, Cuota para universi...</td>\n",
              "      <td>NaN</td>\n",
              "    </tr>\n",
              "    <tr>\n",
              "      <th>4</th>\n",
              "      <td>Hombre</td>\n",
              "      <td>32</td>\n",
              "      <td>Argentina</td>\n",
              "      <td>Ciudad Autónoma de Buenos Aires</td>\n",
              "      <td>9.0</td>\n",
              "      <td>6.0</td>\n",
              "      <td>6.0</td>\n",
              "      <td>0</td>\n",
              "      <td>Universitario</td>\n",
              "      <td>En curso</td>\n",
              "      <td>Licenciatura en Ciencias dela Computación</td>\n",
              "      <td>UBA - Universidad de Buenos Aires</td>\n",
              "      <td>No</td>\n",
              "      <td>No</td>\n",
              "      <td>Sí</td>\n",
              "      <td>Developer</td>\n",
              "      <td>Amazon Web Services</td>\n",
              "      <td>CSS, HTML, Javascript, SQL, TypeScript</td>\n",
              "      <td>Angular, Node.js</td>\n",
              "      <td>Amazon DynamoDB, MongoDB, MySQL</td>\n",
              "      <td>Jest</td>\n",
              "      <td>Vim</td>\n",
              "      <td>macOS</td>\n",
              "      <td>Android</td>\n",
              "      <td>No</td>\n",
              "      <td>0.0</td>\n",
              "      <td>Porcentaje de mi sueldo</td>\n",
              "      <td>Full-Time</td>\n",
              "      <td>140000.0</td>\n",
              "      <td>106000.0</td>\n",
              "      <td>NaN</td>\n",
              "      <td>1</td>\n",
              "      <td>1</td>\n",
              "      <td>Menos de un sueldo</td>\n",
              "      <td>Performance individual</td>\n",
              "      <td>No</td>\n",
              "      <td>0.0</td>\n",
              "      <td>0</td>\n",
              "      <td>Jamás</td>\n",
              "      <td>Heterosexual</td>\n",
              "      <td>NaN</td>\n",
              "      <td>NaN</td>\n",
              "      <td>11-50</td>\n",
              "      <td>Servicios / Consultoría de Software / Digital</td>\n",
              "      <td>6</td>\n",
              "      <td>6</td>\n",
              "      <td>Clases de idiomas, Horarios flexibles, Vacaciones flexibles (adicionales a las reglamentarias)</td>\n",
              "      <td>NaN</td>\n",
              "    </tr>\n",
              "  </tbody>\n",
              "</table>\n",
              "</div>"
            ],
            "text/plain": [
              "  profile_gender  profile_age work_country                    work_province  \\\n",
              "0          Mujer           26    Argentina  Ciudad Autónoma de Buenos Aires   \n",
              "1         Hombre           29    Argentina                       Corrientes   \n",
              "2          Mujer           22    Argentina  Ciudad Autónoma de Buenos Aires   \n",
              "3         Hombre           39    Argentina                       Corrientes   \n",
              "4         Hombre           32    Argentina  Ciudad Autónoma de Buenos Aires   \n",
              "\n",
              "   profile_years_experience  work_years_in_company  work_years_in_current_position  \\\n",
              "0                       3.0                    3.0                             3.0   \n",
              "1                       5.0                    2.0                             2.0   \n",
              "2                       2.0                    0.0                             0.0   \n",
              "3                      15.0                   15.0                            13.0   \n",
              "4                       9.0                    6.0                             6.0   \n",
              "\n",
              "   work_people_in_charge_of profile_studies_level profile_studies_level_state  \\\n",
              "0                         0         Universitario                    En curso   \n",
              "1                         4         Universitario                    En curso   \n",
              "2                         0            Secundario                  Completado   \n",
              "3                         5              Posgrado                  Incompleto   \n",
              "4                         0         Universitario                    En curso   \n",
              "\n",
              "                              profile_career                      profile_university  \\\n",
              "0      Ingeniería en Sistemas de Información  UTN - Universidad Tecnológica Nacional   \n",
              "1      Ingeniería en Sistemas de Información  UTN - Universidad Tecnológica Nacional   \n",
              "2                                        NaN                                     NaN   \n",
              "3                   Licenciatura en Sistemas  UNNE Universidad Nacional del Nordeste   \n",
              "4  Licenciatura en Ciencias dela Computación       UBA - Universidad de Buenos Aires   \n",
              "\n",
              "                       profile_specialization_courses profile_open_source_contributions  \\\n",
              "0                           Sí, los pagó un empleador                                No   \n",
              "1  Sí, de forma particular, Sí, los pagó un empleador                                No   \n",
              "2  Sí, de forma particular, Sí, los pagó un empleador                                No   \n",
              "3  Sí, de forma particular, Sí, los pagó un empleador                                Sí   \n",
              "4                                                  No                                No   \n",
              "\n",
              "  profile_programming_as_hobby                work_role  \\\n",
              "0                           Sí               Consultant   \n",
              "1                           Sí                Developer   \n",
              "2                           Sí                  Infosec   \n",
              "3                           Sí  SysAdmin / DevOps / SRE   \n",
              "4                           Sí                Developer   \n",
              "\n",
              "                                     tools_platform  \\\n",
              "0                                           Ninguna   \n",
              "1          Docker, Google Cloud Platform/App Engine   \n",
              "2                                     Linux, VMWare   \n",
              "3  Docker, Linux, OpenStack, VMWare, Windows Server   \n",
              "4                               Amazon Web Services   \n",
              "\n",
              "                                    tools_programming_languages   tools_frameworks  \\\n",
              "0                                                       Ninguno            Ninguno   \n",
              "1                                      HTML, Javascript, Python     Django, jQuery   \n",
              "2                                                       Ninguno            Ninguno   \n",
              "3  Bash/Shell, C, CSS, HTML, Java, Javascript, PHP, Python, SQL  jQuery, WordPress   \n",
              "4                        CSS, HTML, Javascript, SQL, TypeScript   Angular, Node.js   \n",
              "\n",
              "                  tools_data_bases tools_qa_testing  \\\n",
              "0                          Ninguna          Ninguna   \n",
              "1      Informix, MySQL, PostgreSQL          Ninguna   \n",
              "2                          Ninguna          Ninguna   \n",
              "3      Microsoft SQL Server, MySQL          PHPUnit   \n",
              "4  Amazon DynamoDB, MongoDB, MySQL             Jest   \n",
              "\n",
              "                                            tools_IDEs tools_work_pc_os tools_cellphone_os  \\\n",
              "0                                              Ninguno        GNU/Linux            Android   \n",
              "1  IPython / Jupyter, Sublime Text, Visual Studio Code        GNU/Linux            Android   \n",
              "2                                              Ninguno          Windows                iOS   \n",
              "3                          Eclipse, Visual Studio Code        GNU/Linux            Android   \n",
              "4                                                  Vim            macOS            Android   \n",
              "\n",
              "  work_on_call_duty  salary_on_call_duty_charge work_on_call_duty_charge_type work_contract_type  \\\n",
              "0                No                         0.0                         Bruto          Full-Time   \n",
              "1                No                         0.0                         Bruto          Full-Time   \n",
              "2                No                         0.0       Porcentaje de mi sueldo          Full-Time   \n",
              "3        Sí, pasiva                         0.0                         Bruto          Full-Time   \n",
              "4                No                         0.0       Porcentaje de mi sueldo          Full-Time   \n",
              "\n",
              "   salary_monthly_BRUTO  salary_monthly_NETO salary_in_usd  salary_satisfaction  \\\n",
              "0               53000.0              43000.0           NaN                    1   \n",
              "1               79000.0              63000.0           NaN                    2   \n",
              "2              160000.0             127000.0           NaN                    3   \n",
              "3              130000.0             102000.0           NaN                    3   \n",
              "4              140000.0             106000.0           NaN                    1   \n",
              "\n",
              "   salary_comparison_last_semester    salary_has_bonus        salary_bonus_tied_to  \\\n",
              "0                                1                  No              No recibo bono   \n",
              "1                                2  Menos de un sueldo  Performance de la compañía   \n",
              "2                                3           Un sueldo      Performance individual   \n",
              "3                                1                  No              No recibo bono   \n",
              "4                                1  Menos de un sueldo      Performance individual   \n",
              "\n",
              "  salary_inflation_adjustment_2020  salary_percentage_inflation_adjustment_2020  \\\n",
              "0                               No                                          0.0   \n",
              "1                              Uno                                         10.0   \n",
              "2                               No                                          0.0   \n",
              "3                               No                                          0.0   \n",
              "4                               No                                          0.0   \n",
              "\n",
              "   salary_month_last_inflation_adjustment work_has_violence_situations profile_sexual_orientation  \\\n",
              "0                                       0         En mi trabajo actual                 Homosexual   \n",
              "1                                       1                        Jamás               Heterosexual   \n",
              "2                                       0       En un trabajo anterior           Bisexual o queer   \n",
              "3                                       0         En mi trabajo actual               Heterosexual   \n",
              "4                                       0                        Jamás               Heterosexual   \n",
              "\n",
              "  profile_has_disabilities profile_has_disabilities_hiring_difficulties company_employee_number  \\\n",
              "0                      NaN                                          NaN                501-1000   \n",
              "1                   Visual                                           No                 201-500   \n",
              "2                      NaN                                           No               2001-5000   \n",
              "3                      NaN                                          NaN                501-1000   \n",
              "4                      NaN                                          NaN                   11-50   \n",
              "\n",
              "                           company_main_activity  company_recommended  company_diversity_policies  \\\n",
              "0  Servicios / Consultoría de Software / Digital                    7                           2   \n",
              "1                               Otras industrias                    8                           9   \n",
              "2                               Otras industrias                    6                           9   \n",
              "3                               Otras industrias                    7                           6   \n",
              "4  Servicios / Consultoría de Software / Digital                    6                           6   \n",
              "\n",
              "                                                                                company_extra_benefits  \\\n",
              "0  Capacitaciones y/o cursos, Comidas pagas / subvencionadas, Cuota para universidad / posgrados, D...   \n",
              "1                                                   Horarios flexibles, Stock options / RSUs, Viáticos   \n",
              "2  Clases de gimnasia online, Comidas pagas / subvencionadas, Descuentos varios (Mercado Pago, Clar...   \n",
              "3  Abono de celular, Capacitaciones y/o cursos, Comidas pagas / subvencionadas, Cuota para universi...   \n",
              "4       Clases de idiomas, Horarios flexibles, Vacaciones flexibles (adicionales a las reglamentarias)   \n",
              "\n",
              "  company_best_companies_city  \n",
              "0                         NaN  \n",
              "1                         NaN  \n",
              "2                         NaN  \n",
              "3                         NaN  \n",
              "4                         NaN  "
            ]
          },
          "execution_count": 2,
          "metadata": {},
          "output_type": "execute_result"
        }
      ],
      "source": [
        "url = \"https://cs.famaf.unc.edu.ar/~mteruel/datasets/diplodatos/sysarmy_survey_2020_processed.csv\"\n",
        "\n",
        "pd.set_option(\"display.max_rows\", 10)\n",
        "pd.set_option(\"display.max_columns\", 1000)\n",
        "pd.set_option(\"display.width\", 100)\n",
        "pd.set_option(\"display.max_colwidth\", 100)\n",
        "df = pd.read_csv(url)\n",
        "df.head()\n"
      ]
    },
    {
      "cell_type": "markdown",
      "metadata": {
        "id": "nqQfFyacntR2"
      },
      "source": [
        "Obtenemos información de las columnas con `groupby` de las columnas `profile_gender` y `salary_monthly_NETO`"
      ]
    },
    {
      "cell_type": "code",
      "execution_count": 3,
      "metadata": {
        "colab": {
          "base_uri": "https://localhost:8080/",
          "height": 206
        },
        "id": "sSbgoaP9imRb",
        "outputId": "87da29b7-1d60-43d4-9a73-f763cf886ed2"
      },
      "outputs": [
        {
          "data": {
            "text/html": [
              "<div>\n",
              "<style scoped>\n",
              "    .dataframe tbody tr th:only-of-type {\n",
              "        vertical-align: middle;\n",
              "    }\n",
              "\n",
              "    .dataframe tbody tr th {\n",
              "        vertical-align: top;\n",
              "    }\n",
              "\n",
              "    .dataframe thead tr th {\n",
              "        text-align: left;\n",
              "    }\n",
              "\n",
              "    .dataframe thead tr:last-of-type th {\n",
              "        text-align: right;\n",
              "    }\n",
              "</style>\n",
              "<table border=\"1\" class=\"dataframe\">\n",
              "  <thead>\n",
              "    <tr>\n",
              "      <th></th>\n",
              "      <th colspan=\"8\" halign=\"left\">salary_monthly_NETO</th>\n",
              "    </tr>\n",
              "    <tr>\n",
              "      <th></th>\n",
              "      <th>count</th>\n",
              "      <th>mean</th>\n",
              "      <th>std</th>\n",
              "      <th>min</th>\n",
              "      <th>25%</th>\n",
              "      <th>50%</th>\n",
              "      <th>75%</th>\n",
              "      <th>max</th>\n",
              "    </tr>\n",
              "    <tr>\n",
              "      <th>profile_gender</th>\n",
              "      <th></th>\n",
              "      <th></th>\n",
              "      <th></th>\n",
              "      <th></th>\n",
              "      <th></th>\n",
              "      <th></th>\n",
              "      <th></th>\n",
              "      <th></th>\n",
              "    </tr>\n",
              "  </thead>\n",
              "  <tbody>\n",
              "    <tr>\n",
              "      <th>Hombre</th>\n",
              "      <td>4944.0</td>\n",
              "      <td>98836.063558</td>\n",
              "      <td>102159.664237</td>\n",
              "      <td>1.0</td>\n",
              "      <td>53285.0</td>\n",
              "      <td>80000.0</td>\n",
              "      <td>110000.0</td>\n",
              "      <td>2080000.0</td>\n",
              "    </tr>\n",
              "    <tr>\n",
              "      <th>Mujer</th>\n",
              "      <td>908.0</td>\n",
              "      <td>73501.414465</td>\n",
              "      <td>56256.880181</td>\n",
              "      <td>2.0</td>\n",
              "      <td>43818.0</td>\n",
              "      <td>65000.0</td>\n",
              "      <td>92000.0</td>\n",
              "      <td>800000.0</td>\n",
              "    </tr>\n",
              "    <tr>\n",
              "      <th>Otros</th>\n",
              "      <td>31.0</td>\n",
              "      <td>95441.354839</td>\n",
              "      <td>88635.674358</td>\n",
              "      <td>40.0</td>\n",
              "      <td>39500.0</td>\n",
              "      <td>74000.0</td>\n",
              "      <td>117500.0</td>\n",
              "      <td>380000.0</td>\n",
              "    </tr>\n",
              "  </tbody>\n",
              "</table>\n",
              "</div>"
            ],
            "text/plain": [
              "               salary_monthly_NETO                                                                 \\\n",
              "                             count          mean            std   min      25%      50%       75%   \n",
              "profile_gender                                                                                      \n",
              "Hombre                      4944.0  98836.063558  102159.664237   1.0  53285.0  80000.0  110000.0   \n",
              "Mujer                        908.0  73501.414465   56256.880181   2.0  43818.0  65000.0   92000.0   \n",
              "Otros                         31.0  95441.354839   88635.674358  40.0  39500.0  74000.0  117500.0   \n",
              "\n",
              "                           \n",
              "                      max  \n",
              "profile_gender             \n",
              "Hombre          2080000.0  \n",
              "Mujer            800000.0  \n",
              "Otros            380000.0  "
            ]
          },
          "execution_count": 3,
          "metadata": {},
          "output_type": "execute_result"
        }
      ],
      "source": [
        "df[[\"profile_gender\", \"salary_monthly_NETO\"]].groupby(\"profile_gender\").describe()\n"
      ]
    },
    {
      "cell_type": "markdown",
      "metadata": {
        "id": "LGKWSLd5KPur"
      },
      "source": [
        "Obtenemos información de las columnas con `groupby` de las columnas `profile_gender` y `salary_monthly_NETO` con `salary_monthly_NETO` mayor a 1000."
      ]
    },
    {
      "cell_type": "code",
      "execution_count": 4,
      "metadata": {
        "colab": {
          "base_uri": "https://localhost:8080/",
          "height": 206
        },
        "id": "Abr5jdoIimUI",
        "outputId": "47927aa6-3c91-4000-8a85-9a3d56571d18"
      },
      "outputs": [
        {
          "data": {
            "text/html": [
              "<div>\n",
              "<style scoped>\n",
              "    .dataframe tbody tr th:only-of-type {\n",
              "        vertical-align: middle;\n",
              "    }\n",
              "\n",
              "    .dataframe tbody tr th {\n",
              "        vertical-align: top;\n",
              "    }\n",
              "\n",
              "    .dataframe thead tr th {\n",
              "        text-align: left;\n",
              "    }\n",
              "\n",
              "    .dataframe thead tr:last-of-type th {\n",
              "        text-align: right;\n",
              "    }\n",
              "</style>\n",
              "<table border=\"1\" class=\"dataframe\">\n",
              "  <thead>\n",
              "    <tr>\n",
              "      <th></th>\n",
              "      <th colspan=\"8\" halign=\"left\">salary_monthly_NETO</th>\n",
              "    </tr>\n",
              "    <tr>\n",
              "      <th></th>\n",
              "      <th>count</th>\n",
              "      <th>mean</th>\n",
              "      <th>std</th>\n",
              "      <th>min</th>\n",
              "      <th>25%</th>\n",
              "      <th>50%</th>\n",
              "      <th>75%</th>\n",
              "      <th>max</th>\n",
              "    </tr>\n",
              "    <tr>\n",
              "      <th>profile_gender</th>\n",
              "      <th></th>\n",
              "      <th></th>\n",
              "      <th></th>\n",
              "      <th></th>\n",
              "      <th></th>\n",
              "      <th></th>\n",
              "      <th></th>\n",
              "      <th></th>\n",
              "    </tr>\n",
              "  </thead>\n",
              "  <tbody>\n",
              "    <tr>\n",
              "      <th>Hombre</th>\n",
              "      <td>4815.0</td>\n",
              "      <td>101481.624343</td>\n",
              "      <td>102215.304684</td>\n",
              "      <td>1100.0</td>\n",
              "      <td>55000.0</td>\n",
              "      <td>80000.0</td>\n",
              "      <td>110000.0</td>\n",
              "      <td>2080000.0</td>\n",
              "    </tr>\n",
              "    <tr>\n",
              "      <th>Mujer</th>\n",
              "      <td>863.0</td>\n",
              "      <td>77328.913778</td>\n",
              "      <td>55082.760570</td>\n",
              "      <td>2000.0</td>\n",
              "      <td>47850.0</td>\n",
              "      <td>67200.0</td>\n",
              "      <td>93000.0</td>\n",
              "      <td>800000.0</td>\n",
              "    </tr>\n",
              "    <tr>\n",
              "      <th>Otros</th>\n",
              "      <td>28.0</td>\n",
              "      <td>105660.714286</td>\n",
              "      <td>87235.710235</td>\n",
              "      <td>34000.0</td>\n",
              "      <td>43750.0</td>\n",
              "      <td>78900.0</td>\n",
              "      <td>122750.0</td>\n",
              "      <td>380000.0</td>\n",
              "    </tr>\n",
              "  </tbody>\n",
              "</table>\n",
              "</div>"
            ],
            "text/plain": [
              "               salary_monthly_NETO                                                           \\\n",
              "                             count           mean            std      min      25%      50%   \n",
              "profile_gender                                                                                \n",
              "Hombre                      4815.0  101481.624343  102215.304684   1100.0  55000.0  80000.0   \n",
              "Mujer                        863.0   77328.913778   55082.760570   2000.0  47850.0  67200.0   \n",
              "Otros                         28.0  105660.714286   87235.710235  34000.0  43750.0  78900.0   \n",
              "\n",
              "                                     \n",
              "                     75%        max  \n",
              "profile_gender                       \n",
              "Hombre          110000.0  2080000.0  \n",
              "Mujer            93000.0   800000.0  \n",
              "Otros           122750.0   380000.0  "
            ]
          },
          "execution_count": 4,
          "metadata": {},
          "output_type": "execute_result"
        }
      ],
      "source": [
        "df[df.salary_monthly_NETO > 1000][[\"profile_gender\", \"salary_monthly_NETO\"]].groupby(\n",
        "    \"profile_gender\"\n",
        ").describe()\n"
      ]
    },
    {
      "cell_type": "markdown",
      "metadata": {
        "id": "UJJtVBHIKkLq"
      },
      "source": [
        "Calculamos **groupA** y **groupB** el `salary_monthly_NETO` mayor a 1000 donde:\n",
        "- El **groupA** contiene el género Hombre \n",
        "- El **groupB** que contiene los otros géneros"
      ]
    },
    {
      "cell_type": "code",
      "execution_count": 5,
      "metadata": {
        "id": "6Cm6A3wLimZB"
      },
      "outputs": [],
      "source": [
        "is_man = df.profile_gender == \"Hombre\"\n",
        "\n",
        "groupA = df[(df.salary_monthly_NETO > 1000) & is_man].salary_monthly_NETO\n",
        "groupB = df[(df.salary_monthly_NETO > 1000) & ~is_man].salary_monthly_NETO\n"
      ]
    },
    {
      "cell_type": "markdown",
      "metadata": {
        "id": "TDNa1Cm-6BWx"
      },
      "source": [
        "---\n",
        "\n",
        "# Ejercicio 1: Estimación\n",
        "\n",
        "**Consigna:**  \n",
        "\n",
        "Calcular una estimación puntual y un intervalo de confianza de nivel $(1-alpha)$ para la resta entre la Media del Salario Neto para Hombres menos la Media del Salario Neto para Otros géneros(diferencia de las medias entre el grupoA y grupoB).   \n",
        "\n",
        "\n",
        "**¿Cómo se relaciona este intervalo de confianza con el test de hipótesis?**"
      ]
    },
    {
      "cell_type": "markdown",
      "metadata": {
        "id": "UVvl4Ot96bRA"
      },
      "source": [
        "**Respuesta:**"
      ]
    },
    {
      "cell_type": "markdown",
      "metadata": {
        "id": "ORdrpN-z8DEz"
      },
      "source": [
        "Cálculo de la estimación puntual de diferencia de medias, a partir de muestras aleatorias independientes entre sí. \n",
        "\n",
        "El tamaño para cada grupo será exactamente el mismo y lo suficientemente grande como para poder aplicar el teorema central del límite.\n"
      ]
    },
    {
      "cell_type": "markdown",
      "metadata": {
        "id": "7hORjDcSLpxp"
      },
      "source": [
        "**Tamaño de las muestras aleatorias**"
      ]
    },
    {
      "cell_type": "code",
      "execution_count": 6,
      "metadata": {
        "id": "i2zf6VsE9REk"
      },
      "outputs": [],
      "source": [
        "sample_size = 800\n"
      ]
    },
    {
      "cell_type": "markdown",
      "metadata": {
        "id": "H9H7sgQNLuG3"
      },
      "source": [
        "**Muestra aleatoria** del grupo de **Hombres**"
      ]
    },
    {
      "cell_type": "code",
      "execution_count": 7,
      "metadata": {
        "id": "pH_pose1imbc"
      },
      "outputs": [],
      "source": [
        "men_df = df[(df.salary_monthly_NETO > 1000) & is_man]\n",
        "men_ma = men_df[\"salary_monthly_NETO\"].sample(n=sample_size)\n"
      ]
    },
    {
      "cell_type": "markdown",
      "metadata": {
        "id": "1OtYw3g9L0qu"
      },
      "source": [
        "**Muestra aleatoria** del grupo de **Otros géneros**"
      ]
    },
    {
      "cell_type": "code",
      "execution_count": 8,
      "metadata": {
        "id": "L6-ZRsjH92by"
      },
      "outputs": [],
      "source": [
        "others_df = df[(df.salary_monthly_NETO > 1000) & ~is_man]\n",
        "others_ma = others_df[\"salary_monthly_NETO\"].sample(n=sample_size)\n"
      ]
    },
    {
      "cell_type": "markdown",
      "metadata": {
        "id": "iQdqcXE6M11x"
      },
      "source": [
        "**Medias muestrales** de cada grupo"
      ]
    },
    {
      "cell_type": "code",
      "execution_count": 9,
      "metadata": {
        "colab": {
          "base_uri": "https://localhost:8080/"
        },
        "id": "7hDq0Z4Mimd8",
        "outputId": "9079a063-1946-4d29-ca11-4c873dcf118e"
      },
      "outputs": [
        {
          "name": "stdout",
          "output_type": "stream",
          "text": [
            "⦁ Se estima que el salario neto medio del grupo A es: 97041.42\n",
            "⦁ Se estima que el salario neto medio del grupo B es: 78786.22\n"
          ]
        }
      ],
      "source": [
        "salary_mean_A = men_ma.mean()\n",
        "salary_mean_B = others_ma.mean()\n",
        "print(\"⦁ Se estima que el salario neto medio del grupo A es:\", round(salary_mean_A, 2))\n",
        "print(\"⦁ Se estima que el salario neto medio del grupo B es:\", round(salary_mean_B, 2))\n"
      ]
    },
    {
      "cell_type": "markdown",
      "metadata": {
        "id": "L2py_aAIM9N8"
      },
      "source": [
        "**Estimación puntual** de la diferencia de las medias muestrales de ambos grupos"
      ]
    },
    {
      "cell_type": "code",
      "execution_count": 10,
      "metadata": {
        "colab": {
          "base_uri": "https://localhost:8080/"
        },
        "id": "GSOImsQvimgb",
        "outputId": "1d3db3b5-217b-41b3-af5d-4f5b767338a2"
      },
      "outputs": [
        {
          "name": "stdout",
          "output_type": "stream",
          "text": [
            "La estimación puntual de la diferencia de las medias muestrales de ambos grupos es: 18255.2\n"
          ]
        }
      ],
      "source": [
        "sample_means_diff = salary_mean_A - salary_mean_B\n",
        "print(\n",
        "    \"La estimación puntual de la diferencia de las medias muestrales de ambos grupos es:\",\n",
        "    round(sample_means_diff, 2),\n",
        ")\n"
      ]
    },
    {
      "cell_type": "markdown",
      "metadata": {
        "id": "zhqYsXA_DGvN"
      },
      "source": [
        "### Cálculo del intervalo de confianza. \n",
        "\n",
        "Independientemente de si las distribuciones son normales o no, el Teorema Central del Límite (TCL) nos permitirá emplear el estadístico $z$ para dicho cálculo. "
      ]
    },
    {
      "cell_type": "markdown",
      "metadata": {
        "id": "n033MizIJTUE"
      },
      "source": [
        "Fórmula que emplearemos para el cálculo del intervalo de confianza:\n",
        "\n",
        "$$\\bar{x}-\\bar{y} \\pm {z_{\\frac{\\alpha}{2}}} \\sqrt{\\frac{s^2_{1}}{m}+\\frac{s^2_{2}}{n}}$$"
      ]
    },
    {
      "cell_type": "markdown",
      "metadata": {
        "id": "nUzdUZo-POxc"
      },
      "source": [
        "**Nivel de confianza**"
      ]
    },
    {
      "cell_type": "code",
      "execution_count": 11,
      "metadata": {
        "colab": {
          "base_uri": "https://localhost:8080/"
        },
        "id": "w3gi_wx4EHB-",
        "outputId": "4537a8dd-92d5-452b-dbdd-7d29640c2b42"
      },
      "outputs": [
        {
          "name": "stdout",
          "output_type": "stream",
          "text": [
            "Establecemos un nivel de confianza igual al 95%\n"
          ]
        }
      ],
      "source": [
        "alpha = 0.05\n",
        "confidence_level = 1 - alpha\n",
        "print(f\"Establecemos un nivel de confianza igual al {int(confidence_level * 100)}%\")\n"
      ]
    },
    {
      "cell_type": "markdown",
      "metadata": {
        "id": "SeKTEwLRPRh5"
      },
      "source": [
        "Cálculo de las **varianzas muestrales** de ambos grupos"
      ]
    },
    {
      "cell_type": "code",
      "execution_count": 12,
      "metadata": {
        "colab": {
          "base_uri": "https://localhost:8080/"
        },
        "id": "MR_L9kjzA3Gk",
        "outputId": "5ee03342-09a7-4080-d92e-b1237f9d06c7"
      },
      "outputs": [
        {
          "name": "stdout",
          "output_type": "stream",
          "text": [
            "⦁ La varianza muestral del grupo A es: 7408633110.01\n",
            "⦁ La varianza muestral del grupo B es: 3310291657.1\n"
          ]
        }
      ],
      "source": [
        "salary_var_A = men_ma.var()\n",
        "salary_var_B = others_ma.var()\n",
        "print(\"⦁ La varianza muestral del grupo A es:\", round(salary_var_A, 2))\n",
        "print(\"⦁ La varianza muestral del grupo B es:\", round(salary_var_B, 2))\n"
      ]
    },
    {
      "cell_type": "markdown",
      "metadata": {
        "id": "PoAKtyy6PX_L"
      },
      "source": [
        "Cálculo del **estadístico $z$**, empleando las varianzas muestrales en lugar de las poblacionales, de acuerdo al **TCL**.\n"
      ]
    },
    {
      "cell_type": "code",
      "execution_count": 13,
      "metadata": {
        "colab": {
          "base_uri": "https://localhost:8080/"
        },
        "id": "wZF9l4ERBqWu",
        "outputId": "1a9192d3-1334-4c7c-9640-c5bae9bcb14e"
      },
      "outputs": [
        {
          "name": "stdout",
          "output_type": "stream",
          "text": [
            "El estadístico z calculado bajo un nivel de signifancia igual a 0.05 es: 1.96\n"
          ]
        }
      ],
      "source": [
        "z = scipy.stats.norm.ppf(1 - alpha / 2)\n",
        "print(\n",
        "    \"El estadístico z calculado bajo un nivel de signifancia igual a 0.05 es:\",\n",
        "    round(z, 3),\n",
        ")\n"
      ]
    },
    {
      "cell_type": "markdown",
      "metadata": {
        "id": "kJpAgwxZPm0Y"
      },
      "source": [
        "**Raíz cuadrada** de la fórmula"
      ]
    },
    {
      "cell_type": "code",
      "execution_count": 14,
      "metadata": {
        "colab": {
          "base_uri": "https://localhost:8080/"
        },
        "id": "yak6zb28vL8U",
        "outputId": "0c5c49aa-da2c-425c-e43c-50e695d3eb8e"
      },
      "outputs": [
        {
          "name": "stdout",
          "output_type": "stream",
          "text": [
            "La raíz cuadrada es: 3660.42\n"
          ]
        }
      ],
      "source": [
        "square_root = np.sqrt((salary_var_A + salary_var_B) / sample_size)\n",
        "print(\"La raíz cuadrada es:\", round(square_root, 2))\n"
      ]
    },
    {
      "cell_type": "markdown",
      "metadata": {
        "id": "ybRQ9v_QPrxE"
      },
      "source": [
        " **Cálculo parcial** del estadístico $z$ multiplicado por la raíz cuadrada de la fórmula"
      ]
    },
    {
      "cell_type": "code",
      "execution_count": 15,
      "metadata": {
        "colab": {
          "base_uri": "https://localhost:8080/"
        },
        "id": "fW1zP5AXIq9G",
        "outputId": "72d264fc-4e5c-4dfb-b987-783e24bb5643"
      },
      "outputs": [
        {
          "name": "stdout",
          "output_type": "stream",
          "text": [
            "Cálculo parcial del estadístico z multiplicado por la raíz cuadrada: 7174.29\n"
          ]
        }
      ],
      "source": [
        "z_multiplied_by_the_sqrt = z * square_root\n",
        "print(\n",
        "    \"Cálculo parcial del estadístico z multiplicado por la raíz cuadrada:\",\n",
        "    round(z_multiplied_by_the_sqrt, 2),\n",
        ")\n"
      ]
    },
    {
      "cell_type": "markdown",
      "metadata": {
        "id": "tFXY1TkzP46u"
      },
      "source": [
        "**Límite inferior**"
      ]
    },
    {
      "cell_type": "code",
      "execution_count": 16,
      "metadata": {
        "colab": {
          "base_uri": "https://localhost:8080/"
        },
        "id": "-tO1qzI9imt2",
        "outputId": "2794ca9d-0948-4eae-f8f0-10fe4c15625a"
      },
      "outputs": [
        {
          "name": "stdout",
          "output_type": "stream",
          "text": [
            "El límite inferior del intervalo de confianza es: 11080.92\n"
          ]
        }
      ],
      "source": [
        "lower_limit = (salary_mean_A - salary_mean_B) - z_multiplied_by_the_sqrt\n",
        "print(\"El límite inferior del intervalo de confianza es:\", round(lower_limit, 2))\n"
      ]
    },
    {
      "cell_type": "markdown",
      "metadata": {
        "id": "iR0FlSdKQGPX"
      },
      "source": [
        "**Límite superior**"
      ]
    },
    {
      "cell_type": "code",
      "execution_count": 17,
      "metadata": {
        "colab": {
          "base_uri": "https://localhost:8080/"
        },
        "id": "4a7iEJnEjNt3",
        "outputId": "ab2d2388-b93f-4598-d398-7c44822d593c"
      },
      "outputs": [
        {
          "name": "stdout",
          "output_type": "stream",
          "text": [
            "El límite superior del intervalo de confianza es: 25429.49\n"
          ]
        }
      ],
      "source": [
        "upper_limit = (salary_mean_A - salary_mean_B) + z_multiplied_by_the_sqrt\n",
        "print(\"El límite superior del intervalo de confianza es:\", round(upper_limit, 2))\n"
      ]
    },
    {
      "cell_type": "markdown",
      "metadata": {
        "id": "v1H6Mc0LQKNd"
      },
      "source": [
        "**Intervalo de confianza**"
      ]
    },
    {
      "cell_type": "code",
      "execution_count": 18,
      "metadata": {
        "colab": {
          "base_uri": "https://localhost:8080/"
        },
        "id": "9ruWU330jnF8",
        "outputId": "03f738f2-1a2b-4457-ad79-984a6a9646b2"
      },
      "outputs": [
        {
          "name": "stdout",
          "output_type": "stream",
          "text": [
            "El intervalo de confianza calculado es: (11080.92, 25429.49)\n"
          ]
        }
      ],
      "source": [
        "print(\n",
        "    f\"El intervalo de confianza calculado es: ({lower_limit.round(2)}, {upper_limit.round(2)})\"\n",
        ")\n"
      ]
    },
    {
      "cell_type": "markdown",
      "metadata": {
        "id": "5tiiyz9-MwCO"
      },
      "source": [
        "**Observación:**\n",
        "\n",
        "Con una confianza del 95%, la diferencia entre la media poblacional del salario neto de los hombres (grupo A) y la media poblacional del salario neto de los otros géneros (grupo B), $\\mu A - \\mu B$, se encuentra entre los límites del intervalo de confianza calculados.\n",
        "\n",
        "Dado que existe una alta confianza en que el intervalo construido contenga al verdadero valor de $\\mu A - \\mu B$, podríamos anticiparnos a determinar que sería rechazada la hipótesis nula que establece que las medias poblaciones son iguales en un Test de Hipótesis de diferencia de medias, puesto que el valor cero no se encuentra en dicho Intervalo de confianza, ni siquiera un valor cercano a cero."
      ]
    },
    {
      "cell_type": "markdown",
      "metadata": {
        "id": "YMhetS5jYBlW"
      },
      "source": [
        "---\n",
        "\n",
        "# Ejercicio 2: Test de hipótesis  \n",
        "\n",
        "## 2.1 Formalización  \n",
        "\n",
        "Describir formalmente los distintos componentes de un Test de Hipótesis para comprobar si la distribución de los salarios es distinta entre los grupos A y B.\n",
        "\n",
        "- Hipótesis Nula\n",
        "\n",
        "$H_{0}$=...\n",
        "\n",
        "-Estadístico (Pivote)\n",
        "\n",
        "- Identificar el estadístico  \n",
        "- Escribir qué distribución tiene bajo $H_{0}$ \n",
        "- Se desea determinar si la distribución de los salarios es distinta entre los grupos A y B\n",
        "\n",
        "## 2.2 $p-valor$   \n",
        "\n",
        "- Calcule el p-valor y decida si rechazar o no la hipótesis nula.  \n",
        "- Interprete el resultado.  \n",
        "\n",
        "\n",
        "Links útiles:  \n",
        "- Test de hipótesis usando `scipy`  \n",
        "- Test de Welch"
      ]
    },
    {
      "cell_type": "markdown",
      "metadata": {
        "id": "4leHNoy_Y5ig"
      },
      "source": [
        "## **Respuesta:**\n",
        "\n",
        "Ejercicio 2.1 Formalización\n",
        "\n",
        "Para comprobar si la distribución de los salarios es distinta entre los grupos A y B, con la diferencia de las medias muestrales si ésta se encuentra alejada de 0, concluiremos que las medias poblaciones diferentes, si se aproxima a 0, se concluye que las medias poblacionales podrían ser iguales..."
      ]
    },
    {
      "cell_type": "markdown",
      "metadata": {
        "id": "rUWyt4WWZBIH"
      },
      "source": [
        "- **Hipótesis nula:**\n",
        "$$H_{0}: \\mu A - \\mu B = 0$$\n",
        "\n",
        "- **Hipótesis alternativa:**\n",
        "$$H_{1}: \\mu A - \\mu B \\neq 0 $$"
      ]
    },
    {
      "cell_type": "markdown",
      "metadata": {
        "id": "cmLxYCqjcpH9"
      },
      "source": [
        "La prueba está basada en la diferencia entre (`salary_mean_A` - `salary_mean_B`).\n",
        "\n",
        "Debido a que ambos tamaños de muestra son grandes, haremos uso del **Teorema Central del Límite** para utilizar el estadístico $z$ con **Distribución Normal Estandarizada**."
      ]
    },
    {
      "cell_type": "markdown",
      "metadata": {
        "id": "uvf3Yh1060Kp"
      },
      "source": [
        "##**Respuesta:**\n",
        "Ejercicio 2.2: $p-value$"
      ]
    },
    {
      "cell_type": "markdown",
      "metadata": {
        "id": "fH2P33nTWWLl"
      },
      "source": [
        "Diferencia de las medias poblacionales bajo $H_{0}$:"
      ]
    },
    {
      "cell_type": "code",
      "execution_count": 19,
      "metadata": {
        "id": "TMycjV2ugSFi"
      },
      "outputs": [],
      "source": [
        "population_means_diff = 0\n"
      ]
    },
    {
      "cell_type": "markdown",
      "metadata": {
        "id": "bxl9IsETjHiO"
      },
      "source": [
        "**Construimos las regiones de aceptación y rechazo.**\n",
        "\n",
        "Elegimos un nivel de riesgo **$\\alpha$** igual a **0,05**, el cual indica la probabilidad de rechazar la hipótesis nula cuando ésta es verdadera.\n"
      ]
    },
    {
      "cell_type": "markdown",
      "metadata": {
        "id": "8SoFPXt9Yr8I"
      },
      "source": [
        "Cálculo de $z$ empleando los resultados obtenidos en el Ejercicio 1, como la diferencia de las medias muestrales de los grupos A y B, y la raíz cuadrada de la suma entre las varianzas muestrales divididas por el tamaño de las muestras"
      ]
    },
    {
      "cell_type": "code",
      "execution_count": 20,
      "metadata": {
        "colab": {
          "base_uri": "https://localhost:8080/"
        },
        "id": "gNrrgViJhKCP",
        "outputId": "628c79d3-3222-4799-a3b2-27eaeacaa4cd"
      },
      "outputs": [
        {
          "name": "stdout",
          "output_type": "stream",
          "text": [
            "El estadístico z calculado es: 4.99\n"
          ]
        }
      ],
      "source": [
        "z = (sample_means_diff - population_means_diff) / square_root\n",
        "print(\"El estadístico z calculado es:\", round(z, 2))\n"
      ]
    },
    {
      "cell_type": "markdown",
      "metadata": {
        "id": "_ywqiiXOh9eR"
      },
      "source": [
        "Buscamos el $p-value$ del puntaje $z$ obtenido"
      ]
    },
    {
      "cell_type": "code",
      "execution_count": 21,
      "metadata": {
        "colab": {
          "base_uri": "https://localhost:8080/"
        },
        "id": "O6HHyj1ziA6E",
        "outputId": "f8e09961-fd43-4f9d-ab84-d64329871fe2"
      },
      "outputs": [
        {
          "name": "stdout",
          "output_type": "stream",
          "text": [
            "⦁ El p-value del estadístico z calculado es: 0.00000061263270351486\n"
          ]
        }
      ],
      "source": [
        "# P-value para una prueba de dos colas\n",
        "p_value = scipy.stats.norm.sf(abs(z)) * 2\n",
        "print(f'⦁ El p-value del estadístico z calculado es: {\"{:.20f}\".format(p_value)}')\n"
      ]
    },
    {
      "cell_type": "markdown",
      "metadata": {
        "id": "sJQe4z9g87qp"
      },
      "source": [
        "**Observación:**\n",
        "\n",
        "Es notorio ver que hasta con un nivel de significancia bajo como por ejemplo $\\alpha = 0.01$, el $p-value$ es menor que éste, lo cual indica que no existe suficiente evidencia para aceptar la hipótesis nula. \n",
        "\n",
        "Por lo tanto, observando que $\\mu A - \\mu B \\neq 0 $, es decir, que las medias poblacionales difieren y en gran medida, podemos interpretar que las distribuciones de las subpoblaciones A y B son distintas."
      ]
    },
    {
      "cell_type": "markdown",
      "metadata": {
        "id": "K58Ly0Vk5PHQ"
      },
      "source": [
        "---\n",
        "## Análisis extra:\n",
        " \n",
        " Mismo test de hipótesis, pero con muestras de tamaño distintos"
      ]
    },
    {
      "cell_type": "markdown",
      "metadata": {
        "id": "2Hjxt0APbnqo"
      },
      "source": [
        "Elegimos **muestras de tamaños iguales** al 50% de cada subpoblación"
      ]
    },
    {
      "cell_type": "code",
      "execution_count": 22,
      "metadata": {
        "id": "8LunDSgubq6H"
      },
      "outputs": [],
      "source": [
        "a_sample_size = int(len(groupA) * 0.5)\n",
        "b_sample_size = int(len(groupB) * 0.5)\n",
        "\n",
        "men_df = df[(df.salary_monthly_NETO > 1000) & is_man]\n",
        "men_ma = men_df[\"salary_monthly_NETO\"].sample(n=a_sample_size)\n",
        "\n",
        "others_df = df[(df.salary_monthly_NETO > 1000) & ~is_man]\n",
        "others_ma = others_df[\"salary_monthly_NETO\"].sample(n=b_sample_size)\n"
      ]
    },
    {
      "cell_type": "markdown",
      "metadata": {
        "id": "cTZznp14btnh"
      },
      "source": [
        "**Medias muestrales** de cada grupo"
      ]
    },
    {
      "cell_type": "code",
      "execution_count": 23,
      "metadata": {
        "id": "kP5H3FNUbx-h"
      },
      "outputs": [],
      "source": [
        "salary_mean_A = men_ma.mean()\n",
        "salary_mean_B = others_ma.mean()\n"
      ]
    },
    {
      "cell_type": "markdown",
      "metadata": {
        "id": "oBAx8MXHbzDo"
      },
      "source": [
        "**Estimación puntual** de la diferencia de las medias muestrales de ambos grupos"
      ]
    },
    {
      "cell_type": "code",
      "execution_count": 24,
      "metadata": {
        "id": "qjI1hEIMb3nu"
      },
      "outputs": [],
      "source": [
        "sample_means_diff = salary_mean_A - salary_mean_B\n"
      ]
    },
    {
      "cell_type": "markdown",
      "metadata": {
        "id": "OzK6SSIbb4aY"
      },
      "source": [
        "Cálculo de las **varianzas muestrales** de ambos grupos"
      ]
    },
    {
      "cell_type": "code",
      "execution_count": 25,
      "metadata": {
        "id": "cWfNGvaNb7Cc"
      },
      "outputs": [],
      "source": [
        "salary_var_A = men_ma.var()\n",
        "salary_var_B = others_ma.var()\n"
      ]
    },
    {
      "cell_type": "markdown",
      "metadata": {
        "id": "bJaH17cpcB5J"
      },
      "source": [
        "**Raíz cuadrada** de la fórmula"
      ]
    },
    {
      "cell_type": "code",
      "execution_count": 26,
      "metadata": {
        "id": "gPjgRkTicEWo"
      },
      "outputs": [],
      "source": [
        "square_root = np.sqrt((salary_var_A + salary_var_B) / sample_size)\n"
      ]
    },
    {
      "cell_type": "markdown",
      "metadata": {
        "id": "V2nvXWxTcGO2"
      },
      "source": [
        "Diferencia de las medias poblacionales bajo $H_{0}$:"
      ]
    },
    {
      "cell_type": "code",
      "execution_count": 27,
      "metadata": {
        "id": "s8TJ-2gocJ48"
      },
      "outputs": [],
      "source": [
        "population_means_diff = 0\n"
      ]
    },
    {
      "cell_type": "markdown",
      "metadata": {
        "id": "N7MyKKUqcM1q"
      },
      "source": [
        "Cálculo del estadístico $z$"
      ]
    },
    {
      "cell_type": "code",
      "execution_count": 28,
      "metadata": {
        "colab": {
          "base_uri": "https://localhost:8080/"
        },
        "id": "MgC3UwJUcRoq",
        "outputId": "e92d3a3e-bc51-4c3c-bcba-4e1869b55e5f"
      },
      "outputs": [
        {
          "name": "stdout",
          "output_type": "stream",
          "text": [
            "⦁ El valor del estadístico z calculado es: 4.83\n"
          ]
        }
      ],
      "source": [
        "z = (sample_means_diff - population_means_diff) / square_root\n",
        "print(f\"⦁ El valor del estadístico z calculado es: {round(z, 2)}\")\n"
      ]
    },
    {
      "cell_type": "markdown",
      "metadata": {
        "id": "d2kvPL7WcThj"
      },
      "source": [
        "$p-value$ para una prueba de dos colas"
      ]
    },
    {
      "cell_type": "code",
      "execution_count": 29,
      "metadata": {
        "colab": {
          "base_uri": "https://localhost:8080/"
        },
        "id": "81ZiRdNn5PZj",
        "outputId": "422a74ef-7946-4944-d066-37a8a0e04fe7"
      },
      "outputs": [
        {
          "name": "stdout",
          "output_type": "stream",
          "text": [
            "⦁ El p-value del estadístico z calculado es: 0.00000133850799729028\n"
          ]
        }
      ],
      "source": [
        "p_value = scipy.stats.norm.sf(abs(z)) * 2\n",
        "print(f'⦁ El p-value del estadístico z calculado es: {\"{:.20f}\".format(p_value)}')\n"
      ]
    },
    {
      "cell_type": "markdown",
      "metadata": {
        "id": "uovqjWXx79z7"
      },
      "source": [
        "**Observación:**\n",
        "\n",
        "Dado que los valores de $z$ y $p-value$ calculados son muy aproximados en la comparación de muestras de igual tamaño para cada subpoblación contra una muestra basada en el 50% de dichas subpoblaciones (significativamente muy diferentes en tamaño), podemos concluir que el Test de Hipótesis no se ve afectado, ya que los resultados son muy similares.\n",
        "\n",
        "Consideramos que la diferencia manifestada puede estar relacionada con la aleatoriedad de las muestras."
      ]
    },
    {
      "cell_type": "markdown",
      "metadata": {
        "id": "BBUEoYqbfd2J"
      },
      "source": [
        "---\n",
        "**Conclusión:**\n",
        "- Con una confianza del 95%, la diferencia entre la media poblacional del salario neto de los hombres (grupo A) y la media poblacional del salario neto de los otros géneros (grupo B), $\\mu A - \\mu B$, se encuentra entre los límites del intervalo de confianza calculados. Dado que existe una **alta confianza** en que el intervalo construido contenga al verdadero valor de $\\mu A - \\mu B$, como anticipamos, la hipótesis nula es rechazada ya que establece que las medias poblaciones son iguales en un Test de Hipótesis de diferencia de medias, puesto que el valor cero no se encuentra en dicho Intervalo de confianza, ni siquiera un valor cercano a cero.\n",
        "\n",
        "- La prueba se basó en la diferencia entre (`salary_mean_A` - `salary_mean_B`).\n",
        "\n",
        "- Hicimos uso del **Teorema Central del Límite** para utilizar el estadístico $z$ con **Distribución Normal Estandarizada** ya que ambos tamaños de muestra eran grandes.\n",
        "\n",
        "- Elegimos un nivel de riesgo **$\\alpha$** igual a **0,05**, el cual indica la probabilidad de rechazar la hipótesis nula cuando ésta es verdadera.\n",
        "\n",
        "- Es notorio ver que hasta con un nivel de significancia bajo como por ejemplo $\\alpha = 0.01$, el $p-value$ es menor que éste, lo cual indica que no existe suficiente evidencia para aceptar la hipótesis nula. Por lo tanto, observando que $\\mu A - \\mu B \\neq 0 $, es decir, que las medias poblacionales difieren y en gran medida, podemos interpretar que las distribuciones de las subpoblaciones A y B son distintas.\n",
        "\n",
        "- Optamos por realizar una publicación por Twitter relacionado con la rentabilidad de ser programador para empresas de Buenos Aires vs con el Resto del país.\n",
        "\n",
        "- El link del tuit es el siguiente: \n",
        "[¿Ser programador para empresas de Buenos Aires, es más rentable que en el resto del país?](https://twitter.com/ErnestR03480144/status/1520776183423643649?s=20&t=tVw_1ogONydvOs1fBeocfA)\n",
        "\n",
        "- El **PDF** es el siguiente: [¿Ser programador para empresas de Buenos Aires, es más rentable que en el resto del país?](https://github.com/eleanarinaudo/Diplo2022_Grupo-5/blob/main/Reporte/AyV2022.pdf)\n",
        "\n"
      ]
    },
    {
      "cell_type": "markdown",
      "metadata": {
        "id": "7MQfrwS8yGqU"
      },
      "source": [
        "---\n",
        "\n",
        "# Ejercicio 3: Comunicación y visualización\n",
        "\n",
        "**Consigna:** Seleccionen un resultado que les parezca relevante a partir de alguno de los ejercicios del entregable. Diseñe e implemente una comunicación en base a este mensaje, en un archivo PDF.\n",
        "\n",
        "Elija las palabras y visualización más adecuada para que la comunicación sea entendible, efectiva y se dapte a UNA de las siguientes situaciones:\n",
        "\n",
        "1. Una sección en un artículo de difusión a presentar como parte de una organización sin fines de lucro.\n",
        "No más de 1 página A4 (o dos si los gráficos son muy grandes).\n",
        "  1. Ejemplo: Alguna de las secciones [Los ecosistemas de emprendimiento de América Latina y el Caribe frente al COVID-19: Impactos, necesidades y recomendaciones](https://publications.iadb.org/es/los-ecosistemas-de-emprendimiento-de-america-latina-y-el-caribe-frente-al-covid-19-impactos-necesidades-y-recomendaciones), por ejemplo la sección *2.2. Reacciones de los emprendedores*.\n",
        "  2. Ejemplo: Alguna de las secciones de [The state of gender pay gap in 2021](https://www.payscale.com/data/gender-pay-gap?tk=carousel-ps-rc-job)\n",
        "  3. Puntos clave: \n",
        "    1. Simpleza de los gráficos.\n",
        "    2. Comunicación en lenguaje simple a personas que no son necesariamente expertos de dominio.\n",
        "    2. Selección de UNA oración sobre la que se hace énfasis.\n",
        "    3. No es necesario que mencionen objetivos ni descripciones del conjunto de datos, se supone que eso ya estaría explicado en otras secciones del informe.\n",
        "\n",
        "2. Una publicación científica o reporte técnico interno. No más de una página A4:\n",
        "  2. Ejemplo: La sección de resultados de [IZA DP No. 12914: The Impact of a Minimum Wage Change on the Distribution of Wages and Household Income](https://www.iza.org/publications/dp/12914/the-impact-of-a-minimum-wage-change-on-the-distribution-of-wages-and-household-income).\n",
        "  2. Ejemplo: Alguna de las secciones de [Temporary reduction in daily global CO2 emissions during the COVID-19 forced confinement](https://www.nature.com/articles/s41558-020-0797-x)\n",
        "  3. Puntos clave:\n",
        "    3. Nivel de detalle técnico requerido. Es necesario justificar la validez del análisis.\n",
        "    4. La idea presentada puede ser más compleja. Pueden asumir que la audiencia tiene conocimiento técnico y va a analizar las visualizaciones en detalle. \n",
        "    5. Pueden presentar más en detalle las limitaciones del análisis (significancia estadística, etc.)\n",
        "    2. No es necesario que mencionen objetivos ni descripciones del conjunto de datos, se supone que eso ya estaría explicado en otras secciones del informe.\n",
        "\n",
        "3. Un tweet (o post de LinkedIn) para la cuenta de su empresa consultora que hace análisis de datos. El objetivo es promocionar un análisis de datos abiertos que van a incluir en su portfolio:\n",
        "  1. Ejemplo: [Comparación vacunas covid](https://twitter.com/infobeautiful/status/1381577746527236098?s=20)\n",
        "  2. Ejemplo: [Tweet del BID](https://twitter.com/el_BID/status/1388508583944507396?s=20). Lo valioso de este tweet es que usaron un único número para transmitir un mensaje. Puede ser algo así, o con un gráfico muy simple.\n",
        "  3. Ejemplo: [Cambio climático](https://twitter.com/UNFCCC/status/1387732156190011394?s=20) Es un muy buen ejemplo, excepto que el gráfico no se lee nada y hay que entrar a la publicación original.\n",
        "  3. Ejemplo: [¿Cuánto están los programadores en las empresas?](https://www.linkedin.com/posts/denis-rothman-0b034043_tech-career-work-activity-6793861923269054464-gS6y) (No verificamos la veracidad o seriedad de la fuente).\n",
        "  4. Puntos clave:\n",
        "    1. Su audiencia no va a mirar la visualización por más de unos segundos, y no tiene conocimiento técnico.\n",
        "  3. Tienen que incluir además una *breve* descripción de cómo obtuvieron los datos que están presentando, que no entraría en el tweet.\n"
      ]
    },
    {
      "cell_type": "markdown",
      "metadata": {
        "id": "M-8ucuwNd3XI"
      },
      "source": [
        "## **Respuesta:**\n",
        "\n",
        "Optamos por realizar una publicación por Twitter relacionado con la rentabilidad de ser programador para empresas de Buenos Aires vs con el Resto del país.\n",
        "\n",
        "- El link del tuit es el siguiente: \n",
        "[¿Ser programador para empresas de Buenos Aires, es más rentable que en el resto del país?](https://twitter.com/ErnestR03480144/status/1520776183423643649?s=20&t=tVw_1ogONydvOs1fBeocfA)\n",
        "\n",
        "- El **PDF** es el siguiente: [¿Ser programador para empresas de Buenos Aires, es más rentable que en el resto del país?](https://github.com/eleanarinaudo/Diplo2022_Grupo-5/blob/main/Reporte/AyV2022.pdf)\n"
      ]
    }
  ],
  "metadata": {
    "colab": {
      "collapsed_sections": [],
      "name": "AyVD_2.ipynb",
      "provenance": []
    },
    "kernelspec": {
      "display_name": "Python 3",
      "name": "python3"
    },
    "language_info": {
      "codemirror_mode": {
        "name": "ipython",
        "version": 3
      },
      "file_extension": ".py",
      "mimetype": "text/x-python",
      "name": "python",
      "nbconvert_exporter": "python",
      "pygments_lexer": "ipython3",
      "version": "3.9.7"
    }
  },
  "nbformat": 4,
  "nbformat_minor": 0
}
